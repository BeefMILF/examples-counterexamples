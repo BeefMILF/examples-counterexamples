{
 "cells": [
  {
   "cell_type": "code",
   "execution_count": 1,
   "metadata": {},
   "outputs": [],
   "source": [
    "import os\n",
    "import pandas as pd\n",
    "import numpy as np\n",
    "import seaborn as sns\n",
    "import scipy\n",
    "\n",
    "import sklearn"
   ]
  },
  {
   "cell_type": "markdown",
   "metadata": {},
   "source": [
    "### Metacritic game reviews\n",
    "\n",
    "Data from [kaggle dataset](https://www.kaggle.com/dahlia25/metacritic-video-game-comments)"
   ]
  },
  {
   "cell_type": "code",
   "execution_count": 2,
   "metadata": {},
   "outputs": [],
   "source": [
    "DATA_PATH = os.path.abspath('../data')\n",
    "metacritic_game_info_path = os.path.join(DATA_PATH, 'metacritic_game_info.csv')\n",
    "metacritic_game_comments_path = os.path.join(DATA_PATH, 'metacritic_game_user_comments.csv')"
   ]
  },
  {
   "cell_type": "code",
   "execution_count": 3,
   "metadata": {},
   "outputs": [],
   "source": [
    "if not os.path.exists(os.path.abspath(metacritic_game_info_path)):\n",
    "    !unzip ../data/metacritic-video-game-comments.zip -d ../data\n",
    "    !chmod +rwx ../data/*csv "
   ]
  },
  {
   "cell_type": "code",
   "execution_count": 4,
   "metadata": {},
   "outputs": [],
   "source": [
    "def clean_game_dfs(game_info_df, game_comments_df):\n",
    "    game_info_df = game_info_df[game_info_df['Metascore'] != 'not specified']\n",
    "    game_info_df = game_info_df[game_info_df['Avg_Userscore'] != 'not specified']\n",
    "    game_info_df = game_info_df[game_info_df['Avg_Userscore'] != 'tbd']\n",
    "    \n",
    "    for col in ['Metascore', 'Avg_Userscore', 'Year']:\n",
    "        game_info_df[col] = game_info_df[col].astype('float')\n",
    "    pc_game_info_df = game_info_df[game_info_df['Platform'] == 'PC']\n",
    "    pc_game_comments_df = game_comments_df[game_comments_df['Title'].isin(pc_game_info_df['Title'])]\n",
    "    return pc_game_info_df, pc_game_comments_df"
   ]
  },
  {
   "cell_type": "code",
   "execution_count": 5,
   "metadata": {},
   "outputs": [],
   "source": [
    "game_info_df = pd.read_csv(metacritic_game_info_path, index_col='Unnamed: 0')\n",
    "game_comments_df = pd.read_csv(metacritic_game_comments_path, index_col='Unnamed: 0')\n",
    "\n",
    "pc_game_info_df, pc_game_comments_df = clean_game_dfs(game_info_df, game_comments_df)"
   ]
  },
  {
   "cell_type": "code",
   "execution_count": 6,
   "metadata": {},
   "outputs": [
    {
     "data": {
      "text/html": [
       "<div>\n",
       "<style scoped>\n",
       "    .dataframe tbody tr th:only-of-type {\n",
       "        vertical-align: middle;\n",
       "    }\n",
       "\n",
       "    .dataframe tbody tr th {\n",
       "        vertical-align: top;\n",
       "    }\n",
       "\n",
       "    .dataframe thead th {\n",
       "        text-align: right;\n",
       "    }\n",
       "</style>\n",
       "<table border=\"1\" class=\"dataframe\">\n",
       "  <thead>\n",
       "    <tr style=\"text-align: right;\">\n",
       "      <th></th>\n",
       "      <th>Title</th>\n",
       "      <th>Year</th>\n",
       "      <th>Publisher</th>\n",
       "      <th>Genre</th>\n",
       "      <th>Platform</th>\n",
       "      <th>Metascore</th>\n",
       "      <th>Avg_Userscore</th>\n",
       "      <th>No_Players</th>\n",
       "    </tr>\n",
       "  </thead>\n",
       "  <tbody>\n",
       "    <tr>\n",
       "      <th>20</th>\n",
       "      <td>Half-Life 2</td>\n",
       "      <td>2004.0</td>\n",
       "      <td>ValveSoftware</td>\n",
       "      <td>Action;Shooter;Shooter;First-Person;Sci-Fi;Sci...</td>\n",
       "      <td>PC</td>\n",
       "      <td>96.0</td>\n",
       "      <td>9.1</td>\n",
       "      <td>No Online Multiplayer</td>\n",
       "    </tr>\n",
       "    <tr>\n",
       "      <th>21</th>\n",
       "      <td>Grand Theft Auto V</td>\n",
       "      <td>2015.0</td>\n",
       "      <td>RockstarNorth</td>\n",
       "      <td>Modern;Action Adventure;Open-World</td>\n",
       "      <td>PC</td>\n",
       "      <td>96.0</td>\n",
       "      <td>7.7</td>\n",
       "      <td>Up to 32</td>\n",
       "    </tr>\n",
       "    <tr>\n",
       "      <th>28</th>\n",
       "      <td>The Orange Box</td>\n",
       "      <td>2007.0</td>\n",
       "      <td>ValveSoftware</td>\n",
       "      <td>Action;Miscellaneous;Shooter;Compilation;First...</td>\n",
       "      <td>PC</td>\n",
       "      <td>96.0</td>\n",
       "      <td>9.2</td>\n",
       "      <td>16  Online</td>\n",
       "    </tr>\n",
       "    <tr>\n",
       "      <th>34</th>\n",
       "      <td>Half-Life</td>\n",
       "      <td>1998.0</td>\n",
       "      <td>ValveSoftware</td>\n",
       "      <td>Action;Shooter;Shooter;First-Person;Sci-Fi;Sci...</td>\n",
       "      <td>PC</td>\n",
       "      <td>96.0</td>\n",
       "      <td>9.1</td>\n",
       "      <td>1-32</td>\n",
       "    </tr>\n",
       "    <tr>\n",
       "      <th>38</th>\n",
       "      <td>BioShock</td>\n",
       "      <td>2007.0</td>\n",
       "      <td>IrrationalGames,2KMarin</td>\n",
       "      <td>Action;Shooter;Shooter;First-Person;Sci-Fi;Sci...</td>\n",
       "      <td>PC</td>\n",
       "      <td>96.0</td>\n",
       "      <td>8.5</td>\n",
       "      <td>No Online Multiplayer</td>\n",
       "    </tr>\n",
       "  </tbody>\n",
       "</table>\n",
       "</div>"
      ],
      "text/plain": [
       "                 Title    Year                Publisher  \\\n",
       "20         Half-Life 2  2004.0            ValveSoftware   \n",
       "21  Grand Theft Auto V  2015.0            RockstarNorth   \n",
       "28      The Orange Box  2007.0            ValveSoftware   \n",
       "34           Half-Life  1998.0            ValveSoftware   \n",
       "38            BioShock  2007.0  IrrationalGames,2KMarin   \n",
       "\n",
       "                                                Genre Platform  Metascore  \\\n",
       "20  Action;Shooter;Shooter;First-Person;Sci-Fi;Sci...       PC       96.0   \n",
       "21                 Modern;Action Adventure;Open-World       PC       96.0   \n",
       "28  Action;Miscellaneous;Shooter;Compilation;First...       PC       96.0   \n",
       "34  Action;Shooter;Shooter;First-Person;Sci-Fi;Sci...       PC       96.0   \n",
       "38  Action;Shooter;Shooter;First-Person;Sci-Fi;Sci...       PC       96.0   \n",
       "\n",
       "    Avg_Userscore             No_Players  \n",
       "20            9.1  No Online Multiplayer  \n",
       "21            7.7              Up to 32   \n",
       "28            9.2             16  Online  \n",
       "34            9.1                  1-32   \n",
       "38            8.5  No Online Multiplayer  "
      ]
     },
     "execution_count": 6,
     "metadata": {},
     "output_type": "execute_result"
    }
   ],
   "source": [
    "pc_game_info_df.head()"
   ]
  },
  {
   "cell_type": "code",
   "execution_count": 7,
   "metadata": {},
   "outputs": [
    {
     "data": {
      "text/plain": [
       "<matplotlib.axes._subplots.AxesSubplot at 0x7f0620fe1b70>"
      ]
     },
     "execution_count": 7,
     "metadata": {},
     "output_type": "execute_result"
    },
    {
     "data": {
      "image/png": "[encoded data removed]",
      "text/plain": [
       "<Figure size 432x288 with 1 Axes>"
      ]
     },
     "metadata": {
      "needs_background": "light"
     },
     "output_type": "display_data"
    }
   ],
   "source": [
    "pc_game_info_df['Genre'].str.split(\";\").apply(len).plot.hist()"
   ]
  },
  {
   "cell_type": "code",
   "execution_count": 8,
   "metadata": {},
   "outputs": [
    {
     "name": "stdout",
     "output_type": "stream",
     "text": [
      "<class 'pandas.core.frame.DataFrame'>\n",
      "Int64Index: 1368 entries, 20 to 4995\n",
      "Data columns (total 8 columns):\n",
      "Title            1368 non-null object\n",
      "Year             1368 non-null float64\n",
      "Publisher        1368 non-null object\n",
      "Genre            1368 non-null object\n",
      "Platform         1368 non-null object\n",
      "Metascore        1368 non-null float64\n",
      "Avg_Userscore    1368 non-null float64\n",
      "No_Players       1367 non-null object\n",
      "dtypes: float64(3), object(5)\n",
      "memory usage: 96.2+ KB\n"
     ]
    }
   ],
   "source": [
    "pc_game_info_df.info()"
   ]
  },
  {
   "cell_type": "code",
   "execution_count": 9,
   "metadata": {},
   "outputs": [
    {
     "data": {
      "text/plain": [
       "(187517, 5)"
      ]
     },
     "execution_count": 9,
     "metadata": {},
     "output_type": "execute_result"
    }
   ],
   "source": [
    "pc_game_comments_df.shape"
   ]
  },
  {
   "cell_type": "markdown",
   "metadata": {},
   "source": [
    "## Correlation between user and metascore"
   ]
  },
  {
   "cell_type": "code",
   "execution_count": 10,
   "metadata": {},
   "outputs": [
    {
     "data": {
      "text/plain": [
       "0.21381816860581535"
      ]
     },
     "execution_count": 10,
     "metadata": {},
     "output_type": "execute_result"
    }
   ],
   "source": [
    "np.corrcoef(pc_game_info_df['Avg_Userscore'], pc_game_info_df['Metascore'])[0,1]"
   ]
  },
  {
   "cell_type": "markdown",
   "metadata": {},
   "source": [
    "### Spearman rank correlation coefficient"
   ]
  },
  {
   "cell_type": "code",
   "execution_count": 11,
   "metadata": {},
   "outputs": [
    {
     "data": {
      "text/plain": [
       "SpearmanrResult(correlation=0.2678004214955681, pvalue=6.729732567969086e-24)"
      ]
     },
     "execution_count": 11,
     "metadata": {},
     "output_type": "execute_result"
    }
   ],
   "source": [
    "scipy.stats.spearmanr(pc_game_info_df['Avg_Userscore'], pc_game_info_df['Metascore'])"
   ]
  },
  {
   "cell_type": "markdown",
   "metadata": {},
   "source": [
    "### Average user vs metascore"
   ]
  },
  {
   "cell_type": "code",
   "execution_count": 12,
   "metadata": {},
   "outputs": [
    {
     "data": {
      "image/png": "[encoded data removed]",
      "text/plain": [
       "<Figure size 360x360 with 6 Axes>"
      ]
     },
     "metadata": {
      "needs_background": "light"
     },
     "output_type": "display_data"
    }
   ],
   "source": [
    "sns.pairplot(pc_game_info_df[['Avg_Userscore', 'Metascore']]);"
   ]
  }
 ],
 "metadata": {
  "kernelspec": {
   "display_name": "Python 3",
   "language": "python",
   "name": "python3"
  },
  "language_info": {
   "codemirror_mode": {
    "name": "ipython",
    "version": 3
   },
   "file_extension": ".py",
   "mimetype": "text/x-python",
   "name": "python",
   "nbconvert_exporter": "python",
   "pygments_lexer": "ipython3",
   "version": "3.7.3"
  }
 },
 "nbformat": 4,
 "nbformat_minor": 2
}
