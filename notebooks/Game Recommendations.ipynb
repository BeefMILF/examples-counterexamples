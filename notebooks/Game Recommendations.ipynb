{
 "cells": [
  {
   "cell_type": "code",
   "execution_count": 1,
   "metadata": {},
   "outputs": [
    {
     "name": "stderr",
     "output_type": "stream",
     "text": [
      "/opt/anaconda3/envs/nnets/lib/python3.7/site-packages/smart_open/ssh.py:34: UserWarning: paramiko missing, opening SSH/SCP/SFTP paths will be disabled.  `pip install paramiko` to suppress\n",
      "  warnings.warn('paramiko missing, opening SSH/SCP/SFTP paths will be disabled.  `pip install paramiko` to suppress')\n",
      "WARNING:root:tensorflow or tensorflow-hub not found, loading tfhub models won't work\n"
     ]
    }
   ],
   "source": [
    "import os\n",
    "import pandas as pd\n",
    "import numpy as np\n",
    "import seaborn as sns\n",
    "import scipy\n",
    "\n",
    "import sklearn\n",
    "from sklearn.ensemble import RandomForestClassifier\n",
    "import scikitplot\n",
    "\n",
    "import matplotlib.pyplot as plt\n",
    "%matplotlib inline\n",
    "\n",
    "import mlutil"
   ]
  },
  {
   "cell_type": "code",
   "execution_count": 2,
   "metadata": {},
   "outputs": [
    {
     "name": "stdout",
     "output_type": "stream",
     "text": [
      "File ‘../data/steam_reviews.csv’ already there; not retrieving.\r\n"
     ]
    }
   ],
   "source": [
    "!wget -nc https://query.data.world/s/plpwlqfrn2xqis5wvpnd6uucus76dq -O ../data/steam_reviews.csv"
   ]
  },
  {
   "cell_type": "markdown",
   "metadata": {},
   "source": [
    "### Metacritic game reviews\n",
    "\n",
    "Data from [kaggle dataset](https://www.kaggle.com/dahlia25/metacritic-video-game-comments)"
   ]
  },
  {
   "cell_type": "code",
   "execution_count": 3,
   "metadata": {},
   "outputs": [],
   "source": [
    "DATA_PATH = os.path.abspath('../data')\n",
    "metacritic_game_info_path = os.path.join(DATA_PATH, 'metacritic_game_info.csv')\n",
    "metacritic_game_comments_path = os.path.join(DATA_PATH, 'metacritic_game_user_comments.csv')\n",
    "steam_review_path = os.path.join(DATA_PATH, 'steam_reviews.csv')"
   ]
  },
  {
   "cell_type": "code",
   "execution_count": 4,
   "metadata": {},
   "outputs": [],
   "source": [
    "if not os.path.exists(os.path.abspath(metacritic_game_info_path)):\n",
    "    !unzip ../data/metacritic-video-game-comments.zip -d ../data\n",
    "    !chmod +rwx ../data/*csv "
   ]
  },
  {
   "cell_type": "code",
   "execution_count": 5,
   "metadata": {},
   "outputs": [],
   "source": [
    "def clean_game_dfs(game_info_df, game_comments_df):\n",
    "    game_info_df = game_info_df[game_info_df['Metascore'] != 'not specified']\n",
    "    game_info_df = game_info_df[game_info_df['Avg_Userscore'] != 'not specified']\n",
    "    game_info_df = game_info_df[game_info_df['Avg_Userscore'] != 'tbd']\n",
    "    \n",
    "    for col in ['Metascore', 'Avg_Userscore', 'Year']:\n",
    "        game_info_df[col] = game_info_df[col].astype('float')\n",
    "    pc_game_info_df = game_info_df[game_info_df['Platform'] == 'PC']\n",
    "    pc_game_comments_df = game_comments_df[game_comments_df['Title'].isin(pc_game_info_df['Title'])]\n",
    "    return pc_game_info_df, pc_game_comments_df"
   ]
  },
  {
   "cell_type": "code",
   "execution_count": 6,
   "metadata": {},
   "outputs": [],
   "source": [
    "game_info_df = pd.read_csv(metacritic_game_info_path, index_col='Unnamed: 0')\n",
    "game_comments_df = pd.read_csv(metacritic_game_comments_path, index_col='Unnamed: 0')\n",
    "\n",
    "pc_game_info_df, pc_game_comments_df = clean_game_dfs(game_info_df, game_comments_df)"
   ]
  },
  {
   "cell_type": "code",
   "execution_count": 7,
   "metadata": {},
   "outputs": [
    {
     "data": {
      "text/html": [
       "<div>\n",
       "<style scoped>\n",
       "    .dataframe tbody tr th:only-of-type {\n",
       "        vertical-align: middle;\n",
       "    }\n",
       "\n",
       "    .dataframe tbody tr th {\n",
       "        vertical-align: top;\n",
       "    }\n",
       "\n",
       "    .dataframe thead th {\n",
       "        text-align: right;\n",
       "    }\n",
       "</style>\n",
       "<table border=\"1\" class=\"dataframe\">\n",
       "  <thead>\n",
       "    <tr style=\"text-align: right;\">\n",
       "      <th></th>\n",
       "      <th>Title</th>\n",
       "      <th>Year</th>\n",
       "      <th>Publisher</th>\n",
       "      <th>Genre</th>\n",
       "      <th>Platform</th>\n",
       "      <th>Metascore</th>\n",
       "      <th>Avg_Userscore</th>\n",
       "      <th>No_Players</th>\n",
       "    </tr>\n",
       "  </thead>\n",
       "  <tbody>\n",
       "    <tr>\n",
       "      <th>20</th>\n",
       "      <td>Half-Life 2</td>\n",
       "      <td>2004.0</td>\n",
       "      <td>ValveSoftware</td>\n",
       "      <td>Action;Shooter;Shooter;First-Person;Sci-Fi;Sci...</td>\n",
       "      <td>PC</td>\n",
       "      <td>96.0</td>\n",
       "      <td>9.1</td>\n",
       "      <td>No Online Multiplayer</td>\n",
       "    </tr>\n",
       "    <tr>\n",
       "      <th>21</th>\n",
       "      <td>Grand Theft Auto V</td>\n",
       "      <td>2015.0</td>\n",
       "      <td>RockstarNorth</td>\n",
       "      <td>Modern;Action Adventure;Open-World</td>\n",
       "      <td>PC</td>\n",
       "      <td>96.0</td>\n",
       "      <td>7.7</td>\n",
       "      <td>Up to 32</td>\n",
       "    </tr>\n",
       "    <tr>\n",
       "      <th>28</th>\n",
       "      <td>The Orange Box</td>\n",
       "      <td>2007.0</td>\n",
       "      <td>ValveSoftware</td>\n",
       "      <td>Action;Miscellaneous;Shooter;Compilation;First...</td>\n",
       "      <td>PC</td>\n",
       "      <td>96.0</td>\n",
       "      <td>9.2</td>\n",
       "      <td>16  Online</td>\n",
       "    </tr>\n",
       "    <tr>\n",
       "      <th>34</th>\n",
       "      <td>Half-Life</td>\n",
       "      <td>1998.0</td>\n",
       "      <td>ValveSoftware</td>\n",
       "      <td>Action;Shooter;Shooter;First-Person;Sci-Fi;Sci...</td>\n",
       "      <td>PC</td>\n",
       "      <td>96.0</td>\n",
       "      <td>9.1</td>\n",
       "      <td>1-32</td>\n",
       "    </tr>\n",
       "    <tr>\n",
       "      <th>38</th>\n",
       "      <td>BioShock</td>\n",
       "      <td>2007.0</td>\n",
       "      <td>IrrationalGames,2KMarin</td>\n",
       "      <td>Action;Shooter;Shooter;First-Person;Sci-Fi;Sci...</td>\n",
       "      <td>PC</td>\n",
       "      <td>96.0</td>\n",
       "      <td>8.5</td>\n",
       "      <td>No Online Multiplayer</td>\n",
       "    </tr>\n",
       "  </tbody>\n",
       "</table>\n",
       "</div>"
      ],
      "text/plain": [
       "                 Title    Year                Publisher  \\\n",
       "20         Half-Life 2  2004.0            ValveSoftware   \n",
       "21  Grand Theft Auto V  2015.0            RockstarNorth   \n",
       "28      The Orange Box  2007.0            ValveSoftware   \n",
       "34           Half-Life  1998.0            ValveSoftware   \n",
       "38            BioShock  2007.0  IrrationalGames,2KMarin   \n",
       "\n",
       "                                                Genre Platform  Metascore  \\\n",
       "20  Action;Shooter;Shooter;First-Person;Sci-Fi;Sci...       PC       96.0   \n",
       "21                 Modern;Action Adventure;Open-World       PC       96.0   \n",
       "28  Action;Miscellaneous;Shooter;Compilation;First...       PC       96.0   \n",
       "34  Action;Shooter;Shooter;First-Person;Sci-Fi;Sci...       PC       96.0   \n",
       "38  Action;Shooter;Shooter;First-Person;Sci-Fi;Sci...       PC       96.0   \n",
       "\n",
       "    Avg_Userscore             No_Players  \n",
       "20            9.1  No Online Multiplayer  \n",
       "21            7.7              Up to 32   \n",
       "28            9.2             16  Online  \n",
       "34            9.1                  1-32   \n",
       "38            8.5  No Online Multiplayer  "
      ]
     },
     "execution_count": 7,
     "metadata": {},
     "output_type": "execute_result"
    }
   ],
   "source": [
    "pc_game_info_df.head()"
   ]
  },
  {
   "cell_type": "code",
   "execution_count": 8,
   "metadata": {},
   "outputs": [
    {
     "data": {
      "text/plain": [
       "<matplotlib.axes._subplots.AxesSubplot at 0x7f10e5579a58>"
      ]
     },
     "execution_count": 8,
     "metadata": {},
     "output_type": "execute_result"
    },
    {
     "data": {
      "image/png": "[encoded data removed]",
      "text/plain": [
       "<Figure size 432x288 with 1 Axes>"
      ]
     },
     "metadata": {
      "needs_background": "light"
     },
     "output_type": "display_data"
    }
   ],
   "source": [
    "pc_game_info_df['Genre'].str.split(\";\").apply(len).plot.hist()"
   ]
  },
  {
   "cell_type": "code",
   "execution_count": 9,
   "metadata": {
    "scrolled": true
   },
   "outputs": [
    {
     "name": "stdout",
     "output_type": "stream",
     "text": [
      "<class 'pandas.core.frame.DataFrame'>\n",
      "Int64Index: 1368 entries, 20 to 4995\n",
      "Data columns (total 8 columns):\n",
      "Title            1368 non-null object\n",
      "Year             1368 non-null float64\n",
      "Publisher        1368 non-null object\n",
      "Genre            1368 non-null object\n",
      "Platform         1368 non-null object\n",
      "Metascore        1368 non-null float64\n",
      "Avg_Userscore    1368 non-null float64\n",
      "No_Players       1367 non-null object\n",
      "dtypes: float64(3), object(5)\n",
      "memory usage: 96.2+ KB\n"
     ]
    }
   ],
   "source": [
    "pc_game_info_df.info()"
   ]
  },
  {
   "cell_type": "code",
   "execution_count": 10,
   "metadata": {},
   "outputs": [
    {
     "data": {
      "text/plain": [
       "(187517, 5)"
      ]
     },
     "execution_count": 10,
     "metadata": {},
     "output_type": "execute_result"
    }
   ],
   "source": [
    "pc_game_comments_df.shape"
   ]
  },
  {
   "cell_type": "markdown",
   "metadata": {},
   "source": [
    "## Correlation between user and metascore"
   ]
  },
  {
   "cell_type": "code",
   "execution_count": 11,
   "metadata": {},
   "outputs": [
    {
     "data": {
      "text/plain": [
       "0.21381816860581535"
      ]
     },
     "execution_count": 11,
     "metadata": {},
     "output_type": "execute_result"
    }
   ],
   "source": [
    "np.corrcoef(pc_game_info_df['Avg_Userscore'], pc_game_info_df['Metascore'])[0,1]"
   ]
  },
  {
   "cell_type": "markdown",
   "metadata": {},
   "source": [
    "### Spearman rank correlation coefficient"
   ]
  },
  {
   "cell_type": "code",
   "execution_count": 12,
   "metadata": {},
   "outputs": [
    {
     "data": {
      "text/plain": [
       "SpearmanrResult(correlation=0.2678004214955681, pvalue=6.729732567969086e-24)"
      ]
     },
     "execution_count": 12,
     "metadata": {},
     "output_type": "execute_result"
    }
   ],
   "source": [
    "scipy.stats.spearmanr(pc_game_info_df['Avg_Userscore'], pc_game_info_df['Metascore'])"
   ]
  },
  {
   "cell_type": "markdown",
   "metadata": {},
   "source": [
    "### Average user vs metascore"
   ]
  },
  {
   "cell_type": "code",
   "execution_count": 13,
   "metadata": {},
   "outputs": [
    {
     "data": {
      "image/png": "[encoded data removed]",
      "text/plain": [
       "<Figure size 360x360 with 6 Axes>"
      ]
     },
     "metadata": {
      "needs_background": "light"
     },
     "output_type": "display_data"
    }
   ],
   "source": [
    "sns.pairplot(pc_game_info_df[['Avg_Userscore', 'Metascore']]);"
   ]
  },
  {
   "cell_type": "markdown",
   "metadata": {},
   "source": [
    "# Steam reviews"
   ]
  },
  {
   "cell_type": "code",
   "execution_count": 14,
   "metadata": {},
   "outputs": [],
   "source": [
    "steam_reviews_df = pd.read_csv(steam_review_path)\n",
    "genre_columns = [col for col in steam_reviews_df if 'Genre' in col]"
   ]
  },
  {
   "cell_type": "code",
   "execution_count": 15,
   "metadata": {},
   "outputs": [
    {
     "name": "stdout",
     "output_type": "stream",
     "text": [
      "<class 'pandas.core.frame.DataFrame'>\n",
      "RangeIndex: 13357 entries, 0 to 13356\n",
      "Data columns (total 78 columns):\n",
      "QueryID                        13357 non-null int64\n",
      "ResponseID                     13357 non-null int64\n",
      "QueryName                      13356 non-null object\n",
      "ResponseName                   13357 non-null object\n",
      "ReleaseDate                    13357 non-null object\n",
      "RequiredAge                    13357 non-null int64\n",
      "DemoCount                      13357 non-null int64\n",
      "DeveloperCount                 13357 non-null int64\n",
      "DLCCount                       13357 non-null int64\n",
      "Metacritic                     13357 non-null int64\n",
      "MovieCount                     13357 non-null int64\n",
      "PackageCount                   13357 non-null int64\n",
      "RecommendationCount            13357 non-null int64\n",
      "PublisherCount                 13357 non-null int64\n",
      "ScreenshotCount                13357 non-null int64\n",
      "SteamSpyOwners                 13357 non-null int64\n",
      "SteamSpyOwnersVariance         13357 non-null int64\n",
      "SteamSpyPlayersEstimate        13357 non-null int64\n",
      "SteamSpyPlayersVariance        13357 non-null int64\n",
      "AchievementCount               13357 non-null int64\n",
      "AchievementHighlightedCount    13357 non-null int64\n",
      "ControllerSupport              13357 non-null bool\n",
      "IsFree                         13357 non-null bool\n",
      "FreeVerAvail                   13357 non-null bool\n",
      "PurchaseAvail                  13357 non-null bool\n",
      "SubscriptionAvail              13357 non-null bool\n",
      "PlatformWindows                13357 non-null bool\n",
      "PlatformLinux                  13357 non-null bool\n",
      "PlatformMac                    13357 non-null bool\n",
      "PCReqsHaveMin                  13357 non-null bool\n",
      "PCReqsHaveRec                  13357 non-null bool\n",
      "LinuxReqsHaveMin               13357 non-null bool\n",
      "LinuxReqsHaveRec               13357 non-null bool\n",
      "MacReqsHaveMin                 13357 non-null bool\n",
      "MacReqsHaveRec                 13357 non-null bool\n",
      "CategorySinglePlayer           13357 non-null bool\n",
      "CategoryMultiplayer            13357 non-null bool\n",
      "CategoryCoop                   13357 non-null bool\n",
      "CategoryMMO                    13357 non-null bool\n",
      "CategoryInAppPurchase          13357 non-null bool\n",
      "CategoryIncludeSrcSDK          13357 non-null bool\n",
      "CategoryIncludeLevelEditor     13357 non-null bool\n",
      "CategoryVRSupport              13357 non-null bool\n",
      "GenreIsNonGame                 13357 non-null bool\n",
      "GenreIsIndie                   13357 non-null bool\n",
      "GenreIsAction                  13357 non-null bool\n",
      "GenreIsAdventure               13357 non-null bool\n",
      "GenreIsCasual                  13357 non-null bool\n",
      "GenreIsStrategy                13357 non-null bool\n",
      "GenreIsRPG                     13357 non-null bool\n",
      "GenreIsSimulation              13357 non-null bool\n",
      "GenreIsEarlyAccess             13357 non-null bool\n",
      "GenreIsFreeToPlay              13357 non-null bool\n",
      "GenreIsSports                  13357 non-null bool\n",
      "GenreIsRacing                  13357 non-null bool\n",
      "GenreIsMassivelyMultiplayer    13357 non-null bool\n",
      "PriceCurrency                  13357 non-null object\n",
      "PriceInitial                   13357 non-null float64\n",
      "PriceFinal                     13357 non-null float64\n",
      "SupportEmail                   13355 non-null object\n",
      "SupportURL                     13356 non-null object\n",
      "AboutText                      13357 non-null object\n",
      "Background                     13357 non-null object\n",
      "ShortDescrip                   13357 non-null object\n",
      "DetailedDescrip                13357 non-null object\n",
      "DRMNotice                      13357 non-null object\n",
      "ExtUserAcctNotice              13357 non-null object\n",
      "HeaderImage                    13357 non-null object\n",
      "LegalNotice                    13356 non-null object\n",
      "Reviews                        13357 non-null object\n",
      "SupportedLanguages             13357 non-null object\n",
      "Website                        13357 non-null object\n",
      "PCMinReqsText                  13357 non-null object\n",
      "PCRecReqsText                  13357 non-null object\n",
      "LinuxMinReqsText               13357 non-null object\n",
      "LinuxRecReqsText               13357 non-null object\n",
      "MacMinReqsText                 13357 non-null object\n",
      "MacRecReqsText                 13357 non-null object\n",
      "dtypes: bool(35), float64(2), int64(18), object(23)\n",
      "memory usage: 4.8+ MB\n"
     ]
    }
   ],
   "source": [
    "steam_reviews_df.info()"
   ]
  },
  {
   "cell_type": "code",
   "execution_count": 16,
   "metadata": {},
   "outputs": [
    {
     "data": {
      "text/html": [
       "<div>\n",
       "<style scoped>\n",
       "    .dataframe tbody tr th:only-of-type {\n",
       "        vertical-align: middle;\n",
       "    }\n",
       "\n",
       "    .dataframe tbody tr th {\n",
       "        vertical-align: top;\n",
       "    }\n",
       "\n",
       "    .dataframe thead th {\n",
       "        text-align: right;\n",
       "    }\n",
       "</style>\n",
       "<table border=\"1\" class=\"dataframe\">\n",
       "  <thead>\n",
       "    <tr style=\"text-align: right;\">\n",
       "      <th></th>\n",
       "      <th>QueryID</th>\n",
       "      <th>ResponseID</th>\n",
       "      <th>RequiredAge</th>\n",
       "      <th>DemoCount</th>\n",
       "      <th>DeveloperCount</th>\n",
       "      <th>DLCCount</th>\n",
       "      <th>Metacritic</th>\n",
       "      <th>MovieCount</th>\n",
       "      <th>PackageCount</th>\n",
       "      <th>RecommendationCount</th>\n",
       "      <th>PublisherCount</th>\n",
       "      <th>ScreenshotCount</th>\n",
       "      <th>SteamSpyOwners</th>\n",
       "      <th>SteamSpyOwnersVariance</th>\n",
       "      <th>SteamSpyPlayersEstimate</th>\n",
       "      <th>SteamSpyPlayersVariance</th>\n",
       "      <th>AchievementCount</th>\n",
       "      <th>AchievementHighlightedCount</th>\n",
       "      <th>PriceInitial</th>\n",
       "      <th>PriceFinal</th>\n",
       "    </tr>\n",
       "  </thead>\n",
       "  <tbody>\n",
       "    <tr>\n",
       "      <th>count</th>\n",
       "      <td>13357.000000</td>\n",
       "      <td>13357.000000</td>\n",
       "      <td>13357.000000</td>\n",
       "      <td>13357.000000</td>\n",
       "      <td>13357.000000</td>\n",
       "      <td>13357.000000</td>\n",
       "      <td>13357.000000</td>\n",
       "      <td>13357.000000</td>\n",
       "      <td>13357.000000</td>\n",
       "      <td>1.335700e+04</td>\n",
       "      <td>13357.000000</td>\n",
       "      <td>13357.000000</td>\n",
       "      <td>1.335700e+04</td>\n",
       "      <td>13357.000000</td>\n",
       "      <td>1.335700e+04</td>\n",
       "      <td>13357.000000</td>\n",
       "      <td>13357.000000</td>\n",
       "      <td>13357.000000</td>\n",
       "      <td>13357.000000</td>\n",
       "      <td>13357.000000</td>\n",
       "    </tr>\n",
       "    <tr>\n",
       "      <th>mean</th>\n",
       "      <td>353637.916149</td>\n",
       "      <td>353471.814030</td>\n",
       "      <td>0.837688</td>\n",
       "      <td>0.089541</td>\n",
       "      <td>1.032492</td>\n",
       "      <td>0.805944</td>\n",
       "      <td>12.285319</td>\n",
       "      <td>1.321255</td>\n",
       "      <td>1.088418</td>\n",
       "      <td>1.180463e+03</td>\n",
       "      <td>0.989668</td>\n",
       "      <td>9.561204</td>\n",
       "      <td>1.668493e+05</td>\n",
       "      <td>5486.408550</td>\n",
       "      <td>1.081638e+05</td>\n",
       "      <td>4082.329490</td>\n",
       "      <td>14.434678</td>\n",
       "      <td>4.170098</td>\n",
       "      <td>9.155717</td>\n",
       "      <td>8.798596</td>\n",
       "    </tr>\n",
       "    <tr>\n",
       "      <th>std</th>\n",
       "      <td>146988.380337</td>\n",
       "      <td>147085.351999</td>\n",
       "      <td>3.625701</td>\n",
       "      <td>0.286058</td>\n",
       "      <td>0.437113</td>\n",
       "      <td>10.034901</td>\n",
       "      <td>27.510876</td>\n",
       "      <td>1.178400</td>\n",
       "      <td>0.855219</td>\n",
       "      <td>1.517606e+04</td>\n",
       "      <td>0.336972</td>\n",
       "      <td>6.442893</td>\n",
       "      <td>1.127122e+06</td>\n",
       "      <td>9044.093874</td>\n",
       "      <td>1.006635e+06</td>\n",
       "      <td>7454.869744</td>\n",
       "      <td>41.467021</td>\n",
       "      <td>4.831106</td>\n",
       "      <td>14.345029</td>\n",
       "      <td>13.606061</td>\n",
       "    </tr>\n",
       "    <tr>\n",
       "      <th>min</th>\n",
       "      <td>10.000000</td>\n",
       "      <td>10.000000</td>\n",
       "      <td>0.000000</td>\n",
       "      <td>0.000000</td>\n",
       "      <td>0.000000</td>\n",
       "      <td>0.000000</td>\n",
       "      <td>0.000000</td>\n",
       "      <td>0.000000</td>\n",
       "      <td>0.000000</td>\n",
       "      <td>0.000000e+00</td>\n",
       "      <td>0.000000</td>\n",
       "      <td>0.000000</td>\n",
       "      <td>0.000000e+00</td>\n",
       "      <td>0.000000</td>\n",
       "      <td>0.000000e+00</td>\n",
       "      <td>0.000000</td>\n",
       "      <td>0.000000</td>\n",
       "      <td>0.000000</td>\n",
       "      <td>0.000000</td>\n",
       "      <td>0.000000</td>\n",
       "    </tr>\n",
       "    <tr>\n",
       "      <th>25%</th>\n",
       "      <td>282860.000000</td>\n",
       "      <td>282640.000000</td>\n",
       "      <td>0.000000</td>\n",
       "      <td>0.000000</td>\n",
       "      <td>1.000000</td>\n",
       "      <td>0.000000</td>\n",
       "      <td>0.000000</td>\n",
       "      <td>1.000000</td>\n",
       "      <td>1.000000</td>\n",
       "      <td>0.000000e+00</td>\n",
       "      <td>1.000000</td>\n",
       "      <td>6.000000</td>\n",
       "      <td>8.970000e+02</td>\n",
       "      <td>906.000000</td>\n",
       "      <td>5.370000e+02</td>\n",
       "      <td>745.000000</td>\n",
       "      <td>0.000000</td>\n",
       "      <td>0.000000</td>\n",
       "      <td>1.990000</td>\n",
       "      <td>1.990000</td>\n",
       "    </tr>\n",
       "    <tr>\n",
       "      <th>50%</th>\n",
       "      <td>374040.000000</td>\n",
       "      <td>373870.000000</td>\n",
       "      <td>0.000000</td>\n",
       "      <td>0.000000</td>\n",
       "      <td>1.000000</td>\n",
       "      <td>0.000000</td>\n",
       "      <td>0.000000</td>\n",
       "      <td>1.000000</td>\n",
       "      <td>1.000000</td>\n",
       "      <td>0.000000e+00</td>\n",
       "      <td>1.000000</td>\n",
       "      <td>8.000000</td>\n",
       "      <td>9.506000e+03</td>\n",
       "      <td>2551.000000</td>\n",
       "      <td>4.125000e+03</td>\n",
       "      <td>1717.000000</td>\n",
       "      <td>0.000000</td>\n",
       "      <td>0.000000</td>\n",
       "      <td>5.990000</td>\n",
       "      <td>5.990000</td>\n",
       "    </tr>\n",
       "    <tr>\n",
       "      <th>75%</th>\n",
       "      <td>465920.000000</td>\n",
       "      <td>465860.000000</td>\n",
       "      <td>0.000000</td>\n",
       "      <td>0.000000</td>\n",
       "      <td>1.000000</td>\n",
       "      <td>0.000000</td>\n",
       "      <td>0.000000</td>\n",
       "      <td>2.000000</td>\n",
       "      <td>1.000000</td>\n",
       "      <td>2.430000e+02</td>\n",
       "      <td>1.000000</td>\n",
       "      <td>12.000000</td>\n",
       "      <td>6.044100e+04</td>\n",
       "      <td>6434.000000</td>\n",
       "      <td>2.815800e+04</td>\n",
       "      <td>4392.000000</td>\n",
       "      <td>20.000000</td>\n",
       "      <td>10.000000</td>\n",
       "      <td>9.990000</td>\n",
       "      <td>9.990000</td>\n",
       "    </tr>\n",
       "    <tr>\n",
       "      <th>max</th>\n",
       "      <td>568150.000000</td>\n",
       "      <td>568150.000000</td>\n",
       "      <td>18.000000</td>\n",
       "      <td>2.000000</td>\n",
       "      <td>12.000000</td>\n",
       "      <td>630.000000</td>\n",
       "      <td>96.000000</td>\n",
       "      <td>20.000000</td>\n",
       "      <td>18.000000</td>\n",
       "      <td>1.427633e+06</td>\n",
       "      <td>4.000000</td>\n",
       "      <td>114.000000</td>\n",
       "      <td>9.068758e+07</td>\n",
       "      <td>215972.000000</td>\n",
       "      <td>9.068758e+07</td>\n",
       "      <td>215972.000000</td>\n",
       "      <td>1629.000000</td>\n",
       "      <td>10.000000</td>\n",
       "      <td>449.990000</td>\n",
       "      <td>449.990000</td>\n",
       "    </tr>\n",
       "  </tbody>\n",
       "</table>\n",
       "</div>"
      ],
      "text/plain": [
       "             QueryID     ResponseID   RequiredAge     DemoCount  \\\n",
       "count   13357.000000   13357.000000  13357.000000  13357.000000   \n",
       "mean   353637.916149  353471.814030      0.837688      0.089541   \n",
       "std    146988.380337  147085.351999      3.625701      0.286058   \n",
       "min        10.000000      10.000000      0.000000      0.000000   \n",
       "25%    282860.000000  282640.000000      0.000000      0.000000   \n",
       "50%    374040.000000  373870.000000      0.000000      0.000000   \n",
       "75%    465920.000000  465860.000000      0.000000      0.000000   \n",
       "max    568150.000000  568150.000000     18.000000      2.000000   \n",
       "\n",
       "       DeveloperCount      DLCCount    Metacritic    MovieCount  PackageCount  \\\n",
       "count    13357.000000  13357.000000  13357.000000  13357.000000  13357.000000   \n",
       "mean         1.032492      0.805944     12.285319      1.321255      1.088418   \n",
       "std          0.437113     10.034901     27.510876      1.178400      0.855219   \n",
       "min          0.000000      0.000000      0.000000      0.000000      0.000000   \n",
       "25%          1.000000      0.000000      0.000000      1.000000      1.000000   \n",
       "50%          1.000000      0.000000      0.000000      1.000000      1.000000   \n",
       "75%          1.000000      0.000000      0.000000      2.000000      1.000000   \n",
       "max         12.000000    630.000000     96.000000     20.000000     18.000000   \n",
       "\n",
       "       RecommendationCount  PublisherCount  ScreenshotCount  SteamSpyOwners  \\\n",
       "count         1.335700e+04    13357.000000     13357.000000    1.335700e+04   \n",
       "mean          1.180463e+03        0.989668         9.561204    1.668493e+05   \n",
       "std           1.517606e+04        0.336972         6.442893    1.127122e+06   \n",
       "min           0.000000e+00        0.000000         0.000000    0.000000e+00   \n",
       "25%           0.000000e+00        1.000000         6.000000    8.970000e+02   \n",
       "50%           0.000000e+00        1.000000         8.000000    9.506000e+03   \n",
       "75%           2.430000e+02        1.000000        12.000000    6.044100e+04   \n",
       "max           1.427633e+06        4.000000       114.000000    9.068758e+07   \n",
       "\n",
       "       SteamSpyOwnersVariance  SteamSpyPlayersEstimate  \\\n",
       "count            13357.000000             1.335700e+04   \n",
       "mean              5486.408550             1.081638e+05   \n",
       "std               9044.093874             1.006635e+06   \n",
       "min                  0.000000             0.000000e+00   \n",
       "25%                906.000000             5.370000e+02   \n",
       "50%               2551.000000             4.125000e+03   \n",
       "75%               6434.000000             2.815800e+04   \n",
       "max             215972.000000             9.068758e+07   \n",
       "\n",
       "       SteamSpyPlayersVariance  AchievementCount  AchievementHighlightedCount  \\\n",
       "count             13357.000000      13357.000000                 13357.000000   \n",
       "mean               4082.329490         14.434678                     4.170098   \n",
       "std                7454.869744         41.467021                     4.831106   \n",
       "min                   0.000000          0.000000                     0.000000   \n",
       "25%                 745.000000          0.000000                     0.000000   \n",
       "50%                1717.000000          0.000000                     0.000000   \n",
       "75%                4392.000000         20.000000                    10.000000   \n",
       "max              215972.000000       1629.000000                    10.000000   \n",
       "\n",
       "       PriceInitial    PriceFinal  \n",
       "count  13357.000000  13357.000000  \n",
       "mean       9.155717      8.798596  \n",
       "std       14.345029     13.606061  \n",
       "min        0.000000      0.000000  \n",
       "25%        1.990000      1.990000  \n",
       "50%        5.990000      5.990000  \n",
       "75%        9.990000      9.990000  \n",
       "max      449.990000    449.990000  "
      ]
     },
     "execution_count": 16,
     "metadata": {},
     "output_type": "execute_result"
    }
   ],
   "source": [
    "steam_reviews_df.describe()"
   ]
  },
  {
   "cell_type": "code",
   "execution_count": 17,
   "metadata": {},
   "outputs": [
    {
     "data": {
      "text/plain": [
       "'Return to the Black Mesa Research Facility as one of the military specialists assigned to eliminate Gordon Freeman. Experience an entirely new episode of single player action. Meet fierce alien opponents and experiment with new weaponry. Named Game of the Year by the Academy of Interactive Arts and Sciences.'"
      ]
     },
     "execution_count": 17,
     "metadata": {},
     "output_type": "execute_result"
    }
   ],
   "source": [
    "steam_reviews_df['AboutText'][4]"
   ]
  },
  {
   "cell_type": "code",
   "execution_count": 18,
   "metadata": {},
   "outputs": [
    {
     "data": {
      "text/plain": [
       "1226"
      ]
     },
     "execution_count": 18,
     "metadata": {},
     "output_type": "execute_result"
    }
   ],
   "source": [
    "sum(steam_reviews_df['DetailedDescrip'] != steam_reviews_df['AboutText'])"
   ]
  },
  {
   "cell_type": "code",
   "execution_count": 19,
   "metadata": {},
   "outputs": [
    {
     "data": {
      "text/html": [
       "<div>\n",
       "<style scoped>\n",
       "    .dataframe tbody tr th:only-of-type {\n",
       "        vertical-align: middle;\n",
       "    }\n",
       "\n",
       "    .dataframe tbody tr th {\n",
       "        vertical-align: top;\n",
       "    }\n",
       "\n",
       "    .dataframe thead th {\n",
       "        text-align: right;\n",
       "    }\n",
       "</style>\n",
       "<table border=\"1\" class=\"dataframe\">\n",
       "  <thead>\n",
       "    <tr style=\"text-align: right;\">\n",
       "      <th></th>\n",
       "      <th>GenreIsNonGame</th>\n",
       "      <th>GenreIsIndie</th>\n",
       "      <th>GenreIsAction</th>\n",
       "      <th>GenreIsAdventure</th>\n",
       "      <th>GenreIsCasual</th>\n",
       "      <th>GenreIsStrategy</th>\n",
       "      <th>GenreIsRPG</th>\n",
       "      <th>GenreIsSimulation</th>\n",
       "      <th>GenreIsEarlyAccess</th>\n",
       "      <th>GenreIsFreeToPlay</th>\n",
       "      <th>GenreIsSports</th>\n",
       "      <th>GenreIsRacing</th>\n",
       "      <th>GenreIsMassivelyMultiplayer</th>\n",
       "    </tr>\n",
       "  </thead>\n",
       "  <tbody>\n",
       "    <tr>\n",
       "      <th>count</th>\n",
       "      <td>13357</td>\n",
       "      <td>13357</td>\n",
       "      <td>13357</td>\n",
       "      <td>13357</td>\n",
       "      <td>13357</td>\n",
       "      <td>13357</td>\n",
       "      <td>13357</td>\n",
       "      <td>13357</td>\n",
       "      <td>13357</td>\n",
       "      <td>13357</td>\n",
       "      <td>13357</td>\n",
       "      <td>13357</td>\n",
       "      <td>13357</td>\n",
       "    </tr>\n",
       "    <tr>\n",
       "      <th>unique</th>\n",
       "      <td>2</td>\n",
       "      <td>2</td>\n",
       "      <td>2</td>\n",
       "      <td>2</td>\n",
       "      <td>2</td>\n",
       "      <td>2</td>\n",
       "      <td>2</td>\n",
       "      <td>2</td>\n",
       "      <td>2</td>\n",
       "      <td>2</td>\n",
       "      <td>2</td>\n",
       "      <td>2</td>\n",
       "      <td>2</td>\n",
       "    </tr>\n",
       "    <tr>\n",
       "      <th>top</th>\n",
       "      <td>False</td>\n",
       "      <td>True</td>\n",
       "      <td>False</td>\n",
       "      <td>False</td>\n",
       "      <td>False</td>\n",
       "      <td>False</td>\n",
       "      <td>False</td>\n",
       "      <td>False</td>\n",
       "      <td>False</td>\n",
       "      <td>False</td>\n",
       "      <td>False</td>\n",
       "      <td>False</td>\n",
       "      <td>False</td>\n",
       "    </tr>\n",
       "    <tr>\n",
       "      <th>freq</th>\n",
       "      <td>13038</td>\n",
       "      <td>7780</td>\n",
       "      <td>7724</td>\n",
       "      <td>9038</td>\n",
       "      <td>9793</td>\n",
       "      <td>10734</td>\n",
       "      <td>11270</td>\n",
       "      <td>11255</td>\n",
       "      <td>11887</td>\n",
       "      <td>12692</td>\n",
       "      <td>12816</td>\n",
       "      <td>12881</td>\n",
       "      <td>12968</td>\n",
       "    </tr>\n",
       "  </tbody>\n",
       "</table>\n",
       "</div>"
      ],
      "text/plain": [
       "       GenreIsNonGame GenreIsIndie GenreIsAction GenreIsAdventure  \\\n",
       "count           13357        13357         13357            13357   \n",
       "unique              2            2             2                2   \n",
       "top             False         True         False            False   \n",
       "freq            13038         7780          7724             9038   \n",
       "\n",
       "       GenreIsCasual GenreIsStrategy GenreIsRPG GenreIsSimulation  \\\n",
       "count          13357           13357      13357             13357   \n",
       "unique             2               2          2                 2   \n",
       "top            False           False      False             False   \n",
       "freq            9793           10734      11270             11255   \n",
       "\n",
       "       GenreIsEarlyAccess GenreIsFreeToPlay GenreIsSports GenreIsRacing  \\\n",
       "count               13357             13357         13357         13357   \n",
       "unique                  2                 2             2             2   \n",
       "top                 False             False         False         False   \n",
       "freq                11887             12692         12816         12881   \n",
       "\n",
       "       GenreIsMassivelyMultiplayer  \n",
       "count                        13357  \n",
       "unique                           2  \n",
       "top                          False  \n",
       "freq                         12968  "
      ]
     },
     "execution_count": 19,
     "metadata": {},
     "output_type": "execute_result"
    }
   ],
   "source": [
    "steam_reviews_df[genre_columns].describe()"
   ]
  },
  {
   "cell_type": "code",
   "execution_count": 20,
   "metadata": {},
   "outputs": [
    {
     "name": "stdout",
     "output_type": "stream",
     "text": [
      "[==================================================] 100.0% 128.1/128.1MB downloaded\n"
     ]
    },
    {
     "name": "stderr",
     "output_type": "stream",
     "text": [
      "WARNING:smart_open.smart_open_lib:this function is deprecated, use smart_open.open instead\n"
     ]
    },
    {
     "name": "stdout",
     "output_type": "stream",
     "text": [
      "CPU times: user 46.7 s, sys: 4.22 s, total: 50.9 s\n",
      "Wall time: 1min 31s\n"
     ]
    }
   ],
   "source": [
    "%%time\n",
    "word_embedding_vectorizer = mlutil.embeddings.WordEmbeddingsVectorizer.from_gensim_embedding_model('glove-wiki-gigaword-100')"
   ]
  },
  {
   "cell_type": "code",
   "execution_count": 21,
   "metadata": {},
   "outputs": [
    {
     "name": "stdout",
     "output_type": "stream",
     "text": [
      "CPU times: user 5.6 s, sys: 0 ns, total: 5.6 s\n",
      "Wall time: 5.6 s\n"
     ]
    }
   ],
   "source": [
    "%%time\n",
    "steam_description_vectors = word_embedding_vectorizer.transform(steam_reviews_df['DetailedDescrip'])"
   ]
  },
  {
   "cell_type": "code",
   "execution_count": 22,
   "metadata": {},
   "outputs": [
    {
     "data": {
      "text/plain": [
       "(13357, 100)"
      ]
     },
     "execution_count": 22,
     "metadata": {},
     "output_type": "execute_result"
    }
   ],
   "source": [
    "steam_description_vectors.shape"
   ]
  },
  {
   "cell_type": "markdown",
   "metadata": {},
   "source": [
    "## Genre classification using description\n",
    "\n",
    "Note this is multilabel classification, as games on steam can have several genres\n",
    "\n",
    "We'll use Random Forest algorithm as it supports mutlilabel classification out of the box"
   ]
  },
  {
   "cell_type": "code",
   "execution_count": 23,
   "metadata": {},
   "outputs": [],
   "source": [
    "X = steam_description_vectors\n",
    "Y = steam_reviews_df[genre_columns]\n",
    "\n",
    "X_train, X_test, Y_train, Y_test = sklearn.model_selection.train_test_split(X, Y, test_size=0.2)"
   ]
  },
  {
   "cell_type": "code",
   "execution_count": 24,
   "metadata": {},
   "outputs": [],
   "source": [
    "rf_clf = RandomForestClassifier(n_estimators=50, n_jobs=-1)\n",
    "rf_clf.fit(X_train, Y_train)\n",
    "\n",
    "Y_test_pred = rf_clf.predict(X_test)"
   ]
  },
  {
   "cell_type": "code",
   "execution_count": 25,
   "metadata": {},
   "outputs": [
    {
     "data": {
      "text/plain": [
       "(2672, 13)"
      ]
     },
     "execution_count": 25,
     "metadata": {},
     "output_type": "execute_result"
    }
   ],
   "source": [
    "Y_test.shape"
   ]
  },
  {
   "cell_type": "code",
   "execution_count": 26,
   "metadata": {
    "scrolled": false
   },
   "outputs": [
    {
     "data": {
      "image/png": "[encoded data removed]",
      "text/plain": [
       "<Figure size 432x288 with 2 Axes>"
      ]
     },
     "metadata": {
      "needs_background": "light"
     },
     "output_type": "display_data"
    },
    {
     "data": {
      "image/png": "[encoded data removed]",
      "text/plain": [
       "<Figure size 432x288 with 2 Axes>"
      ]
     },
     "metadata": {
      "needs_background": "light"
     },
     "output_type": "display_data"
    },
    {
     "data": {
      "image/png": "[encoded data removed]",
      "text/plain": [
       "<Figure size 432x288 with 2 Axes>"
      ]
     },
     "metadata": {
      "needs_background": "light"
     },
     "output_type": "display_data"
    },
    {
     "data": {
      "image/png": "[encoded data removed]",
      "text/plain": [
       "<Figure size 432x288 with 2 Axes>"
      ]
     },
     "metadata": {
      "needs_background": "light"
     },
     "output_type": "display_data"
    },
    {
     "data": {
      "image/png": "[encoded data removed]",
      "text/plain": [
       "<Figure size 432x288 with 2 Axes>"
      ]
     },
     "metadata": {
      "needs_background": "light"
     },
     "output_type": "display_data"
    },
    {
     "data": {
      "image/png": "[encoded data removed]",
      "text/plain": [
       "<Figure size 432x288 with 2 Axes>"
      ]
     },
     "metadata": {
      "needs_background": "light"
     },
     "output_type": "display_data"
    },
    {
     "data": {
      "image/png": "[encoded data removed]",
      "text/plain": [
       "<Figure size 432x288 with 2 Axes>"
      ]
     },
     "metadata": {
      "needs_background": "light"
     },
     "output_type": "display_data"
    },
    {
     "data": {
      "image/png": "[encoded data removed]",
      "text/plain": [
       "<Figure size 432x288 with 2 Axes>"
      ]
     },
     "metadata": {
      "needs_background": "light"
     },
     "output_type": "display_data"
    },
    {
     "name": "stderr",
     "output_type": "stream",
     "text": [
      "/opt/anaconda3/envs/nnets/lib/python3.7/site-packages/sklearn/metrics/classification.py:1439: UndefinedMetricWarning: F-score is ill-defined and being set to 0.0 due to no true samples.\n",
      "  'recall', 'true', average, warn_for)\n"
     ]
    },
    {
     "data": {
      "image/png": "[encoded data removed]",
      "text/plain": [
       "<Figure size 432x288 with 2 Axes>"
      ]
     },
     "metadata": {
      "needs_background": "light"
     },
     "output_type": "display_data"
    },
    {
     "data": {
      "image/png": "[encoded data removed]",
      "text/plain": [
       "<Figure size 432x288 with 2 Axes>"
      ]
     },
     "metadata": {
      "needs_background": "light"
     },
     "output_type": "display_data"
    },
    {
     "data": {
      "image/png": "[encoded data removed]",
      "text/plain": [
       "<Figure size 432x288 with 2 Axes>"
      ]
     },
     "metadata": {
      "needs_background": "light"
     },
     "output_type": "display_data"
    },
    {
     "data": {
      "image/png": "[encoded data removed]",
      "text/plain": [
       "<Figure size 432x288 with 2 Axes>"
      ]
     },
     "metadata": {
      "needs_background": "light"
     },
     "output_type": "display_data"
    },
    {
     "data": {
      "image/png": "[encoded data removed]",
      "text/plain": [
       "<Figure size 432x288 with 2 Axes>"
      ]
     },
     "metadata": {
      "needs_background": "light"
     },
     "output_type": "display_data"
    }
   ],
   "source": [
    "for i, col in enumerate(genre_columns):\n",
    "    pred = Y_test_pred[:, i]\n",
    "    y = Y_test.iloc[:, i]\n",
    "    f1_score = round(sklearn.metrics.f1_score(pred, y), 3)\n",
    "    scikitplot.metrics.plot_confusion_matrix(y, pred)\n",
    "    plt.title(col + '\\nf1: ' + str(f1_score))\n",
    "    plt.show()"
   ]
  }
 ],
 "metadata": {
  "kernelspec": {
   "display_name": "nnets",
   "language": "python",
   "name": "nnets"
  },
  "language_info": {
   "codemirror_mode": {
    "name": "ipython",
    "version": 3
   },
   "file_extension": ".py",
   "mimetype": "text/x-python",
   "name": "python",
   "nbconvert_exporter": "python",
   "pygments_lexer": "ipython3",
   "version": "3.7.3"
  }
 },
 "nbformat": 4,
 "nbformat_minor": 2
}
