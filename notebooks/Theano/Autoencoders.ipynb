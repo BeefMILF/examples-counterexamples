{
 "cells": [
  {
   "cell_type": "markdown",
   "metadata": {},
   "source": [
    "## Autoencoders"
   ]
  },
  {
   "cell_type": "code",
   "execution_count": 1,
   "metadata": {},
   "outputs": [
    {
     "name": "stdout",
     "output_type": "stream",
     "text": [
      "/home/kuba/Projects/notebooks/examples-counterexamples/src\n"
     ]
    }
   ],
   "source": [
    "cd ../../src"
   ]
  },
  {
   "cell_type": "code",
   "execution_count": 2,
   "metadata": {},
   "outputs": [],
   "source": [
    "import matplotlib.pyplot as plt\n",
    "%matplotlib inline\n",
    "\n",
    "import numpy as np\n",
    "\n",
    "import theano\n",
    "import theano.tensor as T\n",
    "\n",
    "from fetch_mnist import preprocessed_mnist\n",
    "from neural_nets.autoencoder import Autoencoder "
   ]
  },
  {
   "cell_type": "code",
   "execution_count": 3,
   "metadata": {},
   "outputs": [
    {
     "name": "stderr",
     "output_type": "stream",
     "text": [
      "/opt/anaconda3/envs/nnets/lib/python3.5/site-packages/sklearn/utils/validation.py:429: DataConversionWarning: Data with input dtype uint8 was converted to float64 by StandardScaler.\n",
      "  warnings.warn(msg, _DataConversionWarning)\n"
     ]
    }
   ],
   "source": [
    "X_train, X_test, y_train, y_test = preprocessed_mnist(random_state=0)"
   ]
  },
  {
   "cell_type": "code",
   "execution_count": 48,
   "metadata": {},
   "outputs": [],
   "source": [
    "def train_and_present_autoencoder(**kwargs):\n",
    "  autoencoder = Autoencoder(\n",
    "    initialization_type='xavier',\n",
    "    optimization_params={\n",
    "      'method': 'nesterov',\n",
    "      'decay': 0.9},\n",
    "  **kwargs)\n",
    "\n",
    "\n",
    "  %time autoencoder.fit(X_train)\n",
    "\n",
    "  plt.plot(autoencoder.losses)\n",
    "  plt.show()\n",
    "\n",
    "  X_train_retrieved = autoencoder.retrieve(X_train)\n",
    "  for i in range(10):\n",
    "    img = X_train[i, :].reshape(28, 28)\n",
    "    retrieved_img = X_train_retrieved[i, :].reshape(28, 28)\n",
    "\n",
    "    plt.imshow(img, cmap='gray')\n",
    "    plt.show()\n",
    "    plt.imshow(retrieved_img, cmap='gray')\n",
    "    plt.show()"
   ]
  },
  {
   "cell_type": "code",
   "execution_count": null,
   "metadata": {
    "scrolled": true
   },
   "outputs": [],
   "source": [
    "shared_args = (dict(\n",
    "  n_iter=1000,\n",
    "  hidden_sizes = [100],\n",
    "  batch_size = 2500,\n",
    "  lmbda=0.001,\n",
    "  learning_rate=0.001))\n",
    "\n",
    "args_dict = (dict(\n",
    "  lmbda=0.001,\n",
    "  l1_ratio=0.25))\n",
    "\n",
    "args_dict.update(shared_args)\n",
    "\n",
    "train_and_present_autoencoder(**args_dict)"
   ]
  },
  {
   "cell_type": "code",
   "execution_count": null,
   "metadata": {},
   "outputs": [],
   "source": [
    "args_dict = (dict(\n",
    "  lmbda=0.001,\n",
    "  l1_ratio=0.5))\n",
    "\n",
    "args_dict.update(shared_args)\n",
    "\n",
    "train_and_present_autoencoder(**args_dict)"
   ]
  }
 ],
 "metadata": {
  "hide_input": false,
  "kernelspec": {
   "display_name": "Python 3",
   "language": "python",
   "name": "python3"
  },
  "language_info": {
   "codemirror_mode": {
    "name": "ipython",
    "version": 3
   },
   "file_extension": ".py",
   "mimetype": "text/x-python",
   "name": "python",
   "nbconvert_exporter": "python",
   "pygments_lexer": "ipython3",
   "version": "3.5.3"
  }
 },
 "nbformat": 4,
 "nbformat_minor": 2
}
