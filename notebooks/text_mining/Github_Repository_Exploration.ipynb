{
 "cells": [
  {
   "cell_type": "code",
   "execution_count": 1,
   "metadata": {},
   "outputs": [
    {
     "name": "stdout",
     "output_type": "stream",
     "text": [
      "Requirement already satisfied: getgist in /home/kuba/anaconda3/lib/python3.6/site-packages (0.1.3)\n",
      "Requirement already satisfied: click>=6.6 in /home/kuba/anaconda3/lib/python3.6/site-packages (from getgist) (6.7)\n",
      "Requirement already satisfied: requests>=2.18.1 in /home/kuba/anaconda3/lib/python3.6/site-packages (from getgist) (2.22.0)\n",
      "Requirement already satisfied: idna<2.9,>=2.5 in /home/kuba/anaconda3/lib/python3.6/site-packages (from requests>=2.18.1->getgist) (2.8)\n",
      "Requirement already satisfied: certifi>=2017.4.17 in /home/kuba/anaconda3/lib/python3.6/site-packages (from requests>=2.18.1->getgist) (2019.6.16)\n",
      "Requirement already satisfied: urllib3!=1.25.0,!=1.25.1,<1.26,>=1.21.1 in /home/kuba/anaconda3/lib/python3.6/site-packages (from requests>=2.18.1->getgist) (1.24.3)\n",
      "Requirement already satisfied: chardet<3.1.0,>=3.0.2 in /home/kuba/anaconda3/lib/python3.6/site-packages (from requests>=2.18.1->getgist) (3.0.4)\n",
      "  Fetching https://api.github.com/users/lambdaofgod/gists\n",
      "  Reading https://gist.githubusercontent.com/lambdaofgod/c32ab43cecce4219a697376f3dda3866/raw/689cf570db88e3a951821624fd652c2342efa755/github_topic_modeling_packages.sh\n",
      "Overwrite existing github_topic_modeling_packages.sh? (y/n)  [y/N]: Error: invalid input\n",
      "Overwrite existing github_topic_modeling_packages.sh? (y/n)  [y/N]: "
     ]
    },
    {
     "name": "stderr",
     "output_type": "stream",
     "text": [
      "WARNING: You are using pip version 19.1.1, however version 19.2.1 is available.\n",
      "You should consider upgrading via the 'pip install --upgrade pip' command.\n",
      "Aborted!\n"
     ]
    }
   ],
   "source": [
    "%%bash\n",
    "\n",
    "pip install getgist\n",
    "getgist lambdaofgod github_topic_modeling_packages.sh\n",
    "bash github_topic_modeling_packages.sh"
   ]
  },
  {
   "cell_type": "code",
   "execution_count": 2,
   "metadata": {
    "colab": {
     "base_uri": "https://localhost:8080/",
     "height": 88
    },
    "colab_type": "code",
    "id": "2byQKmDvQaxy",
    "outputId": "09b449d4-f7a7-4d92-e90f-ed5676ac7efb"
   },
   "outputs": [
    {
     "name": "stderr",
     "output_type": "stream",
     "text": [
      "/home/kuba/anaconda3/lib/python3.6/site-packages/h5py/__init__.py:36: FutureWarning: Conversion of the second argument of issubdtype from `float` to `np.floating` is deprecated. In future, it will be treated as `np.float64 == np.dtype(float).type`.\n",
      "  from ._conv import register_converters as _register_converters\n",
      "WARNING:root:tensorflow or tensorflow-hub not found, loading tfhub models won't work\n"
     ]
    }
   ],
   "source": [
    "import os\n",
    "\n",
    "import re\n",
    "import tqdm\n",
    "import requests\n",
    "\n",
    "import numpy as np\n",
    "\n",
    "from bs4 import BeautifulSoup\n",
    "from markdown import markdown\n",
    "\n",
    "\n",
    "import pandas as pd\n",
    "from pandas.io.json import json_normalize\n",
    "from gensim import summarization\n",
    "\n",
    "from sklearn import decomposition, feature_extraction, manifold, pipeline\n",
    "from sklearn.feature_extraction import stop_words\n",
    "from sklearn import pipeline\n",
    " \n",
    "\n",
    "from mlutil import topic_modeling\n",
    "\n",
    "import seaborn as sns\n",
    "import wordcloud\n",
    "\n",
    "import matplotlib.pyplot as plt\n",
    "from IPython.display import Markdown, display\n",
    "\n",
    "import scipy.stats"
   ]
  },
  {
   "cell_type": "code",
   "execution_count": 3,
   "metadata": {},
   "outputs": [],
   "source": [
    "plt.style.use('dark_background')"
   ]
  },
  {
   "cell_type": "code",
   "execution_count": 4,
   "metadata": {},
   "outputs": [],
   "source": [
    "def printmd(string):\n",
    "    display(Markdown(string))"
   ]
  },
  {
   "cell_type": "code",
   "execution_count": 5,
   "metadata": {},
   "outputs": [],
   "source": [
    "if os.path.exists('github_auth_key.txt'):\n",
    "    token = open('github_auth_key.txt').read().rstrip()\n",
    "    headers = {'Authorization': 'token %s' % token}\n",
    "else:\n",
    "    token = ''\n",
    "    headers = {}"
   ]
  },
  {
   "cell_type": "code",
   "execution_count": 6,
   "metadata": {},
   "outputs": [],
   "source": [
    "def search_repositories(query, pages=10):\n",
    "    i = 1\n",
    "    url = 'https://api.github.com/search/repositories?q={}&page={}&per_page=100'\n",
    "    starred_response = []\n",
    "    tmp_response = requests.get(url.format(query, i), headers={**headers, \"Accept\": \"application/vnd.github.mercy-preview+json\"})\n",
    "    while tmp_response.ok and i <= pages:\n",
    "        starred_response = starred_response + tmp_response.json()['items']\n",
    "        i += 1\n",
    "        tmp_response = requests.get(url.format(query, i), headers={**headers, \"Accept\": \"application/vnd.github.mercy-preview+json\"})\n",
    "\n",
    "    print(tmp_response.json())\n",
    "    if len(starred_response) == 0:\n",
    "        raise requests.HTTPError('Error occured while fetching, most likely you went over rate limit')\n",
    "    else:\n",
    "        return starred_response"
   ]
  },
  {
   "cell_type": "code",
   "execution_count": 7,
   "metadata": {},
   "outputs": [],
   "source": [
    "def get_cleaned_repositories_df(repo_information):\n",
    "    repo_df = json_normalize(repo_information)\n",
    "    repo_df = repo_df.drop_duplicates(subset=['name'])\n",
    "    repo_df.index = repo_df['name']\n",
    "    repo_df.drop('name', axis=1, inplace=True)\n",
    "    repo_df['topics'] = repo_df['topics'].apply(' '.join)\n",
    "    repo_df['description'] = repo_df['description'].fillna('')\n",
    "    return repo_df\n",
    "\n",
    "\n",
    "def get_word_cloud(texts):\n",
    "    text = ' '.join(texts)\n",
    "    return wordcloud.WordCloud(max_font_size=40).generate(text)\n",
    "\n",
    "\n",
    "def show_word_cloud(wc, figure_kwargs={'figsize': (8, 5)}):\n",
    "    plt.figure(**figure_kwargs)\n",
    "    plt.imshow(wc)\n",
    "    plt.axis('off')\n",
    "    plt.show()\n",
    "\n",
    "  \n",
    "def show_word_cloud_from_texts(text_column):\n",
    "    texts = text_column.fillna('').values\n",
    "    cloud = get_word_cloud(texts)\n",
    "    show_word_cloud(cloud)\n",
    "\n",
    "\n",
    "def get_topic_representant_indices(topic_weights, topic_idx, num_representants=5):\n",
    "    indices = topic_weights[:, topic_idx].argsort()[::-1]\n",
    "    return indices[:num_representants]\n",
    "\n",
    "\n",
    "def get_repos_representing_topic(repo_df, topic_weights, topic_idx, num_representants=5):\n",
    "    return repo_df.iloc[get_topic_representant_indices(topic_weights, topic_idx, num_representants)]"
   ]
  },
  {
   "cell_type": "code",
   "execution_count": 8,
   "metadata": {},
   "outputs": [],
   "source": [
    "topics = ['machine-learning', 'nlp', 'text-mining']"
   ]
  },
  {
   "cell_type": "code",
   "execution_count": 9,
   "metadata": {},
   "outputs": [
    {
     "name": "stdout",
     "output_type": "stream",
     "text": [
      "{'message': 'Only the first 1000 search results are available', 'documentation_url': 'https://developer.github.com/v3/search/'}\n",
      "CPU times: user 478 ms, sys: 53.8 ms, total: 532 ms\n",
      "Wall time: 24.4 s\n"
     ]
    }
   ],
   "source": [
    "%%time\n",
    "ml_repos = search_repositories('topic:machine-learning')"
   ]
  },
  {
   "cell_type": "code",
   "execution_count": 10,
   "metadata": {},
   "outputs": [
    {
     "data": {
      "text/plain": [
       "1000"
      ]
     },
     "execution_count": 10,
     "metadata": {},
     "output_type": "execute_result"
    }
   ],
   "source": [
    "len(ml_repos)"
   ]
  },
  {
   "cell_type": "code",
   "execution_count": 11,
   "metadata": {},
   "outputs": [
    {
     "name": "stdout",
     "output_type": "stream",
     "text": [
      "{'message': 'Only the first 1000 search results are available', 'documentation_url': 'https://developer.github.com/v3/search/'}\n",
      "CPU times: user 497 ms, sys: 20.9 ms, total: 518 ms\n",
      "Wall time: 21.4 s\n"
     ]
    }
   ],
   "source": [
    "%%time\n",
    "tm_repos = search_repositories('topic:text-mining')"
   ]
  },
  {
   "cell_type": "code",
   "execution_count": 12,
   "metadata": {},
   "outputs": [
    {
     "data": {
      "text/plain": [
       "868"
      ]
     },
     "execution_count": 12,
     "metadata": {},
     "output_type": "execute_result"
    }
   ],
   "source": [
    "len(tm_repos)"
   ]
  },
  {
   "cell_type": "code",
   "execution_count": 13,
   "metadata": {},
   "outputs": [
    {
     "name": "stdout",
     "output_type": "stream",
     "text": [
      "{'message': 'Only the first 1000 search results are available', 'documentation_url': 'https://developer.github.com/v3/search/'}\n",
      "CPU times: user 495 ms, sys: 39.1 ms, total: 534 ms\n",
      "Wall time: 24.7 s\n"
     ]
    }
   ],
   "source": [
    "%%time\n",
    "nlp_repos = search_repositories('topic:nlp')"
   ]
  },
  {
   "cell_type": "code",
   "execution_count": 14,
   "metadata": {},
   "outputs": [
    {
     "data": {
      "text/plain": [
       "1000"
      ]
     },
     "execution_count": 14,
     "metadata": {},
     "output_type": "execute_result"
    }
   ],
   "source": [
    "len(nlp_repos)"
   ]
  },
  {
   "cell_type": "code",
   "execution_count": 15,
   "metadata": {},
   "outputs": [],
   "source": [
    "repo_df = get_cleaned_repositories_df(ml_repos + nlp_repos + tm_repos)"
   ]
  },
  {
   "cell_type": "code",
   "execution_count": 16,
   "metadata": {},
   "outputs": [],
   "source": [
    "repo_df['description_keywords'] = repo_df['description'].apply(summarization.keywords)"
   ]
  },
  {
   "cell_type": "markdown",
   "metadata": {
    "colab_type": "text",
    "id": "V45r5clQR6BC"
   },
   "source": [
    "Primary language"
   ]
  },
  {
   "cell_type": "code",
   "execution_count": 17,
   "metadata": {
    "colab": {
     "base_uri": "https://localhost:8080/",
     "height": 327
    },
    "colab_type": "code",
    "id": "KPxVpoGHROmc",
    "outputId": "352c41ef-cd56-4e22-e097-c4a6732c17f4"
   },
   "outputs": [
    {
     "data": {
      "image/png": "[encoded data removed]",
      "text/plain": [
       "<matplotlib.figure.Figure at 0x7f1f778c0a20>"
      ]
     },
     "metadata": {},
     "output_type": "display_data"
    }
   ],
   "source": [
    "repo_df['language'].fillna('none/text').value_counts()[:25].plot.bar(rot=45);"
   ]
  },
  {
   "cell_type": "code",
   "execution_count": 18,
   "metadata": {
    "colab": {
     "base_uri": "https://localhost:8080/",
     "height": 283
    },
    "colab_type": "code",
    "id": "kMu2SXijLa-s",
    "outputId": "e0a67fbd-73cc-48a2-f044-eb460700412d"
   },
   "outputs": [
    {
     "data": {
      "image/png": "[encoded data removed]",
      "text/plain": [
       "<matplotlib.figure.Figure at 0x7f1f75432cf8>"
      ]
     },
     "metadata": {},
     "output_type": "display_data"
    }
   ],
   "source": [
    "sns.distplot(repo_df['description'].str.split().apply(lambda l: 0 if l is None else len(l)));"
   ]
  },
  {
   "cell_type": "markdown",
   "metadata": {
    "colab_type": "text",
    "id": "jaD1fT_UXyae"
   },
   "source": [
    "Topics word cloud"
   ]
  },
  {
   "cell_type": "code",
   "execution_count": 19,
   "metadata": {
    "colab": {
     "base_uri": "https://localhost:8080/",
     "height": 275
    },
    "colab_type": "code",
    "id": "MhcgvKuyX0A4",
    "outputId": "a664baa0-6ba0-4b83-81bd-f833a7f14224"
   },
   "outputs": [
    {
     "data": {
      "image/png": "[encoded data removed]",
      "text/plain": [
       "<matplotlib.figure.Figure at 0x7f1f778f74e0>"
      ]
     },
     "metadata": {},
     "output_type": "display_data"
    }
   ],
   "source": [
    "show_word_cloud_from_texts(repo_df['topics'])"
   ]
  },
  {
   "cell_type": "markdown",
   "metadata": {
    "colab_type": "text",
    "id": "bfHgxBgaXwv-"
   },
   "source": [
    "Descriptions word cloud"
   ]
  },
  {
   "cell_type": "code",
   "execution_count": 20,
   "metadata": {},
   "outputs": [
    {
     "data": {
      "image/png": "[encoded data removed]",
      "text/plain": [
       "<matplotlib.figure.Figure at 0x7f1f7750cc18>"
      ]
     },
     "metadata": {},
     "output_type": "display_data"
    }
   ],
   "source": [
    "show_word_cloud_from_texts(repo_df['description'])"
   ]
  },
  {
   "cell_type": "code",
   "execution_count": 21,
   "metadata": {
    "colab": {
     "base_uri": "https://localhost:8080/",
     "height": 275
    },
    "colab_type": "code",
    "id": "zVJ-66l2UV3W",
    "outputId": "dcc9c37a-9ad0-48dd-ec3f-287c7cbe00ee"
   },
   "outputs": [
    {
     "data": {
      "image/png": "[encoded data removed]",
      "text/plain": [
       "<matplotlib.figure.Figure at 0x7f1f752e5208>"
      ]
     },
     "metadata": {},
     "output_type": "display_data"
    }
   ],
   "source": [
    "show_word_cloud_from_texts(repo_df['description_keywords'])"
   ]
  },
  {
   "cell_type": "markdown",
   "metadata": {
    "colab_type": "text",
    "id": "gSIfWrKhkhGa"
   },
   "source": [
    "## Topic modeling (repo descriptions)"
   ]
  },
  {
   "cell_type": "code",
   "execution_count": 62,
   "metadata": {
    "colab": {},
    "colab_type": "code",
    "id": "8P-zYDlske82"
   },
   "outputs": [],
   "source": [
    "num_topics = 25\n",
    "\n",
    "topic_modeler = decomposition.NMF(n_components=num_topics, alpha=0.01, l1_ratio=0.5)"
   ]
  },
  {
   "cell_type": "code",
   "execution_count": 63,
   "metadata": {},
   "outputs": [],
   "source": [
    "deduped_repo_df = repo_df.drop_duplicates()"
   ]
  },
  {
   "cell_type": "code",
   "execution_count": 64,
   "metadata": {
    "colab": {},
    "colab_type": "code",
    "id": "bfXKGd7Tkt2t"
   },
   "outputs": [],
   "source": [
    "vectorizer = feature_extraction.text.TfidfVectorizer(\n",
    "    stop_words=stop_words.ENGLISH_STOP_WORDS,\n",
    "    ngram_range=(1,2),\n",
    "    max_features=2500\n",
    ")\n",
    "description_vectors = vectorizer.fit_transform(repo_df['description'])"
   ]
  },
  {
   "cell_type": "code",
   "execution_count": 65,
   "metadata": {},
   "outputs": [
    {
     "data": {
      "text/plain": [
       "(2623, 2500)"
      ]
     },
     "execution_count": 65,
     "metadata": {},
     "output_type": "execute_result"
    }
   ],
   "source": [
    "description_vectors.shape"
   ]
  },
  {
   "cell_type": "code",
   "execution_count": 66,
   "metadata": {
    "colab": {},
    "colab_type": "code",
    "id": "ZLDugD3-lMsj"
   },
   "outputs": [],
   "source": [
    "reduced_description_vectors = topic_modeler.fit_transform(description_vectors)"
   ]
  },
  {
   "cell_type": "code",
   "execution_count": 67,
   "metadata": {
    "colab": {},
    "colab_type": "code",
    "id": "-s_NS58al8ID"
   },
   "outputs": [],
   "source": [
    "topic_words = topic_modeling.top_topic_words(topic_modeler, vectorizer.get_feature_names(), 10)"
   ]
  },
  {
   "cell_type": "code",
   "execution_count": 68,
   "metadata": {},
   "outputs": [],
   "source": [
    "top_words_per_topic = [list(topic_words.iloc[topic].values) for topic in range(num_topics)]\n",
    "representative_repos = [get_repos_representing_topic(repo_df, reduced_description_vectors, topic)[['description']] for topic in range(num_topics)]"
   ]
  },
  {
   "cell_type": "markdown",
   "metadata": {},
   "source": [
    "## Topic keywords and most representative repositories"
   ]
  },
  {
   "cell_type": "code",
   "execution_count": 69,
   "metadata": {},
   "outputs": [
    {
     "data": {
      "text/markdown": [
       "## **topic 1 keywords:**"
      ],
      "text/plain": [
       "<IPython.core.display.Markdown object>"
      ]
     },
     "metadata": {},
     "output_type": "display_data"
    },
    {
     "data": {
      "text/plain": [
       "['machine learning',\n",
       " 'machine',\n",
       " 'learning',\n",
       " 'algorithms',\n",
       " 'learning library',\n",
       " 'learning models',\n",
       " 'resources',\n",
       " 'learning algorithms',\n",
       " 'repository',\n",
       " 'learning machine']"
      ]
     },
     "metadata": {},
     "output_type": "display_data"
    },
    {
     "data": {
      "text/markdown": [
       "## **repositories representative for 1th topic:**"
      ],
      "text/plain": [
       "<IPython.core.display.Markdown object>"
      ]
     },
     "metadata": {},
     "output_type": "display_data"
    },
    {
     "data": {
      "text/html": [
       "<div>\n",
       "<style scoped>\n",
       "    .dataframe tbody tr th:only-of-type {\n",
       "        vertical-align: middle;\n",
       "    }\n",
       "\n",
       "    .dataframe tbody tr th {\n",
       "        vertical-align: top;\n",
       "    }\n",
       "\n",
       "    .dataframe thead th {\n",
       "        text-align: right;\n",
       "    }\n",
       "</style>\n",
       "<table border=\"1\" class=\"dataframe\">\n",
       "  <thead>\n",
       "    <tr style=\"text-align: right;\">\n",
       "      <th></th>\n",
       "      <th>description</th>\n",
       "    </tr>\n",
       "    <tr>\n",
       "      <th>name</th>\n",
       "      <th></th>\n",
       "    </tr>\n",
       "  </thead>\n",
       "  <tbody>\n",
       "    <tr>\n",
       "      <th>ml-cheatsheet</th>\n",
       "      <td>Machine learning cheatsheet</td>\n",
       "    </tr>\n",
       "    <tr>\n",
       "      <th>mlr</th>\n",
       "      <td>mlr: Machine Learning in R</td>\n",
       "    </tr>\n",
       "    <tr>\n",
       "      <th>ml-interview</th>\n",
       "      <td>Preparing for machine learning interviews</td>\n",
       "    </tr>\n",
       "    <tr>\n",
       "      <th>nilearn</th>\n",
       "      <td>Machine learning for NeuroImaging in Python</td>\n",
       "    </tr>\n",
       "    <tr>\n",
       "      <th>learn-machine-learning-in-two-months</th>\n",
       "      <td>Những kiến thức cần thiết để học tốt Machine L...</td>\n",
       "    </tr>\n",
       "  </tbody>\n",
       "</table>\n",
       "</div>"
      ],
      "text/plain": [
       "                                                                            description\n",
       "name                                                                                   \n",
       "ml-cheatsheet                                               Machine learning cheatsheet\n",
       "mlr                                                         mlr: Machine Learning in R \n",
       "ml-interview                                  Preparing for machine learning interviews\n",
       "nilearn                                     Machine learning for NeuroImaging in Python\n",
       "learn-machine-learning-in-two-months  Những kiến thức cần thiết để học tốt Machine L..."
      ]
     },
     "metadata": {},
     "output_type": "display_data"
    },
    {
     "name": "stdout",
     "output_type": "stream",
     "text": [
      "\n"
     ]
    },
    {
     "data": {
      "text/markdown": [
       "## **topic 2 keywords:**"
      ],
      "text/plain": [
       "<IPython.core.display.Markdown object>"
      ]
     },
     "metadata": {},
     "output_type": "display_data"
    },
    {
     "data": {
      "text/plain": [
       "['language',\n",
       " 'natural',\n",
       " 'natural language',\n",
       " 'language processing',\n",
       " 'processing',\n",
       " 'processing nlp',\n",
       " 'parser',\n",
       " 'detection',\n",
       " 'language detection',\n",
       " 'javascript']"
      ]
     },
     "metadata": {},
     "output_type": "display_data"
    },
    {
     "data": {
      "text/markdown": [
       "## **repositories representative for 2th topic:**"
      ],
      "text/plain": [
       "<IPython.core.display.Markdown object>"
      ]
     },
     "metadata": {},
     "output_type": "display_data"
    },
    {
     "data": {
      "text/html": [
       "<div>\n",
       "<style scoped>\n",
       "    .dataframe tbody tr th:only-of-type {\n",
       "        vertical-align: middle;\n",
       "    }\n",
       "\n",
       "    .dataframe tbody tr th {\n",
       "        vertical-align: top;\n",
       "    }\n",
       "\n",
       "    .dataframe thead th {\n",
       "        text-align: right;\n",
       "    }\n",
       "</style>\n",
       "<table border=\"1\" class=\"dataframe\">\n",
       "  <thead>\n",
       "    <tr style=\"text-align: right;\">\n",
       "      <th></th>\n",
       "      <th>description</th>\n",
       "    </tr>\n",
       "    <tr>\n",
       "      <th>name</th>\n",
       "      <th></th>\n",
       "    </tr>\n",
       "  </thead>\n",
       "  <tbody>\n",
       "    <tr>\n",
       "      <th>NaturalLanguageProcessing</th>\n",
       "      <td>Natural Language Procesing</td>\n",
       "    </tr>\n",
       "    <tr>\n",
       "      <th>NLP-Papers</th>\n",
       "      <td>Natural Language Processing Papers</td>\n",
       "    </tr>\n",
       "    <tr>\n",
       "      <th>compromise</th>\n",
       "      <td>modest natural-language processing in javascript</td>\n",
       "    </tr>\n",
       "    <tr>\n",
       "      <th>deep-NLP</th>\n",
       "      <td>from kaggle natural language processing</td>\n",
       "    </tr>\n",
       "    <tr>\n",
       "      <th>hubot-natural</th>\n",
       "      <td>Natural Language Processing Chatbot for Rocket...</td>\n",
       "    </tr>\n",
       "  </tbody>\n",
       "</table>\n",
       "</div>"
      ],
      "text/plain": [
       "                                                                 description\n",
       "name                                                                        \n",
       "NaturalLanguageProcessing                         Natural Language Procesing\n",
       "NLP-Papers                                Natural Language Processing Papers\n",
       "compromise                  modest natural-language processing in javascript\n",
       "deep-NLP                             from kaggle natural language processing\n",
       "hubot-natural              Natural Language Processing Chatbot for Rocket..."
      ]
     },
     "metadata": {},
     "output_type": "display_data"
    },
    {
     "name": "stdout",
     "output_type": "stream",
     "text": [
      "\n"
     ]
    },
    {
     "data": {
      "text/markdown": [
       "## **topic 3 keywords:**"
      ],
      "text/plain": [
       "<IPython.core.display.Markdown object>"
      ]
     },
     "metadata": {},
     "output_type": "display_data"
    },
    {
     "data": {
      "text/plain": [
       "['mining',\n",
       " 'text mining',\n",
       " 'text',\n",
       " 'mining python',\n",
       " 'analysis text',\n",
       " 'crossref',\n",
       " 'mining project',\n",
       " 'short text',\n",
       " 'data mining',\n",
       " 'short']"
      ]
     },
     "metadata": {},
     "output_type": "display_data"
    },
    {
     "data": {
      "text/markdown": [
       "## **repositories representative for 3th topic:**"
      ],
      "text/plain": [
       "<IPython.core.display.Markdown object>"
      ]
     },
     "metadata": {},
     "output_type": "display_data"
    },
    {
     "data": {
      "text/html": [
       "<div>\n",
       "<style scoped>\n",
       "    .dataframe tbody tr th:only-of-type {\n",
       "        vertical-align: middle;\n",
       "    }\n",
       "\n",
       "    .dataframe tbody tr th {\n",
       "        vertical-align: top;\n",
       "    }\n",
       "\n",
       "    .dataframe thead th {\n",
       "        text-align: right;\n",
       "    }\n",
       "</style>\n",
       "<table border=\"1\" class=\"dataframe\">\n",
       "  <thead>\n",
       "    <tr style=\"text-align: right;\">\n",
       "      <th></th>\n",
       "      <th>description</th>\n",
       "    </tr>\n",
       "    <tr>\n",
       "      <th>name</th>\n",
       "      <th></th>\n",
       "    </tr>\n",
       "  </thead>\n",
       "  <tbody>\n",
       "    <tr>\n",
       "      <th>Class-13-text-mining</th>\n",
       "      <td>Predavanja 13: Text Mining</td>\n",
       "    </tr>\n",
       "    <tr>\n",
       "      <th>textmining3</th>\n",
       "      <td>Text Mining Utilities for Python 3</td>\n",
       "    </tr>\n",
       "    <tr>\n",
       "      <th>TextMining</th>\n",
       "      <td>Python文本挖掘系统 Research of Text Mining System</td>\n",
       "    </tr>\n",
       "    <tr>\n",
       "      <th>R.TeMiS</th>\n",
       "      <td>R.TeMiS: R Text Mining Solution</td>\n",
       "    </tr>\n",
       "    <tr>\n",
       "      <th>Woolly</th>\n",
       "      <td>The Text Mining Elixir</td>\n",
       "    </tr>\n",
       "  </tbody>\n",
       "</table>\n",
       "</div>"
      ],
      "text/plain": [
       "                                                      description\n",
       "name                                                             \n",
       "Class-13-text-mining                   Predavanja 13: Text Mining\n",
       "textmining3                    Text Mining Utilities for Python 3\n",
       "TextMining            Python文本挖掘系统 Research of Text Mining System\n",
       "R.TeMiS                           R.TeMiS: R Text Mining Solution\n",
       "Woolly                                     The Text Mining Elixir"
      ]
     },
     "metadata": {},
     "output_type": "display_data"
    },
    {
     "name": "stdout",
     "output_type": "stream",
     "text": [
      "\n"
     ]
    },
    {
     "data": {
      "text/markdown": [
       "## **topic 4 keywords:**"
      ],
      "text/plain": [
       "<IPython.core.display.Markdown object>"
      ]
     },
     "metadata": {},
     "output_type": "display_data"
    },
    {
     "data": {
      "text/plain": [
       "['deep',\n",
       " 'deep learning',\n",
       " 'learning',\n",
       " 'reinforcement learning',\n",
       " 'reinforcement',\n",
       " 'learning deep',\n",
       " 'framework',\n",
       " 'learning framework',\n",
       " 'deep reinforcement',\n",
       " 'papers']"
      ]
     },
     "metadata": {},
     "output_type": "display_data"
    },
    {
     "data": {
      "text/markdown": [
       "## **repositories representative for 4th topic:**"
      ],
      "text/plain": [
       "<IPython.core.display.Markdown object>"
      ]
     },
     "metadata": {},
     "output_type": "display_data"
    },
    {
     "data": {
      "text/html": [
       "<div>\n",
       "<style scoped>\n",
       "    .dataframe tbody tr th:only-of-type {\n",
       "        vertical-align: middle;\n",
       "    }\n",
       "\n",
       "    .dataframe tbody tr th {\n",
       "        vertical-align: top;\n",
       "    }\n",
       "\n",
       "    .dataframe thead th {\n",
       "        text-align: right;\n",
       "    }\n",
       "</style>\n",
       "<table border=\"1\" class=\"dataframe\">\n",
       "  <thead>\n",
       "    <tr style=\"text-align: right;\">\n",
       "      <th></th>\n",
       "      <th>description</th>\n",
       "    </tr>\n",
       "    <tr>\n",
       "      <th>name</th>\n",
       "      <th></th>\n",
       "    </tr>\n",
       "  </thead>\n",
       "  <tbody>\n",
       "    <tr>\n",
       "      <th>grenade</th>\n",
       "      <td>Deep Learning in Haskell</td>\n",
       "    </tr>\n",
       "    <tr>\n",
       "      <th>dlcampjeju</th>\n",
       "      <td>Deep Learning Camp Jeju</td>\n",
       "    </tr>\n",
       "    <tr>\n",
       "      <th>ConvNetSharp</th>\n",
       "      <td>Deep Learning in C#</td>\n",
       "    </tr>\n",
       "    <tr>\n",
       "      <th>DeepAudioClassification</th>\n",
       "      <td>Finding the genre of a song with Deep Learning</td>\n",
       "    </tr>\n",
       "    <tr>\n",
       "      <th>DLInterview</th>\n",
       "      <td>Deep Learning Interview 深度学习面试题目汇总</td>\n",
       "    </tr>\n",
       "  </tbody>\n",
       "</table>\n",
       "</div>"
      ],
      "text/plain": [
       "                                                            description\n",
       "name                                                                   \n",
       "grenade                                        Deep Learning in Haskell\n",
       "dlcampjeju                                      Deep Learning Camp Jeju\n",
       "ConvNetSharp                                        Deep Learning in C#\n",
       "DeepAudioClassification  Finding the genre of a song with Deep Learning\n",
       "DLInterview                          Deep Learning Interview 深度学习面试题目汇总"
      ]
     },
     "metadata": {},
     "output_type": "display_data"
    },
    {
     "name": "stdout",
     "output_type": "stream",
     "text": [
      "\n"
     ]
    },
    {
     "data": {
      "text/markdown": [
       "## **topic 5 keywords:**"
      ],
      "text/plain": [
       "<IPython.core.display.Markdown object>"
      ]
     },
     "metadata": {},
     "output_type": "display_data"
    },
    {
     "data": {
      "text/plain": [
       "['network',\n",
       " 'neural network',\n",
       " 'neural',\n",
       " 'convolutional',\n",
       " 'convolutional neural',\n",
       " 'based',\n",
       " 'keras',\n",
       " 'artificial neural',\n",
       " 'toolkit',\n",
       " 'artificial']"
      ]
     },
     "metadata": {},
     "output_type": "display_data"
    },
    {
     "data": {
      "text/markdown": [
       "## **repositories representative for 5th topic:**"
      ],
      "text/plain": [
       "<IPython.core.display.Markdown object>"
      ]
     },
     "metadata": {},
     "output_type": "display_data"
    },
    {
     "data": {
      "text/html": [
       "<div>\n",
       "<style scoped>\n",
       "    .dataframe tbody tr th:only-of-type {\n",
       "        vertical-align: middle;\n",
       "    }\n",
       "\n",
       "    .dataframe tbody tr th {\n",
       "        vertical-align: top;\n",
       "    }\n",
       "\n",
       "    .dataframe thead th {\n",
       "        text-align: right;\n",
       "    }\n",
       "</style>\n",
       "<table border=\"1\" class=\"dataframe\">\n",
       "  <thead>\n",
       "    <tr style=\"text-align: right;\">\n",
       "      <th></th>\n",
       "      <th>description</th>\n",
       "    </tr>\n",
       "    <tr>\n",
       "      <th>name</th>\n",
       "      <th></th>\n",
       "    </tr>\n",
       "  </thead>\n",
       "  <tbody>\n",
       "    <tr>\n",
       "      <th>onnx</th>\n",
       "      <td>Open Neural Network Exchange</td>\n",
       "    </tr>\n",
       "    <tr>\n",
       "      <th>NeuralNetwork</th>\n",
       "      <td>Network of neural | SLP, MLP</td>\n",
       "    </tr>\n",
       "    <tr>\n",
       "      <th>python_autocomplete</th>\n",
       "      <td>A simple neural network for python autocompletion</td>\n",
       "    </tr>\n",
       "    <tr>\n",
       "      <th>myIR</th>\n",
       "      <td>IR System with Neural Network</td>\n",
       "    </tr>\n",
       "    <tr>\n",
       "      <th>layer</th>\n",
       "      <td>Neural network inference the Unix way</td>\n",
       "    </tr>\n",
       "  </tbody>\n",
       "</table>\n",
       "</div>"
      ],
      "text/plain": [
       "                                                           description\n",
       "name                                                                  \n",
       "onnx                                      Open Neural Network Exchange\n",
       "NeuralNetwork                             Network of neural | SLP, MLP\n",
       "python_autocomplete  A simple neural network for python autocompletion\n",
       "myIR                                     IR System with Neural Network\n",
       "layer                            Neural network inference the Unix way"
      ]
     },
     "metadata": {},
     "output_type": "display_data"
    },
    {
     "name": "stdout",
     "output_type": "stream",
     "text": [
      "\n"
     ]
    },
    {
     "data": {
      "text/markdown": [
       "## **topic 6 keywords:**"
      ],
      "text/plain": [
       "<IPython.core.display.Markdown object>"
      ]
     },
     "metadata": {},
     "output_type": "display_data"
    },
    {
     "data": {
      "text/plain": [
       "['data',\n",
       " 'science',\n",
       " 'data science',\n",
       " 'data mining',\n",
       " 'text data',\n",
       " 'data analysis',\n",
       " 'course',\n",
       " 'projects',\n",
       " 'science projects',\n",
       " 'analysis']"
      ]
     },
     "metadata": {},
     "output_type": "display_data"
    },
    {
     "data": {
      "text/markdown": [
       "## **repositories representative for 6th topic:**"
      ],
      "text/plain": [
       "<IPython.core.display.Markdown object>"
      ]
     },
     "metadata": {},
     "output_type": "display_data"
    },
    {
     "data": {
      "text/html": [
       "<div>\n",
       "<style scoped>\n",
       "    .dataframe tbody tr th:only-of-type {\n",
       "        vertical-align: middle;\n",
       "    }\n",
       "\n",
       "    .dataframe tbody tr th {\n",
       "        vertical-align: top;\n",
       "    }\n",
       "\n",
       "    .dataframe thead th {\n",
       "        text-align: right;\n",
       "    }\n",
       "</style>\n",
       "<table border=\"1\" class=\"dataframe\">\n",
       "  <thead>\n",
       "    <tr style=\"text-align: right;\">\n",
       "      <th></th>\n",
       "      <th>description</th>\n",
       "    </tr>\n",
       "    <tr>\n",
       "      <th>name</th>\n",
       "      <th></th>\n",
       "    </tr>\n",
       "  </thead>\n",
       "  <tbody>\n",
       "    <tr>\n",
       "      <th>Simon_Data-Science</th>\n",
       "      <td>Simon's Data Science Fantasy</td>\n",
       "    </tr>\n",
       "    <tr>\n",
       "      <th>jstor</th>\n",
       "      <td>Import journal data from DfR (JSTOR)</td>\n",
       "    </tr>\n",
       "    <tr>\n",
       "      <th>Data-Science-</th>\n",
       "      <td>For the data science/data analysis</td>\n",
       "    </tr>\n",
       "    <tr>\n",
       "      <th>Virgilio</th>\n",
       "      <td>Your new Mentor for Data Science E-Learning.</td>\n",
       "    </tr>\n",
       "    <tr>\n",
       "      <th>Text-classification-sarcastic-or-not</th>\n",
       "      <td>Text mining and Data Science applications on t...</td>\n",
       "    </tr>\n",
       "  </tbody>\n",
       "</table>\n",
       "</div>"
      ],
      "text/plain": [
       "                                                                            description\n",
       "name                                                                                   \n",
       "Simon_Data-Science                                         Simon's Data Science Fantasy\n",
       "jstor                                              Import journal data from DfR (JSTOR)\n",
       "Data-Science-                                        For the data science/data analysis\n",
       "Virgilio                                   Your new Mentor for Data Science E-Learning.\n",
       "Text-classification-sarcastic-or-not  Text mining and Data Science applications on t..."
      ]
     },
     "metadata": {},
     "output_type": "display_data"
    },
    {
     "name": "stdout",
     "output_type": "stream",
     "text": [
      "\n"
     ]
    },
    {
     "data": {
      "text/markdown": [
       "## **topic 7 keywords:**"
      ],
      "text/plain": [
       "<IPython.core.display.Markdown object>"
      ]
     },
     "metadata": {},
     "output_type": "display_data"
    },
    {
     "data": {
      "text/plain": [
       "['python',\n",
       " 'python library',\n",
       " 'python implementation',\n",
       " 'package',\n",
       " 'learning python',\n",
       " 'python package',\n",
       " 'wrapper',\n",
       " 'api',\n",
       " 'nlp python',\n",
       " 'python wrapper']"
      ]
     },
     "metadata": {},
     "output_type": "display_data"
    },
    {
     "data": {
      "text/markdown": [
       "## **repositories representative for 7th topic:**"
      ],
      "text/plain": [
       "<IPython.core.display.Markdown object>"
      ]
     },
     "metadata": {},
     "output_type": "display_data"
    },
    {
     "data": {
      "text/html": [
       "<div>\n",
       "<style scoped>\n",
       "    .dataframe tbody tr th:only-of-type {\n",
       "        vertical-align: middle;\n",
       "    }\n",
       "\n",
       "    .dataframe tbody tr th {\n",
       "        vertical-align: top;\n",
       "    }\n",
       "\n",
       "    .dataframe thead th {\n",
       "        text-align: right;\n",
       "    }\n",
       "</style>\n",
       "<table border=\"1\" class=\"dataframe\">\n",
       "  <thead>\n",
       "    <tr style=\"text-align: right;\">\n",
       "      <th></th>\n",
       "      <th>description</th>\n",
       "    </tr>\n",
       "    <tr>\n",
       "      <th>name</th>\n",
       "      <th></th>\n",
       "    </tr>\n",
       "  </thead>\n",
       "  <tbody>\n",
       "    <tr>\n",
       "      <th>PersianStemmer-Python</th>\n",
       "      <td>PersianStemmer-Python</td>\n",
       "    </tr>\n",
       "    <tr>\n",
       "      <th>mne-python</th>\n",
       "      <td>MNE : Magnetoencephalography (MEG) and Electro...</td>\n",
       "    </tr>\n",
       "    <tr>\n",
       "      <th>pymetamap</th>\n",
       "      <td>Python wraper for MetaMap</td>\n",
       "    </tr>\n",
       "    <tr>\n",
       "      <th>mit-ml</th>\n",
       "      <td>斯坦福机器学习完整 python 实现</td>\n",
       "    </tr>\n",
       "    <tr>\n",
       "      <th>machine-learning-python</th>\n",
       "      <td>機器學習: Python</td>\n",
       "    </tr>\n",
       "  </tbody>\n",
       "</table>\n",
       "</div>"
      ],
      "text/plain": [
       "                                                               description\n",
       "name                                                                      \n",
       "PersianStemmer-Python                                PersianStemmer-Python\n",
       "mne-python               MNE : Magnetoencephalography (MEG) and Electro...\n",
       "pymetamap                                        Python wraper for MetaMap\n",
       "mit-ml                                                 斯坦福机器学习完整 python 实现\n",
       "machine-learning-python                                       機器學習: Python"
      ]
     },
     "metadata": {},
     "output_type": "display_data"
    },
    {
     "name": "stdout",
     "output_type": "stream",
     "text": [
      "\n"
     ]
    },
    {
     "data": {
      "text/markdown": [
       "## **topic 8 keywords:**"
      ],
      "text/plain": [
       "<IPython.core.display.Markdown object>"
      ]
     },
     "metadata": {},
     "output_type": "display_data"
    },
    {
     "data": {
      "text/plain": [
       "['analysis',\n",
       " 'sentiment',\n",
       " 'sentiment analysis',\n",
       " 'twitter',\n",
       " 'tweets',\n",
       " 'text analysis',\n",
       " 'analysis text',\n",
       " 'analysis tweets',\n",
       " 'package',\n",
       " 'reviews']"
      ]
     },
     "metadata": {},
     "output_type": "display_data"
    },
    {
     "data": {
      "text/markdown": [
       "## **repositories representative for 8th topic:**"
      ],
      "text/plain": [
       "<IPython.core.display.Markdown object>"
      ]
     },
     "metadata": {},
     "output_type": "display_data"
    },
    {
     "data": {
      "text/html": [
       "<div>\n",
       "<style scoped>\n",
       "    .dataframe tbody tr th:only-of-type {\n",
       "        vertical-align: middle;\n",
       "    }\n",
       "\n",
       "    .dataframe tbody tr th {\n",
       "        vertical-align: top;\n",
       "    }\n",
       "\n",
       "    .dataframe thead th {\n",
       "        text-align: right;\n",
       "    }\n",
       "</style>\n",
       "<table border=\"1\" class=\"dataframe\">\n",
       "  <thead>\n",
       "    <tr style=\"text-align: right;\">\n",
       "      <th></th>\n",
       "      <th>description</th>\n",
       "    </tr>\n",
       "    <tr>\n",
       "      <th>name</th>\n",
       "      <th></th>\n",
       "    </tr>\n",
       "  </thead>\n",
       "  <tbody>\n",
       "    <tr>\n",
       "      <th>rap_album_sentiment_analysis</th>\n",
       "      <td>Sentiment analysis on rap albums in R</td>\n",
       "    </tr>\n",
       "    <tr>\n",
       "      <th>kesci-urdu-sentiment-analysis</th>\n",
       "      <td>sentiment-analysis</td>\n",
       "    </tr>\n",
       "    <tr>\n",
       "      <th>sentR</th>\n",
       "      <td>Robust sentiment analysis package for R</td>\n",
       "    </tr>\n",
       "    <tr>\n",
       "      <th>Sentiment-Analysis-Twitter-Data</th>\n",
       "      <td>In this Repository I have attached the file fo...</td>\n",
       "    </tr>\n",
       "    <tr>\n",
       "      <th>SA-papers</th>\n",
       "      <td>📄 Deep Learning 中 Sentiment Analysis 論文統整與分析 😀...</td>\n",
       "    </tr>\n",
       "  </tbody>\n",
       "</table>\n",
       "</div>"
      ],
      "text/plain": [
       "                                                                       description\n",
       "name                                                                              \n",
       "rap_album_sentiment_analysis                 Sentiment analysis on rap albums in R\n",
       "kesci-urdu-sentiment-analysis                                   sentiment-analysis\n",
       "sentR                                      Robust sentiment analysis package for R\n",
       "Sentiment-Analysis-Twitter-Data  In this Repository I have attached the file fo...\n",
       "SA-papers                        📄 Deep Learning 中 Sentiment Analysis 論文統整與分析 😀..."
      ]
     },
     "metadata": {},
     "output_type": "display_data"
    },
    {
     "name": "stdout",
     "output_type": "stream",
     "text": [
      "\n"
     ]
    },
    {
     "data": {
      "text/markdown": [
       "## **topic 9 keywords:**"
      ],
      "text/plain": [
       "<IPython.core.display.Markdown object>"
      ]
     },
     "metadata": {},
     "output_type": "display_data"
    },
    {
     "data": {
      "text/plain": [
       "['nlp',\n",
       " 'spacy',\n",
       " 'processing nlp',\n",
       " 'deep nlp',\n",
       " 'nlp tasks',\n",
       " 'course',\n",
       " 'nlp python',\n",
       " 'tasks',\n",
       " 'nlp library',\n",
       " 'simple']"
      ]
     },
     "metadata": {},
     "output_type": "display_data"
    },
    {
     "data": {
      "text/markdown": [
       "## **repositories representative for 9th topic:**"
      ],
      "text/plain": [
       "<IPython.core.display.Markdown object>"
      ]
     },
     "metadata": {},
     "output_type": "display_data"
    },
    {
     "data": {
      "text/html": [
       "<div>\n",
       "<style scoped>\n",
       "    .dataframe tbody tr th:only-of-type {\n",
       "        vertical-align: middle;\n",
       "    }\n",
       "\n",
       "    .dataframe tbody tr th {\n",
       "        vertical-align: top;\n",
       "    }\n",
       "\n",
       "    .dataframe thead th {\n",
       "        text-align: right;\n",
       "    }\n",
       "</style>\n",
       "<table border=\"1\" class=\"dataframe\">\n",
       "  <thead>\n",
       "    <tr style=\"text-align: right;\">\n",
       "      <th></th>\n",
       "      <th>description</th>\n",
       "    </tr>\n",
       "    <tr>\n",
       "      <th>name</th>\n",
       "      <th></th>\n",
       "    </tr>\n",
       "  </thead>\n",
       "  <tbody>\n",
       "    <tr>\n",
       "      <th>learning-nlp</th>\n",
       "      <td>nlp in action</td>\n",
       "    </tr>\n",
       "    <tr>\n",
       "      <th>NLP-OSS</th>\n",
       "      <td>Democratizing NLP!</td>\n",
       "    </tr>\n",
       "    <tr>\n",
       "      <th>NlpMindmap</th>\n",
       "      <td>建立你的自然语言处理地图：学习笔记，资源，代码分享；NLP 算法工程师：从小白到专家</td>\n",
       "    </tr>\n",
       "    <tr>\n",
       "      <th>text</th>\n",
       "      <td>Data loaders and abstractions for text and NLP</td>\n",
       "    </tr>\n",
       "    <tr>\n",
       "      <th>gluon-nlp</th>\n",
       "      <td>NLP made easy</td>\n",
       "    </tr>\n",
       "  </tbody>\n",
       "</table>\n",
       "</div>"
      ],
      "text/plain": [
       "                                                 description\n",
       "name                                                        \n",
       "learning-nlp                                   nlp in action\n",
       "NLP-OSS                                   Democratizing NLP!\n",
       "NlpMindmap        建立你的自然语言处理地图：学习笔记，资源，代码分享；NLP 算法工程师：从小白到专家\n",
       "text          Data loaders and abstractions for text and NLP\n",
       "gluon-nlp                                      NLP made easy"
      ]
     },
     "metadata": {},
     "output_type": "display_data"
    },
    {
     "name": "stdout",
     "output_type": "stream",
     "text": [
      "\n"
     ]
    },
    {
     "data": {
      "text/markdown": [
       "## **topic 10 keywords:**"
      ],
      "text/plain": [
       "<IPython.core.display.Markdown object>"
      ]
     },
     "metadata": {},
     "output_type": "display_data"
    },
    {
     "data": {
      "text/plain": [
       "['tensorflow',\n",
       " 'tensorflow implementation',\n",
       " 'tutorials',\n",
       " 'implemented tensorflow',\n",
       " 'implemented',\n",
       " 'api',\n",
       " 'net',\n",
       " 'keras',\n",
       " 'examples',\n",
       " 'implementation']"
      ]
     },
     "metadata": {},
     "output_type": "display_data"
    },
    {
     "data": {
      "text/markdown": [
       "## **repositories representative for 10th topic:**"
      ],
      "text/plain": [
       "<IPython.core.display.Markdown object>"
      ]
     },
     "metadata": {},
     "output_type": "display_data"
    },
    {
     "data": {
      "text/html": [
       "<div>\n",
       "<style scoped>\n",
       "    .dataframe tbody tr th:only-of-type {\n",
       "        vertical-align: middle;\n",
       "    }\n",
       "\n",
       "    .dataframe tbody tr th {\n",
       "        vertical-align: top;\n",
       "    }\n",
       "\n",
       "    .dataframe thead th {\n",
       "        text-align: right;\n",
       "    }\n",
       "</style>\n",
       "<table border=\"1\" class=\"dataframe\">\n",
       "  <thead>\n",
       "    <tr style=\"text-align: right;\">\n",
       "      <th></th>\n",
       "      <th>description</th>\n",
       "    </tr>\n",
       "    <tr>\n",
       "      <th>name</th>\n",
       "      <th></th>\n",
       "    </tr>\n",
       "  </thead>\n",
       "  <tbody>\n",
       "    <tr>\n",
       "      <th>tensorflow-docs</th>\n",
       "      <td>TensorFlow 最新官方文档中文版</td>\n",
       "    </tr>\n",
       "    <tr>\n",
       "      <th>CipherGAN</th>\n",
       "      <td>TensorFlow implementation of CipherGAN</td>\n",
       "    </tr>\n",
       "    <tr>\n",
       "      <th>im2latex</th>\n",
       "      <td>Tensorflow Implementation of Im2Latex</td>\n",
       "    </tr>\n",
       "    <tr>\n",
       "      <th>tensorfow-rbm</th>\n",
       "      <td>Tensorflow implementation of Restricted Boltzm...</td>\n",
       "    </tr>\n",
       "    <tr>\n",
       "      <th>learning-to-learn</th>\n",
       "      <td>Learning to Learn in TensorFlow</td>\n",
       "    </tr>\n",
       "  </tbody>\n",
       "</table>\n",
       "</div>"
      ],
      "text/plain": [
       "                                                         description\n",
       "name                                                                \n",
       "tensorflow-docs                                 TensorFlow 最新官方文档中文版\n",
       "CipherGAN                     TensorFlow implementation of CipherGAN\n",
       "im2latex                       Tensorflow Implementation of Im2Latex\n",
       "tensorfow-rbm      Tensorflow implementation of Restricted Boltzm...\n",
       "learning-to-learn                    Learning to Learn in TensorFlow"
      ]
     },
     "metadata": {},
     "output_type": "display_data"
    },
    {
     "name": "stdout",
     "output_type": "stream",
     "text": [
      "\n"
     ]
    },
    {
     "data": {
      "text/markdown": [
       "## **topic 11 keywords:**"
      ],
      "text/plain": [
       "<IPython.core.display.Markdown object>"
      ]
     },
     "metadata": {},
     "output_type": "display_data"
    },
    {
     "data": {
      "text/plain": [
       "['list',\n",
       " 'curated',\n",
       " 'curated list',\n",
       " 'resources',\n",
       " 'awesome',\n",
       " 'list awesome',\n",
       " 'papers',\n",
       " 'list resources',\n",
       " 'tutorials',\n",
       " 'libraries']"
      ]
     },
     "metadata": {},
     "output_type": "display_data"
    },
    {
     "data": {
      "text/markdown": [
       "## **repositories representative for 11th topic:**"
      ],
      "text/plain": [
       "<IPython.core.display.Markdown object>"
      ]
     },
     "metadata": {},
     "output_type": "display_data"
    },
    {
     "data": {
      "text/html": [
       "<div>\n",
       "<style scoped>\n",
       "    .dataframe tbody tr th:only-of-type {\n",
       "        vertical-align: middle;\n",
       "    }\n",
       "\n",
       "    .dataframe tbody tr th {\n",
       "        vertical-align: top;\n",
       "    }\n",
       "\n",
       "    .dataframe thead th {\n",
       "        text-align: right;\n",
       "    }\n",
       "</style>\n",
       "<table border=\"1\" class=\"dataframe\">\n",
       "  <thead>\n",
       "    <tr style=\"text-align: right;\">\n",
       "      <th></th>\n",
       "      <th>description</th>\n",
       "    </tr>\n",
       "    <tr>\n",
       "      <th>name</th>\n",
       "      <th></th>\n",
       "    </tr>\n",
       "  </thead>\n",
       "  <tbody>\n",
       "    <tr>\n",
       "      <th>awesome-machine-learning-interpretability</th>\n",
       "      <td>A curated list of awesome machine learning int...</td>\n",
       "    </tr>\n",
       "    <tr>\n",
       "      <th>awesome-awesome</th>\n",
       "      <td>A curated list of awesome curated lists of man...</td>\n",
       "    </tr>\n",
       "    <tr>\n",
       "      <th>Awesome-Chinese-NLP</th>\n",
       "      <td>A curated list of resources for Chinese NLP 中文...</td>\n",
       "    </tr>\n",
       "    <tr>\n",
       "      <th>awesome-anomaly-detection</th>\n",
       "      <td>A curated list of awesome anomaly detection re...</td>\n",
       "    </tr>\n",
       "    <tr>\n",
       "      <th>beginner_nlp</th>\n",
       "      <td>A curated list of beginner resources in Natura...</td>\n",
       "    </tr>\n",
       "  </tbody>\n",
       "</table>\n",
       "</div>"
      ],
      "text/plain": [
       "                                                                                 description\n",
       "name                                                                                        \n",
       "awesome-machine-learning-interpretability  A curated list of awesome machine learning int...\n",
       "awesome-awesome                            A curated list of awesome curated lists of man...\n",
       "Awesome-Chinese-NLP                        A curated list of resources for Chinese NLP 中文...\n",
       "awesome-anomaly-detection                  A curated list of awesome anomaly detection re...\n",
       "beginner_nlp                               A curated list of beginner resources in Natura..."
      ]
     },
     "metadata": {},
     "output_type": "display_data"
    },
    {
     "name": "stdout",
     "output_type": "stream",
     "text": [
      "\n"
     ]
    },
    {
     "data": {
      "text/markdown": [
       "## **topic 12 keywords:**"
      ],
      "text/plain": [
       "<IPython.core.display.Markdown object>"
      ]
     },
     "metadata": {},
     "output_type": "display_data"
    },
    {
     "data": {
      "text/plain": [
       "['classification',\n",
       " 'text',\n",
       " 'text classification',\n",
       " 'classification models',\n",
       " 'keras',\n",
       " 'bert',\n",
       " 'library keras',\n",
       " 'toolkit',\n",
       " 'multilabel',\n",
       " 'vietnamese']"
      ]
     },
     "metadata": {},
     "output_type": "display_data"
    },
    {
     "data": {
      "text/markdown": [
       "## **repositories representative for 12th topic:**"
      ],
      "text/plain": [
       "<IPython.core.display.Markdown object>"
      ]
     },
     "metadata": {},
     "output_type": "display_data"
    },
    {
     "data": {
      "text/html": [
       "<div>\n",
       "<style scoped>\n",
       "    .dataframe tbody tr th:only-of-type {\n",
       "        vertical-align: middle;\n",
       "    }\n",
       "\n",
       "    .dataframe tbody tr th {\n",
       "        vertical-align: top;\n",
       "    }\n",
       "\n",
       "    .dataframe thead th {\n",
       "        text-align: right;\n",
       "    }\n",
       "</style>\n",
       "<table border=\"1\" class=\"dataframe\">\n",
       "  <thead>\n",
       "    <tr style=\"text-align: right;\">\n",
       "      <th></th>\n",
       "      <th>description</th>\n",
       "    </tr>\n",
       "    <tr>\n",
       "      <th>name</th>\n",
       "      <th></th>\n",
       "    </tr>\n",
       "  </thead>\n",
       "  <tbody>\n",
       "    <tr>\n",
       "      <th>text_classifier</th>\n",
       "      <td>Text Classification in Python and in R</td>\n",
       "    </tr>\n",
       "    <tr>\n",
       "      <th>classification</th>\n",
       "      <td>Vietnamese Text Classification</td>\n",
       "    </tr>\n",
       "    <tr>\n",
       "      <th>text-classifier</th>\n",
       "      <td>text-classifier is a toolkit for text classifi...</td>\n",
       "    </tr>\n",
       "    <tr>\n",
       "      <th>Caver</th>\n",
       "      <td>Caver: a toolkit for multilabel text classific...</td>\n",
       "    </tr>\n",
       "    <tr>\n",
       "      <th>text-classification-keras</th>\n",
       "      <td>📚 Text Classification Library with Keras</td>\n",
       "    </tr>\n",
       "  </tbody>\n",
       "</table>\n",
       "</div>"
      ],
      "text/plain": [
       "                                                                 description\n",
       "name                                                                        \n",
       "text_classifier                       Text Classification in Python and in R\n",
       "classification                                Vietnamese Text Classification\n",
       "text-classifier            text-classifier is a toolkit for text classifi...\n",
       "Caver                      Caver: a toolkit for multilabel text classific...\n",
       "text-classification-keras           📚 Text Classification Library with Keras"
      ]
     },
     "metadata": {},
     "output_type": "display_data"
    },
    {
     "name": "stdout",
     "output_type": "stream",
     "text": [
      "\n"
     ]
    },
    {
     "data": {
      "text/markdown": [
       "## **topic 13 keywords:**"
      ],
      "text/plain": [
       "<IPython.core.display.Markdown object>"
      ]
     },
     "metadata": {},
     "output_type": "display_data"
    },
    {
     "data": {
      "text/plain": [
       "['open',\n",
       " 'source',\n",
       " 'open source',\n",
       " 'framework',\n",
       " 'learning framework',\n",
       " 'source machine',\n",
       " 'platform',\n",
       " 'net',\n",
       " 'platform machine',\n",
       " 'tool']"
      ]
     },
     "metadata": {},
     "output_type": "display_data"
    },
    {
     "data": {
      "text/markdown": [
       "## **repositories representative for 13th topic:**"
      ],
      "text/plain": [
       "<IPython.core.display.Markdown object>"
      ]
     },
     "metadata": {},
     "output_type": "display_data"
    },
    {
     "data": {
      "text/html": [
       "<div>\n",
       "<style scoped>\n",
       "    .dataframe tbody tr th:only-of-type {\n",
       "        vertical-align: middle;\n",
       "    }\n",
       "\n",
       "    .dataframe tbody tr th {\n",
       "        vertical-align: top;\n",
       "    }\n",
       "\n",
       "    .dataframe thead th {\n",
       "        text-align: right;\n",
       "    }\n",
       "</style>\n",
       "<table border=\"1\" class=\"dataframe\">\n",
       "  <thead>\n",
       "    <tr style=\"text-align: right;\">\n",
       "      <th></th>\n",
       "      <th>description</th>\n",
       "    </tr>\n",
       "    <tr>\n",
       "      <th>name</th>\n",
       "      <th></th>\n",
       "    </tr>\n",
       "  </thead>\n",
       "  <tbody>\n",
       "    <tr>\n",
       "      <th>claf</th>\n",
       "      <td>CLaF: Open-Source Clova Language Framework</td>\n",
       "    </tr>\n",
       "    <tr>\n",
       "      <th>tensorflow</th>\n",
       "      <td>An Open Source Machine Learning Framework for ...</td>\n",
       "    </tr>\n",
       "    <tr>\n",
       "      <th>docluster</th>\n",
       "      <td>Open Source NLP Library</td>\n",
       "    </tr>\n",
       "    <tr>\n",
       "      <th>tensorflow-internals</th>\n",
       "      <td>It is open source ebook about TensorFlow kerne...</td>\n",
       "    </tr>\n",
       "    <tr>\n",
       "      <th>mlflow</th>\n",
       "      <td>Open source platform for the machine learning ...</td>\n",
       "    </tr>\n",
       "  </tbody>\n",
       "</table>\n",
       "</div>"
      ],
      "text/plain": [
       "                                                            description\n",
       "name                                                                   \n",
       "claf                         CLaF: Open-Source Clova Language Framework\n",
       "tensorflow            An Open Source Machine Learning Framework for ...\n",
       "docluster                                       Open Source NLP Library\n",
       "tensorflow-internals  It is open source ebook about TensorFlow kerne...\n",
       "mlflow                Open source platform for the machine learning ..."
      ]
     },
     "metadata": {},
     "output_type": "display_data"
    },
    {
     "name": "stdout",
     "output_type": "stream",
     "text": [
      "\n"
     ]
    },
    {
     "data": {
      "text/markdown": [
       "## **topic 14 keywords:**"
      ],
      "text/plain": [
       "<IPython.core.display.Markdown object>"
      ]
     },
     "metadata": {},
     "output_type": "display_data"
    },
    {
     "data": {
      "text/plain": [
       "['library',\n",
       " 'learning library',\n",
       " 'python library',\n",
       " 'java',\n",
       " 'nlp library',\n",
       " 'simple',\n",
       " 'lightweight',\n",
       " 'text',\n",
       " 'php',\n",
       " 'node']"
      ]
     },
     "metadata": {},
     "output_type": "display_data"
    },
    {
     "data": {
      "text/markdown": [
       "## **repositories representative for 14th topic:**"
      ],
      "text/plain": [
       "<IPython.core.display.Markdown object>"
      ]
     },
     "metadata": {},
     "output_type": "display_data"
    },
    {
     "data": {
      "text/html": [
       "<div>\n",
       "<style scoped>\n",
       "    .dataframe tbody tr th:only-of-type {\n",
       "        vertical-align: middle;\n",
       "    }\n",
       "\n",
       "    .dataframe tbody tr th {\n",
       "        vertical-align: top;\n",
       "    }\n",
       "\n",
       "    .dataframe thead th {\n",
       "        text-align: right;\n",
       "    }\n",
       "</style>\n",
       "<table border=\"1\" class=\"dataframe\">\n",
       "  <thead>\n",
       "    <tr style=\"text-align: right;\">\n",
       "      <th></th>\n",
       "      <th>description</th>\n",
       "    </tr>\n",
       "    <tr>\n",
       "      <th>name</th>\n",
       "      <th></th>\n",
       "    </tr>\n",
       "  </thead>\n",
       "  <tbody>\n",
       "    <tr>\n",
       "      <th>pyphonetics</th>\n",
       "      <td>A Python 3 phonetics library.</td>\n",
       "    </tr>\n",
       "    <tr>\n",
       "      <th>clfzoo</th>\n",
       "      <td>A deep text classifiers library.</td>\n",
       "    </tr>\n",
       "    <tr>\n",
       "      <th>cuml</th>\n",
       "      <td>cuML - RAPIDS Machine Learning Library</td>\n",
       "    </tr>\n",
       "    <tr>\n",
       "      <th>fuku-ml</th>\n",
       "      <td>Simple machine learning library / 簡單易用的機器學習套件</td>\n",
       "    </tr>\n",
       "    <tr>\n",
       "      <th>mordecai</th>\n",
       "      <td>Full text geoparsing as a Python library</td>\n",
       "    </tr>\n",
       "  </tbody>\n",
       "</table>\n",
       "</div>"
      ],
      "text/plain": [
       "                                               description\n",
       "name                                                      \n",
       "pyphonetics                  A Python 3 phonetics library.\n",
       "clfzoo                    A deep text classifiers library.\n",
       "cuml               cuML - RAPIDS Machine Learning Library \n",
       "fuku-ml      Simple machine learning library / 簡單易用的機器學習套件\n",
       "mordecai          Full text geoparsing as a Python library"
      ]
     },
     "metadata": {},
     "output_type": "display_data"
    },
    {
     "name": "stdout",
     "output_type": "stream",
     "text": [
      "\n"
     ]
    },
    {
     "data": {
      "text/markdown": [
       "## **topic 15 keywords:**"
      ],
      "text/plain": [
       "<IPython.core.display.Markdown object>"
      ]
     },
     "metadata": {},
     "output_type": "display_data"
    },
    {
     "data": {
      "text/plain": [
       "['project',\n",
       " 'course',\n",
       " 'project based',\n",
       " 'page',\n",
       " 'mining project',\n",
       " 'final project',\n",
       " 'final',\n",
       " 'school',\n",
       " 'materials',\n",
       " 'based']"
      ]
     },
     "metadata": {},
     "output_type": "display_data"
    },
    {
     "data": {
      "text/markdown": [
       "## **repositories representative for 15th topic:**"
      ],
      "text/plain": [
       "<IPython.core.display.Markdown object>"
      ]
     },
     "metadata": {},
     "output_type": "display_data"
    },
    {
     "data": {
      "text/html": [
       "<div>\n",
       "<style scoped>\n",
       "    .dataframe tbody tr th:only-of-type {\n",
       "        vertical-align: middle;\n",
       "    }\n",
       "\n",
       "    .dataframe tbody tr th {\n",
       "        vertical-align: top;\n",
       "    }\n",
       "\n",
       "    .dataframe thead th {\n",
       "        text-align: right;\n",
       "    }\n",
       "</style>\n",
       "<table border=\"1\" class=\"dataframe\">\n",
       "  <thead>\n",
       "    <tr style=\"text-align: right;\">\n",
       "      <th></th>\n",
       "      <th>description</th>\n",
       "    </tr>\n",
       "    <tr>\n",
       "      <th>name</th>\n",
       "      <th></th>\n",
       "    </tr>\n",
       "  </thead>\n",
       "  <tbody>\n",
       "    <tr>\n",
       "      <th>Quote-Attribution</th>\n",
       "      <td>CS1049 - Minor Project</td>\n",
       "    </tr>\n",
       "    <tr>\n",
       "      <th>zuerich_speaks</th>\n",
       "      <td>TWIST2018 Project</td>\n",
       "    </tr>\n",
       "    <tr>\n",
       "      <th>recipe-analyzer</th>\n",
       "      <td>Project for the Project Tools BSc course at ELTE.</td>\n",
       "    </tr>\n",
       "    <tr>\n",
       "      <th>FlirtAnalyzer</th>\n",
       "      <td>This project is my senior project and I build ...</td>\n",
       "    </tr>\n",
       "    <tr>\n",
       "      <th>FutureTDM</th>\n",
       "      <td>Materials of FutureTDM project</td>\n",
       "    </tr>\n",
       "  </tbody>\n",
       "</table>\n",
       "</div>"
      ],
      "text/plain": [
       "                                                         description\n",
       "name                                                                \n",
       "Quote-Attribution                             CS1049 - Minor Project\n",
       "zuerich_speaks                                     TWIST2018 Project\n",
       "recipe-analyzer    Project for the Project Tools BSc course at ELTE.\n",
       "FlirtAnalyzer      This project is my senior project and I build ...\n",
       "FutureTDM                             Materials of FutureTDM project"
      ]
     },
     "metadata": {},
     "output_type": "display_data"
    },
    {
     "name": "stdout",
     "output_type": "stream",
     "text": [
      "\n"
     ]
    },
    {
     "data": {
      "text/markdown": [
       "## **topic 16 keywords:**"
      ],
      "text/plain": [
       "<IPython.core.display.Markdown object>"
      ]
     },
     "metadata": {},
     "output_type": "display_data"
    },
    {
     "data": {
      "text/plain": [
       "['implementation',\n",
       " 'pytorch',\n",
       " 'pytorch implementation',\n",
       " 'tensorflow implementation',\n",
       " 'model',\n",
       " 'python implementation',\n",
       " 'paper',\n",
       " 'attention',\n",
       " 'algorithm',\n",
       " 'nips']"
      ]
     },
     "metadata": {},
     "output_type": "display_data"
    },
    {
     "data": {
      "text/markdown": [
       "## **repositories representative for 16th topic:**"
      ],
      "text/plain": [
       "<IPython.core.display.Markdown object>"
      ]
     },
     "metadata": {},
     "output_type": "display_data"
    },
    {
     "data": {
      "text/html": [
       "<div>\n",
       "<style scoped>\n",
       "    .dataframe tbody tr th:only-of-type {\n",
       "        vertical-align: middle;\n",
       "    }\n",
       "\n",
       "    .dataframe tbody tr th {\n",
       "        vertical-align: top;\n",
       "    }\n",
       "\n",
       "    .dataframe thead th {\n",
       "        text-align: right;\n",
       "    }\n",
       "</style>\n",
       "<table border=\"1\" class=\"dataframe\">\n",
       "  <thead>\n",
       "    <tr style=\"text-align: right;\">\n",
       "      <th></th>\n",
       "      <th>description</th>\n",
       "    </tr>\n",
       "    <tr>\n",
       "      <th>name</th>\n",
       "      <th></th>\n",
       "    </tr>\n",
       "  </thead>\n",
       "  <tbody>\n",
       "    <tr>\n",
       "      <th>deeplabv3</th>\n",
       "      <td>PyTorch implementation of DeepLabV3, trained o...</td>\n",
       "    </tr>\n",
       "    <tr>\n",
       "      <th>QANet-pytorch-</th>\n",
       "      <td>A Pytorch implementation of QANet</td>\n",
       "    </tr>\n",
       "    <tr>\n",
       "      <th>BERT-pytorch</th>\n",
       "      <td>Google AI 2018 BERT pytorch implementation</td>\n",
       "    </tr>\n",
       "    <tr>\n",
       "      <th>attention-is-all-you-need-pytorch</th>\n",
       "      <td>A PyTorch implementation of the Transformer mo...</td>\n",
       "    </tr>\n",
       "    <tr>\n",
       "      <th>pytorch-handbook</th>\n",
       "      <td>pytorch handbook是一本开源的书籍，目标是帮助那些希望和使用PyTorch进行...</td>\n",
       "    </tr>\n",
       "  </tbody>\n",
       "</table>\n",
       "</div>"
      ],
      "text/plain": [
       "                                                                         description\n",
       "name                                                                                \n",
       "deeplabv3                          PyTorch implementation of DeepLabV3, trained o...\n",
       "QANet-pytorch-                                     A Pytorch implementation of QANet\n",
       "BERT-pytorch                              Google AI 2018 BERT pytorch implementation\n",
       "attention-is-all-you-need-pytorch  A PyTorch implementation of the Transformer mo...\n",
       "pytorch-handbook                   pytorch handbook是一本开源的书籍，目标是帮助那些希望和使用PyTorch进行..."
      ]
     },
     "metadata": {},
     "output_type": "display_data"
    },
    {
     "name": "stdout",
     "output_type": "stream",
     "text": [
      "\n"
     ]
    },
    {
     "data": {
      "text/markdown": [
       "## **topic 17 keywords:**"
      ],
      "text/plain": [
       "<IPython.core.display.Markdown object>"
      ]
     },
     "metadata": {},
     "output_type": "display_data"
    },
    {
     "data": {
      "text/plain": [
       "['extraction',\n",
       " 'relation',\n",
       " 'relation extraction',\n",
       " 'information',\n",
       " 'information extraction',\n",
       " 'open information',\n",
       " 'retrieval',\n",
       " 'automatic',\n",
       " 'based',\n",
       " 'supervised']"
      ]
     },
     "metadata": {},
     "output_type": "display_data"
    },
    {
     "data": {
      "text/markdown": [
       "## **repositories representative for 17th topic:**"
      ],
      "text/plain": [
       "<IPython.core.display.Markdown object>"
      ]
     },
     "metadata": {},
     "output_type": "display_data"
    },
    {
     "data": {
      "text/html": [
       "<div>\n",
       "<style scoped>\n",
       "    .dataframe tbody tr th:only-of-type {\n",
       "        vertical-align: middle;\n",
       "    }\n",
       "\n",
       "    .dataframe tbody tr th {\n",
       "        vertical-align: top;\n",
       "    }\n",
       "\n",
       "    .dataframe thead th {\n",
       "        text-align: right;\n",
       "    }\n",
       "</style>\n",
       "<table border=\"1\" class=\"dataframe\">\n",
       "  <thead>\n",
       "    <tr style=\"text-align: right;\">\n",
       "      <th></th>\n",
       "      <th>description</th>\n",
       "    </tr>\n",
       "    <tr>\n",
       "      <th>name</th>\n",
       "      <th></th>\n",
       "    </tr>\n",
       "  </thead>\n",
       "  <tbody>\n",
       "    <tr>\n",
       "      <th>Chinese-relation-extraction</th>\n",
       "      <td>Relation Extraction 中文关系提取</td>\n",
       "    </tr>\n",
       "    <tr>\n",
       "      <th>Open-IE-Papers</th>\n",
       "      <td>Open Information Extraction (OpenIE) and Open ...</td>\n",
       "    </tr>\n",
       "    <tr>\n",
       "      <th>zhopenie</th>\n",
       "      <td>Chinese Open Information Extraction (Tree-base...</td>\n",
       "    </tr>\n",
       "    <tr>\n",
       "      <th>VERSE</th>\n",
       "      <td>Vancouver Event and Relation System for Extrac...</td>\n",
       "    </tr>\n",
       "    <tr>\n",
       "      <th>kg-baseline-pytorch</th>\n",
       "      <td>2019百度的关系抽取比赛，使用Pytorch实现苏神的模型，F1在dev集可达到0.75，...</td>\n",
       "    </tr>\n",
       "  </tbody>\n",
       "</table>\n",
       "</div>"
      ],
      "text/plain": [
       "                                                                   description\n",
       "name                                                                          \n",
       "Chinese-relation-extraction                         Relation Extraction 中文关系提取\n",
       "Open-IE-Papers               Open Information Extraction (OpenIE) and Open ...\n",
       "zhopenie                     Chinese Open Information Extraction (Tree-base...\n",
       "VERSE                        Vancouver Event and Relation System for Extrac...\n",
       "kg-baseline-pytorch          2019百度的关系抽取比赛，使用Pytorch实现苏神的模型，F1在dev集可达到0.75，..."
      ]
     },
     "metadata": {},
     "output_type": "display_data"
    },
    {
     "name": "stdout",
     "output_type": "stream",
     "text": [
      "\n"
     ]
    },
    {
     "data": {
      "text/markdown": [
       "## **topic 18 keywords:**"
      ],
      "text/plain": [
       "<IPython.core.display.Markdown object>"
      ]
     },
     "metadata": {},
     "output_type": "display_data"
    },
    {
     "data": {
      "text/plain": [
       "['code',\n",
       " 'repository',\n",
       " 'paper',\n",
       " 'book',\n",
       " 'code paper',\n",
       " 'source code',\n",
       " '2017',\n",
       " 'python code',\n",
       " 'contains',\n",
       " 'repository contains']"
      ]
     },
     "metadata": {},
     "output_type": "display_data"
    },
    {
     "data": {
      "text/markdown": [
       "## **repositories representative for 18th topic:**"
      ],
      "text/plain": [
       "<IPython.core.display.Markdown object>"
      ]
     },
     "metadata": {},
     "output_type": "display_data"
    },
    {
     "data": {
      "text/html": [
       "<div>\n",
       "<style scoped>\n",
       "    .dataframe tbody tr th:only-of-type {\n",
       "        vertical-align: middle;\n",
       "    }\n",
       "\n",
       "    .dataframe tbody tr th {\n",
       "        vertical-align: top;\n",
       "    }\n",
       "\n",
       "    .dataframe thead th {\n",
       "        text-align: right;\n",
       "    }\n",
       "</style>\n",
       "<table border=\"1\" class=\"dataframe\">\n",
       "  <thead>\n",
       "    <tr style=\"text-align: right;\">\n",
       "      <th></th>\n",
       "      <th>description</th>\n",
       "    </tr>\n",
       "    <tr>\n",
       "      <th>name</th>\n",
       "      <th></th>\n",
       "    </tr>\n",
       "  </thead>\n",
       "  <tbody>\n",
       "    <tr>\n",
       "      <th>JData</th>\n",
       "      <td>京东JData算法大赛-高潜用户购买意向预测入门程序(starter code)</td>\n",
       "    </tr>\n",
       "    <tr>\n",
       "      <th>ml_code</th>\n",
       "      <td>A repository for recording the machine learnin...</td>\n",
       "    </tr>\n",
       "    <tr>\n",
       "      <th>TsetlinMachine</th>\n",
       "      <td>The code and datasets for the Tsetlin Machine</td>\n",
       "    </tr>\n",
       "    <tr>\n",
       "      <th>bellarmine_py_intro</th>\n",
       "      <td>Code and materials for Python intro. course.</td>\n",
       "    </tr>\n",
       "    <tr>\n",
       "      <th>deep-semantic-code-search</th>\n",
       "      <td>Deep Semantic Code Search aims to explore a jo...</td>\n",
       "    </tr>\n",
       "  </tbody>\n",
       "</table>\n",
       "</div>"
      ],
      "text/plain": [
       "                                                                 description\n",
       "name                                                                        \n",
       "JData                               京东JData算法大赛-高潜用户购买意向预测入门程序(starter code)\n",
       "ml_code                    A repository for recording the machine learnin...\n",
       "TsetlinMachine                 The code and datasets for the Tsetlin Machine\n",
       "bellarmine_py_intro             Code and materials for Python intro. course.\n",
       "deep-semantic-code-search  Deep Semantic Code Search aims to explore a jo..."
      ]
     },
     "metadata": {},
     "output_type": "display_data"
    },
    {
     "name": "stdout",
     "output_type": "stream",
     "text": [
      "\n"
     ]
    },
    {
     "data": {
      "text/markdown": [
       "## **topic 19 keywords:**"
      ],
      "text/plain": [
       "<IPython.core.display.Markdown object>"
      ]
     },
     "metadata": {},
     "output_type": "display_data"
    },
    {
     "data": {
      "text/plain": [
       "['using',\n",
       " 'prediction',\n",
       " 'algorithm',\n",
       " 'using machine',\n",
       " 'using python',\n",
       " 'tool',\n",
       " 'word2vec',\n",
       " 'java',\n",
       " 'similarity',\n",
       " 'search']"
      ]
     },
     "metadata": {},
     "output_type": "display_data"
    },
    {
     "data": {
      "text/markdown": [
       "## **repositories representative for 19th topic:**"
      ],
      "text/plain": [
       "<IPython.core.display.Markdown object>"
      ]
     },
     "metadata": {},
     "output_type": "display_data"
    },
    {
     "data": {
      "text/html": [
       "<div>\n",
       "<style scoped>\n",
       "    .dataframe tbody tr th:only-of-type {\n",
       "        vertical-align: middle;\n",
       "    }\n",
       "\n",
       "    .dataframe tbody tr th {\n",
       "        vertical-align: top;\n",
       "    }\n",
       "\n",
       "    .dataframe thead th {\n",
       "        text-align: right;\n",
       "    }\n",
       "</style>\n",
       "<table border=\"1\" class=\"dataframe\">\n",
       "  <thead>\n",
       "    <tr style=\"text-align: right;\">\n",
       "      <th></th>\n",
       "      <th>description</th>\n",
       "    </tr>\n",
       "    <tr>\n",
       "      <th>name</th>\n",
       "      <th></th>\n",
       "    </tr>\n",
       "  </thead>\n",
       "  <tbody>\n",
       "    <tr>\n",
       "      <th>Wineinformatics</th>\n",
       "      <td>Regional Wine Prediction using KNN and Similar...</td>\n",
       "    </tr>\n",
       "    <tr>\n",
       "      <th>Evolutionary-Algorithm</th>\n",
       "      <td>Evolutionary Algorithm using Python</td>\n",
       "    </tr>\n",
       "    <tr>\n",
       "      <th>PyKOMORAN</th>\n",
       "      <td>(Beta) PyKOMORAN is wrapped KOMORAN in Python ...</td>\n",
       "    </tr>\n",
       "    <tr>\n",
       "      <th>BibSample</th>\n",
       "      <td>Eample of using dataset api in tensorflow</td>\n",
       "    </tr>\n",
       "    <tr>\n",
       "      <th>spacy-vis</th>\n",
       "      <td>A visualisation tool for Spacy using Hierplane.</td>\n",
       "    </tr>\n",
       "  </tbody>\n",
       "</table>\n",
       "</div>"
      ],
      "text/plain": [
       "                                                              description\n",
       "name                                                                     \n",
       "Wineinformatics         Regional Wine Prediction using KNN and Similar...\n",
       "Evolutionary-Algorithm                Evolutionary Algorithm using Python\n",
       "PyKOMORAN               (Beta) PyKOMORAN is wrapped KOMORAN in Python ...\n",
       "BibSample                       Eample of using dataset api in tensorflow\n",
       "spacy-vis                 A visualisation tool for Spacy using Hierplane."
      ]
     },
     "metadata": {},
     "output_type": "display_data"
    },
    {
     "name": "stdout",
     "output_type": "stream",
     "text": [
      "\n"
     ]
    },
    {
     "data": {
      "text/markdown": [
       "## **topic 20 keywords:**"
      ],
      "text/plain": [
       "<IPython.core.display.Markdown object>"
      ]
     },
     "metadata": {},
     "output_type": "display_data"
    },
    {
     "data": {
      "text/plain": [
       "['learn',\n",
       " 'scikit learn',\n",
       " 'scikit',\n",
       " 'notebooks',\n",
       " 'jupyter',\n",
       " 'api',\n",
       " 'jupyter notebooks',\n",
       " 'spark',\n",
       " 'learning python',\n",
       " 'book']"
      ]
     },
     "metadata": {},
     "output_type": "display_data"
    },
    {
     "data": {
      "text/markdown": [
       "## **repositories representative for 20th topic:**"
      ],
      "text/plain": [
       "<IPython.core.display.Markdown object>"
      ]
     },
     "metadata": {},
     "output_type": "display_data"
    },
    {
     "data": {
      "text/html": [
       "<div>\n",
       "<style scoped>\n",
       "    .dataframe tbody tr th:only-of-type {\n",
       "        vertical-align: middle;\n",
       "    }\n",
       "\n",
       "    .dataframe tbody tr th {\n",
       "        vertical-align: top;\n",
       "    }\n",
       "\n",
       "    .dataframe thead th {\n",
       "        text-align: right;\n",
       "    }\n",
       "</style>\n",
       "<table border=\"1\" class=\"dataframe\">\n",
       "  <thead>\n",
       "    <tr style=\"text-align: right;\">\n",
       "      <th></th>\n",
       "      <th>description</th>\n",
       "    </tr>\n",
       "    <tr>\n",
       "      <th>name</th>\n",
       "      <th></th>\n",
       "    </tr>\n",
       "  </thead>\n",
       "  <tbody>\n",
       "    <tr>\n",
       "      <th>sparkit-learn</th>\n",
       "      <td>PySpark + Scikit-learn = Sparkit-learn</td>\n",
       "    </tr>\n",
       "    <tr>\n",
       "      <th>scikit-survival</th>\n",
       "      <td>Survival analysis built on top of scikit-learn</td>\n",
       "    </tr>\n",
       "    <tr>\n",
       "      <th>ScikitLearn.jl</th>\n",
       "      <td>Julia implementation of the scikit-learn API</td>\n",
       "    </tr>\n",
       "    <tr>\n",
       "      <th>scikit-learn-doc-zh</th>\n",
       "      <td>:book: [译] scikit-learn（sklearn） 中文文档</td>\n",
       "    </tr>\n",
       "    <tr>\n",
       "      <th>scikit-learn</th>\n",
       "      <td>scikit-learn: machine learning in Python</td>\n",
       "    </tr>\n",
       "  </tbody>\n",
       "</table>\n",
       "</div>"
      ],
      "text/plain": [
       "                                                        description\n",
       "name                                                               \n",
       "sparkit-learn                PySpark + Scikit-learn = Sparkit-learn\n",
       "scikit-survival      Survival analysis built on top of scikit-learn\n",
       "ScikitLearn.jl         Julia implementation of the scikit-learn API\n",
       "scikit-learn-doc-zh           :book: [译] scikit-learn（sklearn） 中文文档\n",
       "scikit-learn               scikit-learn: machine learning in Python"
      ]
     },
     "metadata": {},
     "output_type": "display_data"
    },
    {
     "name": "stdout",
     "output_type": "stream",
     "text": [
      "\n"
     ]
    },
    {
     "data": {
      "text/markdown": [
       "## **topic 21 keywords:**"
      ],
      "text/plain": [
       "<IPython.core.display.Markdown object>"
      ]
     },
     "metadata": {},
     "output_type": "display_data"
    },
    {
     "data": {
      "text/plain": [
       "['networks',\n",
       " 'neural networks',\n",
       " 'neural',\n",
       " 'convolutional',\n",
       " 'convolutional neural',\n",
       " 'images',\n",
       " 'networks pytorch',\n",
       " 'convolutional networks',\n",
       " 'deep neural',\n",
       " 'generative']"
      ]
     },
     "metadata": {},
     "output_type": "display_data"
    },
    {
     "data": {
      "text/markdown": [
       "## **repositories representative for 21th topic:**"
      ],
      "text/plain": [
       "<IPython.core.display.Markdown object>"
      ]
     },
     "metadata": {},
     "output_type": "display_data"
    },
    {
     "data": {
      "text/html": [
       "<div>\n",
       "<style scoped>\n",
       "    .dataframe tbody tr th:only-of-type {\n",
       "        vertical-align: middle;\n",
       "    }\n",
       "\n",
       "    .dataframe tbody tr th {\n",
       "        vertical-align: top;\n",
       "    }\n",
       "\n",
       "    .dataframe thead th {\n",
       "        text-align: right;\n",
       "    }\n",
       "</style>\n",
       "<table border=\"1\" class=\"dataframe\">\n",
       "  <thead>\n",
       "    <tr style=\"text-align: right;\">\n",
       "      <th></th>\n",
       "      <th>description</th>\n",
       "    </tr>\n",
       "    <tr>\n",
       "      <th>name</th>\n",
       "      <th></th>\n",
       "    </tr>\n",
       "  </thead>\n",
       "  <tbody>\n",
       "    <tr>\n",
       "      <th>bindsnet</th>\n",
       "      <td>Simulation of spiking neural networks (SNNs) u...</td>\n",
       "    </tr>\n",
       "    <tr>\n",
       "      <th>troll</th>\n",
       "      <td>Language sentiment analysis and neural network...</td>\n",
       "    </tr>\n",
       "    <tr>\n",
       "      <th>vision_networks</th>\n",
       "      <td>Repo about neural networks for images handling</td>\n",
       "    </tr>\n",
       "    <tr>\n",
       "      <th>cat-generator</th>\n",
       "      <td>Generate cat images with neural networks</td>\n",
       "    </tr>\n",
       "    <tr>\n",
       "      <th>DeepLearning.scala</th>\n",
       "      <td>A simple library for creating complex neural n...</td>\n",
       "    </tr>\n",
       "  </tbody>\n",
       "</table>\n",
       "</div>"
      ],
      "text/plain": [
       "                                                          description\n",
       "name                                                                 \n",
       "bindsnet            Simulation of spiking neural networks (SNNs) u...\n",
       "troll               Language sentiment analysis and neural network...\n",
       "vision_networks        Repo about neural networks for images handling\n",
       "cat-generator                Generate cat images with neural networks\n",
       "DeepLearning.scala  A simple library for creating complex neural n..."
      ]
     },
     "metadata": {},
     "output_type": "display_data"
    },
    {
     "name": "stdout",
     "output_type": "stream",
     "text": [
      "\n"
     ]
    },
    {
     "data": {
      "text/markdown": [
       "## **topic 22 keywords:**"
      ],
      "text/plain": [
       "<IPython.core.display.Markdown object>"
      ]
     },
     "metadata": {},
     "output_type": "display_data"
    },
    {
     "data": {
      "text/plain": [
       "['models',\n",
       " 'learning models',\n",
       " 'ml',\n",
       " 'training',\n",
       " 'high',\n",
       " 'performance',\n",
       " 'high performance',\n",
       " 'ml models',\n",
       " 'datasets',\n",
       " 'spacy']"
      ]
     },
     "metadata": {},
     "output_type": "display_data"
    },
    {
     "data": {
      "text/markdown": [
       "## **repositories representative for 22th topic:**"
      ],
      "text/plain": [
       "<IPython.core.display.Markdown object>"
      ]
     },
     "metadata": {},
     "output_type": "display_data"
    },
    {
     "data": {
      "text/html": [
       "<div>\n",
       "<style scoped>\n",
       "    .dataframe tbody tr th:only-of-type {\n",
       "        vertical-align: middle;\n",
       "    }\n",
       "\n",
       "    .dataframe tbody tr th {\n",
       "        vertical-align: top;\n",
       "    }\n",
       "\n",
       "    .dataframe thead th {\n",
       "        text-align: right;\n",
       "    }\n",
       "</style>\n",
       "<table border=\"1\" class=\"dataframe\">\n",
       "  <thead>\n",
       "    <tr style=\"text-align: right;\">\n",
       "      <th></th>\n",
       "      <th>description</th>\n",
       "    </tr>\n",
       "    <tr>\n",
       "      <th>name</th>\n",
       "      <th></th>\n",
       "    </tr>\n",
       "  </thead>\n",
       "  <tbody>\n",
       "    <tr>\n",
       "      <th>modeldb</th>\n",
       "      <td>A system to manage machine learning models</td>\n",
       "    </tr>\n",
       "    <tr>\n",
       "      <th>interpretable_machine_learning_with_python</th>\n",
       "      <td>Practical techniques for training interpretabl...</td>\n",
       "    </tr>\n",
       "    <tr>\n",
       "      <th>serving</th>\n",
       "      <td>A flexible, high-performance serving system fo...</td>\n",
       "    </tr>\n",
       "    <tr>\n",
       "      <th>model-zoo</th>\n",
       "      <td>Please do not feed the models</td>\n",
       "    </tr>\n",
       "    <tr>\n",
       "      <th>cortex</th>\n",
       "      <td>Deploy machine learning models to production</td>\n",
       "    </tr>\n",
       "  </tbody>\n",
       "</table>\n",
       "</div>"
      ],
      "text/plain": [
       "                                                                                  description\n",
       "name                                                                                         \n",
       "modeldb                                            A system to manage machine learning models\n",
       "interpretable_machine_learning_with_python  Practical techniques for training interpretabl...\n",
       "serving                                     A flexible, high-performance serving system fo...\n",
       "model-zoo                                                       Please do not feed the models\n",
       "cortex                                           Deploy machine learning models to production"
      ]
     },
     "metadata": {},
     "output_type": "display_data"
    },
    {
     "name": "stdout",
     "output_type": "stream",
     "text": [
      "\n"
     ]
    },
    {
     "data": {
      "text/markdown": [
       "## **topic 23 keywords:**"
      ],
      "text/plain": [
       "<IPython.core.display.Markdown object>"
      ]
     },
     "metadata": {},
     "output_type": "display_data"
    },
    {
     "data": {
      "text/plain": [
       "['ai',\n",
       " 'research',\n",
       " 'js',\n",
       " 'node',\n",
       " 'node js',\n",
       " 'platform',\n",
       " 'conversational',\n",
       " 'based',\n",
       " 'google',\n",
       " 'conversational ai']"
      ]
     },
     "metadata": {},
     "output_type": "display_data"
    },
    {
     "data": {
      "text/markdown": [
       "## **repositories representative for 23th topic:**"
      ],
      "text/plain": [
       "<IPython.core.display.Markdown object>"
      ]
     },
     "metadata": {},
     "output_type": "display_data"
    },
    {
     "data": {
      "text/html": [
       "<div>\n",
       "<style scoped>\n",
       "    .dataframe tbody tr th:only-of-type {\n",
       "        vertical-align: middle;\n",
       "    }\n",
       "\n",
       "    .dataframe tbody tr th {\n",
       "        vertical-align: top;\n",
       "    }\n",
       "\n",
       "    .dataframe thead th {\n",
       "        text-align: right;\n",
       "    }\n",
       "</style>\n",
       "<table border=\"1\" class=\"dataframe\">\n",
       "  <thead>\n",
       "    <tr style=\"text-align: right;\">\n",
       "      <th></th>\n",
       "      <th>description</th>\n",
       "    </tr>\n",
       "    <tr>\n",
       "      <th>name</th>\n",
       "      <th></th>\n",
       "    </tr>\n",
       "  </thead>\n",
       "  <tbody>\n",
       "    <tr>\n",
       "      <th>ai-deadlines</th>\n",
       "      <td>:alarm_clock: AI conference deadline countdowns</td>\n",
       "    </tr>\n",
       "    <tr>\n",
       "      <th>google-research</th>\n",
       "      <td>Google AI Research</td>\n",
       "    </tr>\n",
       "    <tr>\n",
       "      <th>lab</th>\n",
       "      <td>A customisable 3D platform for agent-based AI ...</td>\n",
       "    </tr>\n",
       "    <tr>\n",
       "      <th>openfoodfacts-ai</th>\n",
       "      <td>This is to track all our AI endeavours, and wi...</td>\n",
       "    </tr>\n",
       "    <tr>\n",
       "      <th>fastai-ml-dl-notes-zh</th>\n",
       "      <td>:book:  [译] fast.ai 机器学习和深度学习中文笔记</td>\n",
       "    </tr>\n",
       "  </tbody>\n",
       "</table>\n",
       "</div>"
      ],
      "text/plain": [
       "                                                             description\n",
       "name                                                                    \n",
       "ai-deadlines            :alarm_clock: AI conference deadline countdowns \n",
       "google-research                                       Google AI Research\n",
       "lab                    A customisable 3D platform for agent-based AI ...\n",
       "openfoodfacts-ai       This is to track all our AI endeavours, and wi...\n",
       "fastai-ml-dl-notes-zh                  :book:  [译] fast.ai 机器学习和深度学习中文笔记"
      ]
     },
     "metadata": {},
     "output_type": "display_data"
    },
    {
     "name": "stdout",
     "output_type": "stream",
     "text": [
      "\n"
     ]
    },
    {
     "data": {
      "text/markdown": [
       "## **topic 24 keywords:**"
      ],
      "text/plain": [
       "<IPython.core.display.Markdown object>"
      ]
     },
     "metadata": {},
     "output_type": "display_data"
    },
    {
     "data": {
      "text/plain": [
       "['word',\n",
       " 'embeddings',\n",
       " 'word embeddings',\n",
       " 'topic',\n",
       " 'chinese',\n",
       " 'fast',\n",
       " 'pre',\n",
       " 'bert',\n",
       " 'modeling',\n",
       " 'use']"
      ]
     },
     "metadata": {},
     "output_type": "display_data"
    },
    {
     "data": {
      "text/markdown": [
       "## **repositories representative for 24th topic:**"
      ],
      "text/plain": [
       "<IPython.core.display.Markdown object>"
      ]
     },
     "metadata": {},
     "output_type": "display_data"
    },
    {
     "data": {
      "text/html": [
       "<div>\n",
       "<style scoped>\n",
       "    .dataframe tbody tr th:only-of-type {\n",
       "        vertical-align: middle;\n",
       "    }\n",
       "\n",
       "    .dataframe tbody tr th {\n",
       "        vertical-align: top;\n",
       "    }\n",
       "\n",
       "    .dataframe thead th {\n",
       "        text-align: right;\n",
       "    }\n",
       "</style>\n",
       "<table border=\"1\" class=\"dataframe\">\n",
       "  <thead>\n",
       "    <tr style=\"text-align: right;\">\n",
       "      <th></th>\n",
       "      <th>description</th>\n",
       "    </tr>\n",
       "    <tr>\n",
       "      <th>name</th>\n",
       "      <th></th>\n",
       "    </tr>\n",
       "  </thead>\n",
       "  <tbody>\n",
       "    <tr>\n",
       "      <th>text2vec</th>\n",
       "      <td>Fast vectorization, topic modeling, distances ...</td>\n",
       "    </tr>\n",
       "    <tr>\n",
       "      <th>wordgame</th>\n",
       "      <td>Word association analysis</td>\n",
       "    </tr>\n",
       "    <tr>\n",
       "      <th>word2word</th>\n",
       "      <td>Easy-to-use word-to-word translations for 3,56...</td>\n",
       "    </tr>\n",
       "    <tr>\n",
       "      <th>document-ranking</th>\n",
       "      <td>Document ranking word embeddings</td>\n",
       "    </tr>\n",
       "    <tr>\n",
       "      <th>WordEmbeddings-Elmo-Fasttext-Word2Vec</th>\n",
       "      <td>Using pre trained word embeddings (Fasttext, W...</td>\n",
       "    </tr>\n",
       "  </tbody>\n",
       "</table>\n",
       "</div>"
      ],
      "text/plain": [
       "                                                                             description\n",
       "name                                                                                    \n",
       "text2vec                               Fast vectorization, topic modeling, distances ...\n",
       "wordgame                                                       Word association analysis\n",
       "word2word                              Easy-to-use word-to-word translations for 3,56...\n",
       "document-ranking                                       Document ranking word embeddings \n",
       "WordEmbeddings-Elmo-Fasttext-Word2Vec  Using pre trained word embeddings (Fasttext, W..."
      ]
     },
     "metadata": {},
     "output_type": "display_data"
    },
    {
     "name": "stdout",
     "output_type": "stream",
     "text": [
      "\n"
     ]
    },
    {
     "data": {
      "text/markdown": [
       "## **topic 25 keywords:**"
      ],
      "text/plain": [
       "<IPython.core.display.Markdown object>"
      ]
     },
     "metadata": {},
     "output_type": "display_data"
    },
    {
     "data": {
      "text/plain": [
       "['recognition',\n",
       " 'entity',\n",
       " 'named',\n",
       " 'named entity',\n",
       " 'entity recognition',\n",
       " 'chinese',\n",
       " 'ner',\n",
       " 'crf',\n",
       " 'recognition using',\n",
       " 'chatbots']"
      ]
     },
     "metadata": {},
     "output_type": "display_data"
    },
    {
     "data": {
      "text/markdown": [
       "## **repositories representative for 25th topic:**"
      ],
      "text/plain": [
       "<IPython.core.display.Markdown object>"
      ]
     },
     "metadata": {},
     "output_type": "display_data"
    },
    {
     "data": {
      "text/html": [
       "<div>\n",
       "<style scoped>\n",
       "    .dataframe tbody tr th:only-of-type {\n",
       "        vertical-align: middle;\n",
       "    }\n",
       "\n",
       "    .dataframe tbody tr th {\n",
       "        vertical-align: top;\n",
       "    }\n",
       "\n",
       "    .dataframe thead th {\n",
       "        text-align: right;\n",
       "    }\n",
       "</style>\n",
       "<table border=\"1\" class=\"dataframe\">\n",
       "  <thead>\n",
       "    <tr style=\"text-align: right;\">\n",
       "      <th></th>\n",
       "      <th>description</th>\n",
       "    </tr>\n",
       "    <tr>\n",
       "      <th>name</th>\n",
       "      <th></th>\n",
       "    </tr>\n",
       "  </thead>\n",
       "  <tbody>\n",
       "    <tr>\n",
       "      <th>ChineseNER</th>\n",
       "      <td>named entity recognition for Chinese.</td>\n",
       "    </tr>\n",
       "    <tr>\n",
       "      <th>NERo</th>\n",
       "      <td>Named entity recognition framework</td>\n",
       "    </tr>\n",
       "    <tr>\n",
       "      <th>chatbot_ner</th>\n",
       "      <td>chatbot_ner: Named Entity Recognition for chat...</td>\n",
       "    </tr>\n",
       "    <tr>\n",
       "      <th>spacy-lookup</th>\n",
       "      <td>Named Entity Recognition based on dictionaries</td>\n",
       "    </tr>\n",
       "    <tr>\n",
       "      <th>ProtoNER</th>\n",
       "      <td>Few-shot classification in Named Entity Recogn...</td>\n",
       "    </tr>\n",
       "  </tbody>\n",
       "</table>\n",
       "</div>"
      ],
      "text/plain": [
       "                                                    description\n",
       "name                                                           \n",
       "ChineseNER               named entity recognition for Chinese. \n",
       "NERo                         Named entity recognition framework\n",
       "chatbot_ner   chatbot_ner: Named Entity Recognition for chat...\n",
       "spacy-lookup     Named Entity Recognition based on dictionaries\n",
       "ProtoNER      Few-shot classification in Named Entity Recogn..."
      ]
     },
     "metadata": {},
     "output_type": "display_data"
    },
    {
     "name": "stdout",
     "output_type": "stream",
     "text": [
      "\n"
     ]
    }
   ],
   "source": [
    "for topic in range(num_topics):\n",
    "    printmd('## **topic {} keywords:**'.format(topic + 1))\n",
    "    display(top_words_per_topic[topic])\n",
    "    printmd('## **repositories representative for {}th topic:**'.format(topic + 1))\n",
    "    display(representative_repos[topic])\n",
    "    print()"
   ]
  },
  {
   "cell_type": "markdown",
   "metadata": {},
   "source": [
    "## Repository search"
   ]
  },
  {
   "cell_type": "code",
   "execution_count": 70,
   "metadata": {},
   "outputs": [],
   "source": [
    "vectorization_pipeline = pipeline.make_pipeline(vectorizer, topic_modeler)"
   ]
  },
  {
   "cell_type": "code",
   "execution_count": 71,
   "metadata": {},
   "outputs": [],
   "source": [
    "def jensen_shannon_divergence(query, matrix):\n",
    "    \"\"\"\n",
    "    This function implements a Jensen-Shannon similarity\n",
    "    between the input query (an LDA topic distribution for a document)\n",
    "    and the entire corpus of topic distributions.\n",
    "    It returns an array of length M where M is the number of documents in the corpus\n",
    "    \"\"\"\n",
    "    # lets keep with the p,q notation above\n",
    "    p = query[None,:].T # take transpose\n",
    "    q = matrix.T # transpose matrix\n",
    "    m = 0.5 * (p + q)\n",
    "    return np.sqrt(0.5*(scipy.stats.entropy(p,m) + scipy.stats.entropy(q,m)))"
   ]
  },
  {
   "cell_type": "code",
   "execution_count": 72,
   "metadata": {},
   "outputs": [],
   "source": [
    "def get_similar_repository_indices(text, reduced_text_vectors, vectorization_pipeline, topk=10):\n",
    "    text_vector = vectorization_pipeline.transform([text])[0]\n",
    "    distances =  jensen_shannon_divergence(text_vector, reduced_text_vectors)\n",
    "    return np.argsort(distances)[:topk]"
   ]
  },
  {
   "cell_type": "code",
   "execution_count": 80,
   "metadata": {},
   "outputs": [
    {
     "name": "stderr",
     "output_type": "stream",
     "text": [
      "/home/kuba/anaconda3/lib/python3.6/site-packages/scipy/stats/_distn_infrastructure.py:2614: RuntimeWarning: invalid value encountered in true_divide\n",
      "  pk = 1.0*pk / np.sum(pk, axis=0)\n"
     ]
    }
   ],
   "source": [
    "repo_info = repo_df.iloc[2]\n",
    "repo_desc = repo_info['description']\n",
    "\n",
    "indices = get_similar_repository_indices(repo_desc, reduced_description_vectors, vectorization_pipeline)"
   ]
  },
  {
   "cell_type": "code",
   "execution_count": 81,
   "metadata": {},
   "outputs": [
    {
     "data": {
      "text/plain": [
       "'scikit-learn'"
      ]
     },
     "execution_count": 81,
     "metadata": {},
     "output_type": "execute_result"
    }
   ],
   "source": [
    "repo_info.name"
   ]
  },
  {
   "cell_type": "code",
   "execution_count": 82,
   "metadata": {},
   "outputs": [
    {
     "data": {
      "text/html": [
       "<div>\n",
       "<style scoped>\n",
       "    .dataframe tbody tr th:only-of-type {\n",
       "        vertical-align: middle;\n",
       "    }\n",
       "\n",
       "    .dataframe tbody tr th {\n",
       "        vertical-align: top;\n",
       "    }\n",
       "\n",
       "    .dataframe thead th {\n",
       "        text-align: right;\n",
       "    }\n",
       "</style>\n",
       "<table border=\"1\" class=\"dataframe\">\n",
       "  <thead>\n",
       "    <tr style=\"text-align: right;\">\n",
       "      <th></th>\n",
       "      <th>topics</th>\n",
       "      <th>description</th>\n",
       "    </tr>\n",
       "    <tr>\n",
       "      <th>name</th>\n",
       "      <th></th>\n",
       "      <th></th>\n",
       "    </tr>\n",
       "  </thead>\n",
       "  <tbody>\n",
       "    <tr>\n",
       "      <th>scikit-learn</th>\n",
       "      <td>data-analysis data-science machine-learning py...</td>\n",
       "      <td>scikit-learn: machine learning in Python</td>\n",
       "    </tr>\n",
       "    <tr>\n",
       "      <th>dive-into-machine-learning</th>\n",
       "      <td>courses data-science deep-learning diy ipython...</td>\n",
       "      <td>Dive into Machine Learning with Python Jupyter...</td>\n",
       "    </tr>\n",
       "    <tr>\n",
       "      <th>sklearn-bayes</th>\n",
       "      <td>bayesian bayesian-machine-learning machine-lea...</td>\n",
       "      <td>Python package for Bayesian Machine Learning w...</td>\n",
       "    </tr>\n",
       "    <tr>\n",
       "      <th>skll</th>\n",
       "      <td>machine-learning python scikit-learn</td>\n",
       "      <td>SciKit-Learn Laboratory (SKLL) makes it easy t...</td>\n",
       "    </tr>\n",
       "    <tr>\n",
       "      <th>gplearn</th>\n",
       "      <td>genetic-programming machine-learning python sc...</td>\n",
       "      <td>Genetic Programming in Python, with a scikit-l...</td>\n",
       "    </tr>\n",
       "    <tr>\n",
       "      <th>machine-learning-notebooks</th>\n",
       "      <td>machine-learning scikit-learn</td>\n",
       "      <td>Stanford Machine Learning course exercises imp...</td>\n",
       "    </tr>\n",
       "    <tr>\n",
       "      <th>learnopencv</th>\n",
       "      <td>ai computer-vision computervision deep-learnin...</td>\n",
       "      <td>Learn OpenCV  : C++ and Python Examples</td>\n",
       "    </tr>\n",
       "    <tr>\n",
       "      <th>Python-for-Probability-Statistics-and-Machine-Learning</th>\n",
       "      <td>book books jupyter-notebook machine-learning p...</td>\n",
       "      <td>Jupyter Notebooks for Springer book \"Python fo...</td>\n",
       "    </tr>\n",
       "    <tr>\n",
       "      <th>spark-sklearn</th>\n",
       "      <td>apache-spark grid-search machine-learning para...</td>\n",
       "      <td>Scikit-learn integration package for Apache Spark</td>\n",
       "    </tr>\n",
       "    <tr>\n",
       "      <th>sparkit-learn</th>\n",
       "      <td>apache-spark distributed-computing machine-lea...</td>\n",
       "      <td>PySpark + Scikit-learn = Sparkit-learn</td>\n",
       "    </tr>\n",
       "  </tbody>\n",
       "</table>\n",
       "</div>"
      ],
      "text/plain": [
       "                                                                                               topics  \\\n",
       "name                                                                                                    \n",
       "scikit-learn                                        data-analysis data-science machine-learning py...   \n",
       "dive-into-machine-learning                          courses data-science deep-learning diy ipython...   \n",
       "sklearn-bayes                                       bayesian bayesian-machine-learning machine-lea...   \n",
       "skll                                                             machine-learning python scikit-learn   \n",
       "gplearn                                             genetic-programming machine-learning python sc...   \n",
       "machine-learning-notebooks                                              machine-learning scikit-learn   \n",
       "learnopencv                                         ai computer-vision computervision deep-learnin...   \n",
       "Python-for-Probability-Statistics-and-Machine-L...  book books jupyter-notebook machine-learning p...   \n",
       "spark-sklearn                                       apache-spark grid-search machine-learning para...   \n",
       "sparkit-learn                                       apache-spark distributed-computing machine-lea...   \n",
       "\n",
       "                                                                                          description  \n",
       "name                                                                                                   \n",
       "scikit-learn                                                 scikit-learn: machine learning in Python  \n",
       "dive-into-machine-learning                          Dive into Machine Learning with Python Jupyter...  \n",
       "sklearn-bayes                                       Python package for Bayesian Machine Learning w...  \n",
       "skll                                                SciKit-Learn Laboratory (SKLL) makes it easy t...  \n",
       "gplearn                                             Genetic Programming in Python, with a scikit-l...  \n",
       "machine-learning-notebooks                          Stanford Machine Learning course exercises imp...  \n",
       "learnopencv                                                   Learn OpenCV  : C++ and Python Examples  \n",
       "Python-for-Probability-Statistics-and-Machine-L...  Jupyter Notebooks for Springer book \"Python fo...  \n",
       "spark-sklearn                                       Scikit-learn integration package for Apache Spark  \n",
       "sparkit-learn                                                  PySpark + Scikit-learn = Sparkit-learn  "
      ]
     },
     "execution_count": 82,
     "metadata": {},
     "output_type": "execute_result"
    }
   ],
   "source": [
    "repo_df.iloc[indices][['topics', 'description']]"
   ]
  }
 ],
 "metadata": {
  "colab": {
   "collapsed_sections": [],
   "name": "Github Starred Repositories.ipynb",
   "provenance": [],
   "version": "0.3.2"
  },
  "kernelspec": {
   "display_name": "text_mining",
   "language": "python",
   "name": "text_mining"
  },
  "language_info": {
   "codemirror_mode": {
    "name": "ipython",
    "version": 3
   },
   "file_extension": ".py",
   "mimetype": "text/x-python",
   "name": "python",
   "nbconvert_exporter": "python",
   "pygments_lexer": "ipython3",
   "version": "3.6.4"
  }
 },
 "nbformat": 4,
 "nbformat_minor": 2
}
