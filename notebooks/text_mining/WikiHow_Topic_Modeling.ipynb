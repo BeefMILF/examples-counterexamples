{
 "cells": [
  {
   "cell_type": "markdown",
   "metadata": {
    "colab_type": "text",
    "id": "l5VG6wN2VtMg"
   },
   "source": [
    "# Topic Models on WikiHow\n",
    "\n",
    "[WikiHow dataset page](https://github.com/mahnazkoupaee/WikiHow-Dataset)\n",
    "\n",
    "[Automatic Evaluation of Topic Coherence](https://www.aclweb.org/anthology/N10-1012)\n",
    "\n",
    "[Evaluation of Topic Modeling: Topic Coherence](https://datascienceplus.com/evaluation-of-topic-modeling-topic-coherence/)\n",
    "\n",
    "[Topic Coherence in gensim](https://radimrehurek.com/gensim/models/coherencemodel.html)"
   ]
  },
  {
   "cell_type": "code",
   "execution_count": 1,
   "metadata": {
    "colab": {
     "base_uri": "https://localhost:8080/",
     "height": 34
    },
    "colab_type": "code",
    "id": "HjhKY8usU1-c",
    "outputId": "689c5997-8d83-4d93-d895-ae35b99b20ec"
   },
   "outputs": [
    {
     "name": "stdout",
     "output_type": "stream",
     "text": [
      "File ‘wikihowAll.csv’ already there; not retrieving.\r\n"
     ]
    }
   ],
   "source": [
    "!wget -nc -O wikihowAll.csv https://query.data.world/s/lult233wfonljfadtexn2t5x5rb7is"
   ]
  },
  {
   "cell_type": "code",
   "execution_count": 2,
   "metadata": {
    "colab": {
     "base_uri": "https://localhost:8080/",
     "height": 527
    },
    "colab_type": "code",
    "id": "ziECGnpBVsd_",
    "outputId": "a8d6235b-7220-407d-e147-887b14eaef6d"
   },
   "outputs": [
    {
     "name": "stdout",
     "output_type": "stream",
     "text": [
      "Collecting git+https://github.com/lambdaofgod/mlutil\n",
      "  Cloning https://github.com/lambdaofgod/mlutil to /tmp/pip-0itfu2mr-build\n",
      "  Requirement already satisfied (use --upgrade to upgrade): mlutil==0.11 from git+https://github.com/lambdaofgod/mlutil in /home/kuba/Projects/mlutil\n",
      "Requirement already satisfied: gensim in /home/kuba/anaconda3/lib/python3.6/site-packages (from mlutil==0.11)\n",
      "Requirement already satisfied: nltk in /home/kuba/anaconda3/lib/python3.6/site-packages (from mlutil==0.11)\n",
      "Requirement already satisfied: pandas in /home/kuba/anaconda3/lib/python3.6/site-packages (from mlutil==0.11)\n",
      "Requirement already satisfied: numpy in /home/kuba/anaconda3/lib/python3.6/site-packages (from mlutil==0.11)\n",
      "Requirement already satisfied: tqdm in /home/kuba/anaconda3/lib/python3.6/site-packages (from mlutil==0.11)\n",
      "Requirement already satisfied: scipy>=0.18.1 in /home/kuba/anaconda3/lib/python3.6/site-packages (from gensim->mlutil==0.11)\n",
      "Requirement already satisfied: smart-open>=1.7.0 in /home/kuba/anaconda3/lib/python3.6/site-packages (from gensim->mlutil==0.11)\n",
      "Requirement already satisfied: six>=1.5.0 in /home/kuba/anaconda3/lib/python3.6/site-packages (from gensim->mlutil==0.11)\n",
      "Requirement already satisfied: singledispatch in /home/kuba/anaconda3/lib/python3.6/site-packages (from nltk->mlutil==0.11)\n",
      "Requirement already satisfied: python-dateutil>=2.5.0 in /home/kuba/anaconda3/lib/python3.6/site-packages (from pandas->mlutil==0.11)\n",
      "Requirement already satisfied: pytz>=2011k in /home/kuba/anaconda3/lib/python3.6/site-packages (from pandas->mlutil==0.11)\n",
      "Requirement already satisfied: boto>=2.32 in /home/kuba/anaconda3/lib/python3.6/site-packages (from smart-open>=1.7.0->gensim->mlutil==0.11)\n",
      "Requirement already satisfied: boto3 in /home/kuba/anaconda3/lib/python3.6/site-packages (from smart-open>=1.7.0->gensim->mlutil==0.11)\n",
      "Requirement already satisfied: requests in /home/kuba/anaconda3/lib/python3.6/site-packages (from smart-open>=1.7.0->gensim->mlutil==0.11)\n",
      "Requirement already satisfied: bz2file in /home/kuba/anaconda3/lib/python3.6/site-packages (from smart-open>=1.7.0->gensim->mlutil==0.11)\n",
      "Requirement already satisfied: botocore<1.13.0,>=1.12.130 in /home/kuba/anaconda3/lib/python3.6/site-packages (from boto3->smart-open>=1.7.0->gensim->mlutil==0.11)\n",
      "Requirement already satisfied: jmespath<1.0.0,>=0.7.1 in /home/kuba/anaconda3/lib/python3.6/site-packages (from boto3->smart-open>=1.7.0->gensim->mlutil==0.11)\n",
      "Requirement already satisfied: s3transfer<0.3.0,>=0.2.0 in /home/kuba/anaconda3/lib/python3.6/site-packages (from boto3->smart-open>=1.7.0->gensim->mlutil==0.11)\n",
      "Requirement already satisfied: idna<2.9,>=2.5 in /home/kuba/anaconda3/lib/python3.6/site-packages (from requests->smart-open>=1.7.0->gensim->mlutil==0.11)\n",
      "Requirement already satisfied: chardet<3.1.0,>=3.0.2 in /home/kuba/anaconda3/lib/python3.6/site-packages (from requests->smart-open>=1.7.0->gensim->mlutil==0.11)\n",
      "Requirement already satisfied: certifi>=2017.4.17 in /home/kuba/anaconda3/lib/python3.6/site-packages (from requests->smart-open>=1.7.0->gensim->mlutil==0.11)\n",
      "Requirement already satisfied: urllib3<1.25,>=1.21.1 in /home/kuba/anaconda3/lib/python3.6/site-packages (from requests->smart-open>=1.7.0->gensim->mlutil==0.11)\n",
      "Requirement already satisfied: docutils>=0.10 in /home/kuba/anaconda3/lib/python3.6/site-packages (from botocore<1.13.0,>=1.12.130->boto3->smart-open>=1.7.0->gensim->mlutil==0.11)\n",
      "\u001b[33mYou are using pip version 9.0.1, however version 19.1.1 is available.\n",
      "You should consider upgrading via the 'pip install --upgrade pip' command.\u001b[0m\n",
      "Requirement already satisfied: tqdm in /home/kuba/anaconda3/lib/python3.6/site-packages\n",
      "\u001b[33mYou are using pip version 9.0.1, however version 19.1.1 is available.\n",
      "You should consider upgrading via the 'pip install --upgrade pip' command.\u001b[0m\n"
     ]
    }
   ],
   "source": [
    "!pip install git+https://github.com/lambdaofgod/mlutil\n",
    "!pip install tqdm"
   ]
  },
  {
   "cell_type": "code",
   "execution_count": 3,
   "metadata": {
    "colab": {
     "base_uri": "https://localhost:8080/",
     "height": 85
    },
    "colab_type": "code",
    "id": "JOsF_0DNFeoa",
    "outputId": "52b48eda-15a0-4eda-b141-0c040b36244e"
   },
   "outputs": [
    {
     "name": "stderr",
     "output_type": "stream",
     "text": [
      "paramiko missing, opening SSH/SCP/SFTP paths will be disabled.  `pip install paramiko` to suppress\n",
      "[nltk_data] Downloading package wordnet to /home/kuba/nltk_data...\n",
      "[nltk_data]   Package wordnet is already up-to-date!\n",
      "[nltk_data] Downloading package wordnet_ic to /home/kuba/nltk_data...\n",
      "[nltk_data]   Package wordnet_ic is already up-to-date!\n"
     ]
    }
   ],
   "source": [
    "from __future__ import print_function\n",
    "from time import time\n",
    "\n",
    "import numpy as np\n",
    "import pandas as pd\n",
    "\n",
    "import seaborn as sns\n",
    "\n",
    "import tqdm\n",
    "\n",
    "\n",
    "from sklearn.feature_extraction.text import TfidfVectorizer, CountVectorizer\n",
    "from sklearn.decomposition import NMF, LatentDirichletAllocation\n",
    "from sklearn.datasets import fetch_20newsgroups\n",
    "from gensim.models.coherencemodel import CoherenceModel\n",
    "from gensim.corpora import Dictionary\n",
    "\n",
    "from IPython.display import display, Image\n",
    "\n",
    "import nltk\n",
    "nltk.download('wordnet')\n",
    "nltk.download('wordnet_ic')\n",
    "\n",
    "import mlutil\n",
    "from mlutil.textmining import get_wordnet_similarity\n",
    "\n",
    "\n",
    "import pyLDAvis\n",
    "import pyLDAvis.sklearn"
   ]
  },
  {
   "cell_type": "code",
   "execution_count": 4,
   "metadata": {},
   "outputs": [],
   "source": [
    "pyLDAvis.enable_notebook()"
   ]
  },
  {
   "cell_type": "code",
   "execution_count": 5,
   "metadata": {
    "colab": {},
    "colab_type": "code",
    "id": "BHG0igq8LsU8"
   },
   "outputs": [],
   "source": [
    "def plot_correlations(m):\n",
    "  m_corr = m @ m.T / (m ** 2).sum(axis=1)\n",
    "  sns.heatmap(m)"
   ]
  },
  {
   "cell_type": "code",
   "execution_count": 6,
   "metadata": {
    "colab": {},
    "colab_type": "code",
    "id": "65yTXA4380wu"
   },
   "outputs": [],
   "source": [
    "n_features = 5000\n",
    "n_components = 10\n",
    "n_top_words = 10"
   ]
  },
  {
   "cell_type": "markdown",
   "metadata": {
    "colab_type": "text",
    "id": "bENQvODw8tUx"
   },
   "source": [
    "## Loading WikiHow"
   ]
  },
  {
   "cell_type": "code",
   "execution_count": 7,
   "metadata": {
    "colab": {
     "base_uri": "https://localhost:8080/",
     "height": 51
    },
    "colab_type": "code",
    "id": "elY43Y65J3MZ",
    "outputId": "d09640a1-3d01-4ccd-c2da-be90b253a5bb"
   },
   "outputs": [
    {
     "name": "stdout",
     "output_type": "stream",
     "text": [
      "wikihow size (215365, 3)\n",
      "valid wikihow size (removed empty text) (214294, 3)\n"
     ]
    }
   ],
   "source": [
    "wikihow_df = pd.read_csv('wikihowAll.csv')\n",
    "print('wikihow size', wikihow_df.shape)\n",
    "wikihow_df = wikihow_df[~wikihow_df['text'].isna()]\n",
    "print('valid wikihow size (removed empty text)', wikihow_df.shape)"
   ]
  },
  {
   "cell_type": "code",
   "execution_count": 8,
   "metadata": {
    "colab": {},
    "colab_type": "code",
    "id": "5CegvpLPJ54Y"
   },
   "outputs": [],
   "source": [
    "data_samples = wikihow_df['text']\n",
    "n_samples = len(data_samples)"
   ]
  },
  {
   "cell_type": "code",
   "execution_count": 9,
   "metadata": {
    "colab": {
     "base_uri": "https://localhost:8080/",
     "height": 34
    },
    "colab_type": "code",
    "id": "ml8rOQt275bU",
    "outputId": "8fe701d3-bfa7-45b0-9db9-ac6e55deb09d"
   },
   "outputs": [
    {
     "name": "stdout",
     "output_type": "stream",
     "text": [
      "Extracting tf-idf features for NMF...\n",
      "done in 92.840s.\n",
      "Extracting tf features for LDA...\n",
      "done in 90.236s.\n",
      "\n"
     ]
    }
   ],
   "source": [
    "# Use tf-idf features for NMF.\n",
    "print(\"Extracting tf-idf features for NMF...\")\n",
    "tfidf_vectorizer = TfidfVectorizer(max_df=0.95, min_df=5,\n",
    "                                   max_features=n_features,\n",
    "                                   stop_words='english')\n",
    "t0 = time()\n",
    "tfidf = tfidf_vectorizer.fit_transform(data_samples)\n",
    "print(\"done in %0.3fs.\" % (time() - t0))\n",
    "\n",
    "# Use tf (raw term count) features for LDA.\n",
    "print(\"Extracting tf features for LDA...\")\n",
    "tf_vectorizer = CountVectorizer(max_df=0.95, min_df=5,\n",
    "                                max_features=n_features,\n",
    "                                stop_words='english')\n",
    "t0 = time()\n",
    "tf = tf_vectorizer.fit_transform(data_samples)\n",
    "print(\"done in %0.3fs.\" % (time() - t0))\n",
    "print()"
   ]
  },
  {
   "cell_type": "code",
   "execution_count": 9,
   "metadata": {
    "colab": {},
    "colab_type": "code",
    "id": "ASxsYy4K761m"
   },
   "outputs": [
    {
     "name": "stdout",
     "output_type": "stream",
     "text": [
      "Fitting the NMF model (Frobenius norm) with tf-idf features n_samples=214294 and n_features=5000...\n",
      "done in 193.698s.\n",
      "\n",
      "Topics in NMF model (Frobenius norm):\n"
     ]
    }
   ],
   "source": [
    "# Fit the NMF model\n",
    "print(\"Fitting the NMF model (Frobenius norm) with tf-idf features \"\n",
    "      \"n_samples=%d and n_features=%d...\"\n",
    "      % (n_samples, n_features))\n",
    "t0 = time()\n",
    "nmf = NMF(n_components=n_components, random_state=1,\n",
    "          alpha=.1, l1_ratio=.5).fit(tfidf)\n",
    "print(\"done in %0.3fs.\" % (time() - t0))\n",
    "\n",
    "print(\"\\nTopics in NMF model (Frobenius norm):\")\n",
    "tfidf_feature_names = tfidf_vectorizer.get_feature_names()"
   ]
  },
  {
   "cell_type": "code",
   "execution_count": 10,
   "metadata": {
    "colab": {},
    "colab_type": "code",
    "id": "FsAF4cSQTwi9"
   },
   "outputs": [
    {
     "data": {
      "text/html": [
       "<div>\n",
       "<style scoped>\n",
       "    .dataframe tbody tr th:only-of-type {\n",
       "        vertical-align: middle;\n",
       "    }\n",
       "\n",
       "    .dataframe tbody tr th {\n",
       "        vertical-align: top;\n",
       "    }\n",
       "\n",
       "    .dataframe thead th {\n",
       "        text-align: right;\n",
       "    }\n",
       "</style>\n",
       "<table border=\"1\" class=\"dataframe\">\n",
       "  <thead>\n",
       "    <tr style=\"text-align: right;\">\n",
       "      <th></th>\n",
       "      <th>0</th>\n",
       "      <th>1</th>\n",
       "      <th>2</th>\n",
       "      <th>3</th>\n",
       "      <th>4</th>\n",
       "      <th>5</th>\n",
       "      <th>6</th>\n",
       "      <th>7</th>\n",
       "      <th>8</th>\n",
       "      <th>9</th>\n",
       "    </tr>\n",
       "  </thead>\n",
       "  <tbody>\n",
       "    <tr>\n",
       "      <th>topic_0</th>\n",
       "      <td>people</td>\n",
       "      <td>don</td>\n",
       "      <td>person</td>\n",
       "      <td>like</td>\n",
       "      <td>feel</td>\n",
       "      <td>time</td>\n",
       "      <td>make</td>\n",
       "      <td>things</td>\n",
       "      <td>say</td>\n",
       "      <td>know</td>\n",
       "    </tr>\n",
       "    <tr>\n",
       "      <th>topic_1</th>\n",
       "      <td>add</td>\n",
       "      <td>water</td>\n",
       "      <td>mixture</td>\n",
       "      <td>minutes</td>\n",
       "      <td>oil</td>\n",
       "      <td>heat</td>\n",
       "      <td>stir</td>\n",
       "      <td>bowl</td>\n",
       "      <td>pan</td>\n",
       "      <td>mix</td>\n",
       "    </tr>\n",
       "    <tr>\n",
       "      <th>topic_2</th>\n",
       "      <td>click</td>\n",
       "      <td>screen</td>\n",
       "      <td>button</td>\n",
       "      <td>select</td>\n",
       "      <td>menu</td>\n",
       "      <td>tap</td>\n",
       "      <td>app</td>\n",
       "      <td>icon</td>\n",
       "      <td>file</td>\n",
       "      <td>page</td>\n",
       "    </tr>\n",
       "    <tr>\n",
       "      <th>topic_3</th>\n",
       "      <td>hair</td>\n",
       "      <td>shampoo</td>\n",
       "      <td>comb</td>\n",
       "      <td>dry</td>\n",
       "      <td>conditioner</td>\n",
       "      <td>look</td>\n",
       "      <td>skin</td>\n",
       "      <td>scalp</td>\n",
       "      <td>brush</td>\n",
       "      <td>oil</td>\n",
       "    </tr>\n",
       "    <tr>\n",
       "      <th>topic_4</th>\n",
       "      <td>dog</td>\n",
       "      <td>dogs</td>\n",
       "      <td>vet</td>\n",
       "      <td>pet</td>\n",
       "      <td>puppy</td>\n",
       "      <td>food</td>\n",
       "      <td>training</td>\n",
       "      <td>leash</td>\n",
       "      <td>treat</td>\n",
       "      <td>breed</td>\n",
       "    </tr>\n",
       "    <tr>\n",
       "      <th>topic_5</th>\n",
       "      <td>skin</td>\n",
       "      <td>doctor</td>\n",
       "      <td>body</td>\n",
       "      <td>help</td>\n",
       "      <td>blood</td>\n",
       "      <td>foods</td>\n",
       "      <td>pain</td>\n",
       "      <td>symptoms</td>\n",
       "      <td>day</td>\n",
       "      <td>exercise</td>\n",
       "    </tr>\n",
       "    <tr>\n",
       "      <th>topic_6</th>\n",
       "      <td>use</td>\n",
       "      <td>make</td>\n",
       "      <td>water</td>\n",
       "      <td>paper</td>\n",
       "      <td>paint</td>\n",
       "      <td>cut</td>\n",
       "      <td>sure</td>\n",
       "      <td>color</td>\n",
       "      <td>place</td>\n",
       "      <td>glue</td>\n",
       "    </tr>\n",
       "    <tr>\n",
       "      <th>topic_7</th>\n",
       "      <td>business</td>\n",
       "      <td>information</td>\n",
       "      <td>need</td>\n",
       "      <td>state</td>\n",
       "      <td>company</td>\n",
       "      <td>card</td>\n",
       "      <td>number</td>\n",
       "      <td>credit</td>\n",
       "      <td>money</td>\n",
       "      <td>online</td>\n",
       "    </tr>\n",
       "    <tr>\n",
       "      <th>topic_8</th>\n",
       "      <td>cat</td>\n",
       "      <td>cats</td>\n",
       "      <td>vet</td>\n",
       "      <td>food</td>\n",
       "      <td>pet</td>\n",
       "      <td>litter</td>\n",
       "      <td>veterinarian</td>\n",
       "      <td>toys</td>\n",
       "      <td>kitten</td>\n",
       "      <td>box</td>\n",
       "    </tr>\n",
       "    <tr>\n",
       "      <th>topic_9</th>\n",
       "      <td>child</td>\n",
       "      <td>children</td>\n",
       "      <td>kids</td>\n",
       "      <td>parents</td>\n",
       "      <td>parent</td>\n",
       "      <td>baby</td>\n",
       "      <td>school</td>\n",
       "      <td>help</td>\n",
       "      <td>behavior</td>\n",
       "      <td>toddler</td>\n",
       "    </tr>\n",
       "  </tbody>\n",
       "</table>\n",
       "</div>"
      ],
      "text/plain": [
       "                0            1        2        3            4       5  \\\n",
       "topic_0    people          don   person     like         feel    time   \n",
       "topic_1       add        water  mixture  minutes          oil    heat   \n",
       "topic_2     click       screen   button   select         menu     tap   \n",
       "topic_3      hair      shampoo     comb      dry  conditioner    look   \n",
       "topic_4       dog         dogs      vet      pet        puppy    food   \n",
       "topic_5      skin       doctor     body     help        blood   foods   \n",
       "topic_6       use         make    water    paper        paint     cut   \n",
       "topic_7  business  information     need    state      company    card   \n",
       "topic_8       cat         cats      vet     food          pet  litter   \n",
       "topic_9     child     children     kids  parents       parent    baby   \n",
       "\n",
       "                    6         7         8         9  \n",
       "topic_0          make    things       say      know  \n",
       "topic_1          stir      bowl       pan       mix  \n",
       "topic_2           app      icon      file      page  \n",
       "topic_3          skin     scalp     brush       oil  \n",
       "topic_4      training     leash     treat     breed  \n",
       "topic_5          pain  symptoms       day  exercise  \n",
       "topic_6          sure     color     place      glue  \n",
       "topic_7        number    credit     money    online  \n",
       "topic_8  veterinarian      toys    kitten       box  \n",
       "topic_9        school      help  behavior   toddler  "
      ]
     },
     "metadata": {},
     "output_type": "display_data"
    }
   ],
   "source": [
    "nmf_keywords_per_topic = mlutil.topic_modeling.top_topic_words(nmf, tfidf_feature_names, 100)\n",
    "display(nmf_keywords_per_topic.iloc[:,:10])"
   ]
  },
  {
   "cell_type": "markdown",
   "metadata": {
    "colab_type": "text",
    "id": "aNZCvvimNZ7V"
   },
   "source": [
    "## Topic coherence\n",
    "\n",
    "In the following we use average Resnik similarity of words from top topic keywords.\n"
   ]
  },
  {
   "cell_type": "code",
   "execution_count": 11,
   "metadata": {
    "colab": {},
    "colab_type": "code",
    "id": "I1Hmx0WromYW"
   },
   "outputs": [
    {
     "name": "stderr",
     "output_type": "stream",
     "text": [
      "100%|██████████| 10/10 [03:01<00:00, 18.13s/it]"
     ]
    },
    {
     "name": "stdout",
     "output_type": "stream",
     "text": [
      "NMF-based topic model mean coherence: 0    1.037505\n",
      "1    1.003931\n",
      "2    0.958536\n",
      "3    1.273350\n",
      "4    1.448881\n",
      "5    0.864943\n",
      "6    1.378219\n",
      "7    0.715856\n",
      "8    1.833986\n",
      "9    1.831830\n",
      "dtype: float64\n"
     ]
    },
    {
     "name": "stderr",
     "output_type": "stream",
     "text": [
      "\n"
     ]
    }
   ],
   "source": [
    "nmf_mean_coherence = mlutil.topic_modeling.get_topic_coherences(nmf_keywords_per_topic)\n",
    "print('NMF-based topic model mean coherence:', nmf_mean_coherence)"
   ]
  },
  {
   "cell_type": "code",
   "execution_count": 12,
   "metadata": {
    "colab": {},
    "colab_type": "code",
    "id": "b3NgQZx278MS"
   },
   "outputs": [
    {
     "name": "stdout",
     "output_type": "stream",
     "text": [
      "Fitting the NMF model (generalized Kullback-Leibler divergence) with tf-idf features, n_samples=214294 and n_features=5000...\n",
      "done in 1760.113s.\n"
     ]
    }
   ],
   "source": [
    "# Fit the KL divergence NMF model\n",
    "print(\"Fitting the NMF model (generalized Kullback-Leibler divergence) with \"\n",
    "      \"tf-idf features, n_samples=%d and n_features=%d...\"\n",
    "      % (n_samples, n_features))\n",
    "t0 = time()\n",
    "kl_nmf = NMF(n_components=n_components, random_state=1,\n",
    "          beta_loss='kullback-leibler', solver='mu', max_iter=1000, alpha=.1,\n",
    "          l1_ratio=.5).fit(tfidf)\n",
    "print(\"done in %0.3fs.\" % (time() - t0))\n",
    "\n",
    "tfidf_feature_names = tfidf_vectorizer.get_feature_names()"
   ]
  },
  {
   "cell_type": "markdown",
   "metadata": {
    "colab_type": "text",
    "id": "J7hhVdwSwbo8"
   },
   "source": [
    "### Topics in NMF model (generalized Kullback-Leibler divergence)"
   ]
  },
  {
   "cell_type": "code",
   "execution_count": 14,
   "metadata": {
    "colab": {},
    "colab_type": "code",
    "id": "m9_bJBnPuVfE"
   },
   "outputs": [
    {
     "data": {
      "text/html": [
       "<div>\n",
       "<style scoped>\n",
       "    .dataframe tbody tr th:only-of-type {\n",
       "        vertical-align: middle;\n",
       "    }\n",
       "\n",
       "    .dataframe tbody tr th {\n",
       "        vertical-align: top;\n",
       "    }\n",
       "\n",
       "    .dataframe thead th {\n",
       "        text-align: right;\n",
       "    }\n",
       "</style>\n",
       "<table border=\"1\" class=\"dataframe\">\n",
       "  <thead>\n",
       "    <tr style=\"text-align: right;\">\n",
       "      <th></th>\n",
       "      <th>0</th>\n",
       "      <th>1</th>\n",
       "      <th>2</th>\n",
       "      <th>3</th>\n",
       "      <th>4</th>\n",
       "      <th>5</th>\n",
       "      <th>6</th>\n",
       "      <th>7</th>\n",
       "      <th>8</th>\n",
       "      <th>9</th>\n",
       "    </tr>\n",
       "  </thead>\n",
       "  <tbody>\n",
       "    <tr>\n",
       "      <th>topic_0</th>\n",
       "      <td>time</td>\n",
       "      <td>try</td>\n",
       "      <td>make</td>\n",
       "      <td>like</td>\n",
       "      <td>way</td>\n",
       "      <td>want</td>\n",
       "      <td>don</td>\n",
       "      <td>people</td>\n",
       "      <td>help</td>\n",
       "      <td>just</td>\n",
       "    </tr>\n",
       "    <tr>\n",
       "      <th>topic_1</th>\n",
       "      <td>water</td>\n",
       "      <td>use</td>\n",
       "      <td>using</td>\n",
       "      <td>remove</td>\n",
       "      <td>sure</td>\n",
       "      <td>make</td>\n",
       "      <td>warm</td>\n",
       "      <td>dry</td>\n",
       "      <td>small</td>\n",
       "      <td>minutes</td>\n",
       "    </tr>\n",
       "    <tr>\n",
       "      <th>topic_2</th>\n",
       "      <td>click</td>\n",
       "      <td>select</td>\n",
       "      <td>screen</td>\n",
       "      <td>right</td>\n",
       "      <td>open</td>\n",
       "      <td>use</td>\n",
       "      <td>want</td>\n",
       "      <td>type</td>\n",
       "      <td>menu</td>\n",
       "      <td>window</td>\n",
       "    </tr>\n",
       "    <tr>\n",
       "      <th>topic_3</th>\n",
       "      <td>look</td>\n",
       "      <td>wear</td>\n",
       "      <td>hair</td>\n",
       "      <td>like</td>\n",
       "      <td>try</td>\n",
       "      <td>want</td>\n",
       "      <td>don</td>\n",
       "      <td>just</td>\n",
       "      <td>style</td>\n",
       "      <td>make</td>\n",
       "    </tr>\n",
       "    <tr>\n",
       "      <th>topic_4</th>\n",
       "      <td>pet</td>\n",
       "      <td>need</td>\n",
       "      <td>dog</td>\n",
       "      <td>sure</td>\n",
       "      <td>possible</td>\n",
       "      <td>prevent</td>\n",
       "      <td>safe</td>\n",
       "      <td>provide</td>\n",
       "      <td>likely</td>\n",
       "      <td>vet</td>\n",
       "    </tr>\n",
       "    <tr>\n",
       "      <th>topic_5</th>\n",
       "      <td>help</td>\n",
       "      <td>weight</td>\n",
       "      <td>include</td>\n",
       "      <td>reduce</td>\n",
       "      <td>doctor</td>\n",
       "      <td>body</td>\n",
       "      <td>health</td>\n",
       "      <td>treatment</td>\n",
       "      <td>need</td>\n",
       "      <td>increase</td>\n",
       "    </tr>\n",
       "    <tr>\n",
       "      <th>topic_6</th>\n",
       "      <td>use</td>\n",
       "      <td>need</td>\n",
       "      <td>work</td>\n",
       "      <td>way</td>\n",
       "      <td>sure</td>\n",
       "      <td>make</td>\n",
       "      <td>want</td>\n",
       "      <td>right</td>\n",
       "      <td>start</td>\n",
       "      <td>using</td>\n",
       "    </tr>\n",
       "    <tr>\n",
       "      <th>topic_7</th>\n",
       "      <td>use</td>\n",
       "      <td>information</td>\n",
       "      <td>online</td>\n",
       "      <td>number</td>\n",
       "      <td>website</td>\n",
       "      <td>need</td>\n",
       "      <td>year</td>\n",
       "      <td>example</td>\n",
       "      <td>provide</td>\n",
       "      <td>work</td>\n",
       "    </tr>\n",
       "    <tr>\n",
       "      <th>topic_8</th>\n",
       "      <td>stir</td>\n",
       "      <td>minutes</td>\n",
       "      <td>mix</td>\n",
       "      <td>add</td>\n",
       "      <td>mixture</td>\n",
       "      <td>serve</td>\n",
       "      <td>sugar</td>\n",
       "      <td>place</td>\n",
       "      <td>salt</td>\n",
       "      <td>time</td>\n",
       "    </tr>\n",
       "    <tr>\n",
       "      <th>topic_9</th>\n",
       "      <td>use</td>\n",
       "      <td>make</td>\n",
       "      <td>sure</td>\n",
       "      <td>place</td>\n",
       "      <td>small</td>\n",
       "      <td>want</td>\n",
       "      <td>using</td>\n",
       "      <td>paper</td>\n",
       "      <td>cut</td>\n",
       "      <td>shape</td>\n",
       "    </tr>\n",
       "  </tbody>\n",
       "</table>\n",
       "</div>"
      ],
      "text/plain": [
       "             0            1        2       3         4        5       6  \\\n",
       "topic_0   time          try     make    like       way     want     don   \n",
       "topic_1  water          use    using  remove      sure     make    warm   \n",
       "topic_2  click       select   screen   right      open      use    want   \n",
       "topic_3   look         wear     hair    like       try     want     don   \n",
       "topic_4    pet         need      dog    sure  possible  prevent    safe   \n",
       "topic_5   help       weight  include  reduce    doctor     body  health   \n",
       "topic_6    use         need     work     way      sure     make    want   \n",
       "topic_7    use  information   online  number   website     need    year   \n",
       "topic_8   stir      minutes      mix     add   mixture    serve   sugar   \n",
       "topic_9    use         make     sure   place     small     want   using   \n",
       "\n",
       "                 7        8         9  \n",
       "topic_0     people     help      just  \n",
       "topic_1        dry    small   minutes  \n",
       "topic_2       type     menu    window  \n",
       "topic_3       just    style      make  \n",
       "topic_4    provide   likely       vet  \n",
       "topic_5  treatment     need  increase  \n",
       "topic_6      right    start     using  \n",
       "topic_7    example  provide      work  \n",
       "topic_8      place     salt      time  \n",
       "topic_9      paper      cut     shape  "
      ]
     },
     "metadata": {},
     "output_type": "display_data"
    }
   ],
   "source": [
    "kl_nmf_keywords_per_topic = mlutil.topic_modeling.top_topic_words(kl_nmf, tfidf_feature_names, 100)\n",
    "display(kl_nmf_keywords_per_topic.iloc[:,:10])"
   ]
  },
  {
   "cell_type": "code",
   "execution_count": 16,
   "metadata": {
    "colab": {},
    "colab_type": "code",
    "id": "fddvz8GJufYF"
   },
   "outputs": [
    {
     "name": "stderr",
     "output_type": "stream",
     "text": [
      "100%|██████████| 10/10 [02:57<00:00, 19.10s/it]"
     ]
    },
    {
     "name": "stdout",
     "output_type": "stream",
     "text": [
      "KL-NMF-based topic model mean coherence: 0    1.218143\n",
      "1    0.635964\n",
      "2    0.715969\n",
      "3    0.829468\n",
      "4    0.707291\n",
      "5    0.734174\n",
      "6    1.303825\n",
      "7    0.778983\n",
      "8    1.028046\n",
      "9    0.870015\n",
      "dtype: float64\n"
     ]
    },
    {
     "name": "stderr",
     "output_type": "stream",
     "text": [
      "\n"
     ]
    }
   ],
   "source": [
    "kl_nmf_mean_coherence = mlutil.topic_modeling.get_topic_coherences(kl_nmf_keywords_per_topic)\n",
    "print('KL-NMF-based topic model mean coherence:', kl_nmf_mean_coherence)"
   ]
  },
  {
   "cell_type": "code",
   "execution_count": 10,
   "metadata": {
    "colab": {},
    "colab_type": "code",
    "id": "dFd0ANqVVA82"
   },
   "outputs": [
    {
     "name": "stdout",
     "output_type": "stream",
     "text": [
      "Fitting LDA models with tf features, n_samples=214294 and n_features=5000...\n",
      "done in 840.556s.\n",
      "\n",
      "Topics in LDA model:\n"
     ]
    }
   ],
   "source": [
    "print(\"Fitting LDA models with tf features, \"\n",
    "      \"n_samples=%d and n_features=%d...\"\n",
    "      % (n_samples, n_features))\n",
    "lda = LatentDirichletAllocation(n_components=n_components, max_iter=5,\n",
    "                                learning_method='online',\n",
    "                                learning_offset=50.,\n",
    "                                random_state=0,\n",
    "                                n_jobs=-1)\n",
    "t0 = time()\n",
    "lda.fit(tf)\n",
    "print(\"done in %0.3fs.\" % (time() - t0))\n",
    "\n",
    "print(\"\\nTopics in LDA model:\")\n",
    "tf_feature_names = tf_vectorizer.get_feature_names()"
   ]
  },
  {
   "cell_type": "code",
   "execution_count": 11,
   "metadata": {
    "colab": {},
    "colab_type": "code",
    "id": "wpImYZjYuZzN"
   },
   "outputs": [
    {
     "data": {
      "text/html": [
       "<div>\n",
       "<style scoped>\n",
       "    .dataframe tbody tr th:only-of-type {\n",
       "        vertical-align: middle;\n",
       "    }\n",
       "\n",
       "    .dataframe tbody tr th {\n",
       "        vertical-align: top;\n",
       "    }\n",
       "\n",
       "    .dataframe thead th {\n",
       "        text-align: right;\n",
       "    }\n",
       "</style>\n",
       "<table border=\"1\" class=\"dataframe\">\n",
       "  <thead>\n",
       "    <tr style=\"text-align: right;\">\n",
       "      <th></th>\n",
       "      <th>0</th>\n",
       "      <th>1</th>\n",
       "      <th>2</th>\n",
       "      <th>3</th>\n",
       "      <th>4</th>\n",
       "      <th>5</th>\n",
       "      <th>6</th>\n",
       "      <th>7</th>\n",
       "      <th>8</th>\n",
       "      <th>9</th>\n",
       "    </tr>\n",
       "  </thead>\n",
       "  <tbody>\n",
       "    <tr>\n",
       "      <th>topic_0</th>\n",
       "      <td>food</td>\n",
       "      <td>foods</td>\n",
       "      <td>blood</td>\n",
       "      <td>skin</td>\n",
       "      <td>eat</td>\n",
       "      <td>help</td>\n",
       "      <td>like</td>\n",
       "      <td>doctor</td>\n",
       "      <td>day</td>\n",
       "      <td>meat</td>\n",
       "    </tr>\n",
       "    <tr>\n",
       "      <th>topic_1</th>\n",
       "      <td>use</td>\n",
       "      <td>make</td>\n",
       "      <td>cut</td>\n",
       "      <td>place</td>\n",
       "      <td>end</td>\n",
       "      <td>need</td>\n",
       "      <td>right</td>\n",
       "      <td>hand</td>\n",
       "      <td>sure</td>\n",
       "      <td>paper</td>\n",
       "    </tr>\n",
       "    <tr>\n",
       "      <th>topic_2</th>\n",
       "      <td>time</td>\n",
       "      <td>make</td>\n",
       "      <td>work</td>\n",
       "      <td>need</td>\n",
       "      <td>good</td>\n",
       "      <td>like</td>\n",
       "      <td>want</td>\n",
       "      <td>help</td>\n",
       "      <td>ll</td>\n",
       "      <td>people</td>\n",
       "    </tr>\n",
       "    <tr>\n",
       "      <th>topic_3</th>\n",
       "      <td>help</td>\n",
       "      <td>child</td>\n",
       "      <td>time</td>\n",
       "      <td>feel</td>\n",
       "      <td>try</td>\n",
       "      <td>body</td>\n",
       "      <td>children</td>\n",
       "      <td>exercise</td>\n",
       "      <td>day</td>\n",
       "      <td>sleep</td>\n",
       "    </tr>\n",
       "    <tr>\n",
       "      <th>topic_4</th>\n",
       "      <td>click</td>\n",
       "      <td>button</td>\n",
       "      <td>screen</td>\n",
       "      <td>select</td>\n",
       "      <td>right</td>\n",
       "      <td>open</td>\n",
       "      <td>computer</td>\n",
       "      <td>use</td>\n",
       "      <td>tap</td>\n",
       "      <td>window</td>\n",
       "    </tr>\n",
       "    <tr>\n",
       "      <th>topic_5</th>\n",
       "      <td>don</td>\n",
       "      <td>make</td>\n",
       "      <td>people</td>\n",
       "      <td>like</td>\n",
       "      <td>person</td>\n",
       "      <td>want</td>\n",
       "      <td>time</td>\n",
       "      <td>just</td>\n",
       "      <td>know</td>\n",
       "      <td>try</td>\n",
       "    </tr>\n",
       "    <tr>\n",
       "      <th>topic_6</th>\n",
       "      <td>water</td>\n",
       "      <td>use</td>\n",
       "      <td>add</td>\n",
       "      <td>dry</td>\n",
       "      <td>remove</td>\n",
       "      <td>make</td>\n",
       "      <td>oil</td>\n",
       "      <td>place</td>\n",
       "      <td>minutes</td>\n",
       "      <td>clean</td>\n",
       "    </tr>\n",
       "    <tr>\n",
       "      <th>topic_7</th>\n",
       "      <td>information</td>\n",
       "      <td>need</td>\n",
       "      <td>business</td>\n",
       "      <td>state</td>\n",
       "      <td>number</td>\n",
       "      <td>file</td>\n",
       "      <td>example</td>\n",
       "      <td>use</td>\n",
       "      <td>court</td>\n",
       "      <td>credit</td>\n",
       "    </tr>\n",
       "    <tr>\n",
       "      <th>topic_8</th>\n",
       "      <td>paint</td>\n",
       "      <td>look</td>\n",
       "      <td>color</td>\n",
       "      <td>hair</td>\n",
       "      <td>make</td>\n",
       "      <td>use</td>\n",
       "      <td>like</td>\n",
       "      <td>want</td>\n",
       "      <td>colors</td>\n",
       "      <td>wear</td>\n",
       "    </tr>\n",
       "    <tr>\n",
       "      <th>topic_9</th>\n",
       "      <td>dog</td>\n",
       "      <td>cat</td>\n",
       "      <td>water</td>\n",
       "      <td>make</td>\n",
       "      <td>need</td>\n",
       "      <td>sure</td>\n",
       "      <td>soil</td>\n",
       "      <td>plant</td>\n",
       "      <td>plants</td>\n",
       "      <td>home</td>\n",
       "    </tr>\n",
       "  </tbody>\n",
       "</table>\n",
       "</div>"
      ],
      "text/plain": [
       "                   0       1         2       3       4     5         6  \\\n",
       "topic_0         food   foods     blood    skin     eat  help      like   \n",
       "topic_1          use    make       cut   place     end  need     right   \n",
       "topic_2         time    make      work    need    good  like      want   \n",
       "topic_3         help   child      time    feel     try  body  children   \n",
       "topic_4        click  button    screen  select   right  open  computer   \n",
       "topic_5          don    make    people    like  person  want      time   \n",
       "topic_6        water     use       add     dry  remove  make       oil   \n",
       "topic_7  information    need  business   state  number  file   example   \n",
       "topic_8        paint    look     color    hair    make   use      like   \n",
       "topic_9          dog     cat     water    make    need  sure      soil   \n",
       "\n",
       "                7        8       9  \n",
       "topic_0    doctor      day    meat  \n",
       "topic_1      hand     sure   paper  \n",
       "topic_2      help       ll  people  \n",
       "topic_3  exercise      day   sleep  \n",
       "topic_4       use      tap  window  \n",
       "topic_5      just     know     try  \n",
       "topic_6     place  minutes   clean  \n",
       "topic_7       use    court  credit  \n",
       "topic_8      want   colors    wear  \n",
       "topic_9     plant   plants    home  "
      ]
     },
     "metadata": {},
     "output_type": "display_data"
    }
   ],
   "source": [
    "lda_keywords_per_topic = mlutil.topic_modeling.top_topic_words(lda, tf_feature_names, 100)\n",
    "display(lda_keywords_per_topic.iloc[:,:10])"
   ]
  },
  {
   "cell_type": "markdown",
   "metadata": {
    "colab_type": "text",
    "id": "0cveKWLGHtWE"
   },
   "source": [
    "Warning: the results of LDA may be a bit misleading - I don't know whether getting topic keywords from LDA uses the same mechanism as in NMF (which will correspond to tf-idf features, instead of tf ones)"
   ]
  },
  {
   "cell_type": "code",
   "execution_count": 23,
   "metadata": {
    "colab": {},
    "colab_type": "code",
    "id": "rI57DEEtulMs"
   },
   "outputs": [
    {
     "name": "stderr",
     "output_type": "stream",
     "text": [
      "100%|██████████| 10/10 [02:57<00:00, 18.68s/it]"
     ]
    },
    {
     "name": "stdout",
     "output_type": "stream",
     "text": [
      "LDA-based topic model mean coherence: 0    0.963005\n",
      "1    0.679626\n",
      "2    1.135926\n",
      "3    0.927911\n",
      "4    1.046612\n",
      "5    1.159201\n",
      "6    0.965963\n",
      "7    0.917089\n",
      "8    1.009249\n",
      "9    0.886062\n",
      "dtype: float64\n"
     ]
    },
    {
     "name": "stderr",
     "output_type": "stream",
     "text": [
      "\n"
     ]
    }
   ],
   "source": [
    "lda_mean_coherence = mlutil.topic_modeling.get_topic_coherences(lda_keywords_per_topic)\n",
    "print('LDA-based topic model mean coherence:', lda_mean_coherence)"
   ]
  },
  {
   "cell_type": "code",
   "execution_count": 12,
   "metadata": {},
   "outputs": [
    {
     "name": "stderr",
     "output_type": "stream",
     "text": [
      "/home/kuba/anaconda3/lib/python3.6/site-packages/pyLDAvis/_prepare.py:257: FutureWarning: Sorting because non-concatenation axis is not aligned. A future version\n",
      "of pandas will change to not sort by default.\n",
      "\n",
      "To accept the future behavior, pass 'sort=False'.\n",
      "\n",
      "To retain the current behavior and silence the warning, pass 'sort=True'.\n",
      "\n",
      "  return pd.concat([default_term_info] + list(topic_dfs))\n"
     ]
    },
    {
     "name": "stdout",
     "output_type": "stream",
     "text": [
      "CPU times: user 1min 45s, sys: 1.17 s, total: 1min 46s\n",
      "Wall time: 7min 53s\n"
     ]
    },
    {
     "data": {
      "text/html": [
       "\n",
       "<link rel=\"stylesheet\" type=\"text/css\" href=\"https://cdn.rawgit.com/bmabey/pyLDAvis/files/ldavis.v1.0.0.css\">\n",
       "\n",
       "\n",
       "<div id=\"ldavis_el38571404234416657442224280440\"></div>\n",
       "<script type=\"text/javascript\">\n",
       "\n",
       "var ldavis_el38571404234416657442224280440_data = {\"mdsDat\": {\"x\": [0.13708502380616405, 0.13362055917918808, 0.11948891509630241, -0.2126005372481458, -0.17957105256017653, 0.19481576221642774, 0.06445109399638244, -0.012666741101196598, -0.10991345835190498, -0.13470956503304093], \"y\": [-0.06070156958540522, -0.11532706661776738, -0.06151165972969891, 0.14806192438337026, -0.01947545023943173, 0.06820313986662196, 0.20367588818274146, 0.08581301401570869, 0.009174649117139977, -0.25791286939327873], \"topics\": [1, 2, 3, 4, 5, 6, 7, 8, 9, 10], \"cluster\": [1, 1, 1, 1, 1, 1, 1, 1, 1, 1], \"Freq\": [16.656680277735543, 13.17928293226737, 13.048087566450278, 10.17727760063704, 9.939043778077393, 9.018379144542381, 8.0871632134965, 7.772586757255312, 7.020370562620048, 5.101128166918153]}, \"tinfo\": {\"Category\": [\"Default\", \"Default\", \"Default\", \"Default\", \"Default\", \"Default\", \"Default\", \"Default\", \"Default\", \"Default\", \"Default\", \"Default\", \"Default\", \"Default\", \"Default\", \"Default\", \"Default\", \"Default\", \"Default\", \"Default\", \"Default\", \"Default\", \"Default\", \"Default\", \"Default\", \"Default\", \"Default\", \"Default\", \"Default\", \"Default\", \"Topic1\", \"Topic1\", \"Topic1\", \"Topic1\", \"Topic1\", \"Topic1\", \"Topic1\", \"Topic1\", \"Topic1\", \"Topic1\", \"Topic1\", \"Topic1\", \"Topic1\", \"Topic1\", \"Topic1\", \"Topic1\", \"Topic1\", \"Topic1\", \"Topic1\", \"Topic1\", \"Topic1\", \"Topic1\", \"Topic1\", \"Topic1\", \"Topic1\", \"Topic1\", \"Topic1\", \"Topic1\", \"Topic1\", \"Topic1\", \"Topic1\", \"Topic1\", \"Topic1\", \"Topic1\", \"Topic1\", \"Topic1\", \"Topic1\", \"Topic1\", \"Topic1\", \"Topic1\", \"Topic1\", \"Topic1\", \"Topic1\", \"Topic1\", \"Topic1\", \"Topic1\", \"Topic1\", \"Topic1\", \"Topic1\", \"Topic1\", \"Topic1\", \"Topic1\", \"Topic1\", \"Topic1\", \"Topic1\", \"Topic1\", \"Topic1\", \"Topic1\", \"Topic1\", \"Topic1\", \"Topic1\", \"Topic1\", \"Topic1\", \"Topic1\", \"Topic1\", \"Topic1\", \"Topic1\", \"Topic1\", \"Topic1\", \"Topic1\", \"Topic1\", \"Topic1\", \"Topic1\", \"Topic1\", \"Topic1\", \"Topic1\", \"Topic1\", \"Topic1\", \"Topic1\", \"Topic1\", \"Topic1\", \"Topic1\", \"Topic1\", \"Topic1\", \"Topic1\", \"Topic1\", \"Topic1\", \"Topic2\", \"Topic2\", \"Topic2\", \"Topic2\", \"Topic2\", \"Topic2\", \"Topic2\", \"Topic2\", \"Topic2\", \"Topic2\", \"Topic2\", \"Topic2\", \"Topic2\", \"Topic2\", \"Topic2\", \"Topic2\", \"Topic2\", \"Topic2\", \"Topic2\", \"Topic2\", \"Topic2\", \"Topic2\", \"Topic2\", \"Topic2\", \"Topic2\", \"Topic2\", \"Topic2\", \"Topic2\", \"Topic2\", \"Topic2\", \"Topic2\", \"Topic2\", \"Topic2\", \"Topic2\", \"Topic2\", \"Topic2\", \"Topic2\", \"Topic2\", \"Topic2\", \"Topic2\", \"Topic2\", \"Topic2\", \"Topic2\", \"Topic2\", \"Topic2\", \"Topic2\", \"Topic2\", \"Topic2\", \"Topic2\", \"Topic2\", \"Topic2\", \"Topic2\", \"Topic2\", \"Topic2\", \"Topic2\", \"Topic2\", \"Topic2\", \"Topic2\", \"Topic2\", \"Topic2\", \"Topic2\", \"Topic2\", \"Topic2\", \"Topic2\", \"Topic2\", \"Topic2\", \"Topic2\", \"Topic2\", \"Topic2\", \"Topic2\", \"Topic2\", \"Topic2\", \"Topic2\", \"Topic2\", \"Topic2\", \"Topic2\", \"Topic2\", \"Topic2\", \"Topic2\", \"Topic3\", \"Topic3\", \"Topic3\", \"Topic3\", \"Topic3\", \"Topic3\", \"Topic3\", \"Topic3\", \"Topic3\", \"Topic3\", \"Topic3\", \"Topic3\", \"Topic3\", \"Topic3\", \"Topic3\", \"Topic3\", \"Topic3\", \"Topic3\", \"Topic3\", \"Topic3\", \"Topic3\", \"Topic3\", \"Topic3\", \"Topic3\", \"Topic3\", \"Topic3\", \"Topic3\", \"Topic3\", \"Topic3\", \"Topic3\", \"Topic3\", \"Topic3\", \"Topic3\", \"Topic3\", \"Topic3\", \"Topic3\", \"Topic3\", \"Topic3\", \"Topic3\", \"Topic3\", \"Topic3\", \"Topic3\", \"Topic3\", \"Topic3\", \"Topic3\", \"Topic3\", \"Topic3\", \"Topic3\", \"Topic3\", \"Topic3\", \"Topic3\", \"Topic3\", \"Topic3\", \"Topic3\", \"Topic3\", \"Topic3\", \"Topic3\", \"Topic3\", \"Topic3\", \"Topic3\", \"Topic3\", \"Topic3\", \"Topic3\", \"Topic3\", \"Topic3\", \"Topic3\", \"Topic3\", \"Topic3\", \"Topic3\", \"Topic3\", \"Topic3\", \"Topic3\", \"Topic3\", \"Topic3\", \"Topic3\", \"Topic3\", \"Topic3\", \"Topic3\", \"Topic3\", \"Topic3\", \"Topic3\", \"Topic3\", \"Topic3\", \"Topic3\", \"Topic3\", \"Topic3\", \"Topic4\", \"Topic4\", \"Topic4\", \"Topic4\", \"Topic4\", \"Topic4\", \"Topic4\", \"Topic4\", \"Topic4\", \"Topic4\", \"Topic4\", \"Topic4\", \"Topic4\", \"Topic4\", \"Topic4\", \"Topic4\", \"Topic4\", \"Topic4\", \"Topic4\", \"Topic4\", \"Topic4\", \"Topic4\", \"Topic4\", \"Topic4\", \"Topic4\", \"Topic4\", \"Topic4\", \"Topic4\", \"Topic4\", \"Topic4\", \"Topic4\", \"Topic4\", \"Topic4\", \"Topic4\", \"Topic4\", \"Topic4\", \"Topic4\", \"Topic4\", \"Topic4\", \"Topic4\", \"Topic4\", \"Topic4\", \"Topic4\", \"Topic4\", \"Topic4\", \"Topic4\", \"Topic4\", \"Topic4\", \"Topic4\", \"Topic4\", \"Topic4\", \"Topic4\", \"Topic4\", \"Topic4\", \"Topic4\", \"Topic4\", \"Topic4\", \"Topic4\", \"Topic4\", \"Topic4\", \"Topic4\", \"Topic4\", \"Topic4\", \"Topic4\", \"Topic4\", \"Topic4\", \"Topic4\", \"Topic4\", \"Topic4\", \"Topic4\", \"Topic4\", \"Topic4\", \"Topic4\", \"Topic4\", \"Topic4\", \"Topic4\", \"Topic4\", \"Topic4\", \"Topic5\", \"Topic5\", \"Topic5\", \"Topic5\", \"Topic5\", \"Topic5\", \"Topic5\", \"Topic5\", \"Topic5\", \"Topic5\", \"Topic5\", \"Topic5\", \"Topic5\", \"Topic5\", \"Topic5\", \"Topic5\", \"Topic5\", \"Topic5\", \"Topic5\", \"Topic5\", \"Topic5\", \"Topic5\", \"Topic5\", \"Topic5\", \"Topic5\", \"Topic5\", \"Topic5\", \"Topic5\", \"Topic5\", \"Topic5\", \"Topic5\", \"Topic5\", \"Topic5\", \"Topic5\", \"Topic5\", \"Topic5\", \"Topic5\", \"Topic5\", \"Topic5\", \"Topic5\", \"Topic5\", \"Topic5\", \"Topic5\", \"Topic5\", \"Topic5\", \"Topic5\", \"Topic5\", \"Topic5\", \"Topic5\", \"Topic5\", \"Topic5\", \"Topic5\", \"Topic5\", \"Topic5\", \"Topic5\", \"Topic5\", \"Topic5\", \"Topic5\", \"Topic5\", \"Topic5\", \"Topic5\", \"Topic5\", \"Topic5\", \"Topic5\", \"Topic5\", \"Topic5\", \"Topic5\", \"Topic5\", \"Topic5\", \"Topic5\", \"Topic5\", \"Topic5\", \"Topic5\", \"Topic5\", \"Topic5\", \"Topic5\", \"Topic5\", \"Topic5\", \"Topic5\", \"Topic5\", \"Topic6\", \"Topic6\", \"Topic6\", \"Topic6\", \"Topic6\", \"Topic6\", \"Topic6\", \"Topic6\", \"Topic6\", \"Topic6\", \"Topic6\", \"Topic6\", \"Topic6\", \"Topic6\", \"Topic6\", \"Topic6\", \"Topic6\", \"Topic6\", \"Topic6\", \"Topic6\", \"Topic6\", \"Topic6\", \"Topic6\", \"Topic6\", \"Topic6\", \"Topic6\", \"Topic6\", \"Topic6\", \"Topic6\", \"Topic6\", \"Topic6\", \"Topic6\", \"Topic6\", \"Topic6\", \"Topic6\", \"Topic6\", \"Topic6\", \"Topic6\", \"Topic6\", \"Topic6\", \"Topic6\", \"Topic6\", \"Topic6\", \"Topic6\", \"Topic6\", \"Topic6\", \"Topic6\", \"Topic6\", \"Topic6\", \"Topic6\", \"Topic6\", \"Topic6\", \"Topic6\", \"Topic6\", \"Topic6\", \"Topic6\", \"Topic6\", \"Topic6\", \"Topic6\", \"Topic6\", \"Topic6\", \"Topic6\", \"Topic6\", \"Topic6\", \"Topic6\", \"Topic6\", \"Topic6\", \"Topic6\", \"Topic6\", \"Topic6\", \"Topic6\", \"Topic6\", \"Topic6\", \"Topic7\", \"Topic7\", \"Topic7\", \"Topic7\", \"Topic7\", \"Topic7\", \"Topic7\", \"Topic7\", \"Topic7\", \"Topic7\", \"Topic7\", \"Topic7\", \"Topic7\", \"Topic7\", \"Topic7\", \"Topic7\", \"Topic7\", \"Topic7\", \"Topic7\", \"Topic7\", \"Topic7\", \"Topic7\", \"Topic7\", \"Topic7\", \"Topic7\", \"Topic7\", \"Topic7\", \"Topic7\", \"Topic7\", \"Topic7\", \"Topic7\", \"Topic7\", \"Topic7\", \"Topic7\", \"Topic7\", \"Topic7\", \"Topic7\", \"Topic7\", \"Topic7\", \"Topic7\", \"Topic7\", \"Topic7\", \"Topic7\", \"Topic7\", \"Topic7\", \"Topic7\", \"Topic7\", \"Topic7\", \"Topic7\", \"Topic7\", \"Topic7\", \"Topic7\", \"Topic7\", \"Topic7\", \"Topic7\", \"Topic7\", \"Topic7\", \"Topic7\", \"Topic7\", \"Topic7\", \"Topic7\", \"Topic7\", \"Topic8\", \"Topic8\", \"Topic8\", \"Topic8\", \"Topic8\", \"Topic8\", \"Topic8\", \"Topic8\", \"Topic8\", \"Topic8\", \"Topic8\", \"Topic8\", \"Topic8\", \"Topic8\", \"Topic8\", \"Topic8\", \"Topic8\", \"Topic8\", \"Topic8\", \"Topic8\", \"Topic8\", \"Topic8\", \"Topic8\", \"Topic8\", \"Topic8\", \"Topic8\", \"Topic8\", \"Topic8\", \"Topic8\", \"Topic8\", \"Topic8\", \"Topic8\", \"Topic8\", \"Topic8\", \"Topic8\", \"Topic8\", \"Topic8\", \"Topic8\", \"Topic8\", \"Topic8\", \"Topic8\", \"Topic8\", \"Topic8\", \"Topic8\", \"Topic8\", \"Topic8\", \"Topic8\", \"Topic8\", \"Topic8\", \"Topic8\", \"Topic8\", \"Topic8\", \"Topic8\", \"Topic8\", \"Topic8\", \"Topic8\", \"Topic8\", \"Topic8\", \"Topic8\", \"Topic8\", \"Topic8\", \"Topic8\", \"Topic8\", \"Topic8\", \"Topic8\", \"Topic8\", \"Topic8\", \"Topic8\", \"Topic8\", \"Topic8\", \"Topic8\", \"Topic8\", \"Topic8\", \"Topic8\", \"Topic8\", \"Topic9\", \"Topic9\", \"Topic9\", \"Topic9\", \"Topic9\", \"Topic9\", \"Topic9\", \"Topic9\", \"Topic9\", \"Topic9\", \"Topic9\", \"Topic9\", \"Topic9\", \"Topic9\", \"Topic9\", \"Topic9\", \"Topic9\", \"Topic9\", \"Topic9\", \"Topic9\", \"Topic9\", \"Topic9\", \"Topic9\", \"Topic9\", \"Topic9\", \"Topic9\", \"Topic9\", \"Topic9\", \"Topic9\", \"Topic9\", \"Topic9\", \"Topic9\", \"Topic9\", \"Topic9\", \"Topic9\", \"Topic9\", \"Topic9\", \"Topic9\", \"Topic9\", \"Topic9\", \"Topic9\", \"Topic9\", \"Topic9\", \"Topic9\", \"Topic9\", \"Topic9\", \"Topic9\", \"Topic9\", \"Topic9\", \"Topic9\", \"Topic9\", \"Topic9\", \"Topic9\", \"Topic9\", \"Topic9\", \"Topic9\", \"Topic9\", \"Topic9\", \"Topic9\", \"Topic9\", \"Topic9\", \"Topic9\", \"Topic9\", \"Topic9\", \"Topic9\", \"Topic9\", \"Topic9\", \"Topic9\", \"Topic9\", \"Topic9\", \"Topic9\", \"Topic9\", \"Topic9\", \"Topic9\", \"Topic9\", \"Topic9\", \"Topic9\", \"Topic9\", \"Topic9\", \"Topic9\", \"Topic9\", \"Topic10\", \"Topic10\", \"Topic10\", \"Topic10\", \"Topic10\", \"Topic10\", \"Topic10\", \"Topic10\", \"Topic10\", \"Topic10\", \"Topic10\", \"Topic10\", \"Topic10\", \"Topic10\", \"Topic10\", \"Topic10\", \"Topic10\", \"Topic10\", \"Topic10\", \"Topic10\", \"Topic10\", \"Topic10\", \"Topic10\", \"Topic10\", \"Topic10\", \"Topic10\", \"Topic10\", \"Topic10\", \"Topic10\", \"Topic10\", \"Topic10\", \"Topic10\", \"Topic10\", \"Topic10\", \"Topic10\", \"Topic10\", \"Topic10\", \"Topic10\", \"Topic10\", \"Topic10\", \"Topic10\", \"Topic10\", \"Topic10\", \"Topic10\", \"Topic10\", \"Topic10\", \"Topic10\", \"Topic10\", \"Topic10\", \"Topic10\", \"Topic10\", \"Topic10\", \"Topic10\", \"Topic10\", \"Topic10\", \"Topic10\", \"Topic10\", \"Topic10\", \"Topic10\", \"Topic10\", \"Topic10\", \"Topic10\", \"Topic10\", \"Topic10\", \"Topic10\", \"Topic10\", \"Topic10\", \"Topic10\", \"Topic10\", \"Topic10\", \"Topic10\", \"Topic10\", \"Topic10\"], \"Freq\": [136587.0, 69325.0, 69285.0, 54795.0, 48059.0, 49456.0, 282876.0, 40923.0, 188787.0, 39161.0, 91680.0, 114449.0, 146715.0, 31945.0, 91550.0, 29769.0, 60212.0, 97040.0, 87088.0, 30752.0, 52365.0, 56410.0, 53531.0, 60400.0, 44743.0, 26321.0, 47556.0, 34422.0, 234490.0, 62515.0, 8861.50935137098, 4538.695945783552, 3541.1855584149134, 3152.503777074894, 3019.481433898837, 2995.609183430363, 2750.9111312666464, 2551.369133380404, 2504.9960497313746, 2439.7026338625897, 2351.005353230871, 2317.692224823852, 2231.382185901073, 2138.5344929609414, 1858.5723268383915, 1818.5677603189558, 1787.6185318721602, 1649.9547386763934, 1625.1793273186906, 1602.7326041287945, 1450.599561310585, 1447.1961916807736, 1342.815422716493, 1231.5400971334727, 1108.2934840541923, 1064.5026269145287, 1060.6028089197293, 996.1120684983855, 1394.087084319044, 16607.099795513685, 5288.002116553102, 5389.422847507123, 3315.9960011779635, 13816.13178184687, 1628.138919294124, 22029.571943054372, 7321.249092807645, 4496.075661367462, 3710.7573546081085, 50187.23627226854, 5855.630301535535, 2692.4613240068375, 7379.532078460487, 33044.254531909544, 23053.185384702563, 3264.192529573089, 21209.14132285034, 39795.335326244975, 14668.778673820469, 72174.7804845018, 3685.6524359977434, 3288.9179341682257, 4967.888564007608, 7033.372173620647, 45727.58527774672, 28385.35778850972, 92822.39122048013, 11147.201662224823, 49997.643302558325, 28053.23556489325, 60560.11909362314, 10626.38928794223, 30000.31632730324, 113191.72300374301, 14157.5090036095, 54608.49122907165, 11862.083146073448, 65339.543872623624, 28383.330332434736, 16494.92590093175, 91622.90296223787, 43710.244775169645, 14861.667301060648, 51140.03348547452, 71517.93263960414, 56766.82785286482, 97441.62597496626, 69749.55227107022, 46876.95177071303, 30997.63121060577, 27575.98868869979, 33327.057697301, 32275.894842663405, 25307.61479002669, 30656.723468542128, 30326.640627666275, 26170.758361695538, 24278.9801706997, 19227.473615229384, 12673.057492960299, 12513.208719644903, 11877.601158548621, 11312.60922330268, 8523.787656517397, 8415.731653729066, 8080.885147804537, 7889.4681570506, 7806.566661937045, 7794.876224417336, 7545.725807873614, 6859.532761233925, 11372.561925107644, 6464.962144579598, 6024.216822846976, 5587.229655193484, 5560.583025981428, 5535.334871672168, 5526.609994893133, 5139.41177458559, 5053.830768828993, 4917.529078504728, 4616.727253082568, 4438.495397626399, 4371.844609110602, 4336.983734451027, 4041.510298329742, 3946.8853331234914, 30639.761474058712, 27639.91216164522, 10063.973164801526, 13406.495518788672, 9518.915911590262, 10241.781032312092, 6881.3220865313715, 7115.5866664514715, 5408.982896120298, 15115.065601213417, 8581.04864403327, 8536.209430242077, 12294.293634411462, 25644.260345568866, 12985.440770810092, 11175.480841208146, 16285.840893935478, 13925.59093007174, 8139.29326455131, 23027.59659867702, 19581.758045841976, 32815.01558351732, 24120.524956969293, 9640.100789890535, 15500.813263254264, 15336.544920452261, 45644.88238402991, 17808.53527664943, 35939.24526052508, 25254.128535093707, 13084.977690576452, 12489.039635182893, 31301.719330635613, 22479.159294859866, 23897.417735321986, 18778.739474923867, 20940.38267545483, 21290.083303348085, 45357.671567804115, 19358.495549788346, 29816.09436071142, 20861.521339471805, 18903.27540338177, 18547.096129770758, 20216.10450884734, 27783.065173594736, 25063.178948992925, 22125.275582381117, 18778.88948673278, 8515.887628245144, 2693.3124210520223, 1898.0723027210663, 1802.5456488439281, 1806.059913502198, 1482.3961583750718, 3975.0730030636823, 1295.0185994482042, 1286.4454426400453, 1073.6798267182448, 966.1734048187575, 765.4027756653343, 563.8316646641665, 1135.4258818561243, 5367.478174002468, 1415.3189094909822, 4574.237761060541, 1829.3769610865806, 4642.952852289838, 1005.4411720344328, 2445.325811371674, 1295.9224496269471, 892.5496451882062, 9309.412276128242, 3009.5913276922356, 1504.0005714209144, 1853.9241052375564, 2210.9888819471757, 1754.2094495864537, 1707.2828258815023, 6049.46662812191, 6863.5291927608805, 4954.4958105563965, 10174.493667802852, 8250.998217463708, 3674.202370250573, 3122.859557387299, 12663.262183009734, 9250.546882328717, 5251.335040622019, 2350.8702006394174, 16407.193997461152, 14091.865009612093, 18353.894043587083, 11176.311844539638, 8786.567485127316, 6683.734550336587, 20787.711817021267, 9923.32546497359, 11266.582349122615, 16892.35791068409, 4902.220111199096, 23330.64090765819, 14376.530523421041, 10548.286963942735, 7986.868521084112, 44595.54909829977, 9355.789814794725, 19719.13019996632, 16044.677299520394, 55229.83727039524, 19283.494983580877, 18451.236564199793, 35861.60333659284, 16401.750883541146, 16195.061216383976, 30914.617880793918, 52422.35569049809, 41324.78080722174, 33121.32037691436, 33870.404253071785, 34486.07220385288, 26795.21180789525, 20139.670536515656, 24519.283773639352, 18200.134749296194, 20062.12852277693, 20047.066698050923, 25830.482381150494, 23122.100490410714, 19010.415043129768, 22384.46204632894, 17673.107120468543, 18365.27115915705, 18613.044992517654, 18056.818890949937, 18194.107471838735, 15242.42241491262, 12977.340399460514, 10998.400758255126, 10283.100668670331, 8597.603711965852, 8448.737118668187, 6948.648453882886, 6014.216288772062, 6008.429545658057, 5855.701788259867, 5752.631320235952, 5584.63729062968, 4482.381551418712, 4455.124755132284, 3849.061655975429, 3718.4146755492675, 3675.9119570790767, 2989.042040299415, 2868.0427895187636, 2832.410308139378, 2796.9331169366083, 2747.9954964580343, 2709.3532363885824, 2705.1537858768334, 2684.414078067518, 2681.0406275830524, 2631.2952672446313, 13807.147293421818, 2426.0049658818066, 11912.982945514128, 11141.396255880465, 3685.1943201476247, 4652.955133031451, 7969.2331530060255, 5262.8116191518575, 13727.561889141296, 12821.141826854851, 4630.568007530573, 6795.310922646756, 17395.887608295667, 5613.485648925369, 30727.362322456323, 24904.51676024915, 13164.492600748263, 19357.067329554247, 10352.517144307894, 40242.51047456641, 14482.39449286495, 18823.24770928134, 9640.689126742223, 91170.66926609438, 11963.027381473195, 12981.642386975038, 10578.083260133717, 12956.610009240612, 34556.796202275604, 28737.849708892478, 14731.402675412959, 29326.83602306316, 18585.409260106524, 40575.77434677679, 80848.21373440942, 12390.373963152757, 15945.33078782781, 29384.167183078356, 27515.473229354855, 31908.48698142228, 12999.114829341193, 16324.07146369585, 17408.719823931, 20288.876444376296, 18400.517293514928, 15528.378548938379, 14615.531193113417, 16294.530395544933, 16182.901624825365, 14105.716202196669, 12416.742977209833, 7171.233129797094, 6243.317800243687, 5702.598574392738, 5844.809373625777, 5534.591886782801, 5273.000108782103, 6123.258782231399, 3646.3195555023444, 3315.5810061760376, 8163.457281609919, 2987.140908705928, 2679.7192627557038, 2509.1111399934, 2189.775158472816, 2137.028724566946, 2119.6498007152004, 1990.4209988791663, 1676.506848003599, 1523.4473808058142, 1467.3080527532793, 1388.8568278171224, 1268.956235449752, 1263.0198019425186, 1036.5015144187557, 2480.0393361442557, 2989.2669189331714, 2836.0027091746215, 1912.7243377495374, 9624.30551785318, 20402.93854038634, 9308.347595822182, 20633.36413850503, 9097.821206478846, 2686.4603909952857, 14385.861853000264, 5334.809874785539, 4042.7572024980386, 7196.0173031894965, 6430.672707531879, 4621.769039123243, 13543.4623524626, 8629.116898533643, 12899.2106178431, 13933.643171360996, 15997.720980665923, 7845.704506263417, 13406.98428903604, 5600.26681382603, 8591.94011478987, 9659.884814938776, 7780.224933177913, 16605.66212672255, 14874.150318474629, 10318.052869193427, 17184.095303670238, 15682.958608823908, 13507.658203875651, 32501.74565951757, 13371.479740805915, 29676.56700321554, 19424.700034771147, 22004.77937885005, 25687.13605299335, 12233.1381667062, 19416.014828750154, 23339.541076529225, 20828.864327271025, 32301.188392540425, 13881.312346625766, 45514.94805483403, 25865.252313094694, 13932.160254137472, 44153.744082061705, 15131.119920067264, 15869.463133499072, 24334.852682336237, 26186.121884081876, 19933.022876093055, 14213.956200116741, 10556.643746159736, 6688.551495428372, 5837.597036453329, 5431.662713996365, 3090.4511939776853, 2832.587897247842, 2271.5908878269815, 2244.2549632364994, 1791.0704690170767, 1688.915816056123, 1685.3925559141676, 1530.089280096868, 1443.0592025526291, 1405.9591286524999, 1187.3238338572492, 6604.303504513209, 1484.2132937991362, 68546.80246334673, 2567.9146942768443, 2102.281266420299, 4545.238940594563, 8336.30147060958, 1111.7473376832506, 7317.751133421103, 12426.111659072565, 1857.3122448216727, 7662.564124245605, 18187.629428918168, 7128.557718638089, 1050.0652416076746, 1399.029672357475, 8821.615575260943, 17665.63092054642, 22652.521310234926, 8031.130719481773, 4530.522986031745, 3562.1450015527485, 3759.6779123540837, 5475.944222115812, 23709.814754741044, 15207.8719986997, 8665.605774943957, 7377.4503621345475, 7670.412629491561, 7336.161055933231, 7786.015808439793, 13405.901986758681, 17480.7396033963, 69667.99659320794, 14875.635688928833, 9147.72290921753, 25299.4922268065, 14526.278522493221, 30925.483869803815, 38473.24695624019, 13883.972179982718, 11403.807325036962, 12817.07186309576, 25589.625230738802, 19270.07327080359, 10582.012985572137, 10340.773346422173, 13855.520971760561, 13186.20990589572, 13133.527865950393, 13399.39198946511, 11218.140669373603, 17207.06415432719, 10917.804392715447, 14408.744930543135, 14747.139405439193, 13290.066747717883, 11193.751553995455, 16483.659049700174, 24551.41797048969, 10692.927189510163, 9472.504815881224, 9265.71211421673, 8886.757231750917, 8516.006861863689, 7885.506964156442, 7859.481557818556, 7797.32525087368, 6865.529768750796, 6243.304017430278, 5680.7662105921545, 5113.397925106055, 4766.630130003177, 4718.495127278944, 4506.756846068541, 4368.386859702257, 4347.923030541198, 4324.6638304524295, 4063.450975363168, 4044.807592671809, 3972.157995448674, 3967.19991106452, 17972.996278540984, 3873.923005454836, 3822.741210344549, 3717.12147913965, 3713.424466537418, 3686.770437301967, 12255.589083739049, 15477.950530201213, 11274.748689234753, 4030.8838534257575, 24207.504603531233, 9367.34239892102, 21530.049274125864, 10711.718637674678, 7612.889018763528, 14719.714470529796, 13328.044684540557, 9160.276995668806, 33048.283415386235, 22846.614447111628, 20289.44273789207, 15017.662197574606, 13691.937841189652, 12629.07594601176, 10223.309248348593, 15607.37138352787, 20178.10123877554, 16070.948862404695, 16116.690369100157, 21373.093698871828, 21194.507287558612, 14709.240811078205, 15265.812181333833, 15015.92112781578, 12817.713599552106, 10341.338920257094, 10701.479109355114, 10356.604536539931, 24725.60050925841, 9300.301024950757, 5541.318255239944, 5261.866064720671, 5024.732085955974, 4179.761947897679, 4082.991550690666, 3789.856925789237, 3646.6968589082903, 3433.0314288517507, 3063.03219874228, 2813.3520058182826, 2786.3626662085476, 2411.5918443307282, 2743.422739506388, 2292.1803923241832, 2289.6673152885182, 2015.2326827159334, 1945.1786258248987, 1768.4239218782207, 1751.4081516238539, 1716.7538641498345, 1681.468212759454, 1652.4668955814514, 1545.0928610030207, 1520.9614223240128, 1474.3959188868478, 1435.0701201068073, 39132.08348528701, 1306.8811522384788, 69039.10754967105, 21503.718967631034, 11698.246863640137, 8425.579968686428, 14795.425662980513, 8217.418153289156, 4820.158002607199, 13996.214398374008, 12709.335217151061, 5487.937540304323, 3388.3988545049588, 24416.460274677836, 8961.803205869437, 8821.54137466285, 3254.6046444046224, 9748.448264914754, 7023.7822933032185, 4667.807332857609, 8237.220216939912, 4574.003624328264, 6520.15779972274, 10245.955224060996, 13676.089284124959, 17416.629777416343, 19296.814842777312, 30143.408347681194, 6400.440471833366, 8611.732118458998, 16172.868353332402, 16616.35272206121, 25913.929300643773, 28097.407428436793, 28185.185400923947, 10296.66730210915, 12177.895624934712, 18648.689098174495, 13398.842503703368, 15412.190864273345, 10845.692420068433, 11586.267576412414, 12394.064866584622, 13295.090168614315, 11749.18760743536, 12319.480490313857, 12005.924559081392, 23119.478985320413, 5622.910539077006, 4855.66668930806, 40914.355513186914, 4370.960841637165, 4178.586281576665, 4076.3963592978225, 3979.2111532631393, 3837.3153441044424, 3730.5047751919205, 3632.71280901713, 3622.8043809289406, 3537.1063613751635, 3034.264791524912, 2396.6111437721247, 2391.55438703575, 2375.675633583605, 2107.534242155163, 2060.3342671345627, 2010.626526833134, 2002.7799472060226, 1934.684120787242, 2220.4945091572754, 1772.5274494483247, 1674.3567830070206, 1653.502976916706, 1573.687472015553, 5887.80156499132, 1430.6983144859641, 1305.191733293197, 47862.136411416854, 5328.756200329626, 11297.319404209185, 4195.935517937027, 46023.80593238837, 5389.298294312649, 2563.848768326322, 2946.4431908865845, 8560.345677415075, 3111.2868171592995, 4680.669403309653, 6402.606814373684, 22087.164867742973, 8011.235765482354, 8369.137385251559, 20477.260015528907, 4543.666535570344, 5631.579972132226, 12659.00654303445, 11177.673472509994, 8459.25905594146, 8467.73240181218, 20581.518140756125, 7898.301206084393, 46499.749726493144, 11153.121269037218, 17430.183905132424, 21370.96425991869, 10746.639543691643, 13728.12391982407, 14639.070730685948, 14455.45611416576, 10353.099027421653, 10625.287257566619, 13002.147683424224, 10350.793526874171, 39302.69365323253, 40796.54085830547, 33127.780504153896, 28984.87648605836, 12565.63884689691, 14456.179981530087, 16300.206282339825, 19917.33336535276, 16646.4612387923, 13067.71870232094, 14207.556126619837, 12719.343682706043, 12880.91290530178, 11721.60003260732, 11637.8552724993, 29763.745045522697, 4626.982701298793, 4246.784923423816, 3761.854104155167, 3123.9872303067636, 2888.6586105258543, 4606.734700883952, 4006.5555233683103, 3421.667171803604, 2217.7606149408502, 1973.777334889212, 1951.7039254695258, 1896.7609635606718, 1890.069239143616, 1752.9121639590567, 1581.2582347390216, 1709.682176496743, 1509.9751472558773, 1472.3713699112786, 1388.7473094599911, 1364.6590022422977, 1363.905792084822, 1231.9201998927144, 1210.0162243087393, 1407.322741434231, 828.083795801495, 813.0072558581005, 734.1315853870356, 1926.5391241161803, 7830.728796288471, 54242.470614400445, 8878.198315802554, 8860.330099014322, 30766.777993700533, 6918.991160103527, 13916.942345854419, 13394.308316880759, 19509.294274941312, 4654.6903970749745, 4860.919916184279, 27072.552961050038, 18694.21699942672, 10813.783178140504, 21904.89549249362, 4640.664203397784, 14793.092736285595, 5837.950653971851, 4329.907457667662, 8403.101385461203, 15867.82023639292, 12237.155887649744, 12525.577259172693, 16939.093626827074, 10906.64103747336, 12251.78221100364, 8776.785921539655, 24708.299272832814, 12343.841863746487, 26417.684683452073, 17062.242355237348, 6961.576190420338, 10545.066258953852, 10458.814522980425, 9106.326978762529, 11883.300916143351, 12979.255807678875, 16571.237107014986, 15039.093272324308, 19940.88670321894, 15987.392524834655, 13316.107809345525, 11996.43015899871, 11525.248189146869], \"Term\": [\"water\", \"dog\", \"child\", \"click\", \"paint\", \"color\", \"use\", \"hair\", \"help\", \"cat\", \"person\", \"look\", \"people\", \"button\", \"right\", \"screen\", \"food\", \"feel\", \"add\", \"select\", \"dry\", \"open\", \"say\", \"information\", \"left\", \"computer\", \"business\", \"oil\", \"like\", \"body\", \"god\", \"sue\", \"boyfriend\", \"friendship\", \"dating\", \"polite\", \"queen\", \"rude\", \"joke\", \"girlfriend\", \"humor\", \"jesus\", \"reply\", \"jokes\", \"husband\", \"hey\", \"wife\", \"sister\", \"disagree\", \"bully\", \"apologize\", \"poem\", \"brother\", \"texting\", \"flirting\", \"gossip\", \"jealous\", \"apology\", \"forgive\", \"conversation\", \"guy\", \"piano\", \"kiss\", \"saying\", \"oh\", \"relationship\", \"marriage\", \"funny\", \"laugh\", \"say\", \"ex\", \"sorry\", \"respect\", \"friend\", \"love\", \"truth\", \"partner\", \"friends\", \"talking\", \"person\", \"married\", \"conversations\", \"chat\", \"girl\", \"think\", \"tell\", \"people\", \"story\", \"things\", \"really\", \"know\", \"trust\", \"talk\", \"don\", \"parents\", \"feel\", \"voice\", \"just\", \"life\", \"words\", \"like\", \"ask\", \"song\", \"way\", \"want\", \"try\", \"make\", \"time\", \"good\", \"let\", \"going\", \"example\", \"ll\", \"ve\", \"help\", \"need\", \"sure\", \"website\", \"attorney\", \"tax\", \"loan\", \"documents\", \"payment\", \"data\", \"customer\", \"filing\", \"payments\", \"password\", \"www\", \"federal\", \"estate\", \"lawyer\", \"lawsuit\", \"agency\", \"submit\", \"defendant\", \"browser\", \"employer\", \"certificate\", \"user\", \"plaintiff\", \"mortgage\", \"loans\", \"marketing\", \"petition\", \"funds\", \"courts\", \"file\", \"court\", \"fees\", \"fee\", \"customers\", \"icon\", \"employees\", \"clerk\", \"http\", \"menu\", \"document\", \"license\", \"legal\", \"credit\", \"app\", \"com\", \"property\", \"law\", \"debt\", \"page\", \"service\", \"state\", \"company\", \"download\", \"application\", \"email\", \"information\", \"address\", \"business\", \"account\", \"states\", \"insurance\", \"number\", \"card\", \"pay\", \"search\", \"case\", \"form\", \"need\", \"list\", \"example\", \"check\", \"order\", \"online\", \"include\", \"use\", \"make\", \"want\", \"sure\", \"students\", \"truck\", \"router\", \"trading\", \"graduate\", \"colleges\", \"courses\", \"graphics\", \"memorize\", \"console\", \"camp\", \"quest\", \"minecraft\", \"universities\", \"schools\", \"fellow\", \"fret\", \"academic\", \"youtube\", \"planner\", \"hotel\", \"assignments\", \"armor\", \"players\", \"coins\", \"professor\", \"teams\", \"studio\", \"instructor\", \"scores\", \"student\", \"college\", \"jobs\", \"guitar\", \"budget\", \"tickets\", \"studying\", \"books\", \"team\", \"career\", \"essay\", \"cards\", \"notes\", \"book\", \"skills\", \"study\", \"classes\", \"school\", \"player\", \"class\", \"job\", \"education\", \"money\", \"game\", \"research\", \"community\", \"work\", \"reading\", \"play\", \"learn\", \"time\", \"online\", \"car\", \"good\", \"plan\", \"local\", \"ll\", \"make\", \"need\", \"help\", \"want\", \"like\", \"people\", \"different\", \"way\", \"consider\", \"best\", \"new\", \"don\", \"sure\", \"start\", \"use\", \"important\", \"know\", \"try\", \"look\", \"mixture\", \"pour\", \"pan\", \"rinse\", \"oven\", \"wax\", \"moisture\", \"spoon\", \"scrub\", \"dough\", \"drying\", \"boil\", \"sponge\", \"dryer\", \"peel\", \"grease\", \"residue\", \"foil\", \"saucepan\", \"melted\", \"sandpaper\", \"whisk\", \"dries\", \"stirring\", \"petals\", \"grout\", \"acrylic\", \"vanilla\", \"baking\", \"soapy\", \"stir\", \"vinegar\", \"stove\", \"microwave\", \"soak\", \"detergent\", \"pot\", \"soap\", \"rag\", \"jar\", \"bowl\", \"bleach\", \"oil\", \"heat\", \"stain\", \"mix\", \"wipe\", \"dry\", \"cloth\", \"cup\", \"dish\", \"water\", \"towel\", \"bottle\", \"cook\", \"container\", \"remove\", \"clean\", \"glass\", \"minutes\", \"hot\", \"add\", \"use\", \"salt\", \"surface\", \"place\", \"using\", \"make\", \"spray\", \"paper\", \"let\", \"sure\", \"need\", \"small\", \"allow\", \"don\", \"time\", \"want\", \"stitch\", \"stitches\", \"width\", \"bend\", \"crochet\", \"screws\", \"drill\", \"knot\", \"knees\", \"grip\", \"leg\", \"rectangle\", \"bolts\", \"pliers\", \"v4\", \"ruler\", \"bent\", \"curved\", \"flap\", \"meters\", \"diamond\", \"bending\", \"perpendicular\", \"torso\", \"calf\", \"screwdriver\", \"loops\", \"bead\", \"clockwise\", \"yarn\", \"tape\", \"loop\", \"glue\", \"thread\", \"parallel\", \"string\", \"strings\", \"seam\", \"angle\", \"ribbon\", \"jpg\", \"foot\", \"hook\", \"fold\", \"hole\", \"edge\", \"needle\", \"wire\", \"screw\", \"chain\", \"motion\", \"thumb\", \"inches\", \"cm\", \"finger\", \"pull\", \"inch\", \"feet\", \"cut\", \"length\", \"end\", \"piece\", \"line\", \"hand\", \"wall\", \"hold\", \"paper\", \"left\", \"place\", \"position\", \"use\", \"right\", \"center\", \"make\", \"head\", \"step\", \"sure\", \"need\", \"using\", \"just\", \"anxiety\", \"meditation\", \"therapist\", \"mediation\", \"relaxation\", \"cope\", \"behavioral\", \"addiction\", \"trauma\", \"sim\", \"coping\", \"cognitive\", \"mindfulness\", \"suicide\", \"adhd\", \"depression\", \"cardio\", \"child\", \"asleep\", \"calming\", \"disorder\", \"yoga\", \"jogging\", \"exercises\", \"breathing\", \"bedtime\", \"therapy\", \"sleep\", \"dispute\", \"waking\", \"awake\", \"mental\", \"stress\", \"exercise\", \"routine\", \"abuse\", \"hospital\", \"workout\", \"breathe\", \"children\", \"physical\", \"muscles\", \"brain\", \"relax\", \"injury\", \"breath\", \"medical\", \"health\", \"help\", \"pain\", \"activity\", \"body\", \"support\", \"feel\", \"time\", \"doctor\", \"problems\", \"care\", \"try\", \"day\", \"feeling\", \"positive\", \"minutes\", \"family\", \"cause\", \"life\", \"focus\", \"work\", \"control\", \"need\", \"make\", \"people\", \"important\", \"vegetables\", \"foods\", \"sauce\", \"protein\", \"beans\", \"garlic\", \"fruits\", \"cooked\", \"potatoes\", \"calories\", \"nutrients\", \"vitamin\", \"salad\", \"onion\", \"grains\", \"beef\", \"tomatoes\", \"dairy\", \"onions\", \"diabetes\", \"supplements\", \"pasta\", \"fever\", \"inflammation\", \"meat\", \"squash\", \"apples\", \"calcium\", \"liver\", \"bacon\", \"fat\", \"diet\", \"infection\", \"swelling\", \"blood\", \"wine\", \"eat\", \"disease\", \"serving\", \"eating\", \"drink\", \"meal\", \"food\", \"skin\", \"doctor\", \"weight\", \"healthy\", \"symptoms\", \"fruit\", \"cause\", \"day\", \"high\", \"body\", \"help\", \"like\", \"include\", \"water\", \"make\", \"try\", \"pain\", \"avoid\", \"need\", \"soil\", \"cats\", \"trees\", \"installed\", \"veterinarian\", \"fertilizer\", \"bird\", \"breed\", \"kitten\", \"puppies\", \"crate\", \"litter\", \"mulch\", \"rabbit\", \"birds\", \"leash\", \"weeds\", \"cabinets\", \"breeds\", \"bedding\", \"kittens\", \"fleas\", \"horses\", \"veterinary\", \"breeding\", \"flea\", \"aquarium\", \"breeder\", \"cat\", \"mites\", \"dog\", \"plants\", \"vet\", \"puppy\", \"dogs\", \"horse\", \"planting\", \"pet\", \"garden\", \"toys\", \"species\", \"plant\", \"furniture\", \"tank\", \"watering\", \"tree\", \"animals\", \"pets\", \"animal\", \"grass\", \"roots\", \"grow\", \"house\", \"room\", \"home\", \"water\", \"growing\", \"door\", \"area\", \"food\", \"sure\", \"need\", \"make\", \"space\", \"away\", \"use\", \"place\", \"time\", \"clean\", \"small\", \"good\", \"like\", \"new\", \"want\", \"don\", \"colors\", \"makeup\", \"grill\", \"hair\", \"glitter\", \"jeans\", \"skirt\", \"lens\", \"shirts\", \"purple\", \"garment\", \"primer\", \"canvas\", \"shades\", \"braid\", \"lenses\", \"pok\\u00e9mon\", \"frosting\", \"headband\", \"shorts\", \"necklace\", \"vintage\", \"glow\", \"earrings\", \"eyeliner\", \"lipstick\", \"dresses\", \"pants\", \"skinny\", \"mascara\", \"paint\", \"beads\", \"shirt\", \"costume\", \"color\", \"silver\", \"paints\", \"roses\", \"leather\", \"jacket\", \"jewelry\", \"dye\", \"wear\", \"painting\", \"colored\", \"black\", \"designs\", \"pink\", \"clothes\", \"clothing\", \"dress\", \"shoes\", \"white\", \"wearing\", \"look\", \"blue\", \"fabric\", \"light\", \"dark\", \"brush\", \"eyes\", \"eye\", \"design\", \"style\", \"red\", \"image\", \"use\", \"make\", \"like\", \"want\", \"face\", \"choose\", \"add\", \"don\", \"try\", \"create\", \"sure\", \"different\", \"just\", \"using\", \"good\", \"screen\", \"keyboard\", \"rod\", \"chords\", \"chrome\", \"frac\", \"mac\", \"desktop\", \"android\", \"ctrl\", \"toolbar\", \"firefox\", \"gmail\", \"dialog\", \"ios\", \"os\", \"explorer\", \"adapter\", \"unlock\", \"ram\", \"icloud\", \"zoom\", \"linux\", \"controller\", \"ipad\", \"mathrm\", \"int\", \"cos\", \"wireless\", \"displaystyle\", \"click\", \"tab\", \"battery\", \"button\", \"clicking\", \"device\", \"settings\", \"tap\", \"chord\", \"delete\", \"select\", \"window\", \"files\", \"computer\", \"mode\", \"windows\", \"cable\", \"drum\", \"install\", \"enter\", \"video\", \"drive\", \"box\", \"text\", \"corner\", \"camera\", \"open\", \"press\", \"right\", \"left\", \"cell\", \"appear\", \"power\", \"bar\", \"option\", \"type\", \"ll\", \"new\", \"use\", \"want\", \"using\", \"add\", \"start\"], \"Total\": [136587.0, 69325.0, 69285.0, 54795.0, 48059.0, 49456.0, 282876.0, 40923.0, 188787.0, 39161.0, 91680.0, 114449.0, 146715.0, 31945.0, 91550.0, 29769.0, 60212.0, 97040.0, 87088.0, 30752.0, 52365.0, 56410.0, 53531.0, 60400.0, 44743.0, 26321.0, 47556.0, 34422.0, 234490.0, 62515.0, 8862.45064257795, 4539.637658036407, 3542.1268192597677, 3153.445043274961, 3020.422715904113, 2996.550562293277, 2751.853266326729, 2552.31041070957, 2505.9373412246937, 2440.643867147233, 2351.946655445512, 2318.633510735361, 2232.323772420808, 2139.4757574771234, 1859.5136144677515, 1819.5090623410829, 1788.5598494245246, 1650.9045896965536, 1626.1207647360516, 1603.6739030068202, 1451.5408178351413, 1448.1376214309907, 1343.7575118193897, 1232.4866871247505, 1109.23471183348, 1065.4439145139097, 1061.5440529653847, 997.0533045068057, 1395.5882644646056, 16646.96365935179, 5302.3679746468015, 5422.4199552011905, 3337.9034418312003, 14155.01621781934, 1632.4485436407713, 22827.196297865477, 7469.47766235844, 4559.285736975873, 3752.5662321692403, 53531.92684331494, 5996.506648227861, 2719.947625141125, 7686.547134358486, 36145.617252285694, 25094.139368782697, 3338.3192694863433, 23716.225279738042, 46374.273133703464, 16414.8759305104, 91680.8590946808, 3802.545467346194, 3371.812792354726, 5313.464345478054, 7814.656757999057, 64714.43615142035, 38052.96808468899, 146715.5553224724, 13353.920832737407, 74550.06074586889, 38764.56105797434, 97888.2990594548, 12976.841989506016, 44699.02886632761, 217427.81260745213, 18625.19762667181, 97040.91644713431, 15078.25925157796, 138516.02234693745, 48172.955898027045, 23596.11944105088, 234490.39488724648, 88357.19937665985, 20744.84297960903, 126797.62103313293, 218934.17719341855, 155948.35419811792, 354571.92075747816, 224153.47898970245, 129583.86858185475, 67458.51094239912, 57853.58500021468, 98245.134561787, 121520.83055683647, 61888.68122798496, 188787.70769860118, 228920.58818539346, 168222.46344124764, 24279.98993623305, 19228.483160516636, 12674.067066345726, 12514.218271658297, 11878.610748371577, 11313.618799718728, 8524.797272514275, 8416.741300811582, 8081.894778724776, 7890.477708759935, 7807.57624765792, 7795.885879938066, 7546.735380421844, 6860.542352692672, 11374.286593086297, 6465.971677925142, 6025.2264804285205, 5588.239288534626, 5561.592555675669, 5536.344475526677, 5527.619591510364, 5140.421351986079, 5054.84052706661, 4918.538613234809, 4617.736797040165, 4439.504952279468, 4372.854306712723, 4337.993282695668, 4042.5199666352382, 3947.8948919736754, 30738.38721635199, 27739.77992026047, 10068.072112278973, 13452.542060673924, 9531.230051051358, 10283.237709997931, 6883.510212323637, 7135.220626264996, 5411.199559670763, 15359.523463699106, 8652.990086076023, 8609.654920349723, 12493.355877641325, 26599.577201545584, 13231.729402938323, 11383.441027263829, 16884.973682566877, 14376.57224668189, 8207.18656110546, 24745.681518725127, 21267.418790204836, 37296.120746090404, 27649.255075181685, 9886.165476801407, 17158.95817088007, 16963.69829063052, 60400.63906437964, 20305.90936186952, 47556.208074540344, 31174.846809864837, 14392.937991989174, 13551.105402732295, 48887.71603373918, 31726.326632924407, 38519.706640293996, 29134.97109020059, 37922.086829753825, 40951.81173706046, 228920.58818539346, 34694.649660521776, 98245.134561787, 60031.883868553414, 45145.021540369795, 45771.224811813045, 63810.81132938989, 282876.99038910563, 354571.92075747816, 218934.17719341855, 168222.46344124764, 8516.877122329297, 2694.3022941024046, 1899.062136833372, 1803.5351939155007, 1807.0684424937922, 1483.3868254239565, 3977.8926683618643, 1296.0087598192451, 1287.435124127309, 1074.6696766728783, 967.1629740342747, 766.4181037497693, 564.8213055954899, 1140.7410684782067, 5414.507133770233, 1428.2115540676218, 4628.969681084654, 1855.055941172911, 4709.5312536013635, 1020.4164942737583, 2488.1767157286927, 1320.729724985629, 909.8314639443785, 9509.051448388685, 3080.0445551011735, 1543.4376828791071, 1907.6801125325828, 2301.861730588258, 1833.050762437779, 1786.2915680329575, 6337.769334946428, 7204.151965405297, 5192.940673493112, 10940.588849928965, 8826.6275101559, 3887.7309042235506, 3301.8849032546027, 14194.215129167984, 10342.174230839422, 5722.027695044217, 2469.241412796696, 19899.892153912166, 16959.42381561559, 22708.84148088014, 13527.386648437403, 10487.485660526247, 7799.42053895016, 30712.322099316192, 13084.828490692404, 15287.495079768756, 25157.759186805193, 5854.8122627522935, 40532.17106301109, 22774.339479343304, 15554.423006083918, 11085.073027741033, 123147.89436010891, 14224.395910947645, 40470.22146859793, 32025.909484566295, 224153.47898970245, 45771.224811813045, 43146.43832169216, 129583.86858185475, 36748.38524729799, 36672.635526553895, 121520.83055683647, 354571.92075747816, 228920.58818539346, 188787.70769860118, 218934.17719341855, 234490.39488724648, 146715.5553224724, 74941.63204456639, 126797.62103313293, 59017.463150205156, 86452.39923875402, 91734.0083560039, 217427.81260745213, 168222.46344124764, 85722.19383944273, 282876.99038910563, 70163.5476819755, 97888.2990594548, 155948.35419811792, 114449.56485687502, 18195.11122388225, 15243.42394227929, 12978.341933649552, 10999.402287458006, 10284.102158070003, 8598.60536019046, 8449.738843595525, 6949.649964359643, 6015.21784629953, 6009.431262121197, 5856.703395362693, 5753.632886373784, 5585.638928003395, 4483.383278208604, 4456.126379635004, 3850.0633392740338, 3719.4163459013903, 3676.913544124347, 2990.043490607103, 2869.0442779779773, 2833.412174887367, 2797.9345951924524, 2748.9972969111677, 2710.3547240335033, 2706.155787448323, 2685.415630835414, 2682.0425668300695, 2632.296937224293, 13812.590717368466, 2427.006525854633, 11952.521609362328, 11173.989614473014, 3695.067539460802, 4679.634643519579, 8101.513950686974, 5314.838970669246, 14165.376301595765, 13215.704052798415, 4685.340228366739, 6965.331688563904, 18424.248224770636, 5737.686307988373, 34422.35176883706, 27635.328148011078, 14297.06335505223, 22587.073499559014, 11354.244403887877, 52365.67102823942, 16672.546593561037, 22425.080010340876, 10557.33506558067, 136587.38252964275, 13935.61533361446, 16094.392521339143, 12457.703088780958, 16233.126718375028, 58442.741198701726, 46558.00368068133, 19329.615283668067, 51487.68586079546, 27381.527106803354, 87088.27788009596, 282876.99038910563, 15432.601388027482, 25742.680934852877, 102291.7455084728, 104694.43560314077, 354571.92075747816, 18821.11860997959, 49248.15466954917, 67458.51094239912, 168222.46344124764, 228920.58818539346, 74244.6021996246, 50401.23667526402, 217427.81260745213, 224153.47898970245, 218934.17719341855, 12417.756634856636, 7172.246835009193, 6244.3315042465165, 5703.612313709777, 5845.8620855441795, 5535.605573708694, 5274.013943258086, 6124.457071489114, 3647.3332863762434, 3316.6018519148515, 8166.194502638629, 2988.1550334990434, 2680.7410837625976, 2510.124824651579, 2190.7888021171916, 2138.042432250238, 2120.6635359948204, 1991.4578085543337, 1677.5212535555459, 1524.4611655582, 1468.3232167091865, 1389.8706466843553, 1269.969893227634, 1264.0352238178693, 1037.5152755321824, 2483.8203657620256, 2995.78378489524, 2847.4023175786533, 1921.6276893200584, 9669.394284251477, 20715.38400058411, 9415.849981251902, 21108.316611616923, 9267.158443019413, 2705.60691106962, 14752.124097241523, 5434.86411136282, 4113.9836568477185, 7446.348176736156, 6653.965576815647, 4735.324212176508, 14547.707642753376, 9119.080470849896, 13918.527271262812, 15217.934686469833, 17710.535606895784, 8343.639948962105, 14860.487391389943, 5853.44601806001, 9362.522745877452, 10772.970928350616, 8536.082466036585, 20597.54918717884, 18430.31809091218, 12028.509500726223, 22461.222452940943, 21231.364636826467, 17563.961109099437, 56726.03203372883, 17877.940038468536, 58575.22360272457, 31918.07821965729, 38392.27361478286, 49854.77547254015, 16577.522036164737, 36046.82060461948, 49248.15466954917, 44743.730698920655, 102291.7455084728, 21832.54983637569, 282876.99038910563, 91550.26195822543, 23273.660314073342, 354571.92075747816, 31225.676841466757, 36287.92783188036, 168222.46344124764, 228920.58818539346, 104694.43560314077, 138516.02234693745, 10557.568363465385, 6689.476104414155, 5838.5216200069735, 5432.587657074269, 3091.375824985641, 2833.5125803099445, 2272.515555500393, 2245.179599283258, 1791.995118243228, 1689.8406270623977, 1686.3172651377895, 1531.0138889830946, 1443.9837863516489, 1406.8837901369175, 1188.2498213732465, 6612.505105620409, 1488.1941502863654, 69285.84551017336, 2597.67108324747, 2131.0417283219003, 4608.323549816012, 8480.996682438423, 1132.293758722307, 7481.179932785093, 12771.354014907574, 1918.4791034418822, 7993.126958306573, 18993.46392444969, 7452.0888678025, 1101.1193919200248, 1468.333590603132, 9477.835907059036, 19552.288537891392, 26140.598202513902, 9584.47507445429, 5191.2186878756565, 3962.477152841073, 4228.329996252203, 6453.652326929446, 34416.082147708184, 20709.414715622454, 10927.31392593149, 9171.450959831309, 9606.358025543652, 9185.39356706221, 10255.525407926201, 20219.603854006313, 30359.774303586775, 188787.70769860118, 25266.33399636809, 14067.484436177227, 62515.153171868034, 28784.88775369579, 97040.91644713431, 224153.47898970245, 34174.20432469672, 23642.719923308923, 31712.48463201408, 155948.35419811792, 82013.78782549854, 21875.786431898116, 20939.734152248948, 51487.68586079546, 44615.87373263216, 45051.71146633548, 48172.955898027045, 27267.512322309747, 123147.89436010891, 25935.91800995369, 228920.58818539346, 354571.92075747816, 146715.5553224724, 70163.5476819755, 16484.608875295387, 24553.35015737031, 10693.877074204142, 9473.454594888024, 9266.661988766571, 8887.707084990368, 8516.956730423375, 7886.457305264278, 7860.431424450608, 7798.275036801824, 6866.479717128264, 6244.2537797381965, 5681.716073434697, 5114.347832923111, 4767.579993600319, 4719.444957772723, 4507.706694482967, 4369.336660939414, 4348.872892394734, 4325.613642854402, 4064.4007582226204, 4045.757440305121, 3973.107806235004, 3968.149682025203, 17977.388990831874, 3874.8729505156243, 3823.6912456080527, 3718.0712818653724, 3714.374252502812, 3687.720336924919, 12395.638342190112, 15770.483916542873, 11431.213347068187, 4039.185589707738, 26340.46143344858, 10528.33757380152, 28057.659212792907, 12753.03115588117, 8699.668188813572, 19551.55037379809, 18180.208475419047, 11308.95033580345, 60212.08448745983, 39182.34058105251, 34174.20432469672, 25585.79522352659, 24141.556409724864, 21615.860588400108, 15844.867915522811, 45051.71146633548, 82013.78782549854, 48762.22944332912, 62515.153171868034, 188787.70769860118, 234490.39488724648, 63810.81132938989, 136587.38252964275, 354571.92075747816, 155948.35419811792, 25266.33399636809, 61967.27439787499, 228920.58818539346, 24726.65400749712, 9301.310187747731, 5542.327620202884, 5262.8760877615705, 5025.809116661973, 4180.771103527082, 4084.0008928887028, 3790.866062937225, 3647.706014441913, 3434.0406334396057, 3064.041332089802, 2814.361120837672, 2787.371802290258, 2412.601477428546, 2744.5941286704124, 2293.1895283741255, 2290.676499830928, 2016.242122755793, 1946.1877879507729, 1769.4330580674725, 1752.4173296610559, 1717.762974720078, 1682.4774116566462, 1653.476053401553, 1546.1020027586717, 1521.9706546226691, 1475.4050529952378, 1436.079213031752, 39161.016127060466, 1307.8902823485985, 69325.29121614381, 21642.29711782999, 11710.104151681946, 8435.408361791935, 14937.180924723481, 8275.505506929017, 4839.824971375103, 14371.406508197731, 13100.497136051534, 5561.443310845416, 3424.0152950713123, 26086.708410630577, 9450.952163094673, 9410.660665225068, 3344.0991771113763, 11304.45567225144, 7879.7511064665505, 5016.256746316144, 9943.451336909839, 5043.497422346972, 7896.016544385579, 16025.611892026203, 24547.44230519807, 37214.31003858369, 59241.62992888477, 136587.38252964275, 9059.002117303186, 15587.971533542805, 55183.22162624267, 60212.08448745983, 168222.46344124764, 228920.58818539346, 354571.92075747816, 31446.412654306143, 57096.353012668565, 282876.99038910563, 102291.7455084728, 224153.47898970245, 46558.00368068133, 74244.6021996246, 129583.86858185475, 234490.39488724648, 91734.0083560039, 218934.17719341855, 217427.81260745213, 23120.457437892495, 5623.887237396344, 4856.6435918460265, 40923.47608667528, 4371.937895020575, 4179.5628324071895, 4077.372941427255, 3980.188087782591, 3838.291983449409, 3731.4903508124194, 3633.6894282965977, 3623.806176458135, 3538.14262078702, 3035.2413891177, 2397.587685954194, 2392.5309959097967, 2376.652202867801, 2108.5108816068114, 2061.310810238151, 2011.603110357478, 2003.7565352158806, 1935.6607755847515, 2221.700385508352, 1773.5040005242317, 1675.3332718362315, 1654.479506536695, 1574.6640110867588, 5891.796252829971, 1431.675052333746, 1306.168220926724, 48059.73637218995, 5355.360960662178, 11635.218267307144, 4243.538054686996, 49456.13462670735, 5583.180278108091, 2595.3303810509206, 3019.2300534377728, 9409.2548214705, 3213.5700283061615, 5009.670011727882, 7042.685383623722, 27469.147461634435, 9029.178025773897, 9560.121325441272, 26107.237228502916, 4889.668842752572, 6254.417286925144, 16135.262875903898, 14322.713332210104, 10620.257767944448, 10771.009077637273, 35131.77989441943, 9967.899772105911, 114449.56485687502, 16405.58938771384, 30625.10146652403, 40686.260187619264, 15771.501678398248, 22554.742944889593, 24976.31706524311, 26337.71897866174, 15849.852024620857, 17209.68765561875, 24664.704477301297, 16909.15497746136, 282876.99038910563, 354571.92075747816, 234490.39488724648, 218934.17719341855, 29840.620300048526, 58714.01602981132, 87088.27788009596, 217427.81260745213, 155948.35419811792, 50371.1657089786, 168222.46344124764, 74941.63204456639, 138516.02234693745, 104694.43560314077, 129583.86858185475, 29769.931423282393, 4627.969050112015, 4247.77178126869, 3762.8411254772964, 3124.9740300676344, 2889.644894456861, 4608.329573786656, 4008.1554210969366, 3423.157595266921, 2218.7468946757426, 1974.7636387051766, 1952.6949456563666, 1897.747296524622, 1891.055591785366, 1753.8988742533102, 1582.256507052513, 1710.7735574213937, 1510.9615006139577, 1473.3577468003268, 1389.7336607464463, 1365.6452816565982, 1364.8922108530699, 1232.909594996987, 1211.002623196262, 1408.7210449997906, 829.0700660438896, 813.9936633036028, 735.1178793395926, 1929.567080657727, 7844.192078360498, 54795.03536923178, 8911.932750202379, 9010.14386608215, 31945.658991574284, 7049.364068008029, 14416.82679928377, 13989.645674612018, 21504.994408435297, 4852.668476334344, 5108.00617277649, 30752.497885536694, 21914.41340363399, 12244.617423826085, 26321.146307585102, 5019.647393988912, 17741.756536120323, 6721.626086399354, 4853.260443295438, 10428.312859479709, 22118.256802635886, 16880.582024357675, 18308.984339460778, 29693.154469365087, 16527.879035412247, 19430.41822789839, 12443.842069269027, 56410.972238691465, 21721.06998009192, 91550.26195822543, 44743.730698920655, 9677.244748117068, 20840.762076257823, 21120.381707905268, 16904.332871074952, 29720.98116341239, 48434.656701408385, 121520.83055683647, 91734.0083560039, 282876.99038910563, 218934.17719341855, 104694.43560314077, 87088.27788009596, 85722.19383944273], \"loglift\": [30.0, 29.0, 28.0, 27.0, 26.0, 25.0, 24.0, 23.0, 22.0, 21.0, 20.0, 19.0, 18.0, 17.0, 16.0, 15.0, 14.0, 13.0, 12.0, 11.0, 10.0, 9.0, 8.0, 7.0, 6.0, 5.0, 4.0, 3.0, 2.0, 1.0, 1.7923, 1.7922, 1.7921, 1.7921, 1.792, 1.792, 1.792, 1.792, 1.792, 1.792, 1.792, 1.792, 1.7919, 1.7919, 1.7919, 1.7918, 1.7918, 1.7918, 1.7918, 1.7918, 1.7917, 1.7917, 1.7917, 1.7916, 1.7915, 1.7915, 1.7915, 1.7914, 1.7913, 1.79, 1.7896, 1.7863, 1.7858, 1.7681, 1.7897, 1.7568, 1.7723, 1.7784, 1.7812, 1.7278, 1.7686, 1.7822, 1.7516, 1.7027, 1.7075, 1.7699, 1.6806, 1.6394, 1.6799, 1.5531, 1.7611, 1.7675, 1.7251, 1.687, 1.4451, 1.4993, 1.3346, 1.6117, 1.3929, 1.469, 1.3122, 1.5925, 1.3936, 1.1396, 1.5181, 1.2174, 1.5525, 1.041, 1.2634, 1.4343, 0.8526, 1.0886, 1.4588, 0.8843, 0.6735, 0.7818, 0.5007, 0.6249, 0.7756, 1.0148, 1.0514, 0.7113, 0.4666, 0.8981, -0.0254, -0.229, -0.0683, 2.0265, 2.0265, 2.0264, 2.0264, 2.0264, 2.0264, 2.0264, 2.0264, 2.0264, 2.0264, 2.0264, 2.0264, 2.0264, 2.0264, 2.0264, 2.0264, 2.0264, 2.0263, 2.0263, 2.0263, 2.0263, 2.0263, 2.0263, 2.0263, 2.0263, 2.0263, 2.0263, 2.0263, 2.0263, 2.0263, 2.0233, 2.0229, 2.0261, 2.0231, 2.0252, 2.0225, 2.0262, 2.0238, 2.0261, 2.0105, 2.0182, 2.018, 2.0105, 1.9899, 2.0077, 2.0081, 1.9904, 1.9947, 2.0182, 1.9546, 1.9439, 1.8985, 1.89, 2.0013, 1.9249, 1.9257, 1.7464, 1.8953, 1.7464, 1.8159, 1.9313, 1.9449, 1.5807, 1.682, 1.5491, 1.5873, 1.4327, 1.3724, 0.4077, 1.4431, 0.8341, 0.9696, 1.156, 1.1232, 0.8771, -0.2941, -0.623, -0.2655, -0.166, 2.0364, 2.0362, 2.036, 2.036, 2.036, 2.0359, 2.0358, 2.0358, 2.0358, 2.0356, 2.0355, 2.0352, 2.0348, 2.0319, 2.0278, 2.0275, 2.0246, 2.0226, 2.0223, 2.0217, 2.0192, 2.0176, 2.0174, 2.0153, 2.0134, 2.0106, 2.0079, 1.9963, 1.9926, 1.9913, 1.99, 1.9881, 1.9895, 1.9639, 1.9691, 1.98, 1.9808, 1.9224, 1.925, 1.9507, 1.9874, 1.8435, 1.8513, 1.8236, 1.8456, 1.8596, 1.8822, 1.6462, 1.76, 1.7313, 1.6382, 1.859, 1.4842, 1.5765, 1.6481, 1.7087, 1.0208, 1.6176, 1.3176, 1.3454, 0.6357, 1.1721, 1.1871, 0.7519, 1.2298, 1.2192, 0.6677, 0.125, 0.3246, 0.2961, 0.1703, 0.1197, 0.3363, 0.7225, 0.3934, 0.8601, 0.5758, 0.5157, -0.0938, 0.052, 0.5304, -0.5001, 0.6577, 0.3632, -0.0891, 0.1899, 2.285, 2.2849, 2.2849, 2.2849, 2.2849, 2.2849, 2.2849, 2.2849, 2.2848, 2.2848, 2.2848, 2.2848, 2.2848, 2.2848, 2.2848, 2.2848, 2.2847, 2.2847, 2.2847, 2.2847, 2.2847, 2.2847, 2.2846, 2.2846, 2.2846, 2.2846, 2.2846, 2.2846, 2.2846, 2.2846, 2.2817, 2.2821, 2.2823, 2.2793, 2.2685, 2.2752, 2.2536, 2.2547, 2.2733, 2.2603, 2.2276, 2.2631, 2.1715, 2.181, 2.2025, 2.1307, 2.1927, 2.0217, 2.1442, 2.1099, 2.1942, 1.8808, 2.1324, 2.0701, 2.1215, 2.0596, 1.7596, 1.8025, 2.0134, 1.7222, 1.8975, 1.5213, 1.0326, 2.0655, 1.806, 1.0376, 0.9487, -0.123, 1.9149, 1.1808, 0.9305, 0.1698, -0.236, 0.7203, 1.0471, -0.306, -0.3434, -0.4572, 2.3086, 2.3086, 2.3085, 2.3085, 2.3085, 2.3085, 2.3085, 2.3085, 2.3084, 2.3084, 2.3084, 2.3084, 2.3083, 2.3083, 2.3082, 2.3082, 2.3082, 2.3082, 2.3081, 2.308, 2.308, 2.308, 2.3079, 2.3079, 2.3077, 2.3072, 2.3065, 2.3047, 2.3041, 2.304, 2.2935, 2.2972, 2.2859, 2.2903, 2.3016, 2.2836, 2.2901, 2.2912, 2.2745, 2.2746, 2.2844, 2.2372, 2.2535, 2.2326, 2.2205, 2.207, 2.2472, 2.2058, 2.2645, 2.2228, 2.1996, 2.216, 2.0933, 2.0943, 2.1553, 2.0409, 2.0058, 2.0461, 1.7518, 2.0183, 1.6287, 1.8121, 1.7521, 1.6456, 2.0048, 1.69, 1.562, 1.5441, 1.156, 1.8558, 0.4817, 1.0447, 1.7956, 0.2255, 1.5842, 1.4816, 0.3753, 0.1406, 0.65, 0.0319, 2.4058, 2.4058, 2.4057, 2.4057, 2.4056, 2.4056, 2.4055, 2.4055, 2.4054, 2.4054, 2.4054, 2.4053, 2.4053, 2.4052, 2.4051, 2.4047, 2.4032, 2.3952, 2.3944, 2.3923, 2.3921, 2.3887, 2.3876, 2.3838, 2.3785, 2.3735, 2.3637, 2.3626, 2.3615, 2.3584, 2.3576, 2.3342, 2.3044, 2.2627, 2.2291, 2.2698, 2.2994, 2.2884, 2.2416, 2.0333, 2.0971, 2.174, 2.1882, 2.1809, 2.1811, 2.1304, 1.9949, 1.8539, 1.409, 1.8762, 1.9755, 1.5013, 1.722, 1.2624, 0.6435, 1.5052, 1.6768, 1.5, 0.5986, 0.9576, 1.6797, 1.7004, 1.0932, 1.187, 1.1733, 1.1263, 1.5177, 0.4378, 1.5407, -0.3596, -0.774, 0.0044, 0.5704, 2.5148, 2.5148, 2.5148, 2.5148, 2.5148, 2.5148, 2.5148, 2.5148, 2.5148, 2.5148, 2.5148, 2.5147, 2.5147, 2.5147, 2.5147, 2.5147, 2.5147, 2.5147, 2.5147, 2.5147, 2.5147, 2.5147, 2.5147, 2.5147, 2.5146, 2.5146, 2.5146, 2.5146, 2.5146, 2.5146, 2.5035, 2.4962, 2.5011, 2.5128, 2.4304, 2.3981, 2.2501, 2.3405, 2.3815, 2.231, 2.2044, 2.3042, 1.915, 1.9755, 1.9935, 1.9821, 1.9478, 1.9775, 2.0767, 1.4548, 1.1126, 1.4049, 1.1593, 0.3364, 0.1112, 1.0474, 0.3235, -0.6469, 0.0162, 1.6216, 0.7587, -0.5809, 2.5545, 2.5545, 2.5544, 2.5544, 2.5544, 2.5543, 2.5543, 2.5543, 2.5543, 2.5543, 2.5542, 2.5542, 2.5542, 2.5541, 2.5541, 2.5541, 2.5541, 2.5541, 2.554, 2.554, 2.554, 2.554, 2.554, 2.554, 2.5539, 2.5539, 2.5539, 2.5539, 2.5538, 2.5538, 2.5504, 2.5481, 2.5536, 2.5534, 2.545, 2.5475, 2.5505, 2.5281, 2.5243, 2.5413, 2.5441, 2.4884, 2.5014, 2.4899, 2.5274, 2.4065, 2.4396, 2.4826, 2.3663, 2.4569, 2.3631, 2.1073, 1.9696, 1.7953, 1.4329, 1.0436, 2.2072, 1.9612, 1.3272, 1.2671, 0.6841, 0.4569, 0.0225, 1.4381, 1.0094, -0.1647, 0.5219, -0.1226, 1.0976, 0.697, 0.2075, -0.3155, 0.4995, -0.323, -0.3419, 2.6563, 2.6562, 2.6562, 2.6561, 2.6561, 2.6561, 2.6561, 2.6561, 2.6561, 2.6561, 2.6561, 2.6561, 2.6561, 2.656, 2.6559, 2.6559, 2.6559, 2.6559, 2.6559, 2.6559, 2.6559, 2.6558, 2.6558, 2.6558, 2.6558, 2.6558, 2.6557, 2.6557, 2.6557, 2.6556, 2.6522, 2.6514, 2.6269, 2.6451, 2.5844, 2.621, 2.6441, 2.632, 2.5618, 2.624, 2.5884, 2.5611, 2.4383, 2.5367, 2.5233, 2.4135, 2.583, 2.5515, 2.4137, 2.4084, 2.4289, 2.4158, 2.1216, 2.4236, 1.7557, 2.2705, 2.0927, 2.0125, 2.2727, 2.1599, 2.1221, 2.0564, 2.2305, 2.1741, 2.0161, 2.1656, 0.6826, 0.494, 0.6993, 0.6344, 1.7914, 1.2548, 0.9806, 0.2661, 0.419, 1.3071, 0.1848, 0.8828, 0.2811, 0.4667, 0.2463, 2.9755, 2.9755, 2.9755, 2.9754, 2.9754, 2.9754, 2.9754, 2.9753, 2.9753, 2.9753, 2.9752, 2.9752, 2.9752, 2.9752, 2.9751, 2.9751, 2.9751, 2.9751, 2.975, 2.975, 2.975, 2.975, 2.9749, 2.9749, 2.9747, 2.9745, 2.9745, 2.9744, 2.9741, 2.974, 2.9656, 2.9719, 2.9589, 2.9381, 2.957, 2.9404, 2.9322, 2.8783, 2.9341, 2.9261, 2.8483, 2.8168, 2.8514, 2.792, 2.8972, 2.7939, 2.8348, 2.8616, 2.7598, 2.6436, 2.654, 2.5961, 2.4144, 2.56, 2.5145, 2.6266, 2.1502, 2.4106, 1.7329, 2.0116, 2.6463, 2.2945, 2.2729, 2.3571, 2.059, 1.6588, 0.9833, 1.1675, 0.3235, 0.3587, 0.9136, 0.9934, 0.9691], \"logprob\": [30.0, 29.0, 28.0, 27.0, 26.0, 25.0, 24.0, 23.0, 22.0, 21.0, 20.0, 19.0, 18.0, 17.0, 16.0, 15.0, 14.0, 13.0, 12.0, 11.0, 10.0, 9.0, 8.0, 7.0, 6.0, 5.0, 4.0, 3.0, 2.0, 1.0, -6.5345, -7.2036, -7.4517, -7.568, -7.6111, -7.619, -7.7043, -7.7796, -7.7979, -7.8243, -7.8614, -7.8756, -7.9136, -7.9561, -8.0964, -8.1181, -8.1353, -8.2154, -8.2306, -8.2445, -8.3442, -8.3466, -8.4214, -8.5079, -8.6134, -8.6537, -8.6574, -8.7201, -8.384, -5.9064, -7.0508, -7.0318, -7.5174, -6.0904, -8.2288, -5.6238, -6.7254, -7.213, -7.405, -4.8004, -6.9488, -7.7257, -6.7175, -5.2183, -5.5784, -7.5332, -5.6618, -5.0324, -6.0305, -4.4371, -7.4117, -7.5256, -7.1132, -6.7655, -4.8935, -5.3703, -4.1855, -6.305, -4.8042, -5.3821, -4.6126, -6.3529, -5.315, -3.9871, -6.066, -4.716, -6.2428, -4.5366, -5.3704, -5.9131, -4.1985, -4.9386, -6.0174, -4.7816, -4.4462, -4.6772, -4.1369, -4.4713, -4.8687, -5.2823, -5.3993, -5.2098, -5.2419, -5.4851, -5.2933, -5.3042, -5.4516, -5.2924, -5.5257, -5.9426, -5.9552, -6.0074, -6.0561, -6.3392, -6.3519, -6.3925, -6.4165, -6.4271, -6.4286, -6.461, -6.5564, -6.0508, -6.6156, -6.6862, -6.7615, -6.7663, -6.7709, -6.7725, -6.8451, -6.8619, -6.8892, -6.9523, -6.9917, -7.0068, -7.0149, -7.0854, -7.1091, -5.0597, -5.1628, -6.1731, -5.8863, -6.2287, -6.1556, -6.5532, -6.5197, -6.794, -5.7663, -6.3325, -6.3377, -5.9729, -5.2377, -5.9182, -6.0683, -5.6917, -5.8483, -6.3853, -5.3453, -5.5074, -4.9911, -5.299, -6.2161, -5.7411, -5.7518, -4.6611, -5.6024, -4.9002, -5.253, -5.9106, -5.9572, -5.0384, -5.3694, -5.3083, -5.5493, -5.4404, -5.4238, -4.6675, -5.5189, -5.087, -5.4441, -5.5427, -5.5617, -5.4756, -5.1576, -5.2606, -5.3853, -5.5493, -6.3301, -7.4813, -7.8312, -7.8828, -7.8809, -8.0784, -7.092, -8.2135, -8.2201, -8.4009, -8.5064, -8.7394, -9.045, -8.345, -6.7917, -8.1247, -6.9516, -7.8681, -6.9367, -8.4666, -7.5778, -8.2128, -8.5857, -6.241, -7.3702, -8.0639, -7.8547, -7.6786, -7.91, -7.9371, -6.6721, -6.5458, -6.8717, -6.1521, -6.3617, -7.1707, -7.3333, -5.9333, -6.2473, -6.8135, -7.6172, -5.6743, -5.8264, -5.5622, -6.0582, -6.2988, -6.5723, -5.4377, -6.1771, -6.0502, -5.6452, -6.8823, -5.3223, -5.8064, -6.1161, -6.3942, -4.6744, -6.236, -5.4904, -5.6966, -4.4605, -5.5128, -5.5569, -4.8924, -5.6746, -5.6873, -5.0408, -4.5127, -4.7506, -4.9718, -4.9495, -4.9315, -5.1838, -5.4693, -5.2726, -5.5706, -5.4732, -5.4739, -5.2205, -5.3312, -5.527, -5.3637, -5.6, -5.5616, -5.5482, -5.5785, -5.3224, -5.4995, -5.6603, -5.8258, -5.893, -6.0721, -6.0895, -6.285, -6.4294, -6.4304, -6.4561, -6.4739, -6.5035, -6.7234, -6.7295, -6.8757, -6.9102, -6.9217, -7.1286, -7.1699, -7.1824, -7.195, -7.2127, -7.2268, -7.2284, -7.2361, -7.2373, -7.2561, -5.5984, -7.3373, -5.7459, -5.8129, -6.9192, -6.686, -6.148, -6.5629, -5.6041, -5.6724, -6.6909, -6.3073, -5.3673, -6.4984, -4.7984, -5.0085, -5.646, -5.2605, -5.8863, -4.5286, -5.5506, -5.2884, -5.9575, -3.7108, -5.7417, -5.66, -5.8648, -5.6619, -4.6809, -4.8653, -5.5336, -4.845, -5.3012, -4.5204, -3.831, -5.7066, -5.4544, -4.8431, -4.9088, -4.7607, -5.6587, -5.4309, -5.3666, -5.2135, -5.3112, -5.4809, -5.5415, -5.4327, -5.4396, -5.577, -5.6808, -6.2298, -6.3683, -6.4589, -6.4343, -6.4888, -6.5373, -6.3878, -6.9061, -7.0012, -6.1002, -7.1055, -7.2141, -7.2799, -7.4161, -7.4404, -7.4486, -7.5115, -7.6831, -7.7789, -7.8164, -7.8714, -7.9617, -7.9663, -8.164, -7.2916, -7.1048, -7.1575, -7.5513, -5.9356, -5.1842, -5.9689, -5.1729, -5.9918, -7.2116, -5.5336, -6.5256, -6.8029, -6.2263, -6.3388, -6.6691, -5.594, -6.0447, -5.6427, -5.5655, -5.4274, -6.1399, -5.6041, -6.477, -6.049, -5.9319, -6.1483, -5.3901, -5.5002, -5.866, -5.3559, -5.4473, -5.5966, -4.7186, -5.6067, -4.8095, -5.2333, -5.1086, -4.9539, -5.6957, -5.2338, -5.0497, -5.1635, -4.7248, -5.5693, -4.3818, -4.947, -5.5657, -4.4122, -5.4831, -5.4355, -5.0079, -4.9346, -5.2075, -5.5456, -5.7459, -6.2023, -6.3383, -6.4104, -6.9743, -7.0615, -7.2822, -7.2943, -7.5198, -7.5786, -7.5807, -7.6773, -7.7359, -7.7619, -7.9309, -6.2149, -7.7078, -3.8751, -7.1596, -7.3596, -6.5886, -5.982, -7.9967, -6.1123, -5.5828, -7.4835, -6.0663, -5.2019, -6.1385, -8.0538, -7.7669, -5.9254, -5.231, -4.9824, -6.0193, -6.5918, -6.8323, -6.7783, -6.4023, -4.9368, -5.3808, -5.9433, -6.1042, -6.0653, -6.1098, -6.0503, -5.507, -5.2415, -3.8589, -5.4029, -5.8891, -4.8719, -5.4267, -4.6711, -4.4527, -5.4719, -5.6687, -5.5519, -4.8605, -5.1441, -5.7435, -5.7666, -5.474, -5.5235, -5.5275, -5.5074, -5.6851, -5.2573, -5.7123, -5.4348, -5.4116, -5.5156, -5.6873, -5.1913, -4.7929, -5.6241, -5.7453, -5.7673, -5.8091, -5.8517, -5.9286, -5.9319, -5.9399, -6.0671, -6.1622, -6.2566, -6.3618, -6.432, -6.4422, -6.4881, -6.5193, -6.524, -6.5293, -6.5916, -6.5962, -6.6144, -6.6156, -5.1048, -6.6394, -6.6527, -6.6807, -6.6817, -6.6889, -5.4877, -5.2542, -5.5711, -6.5997, -4.807, -5.7564, -4.9242, -5.6223, -5.9638, -5.3045, -5.4038, -5.7788, -4.4957, -4.8649, -4.9836, -5.2844, -5.3769, -5.4577, -5.669, -5.2459, -4.9891, -5.2166, -5.2138, -4.9315, -4.9399, -5.3052, -5.268, -5.2846, -5.4428, -5.6575, -5.6233, -5.656, -4.7461, -5.7239, -6.2418, -6.2935, -6.3396, -6.5237, -6.5472, -6.6217, -6.6602, -6.7205, -6.8346, -6.9196, -6.9293, -7.0737, -6.9448, -7.1245, -7.1256, -7.2533, -7.2886, -7.3839, -7.3936, -7.4136, -7.4343, -7.4517, -7.5189, -7.5346, -7.5657, -7.5928, -4.287, -7.6863, -3.7193, -4.8858, -5.4945, -5.8227, -5.2597, -5.8477, -6.3812, -5.3152, -5.4117, -6.2514, -6.7336, -4.7587, -5.761, -5.7768, -6.7739, -5.6769, -6.0047, -6.4133, -5.8453, -6.4336, -6.0791, -5.6271, -5.3383, -5.0966, -4.994, -4.548, -6.0976, -5.8009, -5.1707, -5.1436, -4.6992, -4.6183, -4.6152, -5.6222, -5.4544, -5.0282, -5.3588, -5.2188, -5.5702, -5.5042, -5.4368, -5.3666, -5.4902, -5.4428, -5.4686, -4.7115, -6.1254, -6.2721, -4.1407, -6.3772, -6.4222, -6.447, -6.4711, -6.5074, -6.5357, -6.5622, -6.565, -6.5889, -6.7422, -6.9781, -6.9803, -6.9869, -7.1067, -7.1293, -7.1538, -7.1577, -7.1923, -7.0545, -7.2798, -7.3368, -7.3493, -7.3988, -6.0793, -7.494, -7.5859, -3.9839, -6.1791, -5.4276, -6.4181, -4.023, -6.1678, -6.9107, -6.7716, -5.7051, -6.7172, -6.3088, -5.9955, -4.7572, -5.7714, -5.7276, -4.8329, -6.3385, -6.1238, -5.3138, -5.4383, -5.7169, -5.7159, -4.8278, -5.7856, -4.0128, -5.4405, -4.994, -4.7902, -5.4776, -5.2328, -5.1685, -5.1811, -5.5149, -5.489, -5.2871, -5.5151, -4.1809, -4.1436, -4.3518, -4.4854, -5.3212, -5.1811, -5.061, -4.8606, -5.04, -5.2821, -5.1984, -5.3091, -5.2965, -5.3908, -5.3979, -4.1396, -6.0009, -6.0867, -6.2079, -6.3937, -6.4721, -6.0053, -6.1449, -6.3027, -6.7363, -6.8529, -6.8641, -6.8927, -6.8962, -6.9716, -7.0746, -6.9965, -7.1208, -7.146, -7.2044, -7.2219, -7.2225, -7.3243, -7.3422, -7.1912, -7.7215, -7.7399, -7.8419, -6.8771, -5.4748, -3.5394, -5.3492, -5.3513, -4.1064, -5.5986, -4.8997, -4.938, -4.562, -5.995, -5.9516, -4.2343, -4.6046, -5.152, -4.4461, -5.998, -4.8387, -5.7685, -6.0673, -5.4042, -4.7686, -5.0284, -5.0051, -4.7032, -5.1435, -5.0272, -5.3607, -4.3257, -5.0197, -4.2588, -4.696, -5.5924, -5.1772, -5.1854, -5.3239, -5.0577, -4.9695, -4.7252, -4.8222, -4.5401, -4.761, -4.9439, -5.0482, -5.0883]}, \"token.table\": {\"Topic\": [1, 2, 6, 1, 2, 3, 1, 2, 3, 5, 6, 7, 8, 9, 10, 4, 1, 2, 3, 6, 7, 8, 10, 10, 1, 2, 3, 4, 5, 7, 8, 9, 10, 6, 1, 2, 6, 6, 2, 1, 2, 3, 4, 5, 6, 7, 8, 9, 10, 2, 10, 5, 9, 1, 3, 7, 8, 9, 1, 3, 7, 8, 6, 1, 1, 2, 3, 1, 2, 4, 5, 6, 7, 8, 9, 10, 7, 2, 4, 7, 8, 1, 2, 3, 4, 5, 6, 7, 8, 9, 10, 1, 3, 1, 2, 3, 6, 7, 8, 9, 3, 6, 8, 1, 3, 2, 1, 2, 3, 4, 5, 6, 7, 8, 9, 10, 3, 6, 7, 8, 1, 3, 4, 5, 6, 7, 8, 9, 10, 7, 4, 7, 1, 2, 3, 4, 5, 7, 10, 2, 8, 10, 4, 5, 4, 9, 7, 8, 6, 7, 7, 6, 5, 5, 5, 1, 2, 3, 4, 5, 6, 7, 8, 9, 10, 8, 8, 2, 4, 7, 9, 10, 4, 9, 5, 6, 7, 9, 1, 2, 6, 8, 9, 10, 1, 2, 3, 5, 6, 7, 9, 4, 5, 1, 2, 3, 6, 8, 9, 1, 2, 3, 8, 9, 1, 3, 4, 5, 6, 7, 8, 4, 7, 8, 1, 2, 3, 4, 5, 7, 8, 9, 10, 1, 9, 1, 3, 6, 7, 1, 5, 6, 7, 9, 1, 4, 5, 6, 7, 8, 9, 5, 6, 7, 8, 8, 8, 8, 1, 2, 1, 3, 4, 6, 8, 9, 2, 3, 9, 1, 1, 2, 3, 8, 9, 9, 10, 8, 2, 3, 5, 10, 7, 5, 4, 6, 7, 2, 7, 9, 10, 3, 9, 1, 2, 3, 6, 8, 10, 1, 2, 3, 5, 6, 1, 2, 3, 1, 2, 3, 4, 5, 6, 7, 8, 9, 1, 3, 1, 2, 3, 4, 5, 6, 7, 8, 9, 10, 5, 8, 9, 8, 1, 2, 3, 4, 5, 6, 7, 8, 9, 10, 1, 2, 3, 6, 7, 8, 10, 1, 2, 3, 4, 5, 6, 8, 9, 10, 2, 1, 2, 3, 5, 7, 8, 10, 1, 3, 1, 2, 3, 4, 5, 6, 7, 8, 9, 10, 1, 2, 3, 6, 7, 1, 2, 3, 4, 6, 7, 8, 1, 2, 3, 4, 5, 6, 7, 8, 9, 10, 1, 10, 10, 10, 1, 2, 3, 6, 1, 3, 6, 1, 2, 3, 4, 5, 6, 7, 8, 9, 10, 1, 2, 2, 10, 2, 10, 4, 5, 10, 4, 5, 8, 1, 3, 4, 6, 8, 9, 1, 2, 3, 4, 6, 8, 9, 4, 5, 6, 3, 8, 1, 2, 3, 3, 2, 4, 7, 9, 3, 4, 5, 7, 8, 9, 10, 9, 2, 3, 9, 1, 2, 3, 6, 8, 1, 2, 3, 6, 8, 1, 2, 3, 6, 10, 1, 2, 3, 4, 5, 6, 7, 8, 9, 3, 4, 7, 8, 1, 2, 3, 4, 5, 6, 7, 8, 9, 10, 10, 1, 6, 1, 3, 6, 1, 3, 4, 7, 7, 6, 6, 1, 2, 4, 5, 8, 9, 10, 10, 3, 9, 2, 3, 1, 2, 2, 8, 1, 2, 3, 4, 5, 6, 7, 8, 9, 10, 1, 2, 3, 5, 10, 1, 3, 4, 5, 6, 7, 5, 2, 1, 2, 1, 2, 3, 4, 5, 6, 7, 8, 9, 7, 1, 3, 4, 6, 7, 8, 9, 10, 2, 1, 1, 2, 3, 4, 6, 7, 8, 9, 2, 3, 6, 2, 1, 2, 10, 6, 7, 2, 3, 5, 9, 2, 3, 9, 2, 10, 4, 8, 2, 4, 7, 10, 7, 10, 5, 6, 7, 1, 2, 3, 4, 5, 6, 7, 8, 9, 10, 1, 6, 7, 8, 1, 4, 7, 8, 6, 7, 2, 10, 3, 6, 6, 7, 2, 6, 2, 1, 6, 8, 7, 8, 1, 2, 3, 4, 5, 6, 7, 8, 9, 10, 1, 3, 4, 5, 8, 10, 4, 2, 3, 1, 3, 9, 9, 4, 5, 1, 3, 4, 6, 7, 8, 1, 2, 3, 5, 6, 8, 10, 2, 4, 7, 10, 4, 7, 8, 9, 4, 4, 4, 7, 9, 9, 1, 3, 4, 6, 7, 8, 1, 3, 6, 7, 8, 1, 2, 3, 4, 5, 6, 9, 10, 2, 3, 6, 1, 2, 3, 2, 8, 2, 1, 2, 3, 4, 5, 6, 7, 8, 9, 10, 1, 2, 3, 6, 7, 8, 10, 1, 2, 3, 2, 1, 10, 1, 2, 3, 4, 5, 6, 7, 8, 9, 10, 3, 5, 6, 7, 8, 3, 5, 6, 10, 1, 3, 4, 5, 6, 7, 8, 9, 9, 1, 3, 4, 5, 6, 7, 8, 9, 4, 5, 8, 9, 1, 2, 3, 4, 5, 6, 7, 9, 10, 1, 2, 3, 6, 7, 8, 9, 5, 7, 2, 2, 8, 1, 3, 4, 5, 6, 7, 8, 9, 1, 3, 5, 6, 7, 9, 2, 8, 1, 4, 5, 6, 7, 8, 9, 2, 3, 8, 7, 2, 4, 2, 10, 2, 1, 3, 4, 5, 7, 8, 10, 10, 5, 8, 8, 1, 1, 3, 5, 6, 7, 9, 10, 4, 4, 5, 9, 1, 3, 4, 6, 7, 8, 7, 8, 1, 3, 5, 8, 1, 6, 1, 2, 3, 4, 5, 6, 7, 8, 9, 10, 1, 3, 9, 1, 3, 5, 6, 8, 9, 10, 1, 2, 3, 6, 9, 10, 1, 9, 4, 7, 8, 7, 2, 1, 6, 9, 3, 5, 8, 1, 3, 8, 10, 1, 3, 4, 8, 7, 9, 1, 9, 1, 3, 4, 7, 8, 9, 10, 9, 9, 4, 5, 10, 1, 1, 2, 3, 4, 5, 6, 7, 8, 9, 10, 1, 2, 3, 4, 5, 6, 7, 8, 9, 10, 1, 3, 7, 3, 4, 5, 7, 8, 4, 9, 5, 4, 1, 3, 4, 6, 7, 8, 9, 1, 2, 3, 4, 6, 7, 8, 9, 1, 3, 9, 10, 1, 9, 4, 7, 9, 1, 2, 3, 4, 5, 6, 7, 8, 9, 10, 1, 3, 4, 5, 6, 7, 8, 9, 10, 9, 2, 3, 6, 7, 8, 1, 3, 6, 7, 8, 9, 4, 6, 7, 8, 1, 2, 3, 4, 5, 6, 7, 8, 9, 10, 1, 1, 2, 3, 4, 5, 6, 7, 8, 9, 10, 1, 2, 3, 4, 5, 6, 7, 8, 9, 10, 4, 5, 8, 1, 2, 3, 4, 6, 7, 8, 9, 10, 1, 2, 3, 5, 8, 5, 8, 8, 2, 6, 7, 8, 1, 3, 4, 5, 6, 7, 8, 9, 1, 3, 1, 2, 3, 4, 6, 8, 9, 10, 2, 8, 1, 1, 10, 2, 9, 1, 2, 5, 6, 9, 1, 2, 3, 4, 5, 6, 7, 8, 9, 10, 4, 5, 9, 4, 5, 8, 1, 2, 3, 4, 5, 6, 7, 8, 9, 7, 8, 7, 1, 2, 3, 6, 7, 8, 2, 5, 6, 7, 8, 2, 8, 10, 8, 3, 5, 2, 6, 7, 10, 10, 3, 10, 5, 8, 9, 1, 3, 4, 10, 1, 9, 1, 1, 2, 3, 9, 1, 2, 3, 4, 5, 6, 9, 1, 2, 3, 3, 5, 6, 1, 1, 2, 5, 1, 2, 3, 4, 5, 6, 7, 8, 9, 10, 10, 1, 9, 8, 8, 5, 5, 1, 2, 3, 4, 5, 6, 7, 8, 9, 10, 1, 6, 1, 2, 3, 2, 1, 2, 1, 2, 3, 5, 6, 8, 9, 10, 8, 4, 5, 8, 9, 1, 2, 3, 4, 5, 6, 7, 8, 9, 10, 5, 9, 2, 3, 6, 1, 2, 3, 4, 5, 6, 7, 8, 9, 9, 9, 1, 2, 3, 4, 5, 6, 7, 8, 9, 10, 2, 3, 1, 2, 3, 4, 6, 7, 8, 9, 1, 3, 4, 5, 6, 7, 8, 9, 10, 1, 2, 3, 4, 5, 6, 7, 8, 9, 10, 1, 2, 3, 4, 5, 8, 9, 10, 10, 9, 1, 2, 3, 4, 6, 7, 8, 9, 8, 7, 1, 2, 3, 4, 5, 6, 7, 8, 9, 10, 2, 2, 1, 2, 3, 4, 5, 6, 7, 8, 9, 1, 2, 3, 4, 5, 6, 7, 8, 9, 10, 1, 3, 5, 5, 9, 1, 3, 6, 7, 8, 9, 2, 10, 1, 2, 3, 4, 5, 6, 7, 8, 9, 10, 9, 2, 1, 6, 1, 6, 9, 10, 1, 3, 6, 7, 8, 7, 8, 6, 2, 6, 7, 6, 4, 3, 1, 3, 6, 2, 7, 5, 4, 7, 6, 3, 1, 2, 3, 4, 5, 6, 7, 8, 10, 8, 1, 3, 4, 7, 8, 9, 4, 3, 6, 10, 4, 1, 2, 3, 8, 9, 2, 3, 4, 5, 7, 8, 10, 8, 5, 6, 7, 9, 1, 2, 3, 4, 5, 6, 7, 8, 9, 10, 5, 7, 1, 2, 3, 4, 5, 6, 7, 8, 9, 10, 1, 2, 3, 6, 1, 2, 3, 4, 5, 6, 7, 8, 9, 10, 7, 1, 9, 4, 7, 7, 7, 1, 2, 3, 4, 6, 7, 8, 9, 1, 2, 3, 4, 5, 6, 7, 8, 9, 10, 1, 2, 3, 4, 5, 6, 7, 8, 9, 10, 1, 2, 3, 4, 5, 6, 7, 8, 9, 10, 10, 4, 1, 2, 3, 5, 6, 7, 1, 2, 3, 4, 8, 9, 1, 3, 6, 9, 3, 9, 4, 5, 9, 1, 2, 3, 4, 5, 8, 5, 10, 1, 3, 6, 8, 1, 2, 3, 6, 2, 7, 1, 2, 3, 4, 5, 6, 7, 8, 9, 2, 2, 4, 1, 2, 3, 4, 5, 6, 7, 8, 9, 5, 1, 2, 3, 5, 6, 9, 10, 1, 8, 4, 2, 1, 3, 6, 8, 1, 2, 3, 6, 7, 1, 9, 1, 2, 3, 4, 5, 7, 8, 9, 4, 7, 9, 1, 2, 3, 4, 5, 6, 7, 8, 9, 10, 2, 1, 2, 3, 4, 5, 6, 7, 8, 9, 1, 3, 4, 5, 7, 8, 5, 8, 7, 8, 1, 3, 5, 6, 7, 8, 9, 10, 1, 3, 10, 3, 5, 5, 1, 9, 1, 1, 2, 3, 5, 6, 10, 1, 2, 3, 6, 10, 4, 7, 8, 7, 4, 1, 2, 3, 4, 5, 6, 8, 10, 2, 4, 5, 10, 9, 1, 2, 3, 5, 6, 7, 8, 10, 1, 3, 1, 2, 8, 7, 1, 2, 3, 4, 5, 8, 9, 10, 8, 1, 8, 9, 1, 3, 8, 4, 8, 10, 1, 2, 3, 6, 10, 1, 3, 4, 5, 6, 7, 8, 9, 10, 5, 1, 2, 3, 4, 6, 7, 8, 9, 10, 1, 2, 3, 6, 1, 3, 4, 5, 6, 7, 8, 6, 1, 2, 4, 5, 6, 7, 8, 10, 1, 1, 2, 3, 6, 7, 8, 4, 1, 3, 6, 10, 4, 5, 8, 10, 1, 2, 3, 4, 5, 6, 7, 8, 9, 10, 4, 10, 1, 3, 4, 5, 6, 7, 8, 9, 10, 2, 4, 7, 8, 9, 1, 9, 3, 3, 4, 5, 6, 7, 8, 9, 1, 5, 7, 4, 7, 4, 7, 4, 1, 2, 3, 6, 7, 9, 10, 1, 3, 6, 10, 1, 2, 3, 6, 9, 2, 3, 2, 3, 2, 10, 4, 5, 4, 5, 5, 4, 4, 5, 1, 2, 3, 6, 8, 9, 10, 2, 3, 4, 7, 8, 9, 10, 1, 2, 3, 8, 2, 3, 5, 7, 1, 2, 3, 6, 9, 10, 9, 1, 5, 9, 9, 1, 3, 5, 6, 8, 9, 9, 2, 4, 9, 6, 1, 1, 3, 6, 4, 6, 7, 9, 9, 9, 3, 6, 7, 8, 9, 1, 2, 3, 4, 5, 6, 7, 8, 9, 10, 4, 7, 8, 4, 8, 4, 8, 1, 3, 10, 1, 6, 10, 1, 2, 3, 4, 5, 6, 8, 9, 10, 7, 8, 4, 4, 4, 8, 9, 7, 4, 9, 1, 2, 3, 4, 5, 6, 7, 8, 9, 10, 1, 2, 3, 4, 6, 7, 8, 1, 2, 6, 7, 8, 1, 2, 3, 4, 5, 6, 7, 8, 9, 10, 4, 7, 4, 5, 5, 1, 2, 3, 10, 4, 8, 1, 3, 6, 7, 8, 2, 4, 5, 8, 9, 10, 2, 5, 8, 1, 2, 3, 3, 2, 3, 5, 1, 3, 6, 7, 1, 3, 1, 2, 3, 4, 5, 9, 10, 2, 1, 6, 7, 1, 2, 3, 5, 6, 7, 8, 1, 2, 3, 4, 5, 6, 7, 8, 9, 10, 1, 4, 5, 6, 8, 10, 5, 7, 6, 7, 2, 10, 1, 2, 3, 6, 7, 8, 1, 3, 6, 8, 9, 4, 8, 10, 3, 4, 5, 8, 2, 1, 2, 3, 6, 10, 1, 3, 1, 2, 3, 4, 5, 6, 7, 8, 9, 10, 1, 2, 3, 10, 1, 6, 6, 7, 1, 3, 4, 6, 7, 8, 9, 10, 1, 2, 3, 4, 5, 6, 7, 8, 9, 5, 9, 10, 2, 4, 5, 7, 8, 9, 10, 1, 2, 3, 1, 2, 3, 4, 5, 6, 7, 8, 9, 10, 7, 10, 5, 4, 5, 8, 3, 8, 3, 6, 4, 5, 7, 8, 10, 8, 3, 1, 2, 3, 6, 8, 1, 3, 6, 1, 2, 3, 4, 5, 6, 7, 8, 9, 10, 1, 2, 3, 4, 5, 6, 7, 8, 9, 10, 2, 3, 10, 1, 2, 3, 4, 5, 6, 7, 8, 9, 10, 2, 1, 2, 3, 4, 5, 6, 7, 8, 9, 10, 5, 4, 1, 2, 3, 4, 5, 6, 7, 8, 9, 10, 7, 7, 8, 8, 8, 1, 2, 3, 10, 4, 7, 9, 7, 1, 2, 3, 6, 8, 10, 3, 6, 7, 8, 1, 3, 5, 6, 8, 9, 10, 1, 2, 3, 4, 5, 6, 7, 8, 9, 10, 4, 5, 7, 8, 4, 8, 4, 1, 2, 3, 4, 5, 6, 7, 8, 9, 10, 1, 3, 4, 5, 6, 7, 8, 9, 1, 4, 5, 6, 8, 9, 2, 8, 1, 2, 3, 5, 6, 7, 8, 4, 2, 3, 4, 7, 8, 9, 10, 5, 1, 2, 3, 4, 6, 8, 10, 8, 10, 1, 3, 7, 9, 4, 5, 8, 10, 4, 5, 8, 2, 10, 1, 2, 3, 5, 6, 7, 9, 10, 1, 2, 3, 4, 5, 6, 7, 8, 9, 10, 3, 5, 6, 7, 2, 5, 9, 3, 5, 6, 3, 9, 10], \"Freq\": [0.09150067230058821, 0.03563710394865015, 0.8728200972504531, 0.012398547930289158, 0.0010781346026338399, 0.9859540941086464, 0.009751451285521746, 0.8100761538308099, 0.005292728493786474, 0.00259824853331336, 0.0004811571357987704, 0.003271868523431639, 0.002085014255128005, 0.002309554251834098, 0.1641066604497673, 0.9996112787906637, 0.1043541229180078, 0.046703446019844094, 0.09241168923256822, 0.6502939485381031, 0.08146445835424859, 0.022036633586227806, 0.002701264762182763, 0.9993636498259109, 0.01684497656527071, 0.06338396089999612, 0.02918877329851271, 0.4659180430214208, 0.05966359797760505, 0.03604388646106664, 0.004041875767535985, 0.18716640628078565, 0.1377452889413684, 0.9994746080520086, 0.0709645637789516, 0.8770353340314706, 0.05200456582274316, 0.9989481829908444, 0.9997964424353998, 0.07743857606405755, 0.12809209507290686, 0.11622730683659982, 0.2899928843843877, 0.09196202922288156, 0.10926319200224568, 0.0028570727525555435, 0.09624763835171488, 0.007837109286523886, 0.08011708176957837, 0.0002921279468355955, 0.9996618340714077, 0.9663797379877705, 0.03343920994426833, 0.04857468334029215, 0.019610897000739064, 0.07854415670552416, 0.8283844030517317, 0.024840469534269483, 0.05304736080521205, 0.04340238611335532, 0.01205621836482092, 0.8913987136263384, 0.9999461653057012, 0.999627418100479, 0.9989435825526632, 0.9813532006720502, 0.01851609812588774, 0.08305838306997357, 0.10647403352528674, 0.018857275878971468, 0.0034067852096869577, 0.017801652292871284, 0.061130202213256116, 0.03766656886766566, 0.16554097145661978, 0.5059795779739291, 0.9998192203387638, 0.903376524706859, 0.08298872144910441, 0.013637191586439909, 0.9990476832159512, 0.0003805504532198849, 0.07763229245685652, 0.15662369367521262, 0.15234703143902725, 0.13061941270518715, 0.06318949668465422, 0.0614860803702414, 0.29307821332977135, 0.037837587920148553, 0.026783503326618566, 0.017585674527714666, 0.9815004595780747, 0.4946965307678855, 0.1741114488522798, 0.15988510387000499, 0.10287786466895628, 0.0337606898028049, 0.03371541901527181, 0.0009506865381949755, 0.0003849602077988462, 0.988577813627437, 0.010778885818367693, 0.018171772426990047, 0.9812757110574625, 0.9999228664838378, 0.2385936793842108, 0.03472800798341709, 0.05769174188694985, 0.09700281412096659, 0.02562642968293045, 0.1663942798870881, 0.17268792445657352, 0.10865412534960374, 0.09811630508326016, 0.00048412650534503376, 0.016345059565205322, 0.9527807638217602, 0.003405220742751109, 0.02724176594200887, 0.2578623541285247, 0.05483712767618086, 0.15167343522060883, 0.14116488312680223, 0.09695890731885572, 0.03311945334898052, 0.21328857899729498, 0.04494157445451297, 0.006147502974876871, 0.999804666064911, 0.9995952448398087, 0.0003619885727673675, 0.06400725827231035, 0.2083489497551544, 0.03218109842896195, 0.02070475082745714, 0.11890442618053956, 0.017155364971321627, 0.5386784600994992, 0.006659161151229164, 0.009877755707656593, 0.9833361299981732, 0.003511972979113013, 0.9959955368764504, 0.004854948189483975, 0.9950776500676962, 0.9999285623272572, 0.9991901032588157, 0.9679542491072306, 0.03127477379991052, 0.9996938288748674, 0.9997731344460349, 0.9998926445774892, 0.9993735771840119, 0.9996871092544584, 0.23265982410102387, 0.044984292330162164, 0.2320583370346396, 0.08188321044104345, 0.041028358162788686, 0.06782923379379556, 0.0658396996511399, 0.1092046037256521, 0.12107240622777253, 0.003446983572740634, 0.9997549234402848, 0.9994191750781072, 0.014746868718060724, 0.07917344841618576, 0.05079051407830784, 0.7843418980252713, 0.07089988051202702, 0.9782688872664967, 0.021437212387988437, 3.79644070597087e-05, 0.08086418703717953, 0.9190423661014282, 3.79644070597087e-05, 0.003413470779778168, 0.023589521281681267, 0.011337599375691771, 0.006522167382790428, 0.6798292786940341, 0.27527203645496795, 0.07766117099085604, 0.004782840396759209, 0.00046388753012045834, 0.17714105201910194, 0.4046858836040509, 0.2578094938948768, 0.07743722528665996, 0.9998900023018009, 0.9997235526522549, 0.08472470960792626, 0.056013425478836906, 0.8082314553762363, 0.026025105705969033, 0.00017614284741772611, 0.024880177197753813, 0.05713595240172593, 0.007679184724769576, 0.892124001557405, 0.017471906529750964, 0.025573798670562902, 0.010935485745525723, 0.0010562685095110074, 0.806616340615994, 0.031128854309706747, 0.0001864003252078248, 0.056230764771027154, 0.09375936357953589, 0.9441904922129633, 0.005699011363667575, 0.05004274740287147, 0.0006062003287178833, 0.06011486593119009, 0.00040413355247858885, 0.013673185192192256, 0.13023203728622526, 0.004108691116865653, 0.20745522360567561, 0.012932273679314843, 0.570468187119568, 0.9996818805996327, 0.9997548844792469, 0.021043562337659805, 0.06923659111095325, 0.8043438309063025, 0.10532684569004856, 0.0945831599471554, 0.026912321799396795, 0.7592004982974762, 0.10423649276650425, 0.015016295496764878, 0.023862456822688956, 0.023862456822688956, 0.05159868910360663, 0.8485117763704202, 0.015495101832914906, 0.03176495875747556, 0.00495843258653277, 0.006029117970586398, 0.972958700032553, 0.020906162313591794, 0.9997715395577564, 0.9992485003459707, 0.9992872379980716, 0.999389684819663, 0.9994362734252819, 0.9997571546473272, 0.006029773885355434, 8.867314537287404e-05, 0.34928351962375087, 0.0007093851629829923, 0.03520323871303099, 0.6086524698394075, 0.038406514788343254, 0.9347851136242484, 0.02673727873170799, 0.9995797755356892, 0.009735847720959723, 0.7557162661848197, 0.23290334634416823, 0.0013878314245860512, 0.00023130523743100854, 0.03687511972473942, 0.9631042517581134, 0.999383941669617, 0.017108955261985317, 0.028415743087297354, 0.08584232335796112, 0.868539833212785, 0.9997118716172556, 0.9995033561969311, 0.013139113902780657, 0.9863720508444621, 0.9998364975849393, 0.006187799521351778, 0.00514310609566901, 0.2832726404255197, 0.7053287844013578, 0.9987975407811326, 0.9996770563231943, 0.020372481117591504, 0.18599449484490535, 0.42763668839667895, 0.029365112145606866, 0.19253037615908147, 0.14406751152098837, 0.014404440995880763, 0.7085282913488045, 0.2770569723277722, 0.002015866007417598, 0.9971817183359051, 0.002311570316272129, 0.1731667676059512, 0.8244768299799308, 0.2630509749330289, 0.03484432118209026, 0.03733545364669219, 0.03872291982950845, 0.005329131474907922, 0.40416259238991026, 0.019172259980733825, 0.14915261465274834, 0.048277516497538635, 0.08213871463905385, 0.9176816820631315, 0.13870544687095074, 0.5521848018018457, 0.007910957045871716, 0.02112225531247748, 0.08749518492734117, 0.057143479728013355, 0.030325335342508242, 0.07699998191315136, 0.02288903571938883, 0.0052476015070949044, 2.553559889139329e-05, 0.9992590558180022, 0.0006894611700676189, 0.9998591394415104, 0.060463851679319364, 0.02173058399194334, 0.00350708097112058, 0.09276007201463862, 0.04559205262456754, 0.29153165490315, 0.3464241311156892, 0.11540072132187275, 0.008612325422751803, 0.014006127169475227, 0.058694392338327246, 0.05642101798719485, 0.019220346786846598, 0.021080380346864012, 0.12493225411450289, 0.0002066703955574903, 0.7194196469356238, 0.00390999949178485, 0.0781140557809325, 0.08202405527271735, 0.08821130721576151, 0.5986166254895223, 0.04184988467031257, 0.005241977340634634, 0.03360021541292036, 0.0683605405651615, 0.9997234950427693, 0.0036314998556314358, 0.02210942559163845, 0.03973288077337924, 0.9177013752819205, 0.010253646651194643, 0.006515337976279929, 0.00010680881928327753, 0.9349832194184089, 0.0649293902373895, 0.034564965586344865, 0.3475153311143742, 0.13194655055876514, 0.06631476048156092, 0.06288325064503704, 0.03626406268986639, 0.06638139174052254, 0.1620971952389021, 0.02323765156286799, 0.06881343269262198, 0.0009958744025122506, 0.00025979332239450017, 0.009366992568557256, 0.9893362705653225, 2.886592471050002e-05, 0.1032366201577247, 0.0005811236710257513, 0.11099462116591848, 0.0011331911585002149, 0.688922112001028, 0.02809732949409507, 0.06700355926926911, 0.08325099065814504, 0.10930950450981482, 0.16932924491065424, 0.03167897762359856, 0.02314609171530669, 0.028442953027639568, 0.059747233066442876, 0.08209283448695971, 0.24621037662728001, 0.16675745694228683, 0.04059622060743202, 0.9592660250131778, 0.9997764653225454, 0.9996883077880768, 0.19224863096698092, 0.0020932140833424258, 0.7370075961568472, 0.06868358710967334, 0.030643302128207917, 0.8569867423637729, 0.11231603625234367, 0.03451608473210386, 0.003672837889974959, 0.015099444658785944, 0.6172515513573121, 0.004252759662076269, 0.006164353651595399, 0.0037587522265825606, 0.23295672371151116, 0.08202671287610742, 0.0003221787622785052, 0.0026628468824159883, 0.997306232382746, 0.010073905350738328, 0.9899071993383124, 0.018299523014485494, 0.9815069747071715, 0.00364274517842572, 0.9955102180469146, 0.0005203921683465314, 0.8686135569471415, 0.07929202612098613, 0.0520016540445499, 0.0842874399047442, 0.02528623197142326, 0.0021691620563720937, 0.03730958736960001, 0.06637635892498607, 0.7845549277604095, 0.007959385722230952, 0.0012567451140364661, 0.05236437975151942, 0.003351320304097243, 0.09991123656589905, 0.054808050806590326, 0.7804387158166455, 0.19288869472919937, 0.8070397877361776, 0.9993377663061124, 0.9772585903067, 0.02240227333261206, 0.046362153603072914, 0.0008328530587378367, 0.9527838991960852, 0.9990650952265535, 0.00725895791714649, 0.05714154616672975, 0.004994324806504688, 0.9306024489658775, 0.004497850867809486, 0.04131746727406388, 0.017782201105293317, 0.024162873266604448, 0.007426683991034268, 0.8754073002952928, 0.02939293241522013, 0.9999369632760766, 0.9816891020241943, 0.01660306400738906, 0.0015812441911799103, 0.10996770133578573, 0.10211930919779283, 0.7205184828293032, 0.06702707308653716, 0.000360845615539904, 0.050634275541718204, 0.872392400244132, 0.06539055012816179, 0.0011935222091976434, 0.010380026486052232, 0.004863010087182775, 0.03814423537133989, 0.10941772696161244, 0.015310883321364517, 0.8322205934354584, 0.1582243543107552, 0.0757064055537004, 0.3083832992563445, 0.04249589640301714, 0.00449019639027095, 0.13089346081072864, 0.04862967411350048, 0.12147252045982053, 0.10967940088386362, 0.9993768534765477, 0.7981826437252764, 0.0036961456065074155, 0.19811340450879747, 0.12045072007094836, 0.022015800627564506, 0.033968336870200226, 0.0007711313704926271, 0.057140834553503675, 0.4209606151519252, 0.07256346196335621, 0.07773004214565682, 0.004742457928529657, 0.18965976057266165, 0.9991720718212684, 0.997599342428471, 0.002342769576366013, 0.9754396826115328, 0.013049360302495422, 0.011566478449939124, 0.04567455139562804, 0.02359985608139656, 0.8491131892143293, 0.08155596523366974, 0.9999420138540568, 0.9998191007467175, 0.9992188509451797, 0.009572619478305379, 0.0012351767068781133, 0.0021615592370366984, 0.2783779503126548, 0.022490509204405647, 0.05563441750563502, 0.6305577088612768, 0.9984793196152475, 0.011075663607655977, 0.9887975425047763, 0.000502778774275883, 0.9992728138733177, 0.003568881955249139, 0.9964030024554162, 0.9997733242656752, 0.9996601442418886, 0.057513062467871634, 0.09795286510751766, 0.1602901161082484, 0.07573777470311711, 0.14835868685619769, 0.025073868794242966, 0.004665367511201186, 0.024656963612390947, 0.2594341388782004, 0.1463337188300593, 0.003458701591491999, 0.9640754740458785, 0.03240653012897938, 0.9998525306393541, 0.9996633709426096, 0.010122594875707177, 0.0026755757380723813, 0.839372701962274, 0.00428092118091581, 0.004949815115433906, 0.1385502303031815, 0.9992679691489964, 0.9999119254370441, 0.0011541007761937954, 0.998716844417158, 0.024345083738253875, 0.001339772892184862, 0.029104803223647464, 0.2298063081910771, 0.5729644544972682, 0.0037372612255682993, 0.046997822770590024, 0.004512919215780588, 0.08717338094544924, 0.999694081494941, 0.01623180881695213, 0.0014583265733980428, 0.10297053718254007, 0.024220902219045756, 0.10652124536124835, 0.05516278777636075, 0.6814189427960333, 0.01204704560633166, 0.999906476073414, 0.9995289679498761, 0.18129878395126564, 0.01670450830676131, 0.18969981039167333, 0.004084679038514627, 0.23496049275276676, 0.2460318019079049, 0.0909603153054302, 0.03625000233284772, 0.9916918470662527, 0.005970377258415822, 0.0021931998092139756, 0.9998934557557503, 0.0354345695517467, 0.012920892764725316, 0.9516433292322691, 0.9987137846421955, 0.001058600316852721, 0.032050772411684504, 0.2154594247753988, 0.0992438287472042, 0.6531922180672632, 0.0047037950298189244, 0.06585313041746493, 0.9293062876303126, 0.0002494913232996149, 0.999711732461557, 0.9902463704064549, 0.009595775202494623, 0.0030519892215245263, 0.00034681695699142345, 0.03121352612922811, 0.965330318089928, 0.9998581373869541, 0.9994417975918046, 0.9990988246360688, 0.01851560177514266, 0.9814537132728017, 0.14910270426663555, 0.0992372303231581, 0.2687424793207482, 0.02619371831711165, 0.05382855817179236, 0.05995332470646085, 0.06014013675762721, 0.054735930991743245, 0.16971874848463733, 0.05833873483566589, 0.9993107739840998, 0.08641082943577717, 0.83995717324505, 0.07362955430144716, 0.005683252414296648, 0.9132039421038997, 0.038361953796502375, 0.04271911398079647, 0.9862588750265723, 0.013453916447007146, 0.0016572771128160733, 0.9983182361894362, 0.04334355181881338, 0.9566445229607449, 0.40627134630802303, 0.593693412938885, 0.9916803225983275, 0.008205256136170756, 0.999948584191829, 0.0015145987583756245, 0.002596455014358213, 0.9958703207570927, 0.009439532178834488, 0.9904814084103281, 0.5205957721901878, 0.01873725330326194, 0.11879804929387723, 0.0749444139854328, 0.04074915666836052, 0.025120981232797424, 0.022637398320730303, 0.05521832674495897, 0.09160281640674227, 0.031592094487016754, 0.1208624224098649, 0.054272616432455255, 0.015909703162232745, 0.25263068972932484, 0.5524772727143081, 0.0038491217327982453, 0.9997618306860054, 0.9751000044072647, 0.02478210592113899, 0.17381875660041476, 0.029566137363234147, 0.7964966750178268, 0.9995783157028524, 0.999637214299087, 0.9998077473307816, 0.12227582554983658, 0.008195725599156838, 0.0913630887261712, 0.03135277578200938, 0.7331049046010896, 0.01369621257845673, 0.04555140714182086, 0.021628725693238683, 0.1433176167147937, 0.02190181566411291, 0.06068059152825297, 0.022830321565085278, 0.6841449950341104, 0.010508399579184797, 0.09478164326323543, 0.0022665175562947603, 0.8921837289778465, 0.7684996527266502, 0.03213937617819129, 0.06322844594533059, 0.13613880735254055, 0.9996914655467162, 0.9998798990976305, 0.08860256649416431, 0.00212986938687895, 0.9091702456123945, 0.9997158165281371, 0.06700487684100222, 0.020386590187794294, 0.020386590187794294, 0.029439376739716933, 0.7673484033972222, 0.09544630860649146, 0.030790397103585564, 0.008285787924885152, 0.1571742363776054, 0.7528814707056138, 0.05083995800824593, 0.00067756279461857, 0.0001693906986546425, 0.01366418302480783, 0.035007411055292786, 0.9033041323589903, 0.004008913201493206, 0.024053479208959238, 0.019141148947974602, 0.12690415450669335, 0.8372599803389109, 0.03569713094468225, 0.09520329661203686, 0.9041070960611822, 0.0006484435063358547, 0.9996353296143671, 0.00014527471728155311, 0.9998879098859632, 0.18697325125517025, 0.060469252734278035, 0.10572729592980912, 0.0465896642325931, 0.5066476604729445, 0.006111799118823133, 0.009372563453167318, 0.019120712327044438, 0.014681975536837694, 0.04428493551460114, 0.014784166895152, 0.21647275563910637, 0.00036169215645631805, 0.016140512481863194, 0.0030291718103216637, 0.031783698248598946, 0.7174163923311069, 0.039688302444678296, 0.008099653560138429, 0.9521142759942722, 0.9999209460907331, 0.9765685829316333, 0.02334692650451309, 0.3392229055276059, 0.30348576683203105, 0.15014483990271296, 0.0031044794366705615, 0.02274921816707772, 0.07375428851840947, 0.03499409935499472, 0.020947602231698413, 0.051229000015616186, 0.0003664303597381646, 0.01304484301997368, 0.01614347142061259, 0.8665830760453483, 0.09223201325852358, 0.01197371221481455, 0.012030187859215787, 0.009757819041363915, 0.9781879417082348, 0.9995478317875338, 0.21099017741445886, 0.012757369014082809, 0.01476969210261373, 0.04039833521126223, 0.07502547967805842, 0.04108176569415952, 0.056079267957739015, 0.5488326461266876, 0.9992041751580746, 0.13004319217743662, 8.007585725211616e-05, 0.0023221998603113686, 0.03291117733061974, 0.1848150785378841, 0.0299884085409175, 0.033792011760393016, 0.5861152371568642, 0.06517529426577758, 0.36525593269388174, 0.00039183543646760066, 0.56914097146919, 0.2453367231105479, 0.023592002877998324, 0.021112161666390544, 0.0579411547955385, 0.12958845899036864, 0.08820191985069828, 0.009986387581879972, 0.4211038468251803, 0.003150068566096367, 0.484087796406936, 0.05834246384143228, 0.1287434161756385, 0.2955450358098832, 0.003967197887027858, 0.02895830322056493, 0.0003586167581494109, 0.011213621772659827, 0.988734880904452, 0.9999025564850529, 0.9965402776319888, 0.003345092681891653, 0.562731701217488, 0.020919011014347726, 0.010191577287285666, 0.024907019518068202, 0.31868000769394256, 0.021310598412645862, 0.00515246576708072, 0.03609817516416753, 0.4541551011630516, 0.000822827561241563, 0.0010056781304063549, 0.4837311807254567, 0.037210090825035125, 0.023084884357054962, 0.9995955420031203, 0.00029797164407883157, 0.013322735033771545, 0.0003416085906095268, 0.7690748069922481, 0.06228663302113706, 0.01969942872514938, 0.11455274738439465, 0.02072425449697796, 0.008402116595278456, 0.990749581859918, 0.9998155594965648, 0.9997211738797358, 0.9967992069440894, 0.0031881958968838367, 0.11678600894605712, 0.8831635669529103, 0.9998892860214994, 0.0004988149196405215, 0.003824247717243998, 0.06534475447290831, 0.8577953901418168, 0.01454876848951521, 0.016544028168077297, 0.04140163833016328, 0.999644109461177, 0.9996892715639573, 0.9993622382798768, 0.9995558323637739, 0.9988868795573128, 0.24688720850020515, 0.28165385639952106, 0.01382597706544524, 0.4114053334752379, 0.0039607573556182645, 0.03960757355618265, 0.002603831224526822, 0.9997515459329179, 0.07069713489239891, 0.9267503485539162, 0.0025146338630426444, 0.029030717253511626, 0.04700053193789354, 0.09888380464954705, 0.0002491194272326513, 0.5488599220789773, 0.27595789352651556, 0.9999042836372533, 4.0727639755498894e-05, 0.014366524619025376, 0.034232197417581996, 0.9309370474423956, 0.020346848264265607, 0.9988619390797078, 0.0007165437152652136, 0.06090084648789754, 0.5198793190566715, 0.011330390044260008, 0.07994762285540359, 0.15982198887862448, 0.06011944027794858, 0.08383023496108752, 0.004322153098780219, 0.01985260152151592, 0.9997768257068202, 0.005616800668676601, 0.9881248560971836, 0.006048862258574801, 0.9141910558439955, 0.017623160106906705, 0.010955685090007937, 0.04108381908752976, 0.010374701789780243, 0.0012172983433342151, 0.004537202916063893, 0.858126657538448, 0.0011644387361999294, 0.10812029302419345, 0.02818373015209829, 0.00012938208179999214, 0.004248045019099742, 0.9998588707686821, 0.9997577050176654, 0.31543336471133265, 0.6451931347426878, 0.03931872473292522, 0.9998876675726251, 0.9998713756173057, 0.986119374694456, 0.0015353282079317598, 0.01206329306232097, 0.04623872732172483, 0.005396281678279099, 0.9482642431517114, 0.11166075759547461, 0.6312806574715448, 0.005444724318458062, 0.25155504532617934, 0.0070989672402638326, 0.0053433086754674005, 0.01732758670473, 0.9701158565216457, 0.9999204423611617, 0.9998102676879238, 0.8999755482287874, 0.09981244527491173, 0.999736189635899, 0.001965895308434145, 0.7620948365406156, 0.06275344760870047, 0.04785403053425222, 0.07687685337718789, 0.04842310549195684, 0.9997854738463593, 0.9992346467960112, 0.022455604050354967, 0.977482021879692, 0.9996062191599532, 0.9999491514710633, 0.476651533347461, 0.005254644115811871, 0.1927451859717703, 0.009800602676530693, 0.05819864058532424, 0.11176489754223538, 0.014329276223710661, 0.04001480634244895, 0.0739798579462987, 0.01725044351177713, 0.36175027426649964, 0.009121505731659504, 0.2767474099397404, 0.025365811624335693, 0.028143935197429956, 0.041548381437609784, 0.07088073616353006, 0.09564462101369534, 0.08981056151019738, 0.0009877772704335165, 0.999583352527653, 0.9994087426526481, 0.9998783463306128, 0.9992216412029609, 0.00912065500344681, 0.04223259816813415, 0.04143949773305181, 0.9069103475166459, 0.9997238125245403, 0.9998674821749105, 0.9998185335648583, 0.9994728447920095, 0.12099381995921042, 0.09247696811735423, 0.006302411457390538, 0.02196483993070762, 0.08330415144174622, 0.6393515623012223, 0.03556806466052086, 0.07086873274637448, 0.002649298420425214, 0.08256980076991917, 0.0004415497367375357, 0.011590680589360311, 0.10773813576395871, 0.7064795787800571, 0.017551602035317044, 0.019651593067716456, 0.9299316645160336, 0.01261358066672033, 0.037657936483252, 0.9972902720604263, 0.002640329767179646, 0.00012217925939160396, 7.330755563496236e-05, 0.9997684437496168, 0.13136153834665584, 0.038732498174895776, 0.07902954055364544, 0.09521655558582613, 0.5152364995435256, 0.02290653180514292, 0.0088055757114341, 0.05965326233668568, 0.008865750488505403, 0.040196751083630834, 0.12131042088316402, 0.024819317894522734, 0.013034145010413875, 0.4845691600800303, 0.14203054820930106, 0.0027861685894496487, 0.04201670332595332, 0.1596122327565178, 0.009831652378862554, 0.9993640889905392, 0.049176913671048386, 0.019137164663683263, 0.5757947942957782, 0.2937110108538101, 0.0621546122553706, 0.081602029569495, 0.001656894001411066, 0.24629729330975497, 0.5671548166830079, 0.09299317582919608, 0.01027274280874861, 0.9012015296728951, 0.013641958509804515, 0.014293298703906589, 0.07085133889176987, 0.16238875069633124, 0.029986062487912423, 0.1754404479177084, 0.042587518530792415, 0.02313709961971409, 0.3690282638063739, 0.11321182009435651, 0.044685112727085176, 0.039483502876682425, 4.7672595370290015e-05, 0.9997202199474468, 0.023932457833091357, 0.023071135443211464, 0.2986327771769292, 0.08910585200067005, 0.06742923852202604, 0.034698987706590044, 0.32957886018475685, 0.06343024171186938, 0.06451714853719401, 0.005598595534219315, 0.1072494032803704, 0.031708760462872056, 0.037395808489896355, 0.08938374996620627, 0.5386328024034329, 0.049324738497800974, 0.00013870848846400725, 0.049130546613951366, 0.01936370498957541, 0.07767675353984406, 0.028387557766566603, 0.9156301618503219, 0.05598657226183969, 0.08095658417496693, 0.18708128073627156, 0.1462485081926425, 0.01368969761590871, 0.12005071448131042, 0.04444509719196996, 0.32573377915436547, 0.006228728015129858, 0.07557185724589803, 0.041999848693549745, 0.007127911658174239, 0.0037284460981219093, 0.9462576876674693, 0.000877281434852214, 0.006887796757826375, 0.9929302799834969, 0.9991218832143539, 0.04567849681359653, 0.8989326279007229, 0.051735314070648006, 0.003533143399946693, 0.02140128991762477, 0.0056242297735737455, 0.6787422749471952, 0.020926517274401014, 0.019538720317285416, 0.06526297795698885, 0.07607318583346825, 0.11241155352636356, 0.016879830011470785, 0.982647247096335, 0.1917918755634697, 0.07373476949232799, 0.14730658921782208, 0.0012628606929625235, 0.024849839442165785, 0.5571252528050152, 0.0037885820788875705, 0.0001222123251254055, 0.9995935171773822, 0.00018480190740938847, 0.9995975013109586, 0.9997237909613808, 0.9995274895573063, 0.9959898126289702, 0.003987071110895116, 0.03719878378537603, 0.3207729781428928, 0.0004731164869364201, 0.029333222190058045, 0.6121535945348605, 0.29568060175682215, 0.03426280567933098, 0.25188293043711163, 0.025454813204361534, 0.02736463681543905, 0.15954153360001289, 0.08819394406975878, 0.08679720739897073, 0.029987081176918628, 0.0008408924854744292, 0.26126441210371165, 0.7386713133265747, 4.71001283763677e-05, 0.0925838303708012, 0.8062124211523466, 0.10117708573295738, 0.04880050786261917, 0.3168115179674724, 0.18518805440352304, 0.0014887759302982728, 0.001739517139611666, 0.11032613209789305, 0.23050952798691887, 0.05406607325820043, 0.0510728500720218, 0.9863344911580841, 0.013646845287863514, 0.999710272515573, 0.052714674038568506, 0.7557039247771543, 0.13948527913785794, 0.03877442418289178, 0.007483364530600805, 0.005827752908786467, 0.057918040867371456, 0.0755547375224733, 0.7986593003816486, 0.02460428051884577, 0.04322079365478659, 0.005274103370422286, 0.18881290066111783, 0.8057871022119721, 0.9998335344121805, 0.9568747554308593, 0.042552013069331256, 0.921622231458834, 0.07667271186529975, 0.0016972785109739116, 0.998779273907895, 0.9994874993840834, 0.0007098637473682014, 0.9987782925470593, 0.0006223607957453408, 0.03080685938939437, 0.9680822177818776, 0.0020099545328165825, 0.014069681729716078, 0.9755457893206199, 0.0081833863121818, 0.9994874890364984, 0.9998653370149564, 0.9997267740967134, 0.013374134392714435, 0.032337459277906544, 0.019761780669831776, 0.9343928819745713, 0.14409073451586457, 0.08792515993078412, 0.6714429482598577, 0.025995955965069085, 0.018880854867596046, 0.03752321472633825, 0.01411095469051915, 0.007317626445063682, 0.038513823395072005, 0.9539874054959336, 0.012364282583167956, 0.005298978249929124, 0.9820773023201975, 0.9996259518507212, 0.9997776289469695, 0.02386320237787088, 0.9760683308895506, 0.4717143828772719, 0.004930837519209928, 0.1121964068609685, 0.06802101186822246, 0.10261628769846254, 0.017651387605370827, 0.026126941408522297, 0.042298355819986776, 0.09299285224735444, 0.06145137476356502, 0.9997906100707412, 0.9934379642152908, 0.006291374321025666, 0.9998064497415313, 0.9991912145371616, 0.9996344489873674, 0.9997620896885869, 0.6186643407014094, 0.07085627257438863, 0.18761180014830556, 0.005792316399895956, 0.011482475544061826, 0.04179253331917876, 0.018255501598966623, 0.036970710848718634, 0.004964842628482249, 0.0036163668528450947, 0.9889232515570519, 0.01092585645751526, 0.03109225149987804, 0.9686592715599588, 0.00020867282885824189, 0.9998497243765451, 8.791760184835119e-05, 0.999886885821298, 0.3138084183009143, 0.002685325768545138, 0.5010006041431015, 0.00633861780249608, 0.14563208586621537, 0.025947740856523367, 0.0009055168289280115, 0.00368451675218984, 0.9994812777751655, 0.06291677834562895, 0.02040544162560939, 0.00680181387520313, 0.9097426058084187, 0.04036319662641734, 0.026595904753840882, 0.006883645936288228, 0.046017620074082666, 0.465517731191388, 0.004603996957387581, 0.007554130930082536, 0.020852083307002976, 0.00026819399751772317, 0.38132716547061607, 0.9996088137947734, 0.00024491211902358777, 0.9840430481934721, 0.0006403403599762304, 0.0152881260944325, 0.002517068515901276, 0.06320638717707648, 0.032554086138989836, 0.0006712182709070069, 0.7479049583581325, 0.007830879827248415, 0.010124208919514021, 0.007327466124068159, 0.12786708060778482, 0.9997014995883642, 0.9997780610112452, 0.45951206996650573, 0.01202220429520731, 0.04883001349989257, 0.2580697343714723, 0.04967497730362477, 0.06519562822481104, 0.00016306319019393392, 0.07583920736656054, 0.013697307976290448, 0.017003043559312928, 0.9914450786900143, 0.008478853179987235, 0.5891895041707923, 0.0001868268166697365, 0.08955232079036037, 0.003217572953756573, 0.2781436129508666, 0.004649911881557886, 0.03122083691903152, 0.003819570474136835, 0.03962025491078504, 0.003146025203834048, 0.09022701971308429, 0.045101220695589674, 0.09590461207312855, 0.025561454781151637, 0.14134992927538756, 0.5252633174307613, 0.033844349263120965, 0.3907324222983907, 0.01898585228678864, 0.14706785758360133, 0.04328535505635775, 0.03659424943237496, 0.03067076586850492, 0.0903874975782761, 0.056697418273327714, 0.1412765755967507, 0.044304586569507455, 0.07425973331525301, 0.1416951768624961, 0.021071948176793996, 0.027870191037292432, 0.573162199790299, 0.0011981577455284598, 0.10059315680936763, 0.06016835635153787, 0.9992622370685751, 0.9997101768049707, 0.1298471102628292, 0.5579534651426964, 0.2504708963782432, 0.00043234331941008607, 0.028736419296790387, 0.023087133256498596, 0.0018158419415223615, 0.007638065309578187, 0.9995163659604327, 0.9996300177608958, 0.2656005546711944, 0.05879650400067184, 0.2544008287166928, 0.0670173168063641, 0.09915172522100699, 0.0007570718499736611, 0.02089353725090354, 0.05031236185585831, 0.04671627056848342, 0.13636345245558196, 0.999902649000373, 0.9996610089873432, 0.0023996093745779746, 0.2585306418224293, 0.4416099297873897, 0.010770973897253408, 0.0002999511718222468, 0.03623955521379691, 0.03872096945341732, 0.1865696288734375, 0.02486867897289901, 0.17899587495696276, 0.07916150674168128, 0.1577725526748939, 0.005714307440293549, 0.04387085268763595, 0.013412021285704278, 0.03381402109164531, 0.06091766280386334, 0.4062925014887615, 0.020052500879929196, 0.00902733159186322, 0.002230281922695619, 0.9885459112595629, 0.9977355559071239, 0.0020028147659560866, 0.9186607144088038, 0.015063278100313531, 0.0011157983778010022, 0.0004781993047718581, 0.049812427580401886, 0.014824178447927602, 0.0002169983687122234, 0.9997114846572132, 0.2748158957196412, 0.07068523628847281, 0.14784588663425455, 0.08999020546193953, 0.12452762730244697, 0.04159099786721895, 0.04234965918316673, 0.07949022003713067, 0.11505987251569345, 0.013644622477900947, 0.999842237698074, 0.9998046340781555, 0.9801220822833869, 0.019680090984245033, 0.9693506709263541, 0.030505881125191828, 0.9991056121960347, 0.9987093177190732, 0.10027455832128157, 0.041648427662542876, 0.004598127894803035, 0.8099779137768424, 0.043416938391313276, 0.9997558604959756, 0.00022250172158147792, 0.9998918274105519, 0.15178338913855172, 0.6630199135846935, 0.1851668324974707, 0.9999288278473943, 0.9996360188701189, 0.9988852843142042, 0.05074998182251225, 0.018464130600706122, 0.9308032009110252, 0.9840800097557052, 0.01582080333249331, 0.999041519986726, 0.9943083925245183, 0.0055559892984391734, 0.9993186998628741, 0.9985459018855105, 0.022549081019856563, 0.0025248755663922077, 0.06345206519541033, 0.5695925056583406, 0.0023112322492359443, 0.2691128911379264, 0.03367795563172376, 0.0033988709547587413, 0.033425468075084536, 0.9993192989040336, 0.01837334084064066, 0.03599403880347195, 0.8569945991621235, 0.02687377804884068, 0.0131491138064344, 0.04856760217393447, 0.999938927337757, 0.024902147539225365, 0.05040194661939214, 0.9245669338363594, 0.9999125601856813, 0.03920342676758542, 0.37496140970029146, 0.5756168344333136, 0.006932764582562305, 0.0032813440906789555, 0.9998404419583556, 0.014202210422508296, 0.07008280306531872, 0.8966885796171905, 0.00705469275889301, 0.010489214233617239, 0.0015780233802786996, 0.9995078509838081, 0.14752024247922266, 0.7930585740229179, 0.05939245494355801, 0.9996224415478704, 0.13247825475373756, 0.198138578795134, 0.18052111576147342, 0.0803815862341651, 0.11438901239757879, 0.06294322460997147, 0.045242763362167704, 0.12273688540956126, 0.03422584251642213, 0.02894890342773828, 0.9403569722559746, 0.05956632872944422, 0.22963130443674018, 0.12997360753853562, 0.21853400237566248, 0.009941787308156043, 0.03466544258764936, 0.034567332844476766, 0.013135804502552665, 0.12807681917053218, 0.037521526222229276, 0.1639413808414021, 0.09841136221050437, 0.056310875321169365, 0.8309244555245222, 0.014328316966538383, 0.04189191408710116, 0.6402835423605667, 0.06414699344587366, 0.00020455036175342367, 0.1114390370832652, 0.012293476741380762, 0.0517103314512655, 0.02299146066108482, 0.0027614298836712192, 0.052262617427999744, 0.9999301363802083, 0.9972749256580854, 0.0018377302069866438, 0.8926467373974574, 0.1073139925129758, 0.9997364604506493, 0.9997992830748721, 0.028992014206653174, 0.4052109174761088, 0.42129088918379287, 0.011732261966068391, 0.0217385487080783, 0.009416396475559545, 0.046645026624871536, 0.05496903371811559, 0.19040622016851014, 0.0534293219986863, 0.04876710843343929, 0.06387055313910642, 0.10850725944059683, 0.025846035658289523, 0.0007090819110641845, 0.06431372933352153, 0.0061512855784818, 0.4379998964643467, 0.022744874951577326, 0.20053173773875868, 0.07429095250456026, 0.03189665895576228, 0.003869320442945847, 0.03243499919130258, 0.08818685983444403, 0.06904213520804241, 0.07718453127058933, 0.3998185636828304, 0.08505921293151178, 0.41871726615738725, 0.13303792522569263, 0.025739272246462677, 0.06833533122232131, 0.09261264824652363, 0.06930996803716155, 0.05898767813453538, 0.014996116446519133, 0.03320410421467087, 0.999205876514388, 0.9998928289457784, 0.032086406648334904, 0.9305866149847054, 0.03733984854289855, 0.0019393395182317906, 0.5887676463921656, 0.4092797950619377, 0.0012484462989006187, 2.0807438315010314e-05, 0.002122358708131052, 0.00037453388967018564, 0.000332919013040165, 0.9958856126330237, 0.04097825947653602, 0.05138895242462895, 0.020378377685628724, 0.8872346936933244, 0.011944529384905226, 0.9879281723515162, 0.9998966020731761, 0.0005091825771400408, 0.9993556714001867, 0.014518310478790276, 0.041260429220841735, 0.129182505267222, 0.3314641961619195, 0.4739263868181329, 0.009665336766299541, 0.9927532299723951, 0.006652851131609498, 0.7601530079726695, 0.055355117334356704, 0.17637396745233927, 0.008160987230671405, 0.8942822793187037, 0.0035840442143472025, 0.0064091143597738215, 0.09571506313609589, 0.9999261937841346, 0.9998127815826092, 0.10161032732024272, 0.6203837485875934, 0.18681346842014987, 0.004309482456607126, 5.1921475380808746e-05, 0.04623607382661019, 0.005919048193412197, 0.027284735312614997, 0.007398810241765246, 0.9999453048816933, 0.9998127225227068, 0.9997472289744402, 0.632666384937729, 0.0174828087884906, 0.1826323046735305, 0.0013631819718121327, 2.0447729577181993e-05, 0.09058344202691622, 0.05155554217393486, 0.007197600811168061, 0.016487685949067746, 0.9992362864404848, 0.7872417504886524, 0.11425503756659001, 0.004297516448805391, 0.003468553885076432, 0.09069504891324066, 4.362960861731361e-05, 1.0907402154328402e-05, 0.026023896811120266, 0.9738782346749713, 0.9995729043192252, 0.9997710271475914, 0.06498869904125402, 0.0009967591877492947, 0.003388981238347602, 0.9305743776827416, 0.1232289774985703, 0.06480144506390335, 0.06214564813505485, 0.7343519944350537, 0.015451909404209442, 0.9938367084295759, 0.005901424136156324, 0.030546951896356016, 0.018672803415618652, 0.06407027346466468, 0.12798389589396342, 0.6085892723966314, 0.012187450551469222, 0.007268608040979073, 0.1306782937022574, 0.07194914879452076, 0.027500563539239044, 0.9004835689127575, 0.09297915440510501, 0.05065902409076377, 0.07403334416043111, 0.2872568050719804, 0.315773280037777, 0.028389387487375142, 8.798363890715437e-05, 0.1309880864129957, 0.007840319822615311, 0.012004878730887285, 0.9998904932385079, 0.07336376773720227, 0.15249649643890262, 0.4463325365080087, 0.03777036706944983, 0.018286517774258132, 0.13984287922903652, 0.056220157323835264, 0.0502062876391462, 0.025497718979880755, 0.013719887985507285, 0.9848919589596301, 0.007590072188613614, 0.008663415730437761, 0.047763787611174564, 0.9359555684706565, 0.0039257618017954216, 0.9959037834028386, 0.0063764026179230675, 0.9936098688102728, 0.19579828605950358, 0.48724714825938303, 0.007635243613375392, 0.02011355437309893, 0.0005189000513944441, 0.10985855373808089, 0.015789387278145228, 0.16300874471662608, 0.0005349707109251979, 0.7583591949301056, 0.2410425174654392, 0.9789619974742503, 0.020927429100588226, 0.9995518849737941, 0.999214424503476, 0.9997255791709809, 0.9998162679781863, 0.04406264990620522, 0.06421604487370033, 0.17826593912157038, 0.63579380805409, 0.0711323236011816, 0.0065040501940552406, 0.44241249352275264, 0.013992536766209686, 0.030754927226754394, 0.49384581126066335, 0.01900692707491964, 0.9691235663434868, 0.000282378661521995, 0.03056749010975596, 0.999817894925442, 0.9999065864542847, 0.1417114539591741, 0.05066196315947754, 0.044601466631988634, 0.031675563881953715, 0.1531222325773368, 0.07130552945623661, 0.01169486439288874, 0.4952088529766127, 0.00828688458556489, 0.15998291074909995, 0.26338481507787076, 0.568296129578961, 0.9997775332291854, 0.12287080375790493, 0.05908795623056565, 0.07659863187799168, 0.00012688895396685535, 0.4823472103460062, 0.142115628442878, 0.1114930942188769, 0.005371632384596877, 0.025268269935751434, 0.9744481534197477, 0.0004145697903709051, 0.9645262294257944, 0.035060759414225116, 0.999952013820991, 0.05177812572029994, 0.014959114567515717, 0.012554971154879264, 0.05507269261909804, 0.7650518593100896, 0.031921681978895146, 0.054182269132936396, 0.014469381650126812, 0.9996969653097659, 0.0010669311566189699, 0.9988846584079379, 0.9998685911616219, 0.9996899302963678, 0.9981496995662927, 0.999750693417801, 0.9884020741892459, 0.011525310301494122, 0.9994720853591096, 0.17209869686739557, 0.010334358022674489, 0.6577432221778403, 0.1256995383982448, 0.034096351299300186, 0.7236764517479081, 0.10385774764684981, 0.01970872310039574, 0.011969695704952387, 0.006578173286126851, 0.014368794197539827, 0.017129047301914623, 0.09947229878943191, 0.0032245947481013976, 0.9996134626597032, 0.01775816938747786, 0.012203673483175425, 0.006405914984523977, 0.05611257176317205, 0.00012163129717450588, 0.24139758112566936, 0.007824946784893212, 0.5271500419543085, 0.13103745082266768, 0.9650769070601972, 0.019012409335638927, 4.380739478257818e-05, 0.01581446951651072, 0.148755646645715, 0.019882665156985002, 0.0033311271467200004, 0.027377701237105003, 0.79842953797945, 0.00020819544667000003, 0.0019778567433650003, 0.9995549473556333, 0.004722571089908616, 0.015998565105306364, 0.5912966998332321, 0.13993183468577053, 0.016614552638772706, 0.015553685220025117, 0.11021043619601956, 0.10567608351911455, 0.9994069980183151, 0.03503826530799825, 0.10588628066472132, 0.6781350870986523, 0.08865645478849465, 0.07663415091217232, 0.015558275604652434, 0.9996192021086988, 0.9601190067529496, 0.03434572056677218, 0.0048136047764036766, 0.0006504871319464428, 0.00015028632000807024, 0.9664913239718996, 0.0003005726400161405, 0.033062990401775454, 0.21084592864199558, 0.04797364754678778, 0.04386661396810103, 0.017924580060172758, 0.28252240295939574, 0.03878743680296981, 0.02554880728869231, 0.016624747624364982, 0.02736201892183593, 0.28856280074932594, 0.9998725123946413, 0.9998183091492596, 0.14752389589671241, 0.09007287778611658, 0.11371969534333096, 0.03514776973276864, 0.08655272653612217, 5.374276717548722e-05, 0.46801888794773044, 0.058284031001815895, 0.000618041822518103, 0.011271506271511422, 0.046732424878513645, 0.007345475997164746, 0.8257328189916232, 0.10878903244076754, 0.023847139411592354, 0.9757454542576538, 0.9994407045389556, 0.06677465328339222, 0.00020867079151060065, 0.0004173415830212013, 0.8379175633108169, 0.04799428204743815, 0.026605525917601583, 0.020136731380772963, 0.9994865786292797, 0.9995124361263771, 0.9998739688105773, 0.8028458513554355, 0.19705038208005485, 0.9995015992025857, 0.9999179835154214, 0.9996510115620789, 0.9375152915174273, 0.011320347234534062, 0.02301430328868971, 0.0097511901921234, 0.00041096970158374484, 0.0020922093898808826, 0.015897055274898493, 0.9760497471283316, 0.0017661583438193609, 0.008194974715321834, 0.013917327749296564, 0.24042467307167256, 0.0004884033174532893, 0.6768618775479319, 0.06512044232710525, 0.017094116110865126, 0.008495694781358474, 0.9912259541641507, 0.043665883776125444, 0.9556110718698223, 0.0001679547033181814, 0.9998007579124703, 0.04305156299767493, 0.9567013999483318, 0.0012078168137089143, 0.9984618993327026, 0.9998906038913665, 0.9997975391198377, 0.017015138084830534, 0.9827457610995692, 0.006384080472369517, 0.6445518666162751, 0.11209896141268194, 0.00847778428320038, 0.01568561707458532, 0.012356284785231323, 0.2004463976270859, 0.05163808175552651, 0.0011381189303799925, 0.00013007073490057055, 0.006536054428753671, 0.021429153574869, 0.03879359668409517, 0.8803512514907867, 0.015845834575619142, 0.9207511354889437, 0.04852492962029363, 0.014858408682182933, 0.07322118340318813, 0.02919651583109856, 0.022414647980567793, 0.8750908465439108, 0.015082583569855266, 0.006647773800931467, 0.006862218117090547, 0.000357407193598466, 0.013509991918022015, 0.9574223902115707, 0.9995910081082346, 0.02655730153926154, 0.002406486870871596, 0.970931506437015, 0.9996633962567256, 0.06684610465094316, 0.010026915697641475, 0.04196449903086988, 0.07334503149200709, 0.021539300387526134, 0.7861844641447039, 0.9997001842190576, 0.018985595076632382, 0.015582516713839785, 0.9652204893204898, 0.9995025406248759, 0.9994520642184902, 0.08146436770381632, 0.826175837983531, 0.09233121167156677, 0.18194420992418678, 0.00022969531341249558, 0.5830943139483652, 0.2347230886060802, 0.9995284877440271, 0.999663277937295, 0.0029483826764170676, 0.9575925735477433, 0.006002064734134745, 0.030536820577176774, 0.0029483826764170676, 0.07331172689652476, 0.06432790881091352, 0.10310513859873177, 0.20914651759126152, 0.15528401605549036, 0.009105039019300154, 0.07364845171232728, 0.1560517486355201, 0.13763963570743828, 0.01838517494281762, 0.9836433101894817, 0.007159155727317096, 0.009134095238301122, 0.9701337097727429, 0.029813016274117518, 0.9995852809442783, 0.9999735505055831, 0.7164190162638723, 0.04150429101084605, 0.24203605710273873, 0.9897249399647263, 0.00625012034896001, 0.0036765413817411823, 0.12437030713150181, 0.030750725388944578, 0.1728973050048518, 0.03103692655595647, 0.2025032257257488, 0.00966723941906841, 0.3274459351912744, 0.010112441234420243, 0.09123457201745812, 0.01022191695533038, 0.9894815612759807, 0.9998856123692149, 0.9999064752378931, 0.6906603305240048, 0.1342640707157597, 0.17506929679795336, 0.9997747150611717, 0.920748525280065, 0.07917709895298038, 0.2119754428361248, 0.018524957527035726, 0.22176287316684454, 0.06470902985042012, 0.13560082260344034, 0.0853454592366457, 0.03176540261090572, 0.05570319407531208, 0.04016462768613602, 0.13444592915559617, 0.0380200399299877, 0.879850218831133, 0.0010724976002817407, 0.002332682280612786, 0.07223271337897523, 0.0028689310807536563, 0.0036196794009508747, 0.005002453289250171, 0.9091264068033124, 0.0393943196528451, 0.021468862033031985, 0.02487330941043835, 0.16460019507513698, 0.062169435809393776, 0.07779446688382918, 0.08950635084614848, 0.4373079684659884, 0.04624127362063952, 0.0010747375871304776, 0.0027832947769276467, 0.02229391558945016, 0.0962854648572792, 0.9966934500807453, 0.0032629098088767785, 0.9995001672580011, 0.9999390683133126, 0.9998261583799505, 0.834736115304271, 0.00022465312154954816, 0.16482050684351848, 0.00022465312154954816, 0.9972754112466721, 0.002435679430453202, 0.02613504802825033, 0.021276281760767395, 0.9035259461195114, 0.029101452696818863, 0.0199976590587982, 0.00013557369683284978, 0.00013557369683284978, 0.9751816013186885, 0.013286222289619279, 0.0013557369683284979, 0.009896879868798034, 0.006071908942673653, 0.9816252790655738, 0.012143817885347305, 0.0009467053284688085, 0.044495150438034, 0.9544367553179705, 0.999897013621695, 0.026500288522721557, 0.9605268512088093, 0.012598497822277462, 0.040429137519194885, 0.8378557343895411, 0.07570928110905834, 0.04595953840625456, 0.053908602272765144, 0.9458233983025031, 0.05775816620794227, 0.02045359608168579, 0.2538105331954646, 0.007728205337682416, 0.0407909785492711, 0.6173848249088396, 0.0020337382467585305, 0.9997782327365313, 0.9998595354774014, 0.9993718101359094, 0.9996553592261328, 0.10922397985020216, 0.2124031211209084, 0.05006099076467599, 0.10977982707590293, 0.5046398000330905, 0.011742272642928858, 0.002119167547984202, 0.1555737531399326, 0.11163194032382387, 0.13744894425514967, 0.12060814938122703, 0.1446596340476199, 0.02959771185219229, 0.043846700667156124, 0.1540460142473812, 0.0844595882699233, 0.018136697903402024, 0.0025249895364238017, 0.6193993562811926, 0.3233151986408508, 0.0030299874437085617, 0.051665170514517786, 3.8845992868058485e-05, 0.0017330226216484637, 0.9979734554092796, 0.4157132658795102, 0.5842469212989466, 0.003702900473441141, 0.9961924364609228, 0.6711555208439755, 0.0025056472778175083, 0.07539313684147324, 0.18494808969390483, 0.06082906203915898, 0.005167897510498611, 0.8936406258627071, 0.020895680323874056, 0.08541033181945022, 0.9374474666374564, 0.0624823294471576, 0.08402699232003555, 0.008742155260745258, 0.9071846116057407, 0.004006684114456177, 0.005599703099721886, 0.9849201926174624, 0.005454883191970458, 0.999915807109104, 0.07599949318744018, 0.0003867658686383724, 0.8944927626933957, 0.02465632412569624, 0.004447807489341283, 0.027782435667182522, 0.9718610514520075, 0.7459339291701927, 0.06535626851669082, 0.03865664293850109, 0.004336061240552467, 0.0029169866527352963, 0.06971860891627694, 0.028118700166006913, 0.031167082613910463, 0.006753743871648389, 0.006990256302951251, 0.22380367088085587, 0.11302115631398724, 0.0032672068741730785, 0.6599152847519586, 0.9996051177429869, 0.999910658889198, 0.9586986469715084, 0.04128546959423173, 0.6706634374241014, 0.16009376626378355, 0.00433265911212418, 0.07679403534647347, 0.009268939462779593, 0.04248152138729808, 0.03232727077467268, 0.004037555395508911, 0.7066120439186793, 0.00021633503793871392, 0.1547877196451498, 0.0006644576165260499, 0.005377470943048032, 0.06734200680977966, 0.014077229968726313, 0.015019832634030708, 0.0358961637951166, 0.9817464604647141, 0.008740543338936233, 0.009495898936128254, 0.02448429954040046, 0.011714975856650938, 0.911425121647443, 0.027647343021696216, 0.013589371993715089, 0.009957729478153298, 0.0010543478270985845, 0.022378092039622648, 0.03215243109141185, 0.9450242546387772, 0.31117072246380034, 0.05212499958805797, 0.24639367744337912, 0.07219606884059758, 0.02828419183398558, 0.1716368631591368, 0.014485610549676842, 0.06875646128476116, 0.012830494592199137, 0.02211877336165623, 0.9998432252737669, 0.9996133012122518, 0.9991810166375407, 0.8584479202108669, 0.07233265097154175, 0.0691752733497681, 0.013126089023984494, 0.9867941995017384, 0.9997032528573292, 0.9994446869675607, 0.05891482255397767, 0.06846857756273081, 0.00973067639780412, 0.862314850234496, 0.00044230347262746, 0.9997604580072018, 0.9995166488536734, 0.8188432908864058, 0.14911177939631048, 0.00030824140443681754, 0.023118105332761315, 0.008553698973121688, 0.9777375189468386, 0.019470875836870256, 0.0026959674235666506, 0.3640115363313344, 0.0005707017586535974, 0.11935361611033041, 0.045123913209498476, 0.04989472341667012, 0.164092786561186, 0.08219387800473944, 0.050683446071888016, 0.10674046600615485, 0.017339073656172214, 0.04251088250079676, 0.2094161637715306, 0.07544184781831537, 0.037204764578162096, 0.031072791725934492, 0.04374966489518617, 0.11733333912191742, 0.06891759387453111, 0.10639076130481091, 0.26796927827967026, 0.003506492499070062, 0.9949672466111302, 0.9990784676679677, 0.048703148251999326, 0.09821583565981688, 0.07912980115211969, 0.2858062081641607, 0.16090032610072943, 0.025035617037138653, 0.026852661255874783, 0.0659261821696694, 0.1389402508346033, 0.07049353845489718, 0.9998337183810034, 0.03265694093772289, 0.11404617572284623, 0.04458689684038913, 0.2628124392809141, 0.190392162536306, 0.04058477392348188, 0.035952245010116686, 0.03981109383691985, 0.11196392561333363, 0.12718918558839368, 0.99963994607037, 0.9995072982816063, 0.40892776349152793, 0.09694826066655475, 0.1585588803201503, 0.08591231699401193, 0.08070942700490683, 0.025513550598748325, 0.017111368007646913, 0.020908508217086976, 0.03202524210685192, 0.07340599136802638, 0.9999630640132263, 0.0009393597065846804, 0.9989663497843264, 0.9998390076815112, 0.9991073028251505, 0.09644217229304611, 0.0038505781320933644, 0.1746977678698974, 0.7249157631142539, 0.9970476422825484, 0.0028637936049763528, 0.999658630482631, 0.9997992106371036, 0.7866955861472289, 0.0005305652241761787, 0.0032497119980790944, 0.12216264286656514, 0.010942907748633685, 0.07640139228136973, 0.01816333464541565, 0.9535750688843216, 0.017255167913144867, 0.009989834054978608, 0.02527518884221233, 0.01713163157801504, 0.7379269334290774, 0.00018096793920438422, 0.11889593605728044, 0.07039652835050547, 0.030161323200730703, 0.326664392543961, 0.10105777126087331, 0.1547040322081708, 0.06443032413133916, 0.061552746915775315, 0.014858347114649532, 0.015041050429923427, 0.056268053521477894, 0.13239138983034635, 0.0730219475320941, 0.6674921087986564, 5.124924330752756e-05, 0.1117672783332451, 0.22068656300268616, 0.026614043210547948, 0.9733562994419502, 0.9999295978632462, 0.4033198697524209, 0.012642193023330675, 0.1933711358322176, 0.04197239630078967, 0.09652389295854281, 0.07459130481263974, 0.03286339259402303, 0.06062416579559757, 0.06216993612159433, 0.02192470156260716, 0.030616166780370834, 0.0020386508200960366, 0.01845707081765519, 0.031089425006464555, 0.06571008446916689, 0.004150110598052646, 0.04390380158992536, 0.804065726133235, 0.063704492873913, 0.00040128814408764093, 0.013443152826935971, 0.10543845985902765, 0.024578898825368005, 0.792343440501047, 0.9999592283095813, 0.999704672470784, 0.002345051208133994, 0.0021887144609250607, 0.01801781011582952, 0.2528356044236468, 0.12870422713975402, 0.5869663173959386, 0.008911194590909177, 0.9996659696069886, 0.0045258168096759775, 5.692851332925758e-05, 0.20152693718557185, 0.09507061725986016, 0.0023625333031641895, 0.5858513306713897, 0.11058363714208286, 0.9997867659259264, 0.9996869831195726, 0.004289414380784307, 0.0006844810182102617, 0.011362384902290345, 0.0007301130860909458, 0.129868865188427, 0.8530458769615088, 0.16610531172605275, 0.8337956825122153, 0.03276870613063265, 0.022225731114689975, 0.8896941168859016, 0.0551844007591234, 0.9118176103779275, 0.005284367489874978, 0.05768767843113518, 0.025188818368404062, 0.0738199206464516, 0.9021911359224946, 0.023956145624554937, 0.001036501928359114, 0.9986696079740063, 0.699055624006681, 0.06967247322624938, 0.18104671874850206, 0.01936759140170071, 0.0003814186490488105, 0.005678899885837845, 0.006526496883724091, 0.018265715304448593, 0.15481385288042482, 0.06544975894131781, 0.3621336786286612, 0.07562451675192218, 0.10438668128916136, 0.13972630299047836, 0.011165436543959305, 0.011279120988770527, 0.07469068024097286, 0.0007227082562999114, 0.007567999666147941, 0.012297999457490405, 0.8892399607723831, 0.0908159959937753, 0.9998863657124143, 0.9953053642330616, 0.00455044015235398, 0.0051880694743237765, 0.011791066987099492, 0.9829033440446137, 0.985873062515407, 0.014014133561494047, 0.9993463140561758], \"Term\": [\"abuse\", \"abuse\", \"abuse\", \"academic\", \"academic\", \"academic\", \"account\", \"account\", \"account\", \"account\", \"account\", \"account\", \"account\", \"account\", \"account\", \"acrylic\", \"activity\", \"activity\", \"activity\", \"activity\", \"activity\", \"activity\", \"activity\", \"adapter\", \"add\", \"add\", \"add\", \"add\", \"add\", \"add\", \"add\", \"add\", \"add\", \"addiction\", \"address\", \"address\", \"address\", \"adhd\", \"agency\", \"allow\", \"allow\", \"allow\", \"allow\", \"allow\", \"allow\", \"allow\", \"allow\", \"allow\", \"allow\", \"android\", \"android\", \"angle\", \"angle\", \"animal\", \"animal\", \"animal\", \"animal\", \"animal\", \"animals\", \"animals\", \"animals\", \"animals\", \"anxiety\", \"apologize\", \"apology\", \"app\", \"app\", \"appear\", \"appear\", \"appear\", \"appear\", \"appear\", \"appear\", \"appear\", \"appear\", \"appear\", \"apples\", \"application\", \"application\", \"application\", \"aquarium\", \"area\", \"area\", \"area\", \"area\", \"area\", \"area\", \"area\", \"area\", \"area\", \"area\", \"armor\", \"armor\", \"ask\", \"ask\", \"ask\", \"ask\", \"ask\", \"ask\", \"ask\", \"asleep\", \"asleep\", \"asleep\", \"assignments\", \"assignments\", \"attorney\", \"avoid\", \"avoid\", \"avoid\", \"avoid\", \"avoid\", \"avoid\", \"avoid\", \"avoid\", \"avoid\", \"avoid\", \"awake\", \"awake\", \"awake\", \"awake\", \"away\", \"away\", \"away\", \"away\", \"away\", \"away\", \"away\", \"away\", \"away\", \"bacon\", \"baking\", \"baking\", \"bar\", \"bar\", \"bar\", \"bar\", \"bar\", \"bar\", \"bar\", \"battery\", \"battery\", \"battery\", \"bead\", \"bead\", \"beads\", \"beads\", \"beans\", \"bedding\", \"bedtime\", \"bedtime\", \"beef\", \"behavioral\", \"bend\", \"bending\", \"bent\", \"best\", \"best\", \"best\", \"best\", \"best\", \"best\", \"best\", \"best\", \"best\", \"best\", \"bird\", \"birds\", \"black\", \"black\", \"black\", \"black\", \"black\", \"bleach\", \"bleach\", \"blood\", \"blood\", \"blood\", \"blood\", \"blue\", \"blue\", \"blue\", \"blue\", \"blue\", \"blue\", \"body\", \"body\", \"body\", \"body\", \"body\", \"body\", \"body\", \"boil\", \"bolts\", \"book\", \"book\", \"book\", \"book\", \"book\", \"book\", \"books\", \"books\", \"books\", \"books\", \"books\", \"bottle\", \"bottle\", \"bottle\", \"bottle\", \"bottle\", \"bottle\", \"bottle\", \"bowl\", \"bowl\", \"bowl\", \"box\", \"box\", \"box\", \"box\", \"box\", \"box\", \"box\", \"box\", \"box\", \"boyfriend\", \"braid\", \"brain\", \"brain\", \"brain\", \"brain\", \"breath\", \"breath\", \"breath\", \"breath\", \"breath\", \"breathe\", \"breathe\", \"breathe\", \"breathe\", \"breathe\", \"breathe\", \"breathe\", \"breathing\", \"breathing\", \"breathing\", \"breed\", \"breeder\", \"breeding\", \"breeds\", \"brother\", \"browser\", \"brush\", \"brush\", \"brush\", \"brush\", \"brush\", \"brush\", \"budget\", \"budget\", \"budget\", \"bully\", \"business\", \"business\", \"business\", \"business\", \"business\", \"button\", \"button\", \"cabinets\", \"cable\", \"cable\", \"cable\", \"cable\", \"calcium\", \"calf\", \"calming\", \"calming\", \"calories\", \"camera\", \"camera\", \"camera\", \"camera\", \"camp\", \"canvas\", \"car\", \"car\", \"car\", \"car\", \"car\", \"car\", \"card\", \"card\", \"card\", \"cardio\", \"cardio\", \"cards\", \"cards\", \"cards\", \"care\", \"care\", \"care\", \"care\", \"care\", \"care\", \"care\", \"care\", \"care\", \"career\", \"career\", \"case\", \"case\", \"case\", \"case\", \"case\", \"case\", \"case\", \"case\", \"case\", \"case\", \"cat\", \"cat\", \"cat\", \"cats\", \"cause\", \"cause\", \"cause\", \"cause\", \"cause\", \"cause\", \"cause\", \"cause\", \"cause\", \"cause\", \"cell\", \"cell\", \"cell\", \"cell\", \"cell\", \"cell\", \"cell\", \"center\", \"center\", \"center\", \"center\", \"center\", \"center\", \"center\", \"center\", \"center\", \"certificate\", \"chain\", \"chain\", \"chain\", \"chain\", \"chain\", \"chain\", \"chain\", \"chat\", \"chat\", \"check\", \"check\", \"check\", \"check\", \"check\", \"check\", \"check\", \"check\", \"check\", \"check\", \"child\", \"child\", \"child\", \"child\", \"child\", \"children\", \"children\", \"children\", \"children\", \"children\", \"children\", \"children\", \"choose\", \"choose\", \"choose\", \"choose\", \"choose\", \"choose\", \"choose\", \"choose\", \"choose\", \"choose\", \"chord\", \"chord\", \"chords\", \"chrome\", \"class\", \"class\", \"class\", \"class\", \"classes\", \"classes\", \"classes\", \"clean\", \"clean\", \"clean\", \"clean\", \"clean\", \"clean\", \"clean\", \"clean\", \"clean\", \"clean\", \"clerk\", \"clerk\", \"click\", \"click\", \"clicking\", \"clicking\", \"clockwise\", \"clockwise\", \"clockwise\", \"cloth\", \"cloth\", \"cloth\", \"clothes\", \"clothes\", \"clothes\", \"clothes\", \"clothes\", \"clothes\", \"clothing\", \"clothing\", \"clothing\", \"clothing\", \"clothing\", \"clothing\", \"clothing\", \"cm\", \"cm\", \"cognitive\", \"coins\", \"coins\", \"college\", \"college\", \"college\", \"colleges\", \"color\", \"color\", \"color\", \"color\", \"colored\", \"colored\", \"colored\", \"colored\", \"colored\", \"colored\", \"colored\", \"colors\", \"com\", \"com\", \"com\", \"community\", \"community\", \"community\", \"community\", \"community\", \"company\", \"company\", \"company\", \"company\", \"company\", \"computer\", \"computer\", \"computer\", \"computer\", \"computer\", \"consider\", \"consider\", \"consider\", \"consider\", \"consider\", \"consider\", \"consider\", \"consider\", \"consider\", \"console\", \"container\", \"container\", \"container\", \"control\", \"control\", \"control\", \"control\", \"control\", \"control\", \"control\", \"control\", \"control\", \"control\", \"controller\", \"conversation\", \"conversation\", \"conversations\", \"conversations\", \"conversations\", \"cook\", \"cook\", \"cook\", \"cook\", \"cooked\", \"cope\", \"coping\", \"corner\", \"corner\", \"corner\", \"corner\", \"corner\", \"corner\", \"corner\", \"cos\", \"costume\", \"costume\", \"courses\", \"courses\", \"court\", \"court\", \"courts\", \"crate\", \"create\", \"create\", \"create\", \"create\", \"create\", \"create\", \"create\", \"create\", \"create\", \"create\", \"credit\", \"credit\", \"credit\", \"crochet\", \"ctrl\", \"cup\", \"cup\", \"cup\", \"cup\", \"cup\", \"cup\", \"curved\", \"customer\", \"customers\", \"customers\", \"cut\", \"cut\", \"cut\", \"cut\", \"cut\", \"cut\", \"cut\", \"cut\", \"cut\", \"dairy\", \"dark\", \"dark\", \"dark\", \"dark\", \"dark\", \"dark\", \"dark\", \"dark\", \"data\", \"dating\", \"day\", \"day\", \"day\", \"day\", \"day\", \"day\", \"day\", \"day\", \"debt\", \"debt\", \"debt\", \"defendant\", \"delete\", \"delete\", \"delete\", \"depression\", \"depression\", \"design\", \"design\", \"design\", \"design\", \"designs\", \"designs\", \"designs\", \"desktop\", \"desktop\", \"detergent\", \"detergent\", \"device\", \"device\", \"device\", \"device\", \"diabetes\", \"dialog\", \"diamond\", \"diet\", \"diet\", \"different\", \"different\", \"different\", \"different\", \"different\", \"different\", \"different\", \"different\", \"different\", \"different\", \"disagree\", \"disease\", \"disease\", \"disease\", \"dish\", \"dish\", \"dish\", \"dish\", \"disorder\", \"disorder\", \"displaystyle\", \"displaystyle\", \"dispute\", \"dispute\", \"doctor\", \"doctor\", \"document\", \"document\", \"documents\", \"dog\", \"dog\", \"dog\", \"dogs\", \"dogs\", \"don\", \"don\", \"don\", \"don\", \"don\", \"don\", \"don\", \"don\", \"don\", \"don\", \"door\", \"door\", \"door\", \"door\", \"door\", \"door\", \"dough\", \"download\", \"download\", \"dress\", \"dress\", \"dress\", \"dresses\", \"dries\", \"drill\", \"drink\", \"drink\", \"drink\", \"drink\", \"drink\", \"drink\", \"drive\", \"drive\", \"drive\", \"drive\", \"drive\", \"drive\", \"drive\", \"drum\", \"drum\", \"drum\", \"drum\", \"dry\", \"dry\", \"dry\", \"dry\", \"dryer\", \"drying\", \"dye\", \"dye\", \"dye\", \"earrings\", \"eat\", \"eat\", \"eat\", \"eat\", \"eat\", \"eat\", \"eating\", \"eating\", \"eating\", \"eating\", \"eating\", \"edge\", \"edge\", \"edge\", \"edge\", \"edge\", \"edge\", \"edge\", \"edge\", \"education\", \"education\", \"education\", \"email\", \"email\", \"email\", \"employees\", \"employees\", \"employer\", \"end\", \"end\", \"end\", \"end\", \"end\", \"end\", \"end\", \"end\", \"end\", \"end\", \"enter\", \"enter\", \"enter\", \"enter\", \"enter\", \"enter\", \"enter\", \"essay\", \"essay\", \"essay\", \"estate\", \"ex\", \"ex\", \"example\", \"example\", \"example\", \"example\", \"example\", \"example\", \"example\", \"example\", \"example\", \"example\", \"exercise\", \"exercise\", \"exercise\", \"exercise\", \"exercise\", \"exercises\", \"exercises\", \"exercises\", \"explorer\", \"eye\", \"eye\", \"eye\", \"eye\", \"eye\", \"eye\", \"eye\", \"eye\", \"eyeliner\", \"eyes\", \"eyes\", \"eyes\", \"eyes\", \"eyes\", \"eyes\", \"eyes\", \"eyes\", \"fabric\", \"fabric\", \"fabric\", \"fabric\", \"face\", \"face\", \"face\", \"face\", \"face\", \"face\", \"face\", \"face\", \"face\", \"family\", \"family\", \"family\", \"family\", \"family\", \"family\", \"family\", \"fat\", \"fat\", \"federal\", \"fee\", \"fee\", \"feel\", \"feel\", \"feel\", \"feel\", \"feel\", \"feel\", \"feel\", \"feel\", \"feeling\", \"feeling\", \"feeling\", \"feeling\", \"feeling\", \"feeling\", \"fees\", \"fees\", \"feet\", \"feet\", \"feet\", \"feet\", \"feet\", \"feet\", \"feet\", \"fellow\", \"fellow\", \"fertilizer\", \"fever\", \"file\", \"file\", \"files\", \"files\", \"filing\", \"finger\", \"finger\", \"finger\", \"finger\", \"finger\", \"finger\", \"finger\", \"firefox\", \"flap\", \"flea\", \"fleas\", \"flirting\", \"focus\", \"focus\", \"focus\", \"focus\", \"focus\", \"focus\", \"focus\", \"foil\", \"fold\", \"fold\", \"fold\", \"food\", \"food\", \"food\", \"food\", \"food\", \"food\", \"foods\", \"foods\", \"foot\", \"foot\", \"foot\", \"foot\", \"forgive\", \"forgive\", \"form\", \"form\", \"form\", \"form\", \"form\", \"form\", \"form\", \"form\", \"form\", \"frac\", \"fret\", \"fret\", \"fret\", \"friend\", \"friend\", \"friend\", \"friend\", \"friend\", \"friend\", \"friend\", \"friends\", \"friends\", \"friends\", \"friends\", \"friends\", \"friends\", \"friendship\", \"frosting\", \"fruit\", \"fruit\", \"fruit\", \"fruits\", \"funds\", \"funny\", \"funny\", \"funny\", \"furniture\", \"furniture\", \"furniture\", \"game\", \"game\", \"game\", \"game\", \"garden\", \"garden\", \"garden\", \"garden\", \"garlic\", \"garment\", \"girl\", \"girl\", \"girlfriend\", \"glass\", \"glass\", \"glass\", \"glass\", \"glass\", \"glass\", \"glitter\", \"glow\", \"glue\", \"glue\", \"gmail\", \"god\", \"going\", \"going\", \"going\", \"going\", \"going\", \"going\", \"going\", \"going\", \"going\", \"going\", \"good\", \"good\", \"good\", \"good\", \"good\", \"good\", \"good\", \"good\", \"good\", \"good\", \"gossip\", \"graduate\", \"grains\", \"graphics\", \"grass\", \"grass\", \"grass\", \"grass\", \"grease\", \"grill\", \"grip\", \"grout\", \"grow\", \"grow\", \"grow\", \"grow\", \"grow\", \"grow\", \"grow\", \"growing\", \"growing\", \"growing\", \"growing\", \"growing\", \"growing\", \"growing\", \"growing\", \"guitar\", \"guitar\", \"guitar\", \"guitar\", \"guy\", \"guy\", \"hair\", \"hair\", \"hair\", \"hand\", \"hand\", \"hand\", \"hand\", \"hand\", \"hand\", \"hand\", \"hand\", \"hand\", \"hand\", \"head\", \"head\", \"head\", \"head\", \"head\", \"head\", \"head\", \"head\", \"head\", \"headband\", \"health\", \"health\", \"health\", \"health\", \"health\", \"healthy\", \"healthy\", \"healthy\", \"healthy\", \"healthy\", \"healthy\", \"heat\", \"heat\", \"heat\", \"heat\", \"help\", \"help\", \"help\", \"help\", \"help\", \"help\", \"help\", \"help\", \"help\", \"help\", \"hey\", \"high\", \"high\", \"high\", \"high\", \"high\", \"high\", \"high\", \"high\", \"high\", \"high\", \"hold\", \"hold\", \"hold\", \"hold\", \"hold\", \"hold\", \"hold\", \"hold\", \"hold\", \"hold\", \"hole\", \"hole\", \"hole\", \"home\", \"home\", \"home\", \"home\", \"home\", \"home\", \"home\", \"home\", \"home\", \"hook\", \"hook\", \"hook\", \"hook\", \"hook\", \"horse\", \"horse\", \"horses\", \"hospital\", \"hospital\", \"hospital\", \"hospital\", \"hot\", \"hot\", \"hot\", \"hot\", \"hot\", \"hot\", \"hot\", \"hot\", \"hotel\", \"hotel\", \"house\", \"house\", \"house\", \"house\", \"house\", \"house\", \"house\", \"house\", \"http\", \"http\", \"humor\", \"husband\", \"icloud\", \"icon\", \"icon\", \"image\", \"image\", \"image\", \"image\", \"image\", \"important\", \"important\", \"important\", \"important\", \"important\", \"important\", \"important\", \"important\", \"important\", \"important\", \"inch\", \"inch\", \"inch\", \"inches\", \"inches\", \"inches\", \"include\", \"include\", \"include\", \"include\", \"include\", \"include\", \"include\", \"include\", \"include\", \"infection\", \"infection\", \"inflammation\", \"information\", \"information\", \"information\", \"information\", \"information\", \"information\", \"injury\", \"injury\", \"injury\", \"injury\", \"injury\", \"install\", \"install\", \"install\", \"installed\", \"instructor\", \"instructor\", \"insurance\", \"insurance\", \"insurance\", \"int\", \"ios\", \"ipad\", \"ipad\", \"jacket\", \"jacket\", \"jacket\", \"jar\", \"jar\", \"jar\", \"jar\", \"jealous\", \"jeans\", \"jesus\", \"jewelry\", \"jewelry\", \"jewelry\", \"jewelry\", \"job\", \"job\", \"job\", \"job\", \"job\", \"job\", \"job\", \"jobs\", \"jobs\", \"jobs\", \"jogging\", \"jogging\", \"jogging\", \"joke\", \"jokes\", \"jpg\", \"jpg\", \"just\", \"just\", \"just\", \"just\", \"just\", \"just\", \"just\", \"just\", \"just\", \"just\", \"keyboard\", \"kiss\", \"kiss\", \"kitten\", \"kittens\", \"knees\", \"knot\", \"know\", \"know\", \"know\", \"know\", \"know\", \"know\", \"know\", \"know\", \"know\", \"know\", \"laugh\", \"laugh\", \"law\", \"law\", \"law\", \"lawsuit\", \"lawyer\", \"lawyer\", \"learn\", \"learn\", \"learn\", \"learn\", \"learn\", \"learn\", \"learn\", \"learn\", \"leash\", \"leather\", \"leather\", \"leather\", \"leather\", \"left\", \"left\", \"left\", \"left\", \"left\", \"left\", \"left\", \"left\", \"left\", \"left\", \"leg\", \"leg\", \"legal\", \"legal\", \"legal\", \"length\", \"length\", \"length\", \"length\", \"length\", \"length\", \"length\", \"length\", \"length\", \"lens\", \"lenses\", \"let\", \"let\", \"let\", \"let\", \"let\", \"let\", \"let\", \"let\", \"let\", \"let\", \"license\", \"license\", \"life\", \"life\", \"life\", \"life\", \"life\", \"life\", \"life\", \"life\", \"light\", \"light\", \"light\", \"light\", \"light\", \"light\", \"light\", \"light\", \"light\", \"like\", \"like\", \"like\", \"like\", \"like\", \"like\", \"like\", \"like\", \"like\", \"like\", \"line\", \"line\", \"line\", \"line\", \"line\", \"line\", \"line\", \"line\", \"linux\", \"lipstick\", \"list\", \"list\", \"list\", \"list\", \"list\", \"list\", \"list\", \"list\", \"litter\", \"liver\", \"ll\", \"ll\", \"ll\", \"ll\", \"ll\", \"ll\", \"ll\", \"ll\", \"ll\", \"ll\", \"loan\", \"loans\", \"local\", \"local\", \"local\", \"local\", \"local\", \"local\", \"local\", \"local\", \"local\", \"look\", \"look\", \"look\", \"look\", \"look\", \"look\", \"look\", \"look\", \"look\", \"look\", \"loop\", \"loop\", \"loop\", \"loops\", \"loops\", \"love\", \"love\", \"love\", \"love\", \"love\", \"love\", \"mac\", \"mac\", \"make\", \"make\", \"make\", \"make\", \"make\", \"make\", \"make\", \"make\", \"make\", \"make\", \"makeup\", \"marketing\", \"marriage\", \"marriage\", \"married\", \"married\", \"mascara\", \"mathrm\", \"meal\", \"meal\", \"meal\", \"meal\", \"meal\", \"meat\", \"meat\", \"mediation\", \"medical\", \"medical\", \"medical\", \"meditation\", \"melted\", \"memorize\", \"mental\", \"mental\", \"mental\", \"menu\", \"menu\", \"meters\", \"microwave\", \"microwave\", \"mindfulness\", \"minecraft\", \"minutes\", \"minutes\", \"minutes\", \"minutes\", \"minutes\", \"minutes\", \"minutes\", \"minutes\", \"minutes\", \"mites\", \"mix\", \"mix\", \"mix\", \"mix\", \"mix\", \"mix\", \"mixture\", \"mode\", \"mode\", \"mode\", \"moisture\", \"money\", \"money\", \"money\", \"money\", \"money\", \"mortgage\", \"motion\", \"motion\", \"motion\", \"motion\", \"motion\", \"motion\", \"mulch\", \"muscles\", \"muscles\", \"muscles\", \"necklace\", \"need\", \"need\", \"need\", \"need\", \"need\", \"need\", \"need\", \"need\", \"need\", \"need\", \"needle\", \"needle\", \"new\", \"new\", \"new\", \"new\", \"new\", \"new\", \"new\", \"new\", \"new\", \"new\", \"notes\", \"notes\", \"notes\", \"notes\", \"number\", \"number\", \"number\", \"number\", \"number\", \"number\", \"number\", \"number\", \"number\", \"number\", \"nutrients\", \"oh\", \"oh\", \"oil\", \"oil\", \"onion\", \"onions\", \"online\", \"online\", \"online\", \"online\", \"online\", \"online\", \"online\", \"online\", \"open\", \"open\", \"open\", \"open\", \"open\", \"open\", \"open\", \"open\", \"open\", \"open\", \"option\", \"option\", \"option\", \"option\", \"option\", \"option\", \"option\", \"option\", \"option\", \"option\", \"order\", \"order\", \"order\", \"order\", \"order\", \"order\", \"order\", \"order\", \"order\", \"order\", \"os\", \"oven\", \"page\", \"page\", \"page\", \"pain\", \"pain\", \"pain\", \"paint\", \"paint\", \"paint\", \"paint\", \"paint\", \"paint\", \"painting\", \"painting\", \"painting\", \"painting\", \"paints\", \"paints\", \"pan\", \"pants\", \"pants\", \"paper\", \"paper\", \"paper\", \"paper\", \"paper\", \"paper\", \"parallel\", \"parallel\", \"parents\", \"parents\", \"parents\", \"parents\", \"partner\", \"partner\", \"partner\", \"partner\", \"password\", \"pasta\", \"pay\", \"pay\", \"pay\", \"pay\", \"pay\", \"pay\", \"pay\", \"pay\", \"pay\", \"payment\", \"payments\", \"peel\", \"people\", \"people\", \"people\", \"people\", \"people\", \"people\", \"people\", \"people\", \"people\", \"perpendicular\", \"person\", \"person\", \"person\", \"person\", \"person\", \"person\", \"person\", \"pet\", \"pet\", \"petals\", \"petition\", \"pets\", \"pets\", \"pets\", \"pets\", \"physical\", \"physical\", \"physical\", \"physical\", \"physical\", \"piano\", \"piano\", \"piece\", \"piece\", \"piece\", \"piece\", \"piece\", \"piece\", \"piece\", \"piece\", \"pink\", \"pink\", \"pink\", \"place\", \"place\", \"place\", \"place\", \"place\", \"place\", \"place\", \"place\", \"place\", \"place\", \"plaintiff\", \"plan\", \"plan\", \"plan\", \"plan\", \"plan\", \"plan\", \"plan\", \"plan\", \"plan\", \"planner\", \"planner\", \"plant\", \"plant\", \"plant\", \"plant\", \"planting\", \"planting\", \"plants\", \"plants\", \"play\", \"play\", \"play\", \"play\", \"play\", \"play\", \"play\", \"play\", \"player\", \"player\", \"player\", \"players\", \"players\", \"pliers\", \"poem\", \"pok\\u00e9mon\", \"polite\", \"position\", \"position\", \"position\", \"position\", \"position\", \"position\", \"positive\", \"positive\", \"positive\", \"positive\", \"positive\", \"pot\", \"pot\", \"pot\", \"potatoes\", \"pour\", \"power\", \"power\", \"power\", \"power\", \"power\", \"power\", \"power\", \"power\", \"press\", \"press\", \"press\", \"press\", \"primer\", \"problems\", \"problems\", \"problems\", \"problems\", \"problems\", \"problems\", \"problems\", \"problems\", \"professor\", \"professor\", \"property\", \"property\", \"property\", \"protein\", \"pull\", \"pull\", \"pull\", \"pull\", \"pull\", \"pull\", \"pull\", \"pull\", \"puppies\", \"puppy\", \"puppy\", \"purple\", \"queen\", \"quest\", \"rabbit\", \"rag\", \"rag\", \"ram\", \"reading\", \"reading\", \"reading\", \"reading\", \"reading\", \"really\", \"really\", \"really\", \"really\", \"really\", \"really\", \"really\", \"really\", \"really\", \"rectangle\", \"red\", \"red\", \"red\", \"red\", \"red\", \"red\", \"red\", \"red\", \"red\", \"relationship\", \"relationship\", \"relationship\", \"relationship\", \"relax\", \"relax\", \"relax\", \"relax\", \"relax\", \"relax\", \"relax\", \"relaxation\", \"remove\", \"remove\", \"remove\", \"remove\", \"remove\", \"remove\", \"remove\", \"remove\", \"reply\", \"research\", \"research\", \"research\", \"research\", \"research\", \"research\", \"residue\", \"respect\", \"respect\", \"respect\", \"respect\", \"ribbon\", \"ribbon\", \"ribbon\", \"ribbon\", \"right\", \"right\", \"right\", \"right\", \"right\", \"right\", \"right\", \"right\", \"right\", \"right\", \"rinse\", \"rod\", \"room\", \"room\", \"room\", \"room\", \"room\", \"room\", \"room\", \"room\", \"room\", \"roots\", \"roots\", \"roots\", \"roots\", \"roots\", \"roses\", \"roses\", \"router\", \"routine\", \"routine\", \"routine\", \"routine\", \"routine\", \"routine\", \"routine\", \"rude\", \"ruler\", \"salad\", \"salt\", \"salt\", \"sandpaper\", \"sauce\", \"saucepan\", \"say\", \"say\", \"say\", \"say\", \"say\", \"say\", \"say\", \"saying\", \"saying\", \"saying\", \"saying\", \"school\", \"school\", \"school\", \"school\", \"school\", \"schools\", \"schools\", \"scores\", \"scores\", \"screen\", \"screen\", \"screw\", \"screw\", \"screwdriver\", \"screwdriver\", \"screws\", \"scrub\", \"seam\", \"seam\", \"search\", \"search\", \"search\", \"search\", \"search\", \"search\", \"search\", \"select\", \"select\", \"select\", \"select\", \"select\", \"select\", \"select\", \"service\", \"service\", \"service\", \"service\", \"serving\", \"serving\", \"serving\", \"serving\", \"settings\", \"settings\", \"settings\", \"settings\", \"settings\", \"settings\", \"shades\", \"shirt\", \"shirt\", \"shirt\", \"shirts\", \"shoes\", \"shoes\", \"shoes\", \"shoes\", \"shoes\", \"shoes\", \"shorts\", \"silver\", \"silver\", \"silver\", \"sim\", \"sister\", \"skills\", \"skills\", \"skills\", \"skin\", \"skin\", \"skin\", \"skin\", \"skinny\", \"skirt\", \"sleep\", \"sleep\", \"sleep\", \"sleep\", \"sleep\", \"small\", \"small\", \"small\", \"small\", \"small\", \"small\", \"small\", \"small\", \"small\", \"small\", \"soak\", \"soak\", \"soak\", \"soap\", \"soap\", \"soapy\", \"soil\", \"song\", \"song\", \"song\", \"sorry\", \"sorry\", \"sorry\", \"space\", \"space\", \"space\", \"space\", \"space\", \"space\", \"space\", \"space\", \"space\", \"species\", \"species\", \"sponge\", \"spoon\", \"spray\", \"spray\", \"spray\", \"squash\", \"stain\", \"stain\", \"start\", \"start\", \"start\", \"start\", \"start\", \"start\", \"start\", \"start\", \"start\", \"start\", \"state\", \"state\", \"state\", \"state\", \"state\", \"state\", \"state\", \"states\", \"states\", \"states\", \"states\", \"states\", \"step\", \"step\", \"step\", \"step\", \"step\", \"step\", \"step\", \"step\", \"step\", \"step\", \"stir\", \"stir\", \"stirring\", \"stitch\", \"stitches\", \"story\", \"story\", \"story\", \"story\", \"stove\", \"stove\", \"stress\", \"stress\", \"stress\", \"stress\", \"stress\", \"string\", \"string\", \"string\", \"string\", \"string\", \"string\", \"strings\", \"strings\", \"strings\", \"student\", \"student\", \"student\", \"students\", \"studio\", \"studio\", \"studio\", \"study\", \"study\", \"study\", \"study\", \"studying\", \"studying\", \"style\", \"style\", \"style\", \"style\", \"style\", \"style\", \"style\", \"submit\", \"sue\", \"suicide\", \"supplements\", \"support\", \"support\", \"support\", \"support\", \"support\", \"support\", \"support\", \"sure\", \"sure\", \"sure\", \"sure\", \"sure\", \"sure\", \"sure\", \"sure\", \"sure\", \"sure\", \"surface\", \"surface\", \"surface\", \"surface\", \"surface\", \"surface\", \"swelling\", \"swelling\", \"symptoms\", \"symptoms\", \"tab\", \"tab\", \"talk\", \"talk\", \"talk\", \"talk\", \"talk\", \"talk\", \"talking\", \"talking\", \"talking\", \"tank\", \"tank\", \"tap\", \"tap\", \"tap\", \"tape\", \"tape\", \"tape\", \"tape\", \"tax\", \"team\", \"team\", \"team\", \"team\", \"team\", \"teams\", \"teams\", \"tell\", \"tell\", \"tell\", \"tell\", \"tell\", \"tell\", \"tell\", \"tell\", \"tell\", \"tell\", \"text\", \"text\", \"text\", \"text\", \"texting\", \"therapist\", \"therapy\", \"therapy\", \"things\", \"things\", \"things\", \"things\", \"things\", \"things\", \"things\", \"things\", \"think\", \"think\", \"think\", \"think\", \"think\", \"think\", \"think\", \"think\", \"think\", \"thread\", \"thread\", \"thread\", \"thumb\", \"thumb\", \"thumb\", \"thumb\", \"thumb\", \"thumb\", \"thumb\", \"tickets\", \"tickets\", \"tickets\", \"time\", \"time\", \"time\", \"time\", \"time\", \"time\", \"time\", \"time\", \"time\", \"time\", \"tomatoes\", \"toolbar\", \"torso\", \"towel\", \"towel\", \"towel\", \"toys\", \"toys\", \"trading\", \"trauma\", \"tree\", \"tree\", \"tree\", \"tree\", \"tree\", \"trees\", \"truck\", \"trust\", \"trust\", \"trust\", \"trust\", \"trust\", \"truth\", \"truth\", \"truth\", \"try\", \"try\", \"try\", \"try\", \"try\", \"try\", \"try\", \"try\", \"try\", \"try\", \"type\", \"type\", \"type\", \"type\", \"type\", \"type\", \"type\", \"type\", \"type\", \"type\", \"universities\", \"universities\", \"unlock\", \"use\", \"use\", \"use\", \"use\", \"use\", \"use\", \"use\", \"use\", \"use\", \"use\", \"user\", \"using\", \"using\", \"using\", \"using\", \"using\", \"using\", \"using\", \"using\", \"using\", \"using\", \"v4\", \"vanilla\", \"ve\", \"ve\", \"ve\", \"ve\", \"ve\", \"ve\", \"ve\", \"ve\", \"ve\", \"ve\", \"vegetables\", \"vet\", \"vet\", \"veterinarian\", \"veterinary\", \"video\", \"video\", \"video\", \"video\", \"vinegar\", \"vinegar\", \"vintage\", \"vitamin\", \"voice\", \"voice\", \"voice\", \"voice\", \"voice\", \"voice\", \"waking\", \"waking\", \"waking\", \"waking\", \"wall\", \"wall\", \"wall\", \"wall\", \"wall\", \"wall\", \"wall\", \"want\", \"want\", \"want\", \"want\", \"want\", \"want\", \"want\", \"want\", \"want\", \"want\", \"water\", \"water\", \"water\", \"water\", \"watering\", \"watering\", \"wax\", \"way\", \"way\", \"way\", \"way\", \"way\", \"way\", \"way\", \"way\", \"way\", \"way\", \"wear\", \"wear\", \"wear\", \"wear\", \"wear\", \"wear\", \"wear\", \"wear\", \"wearing\", \"wearing\", \"wearing\", \"wearing\", \"wearing\", \"wearing\", \"website\", \"weeds\", \"weight\", \"weight\", \"weight\", \"weight\", \"weight\", \"weight\", \"weight\", \"whisk\", \"white\", \"white\", \"white\", \"white\", \"white\", \"white\", \"white\", \"width\", \"wife\", \"window\", \"window\", \"window\", \"window\", \"window\", \"window\", \"windows\", \"windows\", \"wine\", \"wine\", \"wine\", \"wine\", \"wipe\", \"wipe\", \"wipe\", \"wipe\", \"wire\", \"wire\", \"wire\", \"wireless\", \"wireless\", \"words\", \"words\", \"words\", \"words\", \"words\", \"words\", \"words\", \"words\", \"work\", \"work\", \"work\", \"work\", \"work\", \"work\", \"work\", \"work\", \"work\", \"work\", \"workout\", \"workout\", \"workout\", \"workout\", \"www\", \"yarn\", \"yarn\", \"yoga\", \"yoga\", \"yoga\", \"youtube\", \"youtube\", \"zoom\"]}, \"R\": 30, \"lambda.step\": 0.01, \"plot.opts\": {\"xlab\": \"PC1\", \"ylab\": \"PC2\"}, \"topic.order\": [6, 8, 3, 7, 2, 4, 1, 10, 9, 5]};\n",
       "\n",
       "function LDAvis_load_lib(url, callback){\n",
       "  var s = document.createElement('script');\n",
       "  s.src = url;\n",
       "  s.async = true;\n",
       "  s.onreadystatechange = s.onload = callback;\n",
       "  s.onerror = function(){console.warn(\"failed to load library \" + url);};\n",
       "  document.getElementsByTagName(\"head\")[0].appendChild(s);\n",
       "}\n",
       "\n",
       "if(typeof(LDAvis) !== \"undefined\"){\n",
       "   // already loaded: just create the visualization\n",
       "   !function(LDAvis){\n",
       "       new LDAvis(\"#\" + \"ldavis_el38571404234416657442224280440\", ldavis_el38571404234416657442224280440_data);\n",
       "   }(LDAvis);\n",
       "}else if(typeof define === \"function\" && define.amd){\n",
       "   // require.js is available: use it to load d3/LDAvis\n",
       "   require.config({paths: {d3: \"https://cdnjs.cloudflare.com/ajax/libs/d3/3.5.5/d3.min\"}});\n",
       "   require([\"d3\"], function(d3){\n",
       "      window.d3 = d3;\n",
       "      LDAvis_load_lib(\"https://cdn.rawgit.com/bmabey/pyLDAvis/files/ldavis.v1.0.0.js\", function(){\n",
       "        new LDAvis(\"#\" + \"ldavis_el38571404234416657442224280440\", ldavis_el38571404234416657442224280440_data);\n",
       "      });\n",
       "    });\n",
       "}else{\n",
       "    // require.js not available: dynamically load d3 & LDAvis\n",
       "    LDAvis_load_lib(\"https://cdnjs.cloudflare.com/ajax/libs/d3/3.5.5/d3.min.js\", function(){\n",
       "         LDAvis_load_lib(\"https://cdn.rawgit.com/bmabey/pyLDAvis/files/ldavis.v1.0.0.js\", function(){\n",
       "                 new LDAvis(\"#\" + \"ldavis_el38571404234416657442224280440\", ldavis_el38571404234416657442224280440_data);\n",
       "            })\n",
       "         });\n",
       "}\n",
       "</script>"
      ],
      "text/plain": [
       "PreparedData(topic_coordinates=              x         y  topics  cluster       Freq\n",
       "topic                                                \n",
       "5      0.137085 -0.060702       1        1  16.656680\n",
       "7      0.133621 -0.115327       2        1  13.179283\n",
       "2      0.119489 -0.061512       3        1  13.048088\n",
       "6     -0.212601  0.148062       4        1  10.177278\n",
       "1     -0.179571 -0.019475       5        1   9.939044\n",
       "3      0.194816  0.068203       6        1   9.018379\n",
       "0      0.064451  0.203676       7        1   8.087163\n",
       "9     -0.012667  0.085813       8        1   7.772587\n",
       "8     -0.109913  0.009175       9        1   7.020371\n",
       "4     -0.134710 -0.257913      10        1   5.101128, topic_info=     Category           Freq         Term          Total  loglift  logprob\n",
       "4864  Default  136587.000000        water  136587.000000  30.0000  30.0000\n",
       "1379  Default   69325.000000          dog   69325.000000  29.0000  29.0000\n",
       "780   Default   69285.000000        child   69285.000000  28.0000  28.0000\n",
       "837   Default   54795.000000        click   54795.000000  27.0000  27.0000\n",
       "3084  Default   48059.000000        paint   48059.000000  26.0000  26.0000\n",
       "887   Default   49456.000000        color   49456.000000  25.0000  25.0000\n",
       "4742  Default  282876.000000          use  282876.000000  24.0000  24.0000\n",
       "2043  Default   40923.000000         hair   40923.000000  23.0000  23.0000\n",
       "2114  Default  188787.000000         help  188787.000000  22.0000  22.0000\n",
       "703   Default   39161.000000          cat   39161.000000  21.0000  21.0000\n",
       "3190  Default   91680.000000       person   91680.000000  20.0000  20.0000\n",
       "2626  Default  114449.000000         look  114449.000000  19.0000  19.0000\n",
       "3167  Default  146715.000000       people  146715.000000  18.0000  18.0000\n",
       "625   Default   31945.000000       button   31945.000000  17.0000  17.0000\n",
       "3738  Default   91550.000000        right   91550.000000  16.0000  16.0000\n",
       "3857  Default   29769.000000       screen   29769.000000  15.0000  15.0000\n",
       "1826  Default   60212.000000         food   60212.000000  14.0000  14.0000\n",
       "1716  Default   97040.000000         feel   97040.000000  13.0000  13.0000\n",
       "105   Default   87088.000000          add   87088.000000  12.0000  12.0000\n",
       "3893  Default   30752.000000       select   30752.000000  11.0000  11.0000\n",
       "1440  Default   52365.000000          dry   52365.000000  10.0000  10.0000\n",
       "3006  Default   56410.000000         open   56410.000000   9.0000   9.0000\n",
       "3827  Default   53531.000000          say   53531.000000   8.0000   8.0000\n",
       "2284  Default   60400.000000  information   60400.000000   7.0000   7.0000\n",
       "2522  Default   44743.000000         left   44743.000000   6.0000   6.0000\n",
       "949   Default   26321.000000     computer   26321.000000   5.0000   5.0000\n",
       "620   Default   47556.000000     business   47556.000000   4.0000   4.0000\n",
       "2993  Default   34422.000000          oil   34422.000000   3.0000   3.0000\n",
       "2565  Default  234490.000000         like  234490.000000   2.0000   2.0000\n",
       "511   Default   62515.000000         body   62515.000000   1.0000   1.0000\n",
       "...       ...            ...          ...            ...      ...      ...\n",
       "949   Topic10   21904.895492     computer   26321.146308   2.7920  -4.4461\n",
       "2819  Topic10    4640.664203         mode    5019.647394   2.8972  -5.9980\n",
       "4919  Topic10   14793.092736      windows   17741.756536   2.7939  -4.8387\n",
       "634   Topic10    5837.950654        cable    6721.626086   2.8348  -5.7685\n",
       "1439  Topic10    4329.907458         drum    4853.260443   2.8616  -6.0673\n",
       "2308  Topic10    8403.101385      install   10428.312859   2.7598  -5.4042\n",
       "1544  Topic10   15867.820236        enter   22118.256803   2.6436  -4.7686\n",
       "4800  Topic10   12237.155888        video   16880.582024   2.6540  -5.0284\n",
       "1429  Topic10   12525.577259        drive   18308.984339   2.5961  -5.0051\n",
       "545   Topic10   16939.093627          box   29693.154469   2.4144  -4.7032\n",
       "4500  Topic10   10906.641037         text   16527.879035   2.5600  -5.1435\n",
       "1053  Topic10   12251.782211       corner   19430.418228   2.5145  -5.0272\n",
       "656   Topic10    8776.785922       camera   12443.842069   2.6266  -5.3607\n",
       "3006  Topic10   24708.299273         open   56410.972239   2.1502  -4.3257\n",
       "3371  Topic10   12343.841864        press   21721.069980   2.4106  -5.0197\n",
       "3738  Topic10   26417.684683        right   91550.261958   1.7329  -4.2588\n",
       "2522  Topic10   17062.242355         left   44743.730699   2.0116  -4.6960\n",
       "720   Topic10    6961.576190         cell    9677.244748   2.6463  -5.5924\n",
       "235   Topic10   10545.066259       appear   20840.762076   2.2945  -5.1772\n",
       "3341  Topic10   10458.814523        power   21120.381708   2.2729  -5.1854\n",
       "387   Topic10    9106.326979          bar   16904.332871   2.3571  -5.3239\n",
       "3022  Topic10   11883.300916       option   29720.981163   2.0590  -5.0577\n",
       "4687  Topic10   12979.255808         type   48434.656701   1.6588  -4.9695\n",
       "2605  Topic10   16571.237107           ll  121520.830557   0.9833  -4.7252\n",
       "2920  Topic10   15039.093272          new   91734.008356   1.1675  -4.8222\n",
       "4742  Topic10   19940.886703          use  282876.990389   0.3235  -4.5401\n",
       "4844  Topic10   15987.392525         want  218934.177193   0.3587  -4.7610\n",
       "4749  Topic10   13316.107809        using  104694.435603   0.9136  -4.9439\n",
       "105   Topic10   11996.430159          add   87088.277880   0.9934  -5.0482\n",
       "4214  Topic10   11525.248189        start   85722.193839   0.9691  -5.0883\n",
       "\n",
       "[804 rows x 6 columns], token_table=      Topic      Freq      Term\n",
       "term                           \n",
       "57        1  0.091501     abuse\n",
       "57        2  0.035637     abuse\n",
       "57        6  0.872820     abuse\n",
       "59        1  0.012399  academic\n",
       "59        2  0.001078  academic\n",
       "59        3  0.985954  academic\n",
       "76        1  0.009751   account\n",
       "76        2  0.810076   account\n",
       "76        3  0.005293   account\n",
       "76        5  0.002598   account\n",
       "76        6  0.000481   account\n",
       "76        7  0.003272   account\n",
       "76        8  0.002085   account\n",
       "76        9  0.002310   account\n",
       "76       10  0.164107   account\n",
       "89        4  0.999611   acrylic\n",
       "98        1  0.104354  activity\n",
       "98        2  0.046703  activity\n",
       "98        3  0.092412  activity\n",
       "98        6  0.650294  activity\n",
       "98        7  0.081464  activity\n",
       "98        8  0.022037  activity\n",
       "98       10  0.002701  activity\n",
       "104      10  0.999364   adapter\n",
       "105       1  0.016845       add\n",
       "105       2  0.063384       add\n",
       "105       3  0.029189       add\n",
       "105       4  0.465918       add\n",
       "105       5  0.059664       add\n",
       "105       7  0.036044       add\n",
       "...     ...       ...       ...\n",
       "4943      2  0.069672     words\n",
       "4943      3  0.181047     words\n",
       "4943      5  0.019368     words\n",
       "4943      6  0.000381     words\n",
       "4943      7  0.005679     words\n",
       "4943      9  0.006526     words\n",
       "4943     10  0.018266     words\n",
       "4944      1  0.154814      work\n",
       "4944      2  0.065450      work\n",
       "4944      3  0.362134      work\n",
       "4944      4  0.075625      work\n",
       "4944      5  0.104387      work\n",
       "4944      6  0.139726      work\n",
       "4944      7  0.011165      work\n",
       "4944      8  0.011279      work\n",
       "4944      9  0.074691      work\n",
       "4944     10  0.000723      work\n",
       "4949      3  0.007568   workout\n",
       "4949      5  0.012298   workout\n",
       "4949      6  0.889240   workout\n",
       "4949      7  0.090816   workout\n",
       "4977      2  0.999886       www\n",
       "4982      5  0.995305      yarn\n",
       "4982      9  0.004550      yarn\n",
       "4989      3  0.005188      yoga\n",
       "4989      5  0.011791      yoga\n",
       "4989      6  0.982903      yoga\n",
       "4994      3  0.985873   youtube\n",
       "4994      9  0.014014   youtube\n",
       "4999     10  0.999346      zoom\n",
       "\n",
       "[2393 rows x 3 columns], R=30, lambda_step=0.01, plot_opts={'xlab': 'PC1', 'ylab': 'PC2'}, topic_order=[6, 8, 3, 7, 2, 4, 1, 10, 9, 5])"
      ]
     },
     "execution_count": 12,
     "metadata": {},
     "output_type": "execute_result"
    }
   ],
   "source": [
    "%%time\n",
    "pyLDAvis.sklearn.prepare(lda, tf, tf_vectorizer)"
   ]
  }
 ],
 "metadata": {
  "colab": {
   "collapsed_sections": [],
   "name": "WikiHow Topic Modeling.ipynb",
   "provenance": [],
   "version": "0.3.2"
  },
  "kernelspec": {
   "display_name": "Python 3",
   "language": "python",
   "name": "python3"
  },
  "language_info": {
   "codemirror_mode": {
    "name": "ipython",
    "version": 3
   },
   "file_extension": ".py",
   "mimetype": "text/x-python",
   "name": "python",
   "nbconvert_exporter": "python",
   "pygments_lexer": "ipython3",
   "version": "3.6.4"
  }
 },
 "nbformat": 4,
 "nbformat_minor": 1
}
