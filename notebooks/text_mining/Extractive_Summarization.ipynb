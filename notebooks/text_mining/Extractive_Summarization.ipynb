{
 "cells": [
  {
   "cell_type": "markdown",
   "metadata": {},
   "source": [
    "## Extractive Summarization\n",
    "\n",
    "Useful links:\n",
    "\n",
    "* [Automatic summarising: factors and\n",
    "directions (1999)](https://www.cl.cam.ac.uk/archive/ksj21/ksjdigipapers/summbook99.pdf) - newcomers to summarization should start here. Contains definitions and reviews different approaches and goals of summarization.\n",
    "* [Text Summarization in Python: Extractive vs. Abstractive techniques revisited (2017)](https://rare-technologies.com/text-summarization-in-python-extractive-vs-abstractive-techniques-revisited/) - overview of summarization techniques in Python\n",
    "* [Lectures on Summarization Techniques (2015?)](https://www.youtube.com/watch?v=N5N-HCUE3G4) from old Coursera NLP course - it describes many summarization techniques, emphasis on research, most of these techniques don't have implementations in Python\n",
    "* [Centroid-based Text Summarization through Compositionality of Word Embeddings](http://www.aclweb.org/anthology/W17-1003) - interesting article on using word embeddings to replace Bag of Words representation of an older article. Has a remarkably [good implementation](https://github.com/gaetangate/text-summarizer) (it worked out of the box, which is uncommon for academic implementations, I just added setup.py to make it pip-installable)."
   ]
  },
  {
   "cell_type": "markdown",
   "metadata": {},
   "source": [
    "## TextRank"
   ]
  },
  {
   "cell_type": "markdown",
   "metadata": {
    "colab_type": "text",
    "id": "KJMgCTHkCglB"
   },
   "source": [
    "## Notes\n",
    "\n",
    "* **PyTextRank** - weird arcane API, doesn't expose simple function call as gensim/summa\n",
    "* **sumy** - requires pipeline (doesn't just work on raw strings)\n",
    "* **pyteaser** - only Python 2"
   ]
  },
  {
   "cell_type": "code",
   "execution_count": 1,
   "metadata": {
    "colab": {},
    "colab_type": "code",
    "id": "Bv92-Pmh34It"
   },
   "outputs": [
    {
     "data": {
      "text/html": [
       "\n",
       "    <div class=\"bk-root\">\n",
       "        <a href=\"https://bokeh.pydata.org\" target=\"_blank\" class=\"bk-logo bk-logo-small bk-logo-notebook\"></a>\n",
       "        <span id=\"fae9c70c-71f9-494d-9bac-06e63d3dbbd0\">Loading BokehJS ...</span>\n",
       "    </div>"
      ]
     },
     "metadata": {},
     "output_type": "display_data"
    },
    {
     "data": {
      "application/javascript": [
       "\n",
       "(function(root) {\n",
       "  function now() {\n",
       "    return new Date();\n",
       "  }\n",
       "\n",
       "  var force = true;\n",
       "\n",
       "  if (typeof (root._bokeh_onload_callbacks) === \"undefined\" || force === true) {\n",
       "    root._bokeh_onload_callbacks = [];\n",
       "    root._bokeh_is_loading = undefined;\n",
       "  }\n",
       "\n",
       "  var JS_MIME_TYPE = 'application/javascript';\n",
       "  var HTML_MIME_TYPE = 'text/html';\n",
       "  var EXEC_MIME_TYPE = 'application/vnd.bokehjs_exec.v0+json';\n",
       "  var CLASS_NAME = 'output_bokeh rendered_html';\n",
       "\n",
       "  /**\n",
       "   * Render data to the DOM node\n",
       "   */\n",
       "  function render(props, node) {\n",
       "    var script = document.createElement(\"script\");\n",
       "    node.appendChild(script);\n",
       "  }\n",
       "\n",
       "  /**\n",
       "   * Handle when an output is cleared or removed\n",
       "   */\n",
       "  function handleClearOutput(event, handle) {\n",
       "    var cell = handle.cell;\n",
       "\n",
       "    var id = cell.output_area._bokeh_element_id;\n",
       "    var server_id = cell.output_area._bokeh_server_id;\n",
       "    // Clean up Bokeh references\n",
       "    if (id !== undefined) {\n",
       "      Bokeh.index[id].model.document.clear();\n",
       "      delete Bokeh.index[id];\n",
       "    }\n",
       "\n",
       "    if (server_id !== undefined) {\n",
       "      // Clean up Bokeh references\n",
       "      var cmd = \"from bokeh.io.state import curstate; print(curstate().uuid_to_server['\" + server_id + \"'].get_sessions()[0].document.roots[0]._id)\";\n",
       "      cell.notebook.kernel.execute(cmd, {\n",
       "        iopub: {\n",
       "          output: function(msg) {\n",
       "            var element_id = msg.content.text.trim();\n",
       "            Bokeh.index[element_id].model.document.clear();\n",
       "            delete Bokeh.index[element_id];\n",
       "          }\n",
       "        }\n",
       "      });\n",
       "      // Destroy server and session\n",
       "      var cmd = \"import bokeh.io.notebook as ion; ion.destroy_server('\" + server_id + \"')\";\n",
       "      cell.notebook.kernel.execute(cmd);\n",
       "    }\n",
       "  }\n",
       "\n",
       "  /**\n",
       "   * Handle when a new output is added\n",
       "   */\n",
       "  function handleAddOutput(event, handle) {\n",
       "    var output_area = handle.output_area;\n",
       "    var output = handle.output;\n",
       "\n",
       "    // limit handleAddOutput to display_data with EXEC_MIME_TYPE content only\n",
       "    if ((output.output_type != \"display_data\") || (!output.data.hasOwnProperty(EXEC_MIME_TYPE))) {\n",
       "      return\n",
       "    }\n",
       "\n",
       "    var toinsert = output_area.element.find(\".\" + CLASS_NAME.split(' ')[0]);\n",
       "\n",
       "    if (output.metadata[EXEC_MIME_TYPE][\"id\"] !== undefined) {\n",
       "      toinsert[0].firstChild.textContent = output.data[JS_MIME_TYPE];\n",
       "      // store reference to embed id on output_area\n",
       "      output_area._bokeh_element_id = output.metadata[EXEC_MIME_TYPE][\"id\"];\n",
       "    }\n",
       "    if (output.metadata[EXEC_MIME_TYPE][\"server_id\"] !== undefined) {\n",
       "      var bk_div = document.createElement(\"div\");\n",
       "      bk_div.innerHTML = output.data[HTML_MIME_TYPE];\n",
       "      var script_attrs = bk_div.children[0].attributes;\n",
       "      for (var i = 0; i < script_attrs.length; i++) {\n",
       "        toinsert[0].firstChild.setAttribute(script_attrs[i].name, script_attrs[i].value);\n",
       "      }\n",
       "      // store reference to server id on output_area\n",
       "      output_area._bokeh_server_id = output.metadata[EXEC_MIME_TYPE][\"server_id\"];\n",
       "    }\n",
       "  }\n",
       "\n",
       "  function register_renderer(events, OutputArea) {\n",
       "\n",
       "    function append_mime(data, metadata, element) {\n",
       "      // create a DOM node to render to\n",
       "      var toinsert = this.create_output_subarea(\n",
       "        metadata,\n",
       "        CLASS_NAME,\n",
       "        EXEC_MIME_TYPE\n",
       "      );\n",
       "      this.keyboard_manager.register_events(toinsert);\n",
       "      // Render to node\n",
       "      var props = {data: data, metadata: metadata[EXEC_MIME_TYPE]};\n",
       "      render(props, toinsert[0]);\n",
       "      element.append(toinsert);\n",
       "      return toinsert\n",
       "    }\n",
       "\n",
       "    /* Handle when an output is cleared or removed */\n",
       "    events.on('clear_output.CodeCell', handleClearOutput);\n",
       "    events.on('delete.Cell', handleClearOutput);\n",
       "\n",
       "    /* Handle when a new output is added */\n",
       "    events.on('output_added.OutputArea', handleAddOutput);\n",
       "\n",
       "    /**\n",
       "     * Register the mime type and append_mime function with output_area\n",
       "     */\n",
       "    OutputArea.prototype.register_mime_type(EXEC_MIME_TYPE, append_mime, {\n",
       "      /* Is output safe? */\n",
       "      safe: true,\n",
       "      /* Index of renderer in `output_area.display_order` */\n",
       "      index: 0\n",
       "    });\n",
       "  }\n",
       "\n",
       "  // register the mime type if in Jupyter Notebook environment and previously unregistered\n",
       "  if (root.Jupyter !== undefined) {\n",
       "    var events = require('base/js/events');\n",
       "    var OutputArea = require('notebook/js/outputarea').OutputArea;\n",
       "\n",
       "    if (OutputArea.prototype.mime_types().indexOf(EXEC_MIME_TYPE) == -1) {\n",
       "      register_renderer(events, OutputArea);\n",
       "    }\n",
       "  }\n",
       "\n",
       "  \n",
       "  if (typeof (root._bokeh_timeout) === \"undefined\" || force === true) {\n",
       "    root._bokeh_timeout = Date.now() + 5000;\n",
       "    root._bokeh_failed_load = false;\n",
       "  }\n",
       "\n",
       "  var NB_LOAD_WARNING = {'data': {'text/html':\n",
       "     \"<div style='background-color: #fdd'>\\n\"+\n",
       "     \"<p>\\n\"+\n",
       "     \"BokehJS does not appear to have successfully loaded. If loading BokehJS from CDN, this \\n\"+\n",
       "     \"may be due to a slow or bad network connection. Possible fixes:\\n\"+\n",
       "     \"</p>\\n\"+\n",
       "     \"<ul>\\n\"+\n",
       "     \"<li>re-rerun `output_notebook()` to attempt to load from CDN again, or</li>\\n\"+\n",
       "     \"<li>use INLINE resources instead, as so:</li>\\n\"+\n",
       "     \"</ul>\\n\"+\n",
       "     \"<code>\\n\"+\n",
       "     \"from bokeh.resources import INLINE\\n\"+\n",
       "     \"output_notebook(resources=INLINE)\\n\"+\n",
       "     \"</code>\\n\"+\n",
       "     \"</div>\"}};\n",
       "\n",
       "  function display_loaded() {\n",
       "    var el = document.getElementById(\"fae9c70c-71f9-494d-9bac-06e63d3dbbd0\");\n",
       "    if (el != null) {\n",
       "      el.textContent = \"BokehJS is loading...\";\n",
       "    }\n",
       "    if (root.Bokeh !== undefined) {\n",
       "      if (el != null) {\n",
       "        el.textContent = \"BokehJS \" + root.Bokeh.version + \" successfully loaded.\";\n",
       "      }\n",
       "    } else if (Date.now() < root._bokeh_timeout) {\n",
       "      setTimeout(display_loaded, 100)\n",
       "    }\n",
       "  }\n",
       "\n",
       "\n",
       "  function run_callbacks() {\n",
       "    try {\n",
       "      root._bokeh_onload_callbacks.forEach(function(callback) { callback() });\n",
       "    }\n",
       "    finally {\n",
       "      delete root._bokeh_onload_callbacks\n",
       "    }\n",
       "    console.info(\"Bokeh: all callbacks have finished\");\n",
       "  }\n",
       "\n",
       "  function load_libs(js_urls, callback) {\n",
       "    root._bokeh_onload_callbacks.push(callback);\n",
       "    if (root._bokeh_is_loading > 0) {\n",
       "      console.log(\"Bokeh: BokehJS is being loaded, scheduling callback at\", now());\n",
       "      return null;\n",
       "    }\n",
       "    if (js_urls == null || js_urls.length === 0) {\n",
       "      run_callbacks();\n",
       "      return null;\n",
       "    }\n",
       "    console.log(\"Bokeh: BokehJS not loaded, scheduling load and callback at\", now());\n",
       "    root._bokeh_is_loading = js_urls.length;\n",
       "    for (var i = 0; i < js_urls.length; i++) {\n",
       "      var url = js_urls[i];\n",
       "      var s = document.createElement('script');\n",
       "      s.src = url;\n",
       "      s.async = false;\n",
       "      s.onreadystatechange = s.onload = function() {\n",
       "        root._bokeh_is_loading--;\n",
       "        if (root._bokeh_is_loading === 0) {\n",
       "          console.log(\"Bokeh: all BokehJS libraries loaded\");\n",
       "          run_callbacks()\n",
       "        }\n",
       "      };\n",
       "      s.onerror = function() {\n",
       "        console.warn(\"failed to load library \" + url);\n",
       "      };\n",
       "      console.log(\"Bokeh: injecting script tag for BokehJS library: \", url);\n",
       "      document.getElementsByTagName(\"head\")[0].appendChild(s);\n",
       "    }\n",
       "  };var element = document.getElementById(\"fae9c70c-71f9-494d-9bac-06e63d3dbbd0\");\n",
       "  if (element == null) {\n",
       "    console.log(\"Bokeh: ERROR: autoload.js configured with elementid 'fae9c70c-71f9-494d-9bac-06e63d3dbbd0' but no matching script tag was found. \")\n",
       "    return false;\n",
       "  }\n",
       "\n",
       "  var js_urls = [\"https://cdn.pydata.org/bokeh/release/bokeh-0.12.13.min.js\", \"https://cdn.pydata.org/bokeh/release/bokeh-widgets-0.12.13.min.js\", \"https://cdn.pydata.org/bokeh/release/bokeh-tables-0.12.13.min.js\", \"https://cdn.pydata.org/bokeh/release/bokeh-gl-0.12.13.min.js\"];\n",
       "\n",
       "  var inline_js = [\n",
       "    function(Bokeh) {\n",
       "      Bokeh.set_log_level(\"info\");\n",
       "    },\n",
       "    \n",
       "    function(Bokeh) {\n",
       "      \n",
       "    },\n",
       "    function(Bokeh) {\n",
       "      console.log(\"Bokeh: injecting CSS: https://cdn.pydata.org/bokeh/release/bokeh-0.12.13.min.css\");\n",
       "      Bokeh.embed.inject_css(\"https://cdn.pydata.org/bokeh/release/bokeh-0.12.13.min.css\");\n",
       "      console.log(\"Bokeh: injecting CSS: https://cdn.pydata.org/bokeh/release/bokeh-widgets-0.12.13.min.css\");\n",
       "      Bokeh.embed.inject_css(\"https://cdn.pydata.org/bokeh/release/bokeh-widgets-0.12.13.min.css\");\n",
       "      console.log(\"Bokeh: injecting CSS: https://cdn.pydata.org/bokeh/release/bokeh-tables-0.12.13.min.css\");\n",
       "      Bokeh.embed.inject_css(\"https://cdn.pydata.org/bokeh/release/bokeh-tables-0.12.13.min.css\");\n",
       "    }\n",
       "  ];\n",
       "\n",
       "  function run_inline_js() {\n",
       "    \n",
       "    if ((root.Bokeh !== undefined) || (force === true)) {\n",
       "      for (var i = 0; i < inline_js.length; i++) {\n",
       "        inline_js[i].call(root, root.Bokeh);\n",
       "      }if (force === true) {\n",
       "        display_loaded();\n",
       "      }} else if (Date.now() < root._bokeh_timeout) {\n",
       "      setTimeout(run_inline_js, 100);\n",
       "    } else if (!root._bokeh_failed_load) {\n",
       "      console.log(\"Bokeh: BokehJS failed to load within specified timeout.\");\n",
       "      root._bokeh_failed_load = true;\n",
       "    } else if (force !== true) {\n",
       "      var cell = $(document.getElementById(\"fae9c70c-71f9-494d-9bac-06e63d3dbbd0\")).parents('.cell').data().cell;\n",
       "      cell.output_area.append_execute_result(NB_LOAD_WARNING)\n",
       "    }\n",
       "\n",
       "  }\n",
       "\n",
       "  if (root._bokeh_is_loading === 0) {\n",
       "    console.log(\"Bokeh: BokehJS loaded, going straight to plotting\");\n",
       "    run_inline_js();\n",
       "  } else {\n",
       "    load_libs(js_urls, function() {\n",
       "      console.log(\"Bokeh: BokehJS plotting callback run at\", now());\n",
       "      run_inline_js();\n",
       "    });\n",
       "  }\n",
       "}(window));"
      ],
      "application/vnd.bokehjs_load.v0+json": "\n(function(root) {\n  function now() {\n    return new Date();\n  }\n\n  var force = true;\n\n  if (typeof (root._bokeh_onload_callbacks) === \"undefined\" || force === true) {\n    root._bokeh_onload_callbacks = [];\n    root._bokeh_is_loading = undefined;\n  }\n\n  \n\n  \n  if (typeof (root._bokeh_timeout) === \"undefined\" || force === true) {\n    root._bokeh_timeout = Date.now() + 5000;\n    root._bokeh_failed_load = false;\n  }\n\n  var NB_LOAD_WARNING = {'data': {'text/html':\n     \"<div style='background-color: #fdd'>\\n\"+\n     \"<p>\\n\"+\n     \"BokehJS does not appear to have successfully loaded. If loading BokehJS from CDN, this \\n\"+\n     \"may be due to a slow or bad network connection. Possible fixes:\\n\"+\n     \"</p>\\n\"+\n     \"<ul>\\n\"+\n     \"<li>re-rerun `output_notebook()` to attempt to load from CDN again, or</li>\\n\"+\n     \"<li>use INLINE resources instead, as so:</li>\\n\"+\n     \"</ul>\\n\"+\n     \"<code>\\n\"+\n     \"from bokeh.resources import INLINE\\n\"+\n     \"output_notebook(resources=INLINE)\\n\"+\n     \"</code>\\n\"+\n     \"</div>\"}};\n\n  function display_loaded() {\n    var el = document.getElementById(\"fae9c70c-71f9-494d-9bac-06e63d3dbbd0\");\n    if (el != null) {\n      el.textContent = \"BokehJS is loading...\";\n    }\n    if (root.Bokeh !== undefined) {\n      if (el != null) {\n        el.textContent = \"BokehJS \" + root.Bokeh.version + \" successfully loaded.\";\n      }\n    } else if (Date.now() < root._bokeh_timeout) {\n      setTimeout(display_loaded, 100)\n    }\n  }\n\n\n  function run_callbacks() {\n    try {\n      root._bokeh_onload_callbacks.forEach(function(callback) { callback() });\n    }\n    finally {\n      delete root._bokeh_onload_callbacks\n    }\n    console.info(\"Bokeh: all callbacks have finished\");\n  }\n\n  function load_libs(js_urls, callback) {\n    root._bokeh_onload_callbacks.push(callback);\n    if (root._bokeh_is_loading > 0) {\n      console.log(\"Bokeh: BokehJS is being loaded, scheduling callback at\", now());\n      return null;\n    }\n    if (js_urls == null || js_urls.length === 0) {\n      run_callbacks();\n      return null;\n    }\n    console.log(\"Bokeh: BokehJS not loaded, scheduling load and callback at\", now());\n    root._bokeh_is_loading = js_urls.length;\n    for (var i = 0; i < js_urls.length; i++) {\n      var url = js_urls[i];\n      var s = document.createElement('script');\n      s.src = url;\n      s.async = false;\n      s.onreadystatechange = s.onload = function() {\n        root._bokeh_is_loading--;\n        if (root._bokeh_is_loading === 0) {\n          console.log(\"Bokeh: all BokehJS libraries loaded\");\n          run_callbacks()\n        }\n      };\n      s.onerror = function() {\n        console.warn(\"failed to load library \" + url);\n      };\n      console.log(\"Bokeh: injecting script tag for BokehJS library: \", url);\n      document.getElementsByTagName(\"head\")[0].appendChild(s);\n    }\n  };var element = document.getElementById(\"fae9c70c-71f9-494d-9bac-06e63d3dbbd0\");\n  if (element == null) {\n    console.log(\"Bokeh: ERROR: autoload.js configured with elementid 'fae9c70c-71f9-494d-9bac-06e63d3dbbd0' but no matching script tag was found. \")\n    return false;\n  }\n\n  var js_urls = [\"https://cdn.pydata.org/bokeh/release/bokeh-0.12.13.min.js\", \"https://cdn.pydata.org/bokeh/release/bokeh-widgets-0.12.13.min.js\", \"https://cdn.pydata.org/bokeh/release/bokeh-tables-0.12.13.min.js\", \"https://cdn.pydata.org/bokeh/release/bokeh-gl-0.12.13.min.js\"];\n\n  var inline_js = [\n    function(Bokeh) {\n      Bokeh.set_log_level(\"info\");\n    },\n    \n    function(Bokeh) {\n      \n    },\n    function(Bokeh) {\n      console.log(\"Bokeh: injecting CSS: https://cdn.pydata.org/bokeh/release/bokeh-0.12.13.min.css\");\n      Bokeh.embed.inject_css(\"https://cdn.pydata.org/bokeh/release/bokeh-0.12.13.min.css\");\n      console.log(\"Bokeh: injecting CSS: https://cdn.pydata.org/bokeh/release/bokeh-widgets-0.12.13.min.css\");\n      Bokeh.embed.inject_css(\"https://cdn.pydata.org/bokeh/release/bokeh-widgets-0.12.13.min.css\");\n      console.log(\"Bokeh: injecting CSS: https://cdn.pydata.org/bokeh/release/bokeh-tables-0.12.13.min.css\");\n      Bokeh.embed.inject_css(\"https://cdn.pydata.org/bokeh/release/bokeh-tables-0.12.13.min.css\");\n    }\n  ];\n\n  function run_inline_js() {\n    \n    if ((root.Bokeh !== undefined) || (force === true)) {\n      for (var i = 0; i < inline_js.length; i++) {\n        inline_js[i].call(root, root.Bokeh);\n      }if (force === true) {\n        display_loaded();\n      }} else if (Date.now() < root._bokeh_timeout) {\n      setTimeout(run_inline_js, 100);\n    } else if (!root._bokeh_failed_load) {\n      console.log(\"Bokeh: BokehJS failed to load within specified timeout.\");\n      root._bokeh_failed_load = true;\n    } else if (force !== true) {\n      var cell = $(document.getElementById(\"fae9c70c-71f9-494d-9bac-06e63d3dbbd0\")).parents('.cell').data().cell;\n      cell.output_area.append_execute_result(NB_LOAD_WARNING)\n    }\n\n  }\n\n  if (root._bokeh_is_loading === 0) {\n    console.log(\"Bokeh: BokehJS loaded, going straight to plotting\");\n    run_inline_js();\n  } else {\n    load_libs(js_urls, function() {\n      console.log(\"Bokeh: BokehJS plotting callback run at\", now());\n      run_inline_js();\n    });\n  }\n}(window));"
     },
     "metadata": {},
     "output_type": "display_data"
    }
   ],
   "source": [
    "import numpy as np\n",
    "import pandas as pd\n",
    "import requests\n",
    "\n",
    "import gensim\n",
    "import summa\n",
    "import text_summarizer\n",
    "import nltk\n",
    "\n",
    "from sklearn.decomposition import PCA\n",
    "from sklearn.preprocessing import StandardScaler\n",
    "import matplotlib.pyplot as plt\n",
    "%matplotlib inline\n",
    "\n",
    "import bokeh.plotting\n",
    "from bokeh.plotting import show\n",
    "from bokeh.io import output_notebook\n",
    "\n",
    "output_notebook()"
   ]
  },
  {
   "cell_type": "code",
   "execution_count": 2,
   "metadata": {},
   "outputs": [],
   "source": [
    "def summary_as_set(summary):\n",
    "    return set(summary.split('\\n'))\n",
    "\n",
    "\n",
    "def jaccard_index(set1, set2):\n",
    "    return len(set1.intersection(set2)) / len(set1.union(set2))\n",
    "\n",
    "\n",
    "def summary_jaccard_index(summary1, summary2):\n",
    "    return jaccard_index(summary_as_set(summary1), summary_as_set(summary2))"
   ]
  },
  {
   "cell_type": "code",
   "execution_count": 3,
   "metadata": {},
   "outputs": [
    {
     "name": "stdout",
     "output_type": "stream",
     "text": [
      "[nltk_data] Downloading package punkt to /home/kuba/nltk_data...\n",
      "[nltk_data]   Package punkt is already up-to-date!\n",
      "[nltk_data] Downloading package stopwords to /home/kuba/nltk_data...\n",
      "[nltk_data]   Package stopwords is already up-to-date!\n"
     ]
    },
    {
     "data": {
      "text/plain": [
       "True"
      ]
     },
     "execution_count": 3,
     "metadata": {},
     "output_type": "execute_result"
    }
   ],
   "source": [
    "nltk.download('punkt')\n",
    "nltk.download('stopwords')"
   ]
  },
  {
   "cell_type": "markdown",
   "metadata": {},
   "source": [
    "Let's check out a couple of summarization methods on The Matrix synopsis which is conveniently available on gensim's page."
   ]
  },
  {
   "cell_type": "code",
   "execution_count": 4,
   "metadata": {
    "colab": {},
    "colab_type": "code",
    "id": "zqLjTv373-Q0"
   },
   "outputs": [],
   "source": [
    "text = requests.get('http://rare-technologies.com/the_matrix_synopsis.txt').text"
   ]
  },
  {
   "cell_type": "code",
   "execution_count": 5,
   "metadata": {
    "colab": {},
    "colab_type": "code",
    "id": "zqLjTv373-Q0"
   },
   "outputs": [
    {
     "name": "stdout",
     "output_type": "stream",
     "text": [
      "The screen is filled with green, cascading code which gives way to the title, The Matrix.\r\n",
      "\r\n",
      "A phone rings and text appears on the screen: \"Call trans opt: received. 2-19-98 13:24:18 REC: Log>\" As a conversation takes place between Trinity (Carrie-Anne Moss) and Cypher (Joe Pantoliano), two free humans, a table of random green numbers are being scanned and individual numbers selected, creating a series of digits not unlike an ordinary phone number, as if a code is being deciphered or a call is being traced.\r\n",
      "\r\n",
      "Trinity discusses some unknown person. Cypher taunts Trinity, suggesting she enjoys watching him. Trinity counters that \"Morpheus (Laurence Fishburne) says he may be 'the One',\" just as the sound of a number being selected alerts Trinity that someone may be tracing their call. She ends the call.\r\n",
      "\r\n",
      "Armed policemen move down a darkened, decrepit hallway in the Heart O' the City Hotel, their flashlight beam bouncing just ahead of them. They come to room 303, kick down the door and find a woman dressed in black, facing away from them. It's Trinity. She brings her hands up from the laptop she's working on at their command.\r\n",
      "\r\n",
      "Outside the hotel a car drives up and three agents appear in neatly pressed black suits. They are Agent Smith (Hugo Weaving), Agent Brown (Paul Goddard), and Agent Jones (Robert Taylor). Agent Smith and the presiding police lieutenant argue. Agent Smith admonishes the policeman that they were given specific orders to contact the agents first, for their protection. The lieutenant dismisses this and says that they can handle \"one little girl\" and that he has two units that are bringing her down at that very moment. Agent Smith replies: \"No, Lieutenant. Your men are already dead.\"\r\n",
      "\r\n",
      "Inside, Trinity easily defeats the six policemen sent to apprehend her, using fighting and evasion techniques that seem to defy gravity. She calls Morpheus, letting him know that the line has been traced, though she doesn't know how. Morpheus informs her that she will have to \"make it to another exit,\" and that Agents are heading up after her.\r\n",
      "\r\n",
      "A fierce rooftop chase ensues with Trinity and an Agent leaping from one building to the next, astonishing the policemen left behind. Trinity makes a daring leap across an alley and through a small window. She has momentarily lost her pursuers and makes it to a public phone booth on the street level. The phone begins to ring. As she approaches it a garbage truck, driven by Agent Smith, careens towards the phone booth. Trinity makes a desperate dash to the phone, picking it up just moments before the truck smashes the booth into a brick wall. The three Agents reunite at the front of the truck. There is no body in the wreckage. \"She got out,\" one says. The other says, \"The informant is real.\" \"We have the name of their next target,\" says the other, \"His name is Neo.\"\r\n",
      "\r\n",
      "Neo (Keanu Reeves), a hacker with thick black hair and a sallow appearance, is asleep at his monitor. Notices about a manhunt for a man named Morpheus scroll across his screen as he sleeps. Suddenly Neo's screen goes blank and a series of text messages appear: \"Wake up, Neo.\" \"The Matrix has you.\" \"Follow the White Rabbit.\" Then, the text says \"Knock, knock, Neo...\" just as he reads it, a knock comes at the door of his apartment, 101. It's a group of ravers and Neo gives them a contraband disc he has secreted in a copy of Simulacra and Simulation. The lead raver asks him to join them and Neo demurs until he sees the tattoo of a small white rabbit on the shoulder of a seductive girl in the group.\r\n",
      "\r\n",
      "At a rave bar Neo stands alone and aloof as the group he's with continue partying. Trinity approaches him and introduces herself. Neo recognizes her name; she was a famous hacker and had cracked the IRS database. She tells him that he is in great danger, that they are watching him and that she knows that he is searching for answers, particularly to the most important question of all: what is the Matrix? The pulsing music of the bar gives way to the repetitious blare of Neo's alarm clock; it's 9:18 and he's late for work.\r\n",
      "\r\n",
      "At his job at Metacortex, a leading software company housed in an ominous high rise, Neo is berated by his boss for having a problem with authority, for thinking he's special. Neo listens to his boss, but his attention is on the persons cleaning the window of the office. Back at his bleak cubicle Neo receives a delivery as \"Thomas Anderson.\" Upon opening the package he finds a cellphone which immediately rings. On the other end is Morpheus, who informs Neo that they've both run out of time and that \"they\" are coming for him. Morpheus tells him to slowly look up, toward the elevator. Agents Smith, Jones, and Brown are there, obviously looking for him, as a woman points towards Neo's cube. Morpheus tries to guide Neo out of the building but when he is instructed to get on a scaffolding and take it to the roof Neo rejects Morpheus's advice, allowing himself to be taken by the Agents.\r\n",
      "\r\n",
      "In an interrogation room the Agents confront Neo. They've had their eye on him for some time. He lives a dual existence: one life as Thomas A. Anderson, a software engineer for a Metacortex, the other life as Neo, a computer hacker \"guilty of virtually every computer crime we have a law for.\" Agent Smith asks him to help them capture Morpheus, a dangerous terrorist, in exchange for amnesty. Neo gives them the finger and asks for his phone call. Mr. Smith asks what good is a phone call if he's unable to speak. Neo finds that his lips have fused together. Panicked, he is thrown on the interrogation table by the Agents and they implant a shrimp-like probe, a bug, in his stomach, entering through his belly-button.\r\n",
      "\r\n",
      "Neo awakens with a start in his own bed, assuming it has all been a bad dream. His phone rings and Morpheus is on the other line. He tells Neo that the line is tapped but they've underestimated his importance. Morpheus tells Neo he is the One and to meet him at the Adams St. bridge. There he is picked up by Trinity and two others in a car; they all wear black latex and leather. A woman in the front seat, Switch (Belinda McClory), pulls a gun on him and tells him to take off his shirt. Trinity tells him it's for their mutual protection and that he has to trust her. He takes off his shirt and she uses a device to remove the probe that Neo believed had been part of a nightmare. Trinity drops the bug out into the road where it slowly goes dark in the rain.\r\n",
      "\r\n",
      "Trinity takes Neo to Morpheus. Morpheus explains that he's been searching for Neo his entire life and asks if Neo feels like \"Alice in Wonderland, falling down the rabbit hole.\" He explains to Neo that they exist in the Matrix, a false reality that has been constructed for humans to hide the truth. The truth is that everyone in the world is a slave, born into bondage. Morpheus holds out two pills. In his left palm is a blue pill. If Neo takes it he will wake up in his bed and \"believe whatever you want to believe.\" But if he takes the red pill in Morpheus's right hand, then \"you stay in Wonderland and I show you how deep the rabbit hole goes.\" Neo takes the red pill.\r\n",
      "\r\n",
      "As the rest of Morpheus's crew straps him into a chair, Neo is told that pill he took is part of a trace program, to \"disrupt his input/output carrier signal\" so that they can pinpoint him. Neo looks at a shattered mirror placed next to him which miraculously reforms itself. Neo touches the surface and the silver begins to creep over his skin, engulfing him as Morpheus's crew attempt to locate something on the monitors around them. The silver takes Neo over and he blacks out.\r\n",
      "\r\n",
      "He awakens inside a pinkish/purple embryonic pod, extending from the side of a circular building, a massive power plant. He is hairless and naked, with thick black tubes snaking down his throat, plugged into the back of his skull, his spine, and invading most of the rest of his body. He finds his pod is open and that he is surrounded by tower after tower of pods just like his, all filled with bodies. Suddenly a menacing, hovering nurse robot grabs him by the throat. The tubes detach and Neo is flushed down a tube into an underground pool of filthy water. Just as he's about to drown in the muck a hovercraft appears above him, snags him and hauls him into its cargo bay. Neo finds himself surrounded by Morpheus's crew again, but they are dressed differently, in simple knit garments. Just before Neo passes out Morpheus says to him, \"Welcome to the real world.\"\r\n",
      "\r\n",
      "Neo drifts in and out of consciousness. At one point he asks, \"Am I dead?\" \"Far from it,\" replies Morpheus. Again he wakes, his body a pincushion of acupuncture. \"Why do my eyes hurt?\" he asks. \"You've never used them,\" Morpheus replies.\r\n",
      "\r\n",
      "Neo finally wakes, fully clothed, with a short shock of hair on his head. He removes a connector that is sunk deep into his arm and reaches to find the large socket at the back of his neck when Morpheus enters the room. \"What is this place?\" Neo asks. \"The more important question is when,\" says Morpheus, \"You believe it is the year 1999, when in fact it is closer to the year 2199.\" Morpheus goes on to say that they really don't know when it is. He gives Neo a tour of his ship, the Nebuchadnezzar (they pass a plaque stating it was built in 2069). Neo is introduced to Morpheus's crew including Trinity; Apoc (Julian Arahanga), a man with long, flowing black hair; Switch; Cypher (bald with a goatee); two brawny brothers, Tank (Marcus Chong) and Dozer (Anthony Ray Parker); and a young, thin man named Mouse (Matt Doran).\r\n",
      "\r\n",
      "Morpheus gets to the point. \"You wanted to know about the Matrix,\" he says, ushering him to a chair. Neo sits down in it and Trinity straps him in. A long probe is inserted into the socket at the back of Neo's skull.\r\n",
      "\r\n",
      "Neo wakes in a world of all white. He is in the Construct, a \"loading platform\" that Morpheus and his team use to prepare newly freed humans to deal with the Matrix world. Gone are the sockets in Neo's arms and neck. He has hair again. Morpheus tells him that what he is experiencing of himself is the \"residual self image, the mental projection of your digital self\" and bids him to sit while he explains the truth. \"This,\" he says, showing an image of a modern city, \"is the world that you know.\" A thing that really exists \"only as part of a neural, interactive simulation that we call the Matrix.\"\r\n",
      "\r\n",
      "Morpheus then shows Neo the world as it truly exists today, a scarred, desolate emptiness with charred, abandoned buildings, black earth, and a shrouded sky.\r\n",
      "\r\n",
      "Morpheus goes on to say that \"at some point in the early 21st century all of mankind was united in celebration as we gave birth\" to artificial intelligence, a \"singular consciousness that birthed an entire race of machines.\"\r\n",
      "\r\n",
      "Someone started a war, and no one knows who, but it was known that it was mankind who blotted out the sky, attempting to deprive the machines of the solar power they required to function. Instead the machines turned to humans as a power source; Mopheus explains that a human's body provides \"more electricity than a 120 volt battery and over 25k BTUs in body heat.\" Morpheus shows Neo fields where machines grow human beings, connecting them to their outlets, ensconcing them in their pods, and feeding them with the liquefied remains of other human beings. \"The Matrix,\" says Morpheus, \"is a computer-generated dreamworld created to keep us under control, to turn us...\" into a mere power source, into coppertop batteries.\r\n",
      "\r\n",
      "Neo rejects this information so feverishly that he pulls himself out of the Construct. He is back in the chair on the hovercraft. He fights to free himself from this harsh reality, only to end up vomiting on the floor and passing out.\r\n",
      "\r\n",
      "When Neo wakes up in his bunk, Morpheus is beside him. \"I can't go back, can I?\" Neo asks. \"No,\" says Morpheus. He apologizes to Neo for breaking a cardinal rule: after a certain age people aren't brought out of their simulacrum, but Morpheus explains he had to bring Neo out. When the Matrix was created there was a man born inside it who could create his own reality inside it. It was this man who set Morpheus and the others free. When he died, the Oracle (Gloria Foster) prophesied that he would return in another form. And that the return of the One would mean the destruction of the Matrix. As long as the Matrix exists, humanity will continue to live in complacency inside it and the world can never be free. \"I did what I did because I believe that search is over,\" says Morpheus.\r\n",
      "\r\n",
      "The next day Neo starts his training. Tank is his operator. Tank and his brother Dozer are \"100% pure old-fashioned, homegrown human. Born in the real world; a genuine child of Zion.\" Zion, Tank explains, is the last human city, buried deep in the earth, near the core, for warmth. Tank straps Neo back into the jack-in chair, by-passes some preliminary programs and loads him up with combat training, starting with Jiu Jitsu. When Tank hits \"load\" Neo is shocked by the force of the knowledge pouring into him. \"I think he likes it,\" says Tank, \"want some more?\" \"Hell yes,\" replies Neo. Neo is fed a series of martial arts techniques including Kempo, Tae Kwon Do, Drunken Boxing and Kung Fu. Morpheus and Tank are amazed at Neo's ability to ingest information, but Morpheus wants to test Neo.\r\n",
      "\r\n",
      "Morpheus and Neo stand in a sparring program. The program has rules, like gravity. But as in many computer programs, some rules can be bent while others can be broken. Morpheus bids Neo to hit him, if he can. They fight with Neo impressively attacking but Morpheus easily parrying and subduing him. The rest of the crew gathers around the monitors to watch the fight. Morpheus ends up kicking Neo into a beam, explaining to him that the reason he has beaten him has nothing to do with muscles or reality. They spar again. \"What are you waiting for?\" Morpheus asks him. \"You're faster than this!\" Neo finally brings a punch near his teacher's face. They can move on.\r\n",
      "\r\n",
      "A jump program is loaded. Both men now stand on one of several tall buildings in a normal city skyline. Morpheus tells Neo he must free his mind and leaps from one building to the next. Neo nervously tries to follow him and doesn't make the jump, falling to the pavement below. Neo wakes back in the Nebudchanezzar with blood in his mouth. \"I thought it wasn't real,\" he says. \"Your mind makes it real,\" replies Morpheus. \"So, if you die in the Matrix, you die here?\" \"The body cannot live without the mind,\" says Morpheus, underlining the very real danger faced in the simulation.\r\n",
      "\r\n",
      "Later, Trinity brings Neo dinner. Outside his room, Cypher remarks that Trinity never brought him dinner. He asks Trinity why, if Morpheus thinks Neo is the One, he hasn't taken him to see the Oracle yet. Trinity says he'll take him when he's ready.\r\n",
      "\r\n",
      "Morpheus and Neo are walking down a standard city street in what appears to be the Matrix. Morpheus explains that the Matrix is a system and that the system is their enemy. All the people that inhabit it, the people they are trying to free, are part of that system. Some are so inert, so dependent upon the Matrix that they can never be free. Neo notices a stunning girl in a red dress. \"Are you listening to me?\" asks Morpheus. He asks Neo to look at the girl again. Neo turns to face Agent Smith, pointing a gun straight at his head. Morpheus stops the simulation, which has just been created to look like the Matrix.\r\n",
      "\r\n",
      "Neo asks what the Agents are. \"Sentient programs,\" says Morpheus, that \"can move in and out of any software hard-wired into their system, meaning that they can take over anyone in the Matrix program. \"Inside the Matrix,\" Morpheus says, \"They are everyone and they are no one.\" Thus Morpheus and his crew survive the Agents by running from them and hiding from the Agents even though they \"are guarding all the doors. They are holding all the keys and sooner or later, someone is going to have to fight them.\" But no one who has ever stood up to an Agent has survived; all have died. Still, Morpheus is certain that because the Agents live in a world of rules that they can never be as strong, never be as fast as he can be. \"What are you trying to tell me,\" asks Neo, \"That I can dodge bullets?\" \"When you're ready,\" Morpheus says, \"You won't have to.\" Just then Morpheus gets a phone call. \"We've got trouble,\" Cypher says on the other line.\r\n",
      "\r\n",
      "The Nebuchadnezzar is on alert. They see the holographic image of a squiddy, a search and destroy sentinel, which is on their trail. They set the ship down in a huge sewer system and turn off the power. Tank stands at the ready switch of an EMP, electro-magnetic pulse, the only weapon man has against the machines in the real world. Two squiddies search for the ship -- the crew can see them -- but they move on.\r\n",
      "\r\n",
      "Neo startles Cypher, who is working at a computer console streaming with green code. Cypher offers Neo a drink and says that he knows what Neo is thinking, \"Why, oh why didn't I take the blue pill?\" Neo laughs but is unsettled. Cypher asks Neo if Morpheus has told him why he's here. Neo nods. \"What a mind job,\" says Cypher, \"so you're here to save the world.\"\r\n",
      "\r\n",
      "Cypher is now in a fancy restaurant with Agent Smith in the Matrix. Agent Smith asks if they have a deal. Cypher cuts up a juicy steak and ruminates that he knows the steak is merely the simulation telling his brain that it is delicious and juicy, but after nine years he has discovered that \"ignorance is bliss.\" He strikes a deal for the machines to reinsert his body into a power plant, reinsert him into the Matrix, and he'll help the Agents. He wants to be rich and powerful, \"an actor\" maybe. Smith says he wants access codes to the mainframe in Zion. Cypher says he can't do that, but that he can get him the man who does, meaning Morpheus.\r\n",
      "\r\n",
      "Meanwhile, inside the Nebuchadnezzar's small dining room in the real world, the rest of the crew is trying to choke down the oatmeal-gruel that they have as sustenance. Mouse muses on the mistakes the machines may have made trying to get sensations right, like the taste of chicken. Since they didn't know what it tasted like they let everything taste like it. Morpheus interrupts the meal, announcing that he's taking Neo to see the Oracle.\r\n",
      "\r\n",
      "Morpheus, Trinity, Neo, Apoc, Switch, Mouse and Cypher are jacked into the Matrix. As they walk out of a warehouse Cypher secretly throws his cell phone into the garbage. On the car ride to the Oracle, Neo asks Trinity if she has seen the Oracle. Trinity says that she has but when she's asked just what she was told by the Oracle, she refuses to answer.\r\n",
      "\r\n",
      "The Oracle, Morpheus explains, has been with them since the beginning of the Resistance. She is the one who made the Prophecy of the One and that Morpheus would be the one to find him. She can help Neo find the path, he says. He enters the apartment of the Oracle. Inside are the other potentials: a mother figure and numerous children. One child levitates blocks, one reads Asian literature, another is playing chess. One bald child is bending spoons. He gives one spoon to Neo and says, \"Do not try and bend the spoon, that's impossible. Instead, only try to realize the truth...that there is no spoon.\" Neo bends the spoon as he's called in to see the Oracle.\r\n",
      "\r\n",
      "The Oracle is baking cookies. She sizes Neo up and asks him whether he thinks he is the One. Neo admits that he does not know and the Oracle does not enlighten him. Neo smiles and the Oracle asks him what is funny. Neo admits that Morpheus had almost convinced him that he was the One. She accepts this and prophesies that Morpheus believes in Neo so much that he plans to sacrifice himself. She tells Neo that either he or Morpheus will die, and that Neo will have the power to choose which one it will be. She then offers him a cookie and promises him that he will feel fine as soon as he's done eating it.\r\n",
      "\r\n",
      "As the crew returns to their jack point, many floors up in an old hotel, Tank, in the control room, notices something odd. Meanwhile Neo, walking up the stairs, sees what appears to be the same cat cross a room twice. \"Deja vu,\" he says, which gets the attention of Trinity and Morpheus. Deja vu, they explain to him, is a glitch in the Matrix; it happens when they reset the computer parameters. Outside, the phone line is cut. Mouse runs to a window which has now been bricked in. They are trapped. Mouse picks up two machine guns but he's no match for the police coming into the room. He's riddled with bullets.\r\n",
      "\r\n",
      "Back on the Nebuchadnezzar, the real Mouse spurts blood from his mouth and dies in the chair.\r\n",
      "\r\n",
      "More police and Agents stream into the bottom of the hotel. Morpheus has Tank find a layout of the building they're in, locating the main wet wall. The Agents arrive on the floor they're on, finding a coat that Cypher has left behind. They only find a hole in the bathroom wall. Meanwhile the crew is climbing down the plumbing of the wet wall. As the police approach Cypher sneezes, once more giving them away. The police open fire. The crew, including Neo, begin to fire back.\r\n",
      "\r\n",
      "An Agent takes over the body of one of the policemen, reaches into the wall, and grabs Neo by the neck. Morpheus, who is above Neo in the walls, breaks through the wall and lands on the agent, yelling to Trinity to get Neo out of the building.\r\n",
      "\r\n",
      "A fierce battle between Agent Smith and Morpheus ends with Morpheus face down on the tile. Agent Smith sends the police unit in to beat him with their batons.\r\n",
      "\r\n",
      "Cypher returns to the Nebuchadnezzar before Trinity, Neo, Switch and Apoc. As Tank attempts to bring the others back, Cypher attacks him from behind with an electronic weapon. Dozer attempts to tackle Cypher, but Cypher electrocutes him as well.\r\n",
      "\r\n",
      "Trinity attempts to call Tank but Cypher pulls the headset off of the smoking remains of Tank and answers. As Cypher talks to Trinity inside the Matrix he leans over the still form of Trinity in the hovercraft. Cypher recounts the things he hates about the real world, the war, the cold, the goop they have to eat, but most especially Morpheus and his beliefs. \"He lied to us, Trinity.\"\r\n",
      "\r\n",
      "Cypher pulls the plug out of the back of Apoc's head, and Apoc falls down dead in the Matrix. Cypher then moves to Switch and as she protests \"Not like this...\" in the Matrix, Cypher kills her on the ship. She falls down dead before Trinity and Neo. Cypher moves on to Neo's supine form, saying that if Neo is the One, a miracle will prevent Cypher from killing him:\r\n",
      "\r\n",
      "\"How can he be the One, if he's dead?\" he asks. He continues badgering Trinity, asking her if she believes that Neo is the One. She says, \"Yes.\" Cypher screams back \"No!\" but his reaction is incredulity at seeing Tank still alive, brandishing the weapon that Cypher had used on him. Tank fries Cypher with the electrical device.\r\n",
      "\r\n",
      "Tank brings Trinity back and she finds out that Dozer is dead.\r\n",
      "\r\n",
      "Meanwhile Agent Smith, a tray of torture instruments near him, marvels at the beauty of the Matrix as he gazes out at the city all around them. He informs Morpheus, who is tied to a chair, that the first Matrix was designed as a utopia, engineered to make everyone happy. \"It was a disaster,\" says Agent Smith, people wouldn't accept the program and \"entire crops were lost.\" \"Some believed,\" continues Smith, \"that we lacked the programming language to describe your perfect world. But I believe that, as a species, human beings define their reality through misery and suffering. The perfect world was a dream that your primitive cerebrum kept trying to wake up from. Which is why the Matrix was redesigned.\" Agent Smith compares humans to dinosaurs and that evolution is taking hold. Another Agent enters and relays that there may be a problem (as they now know that Cypher has failed).\r\n",
      "\r\n",
      "Back on the hovercraft the shuddering form of Morpheus betrays the torture he's being put through by the Agents in the Matrix. Tank realizes that they're trying to get the codes to the mainframes of Zion's computers; each ship's captain knows them. Because a breach of Zion's defenses would mean that the last remaining vestiges of mankind would be wiped out, Tank says their only choice is to unplug Morpheus, effectively killing him.\r\n",
      "\r\n",
      "Back in the Matrix, the Agents process their next move. If Cypher is dead, they deduce that the remaining humans on the ship will terminate Morpheus. They decide to stick to their original plan and to deploy the Sentinels.\r\n",
      "\r\n",
      "Tank is performing what amounts to last rites for Morpheus, laying one hand on his head as his other moves to the back of his skull to remove the jack. Just as he's about to pull it out Neo stops him. He realizes that the Oracle was right. He now has to make the choice to save himself or to save Morpheus; his choice is to head back into the Matrix. Trinity rejects the idea. Morpheus gave himself up so that Neo could be saved since he is the One.\r\n",
      "\r\n",
      "\"I'm not the One, Trinity,\" Neo says, relaying his understanding of the discussion with the Oracle: she did not enlighten him as to whether he was the promised messiah. And, since Morpheus was willing to sacrifice himself, Neo knows that he must do that same. Tank calls it suicide; it's a military building with Agents inside. Neo says he only knows that he can bring Morpheus out. Trinity decides to come with him, reasoning with Neo that he will need her help and she's the ranking officer on the ship. \"Tank,\" she says, \"load us up!\"\r\n",
      "\r\n",
      "Meanwhile Agent Smith continues to share his musings with a brutalized Morpheus. Because humans spread to an area, consume the natural resources and, to survive, must spread to another area, Smith says we are not mammals but viruses, the only other creature that acts that way.\r\n",
      "\r\n",
      "In the Construct, Neo and Trinity get armaments. \"Neo,\" protests Trinity, \"No one has ever done anything like this.\" \"That's why it's going to work,\" he replies.\r\n",
      "\r\n",
      "Morpheus has yet to break and Smith asks the other Agents why the serum isn't working. \"Maybe we're asking the wrong questions,\" responds one. To that Smith commands the other Agents to leave him alone with Morpheus. Smith removes his earphone and his glasses and confides that he hates the Matrix, \"this zoo, this prison.\" Smith admits that he must get out of this \"reality.\" He hates the stench. He's sure that some element of the humans will rub off on him and that Morpheus holds the key to his release. If there is no Zion there's no need for Smith to be in the Matrix. \"You are going to tell me, or you are going to die.\"\r\n",
      "\r\n",
      "Downstairs, in the lobby, Trinity and Neo enter, heavily armed. They shoot their way past the guards and a group of soldiers and make their way into the elevator.\r\n",
      "\r\n",
      "Agents Brown and Jones enter the interrogation room to find Smith with his hands still fixed on Morpheus's head. Smith looks embarrassed and befuddled and the others tell him about the attack occurring downstairs. They realize that the humans are trying to save Morpheus.\r\n",
      "\r\n",
      "In the elevator, Trinity arms a bomb. They both climb through a hatch to the elevator roof, attaching a clamp to the elevator cable. Neo says \"There is no spoon\" before he severs the cable with a few shots. The counterweight drops, propelling Neo and Trinity upward. The elevator falls to the lobby exploding upon impact and filling the floor with flames.\r\n",
      "\r\n",
      "The Agents feel the rumble of the explosion and the sprinkers come on in the building. \"Find them and destroy them!\" Smith commands.\r\n",
      "\r\n",
      "On the roof, a helicopter pilot is calling \"Mayday\" as Trinity and Neo take out the soldiers there. Agent Brown takes over the pilot and appears behind Neo. Neo shoots several rounds at the Agent, who dodges them and pulls his own weapon.\r\n",
      "\r\n",
      "\"Trinity,\" yells Neo, \"Help!\" But it's too late. The Agent begins to shoot. Instead of being shot, Neo dodges most of the bullets, though two of them nick him. As the Agent approaches Neo, who is lying on the ground, he levels a kill shot but Trinity shoots him before he can fire. Trinity marvels at how fast Neo has just moved; she's never seen anyone move that quickly.\r\n",
      "\r\n",
      "Tank downloads the ability to fly the helicopter to Trinity, who can now pilot the aircraft. Trinity brings the helicopter down to the floor that Morpheus is on and Neo opens fire on the three Agents. The Agents quickly fall and Morpheus is alone in the room. Just as quickly the Agents take over other soldiers stationed nearby. Morpheus breaks his bonds and begins to run to the helicopter. The Agents fire on him, hitting his leg. Morpheus leaps but Neo realizes that he is not going to make the leap and throws himself out of the helicopter, a safety harness attached.\r\n",
      "\r\n",
      "He catches Morpheus, but Agent Smith shoots the helicopter's hydraulic line.\r\n",
      "\r\n",
      "Unable to control the helicopter, Trinity miraculously gets it close enough to drop Morpheus and Neo on a rooftop. Neo grabs the safety line as the helicopter falls towards a building. Trinity severs the safety line connecting Neo to the helicopter and jumps on it herself as the vehicle smashes into the side of a building, causing a bizarre ripple in the fabric of the building's reality as it does.\r\n",
      "\r\n",
      "On the ship Tank says, \"I knew it; he's the One.\"\r\n",
      "\r\n",
      "Neo hauls Trinity up to them. \"Do you believe it now, Trinity?\" asks Morpheus as he approaches the two. Neo tries to tell him that the Oracle told him the opposite but Morpheus says, \"She told you exactly what you needed to hear.\" They call Tank, who tells them of an exit in a subway near them.\r\n",
      "\r\n",
      "The Agents arrive on the rooftop but find only the safety harness and line. Though Agent Smith is angered, the other two are satisfied. A trace has been completed in the real world and the Sentinels have been dispatched to attack the Nebuchadnezzar.\r\n",
      "\r\n",
      "In the subway, they quickly find the phone booth and Morpheus exits out of the Matrix. A wino watches this occur. On the rooftop Agent Smith locks in to their whereabouts through the wino and appropriates his body.\r\n",
      "\r\n",
      "Meanwhile, as the phone rings, providing Trinity's exit, she confides to Neo that everything that the Oracle has told her has come true, except for one thing. She doesn't say what that thing is and picks up the phone just as she sees the approaching Agent Smith. Smith shatters the ear piece of the phone; it's impossible for Neo to exit there now.\r\n",
      "\r\n",
      "Instead of running, which Trinity implores him to do as she looks on from the ship, Neo turns to face Smith. They empty their guns on each other, neither hitting the other. They then move into close combat, trading blows. Neo sweeps Agent Smith's head, breaking his glasses. \"I'm going to enjoy watching you die, Mr. Anderson,\" says Smith. They trade some thunderous blows with Smith hitting Neo so hard he spits up blood in the Matrix and in the chair aboard the ship.\r\n",
      "\r\n",
      "\"He's killing him,\" says Trinity.\r\n",
      "\r\n",
      "Neo gets back up, sets himself and beckons Smith to start again. This time it's Neo who delivers devastating blow after blow. But Smith counters, throwing Neo into a wall then pummeling him with body blows. A wind from the tunnel signals that a subway train is approaching and Smith has a wicked notion. He throws Neo into the subway tracks then drops down there himself. He puts Neo in a headlock and, in the glow of the oncoming subway says, \"You hear that, Mr. Anderson? That is the sound of inevitability. It is the sound of your death. Good-bye, Mr. Anderson.\"\r\n",
      "\r\n",
      "\"My name,\" he replies, \"is Neo.\" Then, with a mighty leap, Neo propels them to the ceiling of the tunnel. They fall back down and Neo backflips off the tracks, leaving Agent Smith to the oncoming train.\r\n",
      "\r\n",
      "Neo heads for the stairs, but Smith has already appropriated another body and emerges from the doors of the train.\r\n",
      "\r\n",
      "Meanwhile the Sentinels have arrived to attack the Nebuchadnezzar; there are five of them and they are closing fast.\r\n",
      "\r\n",
      "Morpheus tells Tank to charge the EMP. Trinity reminds Morpheus that they can't use the EMP while Neo is in the Matrix.\r\n",
      "\r\n",
      "\"I know, Trinity, don't worry,\" says Morpheus, \"He's going to make it.\"\r\n",
      "\r\n",
      "Back in the streets of the Matrix, Neo swipes a cell phone from a nearby suit. He calls Tank: \"Mr. Wizard, get me the hell out of here.\" He races through a crowded market while Agents appropriate bodies right and left. They force Neo down a dark alley. He kicks in a door and rushes through an apartment complex where the Agents appropriate more bodies, including that of a sweet little old lady who throws a knife at Neo as Agent Smith. Neo leaps down into a pile of garbage with the Agents in hot pursuit.\r\n",
      "\r\n",
      "On the Nebuchadnezzar the Sentinels have arrived. They begin to tear the ship apart.\r\n",
      "\r\n",
      "In the Matrix, Neo arrives back at the Heart O' the City Hotel. Tank tells him to go to room 303. The Agents are literally at his heels.\r\n",
      "\r\n",
      "The Sentinels breach the hull of the ship. They are inside. Trinity, standing next to Neo's body in the chair, begs him to hurry.\r\n",
      "\r\n",
      "Neo reaches room 303 and enters. He's immediately shot, point blank in the gut, by Agent Smith. Smith empties his magazine into Neo's body. Neo slumps to the floor, dead.\r\n",
      "\r\n",
      "On the ship Neo's vital signs drop to nothing. \"It can't be,\" says Morpheus.\r\n",
      "\r\n",
      "Agent Smith instructs the others to check Neo. \"He's gone,\" one replies. \"Good-bye, Mr. Anderson,\" says Smith.\r\n",
      "\r\n",
      "The Sentinels' lasers are beginning to cut through the major parts of the hovercraft. Trinity leans over his dead body.\r\n",
      "\r\n",
      "\"Neo,\" she says, \"I'm not afraid anymore. The Oracle told me that I would fall in love and that that man... the man that I loved would be the One. So you see, you can't be dead. You can't be... because I love you. You hear me? I love you.\" She kisses him. In the chair Neo suddenly breathes. In the Matrix, Neo opens his eyes. \"Now get up,\" orders Trinity.\r\n",
      "\r\n",
      "The Agents hear Neo rise behind them and they open fire. \"No,\" Neo says calmly, raising his hands. He stops their bullets in mid-air. They drop harmlessly to the floor.\r\n",
      "\r\n",
      "\"What's happening?\" asks Tank. \"He is the One,\" says Morpheus.\r\n",
      "\r\n",
      "Back in the Matrix, Neo can see things for what they really are, green cascading code.\r\n",
      "\r\n",
      "Agent Smith is furious. He runs to Neo and attacks him. Neo blocks Smith's blows effortlessly before he sends Smith flying with one well-placed kick. Neo then leaps into Smith's body and appropriates him. Smith's shell explodes in a sea of code and Neo is all that is left, the walls buckling in waves as they did when the helicopter crashed. Agents Brown and Jones look at one another and run away.\r\n",
      "\r\n",
      "The Sentinels are now fully in the ship. They are right above Trinity and Morpheus.\r\n",
      "\r\n",
      "Back in the Matrix Neo sprints to the ringing phone in the room.\r\n",
      "\r\n",
      "Morpheus has no choice but to engage the EMP. He does and the Sentinels fall inert to the floor.\r\n",
      "\r\n",
      "Neo has made it back. He kisses Trinity.\r\n",
      "\r\n",
      "The screen is black. A command prompt appears: \"Call trans opt: received. 9-18-99 14:32:21 REC: Log>\" then \"Carrier anomaly\" \"Trace program: running\" As the grid of numbers appears again a warning appears \"System Failure.\" Over it all is Neo's voice:\r\n",
      "\r\n",
      "\"I know you're out there. I can feel you now. I know that you're afraid... you're afraid of us. You're afraid of change. I don't know the future. I didn't come here to tell you how this is going to end. I came here to tell you how it's going to begin. I'm going to hang up this phone, and then I'm going to show these people what you don't want them to see. I'm going to show them a world without you. A world without rules and controls, without borders or boundaries. A world where anything is possible. Where we go from there is a choice I leave to you.\"\r\n",
      "\r\n",
      "In the Matrix world, Neo hangs up the phone. He looks at the mindless masses around him, puts on his glasses and then looks up. From high above the city we see him take flight. The story is picked up in The Matrix Reloaded, the second of three Matrix movies.\r\n",
      "\r\n",
      "\n"
     ]
    }
   ],
   "source": [
    "print(text)"
   ]
  },
  {
   "cell_type": "code",
   "execution_count": 6,
   "metadata": {
    "colab": {
     "base_uri": "https://localhost:8080/",
     "height": 53
    },
    "colab_type": "code",
    "id": "s1VxoGdc9GIt",
    "outputId": "52d254ef-7da4-4c5a-81fd-cfda3261c6a8"
   },
   "outputs": [
    {
     "name": "stdout",
     "output_type": "stream",
     "text": [
      "CPU times: user 2.26 s, sys: 36.1 ms, total: 2.3 s\n",
      "Wall time: 2.17 s\n"
     ]
    }
   ],
   "source": [
    "%%time\n",
    "\n",
    "summa_summary= summa.summarizer.summarize(text, words=500)"
   ]
  },
  {
   "cell_type": "code",
   "execution_count": 7,
   "metadata": {
    "colab": {
     "base_uri": "https://localhost:8080/",
     "height": 53
    },
    "colab_type": "code",
    "id": "FC4KuglB51Wz",
    "outputId": "b6472c14-01c3-49a9-8c9d-c556ec5100ab"
   },
   "outputs": [
    {
     "name": "stdout",
     "output_type": "stream",
     "text": [
      "CPU times: user 1.88 s, sys: 39.6 ms, total: 1.92 s\n",
      "Wall time: 1.75 s\n"
     ]
    }
   ],
   "source": [
    "%%time\n",
    "\n",
    "gensim_summary = gensim.summarization.summarize(text, word_count=500)"
   ]
  },
  {
   "cell_type": "code",
   "execution_count": 8,
   "metadata": {},
   "outputs": [
    {
     "data": {
      "text/plain": [
       "0.3548387096774194"
      ]
     },
     "execution_count": 8,
     "metadata": {},
     "output_type": "execute_result"
    }
   ],
   "source": [
    "summary_jaccard_index(summa_summary, gensim_summary)"
   ]
  },
  {
   "cell_type": "markdown",
   "metadata": {},
   "source": [
    "## Centroid-based summarization"
   ]
  },
  {
   "cell_type": "code",
   "execution_count": 9,
   "metadata": {},
   "outputs": [],
   "source": [
    "centroid_bow_summarizer = text_summarizer.CentroidBOWSummarizer(preprocess_type='nltk')"
   ]
  },
  {
   "cell_type": "code",
   "execution_count": 10,
   "metadata": {},
   "outputs": [],
   "source": [
    "centroid_bow_summary = centroid_bow_summarizer.summarize(text, limit=500)"
   ]
  },
  {
   "cell_type": "code",
   "execution_count": 11,
   "metadata": {},
   "outputs": [
    {
     "name": "stdout",
     "output_type": "stream",
     "text": [
      "CPU times: user 20.5 s, sys: 303 ms, total: 20.9 s\n",
      "Wall time: 21.9 s\n"
     ]
    }
   ],
   "source": [
    "%%time\n",
    "\n",
    "embedding_model = text_summarizer.centroid_word_embeddings.load_gensim_embedding_model('glove-wiki-gigaword-50')"
   ]
  },
  {
   "cell_type": "code",
   "execution_count": 12,
   "metadata": {},
   "outputs": [],
   "source": [
    "centroid_word_embedding_summarizer = text_summarizer.CentroidWordEmbeddingsSummarizer(embedding_model, preprocess_type='nltk')"
   ]
  },
  {
   "cell_type": "code",
   "execution_count": 13,
   "metadata": {},
   "outputs": [
    {
     "name": "stderr",
     "output_type": "stream",
     "text": [
      "/home/kuba/anaconda3/lib/python3.6/site-packages/scipy/spatial/distance.py:696: RuntimeWarning: overflow encountered in square\n",
      "  uu = np.average(np.square(u), weights=w)\n"
     ]
    }
   ],
   "source": [
    "centroid_word_embedding_summary = centroid_word_embedding_summarizer.summarize(text, limit=500)"
   ]
  },
  {
   "cell_type": "code",
   "execution_count": 14,
   "metadata": {},
   "outputs": [
    {
     "data": {
      "text/plain": [
       "0.15384615384615385"
      ]
     },
     "execution_count": 14,
     "metadata": {},
     "output_type": "execute_result"
    }
   ],
   "source": [
    "summary_jaccard_index(centroid_bow_summary, centroid_word_embedding_summary)"
   ]
  },
  {
   "cell_type": "code",
   "execution_count": 15,
   "metadata": {},
   "outputs": [],
   "source": [
    "preprocessed_text = centroid_word_embedding_summarizer.preprocess_text(text)"
   ]
  },
  {
   "cell_type": "code",
   "execution_count": 16,
   "metadata": {},
   "outputs": [
    {
     "name": "stdout",
     "output_type": "stream",
     "text": [
      "The screen is filled with green, cascading code which gives way to the title, The Matrix.\r\n",
      "\r\n",
      "A phone rings and text appears on the screen: \"Call trans opt: received. 2-19-98 13:24:18 REC: Log>\" As a conversation takes place between Trinity (Carrie-Anne Moss) and Cypher (Joe Pantoliano), two free humans, a table of random green numbers are being scanned and individual numbers selected, creating a series of digits not unlike an ordinary phone number, as if a code is being deciphered or a call is being traced.\r\n",
      "\r\n",
      "Trinity discusses some unknown person. Cypher taunts Trinity, suggesting she enjoys watching him. Trinity counters that \"Morpheus (Laurence Fishburne) says he may be 'the One',\" just as the sound of a number being selected alerts Trinity that someone may be tracing their call. She ends the call.\r\n",
      "\r\n",
      "Armed policemen move down a darkened, decrepit hallway in the Heart O' the City Hotel, their flashlight beam bouncing just ahead of them. They come to room 303, kick down the door and find a woman dressed in black, facing away from them. It's Trinity. She brings her hands up from the laptop she's working on at their command.\r\n",
      "\r\n",
      "Outside the hotel a car drives up and three agents appear in neatly pressed black suits. They are Agent Smith (Hugo Weaving), Agent Brown (Paul Goddard), and Agent Jones (Robert Taylor). Agent Smith and the presiding police lieutenant argue. Agent Smith admonishes the policeman that they were given specific orders to contact the agents first, for their protection. The lieutenant dismisses this and says that they can handle \"one little girl\" and that he has two units that are bringing her down at that very moment. Agent Smith replies: \"No, Lieutenant. Your men are already dead.\"\r\n",
      "\r\n",
      "Inside, Trinity easily defeats the six policemen sent to apprehend her, using fighting and evasion techniques that seem to defy gravity. She calls Morpheus, letting him know that the line has been traced, though she doesn't know how. Morpheus informs her that she will have to \"make it to another exit,\" and that Agents are heading up after her.\r\n",
      "\r\n",
      "A fierce rooftop chase ensues with Trinity and an Agent leaping from one building to the next, astonishing the policemen left behind. Trinity makes a daring leap across an alley and through a small window. She has momentarily lost her pursuers and makes it to a public phone booth on the street level. The phone begins to ring. As she approaches it a garbage truck, driven by Agent Smith, careens towards the phone booth. Trinity makes a desperate dash to the phone, picking it up just moments before the truck smashes the booth into a brick wall. The three Agents reunite at the front of the truck. There is no body in the wreckage. \"She got out,\" one says. The other says, \"The informant is real.\" \"We have the name of their next target,\" says the other, \"His name is Neo.\"\r\n",
      "\r\n",
      "Neo (Keanu Reeves), a hacker with thick black hair and a sallow appearance, is asleep at his monitor. Notices about a manhunt for a man named Morpheus scroll across his screen as he sleeps. Suddenly Neo's screen goes blank and a series of text messages appear: \"Wake up, Neo.\" \"The Matrix has you.\" \"Follow the White Rabbit.\" Then, the text says \"Knock, knock, Neo...\" just as he reads it, a knock comes at the door of his apartment, 101. It's a group of ravers and Neo gives them a contraband disc he has secreted in a copy of Simulacra and Simulation. The lead raver asks him to join them and Neo demurs until he sees the tattoo of a small white rabbit on the shoulder of a seductive girl in the group.\r\n",
      "\r\n",
      "At a rave bar Neo stands alone and aloof as the group he's with continue partying. Trinity approaches him and introduces herself. Neo recognizes her name; she was a famous hacker and had cracked the IRS database. She tells him that he is in great danger, that they are watching him and that she knows that he is searching for answers, particularly to the most important question of all: what is the Matrix? The pulsing music of the bar gives way to the repetitious blare of Neo's alarm clock; it's 9:18 and he's late for work.\r\n",
      "\r\n",
      "At his job at Metacortex, a leading software company housed in an ominous high rise, Neo is berated by his boss for having a problem with authority, for thinking he's special. Neo listens to his boss, but his attention is on the persons cleaning the window of the office. Back at his bleak cubicle Neo receives a delivery as \"Thomas Anderson.\" Upon opening the package he finds a cellphone which immediately rings. On the other end is Morpheus, who informs Neo that they've both run out of time and that \"they\" are coming for him. Morpheus tells him to slowly look up, toward the elevator. Agents Smith, Jones, and Brown are there, obviously looking for him, as a woman points towards Neo's cube. Morpheus tries to guide Neo out of the building but when he is instructed to get on a scaffolding and take it to the roof Neo rejects Morpheus's advice, allowing himself to be taken by the Agents.\r\n",
      "\r\n",
      "In an interrogation room the Agents confront Neo. They've had their eye on him for some time. He lives a dual existence: one life as Thomas A. Anderson, a software engineer for a Metacortex, the other life as Neo, a computer hacker \"guilty of virtually every computer crime we have a law for.\" Agent Smith asks him to help them capture Morpheus, a dangerous terrorist, in exchange for amnesty. Neo gives them the finger and asks for his phone call. Mr. Smith asks what good is a phone call if he's unable to speak. Neo finds that his lips have fused together. Panicked, he is thrown on the interrogation table by the Agents and they implant a shrimp-like probe, a bug, in his stomach, entering through his belly-button.\r\n",
      "\r\n",
      "Neo awakens with a start in his own bed, assuming it has all been a bad dream. His phone rings and Morpheus is on the other line. He tells Neo that the line is tapped but they've underestimated his importance. Morpheus tells Neo he is the One and to meet him at the Adams St. bridge. There he is picked up by Trinity and two others in a car; they all wear black latex and leather. A woman in the front seat, Switch (Belinda McClory), pulls a gun on him and tells him to take off his shirt. Trinity tells him it's for their mutual protection and that he has to trust her. He takes off his shirt and she uses a device to remove the probe that Neo believed had been part of a nightmare. Trinity drops the bug out into the road where it slowly goes dark in the rain.\r\n",
      "\r\n",
      "Trinity takes Neo to Morpheus. Morpheus explains that he's been searching for Neo his entire life and asks if Neo feels like \"Alice in Wonderland, falling down the rabbit hole.\" He explains to Neo that they exist in the Matrix, a false reality that has been constructed for humans to hide the truth. The truth is that everyone in the world is a slave, born into bondage. Morpheus holds out two pills. In his left palm is a blue pill. If Neo takes it he will wake up in his bed and \"believe whatever you want to believe.\" But if he takes the red pill in Morpheus's right hand, then \"you stay in Wonderland and I show you how deep the rabbit hole goes.\" Neo takes the red pill.\r\n",
      "\r\n",
      "As the rest of Morpheus's crew straps him into a chair, Neo is told that pill he took is part of a trace program, to \"disrupt his input/output carrier signal\" so that they can pinpoint him. Neo looks at a shattered mirror placed next to him which miraculously reforms itself. Neo touches the surface and the silver begins to creep over his skin, engulfing him as Morpheus's crew attempt to locate something on the monitors around them. The silver takes Neo over and he blacks out.\r\n",
      "\r\n",
      "He awakens inside a pinkish/purple embryonic pod, extending from the side of a circular building, a massive power plant. He is hairless and naked, with thick black tubes snaking down his throat, plugged into the back of his skull, his spine, and invading most of the rest of his body. He finds his pod is open and that he is surrounded by tower after tower of pods just like his, all filled with bodies. Suddenly a menacing, hovering nurse robot grabs him by the throat. The tubes detach and Neo is flushed down a tube into an underground pool of filthy water. Just as he's about to drown in the muck a hovercraft appears above him, snags him and hauls him into its cargo bay. Neo finds himself surrounded by Morpheus's crew again, but they are dressed differently, in simple knit garments. Just before Neo passes out Morpheus says to him, \"Welcome to the real world.\"\r\n",
      "\r\n",
      "Neo drifts in and out of consciousness. At one point he asks, \"Am I dead?\" \"Far from it,\" replies Morpheus. Again he wakes, his body a pincushion of acupuncture. \"Why do my eyes hurt?\" he asks. \"You've never used them,\" Morpheus replies.\r\n",
      "\r\n",
      "Neo finally wakes, fully clothed, with a short shock of hair on his head. He removes a connector that is sunk deep into his arm and reaches to find the large socket at the back of his neck when Morpheus enters the room. \"What is this place?\" Neo asks. \"The more important question is when,\" says Morpheus, \"You believe it is the year 1999, when in fact it is closer to the year 2199.\" Morpheus goes on to say that they really don't know when it is. He gives Neo a tour of his ship, the Nebuchadnezzar (they pass a plaque stating it was built in 2069). Neo is introduced to Morpheus's crew including Trinity; Apoc (Julian Arahanga), a man with long, flowing black hair; Switch; Cypher (bald with a goatee); two brawny brothers, Tank (Marcus Chong) and Dozer (Anthony Ray Parker); and a young, thin man named Mouse (Matt Doran).\r\n",
      "\r\n",
      "Morpheus gets to the point. \"You wanted to know about the Matrix,\" he says, ushering him to a chair. Neo sits down in it and Trinity straps him in. A long probe is inserted into the socket at the back of Neo's skull.\r\n",
      "\r\n",
      "Neo wakes in a world of all white. He is in the Construct, a \"loading platform\" that Morpheus and his team use to prepare newly freed humans to deal with the Matrix world. Gone are the sockets in Neo's arms and neck. He has hair again. Morpheus tells him that what he is experiencing of himself is the \"residual self image, the mental projection of your digital self\" and bids him to sit while he explains the truth. \"This,\" he says, showing an image of a modern city, \"is the world that you know.\" A thing that really exists \"only as part of a neural, interactive simulation that we call the Matrix.\"\r\n",
      "\r\n",
      "Morpheus then shows Neo the world as it truly exists today, a scarred, desolate emptiness with charred, abandoned buildings, black earth, and a shrouded sky.\r\n",
      "\r\n",
      "Morpheus goes on to say that \"at some point in the early 21st century all of mankind was united in celebration as we gave birth\" to artificial intelligence, a \"singular consciousness that birthed an entire race of machines.\"\r\n",
      "\r\n",
      "Someone started a war, and no one knows who, but it was known that it was mankind who blotted out the sky, attempting to deprive the machines of the solar power they required to function. Instead the machines turned to humans as a power source; Mopheus explains that a human's body provides \"more electricity than a 120 volt battery and over 25k BTUs in body heat.\" Morpheus shows Neo fields where machines grow human beings, connecting them to their outlets, ensconcing them in their pods, and feeding them with the liquefied remains of other human beings. \"The Matrix,\" says Morpheus, \"is a computer-generated dreamworld created to keep us under control, to turn us...\" into a mere power source, into coppertop batteries.\r\n",
      "\r\n",
      "Neo rejects this information so feverishly that he pulls himself out of the Construct. He is back in the chair on the hovercraft. He fights to free himself from this harsh reality, only to end up vomiting on the floor and passing out.\r\n",
      "\r\n",
      "When Neo wakes up in his bunk, Morpheus is beside him. \"I can't go back, can I?\" Neo asks. \"No,\" says Morpheus. He apologizes to Neo for breaking a cardinal rule: after a certain age people aren't brought out of their simulacrum, but Morpheus explains he had to bring Neo out. When the Matrix was created there was a man born inside it who could create his own reality inside it. It was this man who set Morpheus and the others free. When he died, the Oracle (Gloria Foster) prophesied that he would return in another form. And that the return of the One would mean the destruction of the Matrix. As long as the Matrix exists, humanity will continue to live in complacency inside it and the world can never be free. \"I did what I did because I believe that search is over,\" says Morpheus.\r\n",
      "\r\n",
      "The next day Neo starts his training. Tank is his operator. Tank and his brother Dozer are \"100% pure old-fashioned, homegrown human. Born in the real world; a genuine child of Zion.\" Zion, Tank explains, is the last human city, buried deep in the earth, near the core, for warmth. Tank straps Neo back into the jack-in chair, by-passes some preliminary programs and loads him up with combat training, starting with Jiu Jitsu. When Tank hits \"load\" Neo is shocked by the force of the knowledge pouring into him. \"I think he likes it,\" says Tank, \"want some more?\" \"Hell yes,\" replies Neo. Neo is fed a series of martial arts techniques including Kempo, Tae Kwon Do, Drunken Boxing and Kung Fu. Morpheus and Tank are amazed at Neo's ability to ingest information, but Morpheus wants to test Neo.\r\n",
      "\r\n",
      "Morpheus and Neo stand in a sparring program. The program has rules, like gravity. But as in many computer programs, some rules can be bent while others can be broken. Morpheus bids Neo to hit him, if he can. They fight with Neo impressively attacking but Morpheus easily parrying and subduing him. The rest of the crew gathers around the monitors to watch the fight. Morpheus ends up kicking Neo into a beam, explaining to him that the reason he has beaten him has nothing to do with muscles or reality. They spar again. \"What are you waiting for?\" Morpheus asks him. \"You're faster than this!\" Neo finally brings a punch near his teacher's face. They can move on.\r\n",
      "\r\n",
      "A jump program is loaded. Both men now stand on one of several tall buildings in a normal city skyline. Morpheus tells Neo he must free his mind and leaps from one building to the next. Neo nervously tries to follow him and doesn't make the jump, falling to the pavement below. Neo wakes back in the Nebudchanezzar with blood in his mouth. \"I thought it wasn't real,\" he says. \"Your mind makes it real,\" replies Morpheus. \"So, if you die in the Matrix, you die here?\" \"The body cannot live without the mind,\" says Morpheus, underlining the very real danger faced in the simulation.\r\n",
      "\r\n",
      "Later, Trinity brings Neo dinner. Outside his room, Cypher remarks that Trinity never brought him dinner. He asks Trinity why, if Morpheus thinks Neo is the One, he hasn't taken him to see the Oracle yet. Trinity says he'll take him when he's ready.\r\n",
      "\r\n",
      "Morpheus and Neo are walking down a standard city street in what appears to be the Matrix. Morpheus explains that the Matrix is a system and that the system is their enemy. All the people that inhabit it, the people they are trying to free, are part of that system. Some are so inert, so dependent upon the Matrix that they can never be free. Neo notices a stunning girl in a red dress. \"Are you listening to me?\" asks Morpheus. He asks Neo to look at the girl again. Neo turns to face Agent Smith, pointing a gun straight at his head. Morpheus stops the simulation, which has just been created to look like the Matrix.\r\n",
      "\r\n",
      "Neo asks what the Agents are. \"Sentient programs,\" says Morpheus, that \"can move in and out of any software hard-wired into their system, meaning that they can take over anyone in the Matrix program. \"Inside the Matrix,\" Morpheus says, \"They are everyone and they are no one.\" Thus Morpheus and his crew survive the Agents by running from them and hiding from the Agents even though they \"are guarding all the doors. They are holding all the keys and sooner or later, someone is going to have to fight them.\" But no one who has ever stood up to an Agent has survived; all have died. Still, Morpheus is certain that because the Agents live in a world of rules that they can never be as strong, never be as fast as he can be. \"What are you trying to tell me,\" asks Neo, \"That I can dodge bullets?\" \"When you're ready,\" Morpheus says, \"You won't have to.\" Just then Morpheus gets a phone call. \"We've got trouble,\" Cypher says on the other line.\r\n",
      "\r\n",
      "The Nebuchadnezzar is on alert. They see the holographic image of a squiddy, a search and destroy sentinel, which is on their trail. They set the ship down in a huge sewer system and turn off the power. Tank stands at the ready switch of an EMP, electro-magnetic pulse, the only weapon man has against the machines in the real world. Two squiddies search for the ship -- the crew can see them -- but they move on.\r\n",
      "\r\n",
      "Neo startles Cypher, who is working at a computer console streaming with green code. Cypher offers Neo a drink and says that he knows what Neo is thinking, \"Why, oh why didn't I take the blue pill?\" Neo laughs but is unsettled. Cypher asks Neo if Morpheus has told him why he's here. Neo nods. \"What a mind job,\" says Cypher, \"so you're here to save the world.\"\r\n",
      "\r\n",
      "Cypher is now in a fancy restaurant with Agent Smith in the Matrix. Agent Smith asks if they have a deal. Cypher cuts up a juicy steak and ruminates that he knows the steak is merely the simulation telling his brain that it is delicious and juicy, but after nine years he has discovered that \"ignorance is bliss.\" He strikes a deal for the machines to reinsert his body into a power plant, reinsert him into the Matrix, and he'll help the Agents. He wants to be rich and powerful, \"an actor\" maybe. Smith says he wants access codes to the mainframe in Zion. Cypher says he can't do that, but that he can get him the man who does, meaning Morpheus.\r\n",
      "\r\n",
      "Meanwhile, inside the Nebuchadnezzar's small dining room in the real world, the rest of the crew is trying to choke down the oatmeal-gruel that they have as sustenance. Mouse muses on the mistakes the machines may have made trying to get sensations right, like the taste of chicken. Since they didn't know what it tasted like they let everything taste like it. Morpheus interrupts the meal, announcing that he's taking Neo to see the Oracle.\r\n",
      "\r\n",
      "Morpheus, Trinity, Neo, Apoc, Switch, Mouse and Cypher are jacked into the Matrix. As they walk out of a warehouse Cypher secretly throws his cell phone into the garbage. On the car ride to the Oracle, Neo asks Trinity if she has seen the Oracle. Trinity says that she has but when she's asked just what she was told by the Oracle, she refuses to answer.\r\n",
      "\r\n",
      "The Oracle, Morpheus explains, has been with them since the beginning of the Resistance. She is the one who made the Prophecy of the One and that Morpheus would be the one to find him. She can help Neo find the path, he says. He enters the apartment of the Oracle. Inside are the other potentials: a mother figure and numerous children. One child levitates blocks, one reads Asian literature, another is playing chess. One bald child is bending spoons. He gives one spoon to Neo and says, \"Do not try and bend the spoon, that's impossible. Instead, only try to realize the truth...that there is no spoon.\" Neo bends the spoon as he's called in to see the Oracle.\r\n",
      "\r\n",
      "The Oracle is baking cookies. She sizes Neo up and asks him whether he thinks he is the One. Neo admits that he does not know and the Oracle does not enlighten him. Neo smiles and the Oracle asks him what is funny. Neo admits that Morpheus had almost convinced him that he was the One. She accepts this and prophesies that Morpheus believes in Neo so much that he plans to sacrifice himself. She tells Neo that either he or Morpheus will die, and that Neo will have the power to choose which one it will be. She then offers him a cookie and promises him that he will feel fine as soon as he's done eating it.\r\n",
      "\r\n",
      "As the crew returns to their jack point, many floors up in an old hotel, Tank, in the control room, notices something odd. Meanwhile Neo, walking up the stairs, sees what appears to be the same cat cross a room twice. \"Deja vu,\" he says, which gets the attention of Trinity and Morpheus. Deja vu, they explain to him, is a glitch in the Matrix; it happens when they reset the computer parameters. Outside, the phone line is cut. Mouse runs to a window which has now been bricked in. They are trapped. Mouse picks up two machine guns but he's no match for the police coming into the room. He's riddled with bullets.\r\n",
      "\r\n",
      "Back on the Nebuchadnezzar, the real Mouse spurts blood from his mouth and dies in the chair.\r\n",
      "\r\n",
      "More police and Agents stream into the bottom of the hotel. Morpheus has Tank find a layout of the building they're in, locating the main wet wall. The Agents arrive on the floor they're on, finding a coat that Cypher has left behind. They only find a hole in the bathroom wall. Meanwhile the crew is climbing down the plumbing of the wet wall. As the police approach Cypher sneezes, once more giving them away. The police open fire. The crew, including Neo, begin to fire back.\r\n",
      "\r\n",
      "An Agent takes over the body of one of the policemen, reaches into the wall, and grabs Neo by the neck. Morpheus, who is above Neo in the walls, breaks through the wall and lands on the agent, yelling to Trinity to get Neo out of the building.\r\n",
      "\r\n",
      "A fierce battle between Agent Smith and Morpheus ends with Morpheus face down on the tile. Agent Smith sends the police unit in to beat him with their batons.\r\n",
      "\r\n",
      "Cypher returns to the Nebuchadnezzar before Trinity, Neo, Switch and Apoc. As Tank attempts to bring the others back, Cypher attacks him from behind with an electronic weapon. Dozer attempts to tackle Cypher, but Cypher electrocutes him as well.\r\n",
      "\r\n",
      "Trinity attempts to call Tank but Cypher pulls the headset off of the smoking remains of Tank and answers. As Cypher talks to Trinity inside the Matrix he leans over the still form of Trinity in the hovercraft. Cypher recounts the things he hates about the real world, the war, the cold, the goop they have to eat, but most especially Morpheus and his beliefs. \"He lied to us, Trinity.\"\r\n",
      "\r\n",
      "Cypher pulls the plug out of the back of Apoc's head, and Apoc falls down dead in the Matrix. Cypher then moves to Switch and as she protests \"Not like this...\" in the Matrix, Cypher kills her on the ship. She falls down dead before Trinity and Neo. Cypher moves on to Neo's supine form, saying that if Neo is the One, a miracle will prevent Cypher from killing him:\r\n",
      "\r\n",
      "\"How can he be the One, if he's dead?\" he asks. He continues badgering Trinity, asking her if she believes that Neo is the One. She says, \"Yes.\" Cypher screams back \"No!\" but his reaction is incredulity at seeing Tank still alive, brandishing the weapon that Cypher had used on him. Tank fries Cypher with the electrical device.\r\n",
      "\r\n",
      "Tank brings Trinity back and she finds out that Dozer is dead.\r\n",
      "\r\n",
      "Meanwhile Agent Smith, a tray of torture instruments near him, marvels at the beauty of the Matrix as he gazes out at the city all around them. He informs Morpheus, who is tied to a chair, that the first Matrix was designed as a utopia, engineered to make everyone happy. \"It was a disaster,\" says Agent Smith, people wouldn't accept the program and \"entire crops were lost.\" \"Some believed,\" continues Smith, \"that we lacked the programming language to describe your perfect world. But I believe that, as a species, human beings define their reality through misery and suffering. The perfect world was a dream that your primitive cerebrum kept trying to wake up from. Which is why the Matrix was redesigned.\" Agent Smith compares humans to dinosaurs and that evolution is taking hold. Another Agent enters and relays that there may be a problem (as they now know that Cypher has failed).\r\n",
      "\r\n",
      "Back on the hovercraft the shuddering form of Morpheus betrays the torture he's being put through by the Agents in the Matrix. Tank realizes that they're trying to get the codes to the mainframes of Zion's computers; each ship's captain knows them. Because a breach of Zion's defenses would mean that the last remaining vestiges of mankind would be wiped out, Tank says their only choice is to unplug Morpheus, effectively killing him.\r\n",
      "\r\n",
      "Back in the Matrix, the Agents process their next move. If Cypher is dead, they deduce that the remaining humans on the ship will terminate Morpheus. They decide to stick to their original plan and to deploy the Sentinels.\r\n",
      "\r\n",
      "Tank is performing what amounts to last rites for Morpheus, laying one hand on his head as his other moves to the back of his skull to remove the jack. Just as he's about to pull it out Neo stops him. He realizes that the Oracle was right. He now has to make the choice to save himself or to save Morpheus; his choice is to head back into the Matrix. Trinity rejects the idea. Morpheus gave himself up so that Neo could be saved since he is the One.\r\n",
      "\r\n",
      "\"I'm not the One, Trinity,\" Neo says, relaying his understanding of the discussion with the Oracle: she did not enlighten him as to whether he was the promised messiah. And, since Morpheus was willing to sacrifice himself, Neo knows that he must do that same. Tank calls it suicide; it's a military building with Agents inside. Neo says he only knows that he can bring Morpheus out. Trinity decides to come with him, reasoning with Neo that he will need her help and she's the ranking officer on the ship. \"Tank,\" she says, \"load us up!\"\r\n",
      "\r\n",
      "Meanwhile Agent Smith continues to share his musings with a brutalized Morpheus. Because humans spread to an area, consume the natural resources and, to survive, must spread to another area, Smith says we are not mammals but viruses, the only other creature that acts that way.\r\n",
      "\r\n",
      "In the Construct, Neo and Trinity get armaments. \"Neo,\" protests Trinity, \"No one has ever done anything like this.\" \"That's why it's going to work,\" he replies.\r\n",
      "\r\n",
      "Morpheus has yet to break and Smith asks the other Agents why the serum isn't working. \"Maybe we're asking the wrong questions,\" responds one. To that Smith commands the other Agents to leave him alone with Morpheus. Smith removes his earphone and his glasses and confides that he hates the Matrix, \"this zoo, this prison.\" Smith admits that he must get out of this \"reality.\" He hates the stench. He's sure that some element of the humans will rub off on him and that Morpheus holds the key to his release. If there is no Zion there's no need for Smith to be in the Matrix. \"You are going to tell me, or you are going to die.\"\r\n",
      "\r\n",
      "Downstairs, in the lobby, Trinity and Neo enter, heavily armed. They shoot their way past the guards and a group of soldiers and make their way into the elevator.\r\n",
      "\r\n",
      "Agents Brown and Jones enter the interrogation room to find Smith with his hands still fixed on Morpheus's head. Smith looks embarrassed and befuddled and the others tell him about the attack occurring downstairs. They realize that the humans are trying to save Morpheus.\r\n",
      "\r\n",
      "In the elevator, Trinity arms a bomb. They both climb through a hatch to the elevator roof, attaching a clamp to the elevator cable. Neo says \"There is no spoon\" before he severs the cable with a few shots. The counterweight drops, propelling Neo and Trinity upward. The elevator falls to the lobby exploding upon impact and filling the floor with flames.\r\n",
      "\r\n",
      "The Agents feel the rumble of the explosion and the sprinkers come on in the building. \"Find them and destroy them!\" Smith commands.\r\n",
      "\r\n",
      "On the roof, a helicopter pilot is calling \"Mayday\" as Trinity and Neo take out the soldiers there. Agent Brown takes over the pilot and appears behind Neo. Neo shoots several rounds at the Agent, who dodges them and pulls his own weapon.\r\n",
      "\r\n",
      "\"Trinity,\" yells Neo, \"Help!\" But it's too late. The Agent begins to shoot. Instead of being shot, Neo dodges most of the bullets, though two of them nick him. As the Agent approaches Neo, who is lying on the ground, he levels a kill shot but Trinity shoots him before he can fire. Trinity marvels at how fast Neo has just moved; she's never seen anyone move that quickly.\r\n",
      "\r\n",
      "Tank downloads the ability to fly the helicopter to Trinity, who can now pilot the aircraft. Trinity brings the helicopter down to the floor that Morpheus is on and Neo opens fire on the three Agents. The Agents quickly fall and Morpheus is alone in the room. Just as quickly the Agents take over other soldiers stationed nearby. Morpheus breaks his bonds and begins to run to the helicopter. The Agents fire on him, hitting his leg. Morpheus leaps but Neo realizes that he is not going to make the leap and throws himself out of the helicopter, a safety harness attached.\r\n",
      "\r\n",
      "He catches Morpheus, but Agent Smith shoots the helicopter's hydraulic line.\r\n",
      "\r\n",
      "Unable to control the helicopter, Trinity miraculously gets it close enough to drop Morpheus and Neo on a rooftop. Neo grabs the safety line as the helicopter falls towards a building. Trinity severs the safety line connecting Neo to the helicopter and jumps on it herself as the vehicle smashes into the side of a building, causing a bizarre ripple in the fabric of the building's reality as it does.\r\n",
      "\r\n",
      "On the ship Tank says, \"I knew it; he's the One.\"\r\n",
      "\r\n",
      "Neo hauls Trinity up to them. \"Do you believe it now, Trinity?\" asks Morpheus as he approaches the two. Neo tries to tell him that the Oracle told him the opposite but Morpheus says, \"She told you exactly what you needed to hear.\" They call Tank, who tells them of an exit in a subway near them.\r\n",
      "\r\n",
      "The Agents arrive on the rooftop but find only the safety harness and line. Though Agent Smith is angered, the other two are satisfied. A trace has been completed in the real world and the Sentinels have been dispatched to attack the Nebuchadnezzar.\r\n",
      "\r\n",
      "In the subway, they quickly find the phone booth and Morpheus exits out of the Matrix. A wino watches this occur. On the rooftop Agent Smith locks in to their whereabouts through the wino and appropriates his body.\r\n",
      "\r\n",
      "Meanwhile, as the phone rings, providing Trinity's exit, she confides to Neo that everything that the Oracle has told her has come true, except for one thing. She doesn't say what that thing is and picks up the phone just as she sees the approaching Agent Smith. Smith shatters the ear piece of the phone; it's impossible for Neo to exit there now.\r\n",
      "\r\n",
      "Instead of running, which Trinity implores him to do as she looks on from the ship, Neo turns to face Smith. They empty their guns on each other, neither hitting the other. They then move into close combat, trading blows. Neo sweeps Agent Smith's head, breaking his glasses. \"I'm going to enjoy watching you die, Mr. Anderson,\" says Smith. They trade some thunderous blows with Smith hitting Neo so hard he spits up blood in the Matrix and in the chair aboard the ship.\r\n",
      "\r\n",
      "\"He's killing him,\" says Trinity.\r\n",
      "\r\n",
      "Neo gets back up, sets himself and beckons Smith to start again. This time it's Neo who delivers devastating blow after blow. But Smith counters, throwing Neo into a wall then pummeling him with body blows. A wind from the tunnel signals that a subway train is approaching and Smith has a wicked notion. He throws Neo into the subway tracks then drops down there himself. He puts Neo in a headlock and, in the glow of the oncoming subway says, \"You hear that, Mr. Anderson? That is the sound of inevitability. It is the sound of your death. Good-bye, Mr. Anderson.\"\r\n",
      "\r\n",
      "\"My name,\" he replies, \"is Neo.\" Then, with a mighty leap, Neo propels them to the ceiling of the tunnel. They fall back down and Neo backflips off the tracks, leaving Agent Smith to the oncoming train.\r\n",
      "\r\n",
      "Neo heads for the stairs, but Smith has already appropriated another body and emerges from the doors of the train.\r\n",
      "\r\n",
      "Meanwhile the Sentinels have arrived to attack the Nebuchadnezzar; there are five of them and they are closing fast.\r\n",
      "\r\n",
      "Morpheus tells Tank to charge the EMP. Trinity reminds Morpheus that they can't use the EMP while Neo is in the Matrix.\r\n",
      "\r\n",
      "\"I know, Trinity, don't worry,\" says Morpheus, \"He's going to make it.\"\r\n",
      "\r\n",
      "Back in the streets of the Matrix, Neo swipes a cell phone from a nearby suit. He calls Tank: \"Mr. Wizard, get me the hell out of here.\" He races through a crowded market while Agents appropriate bodies right and left. They force Neo down a dark alley. He kicks in a door and rushes through an apartment complex where the Agents appropriate more bodies, including that of a sweet little old lady who throws a knife at Neo as Agent Smith. Neo leaps down into a pile of garbage with the Agents in hot pursuit.\r\n",
      "\r\n",
      "On the Nebuchadnezzar the Sentinels have arrived. They begin to tear the ship apart.\r\n",
      "\r\n",
      "In the Matrix, Neo arrives back at the Heart O' the City Hotel. Tank tells him to go to room 303. The Agents are literally at his heels.\r\n",
      "\r\n",
      "The Sentinels breach the hull of the ship. They are inside. Trinity, standing next to Neo's body in the chair, begs him to hurry.\r\n",
      "\r\n",
      "Neo reaches room 303 and enters. He's immediately shot, point blank in the gut, by Agent Smith. Smith empties his magazine into Neo's body. Neo slumps to the floor, dead.\r\n",
      "\r\n",
      "On the ship Neo's vital signs drop to nothing. \"It can't be,\" says Morpheus.\r\n",
      "\r\n",
      "Agent Smith instructs the others to check Neo. \"He's gone,\" one replies. \"Good-bye, Mr. Anderson,\" says Smith.\r\n",
      "\r\n",
      "The Sentinels' lasers are beginning to cut through the major parts of the hovercraft. Trinity leans over his dead body.\r\n",
      "\r\n",
      "\"Neo,\" she says, \"I'm not afraid anymore. The Oracle told me that I would fall in love and that that man... the man that I loved would be the One. So you see, you can't be dead. You can't be... because I love you. You hear me? I love you.\" She kisses him. In the chair Neo suddenly breathes. In the Matrix, Neo opens his eyes. \"Now get up,\" orders Trinity.\r\n",
      "\r\n",
      "The Agents hear Neo rise behind them and they open fire. \"No,\" Neo says calmly, raising his hands. He stops their bullets in mid-air. They drop harmlessly to the floor.\r\n",
      "\r\n",
      "\"What's happening?\" asks Tank. \"He is the One,\" says Morpheus.\r\n",
      "\r\n",
      "Back in the Matrix, Neo can see things for what they really are, green cascading code.\r\n",
      "\r\n",
      "Agent Smith is furious. He runs to Neo and attacks him. Neo blocks Smith's blows effortlessly before he sends Smith flying with one well-placed kick. Neo then leaps into Smith's body and appropriates him. Smith's shell explodes in a sea of code and Neo is all that is left, the walls buckling in waves as they did when the helicopter crashed. Agents Brown and Jones look at one another and run away.\r\n",
      "\r\n",
      "The Sentinels are now fully in the ship. They are right above Trinity and Morpheus.\r\n",
      "\r\n",
      "Back in the Matrix Neo sprints to the ringing phone in the room.\r\n",
      "\r\n",
      "Morpheus has no choice but to engage the EMP. He does and the Sentinels fall inert to the floor.\r\n",
      "\r\n",
      "Neo has made it back. He kisses Trinity.\r\n",
      "\r\n",
      "The screen is black. A command prompt appears: \"Call trans opt: received. 9-18-99 14:32:21 REC: Log>\" then \"Carrier anomaly\" \"Trace program: running\" As the grid of numbers appears again a warning appears \"System Failure.\" Over it all is Neo's voice:\r\n",
      "\r\n",
      "\"I know you're out there. I can feel you now. I know that you're afraid... you're afraid of us. You're afraid of change. I don't know the future. I didn't come here to tell you how this is going to end. I came here to tell you how it's going to begin. I'm going to hang up this phone, and then I'm going to show these people what you don't want them to see. I'm going to show them a world without you. A world without rules and controls, without borders or boundaries. A world where anything is possible. Where we go from there is a choice I leave to you.\"\r\n",
      "\r\n",
      "In the Matrix world, Neo hangs up the phone. He looks at the mindless masses around him, puts on his glasses and then looks up. From high above the city we see him take flight. The story is picked up in The Matrix Reloaded, the second of three Matrix movies.\r\n",
      "\r\n",
      "\n"
     ]
    }
   ],
   "source": [
    "print(text)"
   ]
  },
  {
   "cell_type": "code",
   "execution_count": 17,
   "metadata": {},
   "outputs": [],
   "source": [
    "sentence_embeddings = np.stack(\n",
    "    centroid_word_embedding_summarizer.compose_vectors(sentence.split())\n",
    "    for sentence in preprocessed_text\n",
    ")"
   ]
  },
  {
   "cell_type": "code",
   "execution_count": 18,
   "metadata": {},
   "outputs": [
    {
     "data": {
      "text/plain": [
       "(461, 50)"
      ]
     },
     "execution_count": 18,
     "metadata": {},
     "output_type": "execute_result"
    }
   ],
   "source": [
    "sentence_embeddings.shape"
   ]
  },
  {
   "cell_type": "code",
   "execution_count": 19,
   "metadata": {},
   "outputs": [
    {
     "name": "stderr",
     "output_type": "stream",
     "text": [
      "/home/kuba/anaconda3/lib/python3.6/site-packages/numpy/core/_methods.py:116: RuntimeWarning: overflow encountered in multiply\n",
      "  x = um.multiply(x, x, out=x)\n"
     ]
    }
   ],
   "source": [
    "reducer = PCA(n_components=2)\n",
    "scaler = StandardScaler()\n",
    "\n",
    "embeddings = reducer.fit_transform(scaler.fit_transform(sentence_embeddings))"
   ]
  },
  {
   "cell_type": "code",
   "execution_count": 20,
   "metadata": {},
   "outputs": [],
   "source": [
    "centroid_words = centroid_word_embedding_summarizer.get_topic_idf(preprocessed_text)"
   ]
  },
  {
   "cell_type": "code",
   "execution_count": 21,
   "metadata": {},
   "outputs": [],
   "source": [
    "datasource = pd.DataFrame({'x': embeddings[:, 0], 'y': embeddings[:, 1], 'text': preprocessed_text})"
   ]
  },
  {
   "cell_type": "code",
   "execution_count": 22,
   "metadata": {},
   "outputs": [],
   "source": [
    "centroid_embedding = reducer.transform(centroid_word_embedding_summarizer.compose_vectors(centroid_words).reshape(1, -1))[0]"
   ]
  },
  {
   "cell_type": "code",
   "execution_count": 23,
   "metadata": {},
   "outputs": [
    {
     "name": "stderr",
     "output_type": "stream",
     "text": [
      "/home/kuba/anaconda3/lib/python3.6/site-packages/bokeh/core/json_encoder.py:80: FutureWarning: Conversion of the second argument of issubdtype from `float` to `np.floating` is deprecated. In future, it will be treated as `np.float64 == np.dtype(float).type`.\n",
      "  elif np.issubdtype(type(obj), np.float):\n"
     ]
    },
    {
     "data": {
      "text/html": [
       "\n",
       "<div class=\"bk-root\">\n",
       "    <div class=\"bk-plotdiv\" id=\"ec5b4aa8-115b-44f5-95e1-385d9dafddd3\"></div>\n",
       "</div>"
      ]
     },
     "metadata": {},
     "output_type": "display_data"
    },
    {
     "data": {
      "application/javascript": [
       "(function(root) {\n",
       "  function embed_document(root) {\n",
       "    \n",
       "  var docs_json = {\"5f389d17-fd59-4668-a0f0-0421bd6337dc\":{\"roots\":{\"references\":[{\"attributes\":{\"data_source\":{\"id\":\"64fd1f3f-b6f1-492a-a120-83b5d74c609e\",\"type\":\"ColumnDataSource\"},\"glyph\":{\"id\":\"f4e591a4-a9b8-4cd3-8be5-8136476f7e41\",\"type\":\"Circle\"},\"hover_glyph\":null,\"muted_glyph\":null,\"nonselection_glyph\":{\"id\":\"43eb7155-3842-4c01-932f-4cfc145fb2a2\",\"type\":\"Circle\"},\"selection_glyph\":null,\"view\":{\"id\":\"81c62fc8-ccfe-4371-81bb-dcf0d2a6bcbc\",\"type\":\"CDSView\"}},\"id\":\"b11bcff6-27f2-403e-84f6-3910d885332a\",\"type\":\"GlyphRenderer\"},{\"attributes\":{},\"id\":\"728bab69-ecfd-48c3-87a1-7f443808b1cf\",\"type\":\"BasicTickFormatter\"},{\"attributes\":{},\"id\":\"a57a8fa9-a3a4-4df1-a3bc-f8fab03fdfda\",\"type\":\"LinearScale\"},{\"attributes\":{\"callback\":null},\"id\":\"ca73ef92-ea8a-4e82-92e6-4f8c1e027df0\",\"type\":\"DataRange1d\"},{\"attributes\":{\"source\":{\"id\":\"338aca93-9019-49d5-a55f-024358fed8d2\",\"type\":\"ColumnDataSource\"}},\"id\":\"96593f50-288d-40b4-a90b-70fb1e50f72b\",\"type\":\"CDSView\"},{\"attributes\":{},\"id\":\"b059e50b-a3a9-4a75-bda2-cfb520e3906c\",\"type\":\"LinearScale\"},{\"attributes\":{\"formatter\":{\"id\":\"728bab69-ecfd-48c3-87a1-7f443808b1cf\",\"type\":\"BasicTickFormatter\"},\"plot\":{\"id\":\"1fcd9a26-2491-48df-9c09-a57c62df584d\",\"subtype\":\"Figure\",\"type\":\"Plot\"},\"ticker\":{\"id\":\"f8a7a89d-6a52-4d59-86df-a06052c2fd19\",\"type\":\"BasicTicker\"}},\"id\":\"ca5f9288-c267-4cab-a72c-e3b81985597e\",\"type\":\"LinearAxis\"},{\"attributes\":{},\"id\":\"f8a7a89d-6a52-4d59-86df-a06052c2fd19\",\"type\":\"BasicTicker\"},{\"attributes\":{\"plot\":{\"id\":\"1fcd9a26-2491-48df-9c09-a57c62df584d\",\"subtype\":\"Figure\",\"type\":\"Plot\"},\"ticker\":{\"id\":\"f8a7a89d-6a52-4d59-86df-a06052c2fd19\",\"type\":\"BasicTicker\"}},\"id\":\"5adf6b6f-f839-4363-bc72-f27360750625\",\"type\":\"Grid\"},{\"attributes\":{\"active_drag\":\"auto\",\"active_inspect\":\"auto\",\"active_scroll\":\"auto\",\"active_tap\":\"auto\",\"tools\":[{\"id\":\"745c984c-337a-4aa4-b797-6c85ef38ffeb\",\"type\":\"PanTool\"},{\"id\":\"6a44c4a8-f82a-49f5-9e5a-c64e9f89081f\",\"type\":\"WheelZoomTool\"},{\"id\":\"18447c67-1a50-4cdc-896c-5538e6ba60d8\",\"type\":\"BoxZoomTool\"},{\"id\":\"13101aeb-3747-4e37-9d94-dbc7c5332768\",\"type\":\"SaveTool\"},{\"id\":\"d2913dcc-76c3-4a38-b5c1-f1fe3d64c265\",\"type\":\"ResetTool\"},{\"id\":\"1c7c7c24-21ec-48b6-be1e-4d40687522e5\",\"type\":\"HelpTool\"}]},\"id\":\"fd6ea6a1-b2ab-484e-9644-57696ef44beb\",\"type\":\"Toolbar\"},{\"attributes\":{\"formatter\":{\"id\":\"dcfceb15-ea7f-4b2e-8b5f-aee153150fdb\",\"type\":\"BasicTickFormatter\"},\"plot\":{\"id\":\"1fcd9a26-2491-48df-9c09-a57c62df584d\",\"subtype\":\"Figure\",\"type\":\"Plot\"},\"ticker\":{\"id\":\"99640e8d-fc99-47e0-afe4-3a2210c253dc\",\"type\":\"BasicTicker\"}},\"id\":\"86ec0b41-79d2-43ad-9f02-c79c26cb99b3\",\"type\":\"LinearAxis\"},{\"attributes\":{\"plot\":null,\"text\":\"title\"},\"id\":\"c09c6170-edf7-4e42-acd7-4c78eb1e9fbb\",\"type\":\"Title\"},{\"attributes\":{},\"id\":\"99640e8d-fc99-47e0-afe4-3a2210c253dc\",\"type\":\"BasicTicker\"},{\"attributes\":{\"dimension\":1,\"plot\":{\"id\":\"1fcd9a26-2491-48df-9c09-a57c62df584d\",\"subtype\":\"Figure\",\"type\":\"Plot\"},\"ticker\":{\"id\":\"99640e8d-fc99-47e0-afe4-3a2210c253dc\",\"type\":\"BasicTicker\"}},\"id\":\"6f51621a-e644-4675-aa3f-052bcab99791\",\"type\":\"Grid\"},{\"attributes\":{\"fill_alpha\":{\"value\":0.8},\"fill_color\":{\"value\":\"blue\"},\"size\":{\"units\":\"screen\",\"value\":12},\"x\":{\"field\":\"x\"},\"y\":{\"field\":\"y\"}},\"id\":\"f4e591a4-a9b8-4cd3-8be5-8136476f7e41\",\"type\":\"Circle\"},{\"attributes\":{\"bottom_units\":\"screen\",\"fill_alpha\":{\"value\":0.5},\"fill_color\":{\"value\":\"lightgrey\"},\"left_units\":\"screen\",\"level\":\"overlay\",\"line_alpha\":{\"value\":1.0},\"line_color\":{\"value\":\"black\"},\"line_dash\":[4,4],\"line_width\":{\"value\":2},\"plot\":null,\"render_mode\":\"css\",\"right_units\":\"screen\",\"top_units\":\"screen\"},\"id\":\"4508e3d6-1ad9-4ba1-bb3c-6e200f801021\",\"type\":\"BoxAnnotation\"},{\"attributes\":{},\"id\":\"dcfceb15-ea7f-4b2e-8b5f-aee153150fdb\",\"type\":\"BasicTickFormatter\"},{\"attributes\":{\"source\":{\"id\":\"64fd1f3f-b6f1-492a-a120-83b5d74c609e\",\"type\":\"ColumnDataSource\"}},\"id\":\"81c62fc8-ccfe-4371-81bb-dcf0d2a6bcbc\",\"type\":\"CDSView\"},{\"attributes\":{\"below\":[{\"id\":\"ca5f9288-c267-4cab-a72c-e3b81985597e\",\"type\":\"LinearAxis\"}],\"left\":[{\"id\":\"86ec0b41-79d2-43ad-9f02-c79c26cb99b3\",\"type\":\"LinearAxis\"}],\"renderers\":[{\"id\":\"ca5f9288-c267-4cab-a72c-e3b81985597e\",\"type\":\"LinearAxis\"},{\"id\":\"5adf6b6f-f839-4363-bc72-f27360750625\",\"type\":\"Grid\"},{\"id\":\"86ec0b41-79d2-43ad-9f02-c79c26cb99b3\",\"type\":\"LinearAxis\"},{\"id\":\"6f51621a-e644-4675-aa3f-052bcab99791\",\"type\":\"Grid\"},{\"id\":\"4508e3d6-1ad9-4ba1-bb3c-6e200f801021\",\"type\":\"BoxAnnotation\"},{\"id\":\"b11bcff6-27f2-403e-84f6-3910d885332a\",\"type\":\"GlyphRenderer\"},{\"id\":\"785f74d5-0048-4282-aead-8cd154b2fda0\",\"type\":\"GlyphRenderer\"},{\"id\":\"f5bb6ade-c4ea-4823-9ca3-28427c16c880\",\"type\":\"LabelSet\"}],\"title\":{\"id\":\"c09c6170-edf7-4e42-acd7-4c78eb1e9fbb\",\"type\":\"Title\"},\"toolbar\":{\"id\":\"fd6ea6a1-b2ab-484e-9644-57696ef44beb\",\"type\":\"Toolbar\"},\"toolbar_location\":\"above\",\"x_range\":{\"id\":\"0ccf836e-8c95-4748-98c4-c82d653e3f8c\",\"type\":\"DataRange1d\"},\"x_scale\":{\"id\":\"a57a8fa9-a3a4-4df1-a3bc-f8fab03fdfda\",\"type\":\"LinearScale\"},\"y_range\":{\"id\":\"ca73ef92-ea8a-4e82-92e6-4f8c1e027df0\",\"type\":\"DataRange1d\"},\"y_scale\":{\"id\":\"b059e50b-a3a9-4a75-bda2-cfb520e3906c\",\"type\":\"LinearScale\"}},\"id\":\"1fcd9a26-2491-48df-9c09-a57c62df584d\",\"subtype\":\"Figure\",\"type\":\"Plot\"},{\"attributes\":{},\"id\":\"745c984c-337a-4aa4-b797-6c85ef38ffeb\",\"type\":\"PanTool\"},{\"attributes\":{\"callback\":null,\"data\":{}},\"id\":\"338aca93-9019-49d5-a55f-024358fed8d2\",\"type\":\"ColumnDataSource\"},{\"attributes\":{},\"id\":\"6a44c4a8-f82a-49f5-9e5a-c64e9f89081f\",\"type\":\"WheelZoomTool\"},{\"attributes\":{\"overlay\":{\"id\":\"4508e3d6-1ad9-4ba1-bb3c-6e200f801021\",\"type\":\"BoxAnnotation\"}},\"id\":\"18447c67-1a50-4cdc-896c-5538e6ba60d8\",\"type\":\"BoxZoomTool\"},{\"attributes\":{},\"id\":\"13101aeb-3747-4e37-9d94-dbc7c5332768\",\"type\":\"SaveTool\"},{\"attributes\":{},\"id\":\"d2913dcc-76c3-4a38-b5c1-f1fe3d64c265\",\"type\":\"ResetTool\"},{\"attributes\":{},\"id\":\"1c7c7c24-21ec-48b6-be1e-4d40687522e5\",\"type\":\"HelpTool\"},{\"attributes\":{\"fill_alpha\":{\"value\":0.1},\"fill_color\":{\"value\":\"#1f77b4\"},\"line_alpha\":{\"value\":0.1},\"line_color\":{\"value\":\"#1f77b4\"},\"size\":{\"units\":\"screen\",\"value\":15},\"x\":{\"value\":2.4268123524961993e-05},\"y\":{\"value\":-4.784855627804063e-05}},\"id\":\"ce12fc8d-eb19-4299-8114-5fa2faee9d87\",\"type\":\"Circle\"},{\"attributes\":{\"fill_alpha\":{\"value\":0.1},\"fill_color\":{\"value\":\"#1f77b4\"},\"line_alpha\":{\"value\":0.1},\"line_color\":{\"value\":\"#1f77b4\"},\"size\":{\"units\":\"screen\",\"value\":12},\"x\":{\"field\":\"x\"},\"y\":{\"field\":\"y\"}},\"id\":\"43eb7155-3842-4c01-932f-4cfc145fb2a2\",\"type\":\"Circle\"},{\"attributes\":{\"callback\":null},\"id\":\"0ccf836e-8c95-4748-98c4-c82d653e3f8c\",\"type\":\"DataRange1d\"},{\"attributes\":{\"fill_color\":{\"value\":\"red\"},\"line_color\":{\"value\":\"red\"},\"size\":{\"units\":\"screen\",\"value\":15},\"x\":{\"value\":2.4268123524961993e-05},\"y\":{\"value\":-4.784855627804063e-05}},\"id\":\"01082c17-550e-4e6d-84e6-2c424824c461\",\"type\":\"Circle\"},{\"attributes\":{\"data_source\":{\"id\":\"338aca93-9019-49d5-a55f-024358fed8d2\",\"type\":\"ColumnDataSource\"},\"glyph\":{\"id\":\"01082c17-550e-4e6d-84e6-2c424824c461\",\"type\":\"Circle\"},\"hover_glyph\":null,\"muted_glyph\":null,\"nonselection_glyph\":{\"id\":\"ce12fc8d-eb19-4299-8114-5fa2faee9d87\",\"type\":\"Circle\"},\"selection_glyph\":null,\"view\":{\"id\":\"96593f50-288d-40b4-a90b-70fb1e50f72b\",\"type\":\"CDSView\"}},\"id\":\"785f74d5-0048-4282-aead-8cd154b2fda0\",\"type\":\"GlyphRenderer\"},{\"attributes\":{\"callback\":null,\"column_names\":[\"text\",\"x\",\"y\",\"index\"],\"data\":{\"index\":[0,1,2,3,4,5,6,7,8,9,10,11,12,13,14,15,16,17,18,19,20,21,22,23,24,25,26,27,28,29,30,31,32,33,34,35,36,37,38,39,40,41,42,43,44,45,46,47,48,49,50,51,52,53,54,55,56,57,58,59,60,61,62,63,64,65,66,67,68,69,70,71,72,73,74,75,76,77,78,79,80,81,82,83,84,85,86,87,88,89,90,91,92,93,94,95,96,97,98,99,100,101,102,103,104,105,106,107,108,109,110,111,112,113,114,115,116,117,118,119,120,121,122,123,124,125,126,127,128,129,130,131,132,133,134,135,136,137,138,139,140,141,142,143,144,145,146,147,148,149,150,151,152,153,154,155,156,157,158,159,160,161,162,163,164,165,166,167,168,169,170,171,172,173,174,175,176,177,178,179,180,181,182,183,184,185,186,187,188,189,190,191,192,193,194,195,196,197,198,199,200,201,202,203,204,205,206,207,208,209,210,211,212,213,214,215,216,217,218,219,220,221,222,223,224,225,226,227,228,229,230,231,232,233,234,235,236,237,238,239,240,241,242,243,244,245,246,247,248,249,250,251,252,253,254,255,256,257,258,259,260,261,262,263,264,265,266,267,268,269,270,271,272,273,274,275,276,277,278,279,280,281,282,283,284,285,286,287,288,289,290,291,292,293,294,295,296,297,298,299,300,301,302,303,304,305,306,307,308,309,310,311,312,313,314,315,316,317,318,319,320,321,322,323,324,325,326,327,328,329,330,331,332,333,334,335,336,337,338,339,340,341,342,343,344,345,346,347,348,349,350,351,352,353,354,355,356,357,358,359,360,361,362,363,364,365,366,367,368,369,370,371,372,373,374,375,376,377,378,379,380,381,382,383,384,385,386,387,388,389,390,391,392,393,394,395,396,397,398,399,400,401,402,403,404,405,406,407,408,409,410,411,412,413,414,415,416,417,418,419,420,421,422,423,424,425,426,427,428,429,430,431,432,433,434,435,436,437,438,439,440,441,442,443,444,445,446,447,448,449,450,451,452,453,454,455,456,457,458,459,460],\"text\":[\"the screen is filled with green cascading code which gives way to the title the matrix\",\"a phone rings and text appears on the screen call trans opt received\",\"2-19-98 13:24:18 rec log as a conversation takes place between trinity carrie-anne moss and cypher joe pantoliano two free humans a table of random green numbers are being scanned and individual numbers selected creating a series of digits not unlike an ordinary phone number as if a code is being deciphered or a call is being traced\",\"trinity discusses some unknown person\",\"cypher taunts trinity suggesting she enjoys watching him\",\"trinity counters that morpheus laurence fishburne says he may be 'the one just as the sound of a number being selected alerts trinity that someone may be tracing their call\",\"she ends the call\",\"armed policemen move down a darkened decrepit hallway in the heart o the city hotel their flashlight beam bouncing just ahead of them\",\"they come to room 303 kick down the door and find a woman dressed in black facing away from them\",\"it trinity\",\"she brings her hands up from the laptop she working on at their command\",\"outside the hotel a car drives up and three agents appear in neatly pressed black suits\",\"they are agent smith hugo weaving agent brown paul goddard and agent jones robert taylor\",\"agent smith and the presiding police lieutenant argue\",\"agent smith admonishes the policeman that they were given specific orders to contact the agents first for their protection\",\"the lieutenant dismisses this and says that they can handle one little girl and that he has two units that are bringing her down at that very moment\",\"agent smith replies no lieutenant\",\"your men are already dead\",\"inside trinity easily defeats the six policemen sent to apprehend her using fighting and evasion techniques that seem to defy gravity\",\"she calls morpheus letting him know that the line has been traced though she does n't know how\",\"morpheus informs her that she will have to make it to another exit and that agents are heading up after her\",\"a fierce rooftop chase ensues with trinity and an agent leaping from one building to the next astonishing the policemen left behind\",\"trinity makes a daring leap across an alley and through a small window\",\"she has momentarily lost her pursuers and makes it to a public phone booth on the street level\",\"the phone begins to ring\",\"as she approaches it a garbage truck driven by agent smith careens towards the phone booth\",\"trinity makes a desperate dash to the phone picking it up just moments before the truck smashes the booth into a brick wall\",\"the three agents reunite at the front of the truck\",\"there is no body in the wreckage\",\"she got out one says\",\"the other says the informant is real\",\"we have the name of their next target says the other his name is neo\",\"neo keanu reeves a hacker with thick black hair and a sallow appearance is asleep at his monitor\",\"notices about a manhunt for a man named morpheus scroll across his screen as he sleeps\",\"suddenly neo screen goes blank and a series of text messages appear wake up neo\",\"the matrix has you\",\"follow the white rabbit\",\"then the text says knock knock neo ... just as he reads it a knock comes at the door of his apartment 101\",\"it a group of ravers and neo gives them a contraband disc he has secreted in a copy of simulacra and simulation\",\"the lead raver asks him to join them and neo demurs until he sees the tattoo of a small white rabbit on the shoulder of a seductive girl in the group\",\"at a rave bar neo stands alone and aloof as the group he with continue partying\",\"trinity approaches him and introduces herself\",\"neo recognizes her name she was a famous hacker and had cracked the irs database\",\"she tells him that he is in great danger that they are watching him and that she knows that he is searching for answers particularly to the most important question of all what is the matrix\",\"the pulsing music of the bar gives way to the repetitious blare of neo alarm clock it 9:18 and he late for work\",\"at his job at metacortex a leading software company housed in an ominous high rise neo is berated by his boss for having a problem with authority for thinking he special\",\"neo listens to his boss but his attention is on the persons cleaning the window of the office\",\"back at his bleak cubicle neo receives a delivery as thomas anderson\",\"upon opening the package he finds a cellphone which immediately rings\",\"on the other end is morpheus who informs neo that they 've both run out of time and that they are coming for him\",\"morpheus tells him to slowly look up toward the elevator\",\"agents smith jones and brown are there obviously looking for him as a woman points towards neo cube\",\"morpheus tries to guide neo out of the building but when he is instructed to get on a scaffolding and take it to the roof neo rejects morpheus advice allowing himself to be taken by the agents\",\"in an interrogation room the agents confront neo\",\"they 've had their eye on him for some time\",\"he lives a dual existence one life as thomas a. anderson a software engineer for a metacortex the other life as neo a computer hacker guilty of virtually every computer crime we have a law for\",\"agent smith asks him to help them capture morpheus a dangerous terrorist in exchange for amnesty\",\"neo gives them the finger and asks for his phone call\",\"mr. smith asks what good is a phone call if he unable to speak\",\"neo finds that his lips have fused together\",\"panicked he is thrown on the interrogation table by the agents and they implant a shrimp-like probe a bug in his stomach entering through his belly-button\",\"neo awakens with a start in his own bed assuming it has all been a bad dream\",\"his phone rings and morpheus is on the other line\",\"he tells neo that the line is tapped but they 've underestimated his importance\",\"morpheus tells neo he is the one and to meet him at the adams st. bridge\",\"there he is picked up by trinity and two others in a car they all wear black latex and leather\",\"a woman in the front seat switch belinda mcclory pulls a gun on him and tells him to take off his shirt\",\"trinity tells him it for their mutual protection and that he has to trust her\",\"he takes off his shirt and she uses a device to remove the probe that neo believed had been part of a nightmare\",\"trinity drops the bug out into the road where it slowly goes dark in the rain\",\"trinity takes neo to morpheus\",\"morpheus explains that he been searching for neo his entire life and asks if neo feels like alice in wonderland falling down the rabbit hole\",\"he explains to neo that they exist in the matrix a false reality that has been constructed for humans to hide the truth\",\"the truth is that everyone in the world is a slave born into bondage\",\"morpheus holds out two pills\",\"in his left palm is a blue pill\",\"if neo takes it he will wake up in his bed and believe whatever you want to believe\",\"but if he takes the red pill in morpheus right hand then you stay in wonderland and i show you how deep the rabbit hole goes\",\"neo takes the red pill\",\"as the rest of morpheus crew straps him into a chair neo is told that pill he took is part of a trace program to disrupt his input/output carrier signal so that they can pinpoint him\",\"neo looks at a shattered mirror placed next to him which miraculously reforms itself\",\"neo touches the surface and the silver begins to creep over his skin engulfing him as morpheus crew attempt to locate something on the monitors around them\",\"the silver takes neo over and he blacks out\",\"he awakens inside a pinkish/purple embryonic pod extending from the side of a circular building a massive power plant\",\"he is hairless and naked with thick black tubes snaking down his throat plugged into the back of his skull his spine and invading most of the rest of his body\",\"he finds his pod is open and that he is surrounded by tower after tower of pods just like his all filled with bodies\",\"suddenly a menacing hovering nurse robot grabs him by the throat\",\"the tubes detach and neo is flushed down a tube into an underground pool of filthy water\",\"just as he about to drown in the muck a hovercraft appears above him snags him and hauls him into its cargo bay\",\"neo finds himself surrounded by morpheus crew again but they are dressed differently in simple knit garments\",\"just before neo passes out morpheus says to him welcome to the real world\",\"neo drifts in and out of consciousness\",\"at one point he asks am i dead\",\"far from it replies morpheus\",\"again he wakes his body a pincushion of acupuncture\",\"why do my eyes hurt\",\"you 've never used them morpheus replies\",\"neo finally wakes fully clothed with a short shock of hair on his head\",\"he removes a connector that is sunk deep into his arm and reaches to find the large socket at the back of his neck when morpheus enters the room\",\"what is this place\",\"the more important question is when says morpheus you believe it is the year 1999 when in fact it is closer to the year 2199\",\"morpheus goes on to say that they really do n't know when it is\",\"he gives neo a tour of his ship the nebuchadnezzar they pass a plaque stating it was built in 2069\",\"neo is introduced to morpheus crew including trinity apoc julian arahanga a man with long flowing black hair switch cypher bald with a goatee two brawny brothers tank marcus chong and dozer anthony ray parker and a young thin man named mouse matt doran\",\"morpheus gets to the point\",\"you wanted to know about the matrix he says ushering him to a chair\",\"neo sits down in it and trinity straps him in\",\"a long probe is inserted into the socket at the back of neo skull\",\"neo wakes in a world of all white\",\"he is in the construct a loading platform that morpheus and his team use to prepare newly freed humans to deal with the matrix world\",\"gone are the sockets in neo arms and neck\",\"he has hair again\",\"morpheus tells him that what he is experiencing of himself is the residual self image the mental projection of your digital self and bids him to sit while he explains the truth\",\"this he says showing an image of a modern city is the world that you know\",\"a thing that really exists only as part of a neural interactive simulation that we call the matrix\",\"morpheus then shows neo the world as it truly exists today a scarred desolate emptiness with charred abandoned buildings black earth and a shrouded sky\",\"morpheus goes on to say that at some point in the early 21st century all of mankind was united in celebration as we gave birth to artificial intelligence a singular consciousness that birthed an entire race of machines\",\"someone started a war and no one knows who but it was known that it was mankind who blotted out the sky attempting to deprive the machines of the solar power they required to function\",\"instead the machines turned to humans as a power source mopheus explains that a human body provides more electricity than a 120 volt battery and over 25k btus in body heat\",\"morpheus shows neo fields where machines grow human beings connecting them to their outlets ensconcing them in their pods and feeding them with the liquefied remains of other human beings\",\"the matrix says morpheus is a computer-generated dreamworld created to keep us under control to turn us ... into a mere power source into coppertop batteries\",\"neo rejects this information so feverishly that he pulls himself out of the construct\",\"he is back in the chair on the hovercraft\",\"he fights to free himself from this harsh reality only to end up vomiting on the floor and passing out\",\"when neo wakes up in his bunk morpheus is beside him\",\"i ca n't go back can i\",\"no says morpheus\",\"he apologizes to neo for breaking a cardinal rule after a certain age people are n't brought out of their simulacrum but morpheus explains he had to bring neo out\",\"when the matrix was created there was a man born inside it who could create his own reality inside it\",\"it was this man who set morpheus and the others free\",\"when he died the oracle gloria foster prophesied that he would return in another form\",\"and that the return of the one would mean the destruction of the matrix\",\"as long as the matrix exists humanity will continue to live in complacency inside it and the world can never be free\",\"i did what i did because i believe that search is over says morpheus\",\"the next day neo starts his training\",\"tank is his operator\",\"tank and his brother dozer are 100 pure old-fashioned homegrown human\",\"born in the real world a genuine child of zion\",\"zion tank explains is the last human city buried deep in the earth near the core for warmth\",\"tank straps neo back into the jack-in chair by-passes some preliminary programs and loads him up with combat training starting with jiu jitsu\",\"when tank hits load neo is shocked by the force of the knowledge pouring into him\",\"i think he likes it says tank want some more\",\"hell yes replies neo\",\"neo is fed a series of martial arts techniques including kempo tae kwon do drunken boxing and kung fu\",\"morpheus and tank are amazed at neo ability to ingest information but morpheus wants to test neo\",\"morpheus and neo stand in a sparring program\",\"the program has rules like gravity\",\"but as in many computer programs some rules can be bent while others can be broken\",\"morpheus bids neo to hit him if he can\",\"they fight with neo impressively attacking but morpheus easily parrying and subduing him\",\"the rest of the crew gathers around the monitors to watch the fight\",\"morpheus ends up kicking neo into a beam explaining to him that the reason he has beaten him has nothing to do with muscles or reality\",\"they spar again\",\"what are you waiting for\",\"morpheus asks him\",\"you 're faster than this\",\"neo finally brings a punch near his teacher face\",\"they can move on\",\"a jump program is loaded\",\"both men now stand on one of several tall buildings in a normal city skyline\",\"morpheus tells neo he must free his mind and leaps from one building to the next\",\"neo nervously tries to follow him and does n't make the jump falling to the pavement below\",\"neo wakes back in the nebudchanezzar with blood in his mouth\",\"i thought it was n't real he says\",\"your mind makes it real replies morpheus\",\"so if you die in the matrix you die here\",\"the body can not live without the mind says morpheus underlining the very real danger faced in the simulation\",\"later trinity brings neo dinner\",\"outside his room cypher remarks that trinity never brought him dinner\",\"he asks trinity why if morpheus thinks neo is the one he has n't taken him to see the oracle yet\",\"trinity says he 'll take him when he ready\",\"morpheus and neo are walking down a standard city street in what appears to be the matrix\",\"morpheus explains that the matrix is a system and that the system is their enemy\",\"all the people that inhabit it the people they are trying to free are part of that system\",\"some are so inert so dependent upon the matrix that they can never be free\",\"neo notices a stunning girl in a red dress\",\"are you listening to me\",\"asks morpheus\",\"he asks neo to look at the girl again\",\"neo turns to face agent smith pointing a gun straight at his head\",\"morpheus stops the simulation which has just been created to look like the matrix\",\"neo asks what the agents are\",\"sentient programs says morpheus that can move in and out of any software hard-wired into their system meaning that they can take over anyone in the matrix program\",\"inside the matrix morpheus says they are everyone and they are no one\",\"thus morpheus and his crew survive the agents by running from them and hiding from the agents even though they are guarding all the doors\",\"they are holding all the keys and sooner or later someone is going to have to fight them\",\"but no one who has ever stood up to an agent has survived all have died\",\"still morpheus is certain that because the agents live in a world of rules that they can never be as strong never be as fast as he can be\",\"what are you trying to tell me asks neo that i can dodge bullets\",\"when you 're ready morpheus says you wo n't have to\",\"just then morpheus gets a phone call\",\"we 've got trouble cypher says on the other line\",\"the nebuchadnezzar is on alert\",\"they see the holographic image of a squiddy a search and destroy sentinel which is on their trail\",\"they set the ship down in a huge sewer system and turn off the power\",\"tank stands at the ready switch of an emp electro-magnetic pulse the only weapon man has against the machines in the real world\",\"two squiddies search for the ship -- the crew can see them -- but they move on\",\"neo startles cypher who is working at a computer console streaming with green code\",\"cypher offers neo a drink and says that he knows what neo is thinking why oh why did n't i take the blue pill\",\"neo laughs but is unsettled\",\"cypher asks neo if morpheus has told him why he here\",\"what a mind job says cypher so you 're here to save the world\",\"cypher is now in a fancy restaurant with agent smith in the matrix\",\"agent smith asks if they have a deal\",\"cypher cuts up a juicy steak and ruminates that he knows the steak is merely the simulation telling his brain that it is delicious and juicy but after nine years he has discovered that ignorance is bliss\",\"he strikes a deal for the machines to reinsert his body into a power plant reinsert him into the matrix and he 'll help the agents\",\"he wants to be rich and powerful an actor maybe\",\"smith says he wants access codes to the mainframe in zion\",\"cypher says he ca n't do that but that he can get him the man who does meaning morpheus\",\"meanwhile inside the nebuchadnezzar small dining room in the real world the rest of the crew is trying to choke down the oatmeal-gruel that they have as sustenance\",\"mouse muses on the mistakes the machines may have made trying to get sensations right like the taste of chicken\",\"since they did n't know what it tasted like they let everything taste like it\",\"morpheus interrupts the meal announcing that he taking neo to see the oracle\",\"morpheus trinity neo apoc switch mouse and cypher are jacked into the matrix\",\"as they walk out of a warehouse cypher secretly throws his cell phone into the garbage\",\"on the car ride to the oracle neo asks trinity if she has seen the oracle\",\"trinity says that she has but when she asked just what she was told by the oracle she refuses to answer\",\"the oracle morpheus explains has been with them since the beginning of the resistance\",\"she is the one who made the prophecy of the one and that morpheus would be the one to find him\",\"she can help neo find the path he says\",\"he enters the apartment of the oracle\",\"inside are the other potentials a mother figure and numerous children\",\"one child levitates blocks one reads asian literature another is playing chess\",\"one bald child is bending spoons\",\"he gives one spoon to neo and says do not try and bend the spoon that impossible\",\"instead only try to realize the truth ... that there is no spoon\",\"neo bends the spoon as he called in to see the oracle\",\"the oracle is baking cookies\",\"she sizes neo up and asks him whether he thinks he is the one\",\"neo admits that he does not know and the oracle does not enlighten him\",\"neo smiles and the oracle asks him what is funny\",\"neo admits that morpheus had almost convinced him that he was the one\",\"she accepts this and prophesies that morpheus believes in neo so much that he plans to sacrifice himself\",\"she tells neo that either he or morpheus will die and that neo will have the power to choose which one it will be\",\"she then offers him a cookie and promises him that he will feel fine as soon as he done eating it\",\"as the crew returns to their jack point many floors up in an old hotel tank in the control room notices something odd\",\"meanwhile neo walking up the stairs sees what appears to be the same cat cross a room twice\",\"deja vu he says which gets the attention of trinity and morpheus\",\"deja vu they explain to him is a glitch in the matrix it happens when they reset the computer parameters\",\"outside the phone line is cut\",\"mouse runs to a window which has now been bricked in\",\"they are trapped\",\"mouse picks up two machine guns but he no match for the police coming into the room\",\"he riddled with bullets\",\"back on the nebuchadnezzar the real mouse spurts blood from his mouth and dies in the chair\",\"more police and agents stream into the bottom of the hotel\",\"morpheus has tank find a layout of the building they 're in locating the main wet wall\",\"the agents arrive on the floor they 're on finding a coat that cypher has left behind\",\"they only find a hole in the bathroom wall\",\"meanwhile the crew is climbing down the plumbing of the wet wall\",\"as the police approach cypher sneezes once more giving them away\",\"the police open fire\",\"the crew including neo begin to fire back\",\"an agent takes over the body of one of the policemen reaches into the wall and grabs neo by the neck\",\"morpheus who is above neo in the walls breaks through the wall and lands on the agent yelling to trinity to get neo out of the building\",\"a fierce battle between agent smith and morpheus ends with morpheus face down on the tile\",\"agent smith sends the police unit in to beat him with their batons\",\"cypher returns to the nebuchadnezzar before trinity neo switch and apoc\",\"as tank attempts to bring the others back cypher attacks him from behind with an electronic weapon\",\"dozer attempts to tackle cypher but cypher electrocutes him as well\",\"trinity attempts to call tank but cypher pulls the headset off of the smoking remains of tank and answers\",\"as cypher talks to trinity inside the matrix he leans over the still form of trinity in the hovercraft\",\"cypher recounts the things he hates about the real world the war the cold the goop they have to eat but most especially morpheus and his beliefs\",\"he lied to us trinity\",\"cypher pulls the plug out of the back of apoc head and apoc falls down dead in the matrix\",\"cypher then moves to switch and as she protests not like this ... in the matrix cypher kills her on the ship\",\"she falls down dead before trinity and neo\",\"cypher moves on to neo supine form saying that if neo is the one a miracle will prevent cypher from killing him how can he be the one if he dead\",\"he continues badgering trinity asking her if she believes that neo is the one\",\"she says yes\",\"cypher screams back no\",\"but his reaction is incredulity at seeing tank still alive brandishing the weapon that cypher had used on him\",\"tank fries cypher with the electrical device\",\"tank brings trinity back and she finds out that dozer is dead\",\"meanwhile agent smith a tray of torture instruments near him marvels at the beauty of the matrix as he gazes out at the city all around them\",\"he informs morpheus who is tied to a chair that the first matrix was designed as a utopia engineered to make everyone happy\",\"it was a disaster says agent smith people would n't accept the program and entire crops were lost\",\"some believed continues smith that we lacked the programming language to describe your perfect world\",\"but i believe that as a species human beings define their reality through misery and suffering\",\"the perfect world was a dream that your primitive cerebrum kept trying to wake up from\",\"which is why the matrix was redesigned\",\"agent smith compares humans to dinosaurs and that evolution is taking hold\",\"another agent enters and relays that there may be a problem as they now know that cypher has failed\",\"back on the hovercraft the shuddering form of morpheus betrays the torture he being put through by the agents in the matrix\",\"tank realizes that they 're trying to get the codes to the mainframes of zion computers each ship captain knows them\",\"because a breach of zion defenses would mean that the last remaining vestiges of mankind would be wiped out tank says their only choice is to unplug morpheus effectively killing him\",\"back in the matrix the agents process their next move\",\"if cypher is dead they deduce that the remaining humans on the ship will terminate morpheus\",\"they decide to stick to their original plan and to deploy the sentinels\",\"tank is performing what amounts to last rites for morpheus laying one hand on his head as his other moves to the back of his skull to remove the jack\",\"just as he about to pull it out neo stops him\",\"he realizes that the oracle was right\",\"he now has to make the choice to save himself or to save morpheus his choice is to head back into the matrix\",\"trinity rejects the idea\",\"morpheus gave himself up so that neo could be saved since he is the one\",\"i 'm not the one trinity neo says relaying his understanding of the discussion with the oracle she did not enlighten him as to whether he was the promised messiah\",\"and since morpheus was willing to sacrifice himself neo knows that he must do that same\",\"tank calls it suicide it a military building with agents inside\",\"neo says he only knows that he can bring morpheus out\",\"trinity decides to come with him reasoning with neo that he will need her help and she the ranking officer on the ship\",\"tank she says load us up\",\"meanwhile agent smith continues to share his musings with a brutalized morpheus\",\"because humans spread to an area consume the natural resources and to survive must spread to another area smith says we are not mammals but viruses the only other creature that acts that way\",\"in the construct neo and trinity get armaments\",\"neo protests trinity no one has ever done anything like this\",\"that why it going to work he replies\",\"morpheus has yet to break and smith asks the other agents why the serum is n't working\",\"maybe we 're asking the wrong questions responds one\",\"to that smith commands the other agents to leave him alone with morpheus\",\"smith removes his earphone and his glasses and confides that he hates the matrix this zoo this prison\",\"smith admits that he must get out of this reality\",\"he hates the stench\",\"he sure that some element of the humans will rub off on him and that morpheus holds the key to his release\",\"if there is no zion there no need for smith to be in the matrix\",\"you are going to tell me or you are going to die\",\"downstairs in the lobby trinity and neo enter heavily armed\",\"they shoot their way past the guards and a group of soldiers and make their way into the elevator\",\"agents brown and jones enter the interrogation room to find smith with his hands still fixed on morpheus head\",\"smith looks embarrassed and befuddled and the others tell him about the attack occurring downstairs\",\"they realize that the humans are trying to save morpheus\",\"in the elevator trinity arms a bomb\",\"they both climb through a hatch to the elevator roof attaching a clamp to the elevator cable\",\"neo says there is no spoon before he severs the cable with a few shots\",\"the counterweight drops propelling neo and trinity upward\",\"the elevator falls to the lobby exploding upon impact and filling the floor with flames\",\"the agents feel the rumble of the explosion and the sprinkers come on in the building\",\"find them and destroy them\",\"smith commands\",\"on the roof a helicopter pilot is calling mayday as trinity and neo take out the soldiers there\",\"agent brown takes over the pilot and appears behind neo\",\"neo shoots several rounds at the agent who dodges them and pulls his own weapon\",\"trinity yells neo help\",\"but it too late\",\"the agent begins to shoot\",\"instead of being shot neo dodges most of the bullets though two of them nick him\",\"as the agent approaches neo who is lying on the ground he levels a kill shot but trinity shoots him before he can fire\",\"trinity marvels at how fast neo has just moved she never seen anyone move that quickly\",\"tank downloads the ability to fly the helicopter to trinity who can now pilot the aircraft\",\"trinity brings the helicopter down to the floor that morpheus is on and neo opens fire on the three agents\",\"the agents quickly fall and morpheus is alone in the room\",\"just as quickly the agents take over other soldiers stationed nearby\",\"morpheus breaks his bonds and begins to run to the helicopter\",\"the agents fire on him hitting his leg\",\"morpheus leaps but neo realizes that he is not going to make the leap and throws himself out of the helicopter a safety harness attached\",\"he catches morpheus but agent smith shoots the helicopter hydraulic line\",\"unable to control the helicopter trinity miraculously gets it close enough to drop morpheus and neo on a rooftop\",\"neo grabs the safety line as the helicopter falls towards a building\",\"trinity severs the safety line connecting neo to the helicopter and jumps on it herself as the vehicle smashes into the side of a building causing a bizarre ripple in the fabric of the building reality as it does\",\"on the ship tank says i knew it he the one\",\"neo hauls trinity up to them\",\"do you believe it now trinity\",\"asks morpheus as he approaches the two\",\"neo tries to tell him that the oracle told him the opposite but morpheus says she told you exactly what you needed to hear\",\"they call tank who tells them of an exit in a subway near them\",\"the agents arrive on the rooftop but find only the safety harness and line\",\"though agent smith is angered the other two are satisfied\",\"a trace has been completed in the real world and the sentinels have been dispatched to attack the nebuchadnezzar\",\"in the subway they quickly find the phone booth and morpheus exits out of the matrix\",\"a wino watches this occur\",\"on the rooftop agent smith locks in to their whereabouts through the wino and appropriates his body\",\"meanwhile as the phone rings providing trinity exit she confides to neo that everything that the oracle has told her has come true except for one thing\",\"she does n't say what that thing is and picks up the phone just as she sees the approaching agent smith\",\"smith shatters the ear piece of the phone it impossible for neo to exit there now\",\"instead of running which trinity implores him to do as she looks on from the ship neo turns to face smith\",\"they empty their guns on each other neither hitting the other\",\"they then move into close combat trading blows\",\"neo sweeps agent smith head breaking his glasses\",\"i 'm going to enjoy watching you die mr. anderson says smith\",\"they trade some thunderous blows with smith hitting neo so hard he spits up blood in the matrix and in the chair aboard the ship\",\"he killing him says trinity\",\"neo gets back up sets himself and beckons smith to start again\",\"this time it neo who delivers devastating blow after blow\",\"but smith counters throwing neo into a wall then pummeling him with body blows\",\"a wind from the tunnel signals that a subway train is approaching and smith has a wicked notion\",\"he throws neo into the subway tracks then drops down there himself\",\"he puts neo in a headlock and in the glow of the oncoming subway says you hear that mr. anderson\",\"that is the sound of inevitability\",\"it is the sound of your death\",\"good-bye mr\",\"my name he replies is neo\",\"then with a mighty leap neo propels them to the ceiling of the tunnel\",\"they fall back down and neo backflips off the tracks leaving agent smith to the oncoming train\",\"neo heads for the stairs but smith has already appropriated another body and emerges from the doors of the train\",\"meanwhile the sentinels have arrived to attack the nebuchadnezzar there are five of them and they are closing fast\",\"morpheus tells tank to charge the emp\",\"trinity reminds morpheus that they ca n't use the emp while neo is in the matrix\",\"i know trinity do n't worry says morpheus he going to make it\",\"back in the streets of the matrix neo swipes a cell phone from a nearby suit\",\"he calls tank mr. wizard get me the hell out of here\",\"he races through a crowded market while agents appropriate bodies right and left\",\"they force neo down a dark alley\",\"he kicks in a door and rushes through an apartment complex where the agents appropriate more bodies including that of a sweet little old lady who throws a knife at neo as agent smith\",\"neo leaps down into a pile of garbage with the agents in hot pursuit\",\"on the nebuchadnezzar the sentinels have arrived\",\"they begin to tear the ship apart\",\"in the matrix neo arrives back at the heart o the city hotel\",\"tank tells him to go to room 303\",\"the agents are literally at his heels\",\"the sentinels breach the hull of the ship\",\"they are inside\",\"trinity standing next to neo body in the chair begs him to hurry\",\"neo reaches room 303 and enters\",\"he immediately shot point blank in the gut by agent smith\",\"smith empties his magazine into neo body\",\"neo slumps to the floor dead\",\"on the ship neo vital signs drop to nothing\",\"it ca n't be says morpheus\",\"agent smith instructs the others to check neo\",\"he gone one replies\",\"good-bye mr. anderson says smith\",\"the sentinels lasers are beginning to cut through the major parts of the hovercraft\",\"trinity leans over his dead body\",\"neo she says i 'm not afraid anymore\",\"the oracle told me that i would fall in love and that that man ... the man that i loved would be the one\",\"so you see you ca n't be dead\",\"you ca n't be ... because i love you\",\"you hear me\",\"i love you\",\"she kisses him\",\"in the chair neo suddenly breathes\",\"in the matrix neo opens his eyes\",\"now get up orders trinity\",\"the agents hear neo rise behind them and they open fire\",\"no neo says calmly raising his hands\",\"he stops their bullets in mid-air\",\"they drop harmlessly to the floor\",\"what happening\",\"he is the one says morpheus\",\"back in the matrix neo can see things for what they really are green cascading code\",\"agent smith is furious\",\"he runs to neo and attacks him\",\"neo blocks smith blows effortlessly before he sends smith flying with one well-placed kick\",\"neo then leaps into smith body and appropriates him\",\"smith shell explodes in a sea of code and neo is all that is left the walls buckling in waves as they did when the helicopter crashed\",\"agents brown and jones look at one another and run away\",\"the sentinels are now fully in the ship\",\"they are right above trinity and morpheus\",\"back in the matrix neo sprints to the ringing phone in the room\",\"morpheus has no choice but to engage the emp\",\"he does and the sentinels fall inert to the floor\",\"neo has made it back\",\"he kisses trinity\",\"the screen is black\",\"a command prompt appears call trans opt received\",\"9-18-99 14:32:21 rec log then carrier anomaly trace program running as the grid of numbers appears again a warning appears system failure\",\"over it all is neo voice i know you 're out there\",\"i can feel you now\",\"i know that you 're afraid ... you 're afraid of us\",\"you 're afraid of change\",\"i do n't know the future\",\"i did n't come here to tell you how this is going to end\",\"i came here to tell you how it going to begin\",\"i 'm going to hang up this phone and then i 'm going to show these people what you do n't want them to see\",\"i 'm going to show them a world without you\",\"a world without rules and controls without borders or boundaries\",\"a world where anything is possible\",\"where we go from there is a choice i leave to you\",\"in the matrix world neo hangs up the phone\",\"he looks at the mindless masses around him puts on his glasses and then looks up\",\"from high above the city we see him take flight\",\"the story is picked up in the matrix reloaded the second of three matrix movies\"],\"x\":{\"__ndarray__\":\"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\",\"dtype\":\"float32\",\"shape\":[461]},\"y\":{\"__ndarray__\":\"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\",\"dtype\":\"float32\",\"shape\":[461]}}},\"id\":\"64fd1f3f-b6f1-492a-a120-83b5d74c609e\",\"type\":\"ColumnDataSource\"},{\"attributes\":{\"level\":\"glyph\",\"plot\":{\"id\":\"1fcd9a26-2491-48df-9c09-a57c62df584d\",\"subtype\":\"Figure\",\"type\":\"Plot\"},\"source\":{\"id\":\"64fd1f3f-b6f1-492a-a120-83b5d74c609e\",\"type\":\"ColumnDataSource\"},\"text_align\":\"center\",\"text_color\":{\"value\":\"#555555\"},\"text_font_size\":{\"value\":\"8pt\"},\"x\":{\"field\":\"x\"},\"y\":{\"field\":\"y\"},\"y_offset\":{\"value\":8}},\"id\":\"f5bb6ade-c4ea-4823-9ca3-28427c16c880\",\"type\":\"LabelSet\"}],\"root_ids\":[\"1fcd9a26-2491-48df-9c09-a57c62df584d\"]},\"title\":\"Bokeh Application\",\"version\":\"0.12.13\"}};\n",
       "  var render_items = [{\"docid\":\"5f389d17-fd59-4668-a0f0-0421bd6337dc\",\"elementid\":\"ec5b4aa8-115b-44f5-95e1-385d9dafddd3\",\"modelid\":\"1fcd9a26-2491-48df-9c09-a57c62df584d\"}];\n",
       "  root.Bokeh.embed.embed_items_notebook(docs_json, render_items);\n",
       "\n",
       "  }\n",
       "  if (root.Bokeh !== undefined) {\n",
       "    embed_document(root);\n",
       "  } else {\n",
       "    var attempts = 0;\n",
       "    var timer = setInterval(function(root) {\n",
       "      if (root.Bokeh !== undefined) {\n",
       "        embed_document(root);\n",
       "        clearInterval(timer);\n",
       "      }\n",
       "      attempts++;\n",
       "      if (attempts > 100) {\n",
       "        console.log(\"Bokeh: ERROR: Unable to run BokehJS code because BokehJS library is missing\")\n",
       "        clearInterval(timer);\n",
       "      }\n",
       "    }, 10, root)\n",
       "  }\n",
       "})(window);"
      ],
      "application/vnd.bokehjs_exec.v0+json": ""
     },
     "metadata": {
      "application/vnd.bokehjs_exec.v0+json": {
       "id": "1fcd9a26-2491-48df-9c09-a57c62df584d"
      }
     },
     "output_type": "display_data"
    }
   ],
   "source": [
    "\n",
    "\n",
    "from bokeh.models import ColumnDataSource, LabelSet\n",
    "from bokeh.plotting import figure, show, output_file\n",
    "from bokeh.sampledata.periodic_table import elements\n",
    "from bokeh.models import HoverTool\n",
    "\n",
    "\n",
    "source = ColumnDataSource(datasource)\n",
    "\n",
    "TITLE = 'title'\n",
    "p = figure(toolbar_location=\"above\", title=TITLE)\n",
    "\n",
    "p.circle(\"x\", \"y\", size=12, source=source,\n",
    "         color='blue', line_color=\"black\", fill_alpha=0.8)\n",
    "\n",
    "labels = LabelSet(x=\"x\", y=\"y\", text=\"text\", y_offset=8, level='glyph',\n",
    "                  text_font_size=\"8pt\", text_color=\"#555555\",\n",
    "                  source=source, text_align='center')\n",
    "\n",
    "p.circle(centroid_embedding[0], centroid_embedding[1], color='red', size=15)\n",
    "#p.circle()\n",
    "p.add_layout(labels)\n",
    "#p.add_tools(HoverTool(tooltips=None, renderers=[labels], mode='hline'))\n",
    "\n",
    "show(p)"
   ]
  }
 ],
 "metadata": {
  "colab": {
   "name": "TextRank Implementations.ipynb",
   "provenance": [],
   "version": "0.3.2"
  },
  "kernelspec": {
   "display_name": "text_mining",
   "language": "python",
   "name": "text_mining"
  },
  "language_info": {
   "codemirror_mode": {
    "name": "ipython",
    "version": 3
   },
   "file_extension": ".py",
   "mimetype": "text/x-python",
   "name": "python",
   "nbconvert_exporter": "python",
   "pygments_lexer": "ipython3",
   "version": "3.6.4"
  }
 },
 "nbformat": 4,
 "nbformat_minor": 1
}
