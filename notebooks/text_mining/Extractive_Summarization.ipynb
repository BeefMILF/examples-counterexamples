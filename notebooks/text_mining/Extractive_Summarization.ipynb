{
 "cells": [
  {
   "cell_type": "markdown",
   "metadata": {},
   "source": [
    "## TextRank for summarization and keywords\n",
    "\n",
    "Useful links:\n",
    "\n",
    "* [Text Summarization in Python: Extractive vs. Abstractive techniques revisited](https://rare-technologies.com/text-summarization-in-python-extractive-vs-abstractive-techniques-revisited/)\n",
    "* [Lectures on Summarization Techniques](https://www.youtube.com/watch?v=N5N-HCUE3G4) from old Coursera NLP course"
   ]
  },
  {
   "cell_type": "markdown",
   "metadata": {
    "colab_type": "text",
    "id": "KJMgCTHkCglB"
   },
   "source": [
    "## Notes\n",
    "\n",
    "* **PyTextRank** - weird arcane API, doesn't expose simple function call as gensim/summa\n",
    "* **sumy** - requires pipeline (doesn't just work on raw strings)\n",
    "* **pyteaser** - only Python 2"
   ]
  },
  {
   "cell_type": "code",
   "execution_count": 1,
   "metadata": {
    "colab": {},
    "colab_type": "code",
    "id": "Bdsh-yRzD89T"
   },
   "outputs": [],
   "source": [
    "#!pip install gensim\n",
    "#!pip install summa"
   ]
  },
  {
   "cell_type": "code",
   "execution_count": 5,
   "metadata": {
    "colab": {},
    "colab_type": "code",
    "id": "Bv92-Pmh34It"
   },
   "outputs": [],
   "source": [
    "import pandas as pd\n",
    "\n",
    "import gensim\n",
    "import summa\n",
    "#from sumy.summarizers.text_rank import TextRankSummarizer as SumyTextRankSummarizer\n",
    "#import pytextrank\n",
    "\n",
    "from sklearn.datasets import fetch_20newsgroups"
   ]
  },
  {
   "cell_type": "code",
   "execution_count": 6,
   "metadata": {
    "colab": {},
    "colab_type": "code",
    "id": "zqLjTv373-Q0"
   },
   "outputs": [],
   "source": [
    "articles = fetch_20newsgroups()['data']"
   ]
  },
  {
   "cell_type": "code",
   "execution_count": 7,
   "metadata": {
    "colab": {},
    "colab_type": "code",
    "id": "tSxPS8Le4O6O"
   },
   "outputs": [],
   "source": [
    "article_texts = [article.split('\\n', maxsplit=5)[5].replace('\\n', ' ') for article in articles]\n",
    "\n",
    "article_texts = [article for article in article_texts if article.count('. ') > 2]\n",
    "\n",
    "article_texts = pd.Series(article_texts)[:5000]"
   ]
  },
  {
   "cell_type": "code",
   "execution_count": 8,
   "metadata": {
    "colab": {
     "base_uri": "https://localhost:8080/",
     "height": 35
    },
    "colab_type": "code",
    "id": "2H7Y1Zav6ctF",
    "outputId": "f0ed031c-5e99-49d8-cb0a-8449a2baaa30"
   },
   "outputs": [
    {
     "data": {
      "text/plain": [
       "5000"
      ]
     },
     "execution_count": 8,
     "metadata": {},
     "output_type": "execute_result"
    }
   ],
   "source": [
    "len(article_texts)"
   ]
  },
  {
   "cell_type": "code",
   "execution_count": 9,
   "metadata": {
    "colab": {
     "base_uri": "https://localhost:8080/",
     "height": 55
    },
    "colab_type": "code",
    "id": "Rly1cf1V457D",
    "outputId": "84885f8b-b67b-49f2-df52-623b6c4f098d"
   },
   "outputs": [
    {
     "data": {
      "text/plain": [
       "'  I was wondering if anyone out there could enlighten me on this car I saw the other day. It was a 2-door sports car, looked to be from the late 60s/ early 70s. It was called a Bricklin. The doors were really small. In addition, the front bumper was separate from the rest of the body. This is  all I know. If anyone can tellme a model name, engine specs, years of production, where this car is made, history, or whatever info you have on this funky looking car, please e-mail.  Thanks, - IL    ---- brought to you by your neighborhood Lerxst ----     '"
      ]
     },
     "execution_count": 9,
     "metadata": {},
     "output_type": "execute_result"
    }
   ],
   "source": [
    "article_texts[0]"
   ]
  },
  {
   "cell_type": "code",
   "execution_count": 10,
   "metadata": {
    "colab": {
     "base_uri": "https://localhost:8080/",
     "height": 53
    },
    "colab_type": "code",
    "id": "s1VxoGdc9GIt",
    "outputId": "52d254ef-7da4-4c5a-81fd-cfda3261c6a8"
   },
   "outputs": [
    {
     "name": "stdout",
     "output_type": "stream",
     "text": [
      "CPU times: user 1min 7s, sys: 206 ms, total: 1min 7s\n",
      "Wall time: 1min 7s\n"
     ]
    }
   ],
   "source": [
    "%%time\n",
    "\n",
    "summa_summaries = article_texts.apply(summa.summarizer.summarize)"
   ]
  },
  {
   "cell_type": "code",
   "execution_count": 11,
   "metadata": {
    "colab": {
     "base_uri": "https://localhost:8080/",
     "height": 53
    },
    "colab_type": "code",
    "id": "FC4KuglB51Wz",
    "outputId": "b6472c14-01c3-49a9-8c9d-c556ec5100ab"
   },
   "outputs": [
    {
     "name": "stdout",
     "output_type": "stream",
     "text": [
      "CPU times: user 1min 43s, sys: 2.39 s, total: 1min 46s\n",
      "Wall time: 1min 23s\n"
     ]
    }
   ],
   "source": [
    "%%time\n",
    "\n",
    "gensim_summaries = article_texts.apply(gensim.summarization.summarize)"
   ]
  }
 ],
 "metadata": {
  "colab": {
   "name": "TextRank Implementations.ipynb",
   "provenance": [],
   "version": "0.3.2"
  },
  "kernelspec": {
   "display_name": "nnets",
   "language": "python",
   "name": "nnets"
  },
  "language_info": {
   "codemirror_mode": {
    "name": "ipython",
    "version": 3
   },
   "file_extension": ".py",
   "mimetype": "text/x-python",
   "name": "python",
   "nbconvert_exporter": "python",
   "pygments_lexer": "ipython3",
   "version": "3.6.5"
  }
 },
 "nbformat": 4,
 "nbformat_minor": 1
}
