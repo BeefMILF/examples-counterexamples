{
 "cells": [
  {
   "cell_type": "code",
   "execution_count": 1,
   "metadata": {},
   "outputs": [
    {
     "name": "stdout",
     "output_type": "stream",
     "text": [
      "Requirement already satisfied: getgist in /etc/miniconda/lib/python3.7/site-packages (0.1.3)\n",
      "Requirement already satisfied: requests>=2.18.1 in /etc/miniconda/lib/python3.7/site-packages (from getgist) (2.21.0)\n",
      "Requirement already satisfied: click>=6.6 in /etc/miniconda/lib/python3.7/site-packages (from getgist) (7.0)\n",
      "Requirement already satisfied: chardet<3.1.0,>=3.0.2 in /etc/miniconda/lib/python3.7/site-packages (from requests>=2.18.1->getgist) (3.0.4)\n",
      "Requirement already satisfied: idna<2.9,>=2.5 in /etc/miniconda/lib/python3.7/site-packages (from requests>=2.18.1->getgist) (2.8)\n",
      "Requirement already satisfied: certifi>=2017.4.17 in /etc/miniconda/lib/python3.7/site-packages (from requests>=2.18.1->getgist) (2019.11.28)\n",
      "Requirement already satisfied: urllib3<1.25,>=1.21.1 in /etc/miniconda/lib/python3.7/site-packages (from requests>=2.18.1->getgist) (1.24.1)\n",
      "  Fetching https://api.github.com/users/lambdaofgod/gists\n",
      "  Reading https://gist.githubusercontent.com/lambdaofgod/c32ab43cecce4219a697376f3dda3866/raw/a618dbc45cf65020cf70be3c415ed075409071c7/github_topic_modeling_packages.sh\n",
      "  Saving github_topic_modeling_packages.sh\n",
      "  Done!\n",
      "Requirement already satisfied: gensim in /etc/miniconda/lib/python3.7/site-packages/gensim-3.7.3-py3.7-linux-x86_64.egg (3.7.3)\n",
      "Requirement already satisfied: seaborn in /etc/miniconda/lib/python3.7/site-packages (0.9.0)\n",
      "Requirement already satisfied: wordcloud in /etc/miniconda/lib/python3.7/site-packages (1.5.0)\n",
      "Requirement already satisfied: numpy>=1.11.3 in /etc/miniconda/lib/python3.7/site-packages (from gensim) (1.16.4)\n",
      "Requirement already satisfied: scipy>=0.18.1 in /etc/miniconda/lib/python3.7/site-packages (from gensim) (1.2.1)\n",
      "Requirement already satisfied: six>=1.5.0 in /etc/miniconda/lib/python3.7/site-packages (from gensim) (1.12.0)\n",
      "Requirement already satisfied: smart-open>=1.7.0 in /etc/miniconda/lib/python3.7/site-packages/smart_open-1.8.4-py3.7.egg (from gensim) (1.8.4)\n",
      "Requirement already satisfied: pandas>=0.15.2 in /etc/miniconda/lib/python3.7/site-packages/pandas-0.24.2-py3.7-linux-x86_64.egg (from seaborn) (0.24.2)\n",
      "Requirement already satisfied: matplotlib>=1.4.3 in /etc/miniconda/lib/python3.7/site-packages (from seaborn) (3.1.1)\n",
      "Requirement already satisfied: pillow in /etc/miniconda/lib/python3.7/site-packages (from wordcloud) (6.0.0)\n",
      "Requirement already satisfied: boto>=2.32 in /etc/miniconda/lib/python3.7/site-packages/boto-2.49.0-py3.7.egg (from smart-open>=1.7.0->gensim) (2.49.0)\n",
      "Requirement already satisfied: requests in /etc/miniconda/lib/python3.7/site-packages (from smart-open>=1.7.0->gensim) (2.21.0)\n",
      "Requirement already satisfied: boto3 in /etc/miniconda/lib/python3.7/site-packages/boto3-1.9.162-py3.7.egg (from smart-open>=1.7.0->gensim) (1.9.162)\n",
      "Requirement already satisfied: python-dateutil>=2.5.0 in /etc/miniconda/lib/python3.7/site-packages (from pandas>=0.15.2->seaborn) (2.8.0)\n",
      "Requirement already satisfied: pytz>=2011k in /etc/miniconda/lib/python3.7/site-packages (from pandas>=0.15.2->seaborn) (2019.3)\n",
      "Requirement already satisfied: cycler>=0.10 in /etc/miniconda/lib/python3.7/site-packages (from matplotlib>=1.4.3->seaborn) (0.10.0)\n",
      "Requirement already satisfied: kiwisolver>=1.0.1 in /etc/miniconda/lib/python3.7/site-packages (from matplotlib>=1.4.3->seaborn) (1.1.0)\n",
      "Requirement already satisfied: pyparsing!=2.0.4,!=2.1.2,!=2.1.6,>=2.0.1 in /etc/miniconda/lib/python3.7/site-packages (from matplotlib>=1.4.3->seaborn) (2.4.6)\n",
      "Requirement already satisfied: chardet<3.1.0,>=3.0.2 in /etc/miniconda/lib/python3.7/site-packages (from requests->smart-open>=1.7.0->gensim) (3.0.4)\n",
      "Requirement already satisfied: idna<2.9,>=2.5 in /etc/miniconda/lib/python3.7/site-packages (from requests->smart-open>=1.7.0->gensim) (2.8)\n",
      "Requirement already satisfied: urllib3<1.25,>=1.21.1 in /etc/miniconda/lib/python3.7/site-packages (from requests->smart-open>=1.7.0->gensim) (1.24.1)\n",
      "Requirement already satisfied: certifi>=2017.4.17 in /etc/miniconda/lib/python3.7/site-packages (from requests->smart-open>=1.7.0->gensim) (2019.11.28)\n",
      "Requirement already satisfied: botocore<1.13.0,>=1.12.162 in /etc/miniconda/lib/python3.7/site-packages/botocore-1.12.162-py3.7.egg (from boto3->smart-open>=1.7.0->gensim) (1.12.162)\n",
      "Requirement already satisfied: jmespath<1.0.0,>=0.7.1 in /etc/miniconda/lib/python3.7/site-packages/jmespath-0.9.4-py3.7.egg (from boto3->smart-open>=1.7.0->gensim) (0.9.4)\n",
      "Requirement already satisfied: s3transfer<0.3.0,>=0.2.0 in /etc/miniconda/lib/python3.7/site-packages/s3transfer-0.2.1-py3.7.egg (from boto3->smart-open>=1.7.0->gensim) (0.2.1)\n",
      "Requirement already satisfied: setuptools in /etc/miniconda/lib/python3.7/site-packages (from kiwisolver>=1.0.1->matplotlib>=1.4.3->seaborn) (41.0.0)\n",
      "Requirement already satisfied: docutils>=0.10 in /etc/miniconda/lib/python3.7/site-packages/docutils-0.14-py3.7.egg (from botocore<1.13.0,>=1.12.162->boto3->smart-open>=1.7.0->gensim) (0.14)\n",
      "Collecting git+https://github.com/lambdaofgod/mlutil\n",
      "  Cloning https://github.com/lambdaofgod/mlutil to /tmp/pip-req-build-byxm7f3d\n",
      "Requirement already satisfied (use --upgrade to upgrade): mlutil==0.1211 from git+https://github.com/lambdaofgod/mlutil in /etc/miniconda/lib/python3.7/site-packages\n",
      "Requirement already satisfied: gensim in /etc/miniconda/lib/python3.7/site-packages/gensim-3.7.3-py3.7-linux-x86_64.egg (from mlutil==0.1211) (3.7.3)\n",
      "Requirement already satisfied: nltk in /etc/miniconda/lib/python3.7/site-packages/nltk-3.4.1-py3.7.egg (from mlutil==0.1211) (3.4.1)\n",
      "Requirement already satisfied: pandas in /etc/miniconda/lib/python3.7/site-packages/pandas-0.24.2-py3.7-linux-x86_64.egg (from mlutil==0.1211) (0.24.2)\n",
      "Requirement already satisfied: numpy in /etc/miniconda/lib/python3.7/site-packages (from mlutil==0.1211) (1.16.4)\n",
      "Requirement already satisfied: tqdm in /etc/miniconda/lib/python3.7/site-packages (from mlutil==0.1211) (4.41.0)\n",
      "Requirement already satisfied: sklearn in /etc/miniconda/lib/python3.7/site-packages/sklearn-0.0-py3.7.egg (from mlutil==0.1211) (0.0)\n",
      "Requirement already satisfied: pytest in /etc/miniconda/lib/python3.7/site-packages/pytest-4.6.2-py3.7.egg (from mlutil==0.1211) (4.6.2)\n",
      "Requirement already satisfied: seaborn in /etc/miniconda/lib/python3.7/site-packages (from mlutil==0.1211) (0.9.0)\n",
      "Requirement already satisfied: scipy>=0.18.1 in /etc/miniconda/lib/python3.7/site-packages (from gensim->mlutil==0.1211) (1.2.1)\n",
      "Requirement already satisfied: six>=1.5.0 in /etc/miniconda/lib/python3.7/site-packages (from gensim->mlutil==0.1211) (1.12.0)\n",
      "Requirement already satisfied: smart-open>=1.7.0 in /etc/miniconda/lib/python3.7/site-packages/smart_open-1.8.4-py3.7.egg (from gensim->mlutil==0.1211) (1.8.4)\n",
      "Requirement already satisfied: python-dateutil>=2.5.0 in /etc/miniconda/lib/python3.7/site-packages (from pandas->mlutil==0.1211) (2.8.0)\n",
      "Requirement already satisfied: pytz>=2011k in /etc/miniconda/lib/python3.7/site-packages (from pandas->mlutil==0.1211) (2019.3)\n",
      "Requirement already satisfied: scikit-learn in /etc/miniconda/lib/python3.7/site-packages (from sklearn->mlutil==0.1211) (0.22.1)\n",
      "Requirement already satisfied: atomicwrites>=1.0 in /etc/miniconda/lib/python3.7/site-packages/atomicwrites-1.3.0-py3.7.egg (from pytest->mlutil==0.1211) (1.3.0)\n",
      "Requirement already satisfied: attrs>=17.4.0 in /etc/miniconda/lib/python3.7/site-packages (from pytest->mlutil==0.1211) (19.1.0)\n",
      "Requirement already satisfied: importlib-metadata>=0.12 in /etc/miniconda/lib/python3.7/site-packages (from pytest->mlutil==0.1211) (0.23)\n",
      "Requirement already satisfied: more-itertools>=4.0.0 in /etc/miniconda/lib/python3.7/site-packages/more_itertools-7.0.0-py3.7.egg (from pytest->mlutil==0.1211) (7.0.0)\n",
      "Requirement already satisfied: packaging in /etc/miniconda/lib/python3.7/site-packages/packaging-19.0-py3.7.egg (from pytest->mlutil==0.1211) (19.0)\n",
      "Requirement already satisfied: pluggy<1.0,>=0.12 in /etc/miniconda/lib/python3.7/site-packages/pluggy-0.12.0-py3.7.egg (from pytest->mlutil==0.1211) (0.12.0)\n",
      "Requirement already satisfied: py>=1.5.0 in /etc/miniconda/lib/python3.7/site-packages/py-1.8.0-py3.7.egg (from pytest->mlutil==0.1211) (1.8.0)\n",
      "Requirement already satisfied: wcwidth in /etc/miniconda/lib/python3.7/site-packages (from pytest->mlutil==0.1211) (0.1.7)\n",
      "Requirement already satisfied: matplotlib>=1.4.3 in /etc/miniconda/lib/python3.7/site-packages (from seaborn->mlutil==0.1211) (3.1.1)\n",
      "Requirement already satisfied: boto>=2.32 in /etc/miniconda/lib/python3.7/site-packages/boto-2.49.0-py3.7.egg (from smart-open>=1.7.0->gensim->mlutil==0.1211) (2.49.0)\n",
      "Requirement already satisfied: requests in /etc/miniconda/lib/python3.7/site-packages (from smart-open>=1.7.0->gensim->mlutil==0.1211) (2.21.0)\n",
      "Requirement already satisfied: boto3 in /etc/miniconda/lib/python3.7/site-packages/boto3-1.9.162-py3.7.egg (from smart-open>=1.7.0->gensim->mlutil==0.1211) (1.9.162)\n",
      "Requirement already satisfied: joblib>=0.11 in /etc/miniconda/lib/python3.7/site-packages/joblib-0.13.2-py3.7.egg (from scikit-learn->sklearn->mlutil==0.1211) (0.13.2)\n",
      "Requirement already satisfied: zipp>=0.5 in /etc/miniconda/lib/python3.7/site-packages/zipp-0.5.1-py3.7.egg (from importlib-metadata>=0.12->pytest->mlutil==0.1211) (0.5.1)\n",
      "Requirement already satisfied: pyparsing>=2.0.2 in /etc/miniconda/lib/python3.7/site-packages (from packaging->pytest->mlutil==0.1211) (2.4.6)\n",
      "Requirement already satisfied: cycler>=0.10 in /etc/miniconda/lib/python3.7/site-packages (from matplotlib>=1.4.3->seaborn->mlutil==0.1211) (0.10.0)\n",
      "Requirement already satisfied: kiwisolver>=1.0.1 in /etc/miniconda/lib/python3.7/site-packages (from matplotlib>=1.4.3->seaborn->mlutil==0.1211) (1.1.0)\n",
      "Requirement already satisfied: idna<2.9,>=2.5 in /etc/miniconda/lib/python3.7/site-packages (from requests->smart-open>=1.7.0->gensim->mlutil==0.1211) (2.8)\n",
      "Requirement already satisfied: certifi>=2017.4.17 in /etc/miniconda/lib/python3.7/site-packages (from requests->smart-open>=1.7.0->gensim->mlutil==0.1211) (2019.11.28)\n",
      "Requirement already satisfied: chardet<3.1.0,>=3.0.2 in /etc/miniconda/lib/python3.7/site-packages (from requests->smart-open>=1.7.0->gensim->mlutil==0.1211) (3.0.4)\n",
      "Requirement already satisfied: urllib3<1.25,>=1.21.1 in /etc/miniconda/lib/python3.7/site-packages (from requests->smart-open>=1.7.0->gensim->mlutil==0.1211) (1.24.1)\n",
      "Requirement already satisfied: botocore<1.13.0,>=1.12.162 in /etc/miniconda/lib/python3.7/site-packages/botocore-1.12.162-py3.7.egg (from boto3->smart-open>=1.7.0->gensim->mlutil==0.1211) (1.12.162)\n",
      "Requirement already satisfied: jmespath<1.0.0,>=0.7.1 in /etc/miniconda/lib/python3.7/site-packages/jmespath-0.9.4-py3.7.egg (from boto3->smart-open>=1.7.0->gensim->mlutil==0.1211) (0.9.4)\n",
      "Requirement already satisfied: s3transfer<0.3.0,>=0.2.0 in /etc/miniconda/lib/python3.7/site-packages/s3transfer-0.2.1-py3.7.egg (from boto3->smart-open>=1.7.0->gensim->mlutil==0.1211) (0.2.1)\n",
      "Requirement already satisfied: setuptools in /etc/miniconda/lib/python3.7/site-packages (from kiwisolver>=1.0.1->matplotlib>=1.4.3->seaborn->mlutil==0.1211) (41.0.0)\n",
      "Requirement already satisfied: docutils>=0.10 in /etc/miniconda/lib/python3.7/site-packages/docutils-0.14-py3.7.egg (from botocore<1.13.0,>=1.12.162->boto3->smart-open>=1.7.0->gensim->mlutil==0.1211) (0.14)\n",
      "Building wheels for collected packages: mlutil\n",
      "  Building wheel for mlutil (setup.py): started\n",
      "  Building wheel for mlutil (setup.py): finished with status 'done'\n",
      "  Stored in directory: /tmp/pip-ephem-wheel-cache-ea9025ew/wheels/42/32/46/9616d5dd85e5dbc05ce3816dfa7dcedc052bc8b29442e1766a\n",
      "Successfully built mlutil\n"
     ]
    }
   ],
   "source": [
    "%%bash\n",
    "\n",
    "pip install getgist\n",
    "getgist lambdaofgod github_topic_modeling_packages.sh -y\n",
    "bash github_topic_modeling_packages.sh"
   ]
  },
  {
   "cell_type": "code",
   "execution_count": 2,
   "metadata": {
    "colab": {
     "base_uri": "https://localhost:8080/",
     "height": 88
    },
    "colab_type": "code",
    "id": "2byQKmDvQaxy",
    "outputId": "09b449d4-f7a7-4d92-e90f-ed5676ac7efb"
   },
   "outputs": [
    {
     "name": "stderr",
     "output_type": "stream",
     "text": [
      "/etc/miniconda/envs/ml/lib/python3.7/site-packages/sklearn/utils/deprecation.py:144: FutureWarning: The sklearn.feature_extraction.stop_words module is  deprecated in version 0.22 and will be removed in version 0.24. The corresponding classes / functions should instead be imported from sklearn.feature_extraction.text. Anything that cannot be imported from sklearn.feature_extraction.text is now part of the private API.\n",
      "  warnings.warn(message, FutureWarning)\n",
      "WARNING: Logging before flag parsing goes to stderr.\n",
      "W0110 23:31:02.770780 139645199939392 __init__.py:56] Some hub symbols are not available because TensorFlow version is less than 1.14\n"
     ]
    }
   ],
   "source": [
    "import re\n",
    "import tqdm\n",
    "import requests\n",
    "\n",
    "import numpy as np\n",
    "\n",
    "from bs4 import BeautifulSoup\n",
    "from markdown import markdown\n",
    "import nltk\n",
    "\n",
    "\n",
    "import pandas as pd\n",
    "from pandas.io.json import json_normalize\n",
    "from gensim import summarization\n",
    "\n",
    "from sklearn import decomposition, feature_extraction, manifold\n",
    "from sklearn.feature_extraction import stop_words\n",
    "from sklearn import pipeline\n",
    "\n",
    "import rank_bm25\n",
    "\n",
    "from mlutil import topic_modeling\n",
    "\n",
    "import seaborn as sns\n",
    "import wordcloud\n",
    "\n",
    "import matplotlib.pyplot as plt\n",
    "from IPython.display import Markdown, display"
   ]
  },
  {
   "cell_type": "code",
   "execution_count": 3,
   "metadata": {},
   "outputs": [],
   "source": [
    "plt.style.use('dark_background')"
   ]
  },
  {
   "cell_type": "code",
   "execution_count": 4,
   "metadata": {},
   "outputs": [],
   "source": [
    "def printmd(string):\n",
    "    display(Markdown(string))"
   ]
  },
  {
   "cell_type": "code",
   "execution_count": 5,
   "metadata": {
    "colab": {},
    "colab_type": "code",
    "id": "IcvPHgQdTIzh"
   },
   "outputs": [],
   "source": [
    "def get_word_cloud(texts):\n",
    "  text = ' '.join(texts)\n",
    "  return wordcloud.WordCloud(max_font_size=40).generate(text)\n",
    "\n",
    "\n",
    "def show_word_cloud(wc, figure_kwargs={'figsize': (8, 5)}):\n",
    "  plt.figure(**figure_kwargs)\n",
    "  plt.imshow(wc)\n",
    "  plt.axis('off')\n",
    "  plt.show()\n",
    "\n",
    "  \n",
    "def show_word_cloud_from_texts(text_column):\n",
    "  texts = text_column.fillna('').values\n",
    "  cloud = get_word_cloud(texts)\n",
    "  show_word_cloud(cloud)"
   ]
  },
  {
   "cell_type": "markdown",
   "metadata": {
    "colab_type": "text",
    "id": "XYC5kMrfBPdz"
   },
   "source": [
    "Put your Github token to `github_auth_key.txt`\n",
    "\n",
    "You have to do this because, unfortunately, for now there is no way to use GraphQL without authentication."
   ]
  },
  {
   "cell_type": "code",
   "execution_count": 6,
   "metadata": {
    "colab": {},
    "colab_type": "code",
    "id": "Y9jLN89d8QDw"
   },
   "outputs": [],
   "source": [
    "key = open('github_auth_key.txt', 'r').read().strip()"
   ]
  },
  {
   "cell_type": "markdown",
   "metadata": {
    "colab_type": "text",
    "id": "imRzmoj4NfX_"
   },
   "source": [
    "Note that I barely know GraphQL: I made this query in [Github's API explorer](https://developer.github.com/v4/explorer/)"
   ]
  },
  {
   "cell_type": "code",
   "execution_count": 7,
   "metadata": {
    "colab": {},
    "colab_type": "code",
    "id": "tfuovdEv3QFf"
   },
   "outputs": [],
   "source": [
    "# An example to get the remaining rate limit using the Github GraphQL API.\n",
    "headers = {'Authorization': 'token ' + key}\n",
    "\n",
    "\n",
    "def run_query(query): # A simple function to use requests.post to make the API call. Note the json= section.\n",
    "    request = requests.post('https://api.github.com/graphql', json={'query': query}, headers=headers)\n",
    "    if request.status_code == 200:\n",
    "        return request.json()\n",
    "    else:\n",
    "        raise Exception(\"Query failed to run by returning code of {}. {}\".format(request.status_code, query))\n",
    "\n",
    "        \n",
    "# The GraphQL query (with a few aditional bits included) itself defined as a multi-line string.       \n",
    "def get_next_paged_result(result):\n",
    "  if result is None:\n",
    "    end_cursor_string = ''\n",
    "  else:\n",
    "    end_cursor_string = 'after: \"{}\"'.format(result['data']['viewer']['starredRepositories']['pageInfo']['endCursor'])\n",
    "  new_query_string = \"\"\"{{\n",
    "    viewer {{\n",
    "      starredRepositories(first: 100, {}) {{\n",
    "        pageInfo {{\n",
    "          startCursor\n",
    "          hasNextPage\n",
    "          endCursor\n",
    "        }}\n",
    "        nodes {{\n",
    "          name\n",
    "          owner {{\n",
    "            login\n",
    "          }}\n",
    "          description\n",
    "          primaryLanguage {{\n",
    "            name\n",
    "          }}\n",
    "          repositoryTopics(first: 10) {{\n",
    "            nodes {{\n",
    "              topic {{\n",
    "                name\n",
    "              }}\n",
    "            }}\n",
    "          }}\n",
    "          object(expression: \"master:README.md\") {{\n",
    "            ... on Blob {{\n",
    "              text\n",
    "            }}\n",
    "          }}\n",
    "        }}\n",
    "      }}\n",
    "    }}\n",
    "  }}\"\"\".format(end_cursor_string)\n",
    "  return run_query(new_query_string)"
   ]
  },
  {
   "cell_type": "code",
   "execution_count": 8,
   "metadata": {},
   "outputs": [],
   "source": [
    "def get_starred_repo_information():\n",
    "    next_result = None\n",
    "    starred_repo_information = []\n",
    "    for __ in tqdm.tqdm(range(5)):\n",
    "      next_result = get_next_paged_result(next_result)\n",
    "      starred_repo_information = starred_repo_information + next_result['data']['viewer']['starredRepositories']['nodes']\n",
    "    return starred_repo_information"
   ]
  },
  {
   "cell_type": "code",
   "execution_count": null,
   "metadata": {
    "colab": {
     "base_uri": "https://localhost:8080/",
     "height": 34
    },
    "colab_type": "code",
    "id": "ptjZButY4ygo",
    "outputId": "f805f99e-5348-430a-86c9-b97dfbe53054"
   },
   "outputs": [
    {
     "name": "stderr",
     "output_type": "stream",
     "text": [
      "  0%|          | 0/5 [00:00<?, ?it/s]"
     ]
    }
   ],
   "source": [
    "starred_repo_information = get_starred_repo_information()"
   ]
  },
  {
   "cell_type": "code",
   "execution_count": null,
   "metadata": {
    "colab": {},
    "colab_type": "code",
    "id": "8FVdEJhVU7aq"
   },
   "outputs": [],
   "source": [
    "def get_cleaned_starred_repositories_df(repo_information, stemmer=nltk.stem.PorterStemmer()):\n",
    "    repo_df = json_normalize(repo_information)\n",
    "    repo_df.index = repo_df['name']\n",
    "    repo_df.drop('name', axis=1, inplace=True)\n",
    "    repo_df['primaryLanguage'] = repo_df['primaryLanguage.name']\n",
    "    repo_df.drop('primaryLanguage.name', axis=1)\n",
    "    repo_df['topics'] = repo_df['repositoryTopics.nodes'].apply(lambda recs: [r['topic']['name'] for r in recs])\n",
    "    repo_df['topics'] = repo_df['topics'].apply(lambda ts: [stemmer.stem(t) for t in ts])\n",
    "    repo_df['description'].fillna('', inplace=True)\n",
    "    repo_df['description'] = repo_df['description'].apply(stemmer.stem)\n",
    "    repo_df['description_keywords'] = repo_df['description'].apply(summarization.keywords)\n",
    "    return repo_df"
   ]
  },
  {
   "cell_type": "code",
   "execution_count": null,
   "metadata": {},
   "outputs": [],
   "source": [
    "def get_topic_representant_indices(topic_weights, topic_idx, num_representants=5):\n",
    "    indices = topic_weights[:, topic_idx].argsort()[::-1]\n",
    "    return indices[:num_representants]\n",
    "\n",
    "\n",
    "def get_repos_representing_topic(repo_df, topic_weights, topic_idx, num_representants=5):\n",
    "    return repo_df.iloc[get_topic_representant_indices(topic_weights, topic_idx, num_representants)]"
   ]
  },
  {
   "cell_type": "code",
   "execution_count": null,
   "metadata": {
    "colab": {},
    "colab_type": "code",
    "id": "JJBDCbL996Lh"
   },
   "outputs": [],
   "source": [
    "starred_repo_df = get_cleaned_starred_repositories_df(starred_repo_information)"
   ]
  },
  {
   "cell_type": "markdown",
   "metadata": {
    "colab_type": "text",
    "id": "V45r5clQR6BC"
   },
   "source": [
    "Primary language"
   ]
  },
  {
   "cell_type": "code",
   "execution_count": null,
   "metadata": {
    "colab": {
     "base_uri": "https://localhost:8080/",
     "height": 327
    },
    "colab_type": "code",
    "id": "KPxVpoGHROmc",
    "outputId": "352c41ef-cd56-4e22-e097-c4a6732c17f4"
   },
   "outputs": [],
   "source": [
    "starred_repo_df['primaryLanguage'].fillna('none/text').value_counts().plot.bar(rot=45);"
   ]
  },
  {
   "cell_type": "code",
   "execution_count": null,
   "metadata": {
    "colab": {
     "base_uri": "https://localhost:8080/",
     "height": 283
    },
    "colab_type": "code",
    "id": "kMu2SXijLa-s",
    "outputId": "e0a67fbd-73cc-48a2-f044-eb460700412d"
   },
   "outputs": [],
   "source": [
    "sns.distplot(starred_repo_df['description'].str.split().apply(lambda l: 0 if l is None else len(l)));"
   ]
  },
  {
   "cell_type": "markdown",
   "metadata": {
    "colab_type": "text",
    "id": "jaD1fT_UXyae"
   },
   "source": [
    "Topics word cloud"
   ]
  },
  {
   "cell_type": "code",
   "execution_count": null,
   "metadata": {
    "colab": {
     "base_uri": "https://localhost:8080/",
     "height": 275
    },
    "colab_type": "code",
    "id": "MhcgvKuyX0A4",
    "outputId": "a664baa0-6ba0-4b83-81bd-f833a7f14224"
   },
   "outputs": [],
   "source": [
    "show_word_cloud_from_texts(starred_repo_df['topics'].apply(' '.join))"
   ]
  },
  {
   "cell_type": "markdown",
   "metadata": {
    "colab_type": "text",
    "id": "bfHgxBgaXwv-"
   },
   "source": [
    "Descriptions word cloud"
   ]
  },
  {
   "cell_type": "code",
   "execution_count": null,
   "metadata": {},
   "outputs": [],
   "source": [
    "show_word_cloud_from_texts(starred_repo_df['description'])"
   ]
  },
  {
   "cell_type": "code",
   "execution_count": null,
   "metadata": {
    "colab": {
     "base_uri": "https://localhost:8080/",
     "height": 275
    },
    "colab_type": "code",
    "id": "zVJ-66l2UV3W",
    "outputId": "dcc9c37a-9ad0-48dd-ec3f-287c7cbe00ee"
   },
   "outputs": [],
   "source": [
    "show_word_cloud_from_texts(starred_repo_df['description_keywords'])"
   ]
  },
  {
   "cell_type": "markdown",
   "metadata": {
    "colab_type": "text",
    "id": "gSIfWrKhkhGa"
   },
   "source": [
    "## Topic modeling (repo descriptions)"
   ]
  },
  {
   "cell_type": "code",
   "execution_count": null,
   "metadata": {
    "colab": {},
    "colab_type": "code",
    "id": "8P-zYDlske82"
   },
   "outputs": [],
   "source": [
    "num_topics = 10\n",
    "nmf = decomposition.NMF(n_components=num_topics)"
   ]
  },
  {
   "cell_type": "code",
   "execution_count": null,
   "metadata": {
    "colab": {},
    "colab_type": "code",
    "id": "bfXKGd7Tkt2t"
   },
   "outputs": [],
   "source": [
    "vectorizer = feature_extraction.text.TfidfVectorizer(\n",
    "    stop_words=stop_words.ENGLISH_STOP_WORDS,\n",
    "    ngram_range=(1,2)\n",
    ")\n",
    "description_vectors = vectorizer.fit_transform(starred_repo_df['description'])"
   ]
  },
  {
   "cell_type": "code",
   "execution_count": null,
   "metadata": {
    "colab": {},
    "colab_type": "code",
    "id": "ZLDugD3-lMsj"
   },
   "outputs": [],
   "source": [
    "reduced_description_vectors = nmf.fit_transform(description_vectors)"
   ]
  },
  {
   "cell_type": "code",
   "execution_count": null,
   "metadata": {
    "colab": {},
    "colab_type": "code",
    "id": "-s_NS58al8ID"
   },
   "outputs": [],
   "source": [
    "topic_words = topic_modeling.top_topic_words(nmf, vectorizer.get_feature_names(), 10)"
   ]
  },
  {
   "cell_type": "code",
   "execution_count": null,
   "metadata": {},
   "outputs": [],
   "source": [
    "top_words_per_topic = [list(topic_words.iloc[topic].values) for topic in range(num_topics)]\n",
    "representative_repos = [get_repos_representing_topic(starred_repo_df, reduced_description_vectors, topic)[['description']] for topic in range(num_topics)]"
   ]
  },
  {
   "cell_type": "markdown",
   "metadata": {},
   "source": [
    "## Topic keywords and most representative repositories"
   ]
  },
  {
   "cell_type": "code",
   "execution_count": null,
   "metadata": {},
   "outputs": [],
   "source": [
    "for topic in range(num_topics):\n",
    "    printmd('## **topic {} keywords:**'.format(topic + 1))\n",
    "    display(top_words_per_topic[topic])\n",
    "    printmd('## **repositories representative for {}th topic:**'.format(topic + 1))\n",
    "    display(representative_repos[topic])\n",
    "    print()"
   ]
  },
  {
   "cell_type": "markdown",
   "metadata": {},
   "source": [
    "## Visualizing repository 2D projection"
   ]
  },
  {
   "cell_type": "code",
   "execution_count": null,
   "metadata": {},
   "outputs": [],
   "source": [
    "mds = manifold.MDS()\n",
    "mds_reduced_vectors = mds.fit_transform(reduced_description_vectors)"
   ]
  },
  {
   "cell_type": "code",
   "execution_count": 75,
   "metadata": {},
   "outputs": [],
   "source": [
    "representatives = pd.concat(representative_repos)"
   ]
  },
  {
   "cell_type": "code",
   "execution_count": 76,
   "metadata": {},
   "outputs": [],
   "source": [
    "representative_indices = np.where(starred_repo_df.index.isin(representatives.index))"
   ]
  },
  {
   "cell_type": "code",
   "execution_count": 77,
   "metadata": {},
   "outputs": [],
   "source": [
    "mds_reduced_representative_vectors = mds_reduced_vectors[representative_indices]"
   ]
  },
  {
   "cell_type": "code",
   "execution_count": 78,
   "metadata": {},
   "outputs": [
    {
     "data": {
      "image/png": "[encoded data removed]",
      "text/plain": [
       "<Figure size 864x576 with 1 Axes>"
      ]
     },
     "metadata": {},
     "output_type": "display_data"
    }
   ],
   "source": [
    "fig, ax = plt.subplots(figsize=(12, 8));\n",
    "\n",
    "x, y = mds_reduced_representative_vectors[:, 0], mds_reduced_representative_vectors[:, 1]\n",
    "ax.scatter(x, y)\n",
    "for i, txt in enumerate(representatives.index):\n",
    "    ax.annotate(txt, (x[i] + 0.01 * np.random.randn(), y[i] + 0.01 * np.random.randn()))"
   ]
  },
  {
   "cell_type": "markdown",
   "metadata": {},
   "source": [
    "# Search"
   ]
  },
  {
   "cell_type": "code",
   "execution_count": 100,
   "metadata": {},
   "outputs": [],
   "source": [
    "bm25 = rank_bm25.BM25Okapi(list(starred_repo_df['description'].str.split()))"
   ]
  },
  {
   "cell_type": "code",
   "execution_count": 179,
   "metadata": {},
   "outputs": [],
   "source": [
    "def search_repos(query):\n",
    "    scores = bm25.get_scores(query.split())\n",
    "    #scores = scores[scores > 0]\n",
    "    relevant_indices = np.argsort(-scores)[:100]\n",
    "    return starred_repo_df.iloc[relevant_indices[scores[relevant_indices] > 0]]"
   ]
  },
  {
   "cell_type": "code",
   "execution_count": 180,
   "metadata": {},
   "outputs": [
    {
     "data": {
      "text/html": [
       "<div>\n",
       "<style scoped>\n",
       "    .dataframe tbody tr th:only-of-type {\n",
       "        vertical-align: middle;\n",
       "    }\n",
       "\n",
       "    .dataframe tbody tr th {\n",
       "        vertical-align: top;\n",
       "    }\n",
       "\n",
       "    .dataframe thead th {\n",
       "        text-align: right;\n",
       "    }\n",
       "</style>\n",
       "<table border=\"1\" class=\"dataframe\">\n",
       "  <thead>\n",
       "    <tr style=\"text-align: right;\">\n",
       "      <th></th>\n",
       "      <th>description</th>\n",
       "      <th>owner.login</th>\n",
       "      <th>primaryLanguage.name</th>\n",
       "      <th>repositoryTopics.nodes</th>\n",
       "      <th>object.text</th>\n",
       "      <th>primaryLanguage</th>\n",
       "      <th>object</th>\n",
       "      <th>topics</th>\n",
       "      <th>description_keywords</th>\n",
       "    </tr>\n",
       "    <tr>\n",
       "      <th>name</th>\n",
       "      <th></th>\n",
       "      <th></th>\n",
       "      <th></th>\n",
       "      <th></th>\n",
       "      <th></th>\n",
       "      <th></th>\n",
       "      <th></th>\n",
       "      <th></th>\n",
       "      <th></th>\n",
       "    </tr>\n",
       "  </thead>\n",
       "  <tbody>\n",
       "    <tr>\n",
       "      <th>irlib</th>\n",
       "      <td>information retrieval library (in python)</td>\n",
       "      <td>gr33ndata</td>\n",
       "      <td>Python</td>\n",
       "      <td>[]</td>\n",
       "      <td>NaN</td>\n",
       "      <td>Python</td>\n",
       "      <td>NaN</td>\n",
       "      <td>[]</td>\n",
       "      <td></td>\n",
       "    </tr>\n",
       "    <tr>\n",
       "      <th>awesome-information-retrieval</th>\n",
       "      <td>a curated list of awesome information retrieva...</td>\n",
       "      <td>harpribot</td>\n",
       "      <td>NaN</td>\n",
       "      <td>[]</td>\n",
       "      <td># Awesome Information Retrieval [![Awesome](ht...</td>\n",
       "      <td>NaN</td>\n",
       "      <td>NaN</td>\n",
       "      <td>[]</td>\n",
       "      <td>retrieval</td>\n",
       "    </tr>\n",
       "    <tr>\n",
       "      <th>LIRE</th>\n",
       "      <td>open source library for content based image re...</td>\n",
       "      <td>dermotte</td>\n",
       "      <td>Java</td>\n",
       "      <td>[{'topic': {'name': 'image-retrieval'}}, {'top...</td>\n",
       "      <td># LIRE - Lucene Image Retrieval\\nLIRE (Lucene ...</td>\n",
       "      <td>Java</td>\n",
       "      <td>NaN</td>\n",
       "      <td>[image-retriev, lire, multimedia]</td>\n",
       "      <td>source</td>\n",
       "    </tr>\n",
       "    <tr>\n",
       "      <th>pytrec_eval</th>\n",
       "      <td>pytrec_eval is an information retrieval evalua...</td>\n",
       "      <td>cvangysel</td>\n",
       "      <td>C++</td>\n",
       "      <td>[{'topic': {'name': 'information-retrieval'}},...</td>\n",
       "      <td>pytrec_eval\\n===========\\n\\npytrec\\_eval is a ...</td>\n",
       "      <td>C++</td>\n",
       "      <td>NaN</td>\n",
       "      <td>[information-retriev, evalu]</td>\n",
       "      <td>retrieval</td>\n",
       "    </tr>\n",
       "    <tr>\n",
       "      <th>query-expansion</th>\n",
       "      <td>developing different methods for expanding a q...</td>\n",
       "      <td>phosseini</td>\n",
       "      <td>Python</td>\n",
       "      <td>[]</td>\n",
       "      <td># query-expansion\\n\\nThis repository is dedica...</td>\n",
       "      <td>Python</td>\n",
       "      <td>NaN</td>\n",
       "      <td>[]</td>\n",
       "      <td>different\\nquery</td>\n",
       "    </tr>\n",
       "    <tr>\n",
       "      <th>SERT</th>\n",
       "      <td>semantic entity retrieval toolkit</td>\n",
       "      <td>cvangysel</td>\n",
       "      <td>Python</td>\n",
       "      <td>[{'topic': {'name': 'representation-learning'}...</td>\n",
       "      <td>Semantic Entity Retrieval Toolkit\\n===========...</td>\n",
       "      <td>Python</td>\n",
       "      <td>NaN</td>\n",
       "      <td>[representation-learn, deeplearn, neural-netwo...</td>\n",
       "      <td></td>\n",
       "    </tr>\n",
       "    <tr>\n",
       "      <th>dit</th>\n",
       "      <td>python package for information theory.</td>\n",
       "      <td>dit</td>\n",
       "      <td>Python</td>\n",
       "      <td>[{'topic': {'name': 'python'}}, {'topic': {'na...</td>\n",
       "      <td>NaN</td>\n",
       "      <td>Python</td>\n",
       "      <td>NaN</td>\n",
       "      <td>[python, information-theori]</td>\n",
       "      <td></td>\n",
       "    </tr>\n",
       "    <tr>\n",
       "      <th>ir-python</th>\n",
       "      <td>a python implementation for information retrie...</td>\n",
       "      <td>zxzlogic</td>\n",
       "      <td>Python</td>\n",
       "      <td>[]</td>\n",
       "      <td># ir-python\\nA python implementation for infor...</td>\n",
       "      <td>Python</td>\n",
       "      <td>NaN</td>\n",
       "      <td>[]</td>\n",
       "      <td>retrieval\\npython\\nindex\\nindexing</td>\n",
       "    </tr>\n",
       "    <tr>\n",
       "      <th>cnnimageretrieval-pytorch</th>\n",
       "      <td>cnn image retrieval in pytorch: training and e...</td>\n",
       "      <td>filipradenovic</td>\n",
       "      <td>Python</td>\n",
       "      <td>[{'topic': {'name': 'image-retrieval'}}, {'top...</td>\n",
       "      <td>## CNN Image Retrieval in PyTorch: Training an...</td>\n",
       "      <td>Python</td>\n",
       "      <td>NaN</td>\n",
       "      <td>[image-retriev, convolutional-neural-network, ...</td>\n",
       "      <td>cnn\\ncnns</td>\n",
       "    </tr>\n",
       "    <tr>\n",
       "      <th>musicinformationretrieval.com</th>\n",
       "      <td>instructional notebooks on music information r...</td>\n",
       "      <td>stevetjoa</td>\n",
       "      <td>Jupyter Notebook</td>\n",
       "      <td>[{'topic': {'name': 'ipython-notebook'}}, {'to...</td>\n",
       "      <td>stanford-mir\\n============\\n\\n[![Stories in Re...</td>\n",
       "      <td>Jupyter Notebook</td>\n",
       "      <td>NaN</td>\n",
       "      <td>[ipython-notebook, music-information-retriev, ...</td>\n",
       "      <td>information</td>\n",
       "    </tr>\n",
       "    <tr>\n",
       "      <th>CBIR</th>\n",
       "      <td>🏞  a content-based image retrieval (cbir) system</td>\n",
       "      <td>pochih</td>\n",
       "      <td>Python</td>\n",
       "      <td>[{'topic': {'name': 'image-retrieval'}}, {'top...</td>\n",
       "      <td>[![Open Source Love](https://badges.frapsoft.c...</td>\n",
       "      <td>Python</td>\n",
       "      <td>NaN</td>\n",
       "      <td>[image-retriev, computer-vis, gabor, hog, edg,...</td>\n",
       "      <td>retrieval</td>\n",
       "    </tr>\n",
       "    <tr>\n",
       "      <th>revisitop</th>\n",
       "      <td>revisiting oxford and paris: large-scale image...</td>\n",
       "      <td>filipradenovic</td>\n",
       "      <td>Python</td>\n",
       "      <td>[{'topic': {'name': 'image-retrieval'}}, {'top...</td>\n",
       "      <td># Revisiting Oxford and Paris: Large-Scale Ima...</td>\n",
       "      <td>Python</td>\n",
       "      <td>NaN</td>\n",
       "      <td>[image-retriev, matlab, python]</td>\n",
       "      <td>large</td>\n",
       "    </tr>\n",
       "    <tr>\n",
       "      <th>sparse_recovery</th>\n",
       "      <td>noiseless/nonnegative sparse recovery and feat...</td>\n",
       "      <td>NLPrinceton</td>\n",
       "      <td>Python</td>\n",
       "      <td>[]</td>\n",
       "      <td># sparse_recovery\\n\\nThis module provides solv...</td>\n",
       "      <td>Python</td>\n",
       "      <td>NaN</td>\n",
       "      <td>[]</td>\n",
       "      <td></td>\n",
       "    </tr>\n",
       "    <tr>\n",
       "      <th>minmaxcsa</th>\n",
       "      <td>minmax circular sector arc for external plagia...</td>\n",
       "      <td>duartefellipe</td>\n",
       "      <td>Python</td>\n",
       "      <td>[{'topic': {'name': 'plagiarism-detection'}}, ...</td>\n",
       "      <td>## Minmax Circular Sector Arcs (MinMaxCSA): A ...</td>\n",
       "      <td>Python</td>\n",
       "      <td>NaN</td>\n",
       "      <td>[plagiarism-detect, locality-sensitive-hash, l...</td>\n",
       "      <td>stage\\ncircular</td>\n",
       "    </tr>\n",
       "    <tr>\n",
       "      <th>Open-IE-Papers</th>\n",
       "      <td>open information extraction (openie) and open ...</td>\n",
       "      <td>NPCai</td>\n",
       "      <td>NaN</td>\n",
       "      <td>[{'topic': {'name': 'openie'}}, {'topic': {'na...</td>\n",
       "      <td># Table of Contents\\n\\n1. [General](#general)\\...</td>\n",
       "      <td>NaN</td>\n",
       "      <td>NaN</td>\n",
       "      <td>[openi, literature-review, paper, nlp, informa...</td>\n",
       "      <td>extraction</td>\n",
       "    </tr>\n",
       "    <tr>\n",
       "      <th>paws</th>\n",
       "      <td>this dataset contains 108,463 human-labeled an...</td>\n",
       "      <td>google-research-datasets</td>\n",
       "      <td>Python</td>\n",
       "      <td>[]</td>\n",
       "      <td># PAWS: Paraphrase Adversaries from Word Scram...</td>\n",
       "      <td>Python</td>\n",
       "      <td>NaN</td>\n",
       "      <td>[]</td>\n",
       "      <td>labeled\\norder</td>\n",
       "    </tr>\n",
       "    <tr>\n",
       "      <th>berkeley-doc-summarizer</th>\n",
       "      <td>the berkeley document summarizer is a learning...</td>\n",
       "      <td>gregdurrett</td>\n",
       "      <td>Scala</td>\n",
       "      <td>[]</td>\n",
       "      <td>berkeley-doc-summarizer\\n=====================...</td>\n",
       "      <td>Scala</td>\n",
       "      <td>NaN</td>\n",
       "      <td>[]</td>\n",
       "      <td>document\\ncoreference\\nsyntactic</td>\n",
       "    </tr>\n",
       "  </tbody>\n",
       "</table>\n",
       "</div>"
      ],
      "text/plain": [
       "                                                                     description  \\\n",
       "name                                                                               \n",
       "irlib                                  information retrieval library (in python)   \n",
       "awesome-information-retrieval  a curated list of awesome information retrieva...   \n",
       "LIRE                           open source library for content based image re...   \n",
       "pytrec_eval                    pytrec_eval is an information retrieval evalua...   \n",
       "query-expansion                developing different methods for expanding a q...   \n",
       "SERT                                           semantic entity retrieval toolkit   \n",
       "dit                                       python package for information theory.   \n",
       "ir-python                      a python implementation for information retrie...   \n",
       "cnnimageretrieval-pytorch      cnn image retrieval in pytorch: training and e...   \n",
       "musicinformationretrieval.com  instructional notebooks on music information r...   \n",
       "CBIR                            🏞  a content-based image retrieval (cbir) system   \n",
       "revisitop                      revisiting oxford and paris: large-scale image...   \n",
       "sparse_recovery                noiseless/nonnegative sparse recovery and feat...   \n",
       "minmaxcsa                      minmax circular sector arc for external plagia...   \n",
       "Open-IE-Papers                 open information extraction (openie) and open ...   \n",
       "paws                           this dataset contains 108,463 human-labeled an...   \n",
       "berkeley-doc-summarizer        the berkeley document summarizer is a learning...   \n",
       "\n",
       "                                            owner.login primaryLanguage.name  \\\n",
       "name                                                                           \n",
       "irlib                                         gr33ndata               Python   \n",
       "awesome-information-retrieval                 harpribot                  NaN   \n",
       "LIRE                                           dermotte                 Java   \n",
       "pytrec_eval                                   cvangysel                  C++   \n",
       "query-expansion                               phosseini               Python   \n",
       "SERT                                          cvangysel               Python   \n",
       "dit                                                 dit               Python   \n",
       "ir-python                                      zxzlogic               Python   \n",
       "cnnimageretrieval-pytorch                filipradenovic               Python   \n",
       "musicinformationretrieval.com                 stevetjoa     Jupyter Notebook   \n",
       "CBIR                                             pochih               Python   \n",
       "revisitop                                filipradenovic               Python   \n",
       "sparse_recovery                             NLPrinceton               Python   \n",
       "minmaxcsa                                 duartefellipe               Python   \n",
       "Open-IE-Papers                                    NPCai                  NaN   \n",
       "paws                           google-research-datasets               Python   \n",
       "berkeley-doc-summarizer                     gregdurrett                Scala   \n",
       "\n",
       "                                                          repositoryTopics.nodes  \\\n",
       "name                                                                               \n",
       "irlib                                                                         []   \n",
       "awesome-information-retrieval                                                 []   \n",
       "LIRE                           [{'topic': {'name': 'image-retrieval'}}, {'top...   \n",
       "pytrec_eval                    [{'topic': {'name': 'information-retrieval'}},...   \n",
       "query-expansion                                                               []   \n",
       "SERT                           [{'topic': {'name': 'representation-learning'}...   \n",
       "dit                            [{'topic': {'name': 'python'}}, {'topic': {'na...   \n",
       "ir-python                                                                     []   \n",
       "cnnimageretrieval-pytorch      [{'topic': {'name': 'image-retrieval'}}, {'top...   \n",
       "musicinformationretrieval.com  [{'topic': {'name': 'ipython-notebook'}}, {'to...   \n",
       "CBIR                           [{'topic': {'name': 'image-retrieval'}}, {'top...   \n",
       "revisitop                      [{'topic': {'name': 'image-retrieval'}}, {'top...   \n",
       "sparse_recovery                                                               []   \n",
       "minmaxcsa                      [{'topic': {'name': 'plagiarism-detection'}}, ...   \n",
       "Open-IE-Papers                 [{'topic': {'name': 'openie'}}, {'topic': {'na...   \n",
       "paws                                                                          []   \n",
       "berkeley-doc-summarizer                                                       []   \n",
       "\n",
       "                                                                     object.text  \\\n",
       "name                                                                               \n",
       "irlib                                                                        NaN   \n",
       "awesome-information-retrieval  # Awesome Information Retrieval [![Awesome](ht...   \n",
       "LIRE                           # LIRE - Lucene Image Retrieval\\nLIRE (Lucene ...   \n",
       "pytrec_eval                    pytrec_eval\\n===========\\n\\npytrec\\_eval is a ...   \n",
       "query-expansion                # query-expansion\\n\\nThis repository is dedica...   \n",
       "SERT                           Semantic Entity Retrieval Toolkit\\n===========...   \n",
       "dit                                                                          NaN   \n",
       "ir-python                      # ir-python\\nA python implementation for infor...   \n",
       "cnnimageretrieval-pytorch      ## CNN Image Retrieval in PyTorch: Training an...   \n",
       "musicinformationretrieval.com  stanford-mir\\n============\\n\\n[![Stories in Re...   \n",
       "CBIR                           [![Open Source Love](https://badges.frapsoft.c...   \n",
       "revisitop                      # Revisiting Oxford and Paris: Large-Scale Ima...   \n",
       "sparse_recovery                # sparse_recovery\\n\\nThis module provides solv...   \n",
       "minmaxcsa                      ## Minmax Circular Sector Arcs (MinMaxCSA): A ...   \n",
       "Open-IE-Papers                 # Table of Contents\\n\\n1. [General](#general)\\...   \n",
       "paws                           # PAWS: Paraphrase Adversaries from Word Scram...   \n",
       "berkeley-doc-summarizer        berkeley-doc-summarizer\\n=====================...   \n",
       "\n",
       "                                primaryLanguage  object  \\\n",
       "name                                                      \n",
       "irlib                                    Python     NaN   \n",
       "awesome-information-retrieval               NaN     NaN   \n",
       "LIRE                                       Java     NaN   \n",
       "pytrec_eval                                 C++     NaN   \n",
       "query-expansion                          Python     NaN   \n",
       "SERT                                     Python     NaN   \n",
       "dit                                      Python     NaN   \n",
       "ir-python                                Python     NaN   \n",
       "cnnimageretrieval-pytorch                Python     NaN   \n",
       "musicinformationretrieval.com  Jupyter Notebook     NaN   \n",
       "CBIR                                     Python     NaN   \n",
       "revisitop                                Python     NaN   \n",
       "sparse_recovery                          Python     NaN   \n",
       "minmaxcsa                                Python     NaN   \n",
       "Open-IE-Papers                              NaN     NaN   \n",
       "paws                                     Python     NaN   \n",
       "berkeley-doc-summarizer                   Scala     NaN   \n",
       "\n",
       "                                                                          topics  \\\n",
       "name                                                                               \n",
       "irlib                                                                         []   \n",
       "awesome-information-retrieval                                                 []   \n",
       "LIRE                                           [image-retriev, lire, multimedia]   \n",
       "pytrec_eval                                         [information-retriev, evalu]   \n",
       "query-expansion                                                               []   \n",
       "SERT                           [representation-learn, deeplearn, neural-netwo...   \n",
       "dit                                                 [python, information-theori]   \n",
       "ir-python                                                                     []   \n",
       "cnnimageretrieval-pytorch      [image-retriev, convolutional-neural-network, ...   \n",
       "musicinformationretrieval.com  [ipython-notebook, music-information-retriev, ...   \n",
       "CBIR                           [image-retriev, computer-vis, gabor, hog, edg,...   \n",
       "revisitop                                        [image-retriev, matlab, python]   \n",
       "sparse_recovery                                                               []   \n",
       "minmaxcsa                      [plagiarism-detect, locality-sensitive-hash, l...   \n",
       "Open-IE-Papers                 [openi, literature-review, paper, nlp, informa...   \n",
       "paws                                                                          []   \n",
       "berkeley-doc-summarizer                                                       []   \n",
       "\n",
       "                                             description_keywords  \n",
       "name                                                               \n",
       "irlib                                                              \n",
       "awesome-information-retrieval                           retrieval  \n",
       "LIRE                                                       source  \n",
       "pytrec_eval                                             retrieval  \n",
       "query-expansion                                  different\\nquery  \n",
       "SERT                                                               \n",
       "dit                                                                \n",
       "ir-python                      retrieval\\npython\\nindex\\nindexing  \n",
       "cnnimageretrieval-pytorch                               cnn\\ncnns  \n",
       "musicinformationretrieval.com                         information  \n",
       "CBIR                                                    retrieval  \n",
       "revisitop                                                   large  \n",
       "sparse_recovery                                                    \n",
       "minmaxcsa                                         stage\\ncircular  \n",
       "Open-IE-Papers                                         extraction  \n",
       "paws                                               labeled\\norder  \n",
       "berkeley-doc-summarizer          document\\ncoreference\\nsyntactic  "
      ]
     },
     "execution_count": 180,
     "metadata": {},
     "output_type": "execute_result"
    }
   ],
   "source": [
    "search_repos('information retrieval')"
   ]
  },
  {
   "cell_type": "code",
   "execution_count": null,
   "metadata": {},
   "outputs": [],
   "source": []
  }
 ],
 "metadata": {
  "colab": {
   "collapsed_sections": [],
   "name": "Github Starred Repositories.ipynb",
   "provenance": [],
   "version": "0.3.2"
  },
  "kernelspec": {
   "display_name": "ml",
   "language": "python",
   "name": "ml"
  },
  "language_info": {
   "codemirror_mode": {
    "name": "ipython",
    "version": 3
   },
   "file_extension": ".py",
   "mimetype": "text/x-python",
   "name": "python",
   "nbconvert_exporter": "python",
   "pygments_lexer": "ipython3",
   "version": "3.7.3"
  }
 },
 "nbformat": 4,
 "nbformat_minor": 2
}
