{
 "cells": [
  {
   "cell_type": "code",
   "execution_count": 1,
   "metadata": {
    "scrolled": true
   },
   "outputs": [
    {
     "name": "stdout",
     "output_type": "stream",
     "text": [
      "Requirement already satisfied: gensim in /etc/anaconda/lib/python3.7/site-packages (3.8.1)\n",
      "Requirement already satisfied: seaborn in /etc/anaconda/lib/python3.7/site-packages (0.9.0)\n",
      "Requirement already satisfied: wordcloud in /etc/anaconda/lib/python3.7/site-packages (1.6.0)\n",
      "Requirement already satisfied: rank_bm25 in /etc/anaconda/lib/python3.7/site-packages (0.2)\n",
      "Requirement already satisfied: nltk in /etc/anaconda/lib/python3.7/site-packages (3.4)\n",
      "Requirement already satisfied: numpy>=1.11.3 in /etc/anaconda/lib/python3.7/site-packages (from gensim) (1.16.2)\n",
      "Requirement already satisfied: smart-open>=1.8.1 in /etc/anaconda/lib/python3.7/site-packages (from gensim) (1.9.0)\n",
      "Requirement already satisfied: six>=1.5.0 in /etc/anaconda/lib/python3.7/site-packages (from gensim) (1.14.0)\n",
      "Requirement already satisfied: scipy>=0.18.1 in /etc/anaconda/lib/python3.7/site-packages (from gensim) (1.2.1)\n",
      "Requirement already satisfied: matplotlib>=1.4.3 in /etc/anaconda/lib/python3.7/site-packages (from seaborn) (3.0.3)\n",
      "Requirement already satisfied: pandas>=0.15.2 in /etc/anaconda/lib/python3.7/site-packages (from seaborn) (0.24.2)\n",
      "Requirement already satisfied: pillow in /etc/anaconda/lib/python3.7/site-packages (from wordcloud) (5.4.1)\n",
      "Requirement already satisfied: singledispatch in /etc/anaconda/lib/python3.7/site-packages (from nltk) (3.4.0.3)\n",
      "Requirement already satisfied: requests in /etc/anaconda/lib/python3.7/site-packages (from smart-open>=1.8.1->gensim) (2.21.0)\n",
      "Requirement already satisfied: boto3 in /etc/anaconda/lib/python3.7/site-packages (from smart-open>=1.8.1->gensim) (1.11.13)\n",
      "Requirement already satisfied: boto>=2.32 in /etc/anaconda/lib/python3.7/site-packages (from smart-open>=1.8.1->gensim) (2.49.0)\n",
      "Requirement already satisfied: cycler>=0.10 in /etc/anaconda/lib/python3.7/site-packages (from matplotlib>=1.4.3->seaborn) (0.10.0)\n",
      "Requirement already satisfied: kiwisolver>=1.0.1 in /etc/anaconda/lib/python3.7/site-packages (from matplotlib>=1.4.3->seaborn) (1.0.1)\n",
      "Requirement already satisfied: pyparsing!=2.0.4,!=2.1.2,!=2.1.6,>=2.0.1 in /etc/anaconda/lib/python3.7/site-packages (from matplotlib>=1.4.3->seaborn) (2.3.1)\n",
      "Requirement already satisfied: python-dateutil>=2.1 in /etc/anaconda/lib/python3.7/site-packages (from matplotlib>=1.4.3->seaborn) (2.8.0)\n",
      "Requirement already satisfied: pytz>=2011k in /etc/anaconda/lib/python3.7/site-packages (from pandas>=0.15.2->seaborn) (2018.9)\n",
      "Requirement already satisfied: chardet<3.1.0,>=3.0.2 in /etc/anaconda/lib/python3.7/site-packages (from requests->smart-open>=1.8.1->gensim) (3.0.4)\n",
      "Requirement already satisfied: certifi>=2017.4.17 in /etc/anaconda/lib/python3.7/site-packages (from requests->smart-open>=1.8.1->gensim) (2019.3.9)\n",
      "Requirement already satisfied: urllib3<1.25,>=1.21.1 in /etc/anaconda/lib/python3.7/site-packages (from requests->smart-open>=1.8.1->gensim) (1.24.1)\n",
      "Requirement already satisfied: idna<2.9,>=2.5 in /etc/anaconda/lib/python3.7/site-packages (from requests->smart-open>=1.8.1->gensim) (2.8)\n",
      "Requirement already satisfied: botocore<1.15.0,>=1.14.13 in /etc/anaconda/lib/python3.7/site-packages (from boto3->smart-open>=1.8.1->gensim) (1.14.13)\n",
      "Requirement already satisfied: jmespath<1.0.0,>=0.7.1 in /etc/anaconda/lib/python3.7/site-packages (from boto3->smart-open>=1.8.1->gensim) (0.9.4)\n",
      "Requirement already satisfied: s3transfer<0.4.0,>=0.3.0 in /etc/anaconda/lib/python3.7/site-packages (from boto3->smart-open>=1.8.1->gensim) (0.3.3)\n",
      "Requirement already satisfied: setuptools in /etc/anaconda/lib/python3.7/site-packages (from kiwisolver>=1.0.1->matplotlib>=1.4.3->seaborn) (40.8.0)\n",
      "Requirement already satisfied: docutils<0.16,>=0.10 in /etc/anaconda/lib/python3.7/site-packages (from botocore<1.15.0,>=1.14.13->boto3->smart-open>=1.8.1->gensim) (0.14)\n",
      "Collecting git+https://github.com/lambdaofgod/mlutil\n",
      "  Cloning https://github.com/lambdaofgod/mlutil to /tmp/pip-req-build-nkpxj7d7\n",
      "Requirement already satisfied (use --upgrade to upgrade): mlutil==0.1211 from git+https://github.com/lambdaofgod/mlutil in /etc/anaconda/lib/python3.7/site-packages\n",
      "Requirement already satisfied: gensim in /etc/anaconda/lib/python3.7/site-packages (from mlutil==0.1211) (3.8.1)\n",
      "Requirement already satisfied: nltk in /etc/anaconda/lib/python3.7/site-packages (from mlutil==0.1211) (3.4)\n",
      "Requirement already satisfied: pandas in /etc/anaconda/lib/python3.7/site-packages (from mlutil==0.1211) (0.24.2)\n",
      "Requirement already satisfied: numpy in /etc/anaconda/lib/python3.7/site-packages (from mlutil==0.1211) (1.16.2)\n",
      "Requirement already satisfied: tqdm in /etc/anaconda/lib/python3.7/site-packages (from mlutil==0.1211) (4.31.1)\n",
      "Requirement already satisfied: sklearn in /etc/anaconda/lib/python3.7/site-packages (from mlutil==0.1211) (0.0)\n",
      "Requirement already satisfied: pytest in /etc/anaconda/lib/python3.7/site-packages (from mlutil==0.1211) (4.3.1)\n",
      "Requirement already satisfied: seaborn in /etc/anaconda/lib/python3.7/site-packages (from mlutil==0.1211) (0.9.0)\n",
      "Requirement already satisfied: six>=1.5.0 in /etc/anaconda/lib/python3.7/site-packages (from gensim->mlutil==0.1211) (1.14.0)\n",
      "Requirement already satisfied: smart-open>=1.8.1 in /etc/anaconda/lib/python3.7/site-packages (from gensim->mlutil==0.1211) (1.9.0)\n",
      "Requirement already satisfied: scipy>=0.18.1 in /etc/anaconda/lib/python3.7/site-packages (from gensim->mlutil==0.1211) (1.2.1)\n",
      "Requirement already satisfied: singledispatch in /etc/anaconda/lib/python3.7/site-packages (from nltk->mlutil==0.1211) (3.4.0.3)\n",
      "Requirement already satisfied: python-dateutil>=2.5.0 in /etc/anaconda/lib/python3.7/site-packages (from pandas->mlutil==0.1211) (2.8.0)\n",
      "Requirement already satisfied: pytz>=2011k in /etc/anaconda/lib/python3.7/site-packages (from pandas->mlutil==0.1211) (2018.9)\n",
      "Requirement already satisfied: scikit-learn in /etc/anaconda/lib/python3.7/site-packages (from sklearn->mlutil==0.1211) (0.20.3)\n",
      "Requirement already satisfied: py>=1.5.0 in /etc/anaconda/lib/python3.7/site-packages (from pytest->mlutil==0.1211) (1.8.0)\n",
      "Requirement already satisfied: setuptools in /etc/anaconda/lib/python3.7/site-packages (from pytest->mlutil==0.1211) (40.8.0)\n",
      "Requirement already satisfied: attrs>=17.4.0 in /etc/anaconda/lib/python3.7/site-packages (from pytest->mlutil==0.1211) (19.1.0)\n",
      "Requirement already satisfied: atomicwrites>=1.0 in /etc/anaconda/lib/python3.7/site-packages (from pytest->mlutil==0.1211) (1.3.0)\n",
      "Requirement already satisfied: pluggy>=0.7 in /etc/anaconda/lib/python3.7/site-packages (from pytest->mlutil==0.1211) (0.9.0)\n",
      "Requirement already satisfied: more-itertools>=4.0.0 in /etc/anaconda/lib/python3.7/site-packages (from pytest->mlutil==0.1211) (6.0.0)\n",
      "Requirement already satisfied: matplotlib>=1.4.3 in /etc/anaconda/lib/python3.7/site-packages (from seaborn->mlutil==0.1211) (3.0.3)\n",
      "Requirement already satisfied: boto>=2.32 in /etc/anaconda/lib/python3.7/site-packages (from smart-open>=1.8.1->gensim->mlutil==0.1211) (2.49.0)\n",
      "Requirement already satisfied: boto3 in /etc/anaconda/lib/python3.7/site-packages (from smart-open>=1.8.1->gensim->mlutil==0.1211) (1.11.13)\n",
      "Requirement already satisfied: requests in /etc/anaconda/lib/python3.7/site-packages (from smart-open>=1.8.1->gensim->mlutil==0.1211) (2.21.0)\n",
      "Requirement already satisfied: cycler>=0.10 in /etc/anaconda/lib/python3.7/site-packages (from matplotlib>=1.4.3->seaborn->mlutil==0.1211) (0.10.0)\n",
      "Requirement already satisfied: kiwisolver>=1.0.1 in /etc/anaconda/lib/python3.7/site-packages (from matplotlib>=1.4.3->seaborn->mlutil==0.1211) (1.0.1)\n",
      "Requirement already satisfied: pyparsing!=2.0.4,!=2.1.2,!=2.1.6,>=2.0.1 in /etc/anaconda/lib/python3.7/site-packages (from matplotlib>=1.4.3->seaborn->mlutil==0.1211) (2.3.1)\n",
      "Requirement already satisfied: jmespath<1.0.0,>=0.7.1 in /etc/anaconda/lib/python3.7/site-packages (from boto3->smart-open>=1.8.1->gensim->mlutil==0.1211) (0.9.4)\n",
      "Requirement already satisfied: botocore<1.15.0,>=1.14.13 in /etc/anaconda/lib/python3.7/site-packages (from boto3->smart-open>=1.8.1->gensim->mlutil==0.1211) (1.14.13)\n",
      "Requirement already satisfied: s3transfer<0.4.0,>=0.3.0 in /etc/anaconda/lib/python3.7/site-packages (from boto3->smart-open>=1.8.1->gensim->mlutil==0.1211) (0.3.3)\n",
      "Requirement already satisfied: certifi>=2017.4.17 in /etc/anaconda/lib/python3.7/site-packages (from requests->smart-open>=1.8.1->gensim->mlutil==0.1211) (2019.3.9)\n",
      "Requirement already satisfied: chardet<3.1.0,>=3.0.2 in /etc/anaconda/lib/python3.7/site-packages (from requests->smart-open>=1.8.1->gensim->mlutil==0.1211) (3.0.4)\n",
      "Requirement already satisfied: idna<2.9,>=2.5 in /etc/anaconda/lib/python3.7/site-packages (from requests->smart-open>=1.8.1->gensim->mlutil==0.1211) (2.8)\n",
      "Requirement already satisfied: urllib3<1.25,>=1.21.1 in /etc/anaconda/lib/python3.7/site-packages (from requests->smart-open>=1.8.1->gensim->mlutil==0.1211) (1.24.1)\n",
      "Requirement already satisfied: docutils<0.16,>=0.10 in /etc/anaconda/lib/python3.7/site-packages (from botocore<1.15.0,>=1.14.13->boto3->smart-open>=1.8.1->gensim->mlutil==0.1211) (0.14)\n",
      "Building wheels for collected packages: mlutil\n"
     ]
    },
    {
     "name": "stdout",
     "output_type": "stream",
     "text": [
      "  Building wheel for mlutil (setup.py) ... \u001b[?25ldone\n",
      "\u001b[?25h  Stored in directory: /tmp/pip-ephem-wheel-cache-_qcjnyun/wheels/42/32/46/9616d5dd85e5dbc05ce3816dfa7dcedc052bc8b29442e1766a\n",
      "Successfully built mlutil\n"
     ]
    }
   ],
   "source": [
    "!pip install gensim seaborn wordcloud rank_bm25 nltk\n",
    "!pip install git+https://github.com/lambdaofgod/mlutil"
   ]
  },
  {
   "cell_type": "code",
   "execution_count": 2,
   "metadata": {
    "colab": {
     "base_uri": "https://localhost:8080/",
     "height": 88
    },
    "colab_type": "code",
    "id": "2byQKmDvQaxy",
    "outputId": "09b449d4-f7a7-4d92-e90f-ed5676ac7efb"
   },
   "outputs": [
    {
     "name": "stderr",
     "output_type": "stream",
     "text": [
      "/etc/anaconda/envs/ml/lib/python3.8/site-packages/sklearn/utils/deprecation.py:144: FutureWarning: The sklearn.feature_extraction.stop_words module is  deprecated in version 0.22 and will be removed in version 0.24. The corresponding classes / functions should instead be imported from sklearn.feature_extraction.text. Anything that cannot be imported from sklearn.feature_extraction.text is now part of the private API.\n",
      "  warnings.warn(message, FutureWarning)\n",
      "WARNING:root:tensorflow or tensorflow-hub not found, loading tfhub models won't work\n"
     ]
    },
    {
     "data": {
      "text/html": [
       "\n",
       "    <div class=\"bk-root\">\n",
       "        <a href=\"https://bokeh.org\" target=\"_blank\" class=\"bk-logo bk-logo-small bk-logo-notebook\"></a>\n",
       "        <span id=\"1001\">Loading BokehJS ...</span>\n",
       "    </div>"
      ]
     },
     "metadata": {},
     "output_type": "display_data"
    },
    {
     "data": {
      "application/javascript": [
       "\n",
       "(function(root) {\n",
       "  function now() {\n",
       "    return new Date();\n",
       "  }\n",
       "\n",
       "  var force = true;\n",
       "\n",
       "  if (typeof root._bokeh_onload_callbacks === \"undefined\" || force === true) {\n",
       "    root._bokeh_onload_callbacks = [];\n",
       "    root._bokeh_is_loading = undefined;\n",
       "  }\n",
       "\n",
       "  var JS_MIME_TYPE = 'application/javascript';\n",
       "  var HTML_MIME_TYPE = 'text/html';\n",
       "  var EXEC_MIME_TYPE = 'application/vnd.bokehjs_exec.v0+json';\n",
       "  var CLASS_NAME = 'output_bokeh rendered_html';\n",
       "\n",
       "  /**\n",
       "   * Render data to the DOM node\n",
       "   */\n",
       "  function render(props, node) {\n",
       "    var script = document.createElement(\"script\");\n",
       "    node.appendChild(script);\n",
       "  }\n",
       "\n",
       "  /**\n",
       "   * Handle when an output is cleared or removed\n",
       "   */\n",
       "  function handleClearOutput(event, handle) {\n",
       "    var cell = handle.cell;\n",
       "\n",
       "    var id = cell.output_area._bokeh_element_id;\n",
       "    var server_id = cell.output_area._bokeh_server_id;\n",
       "    // Clean up Bokeh references\n",
       "    if (id != null && id in Bokeh.index) {\n",
       "      Bokeh.index[id].model.document.clear();\n",
       "      delete Bokeh.index[id];\n",
       "    }\n",
       "\n",
       "    if (server_id !== undefined) {\n",
       "      // Clean up Bokeh references\n",
       "      var cmd = \"from bokeh.io.state import curstate; print(curstate().uuid_to_server['\" + server_id + \"'].get_sessions()[0].document.roots[0]._id)\";\n",
       "      cell.notebook.kernel.execute(cmd, {\n",
       "        iopub: {\n",
       "          output: function(msg) {\n",
       "            var id = msg.content.text.trim();\n",
       "            if (id in Bokeh.index) {\n",
       "              Bokeh.index[id].model.document.clear();\n",
       "              delete Bokeh.index[id];\n",
       "            }\n",
       "          }\n",
       "        }\n",
       "      });\n",
       "      // Destroy server and session\n",
       "      var cmd = \"import bokeh.io.notebook as ion; ion.destroy_server('\" + server_id + \"')\";\n",
       "      cell.notebook.kernel.execute(cmd);\n",
       "    }\n",
       "  }\n",
       "\n",
       "  /**\n",
       "   * Handle when a new output is added\n",
       "   */\n",
       "  function handleAddOutput(event, handle) {\n",
       "    var output_area = handle.output_area;\n",
       "    var output = handle.output;\n",
       "\n",
       "    // limit handleAddOutput to display_data with EXEC_MIME_TYPE content only\n",
       "    if ((output.output_type != \"display_data\") || (!output.data.hasOwnProperty(EXEC_MIME_TYPE))) {\n",
       "      return\n",
       "    }\n",
       "\n",
       "    var toinsert = output_area.element.find(\".\" + CLASS_NAME.split(' ')[0]);\n",
       "\n",
       "    if (output.metadata[EXEC_MIME_TYPE][\"id\"] !== undefined) {\n",
       "      toinsert[toinsert.length - 1].firstChild.textContent = output.data[JS_MIME_TYPE];\n",
       "      // store reference to embed id on output_area\n",
       "      output_area._bokeh_element_id = output.metadata[EXEC_MIME_TYPE][\"id\"];\n",
       "    }\n",
       "    if (output.metadata[EXEC_MIME_TYPE][\"server_id\"] !== undefined) {\n",
       "      var bk_div = document.createElement(\"div\");\n",
       "      bk_div.innerHTML = output.data[HTML_MIME_TYPE];\n",
       "      var script_attrs = bk_div.children[0].attributes;\n",
       "      for (var i = 0; i < script_attrs.length; i++) {\n",
       "        toinsert[toinsert.length - 1].firstChild.setAttribute(script_attrs[i].name, script_attrs[i].value);\n",
       "      }\n",
       "      // store reference to server id on output_area\n",
       "      output_area._bokeh_server_id = output.metadata[EXEC_MIME_TYPE][\"server_id\"];\n",
       "    }\n",
       "  }\n",
       "\n",
       "  function register_renderer(events, OutputArea) {\n",
       "\n",
       "    function append_mime(data, metadata, element) {\n",
       "      // create a DOM node to render to\n",
       "      var toinsert = this.create_output_subarea(\n",
       "        metadata,\n",
       "        CLASS_NAME,\n",
       "        EXEC_MIME_TYPE\n",
       "      );\n",
       "      this.keyboard_manager.register_events(toinsert);\n",
       "      // Render to node\n",
       "      var props = {data: data, metadata: metadata[EXEC_MIME_TYPE]};\n",
       "      render(props, toinsert[toinsert.length - 1]);\n",
       "      element.append(toinsert);\n",
       "      return toinsert\n",
       "    }\n",
       "\n",
       "    /* Handle when an output is cleared or removed */\n",
       "    events.on('clear_output.CodeCell', handleClearOutput);\n",
       "    events.on('delete.Cell', handleClearOutput);\n",
       "\n",
       "    /* Handle when a new output is added */\n",
       "    events.on('output_added.OutputArea', handleAddOutput);\n",
       "\n",
       "    /**\n",
       "     * Register the mime type and append_mime function with output_area\n",
       "     */\n",
       "    OutputArea.prototype.register_mime_type(EXEC_MIME_TYPE, append_mime, {\n",
       "      /* Is output safe? */\n",
       "      safe: true,\n",
       "      /* Index of renderer in `output_area.display_order` */\n",
       "      index: 0\n",
       "    });\n",
       "  }\n",
       "\n",
       "  // register the mime type if in Jupyter Notebook environment and previously unregistered\n",
       "  if (root.Jupyter !== undefined) {\n",
       "    var events = require('base/js/events');\n",
       "    var OutputArea = require('notebook/js/outputarea').OutputArea;\n",
       "\n",
       "    if (OutputArea.prototype.mime_types().indexOf(EXEC_MIME_TYPE) == -1) {\n",
       "      register_renderer(events, OutputArea);\n",
       "    }\n",
       "  }\n",
       "\n",
       "  \n",
       "  if (typeof (root._bokeh_timeout) === \"undefined\" || force === true) {\n",
       "    root._bokeh_timeout = Date.now() + 5000;\n",
       "    root._bokeh_failed_load = false;\n",
       "  }\n",
       "\n",
       "  var NB_LOAD_WARNING = {'data': {'text/html':\n",
       "     \"<div style='background-color: #fdd'>\\n\"+\n",
       "     \"<p>\\n\"+\n",
       "     \"BokehJS does not appear to have successfully loaded. If loading BokehJS from CDN, this \\n\"+\n",
       "     \"may be due to a slow or bad network connection. Possible fixes:\\n\"+\n",
       "     \"</p>\\n\"+\n",
       "     \"<ul>\\n\"+\n",
       "     \"<li>re-rerun `output_notebook()` to attempt to load from CDN again, or</li>\\n\"+\n",
       "     \"<li>use INLINE resources instead, as so:</li>\\n\"+\n",
       "     \"</ul>\\n\"+\n",
       "     \"<code>\\n\"+\n",
       "     \"from bokeh.resources import INLINE\\n\"+\n",
       "     \"output_notebook(resources=INLINE)\\n\"+\n",
       "     \"</code>\\n\"+\n",
       "     \"</div>\"}};\n",
       "\n",
       "  function display_loaded() {\n",
       "    var el = document.getElementById(\"1001\");\n",
       "    if (el != null) {\n",
       "      el.textContent = \"BokehJS is loading...\";\n",
       "    }\n",
       "    if (root.Bokeh !== undefined) {\n",
       "      if (el != null) {\n",
       "        el.textContent = \"BokehJS \" + root.Bokeh.version + \" successfully loaded.\";\n",
       "      }\n",
       "    } else if (Date.now() < root._bokeh_timeout) {\n",
       "      setTimeout(display_loaded, 100)\n",
       "    }\n",
       "  }\n",
       "\n",
       "\n",
       "  function run_callbacks() {\n",
       "    try {\n",
       "      root._bokeh_onload_callbacks.forEach(function(callback) {\n",
       "        if (callback != null)\n",
       "          callback();\n",
       "      });\n",
       "    } finally {\n",
       "      delete root._bokeh_onload_callbacks\n",
       "    }\n",
       "    console.debug(\"Bokeh: all callbacks have finished\");\n",
       "  }\n",
       "\n",
       "  function load_libs(css_urls, js_urls, callback) {\n",
       "    if (css_urls == null) css_urls = [];\n",
       "    if (js_urls == null) js_urls = [];\n",
       "\n",
       "    root._bokeh_onload_callbacks.push(callback);\n",
       "    if (root._bokeh_is_loading > 0) {\n",
       "      console.debug(\"Bokeh: BokehJS is being loaded, scheduling callback at\", now());\n",
       "      return null;\n",
       "    }\n",
       "    if (js_urls == null || js_urls.length === 0) {\n",
       "      run_callbacks();\n",
       "      return null;\n",
       "    }\n",
       "    console.debug(\"Bokeh: BokehJS not loaded, scheduling load and callback at\", now());\n",
       "    root._bokeh_is_loading = css_urls.length + js_urls.length;\n",
       "\n",
       "    function on_load() {\n",
       "      root._bokeh_is_loading--;\n",
       "      if (root._bokeh_is_loading === 0) {\n",
       "        console.debug(\"Bokeh: all BokehJS libraries/stylesheets loaded\");\n",
       "        run_callbacks()\n",
       "      }\n",
       "    }\n",
       "\n",
       "    function on_error() {\n",
       "      console.error(\"failed to load \" + url);\n",
       "    }\n",
       "\n",
       "    for (var i = 0; i < css_urls.length; i++) {\n",
       "      var url = css_urls[i];\n",
       "      const element = document.createElement(\"link\");\n",
       "      element.onload = on_load;\n",
       "      element.onerror = on_error;\n",
       "      element.rel = \"stylesheet\";\n",
       "      element.type = \"text/css\";\n",
       "      element.href = url;\n",
       "      console.debug(\"Bokeh: injecting link tag for BokehJS stylesheet: \", url);\n",
       "      document.body.appendChild(element);\n",
       "    }\n",
       "\n",
       "    for (var i = 0; i < js_urls.length; i++) {\n",
       "      var url = js_urls[i];\n",
       "      var element = document.createElement('script');\n",
       "      element.onload = on_load;\n",
       "      element.onerror = on_error;\n",
       "      element.async = false;\n",
       "      element.src = url;\n",
       "      console.debug(\"Bokeh: injecting script tag for BokehJS library: \", url);\n",
       "      document.head.appendChild(element);\n",
       "    }\n",
       "  };var element = document.getElementById(\"1001\");\n",
       "  if (element == null) {\n",
       "    console.error(\"Bokeh: ERROR: autoload.js configured with elementid '1001' but no matching script tag was found. \")\n",
       "    return false;\n",
       "  }\n",
       "\n",
       "  function inject_raw_css(css) {\n",
       "    const element = document.createElement(\"style\");\n",
       "    element.appendChild(document.createTextNode(css));\n",
       "    document.body.appendChild(element);\n",
       "  }\n",
       "\n",
       "  \n",
       "  var js_urls = [\"https://cdn.pydata.org/bokeh/release/bokeh-1.4.0.min.js\", \"https://cdn.pydata.org/bokeh/release/bokeh-widgets-1.4.0.min.js\", \"https://cdn.pydata.org/bokeh/release/bokeh-tables-1.4.0.min.js\", \"https://cdn.pydata.org/bokeh/release/bokeh-gl-1.4.0.min.js\"];\n",
       "  var css_urls = [];\n",
       "  \n",
       "\n",
       "  var inline_js = [\n",
       "    function(Bokeh) {\n",
       "      Bokeh.set_log_level(\"info\");\n",
       "    },\n",
       "    function(Bokeh) {\n",
       "    \n",
       "    \n",
       "    }\n",
       "  ];\n",
       "\n",
       "  function run_inline_js() {\n",
       "    \n",
       "    if (root.Bokeh !== undefined || force === true) {\n",
       "      \n",
       "    for (var i = 0; i < inline_js.length; i++) {\n",
       "      inline_js[i].call(root, root.Bokeh);\n",
       "    }\n",
       "    if (force === true) {\n",
       "        display_loaded();\n",
       "      }} else if (Date.now() < root._bokeh_timeout) {\n",
       "      setTimeout(run_inline_js, 100);\n",
       "    } else if (!root._bokeh_failed_load) {\n",
       "      console.log(\"Bokeh: BokehJS failed to load within specified timeout.\");\n",
       "      root._bokeh_failed_load = true;\n",
       "    } else if (force !== true) {\n",
       "      var cell = $(document.getElementById(\"1001\")).parents('.cell').data().cell;\n",
       "      cell.output_area.append_execute_result(NB_LOAD_WARNING)\n",
       "    }\n",
       "\n",
       "  }\n",
       "\n",
       "  if (root._bokeh_is_loading === 0) {\n",
       "    console.debug(\"Bokeh: BokehJS loaded, going straight to plotting\");\n",
       "    run_inline_js();\n",
       "  } else {\n",
       "    load_libs(css_urls, js_urls, function() {\n",
       "      console.debug(\"Bokeh: BokehJS plotting callback run at\", now());\n",
       "      run_inline_js();\n",
       "    });\n",
       "  }\n",
       "}(window));"
      ],
      "application/vnd.bokehjs_load.v0+json": "\n(function(root) {\n  function now() {\n    return new Date();\n  }\n\n  var force = true;\n\n  if (typeof root._bokeh_onload_callbacks === \"undefined\" || force === true) {\n    root._bokeh_onload_callbacks = [];\n    root._bokeh_is_loading = undefined;\n  }\n\n  \n\n  \n  if (typeof (root._bokeh_timeout) === \"undefined\" || force === true) {\n    root._bokeh_timeout = Date.now() + 5000;\n    root._bokeh_failed_load = false;\n  }\n\n  var NB_LOAD_WARNING = {'data': {'text/html':\n     \"<div style='background-color: #fdd'>\\n\"+\n     \"<p>\\n\"+\n     \"BokehJS does not appear to have successfully loaded. If loading BokehJS from CDN, this \\n\"+\n     \"may be due to a slow or bad network connection. Possible fixes:\\n\"+\n     \"</p>\\n\"+\n     \"<ul>\\n\"+\n     \"<li>re-rerun `output_notebook()` to attempt to load from CDN again, or</li>\\n\"+\n     \"<li>use INLINE resources instead, as so:</li>\\n\"+\n     \"</ul>\\n\"+\n     \"<code>\\n\"+\n     \"from bokeh.resources import INLINE\\n\"+\n     \"output_notebook(resources=INLINE)\\n\"+\n     \"</code>\\n\"+\n     \"</div>\"}};\n\n  function display_loaded() {\n    var el = document.getElementById(\"1001\");\n    if (el != null) {\n      el.textContent = \"BokehJS is loading...\";\n    }\n    if (root.Bokeh !== undefined) {\n      if (el != null) {\n        el.textContent = \"BokehJS \" + root.Bokeh.version + \" successfully loaded.\";\n      }\n    } else if (Date.now() < root._bokeh_timeout) {\n      setTimeout(display_loaded, 100)\n    }\n  }\n\n\n  function run_callbacks() {\n    try {\n      root._bokeh_onload_callbacks.forEach(function(callback) {\n        if (callback != null)\n          callback();\n      });\n    } finally {\n      delete root._bokeh_onload_callbacks\n    }\n    console.debug(\"Bokeh: all callbacks have finished\");\n  }\n\n  function load_libs(css_urls, js_urls, callback) {\n    if (css_urls == null) css_urls = [];\n    if (js_urls == null) js_urls = [];\n\n    root._bokeh_onload_callbacks.push(callback);\n    if (root._bokeh_is_loading > 0) {\n      console.debug(\"Bokeh: BokehJS is being loaded, scheduling callback at\", now());\n      return null;\n    }\n    if (js_urls == null || js_urls.length === 0) {\n      run_callbacks();\n      return null;\n    }\n    console.debug(\"Bokeh: BokehJS not loaded, scheduling load and callback at\", now());\n    root._bokeh_is_loading = css_urls.length + js_urls.length;\n\n    function on_load() {\n      root._bokeh_is_loading--;\n      if (root._bokeh_is_loading === 0) {\n        console.debug(\"Bokeh: all BokehJS libraries/stylesheets loaded\");\n        run_callbacks()\n      }\n    }\n\n    function on_error() {\n      console.error(\"failed to load \" + url);\n    }\n\n    for (var i = 0; i < css_urls.length; i++) {\n      var url = css_urls[i];\n      const element = document.createElement(\"link\");\n      element.onload = on_load;\n      element.onerror = on_error;\n      element.rel = \"stylesheet\";\n      element.type = \"text/css\";\n      element.href = url;\n      console.debug(\"Bokeh: injecting link tag for BokehJS stylesheet: \", url);\n      document.body.appendChild(element);\n    }\n\n    for (var i = 0; i < js_urls.length; i++) {\n      var url = js_urls[i];\n      var element = document.createElement('script');\n      element.onload = on_load;\n      element.onerror = on_error;\n      element.async = false;\n      element.src = url;\n      console.debug(\"Bokeh: injecting script tag for BokehJS library: \", url);\n      document.head.appendChild(element);\n    }\n  };var element = document.getElementById(\"1001\");\n  if (element == null) {\n    console.error(\"Bokeh: ERROR: autoload.js configured with elementid '1001' but no matching script tag was found. \")\n    return false;\n  }\n\n  function inject_raw_css(css) {\n    const element = document.createElement(\"style\");\n    element.appendChild(document.createTextNode(css));\n    document.body.appendChild(element);\n  }\n\n  \n  var js_urls = [\"https://cdn.pydata.org/bokeh/release/bokeh-1.4.0.min.js\", \"https://cdn.pydata.org/bokeh/release/bokeh-widgets-1.4.0.min.js\", \"https://cdn.pydata.org/bokeh/release/bokeh-tables-1.4.0.min.js\", \"https://cdn.pydata.org/bokeh/release/bokeh-gl-1.4.0.min.js\"];\n  var css_urls = [];\n  \n\n  var inline_js = [\n    function(Bokeh) {\n      Bokeh.set_log_level(\"info\");\n    },\n    function(Bokeh) {\n    \n    \n    }\n  ];\n\n  function run_inline_js() {\n    \n    if (root.Bokeh !== undefined || force === true) {\n      \n    for (var i = 0; i < inline_js.length; i++) {\n      inline_js[i].call(root, root.Bokeh);\n    }\n    if (force === true) {\n        display_loaded();\n      }} else if (Date.now() < root._bokeh_timeout) {\n      setTimeout(run_inline_js, 100);\n    } else if (!root._bokeh_failed_load) {\n      console.log(\"Bokeh: BokehJS failed to load within specified timeout.\");\n      root._bokeh_failed_load = true;\n    } else if (force !== true) {\n      var cell = $(document.getElementById(\"1001\")).parents('.cell').data().cell;\n      cell.output_area.append_execute_result(NB_LOAD_WARNING)\n    }\n\n  }\n\n  if (root._bokeh_is_loading === 0) {\n    console.debug(\"Bokeh: BokehJS loaded, going straight to plotting\");\n    run_inline_js();\n  } else {\n    load_libs(css_urls, js_urls, function() {\n      console.debug(\"Bokeh: BokehJS plotting callback run at\", now());\n      run_inline_js();\n    });\n  }\n}(window));"
     },
     "metadata": {},
     "output_type": "display_data"
    }
   ],
   "source": [
    "import re\n",
    "import tqdm\n",
    "import requests\n",
    "\n",
    "import numpy as np\n",
    "\n",
    "from markdown import markdown\n",
    "import nltk\n",
    "\n",
    "\n",
    "import pandas as pd\n",
    "from pandas.io.json import json_normalize\n",
    "from gensim import summarization\n",
    "\n",
    "from sklearn import decomposition, feature_extraction, manifold\n",
    "from sklearn.feature_extraction import stop_words\n",
    "from sklearn import pipeline\n",
    "\n",
    "import rank_bm25\n",
    "\n",
    "from mlutil import topic_modeling\n",
    "\n",
    "import seaborn as sns\n",
    "import wordcloud\n",
    "\n",
    "import matplotlib.pyplot as plt\n",
    "from IPython.display import Markdown, display\n",
    "\n",
    "import bokeh.model\n",
    "import bokeh.plotting\n",
    "import bokeh.io\n",
    "\n",
    "bokeh.io.output_notebook()"
   ]
  },
  {
   "cell_type": "code",
   "execution_count": 3,
   "metadata": {},
   "outputs": [],
   "source": [
    "plt.style.use('dark_background')"
   ]
  },
  {
   "cell_type": "code",
   "execution_count": 4,
   "metadata": {
    "colab": {},
    "colab_type": "code",
    "id": "IcvPHgQdTIzh"
   },
   "outputs": [],
   "source": [
    "def printmd(string):\n",
    "    display(Markdown(string))\n",
    "    \n",
    "\n",
    "def get_word_cloud(texts):\n",
    "    text = ' '.join(texts)\n",
    "    return wordcloud.WordCloud(max_font_size=40).generate(text)\n",
    "\n",
    "\n",
    "def show_word_cloud(wc, figure_kwargs={'figsize': (8, 5)}):\n",
    "    plt.figure(**figure_kwargs)\n",
    "    plt.imshow(wc)\n",
    "    plt.axis('off')\n",
    "    plt.show()\n",
    "\n",
    "  \n",
    "def show_word_cloud_from_texts(text_column):\n",
    "    texts = text_column.fillna('').values\n",
    "    cloud = get_word_cloud(texts)\n",
    "    show_word_cloud(cloud)"
   ]
  },
  {
   "cell_type": "markdown",
   "metadata": {
    "colab_type": "text",
    "id": "XYC5kMrfBPdz"
   },
   "source": [
    "Put your Github token to `github_auth_key.txt`\n",
    "\n",
    "You have to do this because, unfortunately, for now there is no way to use GraphQL without authentication."
   ]
  },
  {
   "cell_type": "code",
   "execution_count": 5,
   "metadata": {
    "colab": {},
    "colab_type": "code",
    "id": "Y9jLN89d8QDw"
   },
   "outputs": [],
   "source": [
    "key = open('github_auth_key.txt', 'r').read().strip()"
   ]
  },
  {
   "cell_type": "markdown",
   "metadata": {
    "colab_type": "text",
    "id": "imRzmoj4NfX_"
   },
   "source": [
    "Note that I barely know GraphQL: I made this query in [Github's API explorer](https://developer.github.com/v4/explorer/)"
   ]
  },
  {
   "cell_type": "code",
   "execution_count": 6,
   "metadata": {
    "colab": {},
    "colab_type": "code",
    "id": "tfuovdEv3QFf"
   },
   "outputs": [],
   "source": [
    "headers = {'Authorization': 'token ' + key}\n",
    "\n",
    "\n",
    "def run_query(query): # A simple function to use requests.post to make the API call. Note the json= section.\n",
    "    request = requests.post('https://api.github.com/graphql', json={'query': query}, headers=headers)\n",
    "    if request.status_code == 200:\n",
    "        return request.json()\n",
    "    else:\n",
    "        raise Exception(\"Query failed to run by returning code of {}. {}\".format(request.status_code, query))\n",
    "\n",
    "        \n",
    "# The GraphQL query (with a few aditional bits included) itself defined as a multi-line string.       \n",
    "def get_next_paged_result(result):\n",
    "  if result is None:\n",
    "    end_cursor_string = ''\n",
    "  else:\n",
    "    end_cursor_string = 'after: \"{}\"'.format(result['data']['viewer']['starredRepositories']['pageInfo']['endCursor'])\n",
    "  new_query_string = \"\"\"{{\n",
    "    viewer {{\n",
    "      starredRepositories(first: 100, {}) {{\n",
    "        pageInfo {{\n",
    "          startCursor\n",
    "          hasNextPage\n",
    "          endCursor\n",
    "        }}\n",
    "        nodes {{\n",
    "          name\n",
    "          owner {{\n",
    "            login\n",
    "          }}\n",
    "          description\n",
    "          primaryLanguage {{\n",
    "            name\n",
    "          }}\n",
    "          repositoryTopics(first: 10) {{\n",
    "            nodes {{\n",
    "              topic {{\n",
    "                name\n",
    "              }}\n",
    "            }}\n",
    "          }}\n",
    "          object(expression: \"master:README.md\") {{\n",
    "            ... on Blob {{\n",
    "              text\n",
    "            }}\n",
    "          }}\n",
    "        }}\n",
    "      }}\n",
    "    }}\n",
    "  }}\"\"\".format(end_cursor_string)\n",
    "  return run_query(new_query_string)"
   ]
  },
  {
   "cell_type": "code",
   "execution_count": 7,
   "metadata": {},
   "outputs": [],
   "source": [
    "def get_starred_repo_information():\n",
    "    next_result = None\n",
    "    starred_repo_information = []\n",
    "    for __ in tqdm.tqdm(range(5)):\n",
    "      next_result = get_next_paged_result(next_result)\n",
    "      starred_repo_information = starred_repo_information + next_result['data']['viewer']['starredRepositories']['nodes']\n",
    "    return starred_repo_information"
   ]
  },
  {
   "cell_type": "code",
   "execution_count": 8,
   "metadata": {
    "colab": {
     "base_uri": "https://localhost:8080/",
     "height": 34
    },
    "colab_type": "code",
    "id": "ptjZButY4ygo",
    "outputId": "f805f99e-5348-430a-86c9-b97dfbe53054"
   },
   "outputs": [
    {
     "name": "stderr",
     "output_type": "stream",
     "text": [
      "100%|██████████| 5/5 [00:21<00:00,  4.34s/it]\n"
     ]
    }
   ],
   "source": [
    "starred_repo_information = get_starred_repo_information()"
   ]
  },
  {
   "cell_type": "code",
   "execution_count": 9,
   "metadata": {
    "colab": {},
    "colab_type": "code",
    "id": "8FVdEJhVU7aq"
   },
   "outputs": [],
   "source": [
    "def get_cleaned_starred_repositories_df(repo_information, stemmer=nltk.stem.PorterStemmer()):\n",
    "    repo_df = json_normalize(repo_information)\n",
    "    repo_df.index = repo_df['name']\n",
    "    repo_df.drop('name', axis=1, inplace=True)\n",
    "    repo_df['primaryLanguage'] = repo_df['primaryLanguage.name']\n",
    "    repo_df.drop('primaryLanguage.name', axis=1)\n",
    "    repo_df['topics'] = repo_df['repositoryTopics.nodes'].apply(lambda recs: [r['topic']['name'] for r in recs])\n",
    "    repo_df['topics'] = repo_df['topics'].apply(lambda ts: [stemmer.stem(t) for t in ts])\n",
    "    repo_df['description'].fillna('', inplace=True)\n",
    "    repo_df['description'] = repo_df['description'].str.lower().apply(stemmer.stem)\n",
    "    repo_df['description_keywords'] = repo_df['description'].apply(summarization.keywords)\n",
    "    return repo_df"
   ]
  },
  {
   "cell_type": "code",
   "execution_count": 10,
   "metadata": {},
   "outputs": [],
   "source": [
    "def get_topic_representant_indices(topic_weights, topic_idx, num_representants=5):\n",
    "    indices = topic_weights[:, topic_idx].argsort()[::-1]\n",
    "    return indices[:num_representants]\n",
    "\n",
    "\n",
    "def get_repos_representing_topic(repo_df, topic_weights, topic_idx, num_representants=5):\n",
    "    return repo_df.iloc[get_topic_representant_indices(topic_weights, topic_idx, num_representants)]"
   ]
  },
  {
   "cell_type": "code",
   "execution_count": 11,
   "metadata": {
    "colab": {},
    "colab_type": "code",
    "id": "JJBDCbL996Lh"
   },
   "outputs": [],
   "source": [
    "starred_repo_df = get_cleaned_starred_repositories_df(starred_repo_information)"
   ]
  },
  {
   "cell_type": "markdown",
   "metadata": {
    "colab_type": "text",
    "id": "V45r5clQR6BC"
   },
   "source": [
    "Primary language"
   ]
  },
  {
   "cell_type": "code",
   "execution_count": 12,
   "metadata": {},
   "outputs": [],
   "source": [
    "language_counts = starred_repo_df['primaryLanguage'].fillna('none/text').value_counts()"
   ]
  },
  {
   "cell_type": "code",
   "execution_count": 13,
   "metadata": {
    "colab": {
     "base_uri": "https://localhost:8080/",
     "height": 327
    },
    "colab_type": "code",
    "id": "KPxVpoGHROmc",
    "outputId": "352c41ef-cd56-4e22-e097-c4a6732c17f4"
   },
   "outputs": [
    {
     "data": {
      "text/html": [
       "\n",
       "\n",
       "\n",
       "\n",
       "\n",
       "\n",
       "  <div class=\"bk-root\" id=\"3709d692-e7c6-4ee1-b9d1-5974116b3096\" data-root-id=\"1002\"></div>\n"
      ]
     },
     "metadata": {},
     "output_type": "display_data"
    },
    {
     "data": {
      "application/javascript": [
       "(function(root) {\n",
       "  function embed_document(root) {\n",
       "    \n",
       "  var docs_json = {\"cc767230-1d2e-400f-ba23-1ca42276be5c\":{\"roots\":{\"references\":[{\"attributes\":{\"below\":[{\"id\":\"1013\",\"type\":\"CategoricalAxis\"}],\"center\":[{\"id\":\"1016\",\"type\":\"Grid\"},{\"id\":\"1021\",\"type\":\"Grid\"}],\"left\":[{\"id\":\"1017\",\"type\":\"LinearAxis\"}],\"renderers\":[{\"id\":\"1038\",\"type\":\"GlyphRenderer\"}],\"title\":{\"id\":\"1003\",\"type\":\"Title\"},\"toolbar\":{\"id\":\"1028\",\"type\":\"Toolbar\"},\"x_range\":{\"id\":\"1005\",\"type\":\"FactorRange\"},\"x_scale\":{\"id\":\"1009\",\"type\":\"CategoricalScale\"},\"y_range\":{\"id\":\"1007\",\"type\":\"DataRange1d\"},\"y_scale\":{\"id\":\"1011\",\"type\":\"LinearScale\"}},\"id\":\"1002\",\"subtype\":\"Figure\",\"type\":\"Plot\"},{\"attributes\":{},\"id\":\"1043\",\"type\":\"BasicTickFormatter\"},{\"attributes\":{\"text\":\"Repository number by language\"},\"id\":\"1003\",\"type\":\"Title\"},{\"attributes\":{},\"id\":\"1014\",\"type\":\"CategoricalTicker\"},{\"attributes\":{},\"id\":\"1046\",\"type\":\"Selection\"},{\"attributes\":{},\"id\":\"1047\",\"type\":\"UnionRenderers\"},{\"attributes\":{},\"id\":\"1025\",\"type\":\"SaveTool\"},{\"attributes\":{\"fill_color\":{\"value\":\"#1f77b4\"},\"line_color\":{\"value\":\"#1f77b4\"},\"top\":{\"field\":\"top\"},\"width\":{\"value\":1},\"x\":{\"field\":\"x\"}},\"id\":\"1036\",\"type\":\"VBar\"},{\"attributes\":{\"callback\":null},\"id\":\"1007\",\"type\":\"DataRange1d\"},{\"attributes\":{\"active_drag\":\"auto\",\"active_inspect\":\"auto\",\"active_multi\":null,\"active_scroll\":\"auto\",\"active_tap\":\"auto\",\"tools\":[{\"id\":\"1022\",\"type\":\"PanTool\"},{\"id\":\"1023\",\"type\":\"WheelZoomTool\"},{\"id\":\"1024\",\"type\":\"BoxZoomTool\"},{\"id\":\"1025\",\"type\":\"SaveTool\"},{\"id\":\"1026\",\"type\":\"ResetTool\"},{\"id\":\"1027\",\"type\":\"HelpTool\"}]},\"id\":\"1028\",\"type\":\"Toolbar\"},{\"attributes\":{},\"id\":\"1009\",\"type\":\"CategoricalScale\"},{\"attributes\":{\"bottom_units\":\"screen\",\"fill_alpha\":{\"value\":0.5},\"fill_color\":{\"value\":\"lightgrey\"},\"left_units\":\"screen\",\"level\":\"overlay\",\"line_alpha\":{\"value\":1.0},\"line_color\":{\"value\":\"black\"},\"line_dash\":[4,4],\"line_width\":{\"value\":2},\"render_mode\":\"css\",\"right_units\":\"screen\",\"top_units\":\"screen\"},\"id\":\"1045\",\"type\":\"BoxAnnotation\"},{\"attributes\":{\"formatter\":{\"id\":\"1041\",\"type\":\"CategoricalTickFormatter\"},\"major_label_orientation\":\"vertical\",\"ticker\":{\"id\":\"1014\",\"type\":\"CategoricalTicker\"}},\"id\":\"1013\",\"type\":\"CategoricalAxis\"},{\"attributes\":{\"data_source\":{\"id\":\"1035\",\"type\":\"ColumnDataSource\"},\"glyph\":{\"id\":\"1036\",\"type\":\"VBar\"},\"hover_glyph\":null,\"muted_glyph\":null,\"nonselection_glyph\":{\"id\":\"1037\",\"type\":\"VBar\"},\"selection_glyph\":null,\"view\":{\"id\":\"1039\",\"type\":\"CDSView\"}},\"id\":\"1038\",\"type\":\"GlyphRenderer\"},{\"attributes\":{\"callback\":null,\"factors\":[\"Python\",\"Jupyter Notebook\",\"none/text\",\"C++\",\"JavaScript\",\"HTML\",\"Scala\",\"Java\",\"MATLAB\",\"Shell\",\"Haskell\",\"Go\",\"TeX\",\"CSS\",\"C\",\"Racket\",\"Makefile\",\"Roff\",\"Cuda\",\"Perl\",\"PureScript\",\"TypeScript\",\"Processing\",\"Clojure\",\"Scheme\",\"Prolog\",\"R\",\"PostScript\",\"Julia\",\"Dockerfile\",\"Kotlin\"]},\"id\":\"1005\",\"type\":\"FactorRange\"},{\"attributes\":{},\"id\":\"1011\",\"type\":\"LinearScale\"},{\"attributes\":{},\"id\":\"1022\",\"type\":\"PanTool\"},{\"attributes\":{\"ticker\":{\"id\":\"1014\",\"type\":\"CategoricalTicker\"}},\"id\":\"1016\",\"type\":\"Grid\"},{\"attributes\":{\"formatter\":{\"id\":\"1043\",\"type\":\"BasicTickFormatter\"},\"ticker\":{\"id\":\"1018\",\"type\":\"BasicTicker\"}},\"id\":\"1017\",\"type\":\"LinearAxis\"},{\"attributes\":{},\"id\":\"1018\",\"type\":\"BasicTicker\"},{\"attributes\":{\"dimension\":1,\"ticker\":{\"id\":\"1018\",\"type\":\"BasicTicker\"}},\"id\":\"1021\",\"type\":\"Grid\"},{\"attributes\":{},\"id\":\"1023\",\"type\":\"WheelZoomTool\"},{\"attributes\":{},\"id\":\"1027\",\"type\":\"HelpTool\"},{\"attributes\":{\"overlay\":{\"id\":\"1045\",\"type\":\"BoxAnnotation\"}},\"id\":\"1024\",\"type\":\"BoxZoomTool\"},{\"attributes\":{},\"id\":\"1041\",\"type\":\"CategoricalTickFormatter\"},{\"attributes\":{},\"id\":\"1026\",\"type\":\"ResetTool\"},{\"attributes\":{\"callback\":null,\"data\":{\"top\":[273,69,58,22,11,10,10,9,4,4,3,3,3,2,2,2,1,1,1,1,1,1,1,1,1,1,1,1,1,1,1],\"x\":[\"Python\",\"Jupyter Notebook\",\"none/text\",\"C++\",\"JavaScript\",\"HTML\",\"Scala\",\"Java\",\"MATLAB\",\"Shell\",\"Haskell\",\"Go\",\"TeX\",\"CSS\",\"C\",\"Racket\",\"Makefile\",\"Roff\",\"Cuda\",\"Perl\",\"PureScript\",\"TypeScript\",\"Processing\",\"Clojure\",\"Scheme\",\"Prolog\",\"R\",\"PostScript\",\"Julia\",\"Dockerfile\",\"Kotlin\"]},\"selected\":{\"id\":\"1046\",\"type\":\"Selection\"},\"selection_policy\":{\"id\":\"1047\",\"type\":\"UnionRenderers\"}},\"id\":\"1035\",\"type\":\"ColumnDataSource\"},{\"attributes\":{\"source\":{\"id\":\"1035\",\"type\":\"ColumnDataSource\"}},\"id\":\"1039\",\"type\":\"CDSView\"},{\"attributes\":{\"fill_alpha\":{\"value\":0.1},\"fill_color\":{\"value\":\"#1f77b4\"},\"line_alpha\":{\"value\":0.1},\"line_color\":{\"value\":\"#1f77b4\"},\"top\":{\"field\":\"top\"},\"width\":{\"value\":1},\"x\":{\"field\":\"x\"}},\"id\":\"1037\",\"type\":\"VBar\"}],\"root_ids\":[\"1002\"]},\"title\":\"Bokeh Application\",\"version\":\"1.4.0\"}};\n",
       "  var render_items = [{\"docid\":\"cc767230-1d2e-400f-ba23-1ca42276be5c\",\"roots\":{\"1002\":\"3709d692-e7c6-4ee1-b9d1-5974116b3096\"}}];\n",
       "  root.Bokeh.embed.embed_items_notebook(docs_json, render_items);\n",
       "\n",
       "  }\n",
       "  if (root.Bokeh !== undefined) {\n",
       "    embed_document(root);\n",
       "  } else {\n",
       "    var attempts = 0;\n",
       "    var timer = setInterval(function(root) {\n",
       "      if (root.Bokeh !== undefined) {\n",
       "        clearInterval(timer);\n",
       "        embed_document(root);\n",
       "      } else {\n",
       "        attempts++;\n",
       "        if (attempts > 100) {\n",
       "          clearInterval(timer);\n",
       "          console.log(\"Bokeh: ERROR: Unable to run BokehJS code because BokehJS library is missing\");\n",
       "        }\n",
       "      }\n",
       "    }, 10, root)\n",
       "  }\n",
       "})(window);"
      ],
      "application/vnd.bokehjs_exec.v0+json": ""
     },
     "metadata": {
      "application/vnd.bokehjs_exec.v0+json": {
       "id": "1002"
      }
     },
     "output_type": "display_data"
    }
   ],
   "source": [
    "p = bokeh.plotting.figure(x_range=list(language_counts.index), title='Repository number by language')\n",
    "\n",
    "p.vbar(x=language_counts.index, top=language_counts, width=1)\n",
    "p.xaxis.major_label_orientation = \"vertical\"\n",
    "bokeh.plotting.show(p)"
   ]
  },
  {
   "cell_type": "code",
   "execution_count": 14,
   "metadata": {},
   "outputs": [],
   "source": [
    "\n",
    "description_lengths = starred_repo_df['description'].str.split().apply(lambda l: 0 if l is None else len(l))"
   ]
  },
  {
   "cell_type": "code",
   "execution_count": 15,
   "metadata": {},
   "outputs": [
    {
     "data": {
      "text/html": [
       "\n",
       "\n",
       "\n",
       "\n",
       "\n",
       "\n",
       "  <div class=\"bk-root\" id=\"f68fb1bd-2123-46b1-9c16-40ba2110d272\" data-root-id=\"1096\"></div>\n"
      ]
     },
     "metadata": {},
     "output_type": "display_data"
    },
    {
     "data": {
      "application/javascript": [
       "(function(root) {\n",
       "  function embed_document(root) {\n",
       "    \n",
       "  var docs_json = {\"501fe378-4457-41c1-bfa7-375149bada53\":{\"roots\":{\"references\":[{\"attributes\":{\"below\":[{\"id\":\"1105\",\"type\":\"LinearAxis\"}],\"center\":[{\"id\":\"1109\",\"type\":\"Grid\"},{\"id\":\"1114\",\"type\":\"Grid\"}],\"left\":[{\"id\":\"1110\",\"type\":\"LinearAxis\"}],\"plot_width\":800,\"renderers\":[{\"id\":\"1131\",\"type\":\"GlyphRenderer\"},{\"id\":\"1136\",\"type\":\"GlyphRenderer\"}],\"title\":{\"id\":\"1147\",\"type\":\"Title\"},\"toolbar\":{\"id\":\"1121\",\"type\":\"Toolbar\"},\"x_range\":{\"id\":\"1097\",\"type\":\"DataRange1d\"},\"x_scale\":{\"id\":\"1101\",\"type\":\"LinearScale\"},\"y_range\":{\"id\":\"1099\",\"type\":\"DataRange1d\"},\"y_scale\":{\"id\":\"1103\",\"type\":\"LinearScale\"}},\"id\":\"1096\",\"subtype\":\"Figure\",\"type\":\"Plot\"},{\"attributes\":{},\"id\":\"1115\",\"type\":\"PanTool\"},{\"attributes\":{\"ticker\":{\"id\":\"1106\",\"type\":\"BasicTicker\"}},\"id\":\"1109\",\"type\":\"Grid\"},{\"attributes\":{\"formatter\":{\"id\":\"1150\",\"type\":\"BasicTickFormatter\"},\"ticker\":{\"id\":\"1111\",\"type\":\"BasicTicker\"}},\"id\":\"1110\",\"type\":\"LinearAxis\"},{\"attributes\":{},\"id\":\"1111\",\"type\":\"BasicTicker\"},{\"attributes\":{\"dimension\":1,\"ticker\":{\"id\":\"1111\",\"type\":\"BasicTicker\"}},\"id\":\"1114\",\"type\":\"Grid\"},{\"attributes\":{},\"id\":\"1148\",\"type\":\"BasicTickFormatter\"},{\"attributes\":{\"active_drag\":\"auto\",\"active_inspect\":\"auto\",\"active_multi\":null,\"active_scroll\":\"auto\",\"active_tap\":\"auto\",\"tools\":[{\"id\":\"1115\",\"type\":\"PanTool\"},{\"id\":\"1116\",\"type\":\"WheelZoomTool\"},{\"id\":\"1117\",\"type\":\"BoxZoomTool\"},{\"id\":\"1118\",\"type\":\"SaveTool\"},{\"id\":\"1119\",\"type\":\"ResetTool\"},{\"id\":\"1120\",\"type\":\"HelpTool\"}]},\"id\":\"1121\",\"type\":\"Toolbar\"},{\"attributes\":{},\"id\":\"1116\",\"type\":\"WheelZoomTool\"},{\"attributes\":{},\"id\":\"1120\",\"type\":\"HelpTool\"},{\"attributes\":{},\"id\":\"1153\",\"type\":\"Selection\"},{\"attributes\":{\"overlay\":{\"id\":\"1152\",\"type\":\"BoxAnnotation\"}},\"id\":\"1117\",\"type\":\"BoxZoomTool\"},{\"attributes\":{},\"id\":\"1154\",\"type\":\"UnionRenderers\"},{\"attributes\":{},\"id\":\"1118\",\"type\":\"SaveTool\"},{\"attributes\":{},\"id\":\"1119\",\"type\":\"ResetTool\"},{\"attributes\":{\"callback\":null,\"data\":{\"left\":{\"__ndarray__\":\"AAAAAAAAAAAUrkfhehQGQBSuR+F6FBZAj8L1KFyPIEAUrkfhehQmQJmZmZmZmStAj8L1KFyPMEBSuB6F61EzQBSuR+F6FDZA1qNwPQrXOECZmZmZmZk7QFyPwvUoXD5Aj8L1KFyPQEBwPQrXo/BBQFK4HoXrUUNAMzMzMzOzREAUrkfhehRGQPUoXI/CdUdA1qNwPQrXSEC4HoXrUThKQJmZmZmZmUtAehSuR+H6TEBcj8L1KFxOQD0K16NwvU9Aj8L1KFyPUEA=\",\"dtype\":\"float64\",\"shape\":[25]},\"right\":{\"__ndarray__\":\"FK5H4XoUBkAUrkfhehQWQI/C9ShcjyBAFK5H4XoUJkCZmZmZmZkrQI/C9ShcjzBAUrgehetRM0AUrkfhehQ2QNajcD0K1zhAmZmZmZmZO0Bcj8L1KFw+QI/C9Shcj0BAcD0K16PwQUBSuB6F61FDQDMzMzMzs0RAFK5H4XoURkD1KFyPwnVHQNajcD0K10hAuB6F61E4SkCZmZmZmZlLQHoUrkfh+kxAXI/C9ShcTkA9CtejcL1PQI/C9Shcj1BAAAAAAABAUUA=\",\"dtype\":\"float64\",\"shape\":[25]},\"top\":[19,87,136,120,47,41,21,9,3,3,5,1,4,1,2,0,0,0,0,0,0,0,0,0,1]},\"selected\":{\"id\":\"1153\",\"type\":\"Selection\"},\"selection_policy\":{\"id\":\"1154\",\"type\":\"UnionRenderers\"}},\"id\":\"1128\",\"type\":\"ColumnDataSource\"},{\"attributes\":{\"source\":{\"id\":\"1128\",\"type\":\"ColumnDataSource\"}},\"id\":\"1132\",\"type\":\"CDSView\"},{\"attributes\":{\"bottom\":{\"value\":0},\"fill_alpha\":{\"value\":0.1},\"fill_color\":{\"value\":\"#1f77b4\"},\"left\":{\"field\":\"left\"},\"line_alpha\":{\"value\":0.1},\"line_color\":{\"value\":\"#1f77b4\"},\"right\":{\"field\":\"right\"},\"top\":{\"field\":\"top\"}},\"id\":\"1130\",\"type\":\"Quad\"},{\"attributes\":{\"line_color\":\"red\",\"x\":{\"field\":\"x\"},\"y\":{\"field\":\"y\"}},\"id\":\"1134\",\"type\":\"Line\"},{\"attributes\":{\"data_source\":{\"id\":\"1128\",\"type\":\"ColumnDataSource\"},\"glyph\":{\"id\":\"1129\",\"type\":\"Quad\"},\"hover_glyph\":null,\"muted_glyph\":null,\"nonselection_glyph\":{\"id\":\"1130\",\"type\":\"Quad\"},\"selection_glyph\":null,\"view\":{\"id\":\"1132\",\"type\":\"CDSView\"}},\"id\":\"1131\",\"type\":\"GlyphRenderer\"},{\"attributes\":{},\"id\":\"1103\",\"type\":\"LinearScale\"},{\"attributes\":{\"data_source\":{\"id\":\"1133\",\"type\":\"ColumnDataSource\"},\"glyph\":{\"id\":\"1134\",\"type\":\"Line\"},\"hover_glyph\":null,\"muted_glyph\":null,\"nonselection_glyph\":{\"id\":\"1135\",\"type\":\"Line\"},\"selection_glyph\":null,\"view\":{\"id\":\"1137\",\"type\":\"CDSView\"}},\"id\":\"1136\",\"type\":\"GlyphRenderer\"},{\"attributes\":{\"callback\":null},\"id\":\"1097\",\"type\":\"DataRange1d\"},{\"attributes\":{},\"id\":\"1155\",\"type\":\"Selection\"},{\"attributes\":{},\"id\":\"1150\",\"type\":\"BasicTickFormatter\"},{\"attributes\":{},\"id\":\"1156\",\"type\":\"UnionRenderers\"},{\"attributes\":{\"bottom\":{\"value\":0},\"fill_color\":{\"value\":\"#1f77b4\"},\"left\":{\"field\":\"left\"},\"line_color\":{\"value\":\"#1f77b4\"},\"right\":{\"field\":\"right\"},\"top\":{\"field\":\"top\"}},\"id\":\"1129\",\"type\":\"Quad\"},{\"attributes\":{\"callback\":null,\"data\":{\"x\":[9.0,9.0],\"y\":[0,140]},\"selected\":{\"id\":\"1155\",\"type\":\"Selection\"},\"selection_policy\":{\"id\":\"1156\",\"type\":\"UnionRenderers\"}},\"id\":\"1133\",\"type\":\"ColumnDataSource\"},{\"attributes\":{\"line_alpha\":0.1,\"line_color\":\"#1f77b4\",\"x\":{\"field\":\"x\"},\"y\":{\"field\":\"y\"}},\"id\":\"1135\",\"type\":\"Line\"},{\"attributes\":{\"callback\":null},\"id\":\"1099\",\"type\":\"DataRange1d\"},{\"attributes\":{\"source\":{\"id\":\"1133\",\"type\":\"ColumnDataSource\"}},\"id\":\"1137\",\"type\":\"CDSView\"},{\"attributes\":{\"formatter\":{\"id\":\"1148\",\"type\":\"BasicTickFormatter\"},\"ticker\":{\"id\":\"1106\",\"type\":\"BasicTicker\"}},\"id\":\"1105\",\"type\":\"LinearAxis\"},{\"attributes\":{},\"id\":\"1106\",\"type\":\"BasicTicker\"},{\"attributes\":{\"bottom_units\":\"screen\",\"fill_alpha\":{\"value\":0.5},\"fill_color\":{\"value\":\"lightgrey\"},\"left_units\":\"screen\",\"level\":\"overlay\",\"line_alpha\":{\"value\":1.0},\"line_color\":{\"value\":\"black\"},\"line_dash\":[4,4],\"line_width\":{\"value\":2},\"render_mode\":\"css\",\"right_units\":\"screen\",\"top_units\":\"screen\"},\"id\":\"1152\",\"type\":\"BoxAnnotation\"},{\"attributes\":{\"text\":\"\"},\"id\":\"1147\",\"type\":\"Title\"},{\"attributes\":{},\"id\":\"1101\",\"type\":\"LinearScale\"}],\"root_ids\":[\"1096\"]},\"title\":\"Bokeh Application\",\"version\":\"1.4.0\"}};\n",
       "  var render_items = [{\"docid\":\"501fe378-4457-41c1-bfa7-375149bada53\",\"roots\":{\"1096\":\"f68fb1bd-2123-46b1-9c16-40ba2110d272\"}}];\n",
       "  root.Bokeh.embed.embed_items_notebook(docs_json, render_items);\n",
       "\n",
       "  }\n",
       "  if (root.Bokeh !== undefined) {\n",
       "    embed_document(root);\n",
       "  } else {\n",
       "    var attempts = 0;\n",
       "    var timer = setInterval(function(root) {\n",
       "      if (root.Bokeh !== undefined) {\n",
       "        clearInterval(timer);\n",
       "        embed_document(root);\n",
       "      } else {\n",
       "        attempts++;\n",
       "        if (attempts > 100) {\n",
       "          clearInterval(timer);\n",
       "          console.log(\"Bokeh: ERROR: Unable to run BokehJS code because BokehJS library is missing\");\n",
       "        }\n",
       "      }\n",
       "    }, 10, root)\n",
       "  }\n",
       "})(window);"
      ],
      "application/vnd.bokehjs_exec.v0+json": ""
     },
     "metadata": {
      "application/vnd.bokehjs_exec.v0+json": {
       "id": "1096"
      }
     },
     "output_type": "display_data"
    }
   ],
   "source": [
    "description_lengths = starred_repo_df['description'].str.split().apply(lambda l: 0 if l is None else len(l))\n",
    "\n",
    "hist, edges = np.histogram(description_lengths.values, bins=25)\n",
    "median_description_length = description_lengths.median()\n",
    "mean_description_length = description_lengths.mean()\n",
    "\n",
    "p = bokeh.plotting.figure(plot_height=600, plot_width=800)\n",
    "p.quad(top=hist, left=edges[:-1], right=edges[1:], bottom=0)\n",
    "p.line([median_description_length, median_description_length], [0, 140], line_color='red')\n",
    "bokeh.plotting.show(p)"
   ]
  },
  {
   "cell_type": "markdown",
   "metadata": {
    "colab_type": "text",
    "id": "jaD1fT_UXyae"
   },
   "source": [
    "Topics word cloud"
   ]
  },
  {
   "cell_type": "code",
   "execution_count": 16,
   "metadata": {
    "colab": {
     "base_uri": "https://localhost:8080/",
     "height": 275
    },
    "colab_type": "code",
    "id": "MhcgvKuyX0A4",
    "outputId": "a664baa0-6ba0-4b83-81bd-f833a7f14224"
   },
   "outputs": [
    {
     "data": {
      "image/png": "[encoded data removed]",
      "text/plain": [
       "<Figure size 576x360 with 1 Axes>"
      ]
     },
     "metadata": {},
     "output_type": "display_data"
    }
   ],
   "source": [
    "show_word_cloud_from_texts(starred_repo_df['topics'].apply(' '.join))"
   ]
  },
  {
   "cell_type": "markdown",
   "metadata": {
    "colab_type": "text",
    "id": "bfHgxBgaXwv-"
   },
   "source": [
    "Descriptions word cloud"
   ]
  },
  {
   "cell_type": "code",
   "execution_count": 17,
   "metadata": {},
   "outputs": [
    {
     "data": {
      "image/png": "[encoded data removed]",
      "text/plain": [
       "<Figure size 576x360 with 1 Axes>"
      ]
     },
     "metadata": {},
     "output_type": "display_data"
    }
   ],
   "source": [
    "show_word_cloud_from_texts(starred_repo_df['description'])"
   ]
  },
  {
   "cell_type": "code",
   "execution_count": 18,
   "metadata": {
    "colab": {
     "base_uri": "https://localhost:8080/",
     "height": 275
    },
    "colab_type": "code",
    "id": "zVJ-66l2UV3W",
    "outputId": "dcc9c37a-9ad0-48dd-ec3f-287c7cbe00ee"
   },
   "outputs": [
    {
     "data": {
      "image/png": "[encoded data removed]",
      "text/plain": [
       "<Figure size 576x360 with 1 Axes>"
      ]
     },
     "metadata": {},
     "output_type": "display_data"
    }
   ],
   "source": [
    "show_word_cloud_from_texts(starred_repo_df['description_keywords'])"
   ]
  },
  {
   "cell_type": "markdown",
   "metadata": {},
   "source": [
    "## Term-document matrix"
   ]
  },
  {
   "cell_type": "code",
   "execution_count": 19,
   "metadata": {},
   "outputs": [],
   "source": [
    "vectorizer = feature_extraction.text.TfidfVectorizer(\n",
    "    stop_words=stop_words.ENGLISH_STOP_WORDS,\n",
    "    ngram_range=(1,2)\n",
    ")\n",
    "term_document_matrix = vectorizer.fit_transform(starred_repo_df['description'])"
   ]
  },
  {
   "cell_type": "markdown",
   "metadata": {
    "colab_type": "text",
    "id": "gSIfWrKhkhGa"
   },
   "source": [
    "## Topic modeling (repo descriptions)\n",
    "\n",
    "Note that term-document matrix is nonnegative - it contains (normalized) counts of words in documents.\n",
    "\n",
    "In general a method that models documents as combinations of 'topics' which are combination of words is called a topic model.\n",
    "\n",
    "One of the simplest ways to capture that is Nonnegative Matrix Factorization:\n",
    "\n",
    "$$X \\approx WH$$\n",
    "\n",
    "Formally it solves minimization problem for\n",
    "\n",
    "$$\\|X - WH\\|^2_F = \\sum_{i, j}(X_{i,j} - (WH)_{i,j})^2 $$\n",
    "\n",
    "Where $W$, $H$ are nonnegative."
   ]
  },
  {
   "cell_type": "code",
   "execution_count": 20,
   "metadata": {
    "colab": {},
    "colab_type": "code",
    "id": "8P-zYDlske82"
   },
   "outputs": [],
   "source": [
    "num_topics = 10\n",
    "nmf = decomposition.NMF(n_components=num_topics)"
   ]
  },
  {
   "cell_type": "code",
   "execution_count": 21,
   "metadata": {
    "colab": {},
    "colab_type": "code",
    "id": "ZLDugD3-lMsj"
   },
   "outputs": [],
   "source": [
    "reduced_term_document_matrix = nmf.fit_transform(term_document_matrix)"
   ]
  },
  {
   "cell_type": "code",
   "execution_count": 22,
   "metadata": {
    "colab": {},
    "colab_type": "code",
    "id": "-s_NS58al8ID"
   },
   "outputs": [],
   "source": [
    "topic_words = topic_modeling.top_topic_words(nmf, vectorizer.get_feature_names(), 10)"
   ]
  },
  {
   "cell_type": "code",
   "execution_count": 23,
   "metadata": {},
   "outputs": [],
   "source": [
    "top_words_per_topic = [list(topic_words.iloc[topic].values) for topic in range(num_topics)]\n",
    "representative_repos = [get_repos_representing_topic(starred_repo_df, reduced_term_document_matrix, topic)[['description']] for topic in range(num_topics)]"
   ]
  },
  {
   "cell_type": "markdown",
   "metadata": {},
   "source": [
    "## Topic keywords and most representative repositories"
   ]
  },
  {
   "cell_type": "code",
   "execution_count": 24,
   "metadata": {
    "scrolled": false
   },
   "outputs": [
    {
     "data": {
      "text/markdown": [
       "## **topic 1 keywords:**"
      ],
      "text/plain": [
       "<IPython.core.display.Markdown object>"
      ]
     },
     "metadata": {},
     "output_type": "display_data"
    },
    {
     "data": {
      "text/plain": [
       "['deep',\n",
       " 'deep learning',\n",
       " 'learning',\n",
       " 'text',\n",
       " 'learning models',\n",
       " 'models',\n",
       " 'learning cookbox',\n",
       " 'cookbox',\n",
       " 'learning hash',\n",
       " 'program']"
      ]
     },
     "metadata": {},
     "output_type": "display_data"
    },
    {
     "data": {
      "text/markdown": [
       "## **repositories representative for 1th topic:**"
      ],
      "text/plain": [
       "<IPython.core.display.Markdown object>"
      ]
     },
     "metadata": {},
     "output_type": "display_data"
    },
    {
     "data": {
      "text/html": [
       "<div>\n",
       "<style scoped>\n",
       "    .dataframe tbody tr th:only-of-type {\n",
       "        vertical-align: middle;\n",
       "    }\n",
       "\n",
       "    .dataframe tbody tr th {\n",
       "        vertical-align: top;\n",
       "    }\n",
       "\n",
       "    .dataframe thead th {\n",
       "        text-align: right;\n",
       "    }\n",
       "</style>\n",
       "<table border=\"1\" class=\"dataframe\">\n",
       "  <thead>\n",
       "    <tr style=\"text-align: right;\">\n",
       "      <th></th>\n",
       "      <th>description</th>\n",
       "    </tr>\n",
       "    <tr>\n",
       "      <th>name</th>\n",
       "      <th></th>\n",
       "    </tr>\n",
       "  </thead>\n",
       "  <tbody>\n",
       "    <tr>\n",
       "      <th>deep_learning_cookbook</th>\n",
       "      <td>deep learning cookbox</td>\n",
       "    </tr>\n",
       "    <tr>\n",
       "      <th>deep-learning-model-convertor</th>\n",
       "      <td>the convertor/conversion of deep learning mode...</td>\n",
       "    </tr>\n",
       "    <tr>\n",
       "      <th>DIGITS</th>\n",
       "      <td>deep learning gpu training system</td>\n",
       "    </tr>\n",
       "    <tr>\n",
       "      <th>d2l-en</th>\n",
       "      <td>dive into deep learning: an interactive deep l...</td>\n",
       "    </tr>\n",
       "    <tr>\n",
       "      <th>castor</th>\n",
       "      <td>pytorch deep learning models for text process</td>\n",
       "    </tr>\n",
       "  </tbody>\n",
       "</table>\n",
       "</div>"
      ],
      "text/plain": [
       "                                                                     description\n",
       "name                                                                            \n",
       "deep_learning_cookbook                                     deep learning cookbox\n",
       "deep-learning-model-convertor  the convertor/conversion of deep learning mode...\n",
       "DIGITS                                         deep learning gpu training system\n",
       "d2l-en                         dive into deep learning: an interactive deep l...\n",
       "castor                             pytorch deep learning models for text process"
      ]
     },
     "metadata": {},
     "output_type": "display_data"
    },
    {
     "name": "stdout",
     "output_type": "stream",
     "text": [
      "\n"
     ]
    },
    {
     "data": {
      "text/markdown": [
       "## **topic 2 keywords:**"
      ],
      "text/plain": [
       "<IPython.core.display.Markdown object>"
      ]
     },
     "metadata": {},
     "output_type": "display_data"
    },
    {
     "data": {
      "text/plain": [
       "['language',\n",
       " 'natural',\n",
       " 'natural language',\n",
       " 'processing',\n",
       " 'language processing',\n",
       " 'nlp',\n",
       " 'state',\n",
       " 'state art',\n",
       " 'art',\n",
       " 'art natural']"
      ]
     },
     "metadata": {},
     "output_type": "display_data"
    },
    {
     "data": {
      "text/markdown": [
       "## **repositories representative for 2th topic:**"
      ],
      "text/plain": [
       "<IPython.core.display.Markdown object>"
      ]
     },
     "metadata": {},
     "output_type": "display_data"
    },
    {
     "data": {
      "text/html": [
       "<div>\n",
       "<style scoped>\n",
       "    .dataframe tbody tr th:only-of-type {\n",
       "        vertical-align: middle;\n",
       "    }\n",
       "\n",
       "    .dataframe tbody tr th {\n",
       "        vertical-align: top;\n",
       "    }\n",
       "\n",
       "    .dataframe thead th {\n",
       "        text-align: right;\n",
       "    }\n",
       "</style>\n",
       "<table border=\"1\" class=\"dataframe\">\n",
       "  <thead>\n",
       "    <tr style=\"text-align: right;\">\n",
       "      <th></th>\n",
       "      <th>description</th>\n",
       "    </tr>\n",
       "    <tr>\n",
       "      <th>name</th>\n",
       "      <th></th>\n",
       "    </tr>\n",
       "  </thead>\n",
       "  <tbody>\n",
       "    <tr>\n",
       "      <th>flair</th>\n",
       "      <td>a very simple framework for state-of-the-art n...</td>\n",
       "    </tr>\n",
       "    <tr>\n",
       "      <th>spark-nlp</th>\n",
       "      <td>state of the art natural language process</td>\n",
       "    </tr>\n",
       "    <tr>\n",
       "      <th>transformers</th>\n",
       "      <td>🤗 transformers: state-of-the-art natural langu...</td>\n",
       "    </tr>\n",
       "    <tr>\n",
       "      <th>natural-language-processing</th>\n",
       "      <td>resources for \"natural language processing\" co...</td>\n",
       "    </tr>\n",
       "    <tr>\n",
       "      <th>nlp_tasks</th>\n",
       "      <td>natural language processing tasks and refer</td>\n",
       "    </tr>\n",
       "  </tbody>\n",
       "</table>\n",
       "</div>"
      ],
      "text/plain": [
       "                                                                   description\n",
       "name                                                                          \n",
       "flair                        a very simple framework for state-of-the-art n...\n",
       "spark-nlp                            state of the art natural language process\n",
       "transformers                 🤗 transformers: state-of-the-art natural langu...\n",
       "natural-language-processing  resources for \"natural language processing\" co...\n",
       "nlp_tasks                          natural language processing tasks and refer"
      ]
     },
     "metadata": {},
     "output_type": "display_data"
    },
    {
     "name": "stdout",
     "output_type": "stream",
     "text": [
      "\n"
     ]
    },
    {
     "data": {
      "text/markdown": [
       "## **topic 3 keywords:**"
      ],
      "text/plain": [
       "<IPython.core.display.Markdown object>"
      ]
     },
     "metadata": {},
     "output_type": "display_data"
    },
    {
     "data": {
      "text/plain": [
       "['list',\n",
       " 'curated',\n",
       " 'curated list',\n",
       " 'awesome',\n",
       " 'list awesome',\n",
       " 'resources',\n",
       " 'dedicated',\n",
       " 'resources dedicated',\n",
       " 'list resources',\n",
       " 'text']"
      ]
     },
     "metadata": {},
     "output_type": "display_data"
    },
    {
     "data": {
      "text/markdown": [
       "## **repositories representative for 3th topic:**"
      ],
      "text/plain": [
       "<IPython.core.display.Markdown object>"
      ]
     },
     "metadata": {},
     "output_type": "display_data"
    },
    {
     "data": {
      "text/html": [
       "<div>\n",
       "<style scoped>\n",
       "    .dataframe tbody tr th:only-of-type {\n",
       "        vertical-align: middle;\n",
       "    }\n",
       "\n",
       "    .dataframe tbody tr th {\n",
       "        vertical-align: top;\n",
       "    }\n",
       "\n",
       "    .dataframe thead th {\n",
       "        text-align: right;\n",
       "    }\n",
       "</style>\n",
       "<table border=\"1\" class=\"dataframe\">\n",
       "  <thead>\n",
       "    <tr style=\"text-align: right;\">\n",
       "      <th></th>\n",
       "      <th>description</th>\n",
       "    </tr>\n",
       "    <tr>\n",
       "      <th>name</th>\n",
       "      <th></th>\n",
       "    </tr>\n",
       "  </thead>\n",
       "  <tbody>\n",
       "    <tr>\n",
       "      <th>awesome-text-summarization</th>\n",
       "      <td>a curated list of resources dedicated to text ...</td>\n",
       "    </tr>\n",
       "    <tr>\n",
       "      <th>awesome-scheme</th>\n",
       "      <td>a curated list of awesome scheme resources and...</td>\n",
       "    </tr>\n",
       "    <tr>\n",
       "      <th>awesome-spark</th>\n",
       "      <td>a curated list of awesome apache spark package...</td>\n",
       "    </tr>\n",
       "    <tr>\n",
       "      <th>awesome-information-retrieval</th>\n",
       "      <td>a curated list of awesome information retrieva...</td>\n",
       "    </tr>\n",
       "    <tr>\n",
       "      <th>gans-awesome-applications</th>\n",
       "      <td>curated list of awesome gan applications and demo</td>\n",
       "    </tr>\n",
       "  </tbody>\n",
       "</table>\n",
       "</div>"
      ],
      "text/plain": [
       "                                                                     description\n",
       "name                                                                            \n",
       "awesome-text-summarization     a curated list of resources dedicated to text ...\n",
       "awesome-scheme                 a curated list of awesome scheme resources and...\n",
       "awesome-spark                  a curated list of awesome apache spark package...\n",
       "awesome-information-retrieval  a curated list of awesome information retrieva...\n",
       "gans-awesome-applications      curated list of awesome gan applications and demo"
      ]
     },
     "metadata": {},
     "output_type": "display_data"
    },
    {
     "name": "stdout",
     "output_type": "stream",
     "text": [
      "\n"
     ]
    },
    {
     "data": {
      "text/markdown": [
       "## **topic 4 keywords:**"
      ],
      "text/plain": [
       "<IPython.core.display.Markdown object>"
      ]
     },
     "metadata": {},
     "output_type": "display_data"
    },
    {
     "data": {
      "text/plain": [
       "['model',\n",
       " 'topic',\n",
       " 'topic model',\n",
       " 'text',\n",
       " 'short text',\n",
       " 'short',\n",
       " 'summarization',\n",
       " 'neural topic',\n",
       " 'text topic',\n",
       " 'biterm topic']"
      ]
     },
     "metadata": {},
     "output_type": "display_data"
    },
    {
     "data": {
      "text/markdown": [
       "## **repositories representative for 4th topic:**"
      ],
      "text/plain": [
       "<IPython.core.display.Markdown object>"
      ]
     },
     "metadata": {},
     "output_type": "display_data"
    },
    {
     "data": {
      "text/html": [
       "<div>\n",
       "<style scoped>\n",
       "    .dataframe tbody tr th:only-of-type {\n",
       "        vertical-align: middle;\n",
       "    }\n",
       "\n",
       "    .dataframe tbody tr th {\n",
       "        vertical-align: top;\n",
       "    }\n",
       "\n",
       "    .dataframe thead th {\n",
       "        text-align: right;\n",
       "    }\n",
       "</style>\n",
       "<table border=\"1\" class=\"dataframe\">\n",
       "  <thead>\n",
       "    <tr style=\"text-align: right;\">\n",
       "      <th></th>\n",
       "      <th>description</th>\n",
       "    </tr>\n",
       "    <tr>\n",
       "      <th>name</th>\n",
       "      <th></th>\n",
       "    </tr>\n",
       "  </thead>\n",
       "  <tbody>\n",
       "    <tr>\n",
       "      <th>SeaNMF</th>\n",
       "      <td>short text topic model</td>\n",
       "    </tr>\n",
       "    <tr>\n",
       "      <th>NeuralTopicModels</th>\n",
       "      <td>neural topic model</td>\n",
       "    </tr>\n",
       "    <tr>\n",
       "      <th>biterm</th>\n",
       "      <td>biterm topic model</td>\n",
       "    </tr>\n",
       "    <tr>\n",
       "      <th>python-topic-model</th>\n",
       "      <td>implementation of various topic model</td>\n",
       "    </tr>\n",
       "    <tr>\n",
       "      <th>Familia</th>\n",
       "      <td>a toolkit for industrial topic model</td>\n",
       "    </tr>\n",
       "  </tbody>\n",
       "</table>\n",
       "</div>"
      ],
      "text/plain": [
       "                                              description\n",
       "name                                                     \n",
       "SeaNMF                             short text topic model\n",
       "NeuralTopicModels                      neural topic model\n",
       "biterm                                 biterm topic model\n",
       "python-topic-model  implementation of various topic model\n",
       "Familia              a toolkit for industrial topic model"
      ]
     },
     "metadata": {},
     "output_type": "display_data"
    },
    {
     "name": "stdout",
     "output_type": "stream",
     "text": [
      "\n"
     ]
    },
    {
     "data": {
      "text/markdown": [
       "## **topic 5 keywords:**"
      ],
      "text/plain": [
       "<IPython.core.display.Markdown object>"
      ]
     },
     "metadata": {},
     "output_type": "display_data"
    },
    {
     "data": {
      "text/plain": [
       "['python',\n",
       " 'library',\n",
       " 'analysis',\n",
       " 'implementation',\n",
       " 'python implementation',\n",
       " 'algorithm',\n",
       " 'wrapper',\n",
       " 'factorization',\n",
       " 'fast',\n",
       " 'analysis python']"
      ]
     },
     "metadata": {},
     "output_type": "display_data"
    },
    {
     "data": {
      "text/markdown": [
       "## **repositories representative for 5th topic:**"
      ],
      "text/plain": [
       "<IPython.core.display.Markdown object>"
      ]
     },
     "metadata": {},
     "output_type": "display_data"
    },
    {
     "data": {
      "text/html": [
       "<div>\n",
       "<style scoped>\n",
       "    .dataframe tbody tr th:only-of-type {\n",
       "        vertical-align: middle;\n",
       "    }\n",
       "\n",
       "    .dataframe tbody tr th {\n",
       "        vertical-align: top;\n",
       "    }\n",
       "\n",
       "    .dataframe thead th {\n",
       "        text-align: right;\n",
       "    }\n",
       "</style>\n",
       "<table border=\"1\" class=\"dataframe\">\n",
       "  <thead>\n",
       "    <tr style=\"text-align: right;\">\n",
       "      <th></th>\n",
       "      <th>description</th>\n",
       "    </tr>\n",
       "    <tr>\n",
       "      <th>name</th>\n",
       "      <th></th>\n",
       "    </tr>\n",
       "  </thead>\n",
       "  <tbody>\n",
       "    <tr>\n",
       "      <th>scikit-tda</th>\n",
       "      <td>topological data analysis for python🐍</td>\n",
       "    </tr>\n",
       "    <tr>\n",
       "      <th>lifelines</th>\n",
       "      <td>survival analysis in python</td>\n",
       "    </tr>\n",
       "    <tr>\n",
       "      <th>irlib</th>\n",
       "      <td>information retrieval library (in python)</td>\n",
       "    </tr>\n",
       "    <tr>\n",
       "      <th>rouge</th>\n",
       "      <td>a full python implementation of the rouge metr...</td>\n",
       "    </tr>\n",
       "    <tr>\n",
       "      <th>nude.py</th>\n",
       "      <td>nudity detection with python</td>\n",
       "    </tr>\n",
       "  </tbody>\n",
       "</table>\n",
       "</div>"
      ],
      "text/plain": [
       "                                                  description\n",
       "name                                                         \n",
       "scikit-tda              topological data analysis for python🐍\n",
       "lifelines                         survival analysis in python\n",
       "irlib               information retrieval library (in python)\n",
       "rouge       a full python implementation of the rouge metr...\n",
       "nude.py                          nudity detection with python"
      ]
     },
     "metadata": {},
     "output_type": "display_data"
    },
    {
     "name": "stdout",
     "output_type": "stream",
     "text": [
      "\n"
     ]
    },
    {
     "data": {
      "text/markdown": [
       "## **topic 6 keywords:**"
      ],
      "text/plain": [
       "<IPython.core.display.Markdown object>"
      ]
     },
     "metadata": {},
     "output_type": "display_data"
    },
    {
     "data": {
      "text/plain": [
       "['image',\n",
       " 'retrieval',\n",
       " 'image image',\n",
       " 'image retrieval',\n",
       " 'tensorflow',\n",
       " 'transl',\n",
       " 'unsupervised image',\n",
       " 'image transl',\n",
       " 'search',\n",
       " 'unsupervised']"
      ]
     },
     "metadata": {},
     "output_type": "display_data"
    },
    {
     "data": {
      "text/markdown": [
       "## **repositories representative for 6th topic:**"
      ],
      "text/plain": [
       "<IPython.core.display.Markdown object>"
      ]
     },
     "metadata": {},
     "output_type": "display_data"
    },
    {
     "data": {
      "text/html": [
       "<div>\n",
       "<style scoped>\n",
       "    .dataframe tbody tr th:only-of-type {\n",
       "        vertical-align: middle;\n",
       "    }\n",
       "\n",
       "    .dataframe tbody tr th {\n",
       "        vertical-align: top;\n",
       "    }\n",
       "\n",
       "    .dataframe thead th {\n",
       "        text-align: right;\n",
       "    }\n",
       "</style>\n",
       "<table border=\"1\" class=\"dataframe\">\n",
       "  <thead>\n",
       "    <tr style=\"text-align: right;\">\n",
       "      <th></th>\n",
       "      <th>description</th>\n",
       "    </tr>\n",
       "    <tr>\n",
       "      <th>name</th>\n",
       "      <th></th>\n",
       "    </tr>\n",
       "  </thead>\n",
       "  <tbody>\n",
       "    <tr>\n",
       "      <th>UNIT</th>\n",
       "      <td>unsupervised image-to-image transl</td>\n",
       "    </tr>\n",
       "    <tr>\n",
       "      <th>FUNIT_tensorflow</th>\n",
       "      <td>tensorflow implementation of funit: few-shot u...</td>\n",
       "    </tr>\n",
       "    <tr>\n",
       "      <th>CBIR</th>\n",
       "      <td>🏞  a content-based image retrieval (cbir) system</td>\n",
       "    </tr>\n",
       "    <tr>\n",
       "      <th>nsfw_data_scraper</th>\n",
       "      <td>collection of scripts to aggregate image data ...</td>\n",
       "    </tr>\n",
       "    <tr>\n",
       "      <th>cnnimageretrieval-pytorch</th>\n",
       "      <td>cnn image retrieval in pytorch: training and e...</td>\n",
       "    </tr>\n",
       "  </tbody>\n",
       "</table>\n",
       "</div>"
      ],
      "text/plain": [
       "                                                                 description\n",
       "name                                                                        \n",
       "UNIT                                      unsupervised image-to-image transl\n",
       "FUNIT_tensorflow           tensorflow implementation of funit: few-shot u...\n",
       "CBIR                        🏞  a content-based image retrieval (cbir) system\n",
       "nsfw_data_scraper          collection of scripts to aggregate image data ...\n",
       "cnnimageretrieval-pytorch  cnn image retrieval in pytorch: training and e..."
      ]
     },
     "metadata": {},
     "output_type": "display_data"
    },
    {
     "name": "stdout",
     "output_type": "stream",
     "text": [
      "\n"
     ]
    },
    {
     "data": {
      "text/markdown": [
       "## **topic 7 keywords:**"
      ],
      "text/plain": [
       "<IPython.core.display.Markdown object>"
      ]
     },
     "metadata": {},
     "output_type": "display_data"
    },
    {
     "data": {
      "text/plain": [
       "['machine',\n",
       " 'machine learning',\n",
       " 'learning',\n",
       " 'tools',\n",
       " 'tools javascript',\n",
       " 'learning tools',\n",
       " 'javascript',\n",
       " 'materials',\n",
       " 'friendly machine',\n",
       " 'learning web']"
      ]
     },
     "metadata": {},
     "output_type": "display_data"
    },
    {
     "data": {
      "text/markdown": [
       "## **repositories representative for 7th topic:**"
      ],
      "text/plain": [
       "<IPython.core.display.Markdown object>"
      ]
     },
     "metadata": {},
     "output_type": "display_data"
    },
    {
     "data": {
      "text/html": [
       "<div>\n",
       "<style scoped>\n",
       "    .dataframe tbody tr th:only-of-type {\n",
       "        vertical-align: middle;\n",
       "    }\n",
       "\n",
       "    .dataframe tbody tr th {\n",
       "        vertical-align: top;\n",
       "    }\n",
       "\n",
       "    .dataframe thead th {\n",
       "        text-align: right;\n",
       "    }\n",
       "</style>\n",
       "<table border=\"1\" class=\"dataframe\">\n",
       "  <thead>\n",
       "    <tr style=\"text-align: right;\">\n",
       "      <th></th>\n",
       "      <th>description</th>\n",
       "    </tr>\n",
       "    <tr>\n",
       "      <th>name</th>\n",
       "      <th></th>\n",
       "    </tr>\n",
       "  </thead>\n",
       "  <tbody>\n",
       "    <tr>\n",
       "      <th>ml</th>\n",
       "      <td>machine learning tools in javascript</td>\n",
       "    </tr>\n",
       "    <tr>\n",
       "      <th>ml5-library</th>\n",
       "      <td>friendly machine learning for the web! 🤖</td>\n",
       "    </tr>\n",
       "    <tr>\n",
       "      <th>vowpal_wabbit</th>\n",
       "      <td>vowpal wabbit is a machine learning system whi...</td>\n",
       "    </tr>\n",
       "    <tr>\n",
       "      <th>ml_uwr</th>\n",
       "      <td>materials for my machine learning course at un...</td>\n",
       "    </tr>\n",
       "    <tr>\n",
       "      <th>few-shot</th>\n",
       "      <td>repository for few-shot learning machine learn...</td>\n",
       "    </tr>\n",
       "  </tbody>\n",
       "</table>\n",
       "</div>"
      ],
      "text/plain": [
       "                                                     description\n",
       "name                                                            \n",
       "ml                          machine learning tools in javascript\n",
       "ml5-library            friendly machine learning for the web! 🤖 \n",
       "vowpal_wabbit  vowpal wabbit is a machine learning system whi...\n",
       "ml_uwr         materials for my machine learning course at un...\n",
       "few-shot       repository for few-shot learning machine learn..."
      ]
     },
     "metadata": {},
     "output_type": "display_data"
    },
    {
     "name": "stdout",
     "output_type": "stream",
     "text": [
      "\n"
     ]
    },
    {
     "data": {
      "text/markdown": [
       "## **topic 8 keywords:**"
      ],
      "text/plain": [
       "<IPython.core.display.Markdown object>"
      ]
     },
     "metadata": {},
     "output_type": "display_data"
    },
    {
     "data": {
      "text/plain": [
       "['shot',\n",
       " 'code',\n",
       " 'shot learning',\n",
       " 'zero shot',\n",
       " 'zero',\n",
       " 'paper',\n",
       " 'learning',\n",
       " 'simple',\n",
       " 'repository',\n",
       " 'implementation']"
      ]
     },
     "metadata": {},
     "output_type": "display_data"
    },
    {
     "data": {
      "text/markdown": [
       "## **repositories representative for 8th topic:**"
      ],
      "text/plain": [
       "<IPython.core.display.Markdown object>"
      ]
     },
     "metadata": {},
     "output_type": "display_data"
    },
    {
     "data": {
      "text/html": [
       "<div>\n",
       "<style scoped>\n",
       "    .dataframe tbody tr th:only-of-type {\n",
       "        vertical-align: middle;\n",
       "    }\n",
       "\n",
       "    .dataframe tbody tr th {\n",
       "        vertical-align: top;\n",
       "    }\n",
       "\n",
       "    .dataframe thead th {\n",
       "        text-align: right;\n",
       "    }\n",
       "</style>\n",
       "<table border=\"1\" class=\"dataframe\">\n",
       "  <thead>\n",
       "    <tr style=\"text-align: right;\">\n",
       "      <th></th>\n",
       "      <th>description</th>\n",
       "    </tr>\n",
       "    <tr>\n",
       "      <th>name</th>\n",
       "      <th></th>\n",
       "    </tr>\n",
       "  </thead>\n",
       "  <tbody>\n",
       "    <tr>\n",
       "      <th>LearningToCompare_ZSL</th>\n",
       "      <td>pytorch code for cvpr 2018 paper: learning to ...</td>\n",
       "    </tr>\n",
       "    <tr>\n",
       "      <th>embarrassingly-simple-zero-shot-learning</th>\n",
       "      <td>this is a started/demo code for zero-shot-lear...</td>\n",
       "    </tr>\n",
       "    <tr>\n",
       "      <th>Embarrassingly-simple-ZSL</th>\n",
       "      <td>this repository contains the code for the real...</td>\n",
       "    </tr>\n",
       "    <tr>\n",
       "      <th>Generalized-Zero-Shot-Learning-via-Aligned-Variational-Autoencoders</th>\n",
       "      <td>this repository has the pytorch implementation...</td>\n",
       "    </tr>\n",
       "    <tr>\n",
       "      <th>ZeroShotCapsule</th>\n",
       "      <td>code for paper \"zero-shot user intent detectio...</td>\n",
       "    </tr>\n",
       "  </tbody>\n",
       "</table>\n",
       "</div>"
      ],
      "text/plain": [
       "                                                                                          description\n",
       "name                                                                                                 \n",
       "LearningToCompare_ZSL                               pytorch code for cvpr 2018 paper: learning to ...\n",
       "embarrassingly-simple-zero-shot-learning            this is a started/demo code for zero-shot-lear...\n",
       "Embarrassingly-simple-ZSL                           this repository contains the code for the real...\n",
       "Generalized-Zero-Shot-Learning-via-Aligned-Vari...  this repository has the pytorch implementation...\n",
       "ZeroShotCapsule                                     code for paper \"zero-shot user intent detectio..."
      ]
     },
     "metadata": {},
     "output_type": "display_data"
    },
    {
     "name": "stdout",
     "output_type": "stream",
     "text": [
      "\n"
     ]
    },
    {
     "data": {
      "text/markdown": [
       "## **topic 9 keywords:**"
      ],
      "text/plain": [
       "<IPython.core.display.Markdown object>"
      ]
     },
     "metadata": {},
     "output_type": "display_data"
    },
    {
     "data": {
      "text/plain": [
       "['open',\n",
       " 'source',\n",
       " 'open source',\n",
       " 'data',\n",
       " 'science',\n",
       " 'data science',\n",
       " 'pytorch',\n",
       " 'research',\n",
       " 'source data',\n",
       " 'mast']"
      ]
     },
     "metadata": {},
     "output_type": "display_data"
    },
    {
     "data": {
      "text/markdown": [
       "## **repositories representative for 9th topic:**"
      ],
      "text/plain": [
       "<IPython.core.display.Markdown object>"
      ]
     },
     "metadata": {},
     "output_type": "display_data"
    },
    {
     "data": {
      "text/html": [
       "<div>\n",
       "<style scoped>\n",
       "    .dataframe tbody tr th:only-of-type {\n",
       "        vertical-align: middle;\n",
       "    }\n",
       "\n",
       "    .dataframe tbody tr th {\n",
       "        vertical-align: top;\n",
       "    }\n",
       "\n",
       "    .dataframe thead th {\n",
       "        text-align: right;\n",
       "    }\n",
       "</style>\n",
       "<table border=\"1\" class=\"dataframe\">\n",
       "  <thead>\n",
       "    <tr style=\"text-align: right;\">\n",
       "      <th></th>\n",
       "      <th>description</th>\n",
       "    </tr>\n",
       "    <tr>\n",
       "      <th>name</th>\n",
       "      <th></th>\n",
       "    </tr>\n",
       "  </thead>\n",
       "  <tbody>\n",
       "    <tr>\n",
       "      <th>go</th>\n",
       "      <td>the open source data science mast</td>\n",
       "    </tr>\n",
       "    <tr>\n",
       "      <th>allennlp</th>\n",
       "      <td>an open-source nlp research library, built on ...</td>\n",
       "    </tr>\n",
       "    <tr>\n",
       "      <th>OpenNMT-py</th>\n",
       "      <td>open source neural machine translation in pytorch</td>\n",
       "    </tr>\n",
       "    <tr>\n",
       "      <th>disentanglement_lib</th>\n",
       "      <td>disentanglement_lib is an open-source library ...</td>\n",
       "    </tr>\n",
       "    <tr>\n",
       "      <th>spreadingvectors</th>\n",
       "      <td>open source implementation of  \"spreading vect...</td>\n",
       "    </tr>\n",
       "  </tbody>\n",
       "</table>\n",
       "</div>"
      ],
      "text/plain": [
       "                                                           description\n",
       "name                                                                  \n",
       "go                                   the open source data science mast\n",
       "allennlp             an open-source nlp research library, built on ...\n",
       "OpenNMT-py           open source neural machine translation in pytorch\n",
       "disentanglement_lib  disentanglement_lib is an open-source library ...\n",
       "spreadingvectors     open source implementation of  \"spreading vect..."
      ]
     },
     "metadata": {},
     "output_type": "display_data"
    },
    {
     "name": "stdout",
     "output_type": "stream",
     "text": [
      "\n"
     ]
    },
    {
     "data": {
      "text/markdown": [
       "## **topic 10 keywords:**"
      ],
      "text/plain": [
       "<IPython.core.display.Markdown object>"
      ]
     },
     "metadata": {},
     "output_type": "display_data"
    },
    {
     "data": {
      "text/plain": [
       "['neural',\n",
       " 'network',\n",
       " 'neural network',\n",
       " 'networks',\n",
       " 'neural networks',\n",
       " 'toolkit',\n",
       " 'convolutional neural',\n",
       " 'convolutional',\n",
       " 'deep neural',\n",
       " 'sentence']"
      ]
     },
     "metadata": {},
     "output_type": "display_data"
    },
    {
     "data": {
      "text/markdown": [
       "## **repositories representative for 10th topic:**"
      ],
      "text/plain": [
       "<IPython.core.display.Markdown object>"
      ]
     },
     "metadata": {},
     "output_type": "display_data"
    },
    {
     "data": {
      "text/html": [
       "<div>\n",
       "<style scoped>\n",
       "    .dataframe tbody tr th:only-of-type {\n",
       "        vertical-align: middle;\n",
       "    }\n",
       "\n",
       "    .dataframe tbody tr th {\n",
       "        vertical-align: top;\n",
       "    }\n",
       "\n",
       "    .dataframe thead th {\n",
       "        text-align: right;\n",
       "    }\n",
       "</style>\n",
       "<table border=\"1\" class=\"dataframe\">\n",
       "  <thead>\n",
       "    <tr style=\"text-align: right;\">\n",
       "      <th></th>\n",
       "      <th>description</th>\n",
       "    </tr>\n",
       "    <tr>\n",
       "      <th>name</th>\n",
       "      <th></th>\n",
       "    </tr>\n",
       "  </thead>\n",
       "  <tbody>\n",
       "    <tr>\n",
       "      <th>GrouPy</th>\n",
       "      <td>group equivariant convolutional neural network</td>\n",
       "    </tr>\n",
       "    <tr>\n",
       "      <th>keras-vis</th>\n",
       "      <td>neural network visualization toolkit for kera</td>\n",
       "    </tr>\n",
       "    <tr>\n",
       "      <th>SPM_toolkit</th>\n",
       "      <td>neural network toolkit for sentence pair model...</td>\n",
       "    </tr>\n",
       "    <tr>\n",
       "      <th>distiller</th>\n",
       "      <td>neural network distiller by intel ai lab: a py...</td>\n",
       "    </tr>\n",
       "    <tr>\n",
       "      <th>gnes</th>\n",
       "      <td>gnes is generic neural elastic search, a cloud...</td>\n",
       "    </tr>\n",
       "  </tbody>\n",
       "</table>\n",
       "</div>"
      ],
      "text/plain": [
       "                                                   description\n",
       "name                                                          \n",
       "GrouPy          group equivariant convolutional neural network\n",
       "keras-vis        neural network visualization toolkit for kera\n",
       "SPM_toolkit  neural network toolkit for sentence pair model...\n",
       "distiller    neural network distiller by intel ai lab: a py...\n",
       "gnes         gnes is generic neural elastic search, a cloud..."
      ]
     },
     "metadata": {},
     "output_type": "display_data"
    },
    {
     "name": "stdout",
     "output_type": "stream",
     "text": [
      "\n"
     ]
    }
   ],
   "source": [
    "for topic in range(num_topics):\n",
    "    printmd('## **topic {} keywords:**'.format(topic + 1))\n",
    "    display(top_words_per_topic[topic])\n",
    "    printmd('## **repositories representative for {}th topic:**'.format(topic + 1))\n",
    "    display(representative_repos[topic])\n",
    "    print()"
   ]
  },
  {
   "cell_type": "markdown",
   "metadata": {},
   "source": [
    "## Visualizing repository 2D projection"
   ]
  },
  {
   "cell_type": "code",
   "execution_count": 25,
   "metadata": {},
   "outputs": [],
   "source": [
    "mds = manifold.MDS()\n",
    "mds_reduced_term_document_matrix = mds.fit_transform(reduced_term_document_matrix)"
   ]
  },
  {
   "cell_type": "code",
   "execution_count": 26,
   "metadata": {},
   "outputs": [
    {
     "data": {
      "text/plain": [
       "5"
      ]
     },
     "execution_count": 26,
     "metadata": {},
     "output_type": "execute_result"
    }
   ],
   "source": [
    "len(representative_repos[0])"
   ]
  },
  {
   "cell_type": "code",
   "execution_count": 27,
   "metadata": {},
   "outputs": [],
   "source": [
    "representatives = pd.concat(representative_repos)"
   ]
  },
  {
   "cell_type": "code",
   "execution_count": 28,
   "metadata": {},
   "outputs": [],
   "source": [
    "representative_indices = np.where(starred_repo_df.index.isin(representatives.index))"
   ]
  },
  {
   "cell_type": "code",
   "execution_count": 29,
   "metadata": {},
   "outputs": [],
   "source": [
    "mds_reduced_representative_vectors = mds_reduced_term_document_matrix[representative_indices]"
   ]
  },
  {
   "cell_type": "code",
   "execution_count": 30,
   "metadata": {},
   "outputs": [],
   "source": [
    "import altair as alt\n",
    "\n",
    "x, y = mds_reduced_representative_vectors[:, 0], mds_reduced_representative_vectors[:, 1]\n",
    "source_df = pd.DataFrame({'x': x, 'y': y, 'label': starred_repo_df.index[representative_indices]})"
   ]
  },
  {
   "cell_type": "code",
   "execution_count": 31,
   "metadata": {},
   "outputs": [
    {
     "data": {
      "text/html": [
       "\n",
       "\n",
       "\n",
       "\n",
       "\n",
       "\n",
       "  <div class=\"bk-root\" id=\"8d98984c-e50d-4a21-95a3-d1853f947fa4\" data-root-id=\"1224\"></div>\n"
      ]
     },
     "metadata": {},
     "output_type": "display_data"
    },
    {
     "data": {
      "application/javascript": [
       "(function(root) {\n",
       "  function embed_document(root) {\n",
       "    \n",
       "  var docs_json = {\"aa642886-b0b9-459c-81a2-19bdb9affcac\":{\"roots\":{\"references\":[{\"attributes\":{\"below\":[{\"id\":\"1233\",\"type\":\"LinearAxis\"}],\"center\":[{\"id\":\"1237\",\"type\":\"Grid\"},{\"id\":\"1242\",\"type\":\"Grid\"},{\"id\":\"1279\",\"type\":\"LabelSet\"}],\"left\":[{\"id\":\"1238\",\"type\":\"LinearAxis\"}],\"renderers\":[{\"id\":\"1277\",\"type\":\"GlyphRenderer\"}],\"title\":{\"id\":\"1301\",\"type\":\"Title\"},\"toolbar\":{\"id\":\"1258\",\"type\":\"Toolbar\"},\"x_range\":{\"id\":\"1225\",\"type\":\"DataRange1d\"},\"x_scale\":{\"id\":\"1229\",\"type\":\"LinearScale\"},\"y_range\":{\"id\":\"1227\",\"type\":\"DataRange1d\"},\"y_scale\":{\"id\":\"1231\",\"type\":\"LinearScale\"}},\"id\":\"1224\",\"subtype\":\"Figure\",\"type\":\"Plot\"},{\"attributes\":{},\"id\":\"1251\",\"type\":\"RedoTool\"},{\"attributes\":{},\"id\":\"1252\",\"type\":\"ResetTool\"},{\"attributes\":{\"bottom_units\":\"screen\",\"fill_alpha\":{\"value\":0.5},\"fill_color\":{\"value\":\"lightgrey\"},\"left_units\":\"screen\",\"level\":\"overlay\",\"line_alpha\":{\"value\":1.0},\"line_color\":{\"value\":\"black\"},\"line_dash\":[4,4],\"line_width\":{\"value\":2},\"render_mode\":\"css\",\"right_units\":\"screen\",\"top_units\":\"screen\"},\"id\":\"1307\",\"type\":\"BoxAnnotation\"},{\"attributes\":{\"callback\":null},\"id\":\"1253\",\"type\":\"TapTool\"},{\"attributes\":{},\"id\":\"1254\",\"type\":\"SaveTool\"},{\"attributes\":{\"callback\":null,\"overlay\":{\"id\":\"1307\",\"type\":\"BoxAnnotation\"}},\"id\":\"1255\",\"type\":\"BoxSelectTool\"},{\"attributes\":{\"fill_alpha\":{\"value\":0.5},\"fill_color\":{\"value\":\"lightgrey\"},\"level\":\"overlay\",\"line_alpha\":{\"value\":1.0},\"line_color\":{\"value\":\"black\"},\"line_dash\":[4,4],\"line_width\":{\"value\":2},\"xs_units\":\"screen\",\"ys_units\":\"screen\"},\"id\":\"1308\",\"type\":\"PolyAnnotation\"},{\"attributes\":{\"callback\":null,\"overlay\":{\"id\":\"1308\",\"type\":\"PolyAnnotation\"}},\"id\":\"1256\",\"type\":\"PolySelectTool\"},{\"attributes\":{\"callback\":null,\"overlay\":{\"id\":\"1309\",\"type\":\"PolyAnnotation\"}},\"id\":\"1257\",\"type\":\"LassoSelectTool\"},{\"attributes\":{\"active_drag\":\"auto\",\"active_inspect\":\"auto\",\"active_multi\":null,\"active_scroll\":\"auto\",\"active_tap\":\"auto\",\"tools\":[{\"id\":\"1243\",\"type\":\"HoverTool\"},{\"id\":\"1244\",\"type\":\"CrosshairTool\"},{\"id\":\"1245\",\"type\":\"PanTool\"},{\"id\":\"1246\",\"type\":\"WheelZoomTool\"},{\"id\":\"1247\",\"type\":\"ZoomInTool\"},{\"id\":\"1248\",\"type\":\"ZoomOutTool\"},{\"id\":\"1249\",\"type\":\"BoxZoomTool\"},{\"id\":\"1250\",\"type\":\"UndoTool\"},{\"id\":\"1251\",\"type\":\"RedoTool\"},{\"id\":\"1252\",\"type\":\"ResetTool\"},{\"id\":\"1253\",\"type\":\"TapTool\"},{\"id\":\"1254\",\"type\":\"SaveTool\"},{\"id\":\"1255\",\"type\":\"BoxSelectTool\"},{\"id\":\"1256\",\"type\":\"PolySelectTool\"},{\"id\":\"1257\",\"type\":\"LassoSelectTool\"}]},\"id\":\"1258\",\"type\":\"Toolbar\"},{\"attributes\":{\"overlay\":{\"id\":\"1306\",\"type\":\"BoxAnnotation\"}},\"id\":\"1249\",\"type\":\"BoxZoomTool\"},{\"attributes\":{},\"id\":\"1310\",\"type\":\"Selection\"},{\"attributes\":{\"fill_alpha\":{\"value\":0.5},\"fill_color\":{\"value\":\"lightgrey\"},\"level\":\"overlay\",\"line_alpha\":{\"value\":1.0},\"line_color\":{\"value\":\"black\"},\"line_dash\":[4,4],\"line_width\":{\"value\":2},\"xs_units\":\"screen\",\"ys_units\":\"screen\"},\"id\":\"1309\",\"type\":\"PolyAnnotation\"},{\"attributes\":{\"source\":{\"id\":\"1223\",\"type\":\"ColumnDataSource\"}},\"id\":\"1278\",\"type\":\"CDSView\"},{\"attributes\":{},\"id\":\"1247\",\"type\":\"ZoomInTool\"},{\"attributes\":{\"fill_alpha\":{\"value\":0.1},\"fill_color\":{\"value\":\"#1f77b4\"},\"line_alpha\":{\"value\":0.1},\"line_color\":{\"value\":\"#1f77b4\"},\"x\":{\"field\":\"x\"},\"y\":{\"field\":\"y\"}},\"id\":\"1276\",\"type\":\"Scatter\"},{\"attributes\":{},\"id\":\"1304\",\"type\":\"BasicTickFormatter\"},{\"attributes\":{},\"id\":\"1311\",\"type\":\"UnionRenderers\"},{\"attributes\":{},\"id\":\"1229\",\"type\":\"LinearScale\"},{\"attributes\":{\"data_source\":{\"id\":\"1223\",\"type\":\"ColumnDataSource\"},\"glyph\":{\"id\":\"1275\",\"type\":\"Scatter\"},\"hover_glyph\":null,\"muted_glyph\":null,\"nonselection_glyph\":{\"id\":\"1276\",\"type\":\"Scatter\"},\"selection_glyph\":null,\"view\":{\"id\":\"1278\",\"type\":\"CDSView\"}},\"id\":\"1277\",\"type\":\"GlyphRenderer\"},{\"attributes\":{\"level\":\"glyph\",\"source\":{\"id\":\"1223\",\"type\":\"ColumnDataSource\"},\"text\":{\"field\":\"label\"},\"text_font_size\":{\"value\":\"7pt\"},\"x\":{\"field\":\"x\"},\"x_offset\":{\"value\":5},\"y\":{\"field\":\"y\"},\"y_offset\":{\"value\":5}},\"id\":\"1279\",\"type\":\"LabelSet\"},{\"attributes\":{\"formatter\":{\"id\":\"1302\",\"type\":\"BasicTickFormatter\"},\"ticker\":{\"id\":\"1234\",\"type\":\"BasicTicker\"}},\"id\":\"1233\",\"type\":\"LinearAxis\"},{\"attributes\":{},\"id\":\"1248\",\"type\":\"ZoomOutTool\"},{\"attributes\":{\"text\":\"\"},\"id\":\"1301\",\"type\":\"Title\"},{\"attributes\":{},\"id\":\"1250\",\"type\":\"UndoTool\"},{\"attributes\":{\"callback\":null,\"data\":{\"index\":[0,1,2,3,4,5,6,7,8,9,10,11,12,13,14,15,16,17,18,19,20,21,22,23,24,25,26,27,28,29,30,31,32,33,34,35,36,37,38,39,40,41,42,43,44,45,46,47,48,49,50],\"label\":[\"nlp_tasks\",\"awesome-spark\",\"spark-nlp\",\"awesome-text-summarization\",\"GrouPy\",\"rouge\",\"DIGITS\",\"deep-learning-model-convertor\",\"deep_learning_cookbook\",\"gans-awesome-applications\",\"natural-language-processing\",\"vowpal_wabbit\",\"awesome-information-retrieval\",\"Familia\",\"scikit-tda\",\"keras-vis\",\"awesome-text-summarization\",\"OpenNMT-py\",\"few-shot\",\"UNIT\",\"awesome-scheme\",\"ml\",\"ml5-library\",\"Embarrassingly-simple-ZSL\",\"embarrassingly-simple-zero-shot-learning\",\"d2l-en\",\"Generalized-Zero-Shot-Learning-via-Aligned-Variational-Autoencoders\",\"spreadingvectors\",\"disentanglement_lib\",\"nsfw_data_scraper\",\"nude.py\",\"flair\",\"irlib\",\"castor\",\"go\",\"biterm\",\"SPM_toolkit\",\"transformers\",\"lifelines\",\"allennlp\",\"cnnimageretrieval-pytorch\",\"CBIR\",\"distiller\",\"ml_uwr\",\"ZeroShotCapsule\",\"LearningToCompare_ZSL\",\"FUNIT_tensorflow\",\"SeaNMF\",\"NeuralTopicModels\",\"python-topic-model\",\"gnes\"],\"x\":{\"__ndarray__\":\"iGYGxZlT179LX13UGzjZP50VGciMndi/r3mon2Zs2z+/gGIccGfDP4JtF02fw8i/2pJ8CWmvwz+w2ZHfMGjGP14SyCe/+Mc/X16b9E9b2D8WqZA/vsrWv4+SfF2JEcM/8Lk+FShZ2j9znaSq7tOxv2U2463btsy/9ulHilpKwz9JKny8HdamP19S/vZyBNY/CpOpY9Wgyj8v03g7cRyxv22aqzag+No/lSBk9GsPyD/dvZn04xzFP6L7aX9Z9tC/7Ozq0TkM0b8CUEDoFM/DPzTJqqmR6My/VImfpenS1D+cLY+VEHDUP7leBWSzTrC/Q8LzyRSYyL8iwcrJDvrav+ILd1ko5s+/pH/h8B4jwz/cGI2ftDfeP5bGyeEE6bW/lAouQhNUwj9cUFtlNE3XvyZ5qM0qAMu/24ezDYF41z+wM61xVyuvv1oV7CL4ZbC/zf/yAOQ1vD8K4Do8kgrBP32dq58QhrG/RUXOofPl0b+kaDUjogbdv5NtGoo8l8k/kXvcc/IhmL+bQZ5RJXK1v3Wo5NpVWME/\",\"dtype\":\"float64\",\"shape\":[51]},\"y\":{\"__ndarray__\":\"ksX8Il25zj/hy8yTS/3Bv6EO2DfaJtA/mXhFHzbzvL9m/+iT2bnav594KirMjrG/VbNwT2piuD9nI3i3vkG5PxUfVgCIYbs/ONI/bQAtu7/Qf3DX5GDQP3W5YLq37NU/Rk/hiMLhsr+KKWOTAwvUv/lEzIA3Z7S/qXxZ9iSP2r9zqwcn/G6dv2+ODdNdic6/xLoweamD1z8vqHYK65vfP+LbSpA1yL2/HRwg/CZB2z8XlK60esLYP6hBCBUEK9e/S8aRI6g4178TAEjn5a+0Pzy5hCuwCtW/8XbHIswhwT+IzNZMROHDP7mHH9z0WNU/cviKLaS8sL+doMEq2lPRPwS8wqqInpa/0Urfx6Fotj9OYtYq2hPCP7VQyTlfkta/4gTUtzUM2b9dD6NSAivQP0sa+zI20bK/hYIF/4Vlxz8ill/CDUnVP3RRO1tDvtY/PnzgTaP41r+wiXEkzCTVP64DgGq3Vda/Xcl/UZsj2r+udhGnMtOnP7BZLHt9eda/DiX8de842b/mgtdjmXLVv+aBcyP9tdW/\",\"dtype\":\"float64\",\"shape\":[51]}},\"selected\":{\"id\":\"1310\",\"type\":\"Selection\"},\"selection_policy\":{\"id\":\"1311\",\"type\":\"UnionRenderers\"}},\"id\":\"1223\",\"type\":\"ColumnDataSource\"},{\"attributes\":{\"callback\":null},\"id\":\"1225\",\"type\":\"DataRange1d\"},{\"attributes\":{\"callback\":null},\"id\":\"1243\",\"type\":\"HoverTool\"},{\"attributes\":{},\"id\":\"1231\",\"type\":\"LinearScale\"},{\"attributes\":{\"fill_color\":{\"value\":\"#1f77b4\"},\"line_color\":{\"value\":\"#1f77b4\"},\"x\":{\"field\":\"x\"},\"y\":{\"field\":\"y\"}},\"id\":\"1275\",\"type\":\"Scatter\"},{\"attributes\":{\"callback\":null},\"id\":\"1227\",\"type\":\"DataRange1d\"},{\"attributes\":{\"bottom_units\":\"screen\",\"fill_alpha\":{\"value\":0.5},\"fill_color\":{\"value\":\"lightgrey\"},\"left_units\":\"screen\",\"level\":\"overlay\",\"line_alpha\":{\"value\":1.0},\"line_color\":{\"value\":\"black\"},\"line_dash\":[4,4],\"line_width\":{\"value\":2},\"render_mode\":\"css\",\"right_units\":\"screen\",\"top_units\":\"screen\"},\"id\":\"1306\",\"type\":\"BoxAnnotation\"},{\"attributes\":{\"ticker\":{\"id\":\"1234\",\"type\":\"BasicTicker\"}},\"id\":\"1237\",\"type\":\"Grid\"},{\"attributes\":{},\"id\":\"1234\",\"type\":\"BasicTicker\"},{\"attributes\":{\"formatter\":{\"id\":\"1304\",\"type\":\"BasicTickFormatter\"},\"ticker\":{\"id\":\"1239\",\"type\":\"BasicTicker\"}},\"id\":\"1238\",\"type\":\"LinearAxis\"},{\"attributes\":{},\"id\":\"1239\",\"type\":\"BasicTicker\"},{\"attributes\":{\"dimension\":1,\"ticker\":{\"id\":\"1239\",\"type\":\"BasicTicker\"}},\"id\":\"1242\",\"type\":\"Grid\"},{\"attributes\":{},\"id\":\"1244\",\"type\":\"CrosshairTool\"},{\"attributes\":{},\"id\":\"1302\",\"type\":\"BasicTickFormatter\"},{\"attributes\":{},\"id\":\"1245\",\"type\":\"PanTool\"},{\"attributes\":{},\"id\":\"1246\",\"type\":\"WheelZoomTool\"}],\"root_ids\":[\"1224\"]},\"title\":\"Bokeh Application\",\"version\":\"1.4.0\"}};\n",
       "  var render_items = [{\"docid\":\"aa642886-b0b9-459c-81a2-19bdb9affcac\",\"roots\":{\"1224\":\"8d98984c-e50d-4a21-95a3-d1853f947fa4\"}}];\n",
       "  root.Bokeh.embed.embed_items_notebook(docs_json, render_items);\n",
       "\n",
       "  }\n",
       "  if (root.Bokeh !== undefined) {\n",
       "    embed_document(root);\n",
       "  } else {\n",
       "    var attempts = 0;\n",
       "    var timer = setInterval(function(root) {\n",
       "      if (root.Bokeh !== undefined) {\n",
       "        clearInterval(timer);\n",
       "        embed_document(root);\n",
       "      } else {\n",
       "        attempts++;\n",
       "        if (attempts > 100) {\n",
       "          clearInterval(timer);\n",
       "          console.log(\"Bokeh: ERROR: Unable to run BokehJS code because BokehJS library is missing\");\n",
       "        }\n",
       "      }\n",
       "    }, 10, root)\n",
       "  }\n",
       "})(window);"
      ],
      "application/vnd.bokehjs_exec.v0+json": ""
     },
     "metadata": {
      "application/vnd.bokehjs_exec.v0+json": {
       "id": "1224"
      }
     },
     "output_type": "display_data"
    }
   ],
   "source": [
    "source = bokeh.models.ColumnDataSource(source_df)\n",
    "\n",
    "TOOLS=\"hover,crosshair,pan,wheel_zoom,zoom_in,zoom_out,box_zoom,undo,redo,reset,tap,save,box_select,poly_select,lasso_select,\"\n",
    "p = bokeh.plotting.figure(tools=TOOLS)\n",
    "p.scatter(x='x', y='y', source=source)\n",
    "\n",
    "\n",
    "labels = bokeh.models.LabelSet(x='x', y='y', text='label', level='glyph',\n",
    "              x_offset=5, y_offset=5, source=source, render_mode='canvas', text_font_size='7pt')\n",
    "p.add_layout(labels)\n",
    "bokeh.plotting.show(p)"
   ]
  },
  {
   "cell_type": "markdown",
   "metadata": {},
   "source": [
    "# Search"
   ]
  },
  {
   "cell_type": "code",
   "execution_count": 32,
   "metadata": {},
   "outputs": [],
   "source": [
    "bm25 = rank_bm25.BM25Okapi(list(starred_repo_df['description'].str.split()))"
   ]
  },
  {
   "cell_type": "code",
   "execution_count": 33,
   "metadata": {},
   "outputs": [],
   "source": [
    "def search_repos(query):\n",
    "    scores = bm25.get_scores(query.split())\n",
    "    #scores = scores[scores > 0]\n",
    "    relevant_indices = np.argsort(-scores)[:100]\n",
    "    return starred_repo_df.iloc[relevant_indices[scores[relevant_indices] > 0]]"
   ]
  },
  {
   "cell_type": "code",
   "execution_count": 34,
   "metadata": {},
   "outputs": [
    {
     "data": {
      "text/html": [
       "<div>\n",
       "<style scoped>\n",
       "    .dataframe tbody tr th:only-of-type {\n",
       "        vertical-align: middle;\n",
       "    }\n",
       "\n",
       "    .dataframe tbody tr th {\n",
       "        vertical-align: top;\n",
       "    }\n",
       "\n",
       "    .dataframe thead th {\n",
       "        text-align: right;\n",
       "    }\n",
       "</style>\n",
       "<table border=\"1\" class=\"dataframe\">\n",
       "  <thead>\n",
       "    <tr style=\"text-align: right;\">\n",
       "      <th></th>\n",
       "      <th>description</th>\n",
       "      <th>owner.login</th>\n",
       "      <th>primaryLanguage.name</th>\n",
       "      <th>repositoryTopics.nodes</th>\n",
       "      <th>object.text</th>\n",
       "      <th>primaryLanguage</th>\n",
       "      <th>object</th>\n",
       "      <th>topics</th>\n",
       "      <th>description_keywords</th>\n",
       "    </tr>\n",
       "    <tr>\n",
       "      <th>name</th>\n",
       "      <th></th>\n",
       "      <th></th>\n",
       "      <th></th>\n",
       "      <th></th>\n",
       "      <th></th>\n",
       "      <th></th>\n",
       "      <th></th>\n",
       "      <th></th>\n",
       "      <th></th>\n",
       "    </tr>\n",
       "  </thead>\n",
       "  <tbody>\n",
       "    <tr>\n",
       "      <th>irlib</th>\n",
       "      <td>information retrieval library (in python)</td>\n",
       "      <td>gr33ndata</td>\n",
       "      <td>Python</td>\n",
       "      <td>[]</td>\n",
       "      <td>NaN</td>\n",
       "      <td>Python</td>\n",
       "      <td>NaN</td>\n",
       "      <td>[]</td>\n",
       "      <td></td>\n",
       "    </tr>\n",
       "    <tr>\n",
       "      <th>awesome-information-retrieval</th>\n",
       "      <td>a curated list of awesome information retrieva...</td>\n",
       "      <td>harpribot</td>\n",
       "      <td>NaN</td>\n",
       "      <td>[]</td>\n",
       "      <td># Awesome Information Retrieval [![Awesome](ht...</td>\n",
       "      <td>NaN</td>\n",
       "      <td>NaN</td>\n",
       "      <td>[]</td>\n",
       "      <td>information</td>\n",
       "    </tr>\n",
       "    <tr>\n",
       "      <th>LIRE</th>\n",
       "      <td>open source library for content based image re...</td>\n",
       "      <td>dermotte</td>\n",
       "      <td>Java</td>\n",
       "      <td>[{'topic': {'name': 'image-retrieval'}}, {'top...</td>\n",
       "      <td># LIRE - Lucene Image Retrieval\\nLIRE (Lucene ...</td>\n",
       "      <td>Java</td>\n",
       "      <td>NaN</td>\n",
       "      <td>[image-retriev, lire, multimedia]</td>\n",
       "      <td>source</td>\n",
       "    </tr>\n",
       "    <tr>\n",
       "      <th>pytrec_eval</th>\n",
       "      <td>pytrec_eval is an information retrieval evalua...</td>\n",
       "      <td>cvangysel</td>\n",
       "      <td>C++</td>\n",
       "      <td>[{'topic': {'name': 'information-retrieval'}},...</td>\n",
       "      <td>pytrec_eval\\n===========\\n\\npytrec\\_eval is a ...</td>\n",
       "      <td>C++</td>\n",
       "      <td>NaN</td>\n",
       "      <td>[information-retriev, evalu]</td>\n",
       "      <td>retrieval</td>\n",
       "    </tr>\n",
       "    <tr>\n",
       "      <th>query-expansion</th>\n",
       "      <td>developing different methods for expanding a q...</td>\n",
       "      <td>phosseini</td>\n",
       "      <td>Python</td>\n",
       "      <td>[]</td>\n",
       "      <td># query-expansion\\n\\nThis repository is dedica...</td>\n",
       "      <td>Python</td>\n",
       "      <td>NaN</td>\n",
       "      <td>[]</td>\n",
       "      <td>different\\nexpanding\\nexpanded</td>\n",
       "    </tr>\n",
       "    <tr>\n",
       "      <th>SERT</th>\n",
       "      <td>semantic entity retrieval toolkit</td>\n",
       "      <td>cvangysel</td>\n",
       "      <td>Python</td>\n",
       "      <td>[{'topic': {'name': 'representation-learning'}...</td>\n",
       "      <td>Semantic Entity Retrieval Toolkit\\n===========...</td>\n",
       "      <td>Python</td>\n",
       "      <td>NaN</td>\n",
       "      <td>[representation-learn, deeplearn, neural-netwo...</td>\n",
       "      <td></td>\n",
       "    </tr>\n",
       "    <tr>\n",
       "      <th>dit</th>\n",
       "      <td>python package for information theory.</td>\n",
       "      <td>dit</td>\n",
       "      <td>Python</td>\n",
       "      <td>[{'topic': {'name': 'python'}}, {'topic': {'na...</td>\n",
       "      <td>NaN</td>\n",
       "      <td>Python</td>\n",
       "      <td>NaN</td>\n",
       "      <td>[python, information-theori]</td>\n",
       "      <td></td>\n",
       "    </tr>\n",
       "    <tr>\n",
       "      <th>ir-python</th>\n",
       "      <td>a python implementation for information retrie...</td>\n",
       "      <td>zxzlogic</td>\n",
       "      <td>Python</td>\n",
       "      <td>[]</td>\n",
       "      <td># ir-python\\nA python implementation for infor...</td>\n",
       "      <td>Python</td>\n",
       "      <td>NaN</td>\n",
       "      <td>[]</td>\n",
       "      <td>retrieval\\npython\\nindex\\nindexing\\nkey</td>\n",
       "    </tr>\n",
       "    <tr>\n",
       "      <th>cnnimageretrieval-pytorch</th>\n",
       "      <td>cnn image retrieval in pytorch: training and e...</td>\n",
       "      <td>filipradenovic</td>\n",
       "      <td>Python</td>\n",
       "      <td>[{'topic': {'name': 'image-retrieval'}}, {'top...</td>\n",
       "      <td>## CNN Image Retrieval in PyTorch: Training an...</td>\n",
       "      <td>Python</td>\n",
       "      <td>NaN</td>\n",
       "      <td>[image-retriev, convolutional-neural-network, ...</td>\n",
       "      <td>cnn\\ncnns</td>\n",
       "    </tr>\n",
       "    <tr>\n",
       "      <th>musicinformationretrieval.com</th>\n",
       "      <td>instructional notebooks on music information r...</td>\n",
       "      <td>stevetjoa</td>\n",
       "      <td>Jupyter Notebook</td>\n",
       "      <td>[{'topic': {'name': 'ipython-notebook'}}, {'to...</td>\n",
       "      <td>stanford-mir\\n============\\n\\n[![Stories in Re...</td>\n",
       "      <td>Jupyter Notebook</td>\n",
       "      <td>NaN</td>\n",
       "      <td>[ipython-notebook, music-information-retriev, ...</td>\n",
       "      <td>information</td>\n",
       "    </tr>\n",
       "    <tr>\n",
       "      <th>CBIR</th>\n",
       "      <td>🏞  a content-based image retrieval (cbir) system</td>\n",
       "      <td>pochih</td>\n",
       "      <td>Python</td>\n",
       "      <td>[{'topic': {'name': 'image-retrieval'}}, {'top...</td>\n",
       "      <td>[![Open Source Love](https://badges.frapsoft.c...</td>\n",
       "      <td>Python</td>\n",
       "      <td>NaN</td>\n",
       "      <td>[image-retriev, computer-vis, gabor, hog, edg,...</td>\n",
       "      <td>retrieval</td>\n",
       "    </tr>\n",
       "    <tr>\n",
       "      <th>revisitop</th>\n",
       "      <td>revisiting oxford and paris: large-scale image...</td>\n",
       "      <td>filipradenovic</td>\n",
       "      <td>Python</td>\n",
       "      <td>[{'topic': {'name': 'image-retrieval'}}, {'top...</td>\n",
       "      <td># Revisiting Oxford and Paris: Large-Scale Ima...</td>\n",
       "      <td>Python</td>\n",
       "      <td>NaN</td>\n",
       "      <td>[image-retriev, matlab, python]</td>\n",
       "      <td>large</td>\n",
       "    </tr>\n",
       "    <tr>\n",
       "      <th>sparse_recovery</th>\n",
       "      <td>noiseless/nonnegative sparse recovery and feat...</td>\n",
       "      <td>NLPrinceton</td>\n",
       "      <td>Python</td>\n",
       "      <td>[]</td>\n",
       "      <td># sparse_recovery\\n\\nThis module provides solv...</td>\n",
       "      <td>Python</td>\n",
       "      <td>NaN</td>\n",
       "      <td>[]</td>\n",
       "      <td></td>\n",
       "    </tr>\n",
       "    <tr>\n",
       "      <th>minmaxcsa</th>\n",
       "      <td>minmax circular sector arc for external plagia...</td>\n",
       "      <td>duartefellipe</td>\n",
       "      <td>Python</td>\n",
       "      <td>[{'topic': {'name': 'plagiarism-detection'}}, ...</td>\n",
       "      <td>## Minmax Circular Sector Arcs (MinMaxCSA): A ...</td>\n",
       "      <td>Python</td>\n",
       "      <td>NaN</td>\n",
       "      <td>[plagiarism-detect, locality-sensitive-hash, l...</td>\n",
       "      <td>retrieval stage</td>\n",
       "    </tr>\n",
       "    <tr>\n",
       "      <th>Open-IE-Papers</th>\n",
       "      <td>open information extraction (openie) and open ...</td>\n",
       "      <td>NPCai</td>\n",
       "      <td>NaN</td>\n",
       "      <td>[{'topic': {'name': 'openie'}}, {'topic': {'na...</td>\n",
       "      <td># Table of Contents\\n\\n1. [General](#general)\\...</td>\n",
       "      <td>NaN</td>\n",
       "      <td>NaN</td>\n",
       "      <td>[openi, literature-review, paper, nlp, informa...</td>\n",
       "      <td>extraction</td>\n",
       "    </tr>\n",
       "    <tr>\n",
       "      <th>paws</th>\n",
       "      <td>this dataset contains 108,463 human-labeled an...</td>\n",
       "      <td>google-research-datasets</td>\n",
       "      <td>Python</td>\n",
       "      <td>[]</td>\n",
       "      <td># PAWS: Paraphrase Adversaries from Word Scram...</td>\n",
       "      <td>Python</td>\n",
       "      <td>NaN</td>\n",
       "      <td>[]</td>\n",
       "      <td>labeled\\nstructure</td>\n",
       "    </tr>\n",
       "    <tr>\n",
       "      <th>berkeley-doc-summarizer</th>\n",
       "      <td>the berkeley document summarizer is a learning...</td>\n",
       "      <td>gregdurrett</td>\n",
       "      <td>Scala</td>\n",
       "      <td>[]</td>\n",
       "      <td>berkeley-doc-summarizer\\n=====================...</td>\n",
       "      <td>Scala</td>\n",
       "      <td>NaN</td>\n",
       "      <td>[]</td>\n",
       "      <td>document\\ncoreference\\nsyntactic</td>\n",
       "    </tr>\n",
       "  </tbody>\n",
       "</table>\n",
       "</div>"
      ],
      "text/plain": [
       "                                                                     description  \\\n",
       "name                                                                               \n",
       "irlib                                  information retrieval library (in python)   \n",
       "awesome-information-retrieval  a curated list of awesome information retrieva...   \n",
       "LIRE                           open source library for content based image re...   \n",
       "pytrec_eval                    pytrec_eval is an information retrieval evalua...   \n",
       "query-expansion                developing different methods for expanding a q...   \n",
       "SERT                                           semantic entity retrieval toolkit   \n",
       "dit                                       python package for information theory.   \n",
       "ir-python                      a python implementation for information retrie...   \n",
       "cnnimageretrieval-pytorch      cnn image retrieval in pytorch: training and e...   \n",
       "musicinformationretrieval.com  instructional notebooks on music information r...   \n",
       "CBIR                            🏞  a content-based image retrieval (cbir) system   \n",
       "revisitop                      revisiting oxford and paris: large-scale image...   \n",
       "sparse_recovery                noiseless/nonnegative sparse recovery and feat...   \n",
       "minmaxcsa                      minmax circular sector arc for external plagia...   \n",
       "Open-IE-Papers                 open information extraction (openie) and open ...   \n",
       "paws                           this dataset contains 108,463 human-labeled an...   \n",
       "berkeley-doc-summarizer        the berkeley document summarizer is a learning...   \n",
       "\n",
       "                                            owner.login primaryLanguage.name  \\\n",
       "name                                                                           \n",
       "irlib                                         gr33ndata               Python   \n",
       "awesome-information-retrieval                 harpribot                  NaN   \n",
       "LIRE                                           dermotte                 Java   \n",
       "pytrec_eval                                   cvangysel                  C++   \n",
       "query-expansion                               phosseini               Python   \n",
       "SERT                                          cvangysel               Python   \n",
       "dit                                                 dit               Python   \n",
       "ir-python                                      zxzlogic               Python   \n",
       "cnnimageretrieval-pytorch                filipradenovic               Python   \n",
       "musicinformationretrieval.com                 stevetjoa     Jupyter Notebook   \n",
       "CBIR                                             pochih               Python   \n",
       "revisitop                                filipradenovic               Python   \n",
       "sparse_recovery                             NLPrinceton               Python   \n",
       "minmaxcsa                                 duartefellipe               Python   \n",
       "Open-IE-Papers                                    NPCai                  NaN   \n",
       "paws                           google-research-datasets               Python   \n",
       "berkeley-doc-summarizer                     gregdurrett                Scala   \n",
       "\n",
       "                                                          repositoryTopics.nodes  \\\n",
       "name                                                                               \n",
       "irlib                                                                         []   \n",
       "awesome-information-retrieval                                                 []   \n",
       "LIRE                           [{'topic': {'name': 'image-retrieval'}}, {'top...   \n",
       "pytrec_eval                    [{'topic': {'name': 'information-retrieval'}},...   \n",
       "query-expansion                                                               []   \n",
       "SERT                           [{'topic': {'name': 'representation-learning'}...   \n",
       "dit                            [{'topic': {'name': 'python'}}, {'topic': {'na...   \n",
       "ir-python                                                                     []   \n",
       "cnnimageretrieval-pytorch      [{'topic': {'name': 'image-retrieval'}}, {'top...   \n",
       "musicinformationretrieval.com  [{'topic': {'name': 'ipython-notebook'}}, {'to...   \n",
       "CBIR                           [{'topic': {'name': 'image-retrieval'}}, {'top...   \n",
       "revisitop                      [{'topic': {'name': 'image-retrieval'}}, {'top...   \n",
       "sparse_recovery                                                               []   \n",
       "minmaxcsa                      [{'topic': {'name': 'plagiarism-detection'}}, ...   \n",
       "Open-IE-Papers                 [{'topic': {'name': 'openie'}}, {'topic': {'na...   \n",
       "paws                                                                          []   \n",
       "berkeley-doc-summarizer                                                       []   \n",
       "\n",
       "                                                                     object.text  \\\n",
       "name                                                                               \n",
       "irlib                                                                        NaN   \n",
       "awesome-information-retrieval  # Awesome Information Retrieval [![Awesome](ht...   \n",
       "LIRE                           # LIRE - Lucene Image Retrieval\\nLIRE (Lucene ...   \n",
       "pytrec_eval                    pytrec_eval\\n===========\\n\\npytrec\\_eval is a ...   \n",
       "query-expansion                # query-expansion\\n\\nThis repository is dedica...   \n",
       "SERT                           Semantic Entity Retrieval Toolkit\\n===========...   \n",
       "dit                                                                          NaN   \n",
       "ir-python                      # ir-python\\nA python implementation for infor...   \n",
       "cnnimageretrieval-pytorch      ## CNN Image Retrieval in PyTorch: Training an...   \n",
       "musicinformationretrieval.com  stanford-mir\\n============\\n\\n[![Stories in Re...   \n",
       "CBIR                           [![Open Source Love](https://badges.frapsoft.c...   \n",
       "revisitop                      # Revisiting Oxford and Paris: Large-Scale Ima...   \n",
       "sparse_recovery                # sparse_recovery\\n\\nThis module provides solv...   \n",
       "minmaxcsa                      ## Minmax Circular Sector Arcs (MinMaxCSA): A ...   \n",
       "Open-IE-Papers                 # Table of Contents\\n\\n1. [General](#general)\\...   \n",
       "paws                           # PAWS: Paraphrase Adversaries from Word Scram...   \n",
       "berkeley-doc-summarizer        berkeley-doc-summarizer\\n=====================...   \n",
       "\n",
       "                                primaryLanguage  object  \\\n",
       "name                                                      \n",
       "irlib                                    Python     NaN   \n",
       "awesome-information-retrieval               NaN     NaN   \n",
       "LIRE                                       Java     NaN   \n",
       "pytrec_eval                                 C++     NaN   \n",
       "query-expansion                          Python     NaN   \n",
       "SERT                                     Python     NaN   \n",
       "dit                                      Python     NaN   \n",
       "ir-python                                Python     NaN   \n",
       "cnnimageretrieval-pytorch                Python     NaN   \n",
       "musicinformationretrieval.com  Jupyter Notebook     NaN   \n",
       "CBIR                                     Python     NaN   \n",
       "revisitop                                Python     NaN   \n",
       "sparse_recovery                          Python     NaN   \n",
       "minmaxcsa                                Python     NaN   \n",
       "Open-IE-Papers                              NaN     NaN   \n",
       "paws                                     Python     NaN   \n",
       "berkeley-doc-summarizer                   Scala     NaN   \n",
       "\n",
       "                                                                          topics  \\\n",
       "name                                                                               \n",
       "irlib                                                                         []   \n",
       "awesome-information-retrieval                                                 []   \n",
       "LIRE                                           [image-retriev, lire, multimedia]   \n",
       "pytrec_eval                                         [information-retriev, evalu]   \n",
       "query-expansion                                                               []   \n",
       "SERT                           [representation-learn, deeplearn, neural-netwo...   \n",
       "dit                                                 [python, information-theori]   \n",
       "ir-python                                                                     []   \n",
       "cnnimageretrieval-pytorch      [image-retriev, convolutional-neural-network, ...   \n",
       "musicinformationretrieval.com  [ipython-notebook, music-information-retriev, ...   \n",
       "CBIR                           [image-retriev, computer-vis, gabor, hog, edg,...   \n",
       "revisitop                                        [image-retriev, matlab, python]   \n",
       "sparse_recovery                                                               []   \n",
       "minmaxcsa                      [plagiarism-detect, locality-sensitive-hash, l...   \n",
       "Open-IE-Papers                 [openi, literature-review, paper, nlp, informa...   \n",
       "paws                                                                          []   \n",
       "berkeley-doc-summarizer                                                       []   \n",
       "\n",
       "                                                  description_keywords  \n",
       "name                                                                    \n",
       "irlib                                                                   \n",
       "awesome-information-retrieval                              information  \n",
       "LIRE                                                            source  \n",
       "pytrec_eval                                                  retrieval  \n",
       "query-expansion                         different\\nexpanding\\nexpanded  \n",
       "SERT                                                                    \n",
       "dit                                                                     \n",
       "ir-python                      retrieval\\npython\\nindex\\nindexing\\nkey  \n",
       "cnnimageretrieval-pytorch                                    cnn\\ncnns  \n",
       "musicinformationretrieval.com                              information  \n",
       "CBIR                                                         retrieval  \n",
       "revisitop                                                        large  \n",
       "sparse_recovery                                                         \n",
       "minmaxcsa                                              retrieval stage  \n",
       "Open-IE-Papers                                              extraction  \n",
       "paws                                                labeled\\nstructure  \n",
       "berkeley-doc-summarizer               document\\ncoreference\\nsyntactic  "
      ]
     },
     "execution_count": 34,
     "metadata": {},
     "output_type": "execute_result"
    }
   ],
   "source": [
    "search_repos('information retrieval')"
   ]
  }
 ],
 "metadata": {
  "colab": {
   "collapsed_sections": [],
   "name": "Github Starred Repositories.ipynb",
   "provenance": [],
   "version": "0.3.2"
  },
  "kernelspec": {
   "display_name": "ml",
   "language": "python",
   "name": "ml"
  },
  "language_info": {
   "codemirror_mode": {
    "name": "ipython",
    "version": 3
   },
   "file_extension": ".py",
   "mimetype": "text/x-python",
   "name": "python",
   "nbconvert_exporter": "python",
   "pygments_lexer": "ipython3",
   "version": "3.8.1"
  }
 },
 "nbformat": 4,
 "nbformat_minor": 2
}
