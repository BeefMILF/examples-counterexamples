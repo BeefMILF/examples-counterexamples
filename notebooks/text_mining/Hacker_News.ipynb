{
  "nbformat": 4,
  "nbformat_minor": 0,
  "metadata": {
    "colab": {
      "name": "Hacker News.ipynb",
      "version": "0.3.2",
      "provenance": [],
      "collapsed_sections": []
    },
    "kernelspec": {
      "name": "python3",
      "display_name": "Python 3"
    }
  },
  "cells": [
    {
      "metadata": {
        "id": "2cj2bvstJNUH",
        "colab_type": "text"
      },
      "cell_type": "markdown",
      "source": [
        "# Topic modeling on Hacker News dataset"
      ]
    },
    {
      "metadata": {
        "id": "lnfyeyy5I_4v",
        "colab_type": "code",
        "colab": {}
      },
      "cell_type": "code",
      "source": [
        "import pandas as pd\n",
        "import json"
      ],
      "execution_count": 0,
      "outputs": []
    },
    {
      "metadata": {
        "id": "8z9S8nXlHzt1",
        "colab_type": "code",
        "colab": {
          "base_uri": "https://localhost:8080/",
          "height": 225
        },
        "outputId": "274278fc-e35b-4988-91cd-0b9c42f372e8"
      },
      "cell_type": "code",
      "source": [
        "!pip install kaggle\n",
        "!mkdir .kaggle"
      ],
      "execution_count": 2,
      "outputs": [
        {
          "output_type": "stream",
          "text": [
            "Requirement already satisfied: kaggle in /usr/local/lib/python3.6/dist-packages (1.5.3)\n",
            "Requirement already satisfied: urllib3<1.25,>=1.21.1 in /usr/local/lib/python3.6/dist-packages (from kaggle) (1.22)\n",
            "Requirement already satisfied: six>=1.10 in /usr/local/lib/python3.6/dist-packages (from kaggle) (1.11.0)\n",
            "Requirement already satisfied: certifi in /usr/local/lib/python3.6/dist-packages (from kaggle) (2019.3.9)\n",
            "Requirement already satisfied: python-dateutil in /usr/local/lib/python3.6/dist-packages (from kaggle) (2.5.3)\n",
            "Requirement already satisfied: requests in /usr/local/lib/python3.6/dist-packages (from kaggle) (2.18.4)\n",
            "Requirement already satisfied: tqdm in /usr/local/lib/python3.6/dist-packages (from kaggle) (4.28.1)\n",
            "Requirement already satisfied: python-slugify in /usr/local/lib/python3.6/dist-packages (from kaggle) (3.0.2)\n",
            "Requirement already satisfied: idna<2.7,>=2.5 in /usr/local/lib/python3.6/dist-packages (from requests->kaggle) (2.6)\n",
            "Requirement already satisfied: chardet<3.1.0,>=3.0.2 in /usr/local/lib/python3.6/dist-packages (from requests->kaggle) (3.0.4)\n",
            "Requirement already satisfied: text-unidecode==1.2 in /usr/local/lib/python3.6/dist-packages (from python-slugify->kaggle) (1.2)\n",
            "mkdir: cannot create directory ‘.kaggle’: File exists\n"
          ],
          "name": "stdout"
        }
      ]
    },
    {
      "metadata": {
        "id": "Aa3P5tMVGvnN",
        "colab_type": "code",
        "colab": {}
      },
      "cell_type": "code",
      "source": [
        "## PUT YOUR KAGGLE TOKEN HERE\n",
        "token = {}"
      ],
      "execution_count": 0,
      "outputs": []
    },
    {
      "metadata": {
        "id": "xxowKBvvG5wp",
        "colab_type": "code",
        "colab": {}
      },
      "cell_type": "code",
      "source": [
        "!chmod 600 /content/.kaggle/kaggle.json\n",
        "!cp /content/.kaggle/kaggle.json /root/.kaggle/kaggle.json"
      ],
      "execution_count": 0,
      "outputs": []
    },
    {
      "metadata": {
        "id": "AkbXONhcHAtb",
        "colab_type": "code",
        "colab": {
          "base_uri": "https://localhost:8080/",
          "height": 52
        },
        "outputId": "63eb51e6-684b-42d0-ba7a-b59a0f4dcf3b"
      },
      "cell_type": "code",
      "source": [
        "!kaggle config set -n path -v /content"
      ],
      "execution_count": 5,
      "outputs": [
        {
          "output_type": "stream",
          "text": [
            "Warning: Your Kaggle API key is readable by other users on this system! To fix this, you can run 'chmod 600 /root/.kaggle/kaggle.json'\n",
            "- path is now set to: /content\n"
          ],
          "name": "stdout"
        }
      ]
    },
    {
      "metadata": {
        "id": "wEKQabWTHES3",
        "colab_type": "code",
        "colab": {
          "base_uri": "https://localhost:8080/",
          "height": 52
        },
        "outputId": "c94aecf0-5d0c-4bef-f223-6b2a339b3b1c"
      },
      "cell_type": "code",
      "source": [
        "!kaggle datasets download -d hacker-news/hacker-news-corpus"
      ],
      "execution_count": 6,
      "outputs": [
        {
          "output_type": "stream",
          "text": [
            "Warning: Your Kaggle API key is readable by other users on this system! To fix this, you can run 'chmod 600 /root/.kaggle/kaggle.json'\n",
            "hacker-news-corpus.zip: Skipping, found more recently modified local copy (use --force to force download)\n"
          ],
          "name": "stdout"
        }
      ]
    },
    {
      "metadata": {
        "id": "MgrMabjDIVnn",
        "colab_type": "code",
        "colab": {
          "base_uri": "https://localhost:8080/",
          "height": 34
        },
        "outputId": "b7fdc4d8-dcc3-4416-f828-1d757e4a9234"
      },
      "cell_type": "code",
      "source": [
        "!ls  /content/datasets/hacker-news/hacker-news-corpus/"
      ],
      "execution_count": 7,
      "outputs": [
        {
          "output_type": "stream",
          "text": [
            "hacker-news-corpus.zip\n"
          ],
          "name": "stdout"
        }
      ]
    },
    {
      "metadata": {
        "id": "zUs415DuHpwE",
        "colab_type": "code",
        "colab": {
          "base_uri": "https://localhost:8080/",
          "height": 52
        },
        "outputId": "06fc5d32-c624-4fd4-a51d-56e0e55a5c24"
      },
      "cell_type": "code",
      "source": [
        "!unzip /content/datasets/hacker-news/hacker-news-corpus/hacker-news-corpus.zip\n",
        "\n"
      ],
      "execution_count": 8,
      "outputs": [
        {
          "output_type": "stream",
          "text": [
            "Archive:  /content/datasets/hacker-news/hacker-news-corpus/hacker-news-corpus.zip\n",
            "replace hacker_news_sample.csv? [y]es, [n]o, [A]ll, [N]one, [r]ename: N\n"
          ],
          "name": "stdout"
        }
      ]
    },
    {
      "metadata": {
        "id": "0MplYS_CJE6J",
        "colab_type": "code",
        "colab": {
          "base_uri": "https://localhost:8080/",
          "height": 34
        },
        "outputId": "7eedced5-d661-4042-e3c3-9bb909871df6"
      },
      "cell_type": "code",
      "source": [
        "!ls"
      ],
      "execution_count": 9,
      "outputs": [
        {
          "output_type": "stream",
          "text": [
            "'{'   datasets\t hacker_news_sample.csv   kaggle.json   sample_data\n"
          ],
          "name": "stdout"
        }
      ]
    },
    {
      "metadata": {
        "id": "GnvmKZFSJxdA",
        "colab_type": "text"
      },
      "cell_type": "markdown",
      "source": [
        "## Dataset description"
      ]
    },
    {
      "metadata": {
        "id": "U8CwyusHIz_u",
        "colab_type": "code",
        "colab": {}
      },
      "cell_type": "code",
      "source": [
        "hackernews_df = pd.read_csv('hacker_news_sample.csv')"
      ],
      "execution_count": 0,
      "outputs": []
    },
    {
      "metadata": {
        "id": "RjrumaSRJU3D",
        "colab_type": "code",
        "colab": {
          "base_uri": "https://localhost:8080/",
          "height": 34
        },
        "outputId": "d478e327-081a-478e-dbfe-274ae0095384"
      },
      "cell_type": "code",
      "source": [
        "hackernews_df.shape"
      ],
      "execution_count": 11,
      "outputs": [
        {
          "output_type": "execute_result",
          "data": {
            "text/plain": [
              "(3659697, 14)"
            ]
          },
          "metadata": {
            "tags": []
          },
          "execution_count": 11
        }
      ]
    },
    {
      "metadata": {
        "id": "4O-xzZanJRxj",
        "colab_type": "code",
        "colab": {
          "base_uri": "https://localhost:8080/",
          "height": 300
        },
        "outputId": "2ebaad96-67db-4610-e4c1-2f96e97a8a8b"
      },
      "cell_type": "code",
      "source": [
        "hackernews_df.describe()"
      ],
      "execution_count": 12,
      "outputs": [
        {
          "output_type": "execute_result",
          "data": {
            "text/html": [
              "<div>\n",
              "<style scoped>\n",
              "    .dataframe tbody tr th:only-of-type {\n",
              "        vertical-align: middle;\n",
              "    }\n",
              "\n",
              "    .dataframe tbody tr th {\n",
              "        vertical-align: top;\n",
              "    }\n",
              "\n",
              "    .dataframe thead th {\n",
              "        text-align: right;\n",
              "    }\n",
              "</style>\n",
              "<table border=\"1\" class=\"dataframe\">\n",
              "  <thead>\n",
              "    <tr style=\"text-align: right;\">\n",
              "      <th></th>\n",
              "      <th>score</th>\n",
              "      <th>time</th>\n",
              "      <th>id</th>\n",
              "      <th>parent</th>\n",
              "      <th>descendants</th>\n",
              "      <th>ranking</th>\n",
              "    </tr>\n",
              "  </thead>\n",
              "  <tbody>\n",
              "    <tr>\n",
              "      <th>count</th>\n",
              "      <td>623019.000000</td>\n",
              "      <td>3.652980e+06</td>\n",
              "      <td>3.659697e+06</td>\n",
              "      <td>3.000341e+06</td>\n",
              "      <td>558797.000000</td>\n",
              "      <td>0.0</td>\n",
              "    </tr>\n",
              "    <tr>\n",
              "      <th>mean</th>\n",
              "      <td>11.047955</td>\n",
              "      <td>1.386481e+09</td>\n",
              "      <td>7.315538e+06</td>\n",
              "      <td>7.425470e+06</td>\n",
              "      <td>5.012292</td>\n",
              "      <td>NaN</td>\n",
              "    </tr>\n",
              "    <tr>\n",
              "      <th>std</th>\n",
              "      <td>45.935248</td>\n",
              "      <td>7.653324e+07</td>\n",
              "      <td>4.224448e+06</td>\n",
              "      <td>4.225382e+06</td>\n",
              "      <td>24.289999</td>\n",
              "      <td>NaN</td>\n",
              "    </tr>\n",
              "    <tr>\n",
              "      <th>min</th>\n",
              "      <td>0.000000</td>\n",
              "      <td>1.160423e+09</td>\n",
              "      <td>1.500000e+01</td>\n",
              "      <td>1.000000e+00</td>\n",
              "      <td>-1.000000</td>\n",
              "      <td>NaN</td>\n",
              "    </tr>\n",
              "    <tr>\n",
              "      <th>25%</th>\n",
              "      <td>1.000000</td>\n",
              "      <td>1.330673e+09</td>\n",
              "      <td>3.656483e+06</td>\n",
              "      <td>3.808998e+06</td>\n",
              "      <td>0.000000</td>\n",
              "      <td>NaN</td>\n",
              "    </tr>\n",
              "    <tr>\n",
              "      <th>50%</th>\n",
              "      <td>2.000000</td>\n",
              "      <td>1.393520e+09</td>\n",
              "      <td>7.313188e+06</td>\n",
              "      <td>7.462040e+06</td>\n",
              "      <td>0.000000</td>\n",
              "      <td>NaN</td>\n",
              "    </tr>\n",
              "    <tr>\n",
              "      <th>75%</th>\n",
              "      <td>3.000000</td>\n",
              "      <td>1.453918e+09</td>\n",
              "      <td>1.097509e+07</td>\n",
              "      <td>1.110682e+07</td>\n",
              "      <td>1.000000</td>\n",
              "      <td>NaN</td>\n",
              "    </tr>\n",
              "    <tr>\n",
              "      <th>max</th>\n",
              "      <td>4107.000000</td>\n",
              "      <td>1.498469e+09</td>\n",
              "      <td>1.463529e+07</td>\n",
              "      <td>1.463527e+07</td>\n",
              "      <td>2215.000000</td>\n",
              "      <td>NaN</td>\n",
              "    </tr>\n",
              "  </tbody>\n",
              "</table>\n",
              "</div>"
            ],
            "text/plain": [
              "               score          time            id        parent    descendants  \\\n",
              "count  623019.000000  3.652980e+06  3.659697e+06  3.000341e+06  558797.000000   \n",
              "mean       11.047955  1.386481e+09  7.315538e+06  7.425470e+06       5.012292   \n",
              "std        45.935248  7.653324e+07  4.224448e+06  4.225382e+06      24.289999   \n",
              "min         0.000000  1.160423e+09  1.500000e+01  1.000000e+00      -1.000000   \n",
              "25%         1.000000  1.330673e+09  3.656483e+06  3.808998e+06       0.000000   \n",
              "50%         2.000000  1.393520e+09  7.313188e+06  7.462040e+06       0.000000   \n",
              "75%         3.000000  1.453918e+09  1.097509e+07  1.110682e+07       1.000000   \n",
              "max      4107.000000  1.498469e+09  1.463529e+07  1.463527e+07    2215.000000   \n",
              "\n",
              "       ranking  \n",
              "count      0.0  \n",
              "mean       NaN  \n",
              "std        NaN  \n",
              "min        NaN  \n",
              "25%        NaN  \n",
              "50%        NaN  \n",
              "75%        NaN  \n",
              "max        NaN  "
            ]
          },
          "metadata": {
            "tags": []
          },
          "execution_count": 12
        }
      ]
    },
    {
      "metadata": {
        "id": "25Xmm-4YJJYs",
        "colab_type": "code",
        "colab": {
          "base_uri": "https://localhost:8080/",
          "height": 435
        },
        "outputId": "6162324c-92d9-4639-8d3e-05be208122c6"
      },
      "cell_type": "code",
      "source": [
        "hackernews_df.head()"
      ],
      "execution_count": 13,
      "outputs": [
        {
          "output_type": "execute_result",
          "data": {
            "text/html": [
              "<div>\n",
              "<style scoped>\n",
              "    .dataframe tbody tr th:only-of-type {\n",
              "        vertical-align: middle;\n",
              "    }\n",
              "\n",
              "    .dataframe tbody tr th {\n",
              "        vertical-align: top;\n",
              "    }\n",
              "\n",
              "    .dataframe thead th {\n",
              "        text-align: right;\n",
              "    }\n",
              "</style>\n",
              "<table border=\"1\" class=\"dataframe\">\n",
              "  <thead>\n",
              "    <tr style=\"text-align: right;\">\n",
              "      <th></th>\n",
              "      <th>title</th>\n",
              "      <th>url</th>\n",
              "      <th>text</th>\n",
              "      <th>dead</th>\n",
              "      <th>by</th>\n",
              "      <th>score</th>\n",
              "      <th>time</th>\n",
              "      <th>type</th>\n",
              "      <th>id</th>\n",
              "      <th>parent</th>\n",
              "      <th>descendants</th>\n",
              "      <th>ranking</th>\n",
              "      <th>deleted</th>\n",
              "      <th>timestamp</th>\n",
              "    </tr>\n",
              "  </thead>\n",
              "  <tbody>\n",
              "    <tr>\n",
              "      <th>0</th>\n",
              "      <td>NaN</td>\n",
              "      <td>NaN</td>\n",
              "      <td>&amp;gt;&lt;i&gt;which leads me to say why are you using...</td>\n",
              "      <td>NaN</td>\n",
              "      <td>coldtea</td>\n",
              "      <td>NaN</td>\n",
              "      <td>1.390844e+09</td>\n",
              "      <td>comment</td>\n",
              "      <td>7131680</td>\n",
              "      <td>7127578.0</td>\n",
              "      <td>NaN</td>\n",
              "      <td>NaN</td>\n",
              "      <td>NaN</td>\n",
              "      <td>2014-01-27T17:31:13Z</td>\n",
              "    </tr>\n",
              "    <tr>\n",
              "      <th>1</th>\n",
              "      <td>NaN</td>\n",
              "      <td>NaN</td>\n",
              "      <td>I would like to point out some counter-example...</td>\n",
              "      <td>NaN</td>\n",
              "      <td>etanol</td>\n",
              "      <td>NaN</td>\n",
              "      <td>1.319396e+09</td>\n",
              "      <td>comment</td>\n",
              "      <td>3146879</td>\n",
              "      <td>3145330.0</td>\n",
              "      <td>NaN</td>\n",
              "      <td>NaN</td>\n",
              "      <td>NaN</td>\n",
              "      <td>2011-10-23T18:46:40Z</td>\n",
              "    </tr>\n",
              "    <tr>\n",
              "      <th>2</th>\n",
              "      <td>NaN</td>\n",
              "      <td>NaN</td>\n",
              "      <td>NaN</td>\n",
              "      <td>NaN</td>\n",
              "      <td>NaN</td>\n",
              "      <td>NaN</td>\n",
              "      <td>1.456641e+09</td>\n",
              "      <td>comment</td>\n",
              "      <td>11190089</td>\n",
              "      <td>11189361.0</td>\n",
              "      <td>NaN</td>\n",
              "      <td>NaN</td>\n",
              "      <td>True</td>\n",
              "      <td>2016-02-28T06:26:56Z</td>\n",
              "    </tr>\n",
              "    <tr>\n",
              "      <th>3</th>\n",
              "      <td>NaN</td>\n",
              "      <td>NaN</td>\n",
              "      <td>&lt;i&gt;Our msbuild implementation can now build Pr...</td>\n",
              "      <td>NaN</td>\n",
              "      <td>Locke1689</td>\n",
              "      <td>NaN</td>\n",
              "      <td>1.407882e+09</td>\n",
              "      <td>comment</td>\n",
              "      <td>8170491</td>\n",
              "      <td>8170071.0</td>\n",
              "      <td>NaN</td>\n",
              "      <td>NaN</td>\n",
              "      <td>NaN</td>\n",
              "      <td>2014-08-12T22:13:10Z</td>\n",
              "    </tr>\n",
              "    <tr>\n",
              "      <th>4</th>\n",
              "      <td>NaN</td>\n",
              "      <td>NaN</td>\n",
              "      <td>No matter how awful iPhoto is it's still bette...</td>\n",
              "      <td>NaN</td>\n",
              "      <td>miloshadzic</td>\n",
              "      <td>NaN</td>\n",
              "      <td>1.362573e+09</td>\n",
              "      <td>comment</td>\n",
              "      <td>5330773</td>\n",
              "      <td>5327590.0</td>\n",
              "      <td>NaN</td>\n",
              "      <td>NaN</td>\n",
              "      <td>NaN</td>\n",
              "      <td>2013-03-06T12:28:02Z</td>\n",
              "    </tr>\n",
              "  </tbody>\n",
              "</table>\n",
              "</div>"
            ],
            "text/plain": [
              "  title  url                                               text dead  \\\n",
              "0   NaN  NaN  &gt;<i>which leads me to say why are you using...  NaN   \n",
              "1   NaN  NaN  I would like to point out some counter-example...  NaN   \n",
              "2   NaN  NaN                                                NaN  NaN   \n",
              "3   NaN  NaN  <i>Our msbuild implementation can now build Pr...  NaN   \n",
              "4   NaN  NaN  No matter how awful iPhoto is it's still bette...  NaN   \n",
              "\n",
              "            by  score          time     type        id      parent  \\\n",
              "0      coldtea    NaN  1.390844e+09  comment   7131680   7127578.0   \n",
              "1       etanol    NaN  1.319396e+09  comment   3146879   3145330.0   \n",
              "2          NaN    NaN  1.456641e+09  comment  11190089  11189361.0   \n",
              "3    Locke1689    NaN  1.407882e+09  comment   8170491   8170071.0   \n",
              "4  miloshadzic    NaN  1.362573e+09  comment   5330773   5327590.0   \n",
              "\n",
              "   descendants  ranking deleted             timestamp  \n",
              "0          NaN      NaN     NaN  2014-01-27T17:31:13Z  \n",
              "1          NaN      NaN     NaN  2011-10-23T18:46:40Z  \n",
              "2          NaN      NaN    True  2016-02-28T06:26:56Z  \n",
              "3          NaN      NaN     NaN  2014-08-12T22:13:10Z  \n",
              "4          NaN      NaN     NaN  2013-03-06T12:28:02Z  "
            ]
          },
          "metadata": {
            "tags": []
          },
          "execution_count": 13
        }
      ]
    },
    {
      "metadata": {
        "id": "n4627oAsKIpX",
        "colab_type": "text"
      },
      "cell_type": "markdown",
      "source": [
        "## Example text"
      ]
    },
    {
      "metadata": {
        "id": "aBFOWdT6JB9K",
        "colab_type": "code",
        "colab": {
          "base_uri": "https://localhost:8080/",
          "height": 54
        },
        "outputId": "714cd8fb-4352-43ff-ee0c-3c7c065d91ba"
      },
      "cell_type": "code",
      "source": [
        "hackernews_df.head()['text'][0]"
      ],
      "execution_count": 14,
      "outputs": [
        {
          "output_type": "execute_result",
          "data": {
            "text/plain": [
              "'&gt;<i>which leads me to say why are you using C to do X?</i><p>Because they know C it&#x27;s fast and it has lots of libs available. They might also dislike Java or CL.<p>Not every engineering decision is perfect lots of factors play in.<p>&gt;<i>Attempts to combine the best of C (speed) with the best of scripting languages (easy to do things fast without having to pay attention to what you are doing) in my opinion end up merely joining the worst of both worlds rather than the best of both worlds.</i><p>The &quot;pay attention&quot; things is to needless complexity (memory management etc). They only reason we put up with those things was to get speed. If we can get adequate speed without those nobody cares about them.<p>&gt;<i>Besides isn&#x27;t programming about being specific? Do you really want to code stuff without having to worry about the details?</i><p>No programming is about getting results. Nobody cares about the details in the level of programming language minutuae.<p>We care about the &quot;effort put in&quot; and &quot;quality&#x2F;speed of results coming out&quot; ratio.'"
            ]
          },
          "metadata": {
            "tags": []
          },
          "execution_count": 14
        }
      ]
    },
    {
      "metadata": {
        "id": "r_S2A6eqKLVd",
        "colab_type": "text"
      },
      "cell_type": "markdown",
      "source": [
        "## What is the type of information that gets posted on Hacker News?\n",
        "\n"
      ]
    },
    {
      "metadata": {
        "id": "e_TmfUGQKRjm",
        "colab_type": "code",
        "colab": {
          "base_uri": "https://localhost:8080/",
          "height": 121
        },
        "outputId": "8277b32c-3294-4360-9d6c-0dbaa35bfac2"
      },
      "cell_type": "code",
      "source": [
        "hackernews_df['type'].value_counts()"
      ],
      "execution_count": 15,
      "outputs": [
        {
          "output_type": "execute_result",
          "data": {
            "text/plain": [
              "comment    3000341\n",
              "story       653757\n",
              "pollopt       2887\n",
              "job           2260\n",
              "poll           452\n",
              "Name: type, dtype: int64"
            ]
          },
          "metadata": {
            "tags": []
          },
          "execution_count": 15
        }
      ]
    }
  ]
}