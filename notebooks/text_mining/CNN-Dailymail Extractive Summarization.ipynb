{
 "cells": [
  {
   "cell_type": "code",
   "execution_count": 1,
   "metadata": {},
   "outputs": [],
   "source": [
    "import pandas as pd\n",
    "import text_summarizer\n",
    "import rouge\n",
    "from tqdm import tqdm\n",
    "from concurrent.futures import ProcessPoolExecutor"
   ]
  },
  {
   "cell_type": "code",
   "execution_count": 2,
   "metadata": {},
   "outputs": [
    {
     "name": "stdout",
     "output_type": "stream",
     "text": [
      "test.txt.src  test.txt.tgt\n"
     ]
    }
   ],
   "source": [
    "!ls .data"
   ]
  },
  {
   "cell_type": "code",
   "execution_count": 3,
   "metadata": {},
   "outputs": [
    {
     "name": "stdout",
     "output_type": "stream",
     "text": [
      "File ‘.data/test.txt.tgt’ already there; not retrieving.\n",
      "File ‘.data/test.txt.src’ already there; not retrieving.\n"
     ]
    }
   ],
   "source": [
    "!mkdir -p .data\n",
    "!wget -nc -O .data/test.txt.tgt https://raw.githubusercontent.com/lambdaofgod/project_data/master/summarization/cnn-dm/test.txt.tgt.tagged\n",
    "!wget -nc -O .data/test.txt.src https://raw.githubusercontent.com/lambdaofgod/project_data/master/summarization/cnn-dm/test.txt.src"
   ]
  },
  {
   "cell_type": "code",
   "execution_count": 4,
   "metadata": {},
   "outputs": [],
   "source": [
    "def map_parallel(f, iter):\n",
    "    exc = ProcessPoolExecutor()\n",
    "    return exc.map(f, iter)\n",
    "\n",
    "\n",
    "def load_texts(path):\n",
    "    return pd.Series(open(path, 'r').readlines())\n",
    "\n",
    "\n",
    "def maybe_summarize_texts(summarization_method, texts):\n",
    "    return pd.Series(list(tqdm(map_parallel(summarization_method, texts), total=len(texts))))\n",
    "\n",
    "\n",
    "def flatten_rouge_dict(rouge_dict):\n",
    "    return {k + '-' + subk: val for (k, dist_val) in rouge_dict.items() for (subk, val) in dist_val.items()}\n",
    "\n",
    "\n",
    "def get_rouge_df(summaries, references):\n",
    "    valid_summaries_indices = summaries != ''\n",
    "    r = rouge.Rouge()\n",
    "    scores = r.get_scores(summaries[valid_summaries_indices], references[valid_summaries_indices])\n",
    "    return pd.DataFrame([flatten_rouge_dict(score) for score in scores])"
   ]
  },
  {
   "cell_type": "code",
   "execution_count": 5,
   "metadata": {},
   "outputs": [],
   "source": [
    "input_texts = load_texts('.data/test.txt.src')\n",
    "reference_summaries = load_texts('.data/test.txt.tgt')"
   ]
  },
  {
   "cell_type": "code",
   "execution_count": 6,
   "metadata": {},
   "outputs": [],
   "source": [
    "input_lengths = input_texts.str.split().apply(len)\n",
    "reference_summaries_lengths = reference_summaries.str.split().apply(len)\n",
    "\n",
    "lengths_df = pd.DataFrame({'input': input_lengths, 'summary': reference_summaries_lengths})"
   ]
  },
  {
   "cell_type": "code",
   "execution_count": 7,
   "metadata": {},
   "outputs": [
    {
     "data": {
      "text/html": [
       "<div>\n",
       "<style scoped>\n",
       "    .dataframe tbody tr th:only-of-type {\n",
       "        vertical-align: middle;\n",
       "    }\n",
       "\n",
       "    .dataframe tbody tr th {\n",
       "        vertical-align: top;\n",
       "    }\n",
       "\n",
       "    .dataframe thead th {\n",
       "        text-align: right;\n",
       "    }\n",
       "</style>\n",
       "<table border=\"1\" class=\"dataframe\">\n",
       "  <thead>\n",
       "    <tr style=\"text-align: right;\">\n",
       "      <th></th>\n",
       "      <th>input</th>\n",
       "      <th>summary</th>\n",
       "    </tr>\n",
       "  </thead>\n",
       "  <tbody>\n",
       "    <tr>\n",
       "      <th>count</th>\n",
       "      <td>11490.000000</td>\n",
       "      <td>11490.000000</td>\n",
       "    </tr>\n",
       "    <tr>\n",
       "      <th>mean</th>\n",
       "      <td>778.267885</td>\n",
       "      <td>66.074151</td>\n",
       "    </tr>\n",
       "    <tr>\n",
       "      <th>std</th>\n",
       "      <td>399.743713</td>\n",
       "      <td>26.906939</td>\n",
       "    </tr>\n",
       "    <tr>\n",
       "      <th>min</th>\n",
       "      <td>59.000000</td>\n",
       "      <td>11.000000</td>\n",
       "    </tr>\n",
       "    <tr>\n",
       "      <th>25%</th>\n",
       "      <td>475.000000</td>\n",
       "      <td>49.000000</td>\n",
       "    </tr>\n",
       "    <tr>\n",
       "      <th>50%</th>\n",
       "      <td>701.000000</td>\n",
       "      <td>62.000000</td>\n",
       "    </tr>\n",
       "    <tr>\n",
       "      <th>75%</th>\n",
       "      <td>998.000000</td>\n",
       "      <td>76.000000</td>\n",
       "    </tr>\n",
       "    <tr>\n",
       "      <th>max</th>\n",
       "      <td>2380.000000</td>\n",
       "      <td>738.000000</td>\n",
       "    </tr>\n",
       "  </tbody>\n",
       "</table>\n",
       "</div>"
      ],
      "text/plain": [
       "              input       summary\n",
       "count  11490.000000  11490.000000\n",
       "mean     778.267885     66.074151\n",
       "std      399.743713     26.906939\n",
       "min       59.000000     11.000000\n",
       "25%      475.000000     49.000000\n",
       "50%      701.000000     62.000000\n",
       "75%      998.000000     76.000000\n",
       "max     2380.000000    738.000000"
      ]
     },
     "execution_count": 7,
     "metadata": {},
     "output_type": "execute_result"
    }
   ],
   "source": [
    "lengths_df.describe()"
   ]
  },
  {
   "cell_type": "code",
   "execution_count": 8,
   "metadata": {},
   "outputs": [],
   "source": [
    "def target_summary_length(text, summary_length_ratio=0.2):\n",
    "    return int(len(text.split()) * summary_length_ratio)"
   ]
  },
  {
   "cell_type": "code",
   "execution_count": 9,
   "metadata": {},
   "outputs": [],
   "source": [
    "cbow_summarizer = text_summarizer.CentroidBOWSummarizer(length_limit=3)\n",
    "\n",
    "\n",
    "def summarize_with_cbow(text):\n",
    "    try:\n",
    "        summary = cbow_summarizer.summarize(text, limit=target_summary_length(text))\n",
    "    except:\n",
    "        summary = ''\n",
    "    return summary"
   ]
  },
  {
   "cell_type": "code",
   "execution_count": 10,
   "metadata": {},
   "outputs": [
    {
     "name": "stdout",
     "output_type": "stream",
     "text": [
      "CPU times: user 18.8 s, sys: 318 ms, total: 19.1 s\n",
      "Wall time: 20 s\n"
     ]
    }
   ],
   "source": [
    "%%time\n",
    "embeddings = text_summarizer.centroid_word_embeddings.load_gensim_embedding_model('glove-wiki-gigaword-50');"
   ]
  },
  {
   "cell_type": "code",
   "execution_count": 11,
   "metadata": {},
   "outputs": [],
   "source": [
    "embedding_summarizer = text_summarizer.CentroidWordEmbeddingsSummarizer(embeddings, length_limit=3)\n",
    "\n",
    "\n",
    "def summarize_with_embeddings(text):\n",
    "    try:\n",
    "        summary = embedding_summarizer.summarize(text, limit=target_summary_length(text))\n",
    "    except:\n",
    "        summary = ''\n",
    "    return summary"
   ]
  },
  {
   "cell_type": "code",
   "execution_count": 12,
   "metadata": {},
   "outputs": [
    {
     "name": "stderr",
     "output_type": "stream",
     "text": [
      "100%|██████████| 11490/11490 [02:46<00:00, 68.94it/s]\n"
     ]
    }
   ],
   "source": [
    "cbow_summaries = maybe_summarize_texts(summarize_with_cbow, input_texts)"
   ]
  },
  {
   "cell_type": "code",
   "execution_count": 13,
   "metadata": {},
   "outputs": [
    {
     "name": "stdout",
     "output_type": "stream",
     "text": [
      "CPU times: user 3min 2s, sys: 504 ms, total: 3min 2s\n",
      "Wall time: 3min 3s\n"
     ]
    }
   ],
   "source": [
    "%%time\n",
    "\n",
    "cbow_rouge_df = get_rouge_df(cbow_summaries, reference_summaries)"
   ]
  },
  {
   "cell_type": "code",
   "execution_count": 14,
   "metadata": {},
   "outputs": [],
   "source": [
    "import summa\n",
    "\n",
    "def summarize_with_textrank(text):\n",
    "    try:\n",
    "        summary = summa.summarizer.summarize(text, words=target_summary_length(text))\n",
    "    except:\n",
    "        summary = ''\n",
    "    return summary"
   ]
  },
  {
   "cell_type": "code",
   "execution_count": 15,
   "metadata": {},
   "outputs": [
    {
     "name": "stderr",
     "output_type": "stream",
     "text": [
      "100%|██████████| 11490/11490 [03:11<00:00, 60.12it/s]"
     ]
    },
    {
     "name": "stdout",
     "output_type": "stream",
     "text": [
      "CPU times: user 8.69 s, sys: 1.34 s, total: 10 s\n",
      "Wall time: 3min 13s\n"
     ]
    },
    {
     "name": "stderr",
     "output_type": "stream",
     "text": [
      "\n"
     ]
    }
   ],
   "source": [
    "%%time\n",
    "\n",
    "textrank_summaries = maybe_summarize_texts(summarize_with_textrank, input_texts);"
   ]
  },
  {
   "cell_type": "code",
   "execution_count": 16,
   "metadata": {},
   "outputs": [
    {
     "name": "stdout",
     "output_type": "stream",
     "text": [
      "CPU times: user 2min 39s, sys: 295 ms, total: 2min 40s\n",
      "Wall time: 2min 40s\n"
     ]
    }
   ],
   "source": [
    "%%time\n",
    "\n",
    "textrank_scores_df = get_rouge_df(textrank_summaries, reference_summaries)\n",
    "textrank_scores_df"
   ]
  },
  {
   "cell_type": "code",
   "execution_count": 17,
   "metadata": {},
   "outputs": [
    {
     "data": {
      "text/plain": [
       "rouge-1-r    0.505383\n",
       "rouge-2-r    0.201163\n",
       "rouge-l-r    0.462364\n",
       "dtype: float64"
      ]
     },
     "execution_count": 17,
     "metadata": {},
     "output_type": "execute_result"
    }
   ],
   "source": [
    "textrank_scores_df[[col for col in textrank_scores_df.columns if '-r' in col]].mean()"
   ]
  },
  {
   "cell_type": "code",
   "execution_count": 18,
   "metadata": {},
   "outputs": [
    {
     "data": {
      "text/plain": [
       "rouge-1-r    0.475737\n",
       "rouge-2-r    0.175338\n",
       "rouge-l-r    0.433820\n",
       "dtype: float64"
      ]
     },
     "execution_count": 18,
     "metadata": {},
     "output_type": "execute_result"
    }
   ],
   "source": [
    "cbow_rouge_df[[col for col in cbow_rouge_df.columns if '-r' in col]].mean()"
   ]
  },
  {
   "cell_type": "code",
   "execution_count": 19,
   "metadata": {},
   "outputs": [
    {
     "name": "stderr",
     "output_type": "stream",
     "text": [
      "/home/kuba/anaconda3/lib/python3.6/site-packages/scipy/spatial/distance.py:696: RuntimeWarning: overflow encountered in square\n",
      "  uu = np.average(np.square(u), weights=w)\n",
      "/home/kuba/anaconda3/lib/python3.6/site-packages/scipy/spatial/distance.py:696: RuntimeWarning: overflow encountered in square\n",
      "  uu = np.average(np.square(u), weights=w)\n",
      "/home/kuba/anaconda3/lib/python3.6/site-packages/scipy/spatial/distance.py:696: RuntimeWarning: overflow encountered in square\n",
      "  uu = np.average(np.square(u), weights=w)\n",
      "/home/kuba/anaconda3/lib/python3.6/site-packages/scipy/spatial/distance.py:696: RuntimeWarning: overflow encountered in square\n",
      "  uu = np.average(np.square(u), weights=w)\n",
      "/home/kuba/anaconda3/lib/python3.6/site-packages/scipy/spatial/distance.py:695: RuntimeWarning: overflow encountered in multiply\n",
      "  uv = np.average(u * v, weights=w)\n",
      "/home/kuba/anaconda3/lib/python3.6/site-packages/scipy/spatial/distance.py:697: RuntimeWarning: overflow encountered in square\n",
      "  vv = np.average(np.square(v), weights=w)\n",
      "/home/kuba/anaconda3/lib/python3.6/site-packages/scipy/spatial/distance.py:698: RuntimeWarning: invalid value encountered in float_scalars\n",
      "  dist = 1.0 - uv / np.sqrt(uu * vv)\n",
      "  1%|          | 112/11490 [00:00<00:11, 968.46it/s]/home/kuba/anaconda3/lib/python3.6/site-packages/scipy/spatial/distance.py:697: RuntimeWarning: overflow encountered in square\n",
      "  vv = np.average(np.square(v), weights=w)\n",
      "/home/kuba/anaconda3/lib/python3.6/site-packages/scipy/spatial/distance.py:695: RuntimeWarning: overflow encountered in multiply\n",
      "  uv = np.average(u * v, weights=w)\n",
      "/home/kuba/anaconda3/lib/python3.6/site-packages/scipy/spatial/distance.py:698: RuntimeWarning: invalid value encountered in float_scalars\n",
      "  dist = 1.0 - uv / np.sqrt(uu * vv)\n",
      "  1%|▏         | 165/11490 [00:00<00:56, 199.52it/s]/home/kuba/anaconda3/lib/python3.6/site-packages/scipy/spatial/distance.py:697: RuntimeWarning: overflow encountered in square\n",
      "  vv = np.average(np.square(v), weights=w)\n",
      "/home/kuba/anaconda3/lib/python3.6/site-packages/scipy/spatial/distance.py:695: RuntimeWarning: overflow encountered in multiply\n",
      "  uv = np.average(u * v, weights=w)\n",
      "/home/kuba/anaconda3/lib/python3.6/site-packages/scipy/spatial/distance.py:698: RuntimeWarning: invalid value encountered in float_scalars\n",
      "  dist = 1.0 - uv / np.sqrt(uu * vv)\n",
      " 10%|█         | 1165/11490 [00:19<02:55, 58.77it/s]/home/kuba/anaconda3/lib/python3.6/site-packages/scipy/spatial/distance.py:697: RuntimeWarning: overflow encountered in square\n",
      "  vv = np.average(np.square(v), weights=w)\n",
      "/home/kuba/anaconda3/lib/python3.6/site-packages/scipy/spatial/distance.py:695: RuntimeWarning: overflow encountered in multiply\n",
      "  uv = np.average(u * v, weights=w)\n",
      "/home/kuba/anaconda3/lib/python3.6/site-packages/scipy/spatial/distance.py:698: RuntimeWarning: invalid value encountered in float_scalars\n",
      "  dist = 1.0 - uv / np.sqrt(uu * vv)\n",
      " 57%|█████▋    | 6539/11490 [02:12<01:40, 49.27it/s]/home/kuba/anaconda3/lib/python3.6/site-packages/scipy/spatial/distance.py:698: RuntimeWarning: overflow encountered in float_scalars\n",
      "  dist = 1.0 - uv / np.sqrt(uu * vv)\n",
      " 87%|████████▋ | 10009/11490 [03:40<00:32, 45.49it/s]/home/kuba/anaconda3/lib/python3.6/site-packages/scipy/spatial/distance.py:698: RuntimeWarning: overflow encountered in float_scalars\n",
      "  dist = 1.0 - uv / np.sqrt(uu * vv)\n",
      "100%|██████████| 11490/11490 [04:12<00:00, 45.44it/s]\n"
     ]
    }
   ],
   "source": [
    "embedding_summaries = maybe_summarize_texts(summarize_with_embeddings, input_texts)"
   ]
  },
  {
   "cell_type": "code",
   "execution_count": 20,
   "metadata": {},
   "outputs": [],
   "source": [
    "embedding_scores_df = get_rouge_df(embedding_summaries, reference_summaries)"
   ]
  },
  {
   "cell_type": "code",
   "execution_count": 21,
   "metadata": {},
   "outputs": [
    {
     "data": {
      "text/plain": [
       "rouge-1-r    0.469270\n",
       "rouge-2-r    0.157695\n",
       "rouge-l-r    0.425080\n",
       "dtype: float64"
      ]
     },
     "execution_count": 21,
     "metadata": {},
     "output_type": "execute_result"
    }
   ],
   "source": [
    "embedding_scores_df[[col for col in embedding_scores_df.columns if '-r' in col]].mean()"
   ]
  }
 ],
 "metadata": {
  "kernelspec": {
   "display_name": "Python 3",
   "language": "python",
   "name": "python3"
  },
  "language_info": {
   "codemirror_mode": {
    "name": "ipython",
    "version": 3
   },
   "file_extension": ".py",
   "mimetype": "text/x-python",
   "name": "python",
   "nbconvert_exporter": "python",
   "pygments_lexer": "ipython3",
   "version": "3.6.4"
  }
 },
 "nbformat": 4,
 "nbformat_minor": 2
}
