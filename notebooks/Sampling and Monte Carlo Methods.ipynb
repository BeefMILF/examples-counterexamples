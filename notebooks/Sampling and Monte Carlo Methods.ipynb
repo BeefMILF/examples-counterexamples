{
 "cells": [
  {
   "cell_type": "code",
   "execution_count": 1,
   "metadata": {},
   "outputs": [],
   "source": [
    "import numpy as np\n",
    "import scipy\n",
    "from scipy.stats import uniform, gamma, norm\n",
    "\n",
    "np.random.seed(0)"
   ]
  },
  {
   "cell_type": "markdown",
   "metadata": {},
   "source": [
    "## Monte Carlo\n",
    "\n",
    "Monte Carlo methods are a group of methods that use random sampling to solve problems that are either stochastic or deterministic.\n",
    "\n",
    "Example problems:\n",
    "\n",
    "* generating samples from distribution with pdf $p$\n",
    "* estimating values of integrals (expected values et c)"
   ]
  },
  {
   "cell_type": "markdown",
   "metadata": {},
   "source": [
    "#### Importance sampling\n",
    "\n",
    "Importance sampling is used to estimate expected values\n",
    "\n",
    "$$E(f(X)) = \\int_{a}^{b} f(z) p(z) dz$$\n",
    "\n",
    "Using samples from some other distribution $q$. This is useful because we do not need to strictly sample from $p$ (which is realistic in practice).\n",
    "\n",
    "We do this by *weighing* samples ($X'$ is distributed with $q$)\n",
    "\n",
    "$$w(z) = \\frac{f(z)p(z)}{q(z)}$$\n",
    "\n",
    "Then $$E(w(X')) = \\int_{a}^{b} \\frac{f(z)p(z)}{q(z)} q(z) dz = \\int_{a}^{b} f(z) p(z) dz = E(f(X)) $$\n",
    "\n",
    "That means that for estimating $E(f(X))$ we can just use samples from $q$.\n",
    "\n",
    "**Warning** this assumes that $q(z) = 0$ implies $p(z) = 0$, otherwise $w(z)$ would be undefined.\n",
    "\n",
    "In simple terms that means that $p$'s support has to be a subset of $q$'s support."
   ]
  },
  {
   "cell_type": "code",
   "execution_count": 2,
   "metadata": {},
   "outputs": [],
   "source": [
    "def importance_sample_expected_value(f, p_pdf, q_pdf, samples):\n",
    "    \"\"\"\n",
    "    Estimate expected value of f(X) where X ~ p, with samples from q\n",
    "    \"\"\"\n",
    "    sample_f = f(samples)\n",
    "    weights = p_pdf(samples) / q_pdf(samples)\n",
    "    return np.mean(weights * sample_f)\n",
    "\n",
    "\n",
    "def get_importance_sampling_variance(correct_value, f, p_pdf, q_pdf, sampler, n_runs=100):\n",
    "    estimates = [importance_sample_expected_value(f, p_pdf, q_pdf, sampler()) for _ in range(n_runs)]\n",
    "    return np.mean((estimates - correct_value) ** 2)"
   ]
  },
  {
   "cell_type": "code",
   "execution_count": 3,
   "metadata": {},
   "outputs": [],
   "source": [
    "N = 100000"
   ]
  },
  {
   "cell_type": "code",
   "execution_count": 4,
   "metadata": {},
   "outputs": [
    {
     "data": {
      "text/plain": [
       "0.0013498980316301035"
      ]
     },
     "execution_count": 4,
     "metadata": {},
     "output_type": "execute_result"
    }
   ],
   "source": [
    "correct_value = 1 - norm.cdf(3)\n",
    "correct_value"
   ]
  },
  {
   "cell_type": "code",
   "execution_count": 5,
   "metadata": {},
   "outputs": [],
   "source": [
    "f = lambda x: x > 3"
   ]
  },
  {
   "cell_type": "markdown",
   "metadata": {},
   "source": [
    "Estimation with straightforward mean:"
   ]
  },
  {
   "cell_type": "code",
   "execution_count": 6,
   "metadata": {},
   "outputs": [
    {
     "data": {
      "text/plain": [
       "0.00141"
      ]
     },
     "execution_count": 6,
     "metadata": {},
     "output_type": "execute_result"
    }
   ],
   "source": [
    "simple_estimate = np.mean(f(np.random.randn(N)))\n",
    "simple_estimate"
   ]
  },
  {
   "cell_type": "markdown",
   "metadata": {},
   "source": [
    "Estimation with $q$ ~ $\\mathcal{N}(4,1)$"
   ]
  },
  {
   "cell_type": "code",
   "execution_count": 7,
   "metadata": {},
   "outputs": [
    {
     "data": {
      "text/plain": [
       "0.0013515238958539126"
      ]
     },
     "execution_count": 7,
     "metadata": {},
     "output_type": "execute_result"
    }
   ],
   "source": [
    "importance_sample_estimate = importance_sample_expected_value(f, norm.pdf, lambda x: norm.pdf(x, loc=4, scale=1), np.random.randn(N) + 4)\n",
    "importance_sample_estimate"
   ]
  },
  {
   "cell_type": "markdown",
   "metadata": {},
   "source": [
    "Variance of simple estimator"
   ]
  },
  {
   "cell_type": "code",
   "execution_count": 8,
   "metadata": {},
   "outputs": [
    {
     "data": {
      "text/plain": [
       "1.3543031501197454e-08"
      ]
     },
     "execution_count": 8,
     "metadata": {},
     "output_type": "execute_result"
    }
   ],
   "source": [
    "simple_estimates = np.mean(f(np.random.randn(N, 100)), axis=0)\n",
    "simple_estimate_variance = np.mean((simple_estimates - correct_value) ** 2)\n",
    "simple_estimate_variance"
   ]
  },
  {
   "cell_type": "markdown",
   "metadata": {},
   "source": [
    "Variance of importance sampling"
   ]
  },
  {
   "cell_type": "code",
   "execution_count": 9,
   "metadata": {},
   "outputs": [
    {
     "data": {
      "text/plain": [
       "9.164407538056188e-11"
      ]
     },
     "execution_count": 9,
     "metadata": {},
     "output_type": "execute_result"
    }
   ],
   "source": [
    "importance_sampling_variance = get_importance_sampling_variance(correct_value, f, norm.pdf, lambda x: norm.pdf(x, loc=4, scale=1), sampler=lambda: np.random.randn(N) + 4)\n",
    "importance_sampling_variance"
   ]
  }
 ],
 "metadata": {
  "kernelspec": {
   "display_name": "nnets",
   "language": "python",
   "name": "nnets"
  },
  "language_info": {
   "codemirror_mode": {
    "name": "ipython",
    "version": 3
   },
   "file_extension": ".py",
   "mimetype": "text/x-python",
   "name": "python",
   "nbconvert_exporter": "python",
   "pygments_lexer": "ipython3",
   "version": "3.6.5"
  }
 },
 "nbformat": 4,
 "nbformat_minor": 2
}
