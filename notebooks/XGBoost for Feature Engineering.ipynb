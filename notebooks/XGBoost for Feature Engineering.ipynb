{
 "cells": [
  {
   "cell_type": "code",
   "execution_count": 1,
   "metadata": {},
   "outputs": [],
   "source": [
    "import numpy as np\n",
    "import xgboost\n",
    "from sklearn.datasets import load_digits\n",
    "\n",
    "import matplotlib.pyplot as plt\n",
    "%matplotlib inline"
   ]
  },
  {
   "cell_type": "markdown",
   "metadata": {},
   "source": [
    "# Using XGBoost for feature extraction\n",
    "\n",
    "Tree-based methods can be used for extracting features. Leaf indices are extracted from trees and used as categorical features.\n",
    "\n",
    "See [this paper (section 3.1, Decision tree feature transforms)](http://quinonero.net/Publications/predicting-clicks-facebook.pdf) for details."
   ]
  },
  {
   "cell_type": "markdown",
   "metadata": {},
   "source": [
    "## Extracting leaf indices using XGBoost"
   ]
  },
  {
   "cell_type": "code",
   "execution_count": 8,
   "metadata": {},
   "outputs": [],
   "source": [
    "def get_leaf_indices(X, y, n_estimators=10, **kwargs):\n",
    "    num_class = len(set(y))\n",
    "\n",
    "    xgb_clf = xgboost.XGBClassifier(n_estimators=n_estimators, **kwargs)\n",
    "    xgb_clf.fit(X, y)\n",
    "    \n",
    "    X_pred = xgb_clf._Booster.predict(xgboost.DMatrix(X, label=y), pred_leaf=True)\n",
    "    \n",
    "    return X_pred\n",
    "\n",
    "\n",
    "def setup_booster(dtrain, num_class, num_boost_round, **kwargs):\n",
    "    return xgboost.train(\n",
    "        {**{'num_class': num_class, 'max_depth': 3, 'silent': True}, **kwargs},\n",
    "        dtrain,\n",
    "        num_boost_round=num_boost_round\n",
    "    )"
   ]
  },
  {
   "cell_type": "markdown",
   "metadata": {},
   "source": [
    "## Utilities for similarity search and plotting"
   ]
  },
  {
   "cell_type": "code",
   "execution_count": 9,
   "metadata": {},
   "outputs": [],
   "source": [
    "def display_digit(digit_vec):\n",
    "    plt.figure(figsize=(1,1))\n",
    "    plt.imshow(digit_vec.reshape(8, 8), cmap='gray')\n",
    "    plt.axis('off')\n",
    "    \n",
    "    \n",
    "def similarity(x, y):\n",
    "    return (x == y).sum()\n",
    "\n",
    "\n",
    "def get_similar(query, examples, k):\n",
    "    similarities = [similarity(query, example) for example in examples]\n",
    "    sorted_similarities = np.argsort(similarities)[::-1]\n",
    "    return sorted_similarities[:k]\n",
    "\n",
    "\n",
    "def show_similarity_results(query, examples, digits, k=5):\n",
    "    for example in get_similar(query, examples, k):\n",
    "        display_digit(digits[example])"
   ]
  },
  {
   "cell_type": "code",
   "execution_count": 10,
   "metadata": {},
   "outputs": [],
   "source": [
    "data = load_digits()\n",
    "X = data['data']\n",
    "y = data['target']"
   ]
  },
  {
   "cell_type": "code",
   "execution_count": 11,
   "metadata": {
    "scrolled": false
   },
   "outputs": [],
   "source": [
    "X_pred = get_leaf_indices(X, y)"
   ]
  },
  {
   "cell_type": "code",
   "execution_count": 12,
   "metadata": {},
   "outputs": [
    {
     "data": {
      "image/png": "[encoded data removed]",
      "text/plain": [
       "<matplotlib.figure.Figure at 0x7f2650589630>"
      ]
     },
     "metadata": {},
     "output_type": "display_data"
    },
    {
     "data": {
      "image/png": "[encoded data removed]",
      "text/plain": [
       "<matplotlib.figure.Figure at 0x7f2650468438>"
      ]
     },
     "metadata": {},
     "output_type": "display_data"
    },
    {
     "data": {
      "image/png": "[encoded data removed]",
      "text/plain": [
       "<matplotlib.figure.Figure at 0x7f2650622518>"
      ]
     },
     "metadata": {},
     "output_type": "display_data"
    },
    {
     "data": {
      "image/png": "[encoded data removed]",
      "text/plain": [
       "<matplotlib.figure.Figure at 0x7f26505dd9b0>"
      ]
     },
     "metadata": {},
     "output_type": "display_data"
    },
    {
     "data": {
      "image/png": "[encoded data removed]",
      "text/plain": [
       "<matplotlib.figure.Figure at 0x7f26505a60b8>"
      ]
     },
     "metadata": {},
     "output_type": "display_data"
    },
    {
     "data": {
      "image/png": "[encoded data removed]",
      "text/plain": [
       "<matplotlib.figure.Figure at 0x7f26505229e8>"
      ]
     },
     "metadata": {},
     "output_type": "display_data"
    }
   ],
   "source": [
    "display_digit(X[0])\n",
    "plt.title('query digit')\n",
    "plt.show()\n",
    "\n",
    "show_similarity_results(query=X_pred[0], examples=X_pred[1:], digits=X)"
   ]
  },
  {
   "cell_type": "code",
   "execution_count": null,
   "metadata": {},
   "outputs": [],
   "source": []
  }
 ],
 "metadata": {
  "kernelspec": {
   "display_name": "nnets",
   "language": "python",
   "name": "nnets"
  },
  "language_info": {
   "codemirror_mode": {
    "name": "ipython",
    "version": 3
   },
   "file_extension": ".py",
   "mimetype": "text/x-python",
   "name": "python",
   "nbconvert_exporter": "python",
   "pygments_lexer": "ipython3",
   "version": "3.6.5"
  }
 },
 "nbformat": 4,
 "nbformat_minor": 2
}
