{
 "cells": [
  {
   "cell_type": "code",
   "execution_count": 1,
   "metadata": {},
   "outputs": [
    {
     "name": "stderr",
     "output_type": "stream",
     "text": [
      "Using TensorFlow backend.\n"
     ]
    }
   ],
   "source": [
    "from keras.applications.resnet50 import ResNet50\n",
    "from quiver_engine import server\n",
    "from keras.models import Model"
   ]
  },
  {
   "cell_type": "markdown",
   "metadata": {},
   "source": [
    "## Model setup\n",
    "\n",
    "We use ResNet50 but any model from `keras.application` could be used."
   ]
  },
  {
   "cell_type": "code",
   "execution_count": 2,
   "metadata": {
    "collapsed": true
   },
   "outputs": [],
   "source": [
    "resnet_model = ResNet50(\n",
    "  include_top=False,\n",
    "  weights='imagenet',\n",
    "  input_shape=(224, 224, 3))"
   ]
  },
  {
   "cell_type": "markdown",
   "metadata": {},
   "source": [
    "Select intermediate layer (so that the graph is not too big)"
   ]
  },
  {
   "cell_type": "code",
   "execution_count": 3,
   "metadata": {
    "collapsed": true
   },
   "outputs": [],
   "source": [
    "intermediate_layer = resnet_model.layers_by_depth[140][0]\n",
    "\n",
    "intermediate_model = Model(inputs=[resnet_model.input], outputs=[intermediate_layer.output])"
   ]
  },
  {
   "cell_type": "code",
   "execution_count": 4,
   "metadata": {},
   "outputs": [
    {
     "name": "stdout",
     "output_type": "stream",
     "text": [
      "Number of layers in intermediate model: 28\n",
      "__________________________________________________________________________________________________\n",
      "Layer (type)                    Output Shape         Param #     Connected to                     \n",
      "==================================================================================================\n",
      "input_1 (InputLayer)            (None, 224, 224, 3)  0                                            \n",
      "__________________________________________________________________________________________________\n",
      "conv1 (Conv2D)                  (None, 112, 112, 64) 9472        input_1[0][0]                    \n",
      "__________________________________________________________________________________________________\n",
      "bn_conv1 (BatchNormalization)   (None, 112, 112, 64) 256         conv1[0][0]                      \n",
      "__________________________________________________________________________________________________\n",
      "activation_1 (Activation)       (None, 112, 112, 64) 0           bn_conv1[0][0]                   \n",
      "__________________________________________________________________________________________________\n",
      "max_pooling2d_1 (MaxPooling2D)  (None, 55, 55, 64)   0           activation_1[0][0]               \n",
      "__________________________________________________________________________________________________\n",
      "res2a_branch2a (Conv2D)         (None, 55, 55, 64)   4160        max_pooling2d_1[0][0]            \n",
      "__________________________________________________________________________________________________\n",
      "bn2a_branch2a (BatchNormalizati (None, 55, 55, 64)   256         res2a_branch2a[0][0]             \n",
      "__________________________________________________________________________________________________\n",
      "activation_2 (Activation)       (None, 55, 55, 64)   0           bn2a_branch2a[0][0]              \n",
      "__________________________________________________________________________________________________\n",
      "res2a_branch2b (Conv2D)         (None, 55, 55, 64)   36928       activation_2[0][0]               \n",
      "__________________________________________________________________________________________________\n",
      "bn2a_branch2b (BatchNormalizati (None, 55, 55, 64)   256         res2a_branch2b[0][0]             \n",
      "__________________________________________________________________________________________________\n",
      "activation_3 (Activation)       (None, 55, 55, 64)   0           bn2a_branch2b[0][0]              \n",
      "__________________________________________________________________________________________________\n",
      "res2a_branch2c (Conv2D)         (None, 55, 55, 256)  16640       activation_3[0][0]               \n",
      "__________________________________________________________________________________________________\n",
      "res2a_branch1 (Conv2D)          (None, 55, 55, 256)  16640       max_pooling2d_1[0][0]            \n",
      "__________________________________________________________________________________________________\n",
      "bn2a_branch2c (BatchNormalizati (None, 55, 55, 256)  1024        res2a_branch2c[0][0]             \n",
      "__________________________________________________________________________________________________\n",
      "bn2a_branch1 (BatchNormalizatio (None, 55, 55, 256)  1024        res2a_branch1[0][0]              \n",
      "__________________________________________________________________________________________________\n",
      "add_1 (Add)                     (None, 55, 55, 256)  0           bn2a_branch2c[0][0]              \n",
      "                                                                 bn2a_branch1[0][0]               \n",
      "__________________________________________________________________________________________________\n",
      "activation_4 (Activation)       (None, 55, 55, 256)  0           add_1[0][0]                      \n",
      "__________________________________________________________________________________________________\n",
      "res2b_branch2a (Conv2D)         (None, 55, 55, 64)   16448       activation_4[0][0]               \n",
      "__________________________________________________________________________________________________\n",
      "bn2b_branch2a (BatchNormalizati (None, 55, 55, 64)   256         res2b_branch2a[0][0]             \n",
      "__________________________________________________________________________________________________\n",
      "activation_5 (Activation)       (None, 55, 55, 64)   0           bn2b_branch2a[0][0]              \n",
      "__________________________________________________________________________________________________\n",
      "res2b_branch2b (Conv2D)         (None, 55, 55, 64)   36928       activation_5[0][0]               \n",
      "__________________________________________________________________________________________________\n",
      "bn2b_branch2b (BatchNormalizati (None, 55, 55, 64)   256         res2b_branch2b[0][0]             \n",
      "__________________________________________________________________________________________________\n",
      "activation_6 (Activation)       (None, 55, 55, 64)   0           bn2b_branch2b[0][0]              \n",
      "__________________________________________________________________________________________________\n",
      "res2b_branch2c (Conv2D)         (None, 55, 55, 256)  16640       activation_6[0][0]               \n",
      "__________________________________________________________________________________________________\n",
      "bn2b_branch2c (BatchNormalizati (None, 55, 55, 256)  1024        res2b_branch2c[0][0]             \n",
      "__________________________________________________________________________________________________\n",
      "add_2 (Add)                     (None, 55, 55, 256)  0           bn2b_branch2c[0][0]              \n",
      "                                                                 activation_4[0][0]               \n",
      "__________________________________________________________________________________________________\n",
      "activation_7 (Activation)       (None, 55, 55, 256)  0           add_2[0][0]                      \n",
      "__________________________________________________________________________________________________\n",
      "res2c_branch2a (Conv2D)         (None, 55, 55, 64)   16448       activation_7[0][0]               \n",
      "==================================================================================================\n",
      "Total params: 174,656\n",
      "Trainable params: 172,480\n",
      "Non-trainable params: 2,176\n",
      "__________________________________________________________________________________________________\n"
     ]
    }
   ],
   "source": [
    "print(\"Number of layers in intermediate model:\", len(intermediate_model.layers))\n",
    "intermediate_model.summary()"
   ]
  },
  {
   "cell_type": "markdown",
   "metadata": {},
   "source": [
    "Sanity check - this should be `(None, 224, 224, 3)`"
   ]
  },
  {
   "cell_type": "code",
   "execution_count": 5,
   "metadata": {},
   "outputs": [
    {
     "data": {
      "text/plain": [
       "(None, 224, 224, 3)"
      ]
     },
     "execution_count": 5,
     "metadata": {},
     "output_type": "execute_result"
    }
   ],
   "source": [
    "intermediate_model.get_input_shape_at(0)"
   ]
  },
  {
   "cell_type": "markdown",
   "metadata": {
    "collapsed": true
   },
   "source": [
    "Be sure you ran `make load_101_categories` before you run that to setup the images.\n",
    "\n",
    "Also you could point *quiver* to other directory with images."
   ]
  },
  {
   "cell_type": "code",
   "execution_count": null,
   "metadata": {
    "scrolled": false
   },
   "outputs": [
    {
     "name": "stdout",
     "output_type": "stream",
     "text": [
      "Starting webserver from: /opt/anaconda3/envs/nnets/lib/python3.5/site-packages/quiver_engine\n"
     ]
    },
    {
     "name": "stderr",
     "output_type": "stream",
     "text": [
      "::ffff:127.0.0.1 - - [2018-02-03 11:55:48] \"GET / HTTP/1.1\" 200 824 0.007338\n",
      "::ffff:127.0.0.1 - - [2018-02-03 11:55:48] \"GET /app.c1d3d21cfba8c1aabed6806773c8f0ba.css HTTP/1.1\" 200 5153 0.001998\n",
      "::ffff:127.0.0.1 - - [2018-02-03 11:55:48] \"GET /vendor.280c5ce1d78077ee8d66.js HTTP/1.1\" 200 87579 0.002891\n",
      "::ffff:127.0.0.1 - - [2018-02-03 11:55:48] \"GET /app.14b8092d6ea379715007.js HTTP/1.1\" 200 1179493 0.006635\n",
      "::ffff:127.0.0.1 - - [2018-02-03 11:55:49] \"GET /model HTTP/1.1\" 200 25387 0.013865\n",
      "::ffff:127.0.0.1 - - [2018-02-03 11:55:49] \"GET /inputs HTTP/1.1\" 200 975 0.001748\n",
      "::ffff:127.0.0.1 - - [2018-02-03 11:55:49] \"GET /favicon.ico HTTP/1.1\" 200 16203 0.014770\n",
      "::ffff:127.0.0.1 - - [2018-02-03 11:55:49] \"GET /input-file/image_0008.jpg HTTP/1.1\" 200 16657 0.012956\n",
      "::ffff:127.0.0.1 - - [2018-02-03 11:55:49] \"GET /input-file/image_0037.jpg HTTP/1.1\" 200 10689 0.011262\n",
      "::ffff:127.0.0.1 - - [2018-02-03 11:55:49] \"GET /input-file/image_0032.jpg HTTP/1.1\" 200 12029 0.004658\n",
      "::ffff:127.0.0.1 - - [2018-02-03 11:55:49] \"GET /input-file/image_0007.jpg HTTP/1.1\" 200 14117 0.002869\n",
      "::ffff:127.0.0.1 - - [2018-02-03 11:55:49] \"GET /input-file/image_0019.jpg HTTP/1.1\" 200 15677 0.007528\n",
      "::ffff:127.0.0.1 - - [2018-02-03 11:55:49] \"GET /input-file/image_0033.jpg HTTP/1.1\" 200 20788 0.016213\n",
      "::ffff:127.0.0.1 - - [2018-02-03 11:55:49] \"GET /input-file/image_0016.jpg HTTP/1.1\" 200 13368 0.002950\n",
      "::ffff:127.0.0.1 - - [2018-02-03 11:55:49] \"GET /input-file/image_0002.jpg HTTP/1.1\" 200 18440 0.002611\n",
      "::ffff:127.0.0.1 - - [2018-02-03 11:55:49] \"GET /input-file/image_0011.jpg HTTP/1.1\" 200 16620 0.003906\n",
      "::ffff:127.0.0.1 - - [2018-02-03 11:55:49] \"GET /input-file/image_0036.jpg HTTP/1.1\" 200 18009 0.002474\n",
      "::ffff:127.0.0.1 - - [2018-02-03 11:55:49] \"GET /input-file/image_0035.jpg HTTP/1.1\" 200 11087 0.002868\n",
      "::ffff:127.0.0.1 - - [2018-02-03 11:55:49] \"GET /input-file/image_0012.jpg HTTP/1.1\" 200 18322 0.005548\n",
      "::ffff:127.0.0.1 - - [2018-02-03 11:55:49] \"GET /input-file/image_0010.jpg HTTP/1.1\" 200 26205 0.003207\n",
      "::ffff:127.0.0.1 - - [2018-02-03 11:55:49] \"GET /input-file/image_0003.jpg HTTP/1.1\" 200 17197 0.002887\n",
      "::ffff:127.0.0.1 - - [2018-02-03 11:55:49] \"GET /input-file/image_0024.jpg HTTP/1.1\" 200 16141 0.004281\n",
      "::ffff:127.0.0.1 - - [2018-02-03 11:55:49] \"GET /input-file/image_0028.jpg HTTP/1.1\" 200 12182 0.003625\n",
      "::ffff:127.0.0.1 - - [2018-02-03 11:55:49] \"GET /input-file/image_0026.jpg HTTP/1.1\" 200 16567 0.002896\n",
      "::ffff:127.0.0.1 - - [2018-02-03 11:55:49] \"GET /input-file/image_0017.jpg HTTP/1.1\" 200 19460 0.002672\n",
      "::ffff:127.0.0.1 - - [2018-02-03 11:55:49] \"GET /input-file/image_0030.jpg HTTP/1.1\" 200 20131 0.003150\n",
      "::ffff:127.0.0.1 - - [2018-02-03 11:55:49] \"GET /input-file/image_0005.jpg HTTP/1.1\" 200 8687 0.015193\n",
      "::ffff:127.0.0.1 - - [2018-02-03 11:55:49] \"GET /input-file/image_0018.jpg HTTP/1.1\" 200 14038 0.003955\n",
      "::ffff:127.0.0.1 - - [2018-02-03 11:55:49] \"GET /input-file/image_0020.jpg HTTP/1.1\" 200 11773 0.004599\n",
      "::ffff:127.0.0.1 - - [2018-02-03 11:55:49] \"GET /input-file/image_0029.jpg HTTP/1.1\" 200 25554 0.003759\n",
      "::ffff:127.0.0.1 - - [2018-02-03 11:55:49] \"GET /input-file/image_0027.jpg HTTP/1.1\" 200 9014 0.003497\n",
      "::ffff:127.0.0.1 - - [2018-02-03 11:55:49] \"GET /input-file/image_0006.jpg HTTP/1.1\" 200 19010 0.010752\n",
      "::ffff:127.0.0.1 - - [2018-02-03 11:55:49] \"GET /input-file/image_0001.jpg HTTP/1.1\" 200 10673 0.006691\n",
      "::ffff:127.0.0.1 - - [2018-02-03 11:55:49] \"GET /input-file/image_0004.jpg HTTP/1.1\" 200 9243 0.017538\n",
      "::ffff:127.0.0.1 - - [2018-02-03 11:55:49] \"GET /input-file/image_0009.jpg HTTP/1.1\" 200 18092 0.003333\n",
      "::ffff:127.0.0.1 - - [2018-02-03 11:55:49] \"GET /input-file/image_0015.jpg HTTP/1.1\" 200 13980 0.003014\n",
      "::ffff:127.0.0.1 - - [2018-02-03 11:55:49] \"GET /input-file/image_0038.jpg HTTP/1.1\" 200 9364 0.003569\n",
      "::ffff:127.0.0.1 - - [2018-02-03 11:55:49] \"GET /input-file/image_0022.jpg HTTP/1.1\" 200 14417 0.003445\n",
      "::ffff:127.0.0.1 - - [2018-02-03 11:55:49] \"GET /input-file/image_0031.jpg HTTP/1.1\" 200 17076 0.001725\n",
      "::ffff:127.0.0.1 - - [2018-02-03 11:55:49] \"GET /input-file/image_0013.jpg HTTP/1.1\" 200 16898 0.001703\n",
      "::ffff:127.0.0.1 - - [2018-02-03 11:55:49] \"GET /input-file/image_0034.jpg HTTP/1.1\" 200 25430 0.006768\n",
      "::ffff:127.0.0.1 - - [2018-02-03 11:55:49] \"GET /input-file/image_0014.jpg HTTP/1.1\" 200 15853 0.002792\n",
      "::ffff:127.0.0.1 - - [2018-02-03 11:55:49] \"GET /input-file/image_0021.jpg HTTP/1.1\" 200 15794 0.002917\n",
      "::ffff:127.0.0.1 - - [2018-02-03 11:55:49] \"GET /input-file/image_0023.jpg HTTP/1.1\" 200 10742 0.002048\n",
      "::ffff:127.0.0.1 - - [2018-02-03 11:55:49] \"GET /input-file/image_0025.jpg HTTP/1.1\" 200 15993 0.001199\n"
     ]
    }
   ],
   "source": [
    "imgs_path = \"../../data/101_ObjectCategories/panda\"\n",
    "\n",
    "server.launch(intermediate_model, temp_folder=\"../../data/tmp\", port=5001, input_folder=imgs_path)"
   ]
  }
 ],
 "metadata": {
  "hide_input": false,
  "kernelspec": {
   "display_name": "Python 3",
   "language": "python",
   "name": "python3"
  },
  "language_info": {
   "codemirror_mode": {
    "name": "ipython",
    "version": 3
   },
   "file_extension": ".py",
   "mimetype": "text/x-python",
   "name": "python",
   "nbconvert_exporter": "python",
   "pygments_lexer": "ipython3",
   "version": "3.5.3"
  }
 },
 "nbformat": 4,
 "nbformat_minor": 2
}
