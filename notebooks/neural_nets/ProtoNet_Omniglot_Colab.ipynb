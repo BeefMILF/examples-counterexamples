{
  "nbformat": 4,
  "nbformat_minor": 0,
  "metadata": {
    "colab": {
      "name": "ProtoNet-Omniglot-Colab.ipynb",
      "version": "0.3.2",
      "views": {},
      "default_view": {},
      "provenance": [],
      "collapsed_sections": []
    },
    "kernelspec": {
      "display_name": "Python 3",
      "language": "python",
      "name": "python3"
    },
    "accelerator": "GPU"
  },
  "cells": [
    {
      "metadata": {
        "id": "RI5dOREJ1UHZ",
        "colab_type": "code",
        "colab": {
          "autoexec": {
            "startup": false,
            "wait_interval": 0
          },
          "output_extras": [
            {
              "item_id": 1
            }
          ],
          "base_uri": "https://localhost:8080/",
          "height": 52
        },
        "outputId": "0f03d821-6368-4917-b34d-5af84bc3560d",
        "executionInfo": {
          "status": "ok",
          "timestamp": 1518882122710,
          "user_tz": -60,
          "elapsed": 2182,
          "user": {
            "displayName": "Jakub Bartczuk",
            "photoUrl": "//lh6.googleusercontent.com/-sjx_GV6EJq0/AAAAAAAAAAI/AAAAAAAAAOI/7RdwrdXKVSA/s50-c-k-no/photo.jpg",
            "userId": "112982680208866012419"
          }
        }
      },
      "cell_type": "code",
      "source": [
        "!pip install toolz tqdm\n"
      ],
      "execution_count": 1,
      "outputs": [
        {
          "output_type": "stream",
          "text": [
            "Requirement already satisfied: toolz in /usr/local/lib/python3.6/dist-packages\r\n",
            "Requirement already satisfied: tqdm in /usr/local/lib/python3.6/dist-packages\r\n"
          ],
          "name": "stdout"
        }
      ]
    },
    {
      "metadata": {
        "id": "uDAxNclPYlRn",
        "colab_type": "text"
      },
      "cell_type": "markdown",
      "source": [
        "### Prototypical Networks\n",
        "\n",
        "This notebook is based on [abdulfatir/prototypical-networks-tensorflow](https://github.com/abdulfatir/prototypical-networks-tensorflow/blob/master/ProtoNet-Omniglot.ipynb)\n",
        "\n",
        "What is added\n",
        "\n",
        "* Dropout\n",
        "* Adaptive learning rate\n",
        "\n",
        "I also cleaned the code somewhat and added plot of training accuracy and loss.\n"
      ]
    },
    {
      "metadata": {
        "id": "bX60x8e6F9gO",
        "colab_type": "code",
        "colab": {
          "autoexec": {
            "startup": false,
            "wait_interval": 0
          }
        }
      },
      "cell_type": "code",
      "source": [
        "%matplotlib inline\n",
        "from __future__ import print_function\n",
        "from PIL import Image\n",
        "import numpy as np\n",
        "import tensorflow as tf\n",
        "import os\n",
        "import glob\n",
        "import matplotlib.pyplot as plt\n",
        "from tqdm import tqdm"
      ],
      "execution_count": 0,
      "outputs": []
    },
    {
      "metadata": {
        "id": "7Za3NG3yV9Qp",
        "colab_type": "code",
        "colab": {
          "autoexec": {
            "startup": false,
            "wait_interval": 0
          }
        }
      },
      "cell_type": "code",
      "source": [
        "PICKLE_IDS = [\"1Lv8Z8h6DWySrzAWBbeymk2klCh8cknC_\", \"10CjCaWzytsd8PE_4rHo3Y2vTCjPCWEyd\"]\n",
        "FILE_NAMES = [\"train.pkl\", \"test.pkl\"]"
      ],
      "execution_count": 0,
      "outputs": []
    },
    {
      "metadata": {
        "id": "k3FsmDdNNyCM",
        "colab_type": "text"
      },
      "cell_type": "markdown",
      "source": [
        "### Data loading"
      ]
    },
    {
      "metadata": {
        "id": "5eNgSIpnIkh8",
        "colab_type": "code",
        "colab": {
          "autoexec": {
            "startup": false,
            "wait_interval": 0
          }
        }
      },
      "cell_type": "code",
      "source": [
        "from toolz import compose\n",
        "from google.colab import auth\n",
        "from googleapiclient.discovery import build\n",
        "import io\n",
        "from googleapiclient.http import MediaIoBaseDownload\n",
        "import pickle\n",
        "\n",
        "\n",
        "\"\"\"\n",
        "  Load (pickled) data files from Google Drive\n",
        "\"\"\"\n",
        "\n",
        "auth.authenticate_user()\n",
        "drive_service = build('drive', 'v3')\n",
        "\n",
        "\n",
        "def create_file_request(file_id):\n",
        "    return drive_service.files().get_media(fileId=file_id)\n",
        "\n",
        "\n",
        "def download_file_bytes(request):\n",
        "    downloaded = io.BytesIO()\n",
        "    downloader = MediaIoBaseDownload(downloaded, request)\n",
        "    done = False\n",
        "    while done is False:\n",
        "      # _ is a placeholder for a progress object that we ignore.\n",
        "      # (Our file is small, so we skip reporting progress.)\n",
        "        _, done = downloader.next_chunk()\n",
        "\n",
        "    downloaded.seek(0)\n",
        "    return downloaded.read()\n",
        "\n",
        "\n",
        "def save_to_vm_drive(file_bytes, save_to):\n",
        "    with open(save_to, \"wb\") as f:\n",
        "        f.write(file_bytes)\n",
        "\n",
        "\n",
        "def load_from_vm_drive(load_from):\n",
        "    return pickle.load(open(load_from, \"rb\"))\n",
        "\n",
        "\n",
        "def save_data(file_ids, file_dests):\n",
        "    for file_id, dest in zip(file_ids, file_dests):\n",
        "        file_bytes = compose(download_file_bytes, create_file_request)(file_id)\n",
        "        save_to_vm_drive(file_bytes, dest)\n",
        "\n",
        "\n",
        "def load_data(file_dests):\n",
        "    for dest in file_dests:\n",
        "        yield load_from_vm_drive(dest)"
      ],
      "execution_count": 0,
      "outputs": []
    },
    {
      "metadata": {
        "id": "iwMVK0clN0A-",
        "colab_type": "text"
      },
      "cell_type": "markdown",
      "source": [
        "### Layer definitions"
      ]
    },
    {
      "metadata": {
        "id": "PpNOFUtI1UHr",
        "colab_type": "code",
        "colab": {
          "autoexec": {
            "startup": false,
            "wait_interval": 0
          }
        }
      },
      "cell_type": "code",
      "source": [
        "def conv_block(inputs, out_channels, training, rate, name='conv'):\n",
        "    with tf.variable_scope(name):\n",
        "        conv = tf.layers.conv2d(inputs, out_channels, kernel_size=3, padding='SAME')\n",
        "        conv = tf.contrib.layers.batch_norm(conv, updates_collections=None, decay=0.99, scale=True, center=True)\n",
        "        conv = tf.nn.relu(conv)\n",
        "        conv = tf.contrib.layers.max_pool2d(conv, 2)\n",
        "        conv = tf.layers.dropout(conv, rate=rate, training=training)\n",
        "        return conv\n",
        "\n",
        "      \n",
        "def encoder(x, h_dim, z_dim, training, rate, reuse=False):\n",
        "    with tf.variable_scope('encoder', reuse=reuse):\n",
        "        net = conv_block(x, h_dim, name='conv_1', training=training, rate=rate)\n",
        "        net = conv_block(net, h_dim, name='conv_2', training=training, rate=rate)\n",
        "        net = conv_block(net, h_dim, name='conv_3', training=training, rate=rate)\n",
        "        net = conv_block(net, z_dim, name='conv_4', training=training, rate=rate)\n",
        "        net = tf.contrib.layers.flatten(net)\n",
        "        return net\n",
        "\n",
        "      \n",
        "def euclidean_distance(a, b):\n",
        "    # a.shape = N x D\n",
        "    # b.shape = M x D\n",
        "    N, D = tf.shape(a)[0], tf.shape(a)[1]\n",
        "    M = tf.shape(b)[0]\n",
        "    a = tf.tile(tf.expand_dims(a, axis=1), (1, M, 1))\n",
        "    b = tf.tile(tf.expand_dims(b, axis=0), (N, 1, 1))\n",
        "    return tf.reduce_mean(tf.square(a - b), axis=2)\n",
        "  \n",
        "  \n",
        "def setup_inputs(im_height, im_width, channels):\n",
        "    x = tf.placeholder(tf.float32, [None, None, im_height, im_width, channels])\n",
        "    q = tf.placeholder(tf.float32, [None, None, im_height, im_width, channels])\n",
        "    y = tf.placeholder(tf.int64, [None, None])\n",
        "    training = tf.placeholder(tf.bool)\n",
        "    return x, q, y, training\n",
        "\n",
        "\n",
        "def setup_outputs(x, q, y, training, h_dim, z_dim, channels, dropout_rate):\n",
        "    x_shape = tf.shape(x)\n",
        "    q_shape = tf.shape(q)\n",
        "\n",
        "    num_classes, num_support = x_shape[0], x_shape[1]\n",
        "    num_queries = q_shape[1]\n",
        "    im_height = x_shape[2]\n",
        "    im_width = x_shape[3]\n",
        "\n",
        "    y_one_hot = tf.one_hot(y, depth=num_classes)\n",
        "\n",
        "    emb_x = encoder(tf.reshape(x, [num_classes * num_support, im_height, im_width, channels]), h_dim, z_dim, training=training, rate=dropout_rate)\n",
        "    emb_dim = tf.shape(emb_x)[-1]\n",
        "    emb_x = tf.reduce_mean(tf.reshape(emb_x, [num_classes, num_support, emb_dim]), axis=1)\n",
        "    emb_q = encoder(tf.reshape(q, [num_classes * num_queries, im_height, im_width, channels]), h_dim, z_dim, reuse=True, training=training, rate=dropout_rate)\n",
        "\n",
        "    dists = euclidean_distance(emb_q, emb_x)\n",
        "    log_p_y = tf.reshape(tf.nn.log_softmax(-dists), [num_classes, num_queries, -1])\n",
        "\n",
        "    ce_loss = -tf.reduce_mean(tf.reshape(tf.reduce_sum(tf.multiply(y_one_hot, log_p_y), axis=-1), [-1]))\n",
        "    acc = tf.reduce_mean(tf.to_float(tf.equal(tf.argmax(log_p_y, axis=-1), y)))\n",
        "    return ce_loss, acc\n",
        "\n",
        "\n",
        "def setup_train_op(\n",
        "        starter_learning_rate=0.002,\n",
        "        decay_rate=0.5,\n",
        "        epoch_decay_interval=20,\n",
        "        n_episodes=100):\n",
        "    \"\"\"\n",
        "      Defaults are set according to original paper\n",
        "    \"\"\"\n",
        "\n",
        "\n",
        "    global_step = tf.Variable(0, trainable=False)\n",
        "    starter_learning_rate = 0.002\n",
        "    learning_rate = tf.train.exponential_decay(\n",
        "      starter_learning_rate,\n",
        "      global_step,\n",
        "      epoch_decay_interval * n_episodes,\n",
        "      decay_rate,\n",
        "      staircase=True\n",
        "    )\n",
        "\n",
        "    return (\n",
        "        tf.train.AdamOptimizer(learning_rate)\n",
        "          .minimize(ce_loss, global_step=global_step)\n",
        "    )"
      ],
      "execution_count": 0,
      "outputs": []
    },
    {
      "metadata": {
        "id": "gNq0BOFCNfCY",
        "colab_type": "text"
      },
      "cell_type": "markdown",
      "source": [
        "### Load train and test datasets"
      ]
    },
    {
      "metadata": {
        "id": "DQ27louhNedH",
        "colab_type": "code",
        "colab": {
          "autoexec": {
            "startup": false,
            "wait_interval": 0
          },
          "output_extras": [
            {
              "item_id": 1
            }
          ],
          "base_uri": "https://localhost:8080/",
          "height": 52
        },
        "outputId": "90af50d9-1079-4108-b499-6364714d5db1",
        "executionInfo": {
          "status": "ok",
          "timestamp": 1518882137030,
          "user_tz": -60,
          "elapsed": 1460,
          "user": {
            "displayName": "Jakub Bartczuk",
            "photoUrl": "//lh6.googleusercontent.com/-sjx_GV6EJq0/AAAAAAAAAAI/AAAAAAAAAOI/7RdwrdXKVSA/s50-c-k-no/photo.jpg",
            "userId": "112982680208866012419"
          }
        }
      },
      "cell_type": "code",
      "source": [
        "# save_data(PICKLE_IDS, FILE_NAMES)\n",
        "train_dataset, test_dataset = list(load_data(FILE_NAMES))\n",
        "\n",
        "print(\"train dataset shape:\", train_dataset.shape)\n",
        "print(\"test dataset shape:\", test_dataset.shape)"
      ],
      "execution_count": 6,
      "outputs": [
        {
          "output_type": "stream",
          "text": [
            "train dataset shape: (4112, 20, 28, 28)\n",
            "test dataset shape: (1692, 20, 28, 28)\n"
          ],
          "name": "stdout"
        }
      ]
    },
    {
      "metadata": {
        "id": "SAHhYu7T1UH-",
        "colab_type": "text"
      },
      "cell_type": "markdown",
      "source": [
        "### Hyperparameters"
      ]
    },
    {
      "metadata": {
        "id": "50kSWijnNlEv",
        "colab_type": "code",
        "colab": {
          "autoexec": {
            "startup": false,
            "wait_interval": 0
          }
        }
      },
      "cell_type": "code",
      "source": [
        "n_classes, n_examples, im_width, im_height = train_dataset.shape\n",
        "\n",
        "n_epochs = 30\n",
        "n_episodes = 100\n",
        "n_way = 60\n",
        "n_shot = 8\n",
        "n_query = 8\n",
        "channels = 1\n",
        "h_dim = 64\n",
        "z_dim = 64\n",
        "dropout_rate=0.1"
      ],
      "execution_count": 0,
      "outputs": []
    },
    {
      "metadata": {
        "id": "OE4vwn8M1UIj",
        "colab_type": "text"
      },
      "cell_type": "markdown",
      "source": [
        "### Define network"
      ]
    },
    {
      "metadata": {
        "id": "sMFwd7Pp1UIl",
        "colab_type": "code",
        "colab": {
          "autoexec": {
            "startup": false,
            "wait_interval": 0
          }
        }
      },
      "cell_type": "code",
      "source": [
        "x, q, y, training = setup_inputs(im_height, im_width, channels)\n",
        "\n",
        "ce_loss, acc = setup_outputs(x, q, y, training, h_dim, z_dim, channels, dropout_rate)\n",
        "\n",
        "train_op = setup_train_op(\n",
        "    epoch_decay_interval=20,\n",
        "    n_episodes=n_episodes)"
      ],
      "execution_count": 0,
      "outputs": []
    },
    {
      "metadata": {
        "id": "iblyAmza1UJA",
        "colab_type": "text"
      },
      "cell_type": "markdown",
      "source": [
        "### Initialize session"
      ]
    },
    {
      "metadata": {
        "id": "Fzu1rBi31UJG",
        "colab_type": "code",
        "colab": {
          "autoexec": {
            "startup": false,
            "wait_interval": 0
          }
        }
      },
      "cell_type": "code",
      "source": [
        "sess = tf.InteractiveSession()\n",
        "init_op = tf.global_variables_initializer()\n",
        "sess.run(init_op)"
      ],
      "execution_count": 0,
      "outputs": []
    },
    {
      "metadata": {
        "id": "_IXvf6r61UJR",
        "colab_type": "text"
      },
      "cell_type": "markdown",
      "source": [
        "### Train network"
      ]
    },
    {
      "metadata": {
        "id": "ATlrbD_lLp0h",
        "colab_type": "code",
        "colab": {
          "autoexec": {
            "startup": false,
            "wait_interval": 0
          }
        }
      },
      "cell_type": "code",
      "source": [
        "train_losses = []\n",
        "train_accs = []"
      ],
      "execution_count": 0,
      "outputs": []
    },
    {
      "metadata": {
        "id": "4Fu-1RdV1UJT",
        "colab_type": "code",
        "colab": {
          "autoexec": {
            "startup": false,
            "wait_interval": 0
          },
          "output_extras": [
            {
              "item_id": 56
            },
            {
              "item_id": 57
            },
            {
              "item_id": 112
            },
            {
              "item_id": 113
            },
            {
              "item_id": 168
            },
            {
              "item_id": 169
            },
            {
              "item_id": 225
            },
            {
              "item_id": 226
            },
            {
              "item_id": 284
            },
            {
              "item_id": 285
            },
            {
              "item_id": 343
            },
            {
              "item_id": 344
            },
            {
              "item_id": 403
            },
            {
              "item_id": 404
            },
            {
              "item_id": 457
            },
            {
              "item_id": 458
            },
            {
              "item_id": 514
            },
            {
              "item_id": 515
            },
            {
              "item_id": 571
            },
            {
              "item_id": 572
            },
            {
              "item_id": 630
            },
            {
              "item_id": 631
            },
            {
              "item_id": 686
            },
            {
              "item_id": 687
            },
            {
              "item_id": 736
            },
            {
              "item_id": 737
            },
            {
              "item_id": 748
            },
            {
              "item_id": 749
            },
            {
              "item_id": 794
            },
            {
              "item_id": 795
            },
            {
              "item_id": 850
            },
            {
              "item_id": 851
            },
            {
              "item_id": 903
            },
            {
              "item_id": 904
            },
            {
              "item_id": 958
            },
            {
              "item_id": 959
            },
            {
              "item_id": 1015
            },
            {
              "item_id": 1016
            },
            {
              "item_id": 1055
            },
            {
              "item_id": 1056
            },
            {
              "item_id": 1065
            },
            {
              "item_id": 1066
            },
            {
              "item_id": 1079
            },
            {
              "item_id": 1080
            },
            {
              "item_id": 1111
            },
            {
              "item_id": 1112
            },
            {
              "item_id": 1167
            },
            {
              "item_id": 1168
            },
            {
              "item_id": 1223
            },
            {
              "item_id": 1224
            },
            {
              "item_id": 1267
            },
            {
              "item_id": 1268
            },
            {
              "item_id": 1292
            },
            {
              "item_id": 1293
            },
            {
              "item_id": 1348
            },
            {
              "item_id": 1349
            },
            {
              "item_id": 1402
            },
            {
              "item_id": 1403
            },
            {
              "item_id": 1457
            },
            {
              "item_id": 1458
            },
            {
              "item_id": 1459
            }
          ],
          "base_uri": "https://localhost:8080/",
          "height": 1094
        },
        "outputId": "544dcd70-0564-48e1-f205-c0a4ced51f52",
        "executionInfo": {
          "status": "ok",
          "timestamp": 1518882665653,
          "user_tz": -60,
          "elapsed": 519607,
          "user": {
            "displayName": "Jakub Bartczuk",
            "photoUrl": "//lh6.googleusercontent.com/-sjx_GV6EJq0/AAAAAAAAAAI/AAAAAAAAAOI/7RdwrdXKVSA/s50-c-k-no/photo.jpg",
            "userId": "112982680208866012419"
          }
        }
      },
      "cell_type": "code",
      "source": [
        "%%time\n",
        "\n",
        "for ep in range(n_epochs):\n",
        "    for epi in tqdm(range(n_episodes), desc='episode'):\n",
        "        epi_classes = np.random.permutation(n_classes)[:n_way]\n",
        "        support = np.zeros([n_way, n_shot, im_height, im_width], dtype=np.float32)\n",
        "        query = np.zeros([n_way, n_query, im_height, im_width], dtype=np.float32)\n",
        "        \n",
        "        for i, epi_cls in enumerate(epi_classes):\n",
        "            selected = np.random.permutation(n_examples)[:n_shot + n_query]\n",
        "            support[i] = train_dataset[epi_cls, selected[:n_shot]]\n",
        "            query[i] = train_dataset[epi_cls, selected[n_shot:]]\n",
        "        \n",
        "        support = np.expand_dims(support, axis=-1)\n",
        "        query = np.expand_dims(query, axis=-1)\n",
        "        labels = np.tile(np.arange(n_way)[:, np.newaxis], (1, n_query)).astype(np.uint8)\n",
        "        _, ls, ac = sess.run([train_op, ce_loss, acc], feed_dict={x: support, q: query, y:labels, training: True})\n",
        "        train_losses.append(ls)\n",
        "        train_accs.append(ac)\n",
        "    print('[epoch {}/{}] => loss: {:.5f}, acc: {:.5f}'.format(ep+1, n_epochs, ls, ac))"
      ],
      "execution_count": 11,
      "outputs": [
        {
          "output_type": "stream",
          "text": [
            "episode: 100%|██████████| 100/100 [00:18<00:00,  5.49it/s]\n",
            "episode:   1%|          | 1/100 [00:00<00:16,  5.90it/s]"
          ],
          "name": "stderr"
        },
        {
          "output_type": "stream",
          "text": [
            "[epoch 1/30] => loss: 1.49634, acc: 0.71875\n"
          ],
          "name": "stdout"
        },
        {
          "output_type": "stream",
          "text": [
            "episode: 100%|██████████| 100/100 [00:17<00:00,  5.79it/s]\n",
            "episode:   1%|          | 1/100 [00:00<00:16,  5.86it/s]"
          ],
          "name": "stderr"
        },
        {
          "output_type": "stream",
          "text": [
            "[epoch 2/30] => loss: 0.73625, acc: 0.85417\n"
          ],
          "name": "stdout"
        },
        {
          "output_type": "stream",
          "text": [
            "episode: 100%|██████████| 100/100 [00:17<00:00,  5.80it/s]\n",
            "episode:   1%|          | 1/100 [00:00<00:17,  5.73it/s]"
          ],
          "name": "stderr"
        },
        {
          "output_type": "stream",
          "text": [
            "[epoch 3/30] => loss: 0.41844, acc: 0.89167\n"
          ],
          "name": "stdout"
        },
        {
          "output_type": "stream",
          "text": [
            "episode: 100%|██████████| 100/100 [00:17<00:00,  5.79it/s]\n",
            "episode:   1%|          | 1/100 [00:00<00:17,  5.73it/s]"
          ],
          "name": "stderr"
        },
        {
          "output_type": "stream",
          "text": [
            "[epoch 4/30] => loss: 0.30893, acc: 0.92292\n"
          ],
          "name": "stdout"
        },
        {
          "output_type": "stream",
          "text": [
            "episode: 100%|██████████| 100/100 [00:17<00:00,  5.80it/s]\n",
            "episode:   1%|          | 1/100 [00:00<00:16,  5.88it/s]"
          ],
          "name": "stderr"
        },
        {
          "output_type": "stream",
          "text": [
            "[epoch 5/30] => loss: 0.27343, acc: 0.93750\n"
          ],
          "name": "stdout"
        },
        {
          "output_type": "stream",
          "text": [
            "episode: 100%|██████████| 100/100 [00:17<00:00,  5.79it/s]\n",
            "episode:   1%|          | 1/100 [00:00<00:16,  5.89it/s]"
          ],
          "name": "stderr"
        },
        {
          "output_type": "stream",
          "text": [
            "[epoch 6/30] => loss: 0.22506, acc: 0.93542\n"
          ],
          "name": "stdout"
        },
        {
          "output_type": "stream",
          "text": [
            "episode: 100%|██████████| 100/100 [00:17<00:00,  5.79it/s]\n",
            "episode:   1%|          | 1/100 [00:00<00:17,  5.73it/s]"
          ],
          "name": "stderr"
        },
        {
          "output_type": "stream",
          "text": [
            "[epoch 7/30] => loss: 0.19418, acc: 0.93750\n"
          ],
          "name": "stdout"
        },
        {
          "output_type": "stream",
          "text": [
            "episode: 100%|██████████| 100/100 [00:17<00:00,  5.79it/s]\n",
            "episode:   1%|          | 1/100 [00:00<00:17,  5.74it/s]"
          ],
          "name": "stderr"
        },
        {
          "output_type": "stream",
          "text": [
            "[epoch 8/30] => loss: 0.12999, acc: 0.96250\n"
          ],
          "name": "stdout"
        },
        {
          "output_type": "stream",
          "text": [
            "episode: 100%|██████████| 100/100 [00:17<00:00,  5.78it/s]\n",
            "episode:   1%|          | 1/100 [00:00<00:16,  5.88it/s]"
          ],
          "name": "stderr"
        },
        {
          "output_type": "stream",
          "text": [
            "[epoch 9/30] => loss: 0.19744, acc: 0.95208\n"
          ],
          "name": "stdout"
        },
        {
          "output_type": "stream",
          "text": [
            "episode: 100%|██████████| 100/100 [00:17<00:00,  5.79it/s]\n",
            "episode:   1%|          | 1/100 [00:00<00:16,  5.87it/s]"
          ],
          "name": "stderr"
        },
        {
          "output_type": "stream",
          "text": [
            "[epoch 10/30] => loss: 0.21739, acc: 0.94583\n"
          ],
          "name": "stdout"
        },
        {
          "output_type": "stream",
          "text": [
            "episode: 100%|██████████| 100/100 [00:17<00:00,  5.80it/s]\n",
            "episode:   1%|          | 1/100 [00:00<00:16,  5.84it/s]"
          ],
          "name": "stderr"
        },
        {
          "output_type": "stream",
          "text": [
            "[epoch 11/30] => loss: 0.17447, acc: 0.96458\n"
          ],
          "name": "stdout"
        },
        {
          "output_type": "stream",
          "text": [
            "episode: 100%|██████████| 100/100 [00:17<00:00,  5.79it/s]\n",
            "episode:   1%|          | 1/100 [00:00<00:17,  5.77it/s]"
          ],
          "name": "stderr"
        },
        {
          "output_type": "stream",
          "text": [
            "[epoch 12/30] => loss: 0.15571, acc: 0.95625\n"
          ],
          "name": "stdout"
        },
        {
          "output_type": "stream",
          "text": [
            "episode: 100%|██████████| 100/100 [00:17<00:00,  5.80it/s]\n",
            "episode:   1%|          | 1/100 [00:00<00:17,  5.75it/s]"
          ],
          "name": "stderr"
        },
        {
          "output_type": "stream",
          "text": [
            "[epoch 13/30] => loss: 0.12801, acc: 0.95833\n"
          ],
          "name": "stdout"
        },
        {
          "output_type": "stream",
          "text": [
            "episode: 100%|██████████| 100/100 [00:17<00:00,  5.80it/s]\n",
            "episode:   1%|          | 1/100 [00:00<00:16,  5.91it/s]"
          ],
          "name": "stderr"
        },
        {
          "output_type": "stream",
          "text": [
            "[epoch 14/30] => loss: 0.15905, acc: 0.96458\n"
          ],
          "name": "stdout"
        },
        {
          "output_type": "stream",
          "text": [
            "episode: 100%|██████████| 100/100 [00:17<00:00,  5.80it/s]\n",
            "episode:   1%|          | 1/100 [00:00<00:16,  5.83it/s]"
          ],
          "name": "stderr"
        },
        {
          "output_type": "stream",
          "text": [
            "[epoch 15/30] => loss: 0.14636, acc: 0.97083\n"
          ],
          "name": "stdout"
        },
        {
          "output_type": "stream",
          "text": [
            "episode: 100%|██████████| 100/100 [00:17<00:00,  5.79it/s]\n",
            "episode:   1%|          | 1/100 [00:00<00:17,  5.75it/s]"
          ],
          "name": "stderr"
        },
        {
          "output_type": "stream",
          "text": [
            "[epoch 16/30] => loss: 0.12126, acc: 0.96250\n"
          ],
          "name": "stdout"
        },
        {
          "output_type": "stream",
          "text": [
            "episode: 100%|██████████| 100/100 [00:17<00:00,  5.79it/s]\n",
            "episode:   1%|          | 1/100 [00:00<00:17,  5.78it/s]"
          ],
          "name": "stderr"
        },
        {
          "output_type": "stream",
          "text": [
            "[epoch 17/30] => loss: 0.13283, acc: 0.96042\n"
          ],
          "name": "stdout"
        },
        {
          "output_type": "stream",
          "text": [
            "episode: 100%|██████████| 100/100 [00:17<00:00,  5.80it/s]\n",
            "episode:   1%|          | 1/100 [00:00<00:17,  5.70it/s]"
          ],
          "name": "stderr"
        },
        {
          "output_type": "stream",
          "text": [
            "[epoch 18/30] => loss: 0.08322, acc: 0.97708\n"
          ],
          "name": "stdout"
        },
        {
          "output_type": "stream",
          "text": [
            "episode: 100%|██████████| 100/100 [00:17<00:00,  5.80it/s]\n",
            "episode:   1%|          | 1/100 [00:00<00:17,  5.80it/s]"
          ],
          "name": "stderr"
        },
        {
          "output_type": "stream",
          "text": [
            "[epoch 19/30] => loss: 0.14882, acc: 0.94375\n"
          ],
          "name": "stdout"
        },
        {
          "output_type": "stream",
          "text": [
            "episode: 100%|██████████| 100/100 [00:17<00:00,  5.79it/s]\n",
            "episode:   1%|          | 1/100 [00:00<00:17,  5.72it/s]"
          ],
          "name": "stderr"
        },
        {
          "output_type": "stream",
          "text": [
            "[epoch 20/30] => loss: 0.12388, acc: 0.96667\n"
          ],
          "name": "stdout"
        },
        {
          "output_type": "stream",
          "text": [
            "episode: 100%|██████████| 100/100 [00:17<00:00,  5.79it/s]\n",
            "episode:   1%|          | 1/100 [00:00<00:17,  5.72it/s]"
          ],
          "name": "stderr"
        },
        {
          "output_type": "stream",
          "text": [
            "[epoch 21/30] => loss: 0.13506, acc: 0.95833\n"
          ],
          "name": "stdout"
        },
        {
          "output_type": "stream",
          "text": [
            "episode: 100%|██████████| 100/100 [00:17<00:00,  5.80it/s]\n",
            "episode:   1%|          | 1/100 [00:00<00:17,  5.78it/s]"
          ],
          "name": "stderr"
        },
        {
          "output_type": "stream",
          "text": [
            "[epoch 22/30] => loss: 0.09244, acc: 0.97292\n"
          ],
          "name": "stdout"
        },
        {
          "output_type": "stream",
          "text": [
            "episode: 100%|██████████| 100/100 [00:17<00:00,  5.79it/s]\n",
            "episode:   1%|          | 1/100 [00:00<00:17,  5.80it/s]"
          ],
          "name": "stderr"
        },
        {
          "output_type": "stream",
          "text": [
            "[epoch 23/30] => loss: 0.11163, acc: 0.96042\n"
          ],
          "name": "stdout"
        },
        {
          "output_type": "stream",
          "text": [
            "episode: 100%|██████████| 100/100 [00:17<00:00,  5.81it/s]\n",
            "episode:   1%|          | 1/100 [00:00<00:17,  5.76it/s]"
          ],
          "name": "stderr"
        },
        {
          "output_type": "stream",
          "text": [
            "[epoch 24/30] => loss: 0.22730, acc: 0.92292\n"
          ],
          "name": "stdout"
        },
        {
          "output_type": "stream",
          "text": [
            "episode: 100%|██████████| 100/100 [00:17<00:00,  5.79it/s]\n",
            "episode:   1%|          | 1/100 [00:00<00:16,  5.89it/s]"
          ],
          "name": "stderr"
        },
        {
          "output_type": "stream",
          "text": [
            "[epoch 25/30] => loss: 0.06508, acc: 0.97917\n"
          ],
          "name": "stdout"
        },
        {
          "output_type": "stream",
          "text": [
            "episode: 100%|██████████| 100/100 [00:17<00:00,  5.79it/s]\n",
            "episode:   1%|          | 1/100 [00:00<00:16,  5.89it/s]"
          ],
          "name": "stderr"
        },
        {
          "output_type": "stream",
          "text": [
            "[epoch 26/30] => loss: 0.16166, acc: 0.94583\n"
          ],
          "name": "stdout"
        },
        {
          "output_type": "stream",
          "text": [
            "episode: 100%|██████████| 100/100 [00:17<00:00,  5.79it/s]\n",
            "episode:   1%|          | 1/100 [00:00<00:17,  5.82it/s]"
          ],
          "name": "stderr"
        },
        {
          "output_type": "stream",
          "text": [
            "[epoch 27/30] => loss: 0.09241, acc: 0.97292\n"
          ],
          "name": "stdout"
        },
        {
          "output_type": "stream",
          "text": [
            "episode: 100%|██████████| 100/100 [00:17<00:00,  5.81it/s]\n",
            "episode:   1%|          | 1/100 [00:00<00:16,  5.91it/s]"
          ],
          "name": "stderr"
        },
        {
          "output_type": "stream",
          "text": [
            "[epoch 28/30] => loss: 0.10521, acc: 0.96875\n"
          ],
          "name": "stdout"
        },
        {
          "output_type": "stream",
          "text": [
            "episode: 100%|██████████| 100/100 [00:17<00:00,  5.78it/s]\n",
            "episode:   1%|          | 1/100 [00:00<00:17,  5.68it/s]"
          ],
          "name": "stderr"
        },
        {
          "output_type": "stream",
          "text": [
            "[epoch 29/30] => loss: 0.08369, acc: 0.97500\n"
          ],
          "name": "stdout"
        },
        {
          "output_type": "stream",
          "text": [
            "episode: 100%|██████████| 100/100 [00:17<00:00,  5.79it/s]"
          ],
          "name": "stderr"
        },
        {
          "output_type": "stream",
          "text": [
            "[epoch 30/30] => loss: 0.10047, acc: 0.96667\n",
            "CPU times: user 4min 36s, sys: 2min 24s, total: 7min\n",
            "Wall time: 8min 38s\n"
          ],
          "name": "stdout"
        },
        {
          "output_type": "stream",
          "text": [
            "\n"
          ],
          "name": "stderr"
        }
      ]
    },
    {
      "metadata": {
        "id": "ax4DerMrScs-",
        "colab_type": "code",
        "colab": {
          "autoexec": {
            "startup": false,
            "wait_interval": 0
          },
          "output_extras": [
            {
              "item_id": 1
            },
            {
              "item_id": 2
            }
          ],
          "base_uri": "https://localhost:8080/",
          "height": 571
        },
        "outputId": "f6ef041a-1777-47ef-e15c-0fe823cb0cf0",
        "executionInfo": {
          "status": "ok",
          "timestamp": 1518882666824,
          "user_tz": -60,
          "elapsed": 1055,
          "user": {
            "displayName": "Jakub Bartczuk",
            "photoUrl": "//lh6.googleusercontent.com/-sjx_GV6EJq0/AAAAAAAAAAI/AAAAAAAAAOI/7RdwrdXKVSA/s50-c-k-no/photo.jpg",
            "userId": "112982680208866012419"
          }
        }
      },
      "cell_type": "code",
      "source": [
        "for name, metric in zip([\"Accuracy\", \"Loss\"], [train_accs, train_losses]):\n",
        "  plt.plot(metric)\n",
        "  plt.title(name)\n",
        "  plt.xticks(range(0, n_epochs * n_episodes + 1, n_episodes * 5), range(0, n_epochs + 1, 5))\n",
        "  plt.xlabel(\"epoch\")\n",
        "  plt.show()"
      ],
      "execution_count": 12,
      "outputs": [
        {
          "output_type": "display_data",
          "data": {
            "image/png": "[encoded data removed]",
            "text/plain": [
              "<matplotlib.figure.Figure at 0x7f4769938780>"
            ]
          },
          "metadata": {
            "tags": []
          }
        },
        {
          "output_type": "display_data",
          "data": {
            "image/png": "[encoded data removed]",
            "text/plain": [
              "<matplotlib.figure.Figure at 0x7f47699615f8>"
            ]
          },
          "metadata": {
            "tags": []
          }
        }
      ]
    },
    {
      "metadata": {
        "id": "vYNQp_vA1UJ6",
        "colab_type": "code",
        "colab": {
          "autoexec": {
            "startup": false,
            "wait_interval": 0
          }
        }
      },
      "cell_type": "code",
      "source": [
        "n_test_classes = test_dataset.shape[0]\n",
        "n_test_episodes = 100\n",
        "n_test_way = 20\n",
        "n_test_shot = 5\n",
        "n_test_query = 15"
      ],
      "execution_count": 0,
      "outputs": []
    },
    {
      "metadata": {
        "id": "67_RfHMc1UKE",
        "colab_type": "code",
        "colab": {
          "autoexec": {
            "startup": false,
            "wait_interval": 0
          },
          "output_extras": [
            {
              "item_id": 5
            }
          ],
          "base_uri": "https://localhost:8080/",
          "height": 121
        },
        "outputId": "58937624-d8e2-4d24-9cec-806fc896653d",
        "executionInfo": {
          "status": "ok",
          "timestamp": 1518882673169,
          "user_tz": -60,
          "elapsed": 3522,
          "user": {
            "displayName": "Jakub Bartczuk",
            "photoUrl": "//lh6.googleusercontent.com/-sjx_GV6EJq0/AAAAAAAAAAI/AAAAAAAAAOI/7RdwrdXKVSA/s50-c-k-no/photo.jpg",
            "userId": "112982680208866012419"
          }
        }
      },
      "cell_type": "code",
      "source": [
        "print('Testing...')\n",
        "avg_acc = 0.\n",
        "\n",
        "for epi in range(n_test_episodes):\n",
        "    epi_classes = np.random.permutation(n_test_classes)[:n_test_way]\n",
        "    support = np.zeros([n_test_way, n_test_shot, im_height, im_width], dtype=np.float32)\n",
        "    query = np.zeros([n_test_way, n_test_query, im_height, im_width], dtype=np.float32)\n",
        "    \n",
        "    for i, epi_cls in enumerate(epi_classes):\n",
        "        selected = np.random.permutation(n_examples)[:n_test_shot + n_test_query]\n",
        "        support[i] = test_dataset[epi_cls, selected[:n_test_shot]]\n",
        "        query[i] = test_dataset[epi_cls, selected[n_test_shot:]]\n",
        "    support = np.expand_dims(support, axis=-1)\n",
        "    query = np.expand_dims(query, axis=-1)\n",
        "    labels = np.tile(np.arange(n_test_way)[:, np.newaxis], (1, n_test_query)).astype(np.uint8)\n",
        "    ls, ac = sess.run([ce_loss, acc], feed_dict={x: support, q: query, y:labels, training:False})\n",
        "    avg_acc += ac\n",
        "    \n",
        "    if (epi+1) % 25 == 0:\n",
        "        print('[test episode {}/{}] => loss: {:.5f}, acc: {:.5f}'.format(epi+1, n_test_episodes, ls, ac))\n",
        "\n",
        "avg_acc /= n_test_episodes\n",
        "print('Average Test Accuracy: {:.5f}'.format(avg_acc))"
      ],
      "execution_count": 14,
      "outputs": [
        {
          "output_type": "stream",
          "text": [
            "Testing...\n",
            "[test episode 25/100] => loss: 0.01606, acc: 0.99667\n",
            "[test episode 50/100] => loss: 0.05649, acc: 0.99000\n",
            "[test episode 75/100] => loss: 0.04186, acc: 0.98667\n",
            "[test episode 100/100] => loss: 0.08889, acc: 0.98667\n",
            "Average Test Accuracy: 0.98610\n"
          ],
          "name": "stdout"
        }
      ]
    }
  ]
}