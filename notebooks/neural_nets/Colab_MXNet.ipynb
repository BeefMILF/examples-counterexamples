{
  "nbformat": 4,
  "nbformat_minor": 0,
  "metadata": {
    "colab": {
      "name": "Colab MXNet.ipynb",
      "version": "0.3.2",
      "views": {},
      "default_view": {},
      "provenance": [],
      "collapsed_sections": []
    },
    "kernelspec": {
      "name": "python3",
      "display_name": "Python 3"
    },
    "accelerator": "GPU"
  },
  "cells": [
    {
      "metadata": {
        "id": "n3UXQ8SCPJEL",
        "colab_type": "text"
      },
      "cell_type": "markdown",
      "source": [
        "# Setup MXNet with GPU support on Google Colab\n",
        "\n",
        "* Enable GPU backend.\n",
        "* Run the following cell, it should output `TF_CUDA_VERSION \"x.x\"`."
      ]
    },
    {
      "metadata": {
        "id": "MwoIDXJ9PGAl",
        "colab_type": "code",
        "colab": {
          "autoexec": {
            "startup": false,
            "wait_interval": 0
          },
          "output_extras": [
            {
              "item_id": 1
            }
          ],
          "base_uri": "https://localhost:8080/",
          "height": 34
        },
        "outputId": "0a29a721-5497-415a-bc21-5d787f4ee068",
        "executionInfo": {
          "status": "ok",
          "timestamp": 1522956265051,
          "user_tz": -120,
          "elapsed": 1826,
          "user": {
            "displayName": "Jakub Bartczuk",
            "photoUrl": "//lh6.googleusercontent.com/-sjx_GV6EJq0/AAAAAAAAAAI/AAAAAAAAAOI/7RdwrdXKVSA/s50-c-k-no/photo.jpg",
            "userId": "112982680208866012419"
          }
        }
      },
      "cell_type": "code",
      "source": [
        "!cat /usr/local/lib/python3.6/dist-packages/external/local_config_cuda/cuda/cuda/cuda_config.h | grep TF_CUDA_VERSION"
      ],
      "execution_count": 1,
      "outputs": [
        {
          "output_type": "stream",
          "text": [
            "#define TF_CUDA_VERSION \"8.0\"\r\n"
          ],
          "name": "stdout"
        }
      ]
    },
    {
      "metadata": {
        "id": "kQGLSNzRQW_f",
        "colab_type": "text"
      },
      "cell_type": "markdown",
      "source": [
        "Use the version to install appropriate `mxnet` package."
      ]
    },
    {
      "metadata": {
        "id": "y_WEUariOu1S",
        "colab_type": "code",
        "colab": {
          "autoexec": {
            "startup": false,
            "wait_interval": 0
          }
        }
      },
      "cell_type": "code",
      "source": [
        "!pip install mxnet-cu80"
      ],
      "execution_count": 0,
      "outputs": []
    },
    {
      "metadata": {
        "id": "2lYV6cTdQhXM",
        "colab_type": "text"
      },
      "cell_type": "markdown",
      "source": [
        "Test the installation."
      ]
    },
    {
      "metadata": {
        "id": "XlNALn8OLYAE",
        "colab_type": "code",
        "colab": {
          "autoexec": {
            "startup": false,
            "wait_interval": 0
          }
        }
      },
      "cell_type": "code",
      "source": [
        "import mxnet as mx"
      ],
      "execution_count": 0,
      "outputs": []
    },
    {
      "metadata": {
        "id": "e4GDiVk1LTVC",
        "colab_type": "code",
        "colab": {
          "autoexec": {
            "startup": false,
            "wait_interval": 0
          },
          "output_extras": [
            {
              "item_id": 1
            }
          ],
          "base_uri": "https://localhost:8080/",
          "height": 51
        },
        "outputId": "3ca5848d-18c0-459c-9de1-66d50ae3e490",
        "executionInfo": {
          "status": "ok",
          "timestamp": 1522956229006,
          "user_tz": -120,
          "elapsed": 2272,
          "user": {
            "displayName": "Jakub Bartczuk",
            "photoUrl": "//lh6.googleusercontent.com/-sjx_GV6EJq0/AAAAAAAAAAI/AAAAAAAAAOI/7RdwrdXKVSA/s50-c-k-no/photo.jpg",
            "userId": "112982680208866012419"
          }
        }
      },
      "cell_type": "code",
      "source": [
        "a = mx.nd.ones((2, 3), mx.gpu())\n",
        "b = a * 2 + 1\n",
        "b.asnumpy()"
      ],
      "execution_count": 4,
      "outputs": [
        {
          "output_type": "execute_result",
          "data": {
            "text/plain": [
              "array([[ 3.,  3.,  3.],\n",
              "       [ 3.,  3.,  3.]], dtype=float32)"
            ]
          },
          "metadata": {
            "tags": []
          },
          "execution_count": 4
        }
      ]
    },
    {
      "metadata": {
        "id": "pvquPzK3QjtA",
        "colab_type": "text"
      },
      "cell_type": "markdown",
      "source": [
        "???\n",
        "\n",
        "PROFIT!"
      ]
    }
  ]
}