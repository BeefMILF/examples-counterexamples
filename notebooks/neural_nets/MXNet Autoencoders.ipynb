{
 "cells": [
  {
   "cell_type": "code",
   "execution_count": 1,
   "metadata": {
    "collapsed": true
   },
   "outputs": [],
   "source": [
    "from __future__ import print_function\n",
    "\n",
    "import logging\n",
    "import sys\n",
    "root_logger = logging.getLogger()\n",
    "stdout_handler = logging.StreamHandler(sys.stdout)\n",
    "root_logger.addHandler(stdout_handler)\n",
    "root_logger.setLevel(logging.DEBUG)\n",
    "\n",
    "import mxnet as mx\n",
    "from mxnet import nd, autograd, sym, mod\n",
    "import numpy as np\n",
    "\n",
    "%matplotlib inline\n",
    "import matplotlib.pyplot as plt\n",
    "\n",
    "from src.fetch_mnist import preprocessed_mnist"
   ]
  },
  {
   "cell_type": "code",
   "execution_count": 2,
   "metadata": {},
   "outputs": [
    {
     "name": "stderr",
     "output_type": "stream",
     "text": [
      "/opt/anaconda3/envs/nnets/lib/python3.5/site-packages/sklearn/utils/validation.py:429: DataConversionWarning: Data with input dtype uint8 was converted to float64 by StandardScaler.\n",
      "  warnings.warn(msg, _DataConversionWarning)\n"
     ]
    }
   ],
   "source": [
    "from sklearn.model_selection import train_test_split\n",
    "\n",
    "X_train, X_test, y_train, y_test = preprocessed_mnist(random_state=0)\n",
    "X_test, X_valid, y_test, y_valid = train_test_split(X_test, y_test, test_size=0.5) \n",
    "category_count = len(np.unique(y_train))\n",
    "\n",
    "def data_iter(X, y, batch_size=250):\n",
    "  batch_size = min(X.shape[0], batch_size)\n",
    "  return mx.io.NDArrayIter(\n",
    "    data=nd.array(X),\n",
    "    label=nd.array(X),\n",
    "    batch_size=batch_size,\n",
    "    label_name='data')\n",
    "\n",
    "train_iter = data_iter(X_train, y_train)\n",
    "valid_iter = data_iter(X_valid, y_valid)\n",
    "test_iter = data_iter(X_test, y_test)"
   ]
  },
  {
   "cell_type": "markdown",
   "metadata": {},
   "source": [
    "### We'll write autoencoders in MXNet.\n",
    "\n",
    "Let's start with simple autoencoder - no regularization or fancy optimization techniques."
   ]
  },
  {
   "cell_type": "code",
   "execution_count": 3,
   "metadata": {
    "collapsed": true
   },
   "outputs": [],
   "source": [
    "input_size = 784\n",
    "hidden_size = 128 \n",
    "\n",
    "training_param_args = {\n",
    "  'num_epoch': 25,\n",
    "  'eval_metric': 'rmse',\n",
    "  'optimizer_params':{'learning_rate': 0.33}\n",
    "}"
   ]
  },
  {
   "cell_type": "code",
   "execution_count": 4,
   "metadata": {},
   "outputs": [],
   "source": [
    "def autoencoder_loss():\n",
    "  data = sym.Variable('data')\n",
    "  weights = sym.Variable(name='weighs', shape=(input_size, hidden_size), init=mx.init.Xavier())\n",
    "  bias = sym.Variable(name='bias', shape=(hidden_size,), init=mx.init.Zero())\n",
    "  bias_out = sym.Variable(name='bias_out', shape=(input_size,), init=mx.init.Zero())\n",
    "  hid_in = sym.broadcast_add(\n",
    "    sym.dot(data, weights, name='hidden_in'),\n",
    "    bias\n",
    "  )\n",
    "  codes = sym.Activation(hid_in, act_type='relu', name='codes')\n",
    "  hid_out = sym.dot(codes, weights.transpose(), name='hidden_out')\n",
    "  out = sym.broadcast_add(\n",
    "    sym.Activation(hid_out, act_type='relu', name='out'),\n",
    "    bias_out\n",
    "  )\n",
    "  return mx.symbol.MakeLoss(\n",
    "    mx.symbol.LinearRegressionOutput(data=out, label=data)\n",
    "  )\n",
    "\n",
    "autoencoder = mod.Module(symbol=autoencoder_loss(), label_names=['data'])"
   ]
  },
  {
   "cell_type": "code",
   "execution_count": 5,
   "metadata": {
    "scrolled": false
   },
   "outputs": [
    {
     "name": "stdout",
     "output_type": "stream",
     "text": [
      "Epoch[0] Train-rmse=0.869617\n",
      "Epoch[0] Time cost=3.050\n",
      "Epoch[0] Validation-rmse=0.997464\n",
      "Epoch[1] Train-rmse=0.793274\n",
      "Epoch[1] Time cost=2.855\n",
      "Epoch[1] Validation-rmse=0.930870\n",
      "Epoch[2] Train-rmse=0.733324\n",
      "Epoch[2] Time cost=2.896\n",
      "Epoch[2] Validation-rmse=0.879963\n",
      "Epoch[3] Train-rmse=0.687949\n",
      "Epoch[3] Time cost=3.132\n",
      "Epoch[3] Validation-rmse=0.838987\n",
      "Epoch[4] Train-rmse=0.651626\n",
      "Epoch[4] Time cost=3.369\n",
      "Epoch[4] Validation-rmse=0.803660\n",
      "Epoch[5] Train-rmse=0.621130\n",
      "Epoch[5] Time cost=2.866\n",
      "Epoch[5] Validation-rmse=0.772173\n",
      "Epoch[6] Train-rmse=0.594812\n",
      "Epoch[6] Time cost=2.926\n",
      "Epoch[6] Validation-rmse=0.743742\n",
      "Epoch[7] Train-rmse=0.571746\n",
      "Epoch[7] Time cost=3.305\n",
      "Epoch[7] Validation-rmse=0.718081\n",
      "Epoch[8] Train-rmse=0.551363\n",
      "Epoch[8] Time cost=3.330\n",
      "Epoch[8] Validation-rmse=0.694879\n",
      "Epoch[9] Train-rmse=0.533298\n",
      "Epoch[9] Time cost=2.988\n",
      "Epoch[9] Validation-rmse=0.673744\n",
      "Epoch[10] Train-rmse=0.517202\n",
      "Epoch[10] Time cost=3.245\n",
      "Epoch[10] Validation-rmse=0.654385\n",
      "Epoch[11] Train-rmse=0.502889\n",
      "Epoch[11] Time cost=3.069\n",
      "Epoch[11] Validation-rmse=0.636655\n",
      "Epoch[12] Train-rmse=0.490061\n",
      "Epoch[12] Time cost=3.004\n",
      "Epoch[12] Validation-rmse=0.620349\n",
      "Epoch[13] Train-rmse=0.478469\n",
      "Epoch[13] Time cost=3.316\n",
      "Epoch[13] Validation-rmse=0.605352\n",
      "Epoch[14] Train-rmse=0.467919\n",
      "Epoch[14] Time cost=3.181\n",
      "Epoch[14] Validation-rmse=0.591532\n",
      "Epoch[15] Train-rmse=0.458260\n",
      "Epoch[15] Time cost=3.199\n",
      "Epoch[15] Validation-rmse=0.578817\n",
      "Epoch[16] Train-rmse=0.449355\n",
      "Epoch[16] Time cost=2.916\n",
      "Epoch[16] Validation-rmse=0.567119\n",
      "Epoch[17] Train-rmse=0.441072\n",
      "Epoch[17] Time cost=2.943\n",
      "Epoch[17] Validation-rmse=0.556367\n",
      "Epoch[18] Train-rmse=0.433371\n",
      "Epoch[18] Time cost=3.123\n",
      "Epoch[18] Validation-rmse=0.546604\n",
      "Epoch[19] Train-rmse=0.426257\n",
      "Epoch[19] Time cost=3.099\n",
      "Epoch[19] Validation-rmse=0.537756\n",
      "Epoch[20] Train-rmse=0.419664\n",
      "Epoch[20] Time cost=3.302\n",
      "Epoch[20] Validation-rmse=0.529722\n",
      "Epoch[21] Train-rmse=0.413528\n",
      "Epoch[21] Time cost=4.988\n",
      "Epoch[21] Validation-rmse=0.522389\n",
      "Epoch[22] Train-rmse=0.407804\n",
      "Epoch[22] Time cost=5.122\n",
      "Epoch[22] Validation-rmse=0.515672\n",
      "Epoch[23] Train-rmse=0.402452\n",
      "Epoch[23] Time cost=3.806\n",
      "Epoch[23] Validation-rmse=0.509492\n",
      "Epoch[24] Train-rmse=0.397439\n",
      "Epoch[24] Time cost=5.378\n",
      "Epoch[24] Validation-rmse=0.503797\n",
      "CPU times: user 2min 59s, sys: 5.15 s, total: 3min 4s\n",
      "Wall time: 1min 28s\n"
     ]
    }
   ],
   "source": [
    "%time autoencoder.fit(train_iter, eval_data=valid_iter, **training_param_args)"
   ]
  },
  {
   "cell_type": "code",
   "execution_count": 7,
   "metadata": {},
   "outputs": [
    {
     "data": {
      "text/plain": [
       "[('rmse', 0.45481620516095844)]"
      ]
     },
     "execution_count": 7,
     "metadata": {},
     "output_type": "execute_result"
    }
   ],
   "source": [
    "reconstructed_digits = autoencoder.predict(valid_iter)\n",
    "autoencoder.score(test_iter, eval_metric='rmse')"
   ]
  },
  {
   "cell_type": "code",
   "execution_count": 8,
   "metadata": {
    "collapsed": true
   },
   "outputs": [],
   "source": [
    "def plot_two_img_rows(X1, X2, title, j=5):\n",
    "  f, axes = plt.subplots(2, j, figsize=(20, 40 / j))\n",
    "  f.suptitle(title)\n",
    "  for k, x in zip(range(2), [X1, X2]):\n",
    "    for i in range(j):\n",
    "      ax = axes[k, i]\n",
    "      img = x[i, :].reshape(28, 28)\n",
    "      ax.imshow(img, cmap='gray')\n",
    "      ax.axis('off')\n",
    "  plt.show()"
   ]
  },
  {
   "cell_type": "code",
   "execution_count": 9,
   "metadata": {
    "scrolled": true
   },
   "outputs": [
    {
     "data": {
      "image/png": "[encoded data removed]",
      "text/plain": [
       "<matplotlib.figure.Figure at 0x7f16a2dcf780>"
      ]
     },
     "metadata": {},
     "output_type": "display_data"
    }
   ],
   "source": [
    "reconstructed_digit_examples = reconstructed_digits[:10, :].asnumpy()\n",
    "\n",
    "plot_two_img_rows(reconstructed_digit_examples[:10], X_valid[:10], 'autoencoder reconstruction')"
   ]
  },
  {
   "cell_type": "markdown",
   "metadata": {},
   "source": [
    "### Adding dropout "
   ]
  },
  {
   "cell_type": "code",
   "execution_count": 10,
   "metadata": {
    "collapsed": true
   },
   "outputs": [],
   "source": [
    "def dropout_autoencoder_loss(p):\n",
    "  data = sym.Variable('data')\n",
    "  weights = sym.Dropout(\n",
    "    p=p, \n",
    "    data=sym.Variable(\n",
    "       name='weighs',\n",
    "       shape=(input_size, hidden_size),\n",
    "       init=mx.init.Xavier(),\n",
    "       dtype='float32')\n",
    "  )\n",
    "  bias = sym.Variable(name='bias', shape=(hidden_size,), init=mx.init.Zero())\n",
    "  hid_in = sym.broadcast_add(\n",
    "    sym.dot(data, weights, name='hidden_in'),\n",
    "    bias\n",
    "  )\n",
    "  codes = sym.Activation(hid_in, act_type='relu', name='codes')\n",
    "  hid_out = sym.dot(codes, weights.transpose(), name='hidden_out') \n",
    "  out = sym.Activation(hid_out, act_type='relu', name='out')\n",
    "  return mx.symbol.MakeLoss(\n",
    "    mx.symbol.LinearRegressionOutput(data=out, label=data)\n",
    "  )\n",
    "\n",
    "dropout_autoencoder = mod.Module(symbol=dropout_autoencoder_loss(p=0.5), label_names=['data'])"
   ]
  },
  {
   "cell_type": "code",
   "execution_count": 11,
   "metadata": {
    "scrolled": true
   },
   "outputs": [
    {
     "name": "stdout",
     "output_type": "stream",
     "text": [
      "Epoch[0] Train-rmse=0.904448\n",
      "Epoch[0] Time cost=1.995\n",
      "Epoch[0] Validation-rmse=1.052655\n",
      "Epoch[1] Train-rmse=0.862056\n",
      "Epoch[1] Time cost=2.071\n",
      "Epoch[1] Validation-rmse=1.022491\n",
      "Epoch[2] Train-rmse=0.832531\n",
      "Epoch[2] Time cost=2.126\n",
      "Epoch[2] Validation-rmse=0.986441\n",
      "Epoch[3] Train-rmse=0.806050\n",
      "Epoch[3] Time cost=2.267\n",
      "Epoch[3] Validation-rmse=0.953988\n",
      "Epoch[4] Train-rmse=0.781295\n",
      "Epoch[4] Time cost=2.474\n",
      "Epoch[4] Validation-rmse=0.928271\n",
      "Epoch[5] Train-rmse=0.763581\n",
      "Epoch[5] Time cost=1.985\n",
      "Epoch[5] Validation-rmse=0.909450\n",
      "Epoch[6] Train-rmse=0.747063\n",
      "Epoch[6] Time cost=1.905\n",
      "Epoch[6] Validation-rmse=0.896946\n",
      "Epoch[7] Train-rmse=0.734741\n",
      "Epoch[7] Time cost=2.065\n",
      "Epoch[7] Validation-rmse=0.878686\n",
      "Epoch[8] Train-rmse=0.725149\n",
      "Epoch[8] Time cost=2.663\n",
      "Epoch[8] Validation-rmse=0.860739\n",
      "Epoch[9] Train-rmse=0.713816\n",
      "Epoch[9] Time cost=2.140\n",
      "Epoch[9] Validation-rmse=0.856482\n",
      "Epoch[10] Train-rmse=0.703874\n",
      "Epoch[10] Time cost=2.021\n",
      "Epoch[10] Validation-rmse=0.842519\n",
      "Epoch[11] Train-rmse=0.695975\n",
      "Epoch[11] Time cost=1.928\n",
      "Epoch[11] Validation-rmse=0.838452\n",
      "Epoch[12] Train-rmse=0.688698\n",
      "Epoch[12] Time cost=2.105\n",
      "Epoch[12] Validation-rmse=0.825776\n",
      "Epoch[13] Train-rmse=0.682983\n",
      "Epoch[13] Time cost=2.050\n",
      "Epoch[13] Validation-rmse=0.822180\n",
      "Epoch[14] Train-rmse=0.675908\n",
      "Epoch[14] Time cost=2.301\n",
      "Epoch[14] Validation-rmse=0.818955\n",
      "Epoch[15] Train-rmse=0.674375\n",
      "Epoch[15] Time cost=2.210\n",
      "Epoch[15] Validation-rmse=0.804928\n",
      "Epoch[16] Train-rmse=0.667342\n",
      "Epoch[16] Time cost=2.280\n",
      "Epoch[16] Validation-rmse=0.801946\n",
      "Epoch[17] Train-rmse=0.663258\n",
      "Epoch[17] Time cost=2.418\n",
      "Epoch[17] Validation-rmse=0.802176\n",
      "Epoch[18] Train-rmse=0.658367\n",
      "Epoch[18] Time cost=2.232\n",
      "Epoch[18] Validation-rmse=0.789154\n",
      "Epoch[19] Train-rmse=0.656240\n",
      "Epoch[19] Time cost=2.340\n",
      "Epoch[19] Validation-rmse=0.781371\n",
      "Epoch[20] Train-rmse=0.651890\n",
      "Epoch[20] Time cost=2.252\n",
      "Epoch[20] Validation-rmse=0.778922\n",
      "Epoch[21] Train-rmse=0.649057\n",
      "Epoch[21] Time cost=2.374\n",
      "Epoch[21] Validation-rmse=0.773528\n",
      "Epoch[22] Train-rmse=0.645415\n",
      "Epoch[22] Time cost=2.451\n",
      "Epoch[22] Validation-rmse=0.773599\n",
      "Epoch[23] Train-rmse=0.643826\n",
      "Epoch[23] Time cost=2.062\n",
      "Epoch[23] Validation-rmse=0.774087\n",
      "Epoch[24] Train-rmse=0.643957\n",
      "Epoch[24] Time cost=2.298\n",
      "Epoch[24] Validation-rmse=0.780537\n",
      "CPU times: user 2min 3s, sys: 5.44 s, total: 2min 9s\n",
      "Wall time: 58.4 s\n"
     ]
    }
   ],
   "source": [
    "%time dropout_autoencoder.fit(train_iter, eval_data=valid_iter, **training_param_args)"
   ]
  },
  {
   "cell_type": "code",
   "execution_count": 12,
   "metadata": {},
   "outputs": [
    {
     "data": {
      "text/plain": [
       "[('rmse', 0.7029089501925877)]"
      ]
     },
     "execution_count": 12,
     "metadata": {},
     "output_type": "execute_result"
    }
   ],
   "source": [
    "dropout_reconstructed_digits = dropout_autoencoder.predict(valid_iter)\n",
    "dropout_autoencoder.score(test_iter, eval_metric='rmse')"
   ]
  },
  {
   "cell_type": "code",
   "execution_count": 13,
   "metadata": {},
   "outputs": [
    {
     "data": {
      "image/png": "[encoded data removed]",
      "text/plain": [
       "<matplotlib.figure.Figure at 0x7f168453c940>"
      ]
     },
     "metadata": {},
     "output_type": "display_data"
    }
   ],
   "source": [
    "dropout_reconstructed_digit_examples = dropout_reconstructed_digits[:10, :].asnumpy()\n",
    "\n",
    "plot_two_img_rows(dropout_reconstructed_digit_examples[:10], reconstructed_digit_examples[:10], 'autoencoder (with dropout) reconstruction \\nlower row: autoencoder reconstruction')"
   ]
  },
  {
   "cell_type": "markdown",
   "metadata": {},
   "source": [
    "### Denoising autoencoder (with continuous, normally distributed noise)"
   ]
  },
  {
   "cell_type": "code",
   "execution_count": 14,
   "metadata": {},
   "outputs": [],
   "source": [
    "def denoising_autoencoder_loss(sigma):\n",
    "  data = sym.Variable('data')\n",
    "  noise = sym.Variable('noise', init=mx.init.Normal(sigma), shape=(input_size,), )\n",
    "  noisy_data = sym.broadcast_plus(data, noise)\n",
    "  bias = sym.Variable('bias', init=mx.init.Zero(), shape=(hidden_size,), )\n",
    "  weights = sym.Variable(\n",
    "       name='weighs',\n",
    "       shape=(input_size, hidden_size),\n",
    "       init=mx.init.Xavier(),\n",
    "       dtype='float32')\n",
    "  hid_in = sym.broadcast_add(\n",
    "    sym.dot(noisy_data, weights, name='hidden_in'),\n",
    "    bias\n",
    "  )\n",
    "  codes = sym.Activation(hid_in, act_type='relu', name='codes')\n",
    "  hid_out = sym.dot(codes, weights.transpose(), name='hidden_out')\n",
    "  out = sym.Activation(hid_out, act_type='relu', name='out')\n",
    "  return mx.symbol.MakeLoss(\n",
    "    mx.symbol.LinearRegressionOutput(data=out, label=data)\n",
    "  )\n",
    "\n",
    "denoising_autoencoder = mod.Module(\n",
    "  symbol=denoising_autoencoder_loss(sigma=0.05),\n",
    "  label_names=['data'],\n",
    "  fixed_param_names=['noise'])"
   ]
  },
  {
   "cell_type": "code",
   "execution_count": 15,
   "metadata": {},
   "outputs": [
    {
     "name": "stdout",
     "output_type": "stream",
     "text": [
      "Epoch[0] Train-rmse=0.867985\n",
      "Epoch[0] Time cost=1.943\n",
      "Epoch[0] Validation-rmse=0.998614\n",
      "Epoch[1] Train-rmse=0.795334\n",
      "Epoch[1] Time cost=1.849\n",
      "Epoch[1] Validation-rmse=0.936793\n",
      "Epoch[2] Train-rmse=0.740913\n",
      "Epoch[2] Time cost=2.623\n",
      "Epoch[2] Validation-rmse=0.890982\n",
      "Epoch[3] Train-rmse=0.701096\n",
      "Epoch[3] Time cost=2.110\n",
      "Epoch[3] Validation-rmse=0.854347\n",
      "Epoch[4] Train-rmse=0.670181\n",
      "Epoch[4] Time cost=1.880\n",
      "Epoch[4] Validation-rmse=0.822929\n",
      "Epoch[5] Train-rmse=0.645088\n",
      "Epoch[5] Time cost=1.914\n",
      "Epoch[5] Validation-rmse=0.795266\n",
      "Epoch[6] Train-rmse=0.624302\n",
      "Epoch[6] Time cost=2.411\n",
      "Epoch[6] Validation-rmse=0.770842\n",
      "Epoch[7] Train-rmse=0.606888\n",
      "Epoch[7] Time cost=2.067\n",
      "Epoch[7] Validation-rmse=0.749405\n",
      "Epoch[8] Train-rmse=0.592237\n",
      "Epoch[8] Time cost=2.252\n",
      "Epoch[8] Validation-rmse=0.730677\n",
      "Epoch[9] Train-rmse=0.579844\n",
      "Epoch[9] Time cost=2.661\n",
      "Epoch[9] Validation-rmse=0.714199\n",
      "Epoch[10] Train-rmse=0.569271\n",
      "Epoch[10] Time cost=2.478\n",
      "Epoch[10] Validation-rmse=0.699535\n",
      "Epoch[11] Train-rmse=0.560158\n",
      "Epoch[11] Time cost=2.180\n",
      "Epoch[11] Validation-rmse=0.686385\n",
      "Epoch[12] Train-rmse=0.552227\n",
      "Epoch[12] Time cost=2.056\n",
      "Epoch[12] Validation-rmse=0.674578\n",
      "Epoch[13] Train-rmse=0.545260\n",
      "Epoch[13] Time cost=2.184\n",
      "Epoch[13] Validation-rmse=0.663927\n",
      "Epoch[14] Train-rmse=0.539098\n",
      "Epoch[14] Time cost=2.710\n",
      "Epoch[14] Validation-rmse=0.654317\n",
      "Epoch[15] Train-rmse=0.533608\n",
      "Epoch[15] Time cost=2.208\n",
      "Epoch[15] Validation-rmse=0.645631\n",
      "Epoch[16] Train-rmse=0.528686\n",
      "Epoch[16] Time cost=1.874\n",
      "Epoch[16] Validation-rmse=0.637801\n",
      "Epoch[17] Train-rmse=0.524258\n",
      "Epoch[17] Time cost=1.801\n",
      "Epoch[17] Validation-rmse=0.630787\n",
      "Epoch[18] Train-rmse=0.520263\n",
      "Epoch[18] Time cost=1.850\n",
      "Epoch[18] Validation-rmse=0.624529\n",
      "Epoch[19] Train-rmse=0.516641\n",
      "Epoch[19] Time cost=1.700\n",
      "Epoch[19] Validation-rmse=0.618836\n",
      "Epoch[20] Train-rmse=0.513340\n",
      "Epoch[20] Time cost=1.705\n",
      "Epoch[20] Validation-rmse=0.613715\n",
      "Epoch[21] Train-rmse=0.510321\n",
      "Epoch[21] Time cost=1.716\n",
      "Epoch[21] Validation-rmse=0.609090\n",
      "Epoch[22] Train-rmse=0.507547\n",
      "Epoch[22] Time cost=1.765\n",
      "Epoch[22] Validation-rmse=0.604911\n",
      "Epoch[23] Train-rmse=0.504992\n",
      "Epoch[23] Time cost=1.734\n",
      "Epoch[23] Validation-rmse=0.601100\n",
      "Epoch[24] Train-rmse=0.502622\n",
      "Epoch[24] Time cost=1.765\n",
      "Epoch[24] Validation-rmse=0.597606\n",
      "CPU times: user 1min 55s, sys: 5.82 s, total: 2min\n",
      "Wall time: 55 s\n"
     ]
    }
   ],
   "source": [
    "%time denoising_autoencoder.fit(train_iter, eval_data=valid_iter, **training_param_args)"
   ]
  },
  {
   "cell_type": "code",
   "execution_count": 16,
   "metadata": {},
   "outputs": [
    {
     "data": {
      "text/plain": [
       "[('rmse', 0.54791859218052452)]"
      ]
     },
     "execution_count": 16,
     "metadata": {},
     "output_type": "execute_result"
    }
   ],
   "source": [
    "denoising_reconstructed_digits = denoising_autoencoder.predict(valid_iter)\n",
    "denoising_autoencoder.score(test_iter, eval_metric='rmse')"
   ]
  },
  {
   "cell_type": "code",
   "execution_count": 17,
   "metadata": {},
   "outputs": [
    {
     "data": {
      "image/png": "[encoded data removed]",
      "text/plain": [
       "<matplotlib.figure.Figure at 0x7f168c0d51d0>"
      ]
     },
     "metadata": {},
     "output_type": "display_data"
    }
   ],
   "source": [
    "denoising_reconstructed_digit_examples = denoising_reconstructed_digits[:10, :].asnumpy()\n",
    "\n",
    "plot_two_img_rows(denoising_reconstructed_digit_examples[:10], X_valid[:10], 'autoencoder (with denoising) reconstruction \\nlower row: original images')"
   ]
  }
 ],
 "metadata": {
  "hide_input": false,
  "kernelspec": {
   "display_name": "Python 3",
   "language": "python",
   "name": "python3"
  },
  "language_info": {
   "codemirror_mode": {
    "name": "ipython",
    "version": 3
   },
   "file_extension": ".py",
   "mimetype": "text/x-python",
   "name": "python",
   "nbconvert_exporter": "python",
   "pygments_lexer": "ipython3",
   "version": "3.5.3"
  }
 },
 "nbformat": 4,
 "nbformat_minor": 2
}
