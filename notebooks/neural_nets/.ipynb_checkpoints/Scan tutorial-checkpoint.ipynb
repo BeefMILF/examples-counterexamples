{
 "cells": [
  {
   "cell_type": "code",
   "execution_count": 2,
   "metadata": {
    "collapsed": true
   },
   "outputs": [],
   "source": [
    "import theano\n",
    "import theano.tensor as T\n",
    "import numpy as np"
   ]
  },
  {
   "cell_type": "markdown",
   "metadata": {},
   "source": [
    "## From scan's documentation\n",
    "\n",
    "The general order of function parameters to `fn` is:\n",
    "\n",
    "`sequences (if any), prior result(s) (if needed), non-sequences (if any)`\n",
    "\n"
   ]
  },
  {
   "cell_type": "markdown",
   "metadata": {},
   "source": [
    "## Range "
   ]
  },
  {
   "cell_type": "code",
   "execution_count": 3,
   "metadata": {},
   "outputs": [],
   "source": [
    "i = T.iscalar('i')\n",
    "\n",
    "def step(i):\n",
    "  return i + 1\n",
    "\n",
    "o, u = theano.scan(fn=step, n_steps=i, outputs_info=T.zeros(()))\n",
    "\n",
    "theano_range = theano.function(inputs=[i], outputs=o, updates=u)"
   ]
  },
  {
   "cell_type": "code",
   "execution_count": 5,
   "metadata": {},
   "outputs": [
    {
     "data": {
      "text/plain": [
       "array([  1.,   2.,   3.,   4.,   5.,   6.,   7.,   8.,   9.,  10.,  11.,\n",
       "        12.,  13.,  14.,  15.])"
      ]
     },
     "execution_count": 5,
     "metadata": {},
     "output_type": "execute_result"
    }
   ],
   "source": [
    "theano_range(15)"
   ]
  },
  {
   "cell_type": "markdown",
   "metadata": {
    "collapsed": true
   },
   "source": [
    "## Fibonacci\n",
    "\n",
    "This can be also done using `taps` parameter, but this one is simpler."
   ]
  },
  {
   "cell_type": "code",
   "execution_count": 6,
   "metadata": {
    "collapsed": true
   },
   "outputs": [],
   "source": [
    "N = T.iscalar('N')\n",
    "\n",
    "def fib_step(n, n_prev, n_prev_prev):\n",
    "  return n_prev + n_prev_prev, n_prev\n",
    "\n",
    "o, u = theano.scan(fn=fib_step,\n",
    "                  n_steps=N,\n",
    "                  sequences=T.arange(N),\n",
    "                  outputs_info=[1.,1.])\n",
    "\n",
    "theano_fib = theano.function(inputs=[N], outputs=o[1])"
   ]
  },
  {
   "cell_type": "code",
   "execution_count": 7,
   "metadata": {},
   "outputs": [
    {
     "data": {
      "text/plain": [
       "array([  1.,   2.,   3.,   5.,   8.,  13.,  21.,  34.,  55.,  89.], dtype=float32)"
      ]
     },
     "execution_count": 7,
     "metadata": {},
     "output_type": "execute_result"
    }
   ],
   "source": [
    "theano_fib(10)"
   ]
  },
  {
   "cell_type": "markdown",
   "metadata": {},
   "source": [
    "## Smoothing filter"
   ]
  },
  {
   "cell_type": "code",
   "execution_count": 9,
   "metadata": {
    "collapsed": true
   },
   "outputs": [],
   "source": [
    "x = T.vector('x')\n",
    "y = T.scalar('y')\n",
    "alpha = T.scalar('alpha')\n",
    "\n",
    "def filter_step(x_next, y_prev, alpha):\n",
    "  return (1 - alpha) * x_next + alpha * y_prev\n",
    "\n",
    "o, u = theano.scan(fn=filter_step,\n",
    "                   sequences=[x],\n",
    "                   outputs_info=[np.float64(0)],\n",
    "                   non_sequences=[alpha])\n",
    "\n",
    "theano_smoother = theano.function(inputs=[x, alpha], outputs=o)"
   ]
  },
  {
   "cell_type": "code",
   "execution_count": 10,
   "metadata": {
    "collapsed": true
   },
   "outputs": [],
   "source": [
    "noise = np.random.randn(50) / 25 \n",
    "rng = np.linspace(-np.pi, np.pi)\n",
    "x = np.sin(rng) + noise\n"
   ]
  },
  {
   "cell_type": "code",
   "execution_count": 11,
   "metadata": {},
   "outputs": [
    {
     "data": {
      "image/png": "[encoded data removed]",
      "text/plain": [
       "<matplotlib.figure.Figure at 0x7f24511b5d68>"
      ]
     },
     "metadata": {},
     "output_type": "display_data"
    }
   ],
   "source": [
    "import matplotlib.pyplot as plt\n",
    "%matplotlib inline\n",
    "\n",
    "plt.plot(rng, x)\n",
    "plt.plot(rng, theano_smoother(x, 0.6))\n",
    "plt.show()"
   ]
  }
 ],
 "metadata": {
  "hide_input": false,
  "kernelspec": {
   "display_name": "Python 3",
   "language": "python",
   "name": "python3"
  },
  "language_info": {
   "codemirror_mode": {
    "name": "ipython",
    "version": 3
   },
   "file_extension": ".py",
   "mimetype": "text/x-python",
   "name": "python",
   "nbconvert_exporter": "python",
   "pygments_lexer": "ipython3",
   "version": "3.5.3"
  }
 },
 "nbformat": 4,
 "nbformat_minor": 1
}
