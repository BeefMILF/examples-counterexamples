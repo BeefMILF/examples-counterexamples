{
 "cells": [
  {
   "cell_type": "code",
   "execution_count": 1,
   "metadata": {},
   "outputs": [
    {
     "name": "stderr",
     "output_type": "stream",
     "text": [
      "/opt/anaconda3/envs/nnets/lib/python3.5/site-packages/h5py/__init__.py:34: FutureWarning: Conversion of the second argument of issubdtype from `float` to `np.floating` is deprecated. In future, it will be treated as `np.float64 == np.dtype(float).type`.\n",
      "  from ._conv import register_converters as _register_converters\n",
      "Using TensorFlow backend.\n"
     ]
    }
   ],
   "source": [
    "from __future__ import print_function\n",
    "\n",
    "import keras.backend as K\n",
    "from keras.layers import Dense, Input, Activation\n",
    "from keras.models import Model\n",
    "\n",
    "import numpy as np\n",
    "\n",
    "%matplotlib inline\n",
    "import matplotlib.pyplot as plt\n",
    "\n",
    "from src.fetch_mnist import preprocessed_mnist"
   ]
  },
  {
   "cell_type": "markdown",
   "metadata": {},
   "source": [
    "### Useful links\n",
    "\n",
    "# TODO"
   ]
  },
  {
   "cell_type": "markdown",
   "metadata": {},
   "source": [
    "#### Preparing data\n",
    "\n",
    "We'll use MNIST dataset. Examples are standardised according to training data."
   ]
  },
  {
   "cell_type": "code",
   "execution_count": 2,
   "metadata": {},
   "outputs": [
    {
     "name": "stderr",
     "output_type": "stream",
     "text": [
      "/opt/anaconda3/envs/nnets/lib/python3.5/site-packages/sklearn/utils/validation.py:429: DataConversionWarning: Data with input dtype uint8 was converted to float64 by StandardScaler.\n",
      "  warnings.warn(msg, _DataConversionWarning)\n"
     ]
    }
   ],
   "source": [
    "from sklearn.model_selection import train_test_split\n",
    "\n",
    "X_train, X_test, y_train_labels, y_test_labels = preprocessed_mnist(random_state=0)\n",
    "X_test, X_valid, y_test_labels, y_valid_labels = train_test_split(X_test, y_test_labels, test_size=0.5) "
   ]
  },
  {
   "cell_type": "code",
   "execution_count": 3,
   "metadata": {},
   "outputs": [],
   "source": [
    "from sklearn.preprocessing import OneHotEncoder\n",
    "\n",
    "ohe = OneHotEncoder()\n",
    "\n",
    "y_train = ohe.fit_transform(y_train_labels.reshape(-1, 1)).toarray()\n",
    "y_test = ohe.transform(y_test_labels.reshape(-1, 1)).toarray()\n",
    "y_valid = ohe.transform(y_valid_labels.reshape(-1, 1)).toarray()"
   ]
  },
  {
   "cell_type": "markdown",
   "metadata": {},
   "source": [
    "## Logistic regression with softmax using `module` API"
   ]
  },
  {
   "cell_type": "markdown",
   "metadata": {},
   "source": [
    "`keras.layers` contains `Layers` - abstractions that behave like neural network layers, and can be used as functions of tensors (note, for example usage of `Dense` layer), or appended in sequential models.\n",
    "\n",
    "`keras.models` contains `Model` class - it provides high-level functionalities a'la `scikit-learn` estimators. `Model`s wrap Keras tensors. \n",
    "\n",
    "Below is an example of simple *Model* that performs logistic regression (it uses minibatch gradient descent for optimization)."
   ]
  },
  {
   "cell_type": "code",
   "execution_count": 4,
   "metadata": {},
   "outputs": [],
   "source": [
    "input_shape = (X_train.shape[1],)\n",
    "n_classes = y_train.shape[1]\n",
    "\n",
    "softmax_input =  Input(shape=input_shape)\n",
    "softmax_intermediate = Dense(n_classes)(softmax_input)\n",
    "softmax_output = Activation('softmax')(softmax_intermediate) \n",
    "\n",
    "logistic_classifier = Model(inputs=[softmax_input], outputs=[softmax_output])\n",
    "\n",
    "logistic_classifier.compile(optimizer='adam', loss=['categorical_crossentropy'])"
   ]
  },
  {
   "cell_type": "markdown",
   "metadata": {},
   "source": [
    "The following cell contains code that can be passed to our Module's `fit` method. It is used to save per-batch metric (here accuracy is used)."
   ]
  },
  {
   "cell_type": "markdown",
   "metadata": {},
   "source": [
    "#### Training"
   ]
  },
  {
   "cell_type": "code",
   "execution_count": 5,
   "metadata": {
    "scrolled": false
   },
   "outputs": [
    {
     "name": "stdout",
     "output_type": "stream",
     "text": [
      "Train on 56000 samples, validate on 7000 samples\n",
      "Epoch 1/50\n",
      "56000/56000 [==============================] - 2s 27us/step - loss: 0.6299 - val_loss: 0.3664\n",
      "Epoch 2/50\n",
      "56000/56000 [==============================] - 1s 22us/step - loss: 0.3403 - val_loss: 0.3214\n",
      "Epoch 3/50\n",
      "56000/56000 [==============================] - 1s 22us/step - loss: 0.3051 - val_loss: 0.3073\n",
      "Epoch 4/50\n",
      "56000/56000 [==============================] - 1s 22us/step - loss: 0.2884 - val_loss: 0.3034\n",
      "Epoch 5/50\n",
      "56000/56000 [==============================] - 1s 22us/step - loss: 0.2783 - val_loss: 0.3008\n",
      "Epoch 6/50\n",
      "56000/56000 [==============================] - 1s 22us/step - loss: 0.2710 - val_loss: 0.2971\n",
      "Epoch 7/50\n",
      "56000/56000 [==============================] - 1s 22us/step - loss: 0.2655 - val_loss: 0.2994\n",
      "Epoch 8/50\n",
      "56000/56000 [==============================] - 1s 22us/step - loss: 0.2613 - val_loss: 0.2991\n",
      "Epoch 9/50\n",
      "56000/56000 [==============================] - 1s 23us/step - loss: 0.2580 - val_loss: 0.2978\n",
      "Epoch 10/50\n",
      "56000/56000 [==============================] - 1s 22us/step - loss: 0.2552 - val_loss: 0.2999\n",
      "Epoch 11/50\n",
      "56000/56000 [==============================] - 1s 22us/step - loss: 0.2519 - val_loss: 0.3005\n",
      "Epoch 12/50\n",
      "56000/56000 [==============================] - 1s 22us/step - loss: 0.2506 - val_loss: 0.3010\n",
      "Epoch 13/50\n",
      "56000/56000 [==============================] - 1s 22us/step - loss: 0.2480 - val_loss: 0.3060\n",
      "Epoch 14/50\n",
      "56000/56000 [==============================] - 1s 22us/step - loss: 0.2471 - val_loss: 0.3025\n",
      "Epoch 15/50\n",
      "56000/56000 [==============================] - 1s 22us/step - loss: 0.2457 - val_loss: 0.3030\n",
      "Epoch 16/50\n",
      "56000/56000 [==============================] - 1s 22us/step - loss: 0.2437 - val_loss: 0.3036\n",
      "Epoch 17/50\n",
      "56000/56000 [==============================] - 1s 23us/step - loss: 0.2424 - val_loss: 0.3045\n",
      "Epoch 18/50\n",
      "56000/56000 [==============================] - 1s 22us/step - loss: 0.2411 - val_loss: 0.3059\n",
      "Epoch 19/50\n",
      "56000/56000 [==============================] - 1s 22us/step - loss: 0.2403 - val_loss: 0.3082\n",
      "Epoch 20/50\n",
      "56000/56000 [==============================] - 1s 22us/step - loss: 0.2389 - val_loss: 0.3059\n",
      "Epoch 21/50\n",
      "56000/56000 [==============================] - 1s 22us/step - loss: 0.2381 - val_loss: 0.3080\n",
      "Epoch 22/50\n",
      "56000/56000 [==============================] - 1s 22us/step - loss: 0.2371 - val_loss: 0.3075\n",
      "Epoch 23/50\n",
      "56000/56000 [==============================] - 1s 22us/step - loss: 0.2363 - val_loss: 0.3078\n",
      "Epoch 24/50\n",
      "56000/56000 [==============================] - 1s 22us/step - loss: 0.2356 - val_loss: 0.3083\n",
      "Epoch 25/50\n",
      "56000/56000 [==============================] - 1s 22us/step - loss: 0.2347 - val_loss: 0.3092\n",
      "Epoch 26/50\n",
      "56000/56000 [==============================] - 1s 22us/step - loss: 0.2344 - val_loss: 0.3092\n",
      "Epoch 27/50\n",
      "56000/56000 [==============================] - 1s 22us/step - loss: 0.2332 - val_loss: 0.3114\n",
      "Epoch 28/50\n",
      "56000/56000 [==============================] - 1s 23us/step - loss: 0.2332 - val_loss: 0.3130\n",
      "Epoch 29/50\n",
      "56000/56000 [==============================] - 1s 22us/step - loss: 0.2325 - val_loss: 0.3135\n",
      "Epoch 30/50\n",
      "56000/56000 [==============================] - 1s 23us/step - loss: 0.2319 - val_loss: 0.3134\n",
      "Epoch 31/50\n",
      "56000/56000 [==============================] - 1s 22us/step - loss: 0.2316 - val_loss: 0.3130\n",
      "Epoch 32/50\n",
      "56000/56000 [==============================] - 1s 22us/step - loss: 0.2306 - val_loss: 0.3146\n",
      "Epoch 33/50\n",
      "56000/56000 [==============================] - 1s 22us/step - loss: 0.2303 - val_loss: 0.3126\n",
      "Epoch 34/50\n",
      "56000/56000 [==============================] - 1s 22us/step - loss: 0.2299 - val_loss: 0.3157\n",
      "Epoch 35/50\n",
      "56000/56000 [==============================] - 1s 22us/step - loss: 0.2294 - val_loss: 0.3153\n",
      "Epoch 36/50\n",
      "56000/56000 [==============================] - 1s 22us/step - loss: 0.2287 - val_loss: 0.3160\n",
      "Epoch 37/50\n",
      "56000/56000 [==============================] - 1s 24us/step - loss: 0.2282 - val_loss: 0.3172\n",
      "Epoch 38/50\n",
      "56000/56000 [==============================] - 1s 22us/step - loss: 0.2280 - val_loss: 0.3170\n",
      "Epoch 39/50\n",
      "56000/56000 [==============================] - 1s 22us/step - loss: 0.2276 - val_loss: 0.3177\n",
      "Epoch 40/50\n",
      "56000/56000 [==============================] - 1s 22us/step - loss: 0.2273 - val_loss: 0.3189\n",
      "Epoch 41/50\n",
      "56000/56000 [==============================] - 1s 22us/step - loss: 0.2270 - val_loss: 0.3174\n",
      "Epoch 42/50\n",
      "56000/56000 [==============================] - 1s 22us/step - loss: 0.2269 - val_loss: 0.3191\n",
      "Epoch 43/50\n",
      "56000/56000 [==============================] - 1s 23us/step - loss: 0.2263 - val_loss: 0.3203\n",
      "Epoch 44/50\n",
      "56000/56000 [==============================] - 1s 22us/step - loss: 0.2256 - val_loss: 0.3225\n",
      "Epoch 45/50\n",
      "56000/56000 [==============================] - 1s 22us/step - loss: 0.2260 - val_loss: 0.3225\n",
      "Epoch 46/50\n",
      "56000/56000 [==============================] - 1s 23us/step - loss: 0.2259 - val_loss: 0.3256\n",
      "Epoch 47/50\n",
      "56000/56000 [==============================] - 1s 23us/step - loss: 0.2255 - val_loss: 0.3236\n",
      "Epoch 48/50\n",
      "56000/56000 [==============================] - 1s 22us/step - loss: 0.2250 - val_loss: 0.3239\n",
      "Epoch 49/50\n",
      "56000/56000 [==============================] - 1s 22us/step - loss: 0.2246 - val_loss: 0.3233\n",
      "Epoch 50/50\n",
      "56000/56000 [==============================] - 1s 22us/step - loss: 0.2246 - val_loss: 0.3245\n",
      "CPU times: user 1min 43s, sys: 4.28 s, total: 1min 48s\n",
      "Wall time: 1min 3s\n"
     ]
    }
   ],
   "source": [
    "%%time\n",
    "\n",
    "fit_history = logistic_classifier.fit(\n",
    "  X_train, y_train,\n",
    "  validation_data=(X_valid, y_valid),\n",
    "  epochs=50,\n",
    "  batch_size=256\n",
    ")"
   ]
  },
  {
   "cell_type": "code",
   "execution_count": 6,
   "metadata": {},
   "outputs": [],
   "source": [
    "y_test_pred_proba = logistic_classifier.predict(X_test)\n",
    "y_test_pred = np.argmax(y_test_pred_proba, axis=1)"
   ]
  },
  {
   "cell_type": "code",
   "execution_count": 7,
   "metadata": {
    "collapsed": true
   },
   "outputs": [],
   "source": [
    "from sklearn.metrics import accuracy_score\n",
    "\n",
    "def evaluate_classifier(clf, round_to=3):\n",
    "  datasets = [X_train, X_valid, X_test]\n",
    "  label_sets = [y_train_labels, y_valid_labels, y_test_labels]\n",
    "  for (set_label, X, labels) in zip(['train', 'validation', 'test'], datasets, label_sets):\n",
    "    y_pred_proba = clf.predict(X)\n",
    "    y_pred = np.argmax(y_pred_proba, axis=1)\n",
    "\n",
    "    accuracy = accuracy_score(labels, y_pred)\n",
    "\n",
    "    print(\n",
    "      'accuracy on {} set:\\n{}'.format(\n",
    "        set_label,\n",
    "        round(accuracy, round_to)))"
   ]
  },
  {
   "cell_type": "code",
   "execution_count": 8,
   "metadata": {},
   "outputs": [
    {
     "name": "stdout",
     "output_type": "stream",
     "text": [
      "accuracy on train set:\n",
      "0.94\n",
      "accuracy on validation set:\n",
      "0.921\n",
      "accuracy on test set:\n",
      "0.921\n"
     ]
    }
   ],
   "source": [
    "evaluate_classifier(logistic_classifier)"
   ]
  },
  {
   "cell_type": "markdown",
   "metadata": {},
   "source": [
    "## Validation vs training loss "
   ]
  },
  {
   "cell_type": "code",
   "execution_count": 9,
   "metadata": {
    "collapsed": true
   },
   "outputs": [],
   "source": [
    "def plot_train_vs_validation_loss(history, offset=0):\n",
    "  train_loss = history.history['loss']\n",
    "  eval_loss = history.history['val_loss']\n",
    "  l = len(train_loss)\n",
    "  rng = np.arange(start=offset, stop=l)\n",
    "  \n",
    "  plt.plot(rng, train_loss[offset:], label='train')\n",
    "  plt.plot(rng, eval_loss[offset:], label='validation')\n",
    "  plt.legend()\n",
    "  plt.show()"
   ]
  },
  {
   "cell_type": "code",
   "execution_count": 10,
   "metadata": {},
   "outputs": [
    {
     "data": {
      "image/png": "[encoded data removed]",
      "text/plain": [
       "<matplotlib.figure.Figure at 0x7ff9decab390>"
      ]
     },
     "metadata": {},
     "output_type": "display_data"
    }
   ],
   "source": [
    "plot_train_vs_validation_loss(fit_history)"
   ]
  },
  {
   "cell_type": "markdown",
   "metadata": {},
   "source": [
    "## Multilayer Perceptron"
   ]
  },
  {
   "cell_type": "code",
   "execution_count": 11,
   "metadata": {
    "collapsed": true
   },
   "outputs": [],
   "source": [
    "def mlp_tensors(n_hidden, input_shape, n_classes, activation='sigmoid'):\n",
    "  input_tensor = Input(shape=input_shape)\n",
    "  \n",
    "  hid_z = Dense(n_hidden)(input_tensor)\n",
    "  hid_a = Activation(activation)(hid_z)\n",
    "  \n",
    "  softmax_in = Dense(n_classes)(hid_a)\n",
    "  return input_tensor, Activation('softmax')(softmax_in)"
   ]
  },
  {
   "cell_type": "code",
   "execution_count": 12,
   "metadata": {},
   "outputs": [],
   "source": [
    "n_hidden = 64 \n",
    "\n",
    "mlp_in, mlp_out = mlp_tensors(64, input_shape, n_classes)\n",
    "mlp = Model(inputs=[mlp_in], outputs=[mlp_out])\n",
    "\n",
    "mlp.compile(optimizer='adam', loss='categorical_crossentropy')"
   ]
  },
  {
   "cell_type": "code",
   "execution_count": 13,
   "metadata": {},
   "outputs": [
    {
     "name": "stdout",
     "output_type": "stream",
     "text": [
      "Train on 56000 samples, validate on 7000 samples\n",
      "Epoch 1/10\n",
      "56000/56000 [==============================] - 5s 82us/step - loss: 0.4489 - val_loss: 0.2532\n",
      "Epoch 2/10\n",
      "56000/56000 [==============================] - 4s 74us/step - loss: 0.2185 - val_loss: 0.2020\n",
      "Epoch 3/10\n",
      "56000/56000 [==============================] - 4s 74us/step - loss: 0.1693 - val_loss: 0.1799\n",
      "Epoch 4/10\n",
      "56000/56000 [==============================] - 4s 75us/step - loss: 0.1397 - val_loss: 0.1648\n",
      "Epoch 5/10\n",
      "56000/56000 [==============================] - 4s 74us/step - loss: 0.1179 - val_loss: 0.1570\n",
      "Epoch 6/10\n",
      "56000/56000 [==============================] - 4s 74us/step - loss: 0.1010 - val_loss: 0.1465\n",
      "Epoch 7/10\n",
      "56000/56000 [==============================] - 4s 75us/step - loss: 0.0879 - val_loss: 0.1429\n",
      "Epoch 8/10\n",
      "56000/56000 [==============================] - 4s 74us/step - loss: 0.0765 - val_loss: 0.1433\n",
      "Epoch 9/10\n",
      "56000/56000 [==============================] - 4s 75us/step - loss: 0.0670 - val_loss: 0.1405\n",
      "Epoch 10/10\n",
      "56000/56000 [==============================] - 4s 75us/step - loss: 0.0589 - val_loss: 0.1369\n",
      "CPU times: user 1min 12s, sys: 3.35 s, total: 1min 15s\n",
      "Wall time: 42.6 s\n"
     ]
    }
   ],
   "source": [
    "%%time\n",
    "\n",
    "mlp_fit_history = mlp.fit(\n",
    "  X_train, y_train,\n",
    "  validation_data=(X_valid, y_valid),\n",
    "  epochs=10,\n",
    "  batch_size=64\n",
    ")"
   ]
  },
  {
   "cell_type": "markdown",
   "metadata": {},
   "source": [
    "### Validation vs training loss for MLP "
   ]
  },
  {
   "cell_type": "code",
   "execution_count": 14,
   "metadata": {},
   "outputs": [
    {
     "data": {
      "image/png": "[encoded data removed]",
      "text/plain": [
       "<matplotlib.figure.Figure at 0x7ff9ec045978>"
      ]
     },
     "metadata": {},
     "output_type": "display_data"
    }
   ],
   "source": [
    "plot_train_vs_validation_loss(mlp_fit_history)"
   ]
  },
  {
   "cell_type": "markdown",
   "metadata": {},
   "source": [
    "## Accuracy"
   ]
  },
  {
   "cell_type": "code",
   "execution_count": 15,
   "metadata": {},
   "outputs": [
    {
     "name": "stdout",
     "output_type": "stream",
     "text": [
      "accuracy on train set:\n",
      "0.99\n",
      "accuracy on validation set:\n",
      "0.961\n",
      "accuracy on test set:\n",
      "0.957\n"
     ]
    }
   ],
   "source": [
    "evaluate_classifier(mlp)"
   ]
  }
 ],
 "metadata": {
  "hide_input": false,
  "kernelspec": {
   "display_name": "Python 3",
   "language": "python",
   "name": "python3"
  },
  "language_info": {
   "codemirror_mode": {
    "name": "ipython",
    "version": 3
   },
   "file_extension": ".py",
   "mimetype": "text/x-python",
   "name": "python",
   "nbconvert_exporter": "python",
   "pygments_lexer": "ipython3",
   "version": "3.5.3"
  }
 },
 "nbformat": 4,
 "nbformat_minor": 2
}
