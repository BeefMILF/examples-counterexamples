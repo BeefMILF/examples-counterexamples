{
 "cells": [
  {
   "cell_type": "code",
   "execution_count": 1,
   "metadata": {},
   "outputs": [
    {
     "name": "stderr",
     "output_type": "stream",
     "text": [
      "/opt/anaconda3/envs/nnets/lib/python3.5/site-packages/h5py/__init__.py:34: FutureWarning: Conversion of the second argument of issubdtype from `float` to `np.floating` is deprecated. In future, it will be treated as `np.float64 == np.dtype(float).type`.\n",
      "  from ._conv import register_converters as _register_converters\n",
      "Using TensorFlow backend.\n"
     ]
    }
   ],
   "source": [
    "from __future__ import print_function\n",
    "\n",
    "import keras.backend as K\n",
    "from keras.layers import Dense, Input, Activation\n",
    "from keras.models import Model\n",
    "\n",
    "import numpy as np\n",
    "\n",
    "%matplotlib inline\n",
    "import matplotlib.pyplot as plt\n",
    "\n",
    "from src.fetch_mnist import preprocessed_mnist"
   ]
  },
  {
   "cell_type": "markdown",
   "metadata": {},
   "source": [
    "### Useful links\n",
    "\n",
    "# TODO"
   ]
  },
  {
   "cell_type": "markdown",
   "metadata": {},
   "source": [
    "#### Preparing data\n",
    "\n",
    "We'll use MNIST dataset. Examples are standardised according to training data."
   ]
  },
  {
   "cell_type": "code",
   "execution_count": 2,
   "metadata": {},
   "outputs": [
    {
     "name": "stderr",
     "output_type": "stream",
     "text": [
      "/opt/anaconda3/envs/nnets/lib/python3.5/site-packages/sklearn/utils/validation.py:429: DataConversionWarning: Data with input dtype uint8 was converted to float64 by StandardScaler.\n",
      "  warnings.warn(msg, _DataConversionWarning)\n"
     ]
    }
   ],
   "source": [
    "from sklearn.model_selection import train_test_split\n",
    "\n",
    "X_train, X_test, y_train_labels, y_test_labels = preprocessed_mnist(random_state=0)\n",
    "X_test, X_valid, y_test_labels, y_valid_labels = train_test_split(X_test, y_test_labels, test_size=0.5) "
   ]
  },
  {
   "cell_type": "code",
   "execution_count": 3,
   "metadata": {},
   "outputs": [],
   "source": [
    "from sklearn.preprocessing import OneHotEncoder\n",
    "\n",
    "ohe = OneHotEncoder()\n",
    "\n",
    "y_train = ohe.fit_transform(y_train_labels.reshape(-1, 1)).toarray()\n",
    "y_test = ohe.transform(y_test_labels.reshape(-1, 1)).toarray()\n",
    "y_valid = ohe.transform(y_valid_labels.reshape(-1, 1)).toarray()"
   ]
  },
  {
   "cell_type": "markdown",
   "metadata": {},
   "source": [
    "## Logistic regression with softmax using `module` API"
   ]
  },
  {
   "cell_type": "markdown",
   "metadata": {},
   "source": [
    "`keras.layers` contains `Layers` - abstractions that behave like neural network layers, and can be used as functions of tensors (note, for example usage of `Dense` layer), or appended in sequential models.\n",
    "\n",
    "`keras.models` contains `Model` class - it provides high-level functionalities a'la `scikit-learn` estimators. `Model`s wrap Keras tensors. \n",
    "\n",
    "Below is an example of simple *Model* that performs logistic regression (it uses minibatch gradient descent for optimization)."
   ]
  },
  {
   "cell_type": "code",
   "execution_count": 4,
   "metadata": {},
   "outputs": [],
   "source": [
    "input_shape = (X_train.shape[1],)\n",
    "n_classes = y_train.shape[1]\n",
    "\n",
    "softmax_input =  Input(shape=input_shape)\n",
    "softmax_intermediate = Dense(n_classes)(softmax_input)\n",
    "softmax_output = Activation('softmax')(softmax_intermediate) \n",
    "\n",
    "logistic_classifier = Model(inputs=[softmax_input], outputs=[softmax_output])\n",
    "\n",
    "logistic_classifier.compile(optimizer='adam', loss=['categorical_crossentropy'])"
   ]
  },
  {
   "cell_type": "markdown",
   "metadata": {},
   "source": [
    "The following cell contains code that can be passed to our Module's `fit` method. It is used to save per-batch metric (here accuracy is used)."
   ]
  },
  {
   "cell_type": "markdown",
   "metadata": {},
   "source": [
    "#### Training"
   ]
  },
  {
   "cell_type": "code",
   "execution_count": 5,
   "metadata": {
    "scrolled": false
   },
   "outputs": [
    {
     "name": "stdout",
     "output_type": "stream",
     "text": [
      "Train on 56000 samples, validate on 7000 samples\n",
      "Epoch 1/100\n",
      "56000/56000 [==============================] - 2s 43us/step - loss: 0.5420 - val_loss: 0.3447\n",
      "Epoch 2/100\n",
      "56000/56000 [==============================] - 2s 39us/step - loss: 0.3213 - val_loss: 0.3107\n",
      "Epoch 3/100\n",
      "56000/56000 [==============================] - 2s 35us/step - loss: 0.2964 - val_loss: 0.3003\n",
      "Epoch 4/100\n",
      "56000/56000 [==============================] - 2s 33us/step - loss: 0.2833 - val_loss: 0.2997\n",
      "Epoch 5/100\n",
      "56000/56000 [==============================] - 2s 34us/step - loss: 0.2753 - val_loss: 0.2944\n",
      "Epoch 6/100\n",
      "56000/56000 [==============================] - 2s 33us/step - loss: 0.2687 - val_loss: 0.2955\n",
      "Epoch 7/100\n",
      "56000/56000 [==============================] - 2s 32us/step - loss: 0.2649 - val_loss: 0.2946\n",
      "Epoch 8/100\n",
      "56000/56000 [==============================] - 2s 33us/step - loss: 0.2614 - val_loss: 0.2950\n",
      "Epoch 9/100\n",
      "56000/56000 [==============================] - 2s 33us/step - loss: 0.2588 - val_loss: 0.2957\n",
      "Epoch 10/100\n",
      "56000/56000 [==============================] - 2s 33us/step - loss: 0.2556 - val_loss: 0.2943\n",
      "Epoch 11/100\n",
      "56000/56000 [==============================] - 2s 34us/step - loss: 0.2540 - val_loss: 0.2967\n",
      "Epoch 12/100\n",
      "56000/56000 [==============================] - 2s 33us/step - loss: 0.2517 - val_loss: 0.2955\n",
      "Epoch 13/100\n",
      "56000/56000 [==============================] - 2s 33us/step - loss: 0.2498 - val_loss: 0.2997\n",
      "Epoch 14/100\n",
      "56000/56000 [==============================] - 2s 33us/step - loss: 0.2491 - val_loss: 0.2992\n",
      "Epoch 15/100\n",
      "56000/56000 [==============================] - 2s 34us/step - loss: 0.2477 - val_loss: 0.3009\n",
      "Epoch 16/100\n",
      "56000/56000 [==============================] - 2s 33us/step - loss: 0.2459 - val_loss: 0.2990\n",
      "Epoch 17/100\n",
      "56000/56000 [==============================] - 2s 33us/step - loss: 0.2449 - val_loss: 0.3011\n",
      "Epoch 18/100\n",
      "56000/56000 [==============================] - 2s 34us/step - loss: 0.2439 - val_loss: 0.3004\n",
      "Epoch 19/100\n",
      "56000/56000 [==============================] - 2s 33us/step - loss: 0.2431 - val_loss: 0.3041\n",
      "Epoch 20/100\n",
      "56000/56000 [==============================] - 2s 34us/step - loss: 0.2417 - val_loss: 0.3009\n",
      "Epoch 21/100\n",
      "56000/56000 [==============================] - 2s 33us/step - loss: 0.2415 - val_loss: 0.3044\n",
      "Epoch 22/100\n",
      "56000/56000 [==============================] - 2s 33us/step - loss: 0.2403 - val_loss: 0.3032\n",
      "Epoch 23/100\n",
      "56000/56000 [==============================] - 2s 33us/step - loss: 0.2401 - val_loss: 0.3060\n",
      "Epoch 24/100\n",
      "56000/56000 [==============================] - 2s 33us/step - loss: 0.2392 - val_loss: 0.3090\n",
      "Epoch 25/100\n",
      "56000/56000 [==============================] - 2s 33us/step - loss: 0.2383 - val_loss: 0.3087\n",
      "Epoch 26/100\n",
      "56000/56000 [==============================] - 2s 34us/step - loss: 0.2380 - val_loss: 0.3104\n",
      "Epoch 27/100\n",
      "56000/56000 [==============================] - 2s 34us/step - loss: 0.2379 - val_loss: 0.3089\n",
      "Epoch 28/100\n",
      "56000/56000 [==============================] - 2s 33us/step - loss: 0.2370 - val_loss: 0.3080\n",
      "Epoch 29/100\n",
      "56000/56000 [==============================] - 2s 33us/step - loss: 0.2364 - val_loss: 0.3090\n",
      "Epoch 30/100\n",
      "56000/56000 [==============================] - 2s 33us/step - loss: 0.2361 - val_loss: 0.3107\n",
      "Epoch 31/100\n",
      "56000/56000 [==============================] - 2s 34us/step - loss: 0.2360 - val_loss: 0.3113\n",
      "Epoch 32/100\n",
      "56000/56000 [==============================] - 2s 33us/step - loss: 0.2352 - val_loss: 0.3130\n",
      "Epoch 33/100\n",
      "56000/56000 [==============================] - 2s 34us/step - loss: 0.2347 - val_loss: 0.3149\n",
      "Epoch 34/100\n",
      "56000/56000 [==============================] - 2s 33us/step - loss: 0.2345 - val_loss: 0.3129\n",
      "Epoch 35/100\n",
      "56000/56000 [==============================] - 2s 33us/step - loss: 0.2340 - val_loss: 0.3157\n",
      "Epoch 36/100\n",
      "56000/56000 [==============================] - 2s 34us/step - loss: 0.2336 - val_loss: 0.3120\n",
      "Epoch 37/100\n",
      "56000/56000 [==============================] - 2s 33us/step - loss: 0.2326 - val_loss: 0.3124\n",
      "Epoch 38/100\n",
      "56000/56000 [==============================] - 2s 33us/step - loss: 0.2324 - val_loss: 0.3119\n",
      "Epoch 39/100\n",
      "56000/56000 [==============================] - 2s 34us/step - loss: 0.2318 - val_loss: 0.3175\n",
      "Epoch 40/100\n",
      "56000/56000 [==============================] - 2s 34us/step - loss: 0.2313 - val_loss: 0.3139\n",
      "Epoch 41/100\n",
      "56000/56000 [==============================] - 2s 34us/step - loss: 0.2313 - val_loss: 0.3203\n",
      "Epoch 42/100\n",
      "56000/56000 [==============================] - 2s 34us/step - loss: 0.2312 - val_loss: 0.3150\n",
      "Epoch 43/100\n",
      "56000/56000 [==============================] - 2s 34us/step - loss: 0.2308 - val_loss: 0.3216\n",
      "Epoch 44/100\n",
      "56000/56000 [==============================] - 2s 34us/step - loss: 0.2304 - val_loss: 0.3181\n",
      "Epoch 45/100\n",
      "56000/56000 [==============================] - 2s 33us/step - loss: 0.2303 - val_loss: 0.3177\n",
      "Epoch 46/100\n",
      "56000/56000 [==============================] - 2s 34us/step - loss: 0.2299 - val_loss: 0.3217\n",
      "Epoch 47/100\n",
      "56000/56000 [==============================] - 2s 34us/step - loss: 0.2299 - val_loss: 0.3218\n",
      "Epoch 48/100\n",
      "56000/56000 [==============================] - 2s 33us/step - loss: 0.2302 - val_loss: 0.3222\n",
      "Epoch 49/100\n",
      "56000/56000 [==============================] - 2s 34us/step - loss: 0.2293 - val_loss: 0.3230\n",
      "Epoch 50/100\n",
      "56000/56000 [==============================] - 2s 33us/step - loss: 0.2292 - val_loss: 0.3203\n",
      "Epoch 51/100\n",
      "56000/56000 [==============================] - 2s 33us/step - loss: 0.2290 - val_loss: 0.3233\n",
      "Epoch 52/100\n",
      "56000/56000 [==============================] - 2s 33us/step - loss: 0.2287 - val_loss: 0.3200\n",
      "Epoch 53/100\n",
      "56000/56000 [==============================] - 2s 33us/step - loss: 0.2285 - val_loss: 0.3243\n",
      "Epoch 54/100\n",
      "56000/56000 [==============================] - 2s 33us/step - loss: 0.2283 - val_loss: 0.3273\n",
      "Epoch 55/100\n",
      "56000/56000 [==============================] - 2s 34us/step - loss: 0.2286 - val_loss: 0.3262\n",
      "Epoch 56/100\n",
      "56000/56000 [==============================] - 2s 35us/step - loss: 0.2282 - val_loss: 0.3266\n",
      "Epoch 57/100\n",
      "56000/56000 [==============================] - 2s 34us/step - loss: 0.2282 - val_loss: 0.3277\n",
      "Epoch 58/100\n",
      "56000/56000 [==============================] - 2s 34us/step - loss: 0.2275 - val_loss: 0.3270\n",
      "Epoch 59/100\n",
      "56000/56000 [==============================] - 2s 33us/step - loss: 0.2275 - val_loss: 0.3301\n",
      "Epoch 60/100\n",
      "56000/56000 [==============================] - 2s 33us/step - loss: 0.2273 - val_loss: 0.3269\n",
      "Epoch 61/100\n",
      "56000/56000 [==============================] - 2s 33us/step - loss: 0.2276 - val_loss: 0.3298\n",
      "Epoch 62/100\n",
      "56000/56000 [==============================] - 2s 34us/step - loss: 0.2274 - val_loss: 0.3310\n",
      "Epoch 63/100\n",
      "56000/56000 [==============================] - 2s 34us/step - loss: 0.2274 - val_loss: 0.3306\n",
      "Epoch 64/100\n",
      "56000/56000 [==============================] - 2s 34us/step - loss: 0.2265 - val_loss: 0.3309\n",
      "Epoch 65/100\n",
      "56000/56000 [==============================] - 2s 35us/step - loss: 0.2267 - val_loss: 0.3286\n",
      "Epoch 66/100\n",
      "56000/56000 [==============================] - 2s 43us/step - loss: 0.2272 - val_loss: 0.3301\n",
      "Epoch 67/100\n",
      "56000/56000 [==============================] - 2s 39us/step - loss: 0.2262 - val_loss: 0.3312\n",
      "Epoch 68/100\n",
      "56000/56000 [==============================] - 2s 33us/step - loss: 0.2267 - val_loss: 0.3301\n",
      "Epoch 69/100\n",
      "56000/56000 [==============================] - 2s 33us/step - loss: 0.2265 - val_loss: 0.3311\n",
      "Epoch 70/100\n",
      "56000/56000 [==============================] - 2s 33us/step - loss: 0.2268 - val_loss: 0.3309\n",
      "Epoch 71/100\n",
      "56000/56000 [==============================] - 2s 36us/step - loss: 0.2259 - val_loss: 0.3337\n",
      "Epoch 72/100\n",
      "56000/56000 [==============================] - 2s 33us/step - loss: 0.2264 - val_loss: 0.3329\n",
      "Epoch 73/100\n",
      "56000/56000 [==============================] - 2s 33us/step - loss: 0.2257 - val_loss: 0.3342\n",
      "Epoch 74/100\n",
      "56000/56000 [==============================] - 2s 33us/step - loss: 0.2262 - val_loss: 0.3334\n",
      "Epoch 75/100\n",
      "56000/56000 [==============================] - 2s 33us/step - loss: 0.2260 - val_loss: 0.3312\n",
      "Epoch 76/100\n",
      "56000/56000 [==============================] - 2s 33us/step - loss: 0.2250 - val_loss: 0.3342\n",
      "Epoch 77/100\n"
     ]
    },
    {
     "name": "stdout",
     "output_type": "stream",
     "text": [
      "56000/56000 [==============================] - 2s 34us/step - loss: 0.2257 - val_loss: 0.3343\n",
      "Epoch 78/100\n",
      "56000/56000 [==============================] - 2s 33us/step - loss: 0.2254 - val_loss: 0.3351\n",
      "Epoch 79/100\n",
      "56000/56000 [==============================] - 2s 34us/step - loss: 0.2254 - val_loss: 0.3366\n",
      "Epoch 80/100\n",
      "56000/56000 [==============================] - 2s 37us/step - loss: 0.2258 - val_loss: 0.3355\n",
      "Epoch 81/100\n",
      "56000/56000 [==============================] - 2s 33us/step - loss: 0.2245 - val_loss: 0.3373\n",
      "Epoch 82/100\n",
      "56000/56000 [==============================] - 2s 33us/step - loss: 0.2248 - val_loss: 0.3355\n",
      "Epoch 83/100\n",
      "56000/56000 [==============================] - 2s 33us/step - loss: 0.2248 - val_loss: 0.3367\n",
      "Epoch 84/100\n",
      "56000/56000 [==============================] - 2s 34us/step - loss: 0.2247 - val_loss: 0.3421\n",
      "Epoch 85/100\n",
      "56000/56000 [==============================] - 2s 34us/step - loss: 0.2251 - val_loss: 0.3370\n",
      "Epoch 86/100\n",
      "56000/56000 [==============================] - 2s 33us/step - loss: 0.2248 - val_loss: 0.3375\n",
      "Epoch 87/100\n",
      "56000/56000 [==============================] - 2s 33us/step - loss: 0.2246 - val_loss: 0.3398\n",
      "Epoch 88/100\n",
      "56000/56000 [==============================] - 2s 33us/step - loss: 0.2247 - val_loss: 0.3385\n",
      "Epoch 89/100\n",
      "56000/56000 [==============================] - 2s 33us/step - loss: 0.2242 - val_loss: 0.3420\n",
      "Epoch 90/100\n",
      "56000/56000 [==============================] - 2s 34us/step - loss: 0.2248 - val_loss: 0.3372\n",
      "Epoch 91/100\n",
      "56000/56000 [==============================] - 2s 34us/step - loss: 0.2241 - val_loss: 0.3401\n",
      "Epoch 92/100\n",
      "56000/56000 [==============================] - 2s 34us/step - loss: 0.2241 - val_loss: 0.3388\n",
      "Epoch 93/100\n",
      "56000/56000 [==============================] - 2s 33us/step - loss: 0.2243 - val_loss: 0.3417\n",
      "Epoch 94/100\n",
      "56000/56000 [==============================] - 2s 33us/step - loss: 0.2243 - val_loss: 0.3399\n",
      "Epoch 95/100\n",
      "56000/56000 [==============================] - 2s 33us/step - loss: 0.2242 - val_loss: 0.3417\n",
      "Epoch 96/100\n",
      "56000/56000 [==============================] - 2s 34us/step - loss: 0.2239 - val_loss: 0.3460\n",
      "Epoch 97/100\n",
      "56000/56000 [==============================] - 2s 34us/step - loss: 0.2240 - val_loss: 0.3440\n",
      "Epoch 98/100\n",
      "56000/56000 [==============================] - 2s 33us/step - loss: 0.2238 - val_loss: 0.3389\n",
      "Epoch 99/100\n",
      "56000/56000 [==============================] - 2s 36us/step - loss: 0.2237 - val_loss: 0.3437\n",
      "Epoch 100/100\n",
      "56000/56000 [==============================] - 2s 40us/step - loss: 0.2234 - val_loss: 0.3468\n",
      "CPU times: user 4min 37s, sys: 12.5 s, total: 4min 49s\n",
      "Wall time: 3min 9s\n"
     ]
    }
   ],
   "source": [
    "%%time\n",
    "\n",
    "fit_history = logistic_classifier.fit(\n",
    "  X_train, y_train,\n",
    "  validation_data=(X_valid, y_valid),\n",
    "  epochs=100,\n",
    "  batch_size=128\n",
    ")"
   ]
  },
  {
   "cell_type": "code",
   "execution_count": 9,
   "metadata": {},
   "outputs": [],
   "source": [
    "y_test_pred_proba = logistic_classifier.predict(X_test)\n",
    "y_test_pred = np.argmax(y_test_pred_proba, axis=1)"
   ]
  },
  {
   "cell_type": "code",
   "execution_count": 14,
   "metadata": {
    "collapsed": true
   },
   "outputs": [],
   "source": [
    "from sklearn.metrics import accuracy_score\n",
    "\n",
    "def evaluate_classifier(clf, round_to=3):\n",
    "  datasets = [X_train, X_valid, X_test]\n",
    "  label_sets = [y_train_labels, y_valid_labels, y_test_labels]\n",
    "  for (set_label, X, labels) in zip(['train', 'validation', 'test'], datasets, label_sets):\n",
    "    y_pred_proba = clf.predict(X)\n",
    "    y_pred = np.argmax(y_pred_proba, axis=1)\n",
    "\n",
    "    accuracy = accuracy_score(labels, y_pred)\n",
    "\n",
    "    print(\n",
    "      'accuracy on {} set:\\n{}'.format(\n",
    "        set_label,\n",
    "        round(accuracy, round_to)))"
   ]
  },
  {
   "cell_type": "code",
   "execution_count": 15,
   "metadata": {},
   "outputs": [
    {
     "name": "stdout",
     "output_type": "stream",
     "text": [
      "accuracy on train set:\n",
      "0.942\n",
      "accuracy on validation set:\n",
      "0.918\n",
      "accuracy on test set:\n",
      "0.917\n"
     ]
    }
   ],
   "source": [
    "evaluate_classifier(logistic_classifier)"
   ]
  },
  {
   "cell_type": "markdown",
   "metadata": {},
   "source": [
    "## Validation vs training loss "
   ]
  },
  {
   "cell_type": "code",
   "execution_count": 19,
   "metadata": {
    "collapsed": true
   },
   "outputs": [],
   "source": [
    "def plot_train_vs_validation_loss(history, offset=0):\n",
    "  train_loss = history.history['loss']\n",
    "  eval_loss = history.history['val_loss']\n",
    "  l = len(train_loss)\n",
    "  rng = np.arange(start=offset, stop=l)\n",
    "  \n",
    "  plt.plot(rng, train_loss[offset:], label='train')\n",
    "  plt.plot(rng, eval_loss[offset:], label='validation')\n",
    "  plt.legend()\n",
    "  plt.show()"
   ]
  },
  {
   "cell_type": "code",
   "execution_count": 20,
   "metadata": {},
   "outputs": [
    {
     "data": {
      "image/png": "[encoded data removed]",
      "text/plain": [
       "<matplotlib.figure.Figure at 0x7f0861e6e2b0>"
      ]
     },
     "metadata": {},
     "output_type": "display_data"
    }
   ],
   "source": [
    "plot_train_vs_validation_loss(fit_history)"
   ]
  },
  {
   "cell_type": "code",
   "execution_count": null,
   "metadata": {
    "collapsed": true
   },
   "outputs": [],
   "source": [
    "plot_train_vs_validation_loss(mlp_train_loss, mlp_eval_loss, offset=10)"
   ]
  },
  {
   "cell_type": "markdown",
   "metadata": {},
   "source": [
    "## Accuracy"
   ]
  },
  {
   "cell_type": "code",
   "execution_count": null,
   "metadata": {
    "collapsed": true
   },
   "outputs": [],
   "source": [
    "evaluate_classifier(mlp)"
   ]
  },
  {
   "cell_type": "markdown",
   "metadata": {},
   "source": [
    "## Different optimizers/hyperparameters"
   ]
  },
  {
   "cell_type": "code",
   "execution_count": null,
   "metadata": {
    "collapsed": true
   },
   "outputs": [],
   "source": [
    "customized_mlp = mod.Module(symbol=mlp_out(num_hidden))\n",
    "\n",
    "customized_mlp.bind(data_shapes=train_iter.provide_data, label_shapes=train_iter.provide_label)\n",
    "customized_mlp.init_params(initializer=mx.init.Xavier(magnitude=2.))"
   ]
  },
  {
   "cell_type": "code",
   "execution_count": null,
   "metadata": {
    "collapsed": true
   },
   "outputs": [],
   "source": [
    "customized_mlp_train_log_list = []\n",
    "customized_mlp_eval_log_list = []\n",
    "\n",
    "%time customized_mlp.fit(\\\n",
    "  train_iter,\\\n",
    "  eval_data=valid_iter,\\\n",
    "  optimizer='adam',\\\n",
    "  optimizer_params={'learning_rate': 0.001, 'wd': 1e-3},\\\n",
    "  eval_metric='ce',\\\n",
    "  batch_end_callback=log_to_list(customized_mlp_train_log_list),\\\n",
    "  eval_batch_end_callback=log_to_list(customized_mlp_eval_log_list, data_type='Valid'),\\\n",
    "  num_epoch=50)"
   ]
  },
  {
   "cell_type": "code",
   "execution_count": null,
   "metadata": {
    "collapsed": true
   },
   "outputs": [],
   "source": [
    "customized_mlp_train_loss = [msg[1][4] for msg in customized_mlp_train_log_list]\n",
    "customized_mlp_eval_loss = [msg[1][4] for msg in customized_mlp_eval_log_list]"
   ]
  },
  {
   "cell_type": "code",
   "execution_count": null,
   "metadata": {
    "collapsed": true
   },
   "outputs": [],
   "source": [
    "plot_train_vs_validation_loss(customized_mlp_train_loss, customized_mlp_eval_loss)\n",
    "evaluate_classifier(customized_mlp)"
   ]
  }
 ],
 "metadata": {
  "hide_input": false,
  "kernelspec": {
   "display_name": "Python 3",
   "language": "python",
   "name": "python3"
  },
  "language_info": {
   "codemirror_mode": {
    "name": "ipython",
    "version": 3
   },
   "file_extension": ".py",
   "mimetype": "text/x-python",
   "name": "python",
   "nbconvert_exporter": "python",
   "pygments_lexer": "ipython3",
   "version": "3.5.3"
  }
 },
 "nbformat": 4,
 "nbformat_minor": 2
}
