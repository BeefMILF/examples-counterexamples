{
  "nbformat": 4,
  "nbformat_minor": 0,
  "metadata": {
    "colab": {
      "name": "MXNet - CNN Autoencoder.ipynb",
      "version": "0.3.2",
      "views": {},
      "default_view": {},
      "provenance": []
    },
    "kernelspec": {
      "display_name": "Python 3",
      "language": "python",
      "name": "python3"
    },
    "accelerator": "GPU"
  },
  "cells": [
    {
      "metadata": {
        "id": "pbxHXzeKgUHY",
        "colab_type": "code",
        "colab": {
          "autoexec": {
            "startup": false,
            "wait_interval": 0
          }
        }
      },
      "cell_type": "code",
      "source": [
        "from __future__ import print_function\n",
        "\n",
        "import logging\n",
        "import sys\n",
        "root_logger = logging.getLogger()\n",
        "stdout_handler = logging.StreamHandler(sys.stdout)\n",
        "root_logger.addHandler(stdout_handler)\n",
        "root_logger.setLevel(logging.DEBUG)\n",
        "\n",
        "import mxnet as mx\n",
        "from mxnet import nd, autograd, sym, mod\n",
        "import numpy as np\n",
        "\n",
        "%matplotlib inline\n",
        "import matplotlib.pyplot as plt\n",
        "\n",
        "from sklearn.model_selection import train_test_split\n",
        "\n",
        "ctx = mx.gpu() if mx.test_utils.list_gpus() else mx.cpu()"
      ],
      "execution_count": 0,
      "outputs": []
    },
    {
      "metadata": {
        "id": "DXnFZAuwgPki",
        "colab_type": "text"
      },
      "cell_type": "markdown",
      "source": [
        "# Convolutional NN - Autoencoder"
      ]
    },
    {
      "metadata": {
        "id": "I8y9Uo0GgPkj",
        "colab_type": "text"
      },
      "cell_type": "markdown",
      "source": [
        "In this notebook we set up an autoencoder that uses convolutional instead of fully connected hidden layers.\n",
        "\n",
        "### Why convolutions?\n",
        "\n",
        "**Drawbacks of using fully connected layers on image input** \n",
        "\n",
        "* FC layers don't exploit local structure\n",
        "* FC layer is not equivariant under translation (translated pattern can correspond to completely different feature)\n",
        "* For big images FC layers have huge number of parameters (for example for 1000 hidden units, 1000 x 1000 x 3 image such layer has ~3 billion weights)\n",
        "\n",
        "**CNN layers:**\n",
        "\n",
        "* Extract local features\n",
        "* Are equivariant to translation\n",
        "* Have lot less parameters, since they share kernel over the whole input image \n",
        "\n",
        "\n",
        "## Contents:\n",
        "\n",
        "* [Network definition](#model_definition)\n",
        "\n",
        "* [Fitting and visualization](#fitting_visualization)"
      ]
    },
    {
      "metadata": {
        "id": "V7rQIXQMFhF4",
        "colab_type": "code",
        "colab": {
          "autoexec": {
            "startup": false,
            "wait_interval": 0
          }
        }
      },
      "cell_type": "code",
      "source": [
        "### Plotting utils"
      ],
      "execution_count": 0,
      "outputs": []
    },
    {
      "metadata": {
        "id": "lT-MsVVuFflm",
        "colab_type": "code",
        "colab": {
          "autoexec": {
            "startup": false,
            "wait_interval": 0
          }
        }
      },
      "cell_type": "code",
      "source": [
        "def plot_two_img_rows(X1, X2, title, j=5, do_reshape=True):\n",
        "  f, axes = plt.subplots(2, j, figsize=(10, 20 / j))\n",
        "  f.suptitle(title)\n",
        "  for k, x in zip(range(2), [X1, X2]):\n",
        "    for i in range(j):\n",
        "      ax = axes[k, i]\n",
        "      img = x[i]\n",
        "      if do_reshape:\n",
        "        img = img[i, :].reshape(28, 28)\n",
        "      ax.imshow(img, cmap='gray')\n",
        "      ax.axis('off')\n",
        "  plt.show()\n",
        "  \n",
        "\n",
        "def display_reconstruction_results(model, val_iter):\n",
        "  print('validation set metrics:', conv_autoencoder.score(val_iter, eval_metric='rmse'))\n",
        "  example_batch = mx.io.ResizeIter(val_iter, 1).next().data[0].asnumpy()\n",
        "  reconstructed_batch = model.predict(mx.io.ResizeIter(val_iter, 1)).asnumpy()\n",
        "  \n",
        "  example_images = example_batch[:5].reshape(-1, 28, 28)\n",
        "  reconstructed_images = reconstructed_batch[:5].reshape(-1, 28, 28)\n",
        "  mse_errors = np.mean((example_images - reconstructed_images) ** 2, axis=(1,2))\n",
        "  print('Examples RMSE reconstruction error:')\n",
        "  print(np.around(np.sqrt(mse_errors), 4))\n",
        "  plot_two_img_rows(reconstructed_images, example_images, 'conv autoencoder reconstruction \\nlower row: original images', do_reshape=False)"
      ],
      "execution_count": 0,
      "outputs": []
    },
    {
      "metadata": {
        "id": "GQ8Ps4nLgPkk",
        "colab_type": "text"
      },
      "cell_type": "markdown",
      "source": [
        "### Data setup\n",
        "\n",
        "Note we have to reshape data to make 2d convolution possible"
      ]
    },
    {
      "metadata": {
        "id": "d9Q2E97DgPkk",
        "colab_type": "code",
        "colab": {
          "autoexec": {
            "startup": false,
            "wait_interval": 0
          },
          "base_uri": "https://localhost:8080/",
          "height": 89
        },
        "outputId": "4915b13a-681c-408a-fc75-b4a8b64b99bf",
        "executionInfo": {
          "status": "ok",
          "timestamp": 1529692213714,
          "user_tz": -120,
          "elapsed": 2235,
          "user": {
            "displayName": "Jakub Bartczuk",
            "photoUrl": "//lh6.googleusercontent.com/-sjx_GV6EJq0/AAAAAAAAAAI/AAAAAAAAAOI/7RdwrdXKVSA/s50-c-k-no/photo.jpg",
            "userId": "112982680208866012419"
          }
        }
      },
      "cell_type": "code",
      "source": [
        "batch_size = 32\n",
        "mnist = mx.test_utils.get_mnist()\n",
        "\n",
        "train_iter = mx.io.NDArrayIter(data=mnist['train_data'], label=mnist['train_data'], batch_size=batch_size, shuffle=True, label_name='data')\n",
        "val_iter = mx.io.NDArrayIter(data=mnist['test_data'], label=mnist['test_data'], batch_size=batch_size, label_name='data')"
      ],
      "execution_count": 4,
      "outputs": [
        {
          "output_type": "stream",
          "text": [
            "train-labels-idx1-ubyte.gz exists, skipping download\n",
            "train-images-idx3-ubyte.gz exists, skipping download\n",
            "t10k-labels-idx1-ubyte.gz exists, skipping download\n",
            "t10k-images-idx3-ubyte.gz exists, skipping download\n"
          ],
          "name": "stdout"
        }
      ]
    },
    {
      "metadata": {
        "id": "m3MlfhtOluCC",
        "colab_type": "code",
        "colab": {
          "autoexec": {
            "startup": false,
            "wait_interval": 0
          },
          "base_uri": "https://localhost:8080/",
          "height": 35
        },
        "outputId": "b994f069-ae8f-419d-a447-09317bb4677c",
        "executionInfo": {
          "status": "ok",
          "timestamp": 1529692214446,
          "user_tz": -120,
          "elapsed": 704,
          "user": {
            "displayName": "Jakub Bartczuk",
            "photoUrl": "//lh6.googleusercontent.com/-sjx_GV6EJq0/AAAAAAAAAAI/AAAAAAAAAOI/7RdwrdXKVSA/s50-c-k-no/photo.jpg",
            "userId": "112982680208866012419"
          }
        }
      },
      "cell_type": "code",
      "source": [
        "mnist.keys()"
      ],
      "execution_count": 5,
      "outputs": [
        {
          "output_type": "execute_result",
          "data": {
            "text/plain": [
              "dict_keys(['train_data', 'train_label', 'test_data', 'test_label'])"
            ]
          },
          "metadata": {
            "tags": []
          },
          "execution_count": 5
        }
      ]
    },
    {
      "metadata": {
        "id": "sJetcIo6gPko",
        "colab_type": "code",
        "colab": {
          "autoexec": {
            "startup": false,
            "wait_interval": 0
          }
        }
      },
      "cell_type": "code",
      "source": [
        "input_size = 784\n",
        "hidden_size = 20 \n",
        "\n",
        "training_param_args = {\n",
        "  'num_epoch': 10,\n",
        "  'eval_metric': 'rmse',\n",
        "  'optimizer_params':{'learning_rate': 0.33}\n",
        "}"
      ],
      "execution_count": 0,
      "outputs": []
    },
    {
      "metadata": {
        "id": "lB62UW12gPks",
        "colab_type": "text"
      },
      "cell_type": "markdown",
      "source": [
        "<a id='model_definition'></a>"
      ]
    },
    {
      "metadata": {
        "id": "ONBMTwjVgPkt",
        "colab_type": "code",
        "colab": {
          "autoexec": {
            "startup": false,
            "wait_interval": 0
          }
        }
      },
      "cell_type": "code",
      "source": [
        "def conv_autoencoder_loss(input_size, hidden_size, num_filter, kernel):\n",
        "  data = sym.Variable('data')\n",
        "  weights = sym.Variable(name='weights', \n",
        "                         shape=(hidden_size, num_filter, *kernel),\n",
        "                         init=mx.init.Xavier())\n",
        "  bias_out = sym.Variable(name='bias_out', shape=(1, 1, *input_size), init=mx.init.Zero())\n",
        "  \n",
        "  hid_in = sym.Convolution(\n",
        "    data=data,\n",
        "    weight=weights,\n",
        "    num_filter=hidden_size,\n",
        "    dilate=(3,3),\n",
        "    kernel=kernel,\n",
        "    name='hidden_in')\n",
        "  \n",
        "  codes = sym.Activation(hid_in, act_type='relu', name='codes')\n",
        "  \n",
        "  hid_out = sym.Deconvolution(\n",
        "    codes,\n",
        "    weights,\n",
        "    dilate=(3,3),\n",
        "    num_filter=num_filter,\n",
        "    kernel=kernel,\n",
        "    name='hidden_out')\n",
        "  \n",
        "  out = sym.broadcast_add(\n",
        "    sym.Activation(hid_out, act_type='relu', name='out'),\n",
        "    bias_out\n",
        "  )\n",
        "  return mx.symbol.MakeLoss(\n",
        "    mx.symbol.LinearRegressionOutput(data=out, label=data)\n",
        "  )"
      ],
      "execution_count": 0,
      "outputs": []
    },
    {
      "metadata": {
        "id": "L6cwYVFzgPkx",
        "colab_type": "code",
        "colab": {
          "autoexec": {
            "startup": false,
            "wait_interval": 0
          },
          "base_uri": "https://localhost:8080/",
          "height": 413
        },
        "outputId": "9fe3ca12-fbe2-4267-b2d6-610d985735f1",
        "executionInfo": {
          "status": "ok",
          "timestamp": 1529692217762,
          "user_tz": -120,
          "elapsed": 897,
          "user": {
            "displayName": "Jakub Bartczuk",
            "photoUrl": "//lh6.googleusercontent.com/-sjx_GV6EJq0/AAAAAAAAAAI/AAAAAAAAAOI/7RdwrdXKVSA/s50-c-k-no/photo.jpg",
            "userId": "112982680208866012419"
          }
        }
      },
      "cell_type": "code",
      "source": [
        "conv_autoencoder = mod.Module(\n",
        "  symbol=conv_autoencoder_loss(\n",
        "    input_size=(28, 28),\n",
        "    hidden_size=1,\n",
        "    num_filter=1,\n",
        "    kernel=(3,3)),\n",
        "  label_names=['data'],\n",
        "  context=ctx\n",
        ")\n",
        "\n",
        "mx.viz.print_summary(conv_autoencoder.symbol, shape={'data': (1, 1, 28, 28)})"
      ],
      "execution_count": 8,
      "outputs": [
        {
          "output_type": "stream",
          "text": [
            "________________________________________________________________________________________________________________________\n",
            "Layer (type)                                        Output Shape            Param #     Previous Layer                  \n",
            "========================================================================================================================\n",
            "data(null)                                          1x28x28                 0                                           \n",
            "________________________________________________________________________________________________________________________\n",
            "hidden_in(Convolution)                              1x22x22                 10          data                            \n",
            "________________________________________________________________________________________________________________________\n",
            "codes(Activation)                                   1x22x22                 0           hidden_in                       \n",
            "________________________________________________________________________________________________________________________\n",
            "hidden_out(Deconvolution)                           1x28x28                 0           codes                           \n",
            "________________________________________________________________________________________________________________________\n",
            "out(Activation)                                     1x28x28                 0           hidden_out                      \n",
            "________________________________________________________________________________________________________________________\n",
            "broadcast_add0(broadcast_add)                       1x28x28                 0           out                             \n",
            "________________________________________________________________________________________________________________________\n",
            "linearregressionoutput0(LinearRegressionOutput)     1x28x28                 0           broadcast_add0                  \n",
            "                                                                                        data                            \n",
            "________________________________________________________________________________________________________________________\n",
            "makeloss0(MakeLoss)                                 1x28x28                 0           linearregressionoutput0         \n",
            "========================================================================================================================\n",
            "Total params: 10\n",
            "________________________________________________________________________________________________________________________\n"
          ],
          "name": "stdout"
        }
      ]
    },
    {
      "metadata": {
        "id": "T4BsduHngPk4",
        "colab_type": "text"
      },
      "cell_type": "markdown",
      "source": [
        "<a id='fitting_visualization'></a>"
      ]
    },
    {
      "metadata": {
        "id": "0RojiOslgPk6",
        "colab_type": "code",
        "colab": {
          "autoexec": {
            "startup": false,
            "wait_interval": 0
          },
          "base_uri": "https://localhost:8080/",
          "height": 593
        },
        "outputId": "2778d3cb-db2c-4276-c117-be6b89b2e171",
        "executionInfo": {
          "status": "ok",
          "timestamp": 1529692259660,
          "user_tz": -120,
          "elapsed": 41727,
          "user": {
            "displayName": "Jakub Bartczuk",
            "photoUrl": "//lh6.googleusercontent.com/-sjx_GV6EJq0/AAAAAAAAAAI/AAAAAAAAAOI/7RdwrdXKVSA/s50-c-k-no/photo.jpg",
            "userId": "112982680208866012419"
          }
        }
      },
      "cell_type": "code",
      "source": [
        "%time conv_autoencoder.fit(train_iter, eval_data=val_iter, **training_param_args)"
      ],
      "execution_count": 9,
      "outputs": [
        {
          "output_type": "stream",
          "text": [
            "Epoch[0] Train-rmse=0.062207\n",
            "Epoch[0] Time cost=3.729\n",
            "Epoch[0] Validation-rmse=0.044133\n",
            "Epoch[1] Train-rmse=0.045620\n",
            "Epoch[1] Time cost=3.629\n",
            "Epoch[1] Validation-rmse=0.043839\n",
            "Epoch[2] Train-rmse=0.045442\n",
            "Epoch[2] Time cost=3.689\n",
            "Epoch[2] Validation-rmse=0.043805\n",
            "Epoch[3] Train-rmse=0.045413\n",
            "Epoch[3] Time cost=3.666\n",
            "Epoch[3] Validation-rmse=0.043808\n",
            "Epoch[4] Train-rmse=0.045408\n",
            "Epoch[4] Time cost=3.622\n",
            "Epoch[4] Validation-rmse=0.043813\n",
            "Epoch[5] Train-rmse=0.045408\n",
            "Epoch[5] Time cost=3.622\n",
            "Epoch[5] Validation-rmse=0.043817\n",
            "Epoch[6] Train-rmse=0.045408\n",
            "Epoch[6] Time cost=3.644\n",
            "Epoch[6] Validation-rmse=0.043819\n",
            "Epoch[7] Train-rmse=0.045409\n",
            "Epoch[7] Time cost=3.622\n",
            "Epoch[7] Validation-rmse=0.043820\n",
            "Epoch[8] Train-rmse=0.045409\n",
            "Epoch[8] Time cost=3.640\n",
            "Epoch[8] Validation-rmse=0.043820\n",
            "Epoch[9] Train-rmse=0.045409\n",
            "Epoch[9] Time cost=3.648\n",
            "Epoch[9] Validation-rmse=0.043820\n",
            "CPU times: user 41.2 s, sys: 21.1 s, total: 1min 2s\n",
            "Wall time: 41.1 s\n"
          ],
          "name": "stdout"
        }
      ]
    },
    {
      "metadata": {
        "id": "gSp2rLXdFC32",
        "colab_type": "code",
        "colab": {
          "autoexec": {
            "startup": false,
            "wait_interval": 0
          },
          "base_uri": "https://localhost:8080/",
          "height": 347
        },
        "outputId": "352000c3-615f-4dfb-acbf-ec72a6d876ab",
        "executionInfo": {
          "status": "ok",
          "timestamp": 1529692261035,
          "user_tz": -120,
          "elapsed": 1308,
          "user": {
            "displayName": "Jakub Bartczuk",
            "photoUrl": "//lh6.googleusercontent.com/-sjx_GV6EJq0/AAAAAAAAAAI/AAAAAAAAAOI/7RdwrdXKVSA/s50-c-k-no/photo.jpg",
            "userId": "112982680208866012419"
          }
        }
      },
      "cell_type": "code",
      "source": [
        "display_reconstruction_results(conv_autoencoder, val_iter)"
      ],
      "execution_count": 10,
      "outputs": [
        {
          "output_type": "stream",
          "text": [
            "validation set metrics: [('rmse', 0.043820148708816536)]\n",
            "Examples RMSE reconstruction error:\n",
            "[0.0745 0.0114 0.0108 0.0121 0.0113]\n"
          ],
          "name": "stdout"
        },
        {
          "output_type": "display_data",
          "data": {
            "image/png": "[encoded data removed]",
            "text/plain": [
              "<matplotlib.figure.Figure at 0x7fad14c91828>"
            ]
          },
          "metadata": {
            "tags": []
          }
        }
      ]
    }
  ]
}