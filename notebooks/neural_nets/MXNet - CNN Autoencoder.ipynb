{
 "cells": [
  {
   "cell_type": "code",
   "execution_count": 1,
   "metadata": {
    "collapsed": true
   },
   "outputs": [],
   "source": [
    "from __future__ import print_function\n",
    "\n",
    "import logging\n",
    "import sys\n",
    "root_logger = logging.getLogger()\n",
    "stdout_handler = logging.StreamHandler(sys.stdout)\n",
    "root_logger.addHandler(stdout_handler)\n",
    "root_logger.setLevel(logging.DEBUG)\n",
    "\n",
    "import mxnet as mx\n",
    "from mxnet import nd, autograd, sym, mod\n",
    "import numpy as np\n",
    "\n",
    "%matplotlib inline\n",
    "import matplotlib.pyplot as plt\n",
    "\n",
    "from src.fetch_mnist import preprocessed_mnist\n",
    "from sklearn.model_selection import train_test_split"
   ]
  },
  {
   "cell_type": "markdown",
   "metadata": {},
   "source": [
    "# Convolutional NN - Autoencoder"
   ]
  },
  {
   "cell_type": "markdown",
   "metadata": {},
   "source": [
    "In this notebook we set up an autoencoder that uses convolutional instead of fully connected hidden layers.\n",
    "\n",
    "### Why convolutions?\n",
    "\n",
    "**Drawbacks of using fully connected layers on image input** \n",
    "\n",
    "* FC layers don't exploit local structure\n",
    "* FC layer is not equivariant under translation (translated pattern can correspond to completely different feature)\n",
    "* For big images FC layers have huge number of parameters (for example for 1000 hidden units, 1000 x 1000 x 3 image such layer has ~3 billion weights)\n",
    "\n",
    "**CNN layers:**\n",
    "\n",
    "* Extract local features\n",
    "* Are equivariant to translation\n",
    "* Have lot less parameters, since they share kernel over the whole input image \n",
    "\n",
    "\n",
    "## Contents:\n",
    "\n",
    "* [Network definition](#model_definition)\n",
    "\n",
    "* [Fitting and visualization](#fitting_visualization)"
   ]
  },
  {
   "cell_type": "markdown",
   "metadata": {},
   "source": [
    "### Data setup\n",
    "\n",
    "Note we have to reshape data to make 2d convolution possible"
   ]
  },
  {
   "cell_type": "code",
   "execution_count": null,
   "metadata": {},
   "outputs": [],
   "source": [
    "X_train, X_test, y_train, y_test = preprocessed_mnist(random_state=0)\n",
    "X_test, X_valid, y_test, y_valid = train_test_split(X_test, y_test, test_size=0.5) \n",
    "category_count = len(np.unique(y_train))\n",
    "\n",
    "def data_iter(X, y, batch_size=256):\n",
    "  batch_size = min(X.shape[0], batch_size)\n",
    "  return mx.io.NDArrayIter(\n",
    "    data=nd.array(X),\n",
    "    label=nd.array(X),\n",
    "    batch_size=batch_size,\n",
    "    label_name='data')\n",
    "\n",
    "def plot_two_img_rows(X1, X2, title, j=5, do_reshape=True):\n",
    "  f, axes = plt.subplots(2, j, figsize=(20, 40 / j))\n",
    "  f.suptitle(title)\n",
    "  for k, x in zip(range(2), [X1, X2]):\n",
    "    for i in range(j):\n",
    "      ax = axes[k, i]\n",
    "      img = x[i]\n",
    "      if do_reshape:\n",
    "        img = img[i, :].reshape(28, 28)\n",
    "      ax.imshow(img, cmap='gray')\n",
    "      ax.axis('off')\n",
    "  plt.show()\n",
    "\n",
    "train_iter = data_iter(X_train, y_train)\n",
    "valid_iter = data_iter(X_valid, y_valid)\n",
    "test_iter = data_iter(X_test, y_test)\n",
    "\n",
    "\n",
    "# reshaping data \n",
    "\n",
    "X_train_len = X_train.shape[0]\n",
    "X_valid_len = X_valid.shape[0]\n",
    "X_test_len = X_test.shape[0]\n",
    "X_shape = (28, 28)\n",
    "\n",
    "train_iter2d = data_iter(X_train.reshape(X_train_len, 1, *X_shape), y_train)\n",
    "valid_iter2d = data_iter(X_valid.reshape(X_valid_len, 1, *X_shape), y_valid)\n",
    "test_iter2d = data_iter(X_test.reshape(X_test_len, 1, *X_shape), y_test)"
   ]
  },
  {
   "cell_type": "code",
   "execution_count": 4,
   "metadata": {
    "collapsed": true
   },
   "outputs": [],
   "source": [
    "input_size = 784\n",
    "hidden_size = 20 \n",
    "\n",
    "training_param_args = {\n",
    "  'num_epoch': 10,\n",
    "  'eval_metric': 'rmse',\n",
    "  'optimizer_params':{'learning_rate': 0.33}\n",
    "}"
   ]
  },
  {
   "cell_type": "markdown",
   "metadata": {},
   "source": [
    "<a id='model_definition'></a>"
   ]
  },
  {
   "cell_type": "code",
   "execution_count": 5,
   "metadata": {
    "collapsed": true
   },
   "outputs": [],
   "source": [
    "def conv_autoencoder_loss(input_size, hidden_size, num_filter, kernel):\n",
    "  data = sym.Variable('data')\n",
    "  weights = sym.Variable(name='weights', \n",
    "                         shape=(hidden_size, num_filter, *kernel),\n",
    "                         init=mx.init.Xavier())\n",
    "  bias_out = sym.Variable(name='bias_out', shape=(1, 1, *input_size), init=mx.init.Zero())\n",
    "  \n",
    "  hid_in = sym.Convolution(\n",
    "    data=data,\n",
    "    weight=weights,\n",
    "    num_filter=hidden_size,\n",
    "    kernel=kernel,\n",
    "    name='hidden_in')\n",
    "  \n",
    "  codes = sym.Activation(hid_in, act_type='relu', name='codes')\n",
    "  hid_out = sym.Deconvolution(\n",
    "    codes,\n",
    "    weights,\n",
    "    num_filter=num_filter,\n",
    "    kernel=kernel,\n",
    "    name='hidden_out')\n",
    "  \n",
    "  out = sym.broadcast_add(\n",
    "    sym.Activation(hid_out, act_type='relu', name='out'),\n",
    "    bias_out\n",
    "  )\n",
    "  return mx.symbol.MakeLoss(\n",
    "    mx.symbol.LinearRegressionOutput(data=out, label=data)\n",
    "  )"
   ]
  },
  {
   "cell_type": "code",
   "execution_count": 6,
   "metadata": {},
   "outputs": [
    {
     "data": {
      "image/svg+xml": [
       "<?xml version=\"1.0\" encoding=\"UTF-8\" standalone=\"no\"?>\n",
       "<!DOCTYPE svg PUBLIC \"-//W3C//DTD SVG 1.1//EN\"\n",
       " \"http://www.w3.org/Graphics/SVG/1.1/DTD/svg11.dtd\">\n",
       "<!-- Generated by graphviz version 2.38.0 (20140413.2041)\n",
       " -->\n",
       "<!-- Title: plot Pages: 1 -->\n",
       "<svg width=\"261pt\" height=\"724pt\"\n",
       " viewBox=\"0.00 0.00 261.00 724.00\" xmlns=\"http://www.w3.org/2000/svg\" xmlns:xlink=\"http://www.w3.org/1999/xlink\">\n",
       "<g id=\"graph0\" class=\"graph\" transform=\"scale(1 1) rotate(0) translate(4 720)\">\n",
       "<title>plot</title>\n",
       "<polygon fill=\"white\" stroke=\"none\" points=\"-4,4 -4,-720 257,-720 257,4 -4,4\"/>\n",
       "<!-- data -->\n",
       "<g id=\"node1\" class=\"node\"><title>data</title>\n",
       "<ellipse fill=\"#8dd3c7\" stroke=\"black\" cx=\"47\" cy=\"-29\" rx=\"47\" ry=\"29\"/>\n",
       "<text text-anchor=\"middle\" x=\"47\" y=\"-25.3\" font-family=\"Times,serif\" font-size=\"14.00\">data</text>\n",
       "</g>\n",
       "<!-- weights -->\n",
       "<g id=\"node2\" class=\"node\"><title>weights</title>\n",
       "<ellipse fill=\"#8dd3c7\" stroke=\"black\" cx=\"173\" cy=\"-29\" rx=\"47\" ry=\"29\"/>\n",
       "<text text-anchor=\"middle\" x=\"173\" y=\"-25.3\" font-family=\"Times,serif\" font-size=\"14.00\">weights</text>\n",
       "</g>\n",
       "<!-- hidden_in -->\n",
       "<g id=\"node3\" class=\"node\"><title>hidden_in</title>\n",
       "<polygon fill=\"#fb8072\" stroke=\"black\" points=\"159,-152 65,-152 65,-94 159,-94 159,-152\"/>\n",
       "<text text-anchor=\"middle\" x=\"112\" y=\"-126.8\" font-family=\"Times,serif\" font-size=\"14.00\">Convolution</text>\n",
       "<text text-anchor=\"middle\" x=\"112\" y=\"-111.8\" font-family=\"Times,serif\" font-size=\"14.00\">5x5/1, 16</text>\n",
       "</g>\n",
       "<!-- hidden_in&#45;&gt;data -->\n",
       "<g id=\"edge1\" class=\"edge\"><title>hidden_in&#45;&gt;data</title>\n",
       "<path fill=\"none\" stroke=\"black\" d=\"M86.1817,-85.4571C79.2329,-75.622 71.8583,-65.184 65.4037,-56.0483\"/>\n",
       "<polygon fill=\"black\" stroke=\"black\" points=\"92.1447,-93.8971 82.6991,-88.3265 89.2595,-89.8135 86.3743,-85.7298 86.3743,-85.7298 86.3743,-85.7298 89.2595,-89.8135 90.0496,-83.1332 92.1447,-93.8971 92.1447,-93.8971\"/>\n",
       "</g>\n",
       "<!-- hidden_in&#45;&gt;weights -->\n",
       "<g id=\"edge2\" class=\"edge\"><title>hidden_in&#45;&gt;weights</title>\n",
       "<path fill=\"none\" stroke=\"black\" d=\"M136.23,-85.4571C142.751,-75.622 149.671,-65.184 155.729,-56.0483\"/>\n",
       "<polygon fill=\"black\" stroke=\"black\" points=\"130.633,-93.8971 132.409,-83.0759 133.397,-89.7299 136.16,-85.5626 136.16,-85.5626 136.16,-85.5626 133.397,-89.7299 139.91,-88.0494 130.633,-93.8971 130.633,-93.8971\"/>\n",
       "</g>\n",
       "<!-- codes -->\n",
       "<g id=\"node4\" class=\"node\"><title>codes</title>\n",
       "<polygon fill=\"#ffffb3\" stroke=\"black\" points=\"159,-246 65,-246 65,-188 159,-188 159,-246\"/>\n",
       "<text text-anchor=\"middle\" x=\"112\" y=\"-220.8\" font-family=\"Times,serif\" font-size=\"14.00\">Activation</text>\n",
       "<text text-anchor=\"middle\" x=\"112\" y=\"-205.8\" font-family=\"Times,serif\" font-size=\"14.00\">relu</text>\n",
       "</g>\n",
       "<!-- codes&#45;&gt;hidden_in -->\n",
       "<g id=\"edge3\" class=\"edge\"><title>codes&#45;&gt;hidden_in</title>\n",
       "<path fill=\"none\" stroke=\"black\" d=\"M112,-177.744C112,-169.204 112,-160.298 112,-152.248\"/>\n",
       "<polygon fill=\"black\" stroke=\"black\" points=\"112,-187.897 107.5,-177.897 112,-182.897 112,-177.897 112,-177.897 112,-177.897 112,-182.897 116.5,-177.897 112,-187.897 112,-187.897\"/>\n",
       "</g>\n",
       "<!-- hidden_out -->\n",
       "<g id=\"node5\" class=\"node\"><title>hidden_out</title>\n",
       "<polygon fill=\"#fccde5\" stroke=\"black\" points=\"234,-340 140,-340 140,-282 234,-282 234,-340\"/>\n",
       "<text text-anchor=\"middle\" x=\"187\" y=\"-307.3\" font-family=\"Times,serif\" font-size=\"14.00\">hidden_out</text>\n",
       "</g>\n",
       "<!-- hidden_out&#45;&gt;weights -->\n",
       "<g id=\"edge5\" class=\"edge\"><title>hidden_out&#45;&gt;weights</title>\n",
       "<path fill=\"none\" stroke=\"black\" d=\"M185.091,-271.815C182.239,-214.772 176.931,-108.622 174.406,-58.1108\"/>\n",
       "<polygon fill=\"black\" stroke=\"black\" points=\"185.594,-281.871 180.6,-272.108 185.344,-276.877 185.094,-271.883 185.094,-271.883 185.094,-271.883 185.344,-276.877 189.588,-271.658 185.594,-281.871 185.594,-281.871\"/>\n",
       "</g>\n",
       "<!-- hidden_out&#45;&gt;codes -->\n",
       "<g id=\"edge4\" class=\"edge\"><title>hidden_out&#45;&gt;codes</title>\n",
       "<path fill=\"none\" stroke=\"black\" d=\"M157.642,-273.987C150.133,-264.777 142.167,-255.005 135.028,-246.248\"/>\n",
       "<polygon fill=\"black\" stroke=\"black\" points=\"164.09,-281.897 154.283,-276.99 160.931,-278.022 157.771,-274.146 157.771,-274.146 157.771,-274.146 160.931,-278.022 161.259,-271.303 164.09,-281.897 164.09,-281.897\"/>\n",
       "</g>\n",
       "<!-- out -->\n",
       "<g id=\"node6\" class=\"node\"><title>out</title>\n",
       "<polygon fill=\"#ffffb3\" stroke=\"black\" points=\"253,-434 159,-434 159,-376 253,-376 253,-434\"/>\n",
       "<text text-anchor=\"middle\" x=\"206\" y=\"-408.8\" font-family=\"Times,serif\" font-size=\"14.00\">Activation</text>\n",
       "<text text-anchor=\"middle\" x=\"206\" y=\"-393.8\" font-family=\"Times,serif\" font-size=\"14.00\">relu</text>\n",
       "</g>\n",
       "<!-- out&#45;&gt;hidden_out -->\n",
       "<g id=\"edge6\" class=\"edge\"><title>out&#45;&gt;hidden_out</title>\n",
       "<path fill=\"none\" stroke=\"black\" d=\"M198.157,-366.026C196.376,-357.4 194.515,-348.386 192.834,-340.248\"/>\n",
       "<polygon fill=\"black\" stroke=\"black\" points=\"200.196,-375.897 193.767,-367.014 199.185,-371 198.174,-366.104 198.174,-366.104 198.174,-366.104 199.185,-371 202.581,-365.194 200.196,-375.897 200.196,-375.897\"/>\n",
       "</g>\n",
       "<!-- bias_out -->\n",
       "<g id=\"node7\" class=\"node\"><title>bias_out</title>\n",
       "<ellipse fill=\"#8dd3c7\" stroke=\"black\" cx=\"94\" cy=\"-405\" rx=\"47\" ry=\"29\"/>\n",
       "<text text-anchor=\"middle\" x=\"94\" y=\"-401.3\" font-family=\"Times,serif\" font-size=\"14.00\">bias_out</text>\n",
       "</g>\n",
       "<!-- broadcast_add0 -->\n",
       "<g id=\"node8\" class=\"node\"><title>broadcast_add0</title>\n",
       "<polygon fill=\"#fccde5\" stroke=\"black\" points=\"141,-528 47,-528 47,-470 141,-470 141,-528\"/>\n",
       "<text text-anchor=\"middle\" x=\"94\" y=\"-495.3\" font-family=\"Times,serif\" font-size=\"14.00\">broadcast_add0</text>\n",
       "</g>\n",
       "<!-- broadcast_add0&#45;&gt;out -->\n",
       "<g id=\"edge7\" class=\"edge\"><title>broadcast_add0&#45;&gt;out</title>\n",
       "<path fill=\"none\" stroke=\"black\" d=\"M136.148,-463.378C147.849,-453.767 160.411,-443.448 171.611,-434.248\"/>\n",
       "<polygon fill=\"black\" stroke=\"black\" points=\"128.212,-469.897 133.083,-460.072 132.076,-466.723 135.94,-463.55 135.94,-463.55 135.94,-463.55 132.076,-466.723 138.796,-467.027 128.212,-469.897 128.212,-469.897\"/>\n",
       "</g>\n",
       "<!-- broadcast_add0&#45;&gt;bias_out -->\n",
       "<g id=\"edge8\" class=\"edge\"><title>broadcast_add0&#45;&gt;bias_out</title>\n",
       "<path fill=\"none\" stroke=\"black\" d=\"M94,-459.744C94,-451.204 94,-442.298 94,-434.248\"/>\n",
       "<polygon fill=\"black\" stroke=\"black\" points=\"94,-469.897 89.5001,-459.897 94,-464.897 94.0001,-459.897 94.0001,-459.897 94.0001,-459.897 94,-464.897 98.5001,-459.897 94,-469.897 94,-469.897\"/>\n",
       "</g>\n",
       "<!-- linearregressionoutput0 -->\n",
       "<g id=\"node9\" class=\"node\"><title>linearregressionoutput0</title>\n",
       "<polygon fill=\"#fccde5\" stroke=\"black\" points=\"103,-622 9,-622 9,-564 103,-564 103,-622\"/>\n",
       "<text text-anchor=\"middle\" x=\"56\" y=\"-589.3\" font-family=\"Times,serif\" font-size=\"14.00\">linearregressionoutput0</text>\n",
       "</g>\n",
       "<!-- linearregressionoutput0&#45;&gt;data -->\n",
       "<g id=\"edge10\" class=\"edge\"><title>linearregressionoutput0&#45;&gt;data</title>\n",
       "<path fill=\"none\" stroke=\"black\" d=\"M43.912,-554.061C33.1178,-516.778 19,-458.064 19,-406 19,-406 19,-406 19,-216 19,-159.343 31.8611,-94.0484 40.1504,-57.8483\"/>\n",
       "<polygon fill=\"black\" stroke=\"black\" points=\"46.8539,-563.985 39.6973,-555.676 45.4328,-559.191 44.0117,-554.397 44.0117,-554.397 44.0117,-554.397 45.4328,-559.191 48.3261,-553.118 46.8539,-563.985 46.8539,-563.985\"/>\n",
       "</g>\n",
       "<!-- linearregressionoutput0&#45;&gt;broadcast_add0 -->\n",
       "<g id=\"edge9\" class=\"edge\"><title>linearregressionoutput0&#45;&gt;broadcast_add0</title>\n",
       "<path fill=\"none\" stroke=\"black\" d=\"M71.4529,-554.588C75.0857,-545.793 78.8978,-536.563 82.3324,-528.248\"/>\n",
       "<polygon fill=\"black\" stroke=\"black\" points=\"67.6077,-563.897 67.2662,-552.936 69.5166,-559.276 71.4254,-554.654 71.4254,-554.654 71.4254,-554.654 69.5166,-559.276 75.5846,-556.372 67.6077,-563.897 67.6077,-563.897\"/>\n",
       "</g>\n",
       "<!-- makeloss0 -->\n",
       "<g id=\"node10\" class=\"node\"><title>makeloss0</title>\n",
       "<polygon fill=\"#fccde5\" stroke=\"black\" points=\"103,-716 9,-716 9,-658 103,-658 103,-716\"/>\n",
       "<text text-anchor=\"middle\" x=\"56\" y=\"-683.3\" font-family=\"Times,serif\" font-size=\"14.00\">makeloss0</text>\n",
       "</g>\n",
       "<!-- makeloss0&#45;&gt;linearregressionoutput0 -->\n",
       "<g id=\"edge11\" class=\"edge\"><title>makeloss0&#45;&gt;linearregressionoutput0</title>\n",
       "<path fill=\"none\" stroke=\"black\" d=\"M56,-647.744C56,-639.204 56,-630.298 56,-622.248\"/>\n",
       "<polygon fill=\"black\" stroke=\"black\" points=\"56,-657.897 51.5001,-647.897 56,-652.897 56.0001,-647.897 56.0001,-647.897 56.0001,-647.897 56,-652.897 60.5001,-647.897 56,-657.897 56,-657.897\"/>\n",
       "</g>\n",
       "</g>\n",
       "</svg>\n"
      ],
      "text/plain": [
       "<graphviz.dot.Digraph at 0x7f3b1fa50c88>"
      ]
     },
     "execution_count": 6,
     "metadata": {},
     "output_type": "execute_result"
    }
   ],
   "source": [
    "conv_autoencoder = mod.Module(\n",
    "  symbol=conv_autoencoder_loss(\n",
    "    input_size=(28, 28),\n",
    "    hidden_size=16,\n",
    "    num_filter=1,\n",
    "    kernel=(5,5)),\n",
    "  label_names=['data'])\n",
    "\n",
    "mx.viz.plot_network(conv_autoencoder.symbol)"
   ]
  },
  {
   "cell_type": "markdown",
   "metadata": {},
   "source": [
    "<a id='fitting_visualization'></a>"
   ]
  },
  {
   "cell_type": "code",
   "execution_count": 8,
   "metadata": {},
   "outputs": [
    {
     "name": "stdout",
     "output_type": "stream",
     "text": [
      "Epoch[0] Train-rmse=0.495298\n",
      "Epoch[0] Time cost=51.320\n",
      "Epoch[0] Validation-rmse=0.532807\n",
      "Epoch[1] Train-rmse=0.439459\n",
      "Epoch[1] Time cost=57.498\n",
      "Epoch[1] Validation-rmse=0.488243\n",
      "Epoch[2] Train-rmse=0.422104\n",
      "Epoch[2] Time cost=51.994\n",
      "Epoch[2] Validation-rmse=0.417472\n",
      "Epoch[3] Train-rmse=0.410638\n",
      "Epoch[3] Time cost=50.911\n",
      "Epoch[3] Validation-rmse=0.429151\n",
      "Epoch[4] Train-rmse=0.398010\n",
      "Epoch[4] Time cost=50.038\n",
      "Epoch[4] Validation-rmse=0.439918\n",
      "Epoch[5] Train-rmse=0.389970\n",
      "Epoch[5] Time cost=50.731\n",
      "Epoch[5] Validation-rmse=0.443593\n",
      "Epoch[6] Train-rmse=0.383099\n",
      "Epoch[6] Time cost=51.983\n",
      "Epoch[6] Validation-rmse=0.450746\n",
      "Epoch[7] Train-rmse=0.377515\n",
      "Epoch[7] Time cost=50.365\n",
      "Epoch[7] Validation-rmse=0.442432\n",
      "Epoch[8] Train-rmse=0.372306\n",
      "Epoch[8] Time cost=50.238\n",
      "Epoch[8] Validation-rmse=0.399466\n",
      "Epoch[9] Train-rmse=0.362201\n",
      "Epoch[9] Time cost=65.128\n",
      "Epoch[9] Validation-rmse=0.358966\n",
      "CPU times: user 18min 26s, sys: 12.3 s, total: 18min 38s\n",
      "Wall time: 9min 23s\n"
     ]
    }
   ],
   "source": [
    "%time conv_autoencoder.fit(train_iter2d, eval_data=valid_iter2d, **training_param_args)\n",
    "conv_reconstructed_digits = conv_autoencoder.predict(valid_iter2d)"
   ]
  },
  {
   "cell_type": "code",
   "execution_count": 14,
   "metadata": {},
   "outputs": [
    {
     "name": "stdout",
     "output_type": "stream",
     "text": [
      "[('rmse', 0.32757400934185299)]\n"
     ]
    },
    {
     "data": {
      "image/png": "[encoded data removed]",
      "text/plain": [
       "<matplotlib.figure.Figure at 0x7f3b0097ea58>"
      ]
     },
     "metadata": {},
     "output_type": "display_data"
    }
   ],
   "source": [
    "print(conv_autoencoder.score(test_iter2d, eval_metric='rmse'))\n",
    "\n",
    "conv_reconstructed_digit_examples = conv_reconstructed_digits[:10].asnumpy()\n",
    "\n",
    "plot_two_img_rows(conv_reconstructed_digit_examples[:10].reshape(10, 28, 28), X_valid[:10].reshape(10,28,28), 'autoencoder (with conv) reconstruction \\nlower row: original images', do_reshape=False)"
   ]
  }
 ],
 "metadata": {
  "hide_input": false,
  "kernelspec": {
   "display_name": "Python 3",
   "language": "python",
   "name": "python3"
  },
  "language_info": {
   "codemirror_mode": {
    "name": "ipython",
    "version": 3
   },
   "file_extension": ".py",
   "mimetype": "text/x-python",
   "name": "python",
   "nbconvert_exporter": "python",
   "pygments_lexer": "ipython3",
   "version": "3.5.3"
  }
 },
 "nbformat": 4,
 "nbformat_minor": 2
}
