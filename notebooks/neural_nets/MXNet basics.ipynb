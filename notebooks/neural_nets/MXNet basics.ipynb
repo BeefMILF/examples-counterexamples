{
 "cells": [
  {
   "cell_type": "code",
   "execution_count": 1,
   "metadata": {
    "collapsed": true
   },
   "outputs": [],
   "source": [
    "from __future__ import print_function\n",
    "\n",
    "import mxnet as mx\n",
    "from mxnet import nd, autograd, sym, mod\n",
    "import numpy as np\n",
    "\n",
    "%matplotlib inline\n",
    "import matplotlib.pyplot as plt\n",
    "\n",
    "from src.fetch_mnist import preprocessed_mnist"
   ]
  },
  {
   "cell_type": "markdown",
   "metadata": {},
   "source": [
    "### Useful links\n",
    "\n",
    "[A Practitioner’s Guide to MXNet](http://home.cse.ust.hk/~xshiab/data/MXNet.pdf)\n",
    "\n",
    "[An introduction to the MXNet API](https://becominghuman.ai/an-introduction-to-the-mxnet-api-part-1-848febdcf8ab) blog post series on Medium\n",
    "\n",
    "[MXNet the straight dope](https://github.com/zackchase/mxnet-the-straight-dope) - jupyter-notebook based deep learning textbook"
   ]
  },
  {
   "cell_type": "markdown",
   "metadata": {},
   "source": [
    "#### Preparing data\n",
    "\n",
    "Note that MXNet uses its own NDArrays, so `numpy` arrays need to be converted to that. We also use `mxnet.io` NDArrayIter class that splits data into batches."
   ]
  },
  {
   "cell_type": "code",
   "execution_count": 2,
   "metadata": {},
   "outputs": [
    {
     "name": "stderr",
     "output_type": "stream",
     "text": [
      "/opt/anaconda3/envs/nnets/lib/python3.5/site-packages/sklearn/utils/validation.py:429: DataConversionWarning: Data with input dtype uint8 was converted to float64 by StandardScaler.\n",
      "  warnings.warn(msg, _DataConversionWarning)\n"
     ]
    }
   ],
   "source": [
    "from sklearn.model_selection import train_test_split\n",
    "\n",
    "X_train, X_test, y_train, y_test = preprocessed_mnist(random_state=0)\n",
    "X_test, X_valid, y_test, y_valid = train_test_split(X_test, y_test, test_size=0.5) \n",
    "category_count = len(np.unique(y_train))\n",
    "\n",
    "def data_iter(X, y, batch_size=5000):\n",
    "  return mx.io.NDArrayIter(\n",
    "    data=nd.array(X),\n",
    "    label=nd.array(y),\n",
    "    batch_size=batch_size)\n",
    "\n",
    "train_iter = data_iter(X_train, y_train)\n",
    "valid_iter = data_iter(X_valid, y_valid)\n",
    "test_iter = data_iter(X_test, y_test)"
   ]
  },
  {
   "cell_type": "markdown",
   "metadata": {},
   "source": [
    "## Logistic regression with softmax using `module` API"
   ]
  },
  {
   "cell_type": "markdown",
   "metadata": {},
   "source": [
    "`mxnet.sym` is a module for symbols - nodes in computation graph (they correspond to tensors from Theano/Tensorflow).\n",
    "\n",
    "The module also contains utilities that can be used for defining layers.\n",
    "\n",
    "`mxnet.mod` contains classes for *Modules* - they provide high-level functionalities a'la `scikit-learn` estimators. Modules can be built with symbols, and they automatically infer weights from layers.\n",
    "\n",
    "Below is an example of simple *Module* that performs logistic regression (it uses minibatch gradient descent for optimization)."
   ]
  },
  {
   "cell_type": "code",
   "execution_count": 3,
   "metadata": {},
   "outputs": [],
   "source": [
    "data = sym.Variable('data')\n",
    "hid = sym.FullyConnected(data, name='hidden', num_hidden=category_count)\n",
    "out = sym.SoftmaxOutput(hid, name='softmax')\n",
    "\n",
    "nn = mod.Module(symbol=out)"
   ]
  },
  {
   "cell_type": "markdown",
   "metadata": {},
   "source": [
    "The following cell contains code that can be passed to our Module's `fit` method. It is used to save per-batch metric (here accuracy is used)."
   ]
  },
  {
   "cell_type": "code",
   "execution_count": 4,
   "metadata": {},
   "outputs": [],
   "source": [
    "from mxnet.callback import LogValidationMetricsCallback\n",
    "\n",
    "def log_to_list(lst, period=None, data_type='Train', log_output=False):\n",
    "    def condition(nbatch):\n",
    "      if period == None:\n",
    "        return nbatch == 0\n",
    "      else:\n",
    "        return nbatch % period == 0\n",
    "  \n",
    "    def _callback(param):\n",
    "        \"\"\"The checkpoint function.\"\"\"\n",
    "        if condition(param.nbatch) and param.eval_metric is not None:\n",
    "            name_value = param.eval_metric.get_name_value()\n",
    "            for name, value in name_value:\n",
    "                message_args = (param.epoch, param.nbatch, data_type, name, value)\n",
    "                message = 'Iter[{}] Batch[{}] {}-{}={}'.format(*message_args)\n",
    "                if log_output:\n",
    "                  print(message)\n",
    "                lst.append((message, message_args))\n",
    "    return _callback"
   ]
  },
  {
   "cell_type": "markdown",
   "metadata": {},
   "source": [
    "#### Training"
   ]
  },
  {
   "cell_type": "code",
   "execution_count": 5,
   "metadata": {
    "scrolled": false
   },
   "outputs": [
    {
     "name": "stdout",
     "output_type": "stream",
     "text": [
      "CPU times: user 1min 43s, sys: 4.84 s, total: 1min 48s\n",
      "Wall time: 53.3 s\n"
     ]
    }
   ],
   "source": [
    "train_log_list = []\n",
    "eval_log_list = []\n",
    "\n",
    "num_epoch = 200 \n",
    "\n",
    "%time nn.fit(\\\n",
    "  train_iter,\\\n",
    "  eval_data=valid_iter,\\\n",
    "  batch_end_callback=log_to_list(train_log_list),\\\n",
    "  eval_batch_end_callback=log_to_list(eval_log_list, data_type='Valid'),\\\n",
    "  num_epoch=num_epoch)"
   ]
  },
  {
   "cell_type": "code",
   "execution_count": 6,
   "metadata": {
    "collapsed": true
   },
   "outputs": [],
   "source": [
    "y_test_pred_proba = nn.predict(test_iter)\n",
    "y_test_pred = nd.argmax(y_test_pred_proba, axis=1)"
   ]
  },
  {
   "cell_type": "code",
   "execution_count": 7,
   "metadata": {},
   "outputs": [
    {
     "data": {
      "text/plain": [
       "0.91514285714285715"
      ]
     },
     "execution_count": 7,
     "metadata": {},
     "output_type": "execute_result"
    }
   ],
   "source": [
    "from sklearn.metrics import accuracy_score\n",
    "\n",
    "accuracy_score(y_test, y_test_pred.asnumpy())"
   ]
  },
  {
   "cell_type": "code",
   "execution_count": 8,
   "metadata": {},
   "outputs": [],
   "source": [
    "train_accs = [msg[1][4] for msg in train_log_list]\n",
    "eval_accs = [msg[1][4] for msg in eval_log_list]"
   ]
  },
  {
   "cell_type": "markdown",
   "metadata": {},
   "source": [
    "## Validation vs training accuracy"
   ]
  },
  {
   "cell_type": "code",
   "execution_count": 9,
   "metadata": {},
   "outputs": [
    {
     "data": {
      "image/png": "[encoded data removed]",
      "text/plain": [
       "<matplotlib.figure.Figure at 0x7f89c6ca1470>"
      ]
     },
     "metadata": {},
     "output_type": "display_data"
    }
   ],
   "source": [
    "plt.plot(np.arange(num_epoch), train_accs, label='train')\n",
    "plt.plot(np.arange(num_epoch), eval_accs, label='validation')\n",
    "plt.legend()\n",
    "plt.show()"
   ]
  }
 ],
 "metadata": {
  "hide_input": false,
  "kernelspec": {
   "display_name": "Python 3",
   "language": "python",
   "name": "python3"
  },
  "language_info": {
   "codemirror_mode": {
    "name": "ipython",
    "version": 3
   },
   "file_extension": ".py",
   "mimetype": "text/x-python",
   "name": "python",
   "nbconvert_exporter": "python",
   "pygments_lexer": "ipython3",
   "version": "3.5.3"
  }
 },
 "nbformat": 4,
 "nbformat_minor": 2
}
