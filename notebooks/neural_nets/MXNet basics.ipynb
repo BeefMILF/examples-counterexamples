{
 "cells": [
  {
   "cell_type": "code",
   "execution_count": 1,
   "metadata": {},
   "outputs": [
    {
     "name": "stdout",
     "output_type": "stream",
     "text": [
      "/home/kuba/Projects/notebooks/examples-counterexamples/src\n"
     ]
    }
   ],
   "source": [
    "cd ../../src"
   ]
  },
  {
   "cell_type": "code",
   "execution_count": 2,
   "metadata": {},
   "outputs": [],
   "source": [
    "from __future__ import print_function\n",
    "\n",
    "import logging\n",
    "\n",
    "import mxnet as mx\n",
    "from mxnet import nd, autograd, sym, mod\n",
    "import numpy as np\n",
    "\n",
    "%matplotlib inline\n",
    "import matplotlib.pyplot as plt\n",
    "\n",
    "from fetch_mnist import preprocessed_mnist"
   ]
  },
  {
   "cell_type": "code",
   "execution_count": 3,
   "metadata": {},
   "outputs": [
    {
     "name": "stderr",
     "output_type": "stream",
     "text": [
      "/opt/anaconda3/envs/nnets/lib/python3.5/site-packages/sklearn/utils/validation.py:429: DataConversionWarning: Data with input dtype uint8 was converted to float64 by StandardScaler.\n",
      "  warnings.warn(msg, _DataConversionWarning)\n"
     ]
    }
   ],
   "source": [
    "from sklearn.model_selection import train_test_split\n",
    "\n",
    "X_train, X_test, y_train, y_test = preprocessed_mnist(random_state=0)\n",
    "X_test, X_valid, y_test, y_valid = train_test_split(X_test, y_test, test_size=0.5) \n",
    "category_count = len(np.unique(y_train))\n",
    "\n",
    "def data_iter(X, y, batch_size=5000):\n",
    "  return mx.io.NDArrayIter(\n",
    "    data=nd.array(X),\n",
    "    label=nd.array(y),\n",
    "    batch_size=batch_size)\n",
    "\n",
    "train_iter = data_iter(X_train, y_train)\n",
    "valid_iter = data_iter(X_valid, y_valid)\n",
    "test_iter = data_iter(X_test, y_test)"
   ]
  },
  {
   "cell_type": "markdown",
   "metadata": {},
   "source": [
    "## Logistic regression with softmax using `module` API"
   ]
  },
  {
   "cell_type": "code",
   "execution_count": 4,
   "metadata": {},
   "outputs": [],
   "source": [
    "data = sym.Variable('data')\n",
    "hid = sym.FullyConnected(data, name='hidden', num_hidden=category_count)\n",
    "out = sym.SoftmaxOutput(hid, name='softmax')\n",
    "\n",
    "nn = mod.Module(symbol=out)"
   ]
  },
  {
   "cell_type": "code",
   "execution_count": 12,
   "metadata": {
    "collapsed": true
   },
   "outputs": [],
   "source": [
    "\"\"\"\n",
    "This is suggested in \n",
    "https://github.com/apache/incubator-mxnet/issues/798\n",
    "\"\"\"\n",
    "\n",
    "def log_to_list(period, lst, print_log=False):\n",
    "    def _callback(param):\n",
    "        \"\"\"The checkpoint function.\"\"\"\n",
    "        if param.nbatch % period == 0 and param.eval_metric is not None:\n",
    "            name_value = param.eval_metric.get_name_value()\n",
    "            for name, value in name_value:\n",
    "                message_args = (param.epoch, param.nbatch, name, value)\n",
    "                message = 'Iter[{}] Batch[{}] Train-{}={}'.format(*message_args)\n",
    "                if print_log:\n",
    "                  print(message)\n",
    "                lsb.append(message, message_args)\n",
    "    return _callback"
   ]
  },
  {
   "cell_type": "code",
   "execution_count": 7,
   "metadata": {
    "scrolled": false
   },
   "outputs": [
    {
     "name": "stdout",
     "output_type": "stream",
     "text": [
      "CPU times: user 24.4 s, sys: 844 ms, total: 25.3 s\n",
      "Wall time: 12.2 s\n"
     ]
    }
   ],
   "source": [
    "log_list = []\n",
    "%time nn.fit(\\\n",
    "  train_iter,\\\n",
    "  eval_data=valid_iter,\\\n",
    "  batch_end_callback=log_to_list(5, log_list),\\\n",
    "  num_epoch=50)"
   ]
  },
  {
   "cell_type": "code",
   "execution_count": 8,
   "metadata": {},
   "outputs": [],
   "source": [
    "y_test_pred_proba = nn.predict(test_iter)\n",
    "y_test_pred = nd.argmax(y_test_pred_proba, axis=1)"
   ]
  },
  {
   "cell_type": "code",
   "execution_count": 9,
   "metadata": {},
   "outputs": [
    {
     "data": {
      "text/plain": [
       "0.89400000000000002"
      ]
     },
     "execution_count": 9,
     "metadata": {},
     "output_type": "execute_result"
    }
   ],
   "source": [
    "from sklearn.metrics import accuracy_score\n",
    "\n",
    "accuracy_score(y_test, y_test_pred.asnumpy())"
   ]
  },
  {
   "cell_type": "code",
   "execution_count": 14,
   "metadata": {},
   "outputs": [],
   "source": [
    "accs = [msg[1][3] for msg in log_list]"
   ]
  },
  {
   "cell_type": "markdown",
   "metadata": {},
   "source": [
    "#### TODO: is this train or validation metric? "
   ]
  },
  {
   "cell_type": "code",
   "execution_count": 19,
   "metadata": {},
   "outputs": [
    {
     "data": {
      "text/plain": [
       "[<matplotlib.lines.Line2D at 0x7f0790ef81d0>]"
      ]
     },
     "execution_count": 19,
     "metadata": {},
     "output_type": "execute_result"
    },
    {
     "data": {
      "image/png": "[encoded data removed]",
      "text/plain": [
       "<matplotlib.figure.Figure at 0x7f0790f4b198>"
      ]
     },
     "metadata": {},
     "output_type": "display_data"
    }
   ],
   "source": [
    "plt.plot(np.arange(50 * 3), accs)"
   ]
  }
 ],
 "metadata": {
  "hide_input": false,
  "kernelspec": {
   "display_name": "Python 3",
   "language": "python",
   "name": "python3"
  },
  "language_info": {
   "codemirror_mode": {
    "name": "ipython",
    "version": 3
   },
   "file_extension": ".py",
   "mimetype": "text/x-python",
   "name": "python",
   "nbconvert_exporter": "python",
   "pygments_lexer": "ipython3",
   "version": "3.5.3"
  }
 },
 "nbformat": 4,
 "nbformat_minor": 2
}
