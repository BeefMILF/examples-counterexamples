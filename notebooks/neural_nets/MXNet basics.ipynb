{
 "cells": [
  {
   "cell_type": "code",
   "execution_count": 1,
   "metadata": {},
   "outputs": [],
   "source": [
    "from __future__ import print_function\n",
    "\n",
    "import mxnet as mx\n",
    "from mxnet import nd, autograd, sym, mod\n",
    "import numpy as np\n",
    "\n",
    "%matplotlib inline\n",
    "import matplotlib.pyplot as plt\n",
    "\n",
    "from src.fetch_mnist import preprocessed_mnist"
   ]
  },
  {
   "cell_type": "markdown",
   "metadata": {},
   "source": [
    "### Useful links\n",
    "\n",
    "[A Practitioner’s Guide to MXNet](http://home.cse.ust.hk/~xshiab/data/MXNet.pdf)\n",
    "\n",
    "[An introduction to the MXNet API](https://becominghuman.ai/an-introduction-to-the-mxnet-api-part-1-848febdcf8ab) blog post series on Medium\n",
    "\n",
    "[MXNet the straight dope](https://github.com/zackchase/mxnet-the-straight-dope) - jupyter-notebook based deep learning textbook"
   ]
  },
  {
   "cell_type": "markdown",
   "metadata": {},
   "source": [
    "#### Preparing data\n",
    "\n",
    "Note that MXNet uses its own NDArrays, so `numpy` arrays need to be converted to that. We also use `mxnet.io` NDArrayIter class that splits data into batches."
   ]
  },
  {
   "cell_type": "code",
   "execution_count": 2,
   "metadata": {},
   "outputs": [
    {
     "name": "stderr",
     "output_type": "stream",
     "text": [
      "/home/semantive/Projects/notebooks/examples-counterexamples/venv/lib/python3.5/site-packages/sklearn/utils/validation.py:475: DataConversionWarning: Data with input dtype uint8 was converted to float64 by StandardScaler.\n",
      "  warnings.warn(msg, DataConversionWarning)\n"
     ]
    }
   ],
   "source": [
    "from sklearn.model_selection import train_test_split\n",
    "\n",
    "X_train, X_test, y_train, y_test = preprocessed_mnist(random_state=0)\n",
    "X_test, X_valid, y_test, y_valid = train_test_split(X_test, y_test, test_size=0.5) \n",
    "category_count = len(np.unique(y_train))\n",
    "\n",
    "def data_iter(X, y, batch_size=500):\n",
    "  batch_size = min(X.shape[0], batch_size)\n",
    "  return mx.io.NDArrayIter(\n",
    "    data=nd.array(X),\n",
    "    label=nd.array(y),\n",
    "    batch_size=batch_size)\n",
    "\n",
    "train_iter = data_iter(X_train, y_train)\n",
    "valid_iter = data_iter(X_valid, y_valid)\n",
    "test_iter = data_iter(X_test, y_test)"
   ]
  },
  {
   "cell_type": "markdown",
   "metadata": {},
   "source": [
    "## Logistic regression with softmax using `module` API"
   ]
  },
  {
   "cell_type": "markdown",
   "metadata": {},
   "source": [
    "`mxnet.sym` is a module for symbols - nodes in computation graph (they correspond to tensors from Theano/Tensorflow).\n",
    "\n",
    "The module also contains utilities that can be used for defining layers.\n",
    "\n",
    "`mxnet.mod` contains classes for *Modules* - they provide high-level functionalities a'la `scikit-learn` estimators. Modules can be built with symbols, and they automatically infer weights from layers.\n",
    "\n",
    "Below is an example of simple *Module* that performs logistic regression (it uses minibatch gradient descent for optimization)."
   ]
  },
  {
   "cell_type": "code",
   "execution_count": 3,
   "metadata": {},
   "outputs": [],
   "source": [
    "data = sym.Variable('data')\n",
    "softmax_input = sym.FullyConnected(data, name='softmax_input', num_hidden=category_count)\n",
    "softmax_output = sym.SoftmaxOutput(softmax_input, name='softmax')\n",
    "\n",
    "logistic_classifier = mod.Module(symbol=softmax_output)"
   ]
  },
  {
   "cell_type": "markdown",
   "metadata": {},
   "source": [
    "The following cell contains code that can be passed to our Module's `fit` method. It is used to save per-batch metric (here accuracy is used)."
   ]
  },
  {
   "cell_type": "code",
   "execution_count": 4,
   "metadata": {},
   "outputs": [],
   "source": [
    "from mxnet.callback import LogValidationMetricsCallback\n",
    "\n",
    "def log_to_list(lst, period=None, data_type='Train', log_output=False):\n",
    "    def condition(nbatch):\n",
    "      if period == None:\n",
    "        return nbatch == 0\n",
    "      else:\n",
    "        return nbatch % period == 0\n",
    "  \n",
    "    def _callback(param):\n",
    "        \"\"\"The checkpoint function.\"\"\"\n",
    "        if condition(param.nbatch) and param.eval_metric is not None:\n",
    "            name_value = param.eval_metric.get_name_value()\n",
    "            for name, value in name_value:\n",
    "                message_args = (param.epoch, param.nbatch, data_type, name, value)\n",
    "                message = 'Iter[{}] Batch[{}] {}-{}={}'.format(*message_args)\n",
    "                if log_output:\n",
    "                  print(message)\n",
    "                lst.append((message, message_args))\n",
    "    return _callback"
   ]
  },
  {
   "cell_type": "markdown",
   "metadata": {},
   "source": [
    "#### Training"
   ]
  },
  {
   "cell_type": "code",
   "execution_count": 5,
   "metadata": {},
   "outputs": [],
   "source": [
    "train_log_list = []\n",
    "eval_log_list = []\n",
    "\n",
    "num_epoch = 100 "
   ]
  },
  {
   "cell_type": "code",
   "execution_count": 6,
   "metadata": {
    "scrolled": false
   },
   "outputs": [
    {
     "name": "stdout",
     "output_type": "stream",
     "text": [
      "CPU times: user 51.9 s, sys: 1.9 s, total: 53.8 s\n",
      "Wall time: 22.5 s\n"
     ]
    }
   ],
   "source": [
    "%time logistic_classifier.fit(\\\n",
    "  train_iter,\\\n",
    "  eval_data=valid_iter,\\\n",
    "  eval_metric='ce',\\\n",
    "  batch_end_callback=log_to_list(train_log_list),\\\n",
    "  eval_batch_end_callback=log_to_list(eval_log_list, data_type='Valid'),\\\n",
    "  num_epoch=num_epoch)"
   ]
  },
  {
   "cell_type": "code",
   "execution_count": 7,
   "metadata": {},
   "outputs": [],
   "source": [
    "y_test_pred_proba = logistic_classifier.predict(test_iter)\n",
    "y_test_pred = nd.argmax(y_test_pred_proba, axis=1)"
   ]
  },
  {
   "cell_type": "code",
   "execution_count": 8,
   "metadata": {},
   "outputs": [],
   "source": [
    "from sklearn.metrics import accuracy_score\n",
    "\n",
    "def evaluate_classifier(clf, round_to=3):\n",
    "  datasets = [data_iter(X_train, y_train), data_iter(X_valid, y_valid), data_iter(X_test, y_test)]\n",
    "  label_sets = [y_train, y_valid, y_test]\n",
    "  for (set_label, dataset_iter, labels) in zip(['train', 'validation', 'test'], datasets, label_sets):\n",
    "    y_pred_proba = clf.predict(dataset_iter)\n",
    "    y_pred = nd.argmax(y_pred_proba, axis=1)\n",
    "\n",
    "    accuracy = accuracy_score(labels, y_pred.asnumpy())\n",
    "\n",
    "    print(\n",
    "      'accuracy on {} set:\\n{}'.format(\n",
    "        set_label,\n",
    "        round(accuracy, round_to)))"
   ]
  },
  {
   "cell_type": "code",
   "execution_count": 9,
   "metadata": {},
   "outputs": [
    {
     "name": "stdout",
     "output_type": "stream",
     "text": [
      "accuracy on train set:\n",
      "0.929\n",
      "accuracy on validation set:\n",
      "0.924\n",
      "accuracy on test set:\n",
      "0.919\n"
     ]
    }
   ],
   "source": [
    "evaluate_classifier(logistic_classifier)"
   ]
  },
  {
   "cell_type": "code",
   "execution_count": 10,
   "metadata": {},
   "outputs": [],
   "source": [
    "def get_loss_from_logs(logs):\n",
    "  return [msg[1][4] for msg in logs]\n",
    "\n",
    "train_loss = get_loss_from_logs(train_log_list)\n",
    "eval_loss = get_loss_from_logs(eval_log_list)"
   ]
  },
  {
   "cell_type": "markdown",
   "metadata": {},
   "source": [
    "## Validation vs training loss "
   ]
  },
  {
   "cell_type": "code",
   "execution_count": 11,
   "metadata": {},
   "outputs": [],
   "source": [
    "def plot_train_vs_validation_loss(train_loss, eval_loss, offset=0):\n",
    "  assert len(train_loss) == len(eval_loss)\n",
    "  l = len(train_loss)\n",
    "  rng = np.arange(start=offset, stop=l)\n",
    "  \n",
    "  plt.plot(rng, train_loss[offset:], label='train')\n",
    "  plt.plot(rng, eval_loss[offset:], label='validation')\n",
    "  plt.legend()\n",
    "  plt.show()"
   ]
  },
  {
   "cell_type": "code",
   "execution_count": 12,
   "metadata": {},
   "outputs": [
    {
     "data": {
      "image/png": "[encoded data removed]",
      "text/plain": [
       "<matplotlib.figure.Figure at 0x7f65c073fe10>"
      ]
     },
     "metadata": {},
     "output_type": "display_data"
    }
   ],
   "source": [
    "plot_train_vs_validation_loss(train_loss, eval_loss)"
   ]
  },
  {
   "cell_type": "markdown",
   "metadata": {},
   "source": [
    "#### Validation vs training loss without first 10 steps"
   ]
  },
  {
   "cell_type": "code",
   "execution_count": 13,
   "metadata": {},
   "outputs": [
    {
     "data": {
      "image/png": "[encoded data removed]",
      "text/plain": [
       "<matplotlib.figure.Figure at 0x7f65c06d2a20>"
      ]
     },
     "metadata": {},
     "output_type": "display_data"
    }
   ],
   "source": [
    "plot_train_vs_validation_loss(train_loss, eval_loss, offset=10)"
   ]
  },
  {
   "cell_type": "markdown",
   "metadata": {},
   "source": [
    "## Multilayer Perceptron"
   ]
  },
  {
   "cell_type": "code",
   "execution_count": 14,
   "metadata": {},
   "outputs": [],
   "source": [
    "num_hidden = 64\n",
    "\n",
    "def mlp_out(num_hidden):\n",
    "  data = sym.Variable('data')\n",
    "\n",
    "  hid_in = sym.FullyConnected(\n",
    "    data,\n",
    "    name='hidden_in',\n",
    "    num_hidden=num_hidden)\n",
    "  hid_out = sym.Activation(\n",
    "    hid_in,\n",
    "    act_type='relu',\n",
    "    name='hidden_out')\n",
    "\n",
    "  softmax_in = sym.FullyConnected(\n",
    "    data=hid_out,\n",
    "    name='softmax_in',\n",
    "    num_hidden=category_count)\n",
    "  return sym.SoftmaxOutput(softmax_in, name='softmax')"
   ]
  },
  {
   "cell_type": "code",
   "execution_count": 15,
   "metadata": {},
   "outputs": [],
   "source": [
    "mlp = mod.Module(symbol=mlp_out(num_hidden))"
   ]
  },
  {
   "cell_type": "code",
   "execution_count": 16,
   "metadata": {},
   "outputs": [
    {
     "data": {
      "image/svg+xml": [
       "<?xml version=\"1.0\" encoding=\"UTF-8\" standalone=\"no\"?>\n",
       "<!DOCTYPE svg PUBLIC \"-//W3C//DTD SVG 1.1//EN\"\n",
       " \"http://www.w3.org/Graphics/SVG/1.1/DTD/svg11.dtd\">\n",
       "<!-- Generated by graphviz version 2.38.0 (20140413.2041)\n",
       " -->\n",
       "<!-- Title: plot Pages: 1 -->\n",
       "<svg width=\"214pt\" height=\"442pt\"\n",
       " viewBox=\"0.00 0.00 214.00 442.00\" xmlns=\"http://www.w3.org/2000/svg\" xmlns:xlink=\"http://www.w3.org/1999/xlink\">\n",
       "<g id=\"graph0\" class=\"graph\" transform=\"scale(1 1) rotate(0) translate(4 438)\">\n",
       "<title>plot</title>\n",
       "<polygon fill=\"white\" stroke=\"none\" points=\"-4,4 -4,-438 210,-438 210,4 -4,4\"/>\n",
       "<!-- data -->\n",
       "<g id=\"node1\" class=\"node\"><title>data</title>\n",
       "<ellipse fill=\"#8dd3c7\" stroke=\"black\" cx=\"47\" cy=\"-29\" rx=\"47\" ry=\"29\"/>\n",
       "<text text-anchor=\"middle\" x=\"47\" y=\"-25.3\" font-family=\"Times,serif\" font-size=\"14.00\">data</text>\n",
       "</g>\n",
       "<!-- hidden_in -->\n",
       "<g id=\"node2\" class=\"node\"><title>hidden_in</title>\n",
       "<polygon fill=\"#fb8072\" stroke=\"black\" points=\"94,-152 -7.10543e-15,-152 -7.10543e-15,-94 94,-94 94,-152\"/>\n",
       "<text text-anchor=\"middle\" x=\"47\" y=\"-126.8\" font-family=\"Times,serif\" font-size=\"14.00\">FullyConnected</text>\n",
       "<text text-anchor=\"middle\" x=\"47\" y=\"-111.8\" font-family=\"Times,serif\" font-size=\"14.00\">64</text>\n",
       "</g>\n",
       "<!-- hidden_in&#45;&gt;data -->\n",
       "<g id=\"edge1\" class=\"edge\"><title>hidden_in&#45;&gt;data</title>\n",
       "<path fill=\"none\" stroke=\"black\" d=\"M47,-83.7443C47,-75.2043 47,-66.2977 47,-58.2479\"/>\n",
       "<polygon fill=\"black\" stroke=\"black\" points=\"47,-93.8971 42.5001,-83.897 47,-88.8971 47.0001,-83.8971 47.0001,-83.8971 47.0001,-83.8971 47,-88.8971 51.5001,-83.8971 47,-93.8971 47,-93.8971\"/>\n",
       "</g>\n",
       "<!-- hidden_out -->\n",
       "<g id=\"node3\" class=\"node\"><title>hidden_out</title>\n",
       "<polygon fill=\"#ffffb3\" stroke=\"black\" points=\"94,-246 -7.10543e-15,-246 -7.10543e-15,-188 94,-188 94,-246\"/>\n",
       "<text text-anchor=\"middle\" x=\"47\" y=\"-220.8\" font-family=\"Times,serif\" font-size=\"14.00\">Activation</text>\n",
       "<text text-anchor=\"middle\" x=\"47\" y=\"-205.8\" font-family=\"Times,serif\" font-size=\"14.00\">relu</text>\n",
       "</g>\n",
       "<!-- hidden_out&#45;&gt;hidden_in -->\n",
       "<g id=\"edge2\" class=\"edge\"><title>hidden_out&#45;&gt;hidden_in</title>\n",
       "<path fill=\"none\" stroke=\"black\" d=\"M47,-177.744C47,-169.204 47,-160.298 47,-152.248\"/>\n",
       "<polygon fill=\"black\" stroke=\"black\" points=\"47,-187.897 42.5001,-177.897 47,-182.897 47.0001,-177.897 47.0001,-177.897 47.0001,-177.897 47,-182.897 51.5001,-177.897 47,-187.897 47,-187.897\"/>\n",
       "</g>\n",
       "<!-- softmax_in -->\n",
       "<g id=\"node4\" class=\"node\"><title>softmax_in</title>\n",
       "<polygon fill=\"#fb8072\" stroke=\"black\" points=\"94,-340 -7.10543e-15,-340 -7.10543e-15,-282 94,-282 94,-340\"/>\n",
       "<text text-anchor=\"middle\" x=\"47\" y=\"-314.8\" font-family=\"Times,serif\" font-size=\"14.00\">FullyConnected</text>\n",
       "<text text-anchor=\"middle\" x=\"47\" y=\"-299.8\" font-family=\"Times,serif\" font-size=\"14.00\">10</text>\n",
       "</g>\n",
       "<!-- softmax_in&#45;&gt;hidden_out -->\n",
       "<g id=\"edge3\" class=\"edge\"><title>softmax_in&#45;&gt;hidden_out</title>\n",
       "<path fill=\"none\" stroke=\"black\" d=\"M47,-271.744C47,-263.204 47,-254.298 47,-246.248\"/>\n",
       "<polygon fill=\"black\" stroke=\"black\" points=\"47,-281.897 42.5001,-271.897 47,-276.897 47.0001,-271.897 47.0001,-271.897 47.0001,-271.897 47,-276.897 51.5001,-271.897 47,-281.897 47,-281.897\"/>\n",
       "</g>\n",
       "<!-- softmax_label -->\n",
       "<g id=\"node5\" class=\"node\"><title>softmax_label</title>\n",
       "<ellipse fill=\"#8dd3c7\" stroke=\"black\" cx=\"159\" cy=\"-311\" rx=\"47\" ry=\"29\"/>\n",
       "<text text-anchor=\"middle\" x=\"159\" y=\"-307.3\" font-family=\"Times,serif\" font-size=\"14.00\">softmax_label</text>\n",
       "</g>\n",
       "<!-- softmax -->\n",
       "<g id=\"node6\" class=\"node\"><title>softmax</title>\n",
       "<polygon fill=\"#fccde5\" stroke=\"black\" points=\"150,-434 56,-434 56,-376 150,-376 150,-434\"/>\n",
       "<text text-anchor=\"middle\" x=\"103\" y=\"-401.3\" font-family=\"Times,serif\" font-size=\"14.00\">softmax</text>\n",
       "</g>\n",
       "<!-- softmax&#45;&gt;softmax_in -->\n",
       "<g id=\"edge4\" class=\"edge\"><title>softmax&#45;&gt;softmax_in</title>\n",
       "<path fill=\"none\" stroke=\"black\" d=\"M80.5686,-367.148C75.113,-358.186 69.3635,-348.74 64.1943,-340.248\"/>\n",
       "<polygon fill=\"black\" stroke=\"black\" points=\"85.8939,-375.897 76.8505,-369.695 83.2941,-371.626 80.6944,-367.355 80.6944,-367.355 80.6944,-367.355 83.2941,-371.626 84.5383,-365.015 85.8939,-375.897 85.8939,-375.897\"/>\n",
       "</g>\n",
       "<!-- softmax&#45;&gt;softmax_label -->\n",
       "<g id=\"edge5\" class=\"edge\"><title>softmax&#45;&gt;softmax_label</title>\n",
       "<path fill=\"none\" stroke=\"black\" d=\"M125.377,-367.237C131.257,-357.578 137.481,-347.353 142.955,-338.36\"/>\n",
       "<polygon fill=\"black\" stroke=\"black\" points=\"120.106,-375.897 121.462,-365.015 122.706,-371.626 125.306,-367.355 125.306,-367.355 125.306,-367.355 122.706,-371.626 129.15,-369.695 120.106,-375.897 120.106,-375.897\"/>\n",
       "</g>\n",
       "</g>\n",
       "</svg>\n"
      ],
      "text/plain": [
       "<graphviz.dot.Digraph at 0x7f65c065c908>"
      ]
     },
     "execution_count": 16,
     "metadata": {},
     "output_type": "execute_result"
    }
   ],
   "source": [
    "mx.viz.plot_network(mlp.symbol)"
   ]
  },
  {
   "cell_type": "code",
   "execution_count": 17,
   "metadata": {},
   "outputs": [
    {
     "name": "stdout",
     "output_type": "stream",
     "text": [
      "CPU times: user 1min 21s, sys: 3.28 s, total: 1min 25s\n",
      "Wall time: 37.6 s\n"
     ]
    }
   ],
   "source": [
    "mlp_train_log_list = []\n",
    "mlp_eval_log_list = []\n",
    "\n",
    "%time mlp.fit(\\\n",
    "  train_iter,\\\n",
    "  eval_data=valid_iter,\\\n",
    "  eval_metric='ce',\\\n",
    "  batch_end_callback=log_to_list(mlp_train_log_list),\\\n",
    "  eval_batch_end_callback=log_to_list(mlp_eval_log_list, data_type='Valid'),\\\n",
    "  num_epoch=num_epoch)"
   ]
  },
  {
   "cell_type": "markdown",
   "metadata": {},
   "source": [
    "### Validation vs training loss for MLP "
   ]
  },
  {
   "cell_type": "code",
   "execution_count": 18,
   "metadata": {},
   "outputs": [],
   "source": [
    "mlp_train_loss = [msg[1][4] for msg in mlp_train_log_list]\n",
    "mlp_eval_loss = [msg[1][4] for msg in mlp_eval_log_list]"
   ]
  },
  {
   "cell_type": "code",
   "execution_count": 19,
   "metadata": {},
   "outputs": [
    {
     "data": {
      "image/png": "[encoded data removed]",
      "text/plain": [
       "<matplotlib.figure.Figure at 0x7f65c0633518>"
      ]
     },
     "metadata": {},
     "output_type": "display_data"
    }
   ],
   "source": [
    "plot_train_vs_validation_loss(mlp_train_loss, mlp_eval_loss)"
   ]
  },
  {
   "cell_type": "code",
   "execution_count": 20,
   "metadata": {},
   "outputs": [
    {
     "data": {
      "image/png": "[encoded data removed]",
      "text/plain": [
       "<matplotlib.figure.Figure at 0x7f65c060d908>"
      ]
     },
     "metadata": {},
     "output_type": "display_data"
    }
   ],
   "source": [
    "plot_train_vs_validation_loss(mlp_train_loss, mlp_eval_loss, offset=10)"
   ]
  },
  {
   "cell_type": "markdown",
   "metadata": {},
   "source": [
    "## Accuracy"
   ]
  },
  {
   "cell_type": "code",
   "execution_count": 21,
   "metadata": {},
   "outputs": [
    {
     "name": "stdout",
     "output_type": "stream",
     "text": [
      "accuracy on train set:\n",
      "0.96\n",
      "accuracy on validation set:\n",
      "0.954\n",
      "accuracy on test set:\n",
      "0.951\n"
     ]
    }
   ],
   "source": [
    "evaluate_classifier(mlp)"
   ]
  },
  {
   "cell_type": "markdown",
   "metadata": {},
   "source": [
    "## Different optimizers/hyperparameters"
   ]
  },
  {
   "cell_type": "code",
   "execution_count": 32,
   "metadata": {},
   "outputs": [],
   "source": [
    "customized_mlp = mod.Module(symbol=mlp_out(num_hidden))\n",
    "\n",
    "customized_mlp.bind(data_shapes=train_iter.provide_data, label_shapes=train_iter.provide_label)\n",
    "customized_mlp.init_params(initializer=mx.init.Xavier(magnitude=2.))"
   ]
  },
  {
   "cell_type": "code",
   "execution_count": 33,
   "metadata": {},
   "outputs": [
    {
     "name": "stderr",
     "output_type": "stream",
     "text": [
      "WARNING:root:Already bound, ignoring bind()\n",
      "/home/semantive/Projects/notebooks/examples-counterexamples/venv/lib/python3.5/site-packages/mxnet/module/base_module.py:464: UserWarning: Parameters already initialized and force_init=False. init_params call ignored.\n",
      "  allow_missing=allow_missing, force_init=force_init)\n"
     ]
    },
    {
     "name": "stdout",
     "output_type": "stream",
     "text": [
      "CPU times: user 43.2 s, sys: 2.14 s, total: 45.3 s\n",
      "Wall time: 19.6 s\n"
     ]
    }
   ],
   "source": [
    "customized_mlp_train_log_list = []\n",
    "customized_mlp_eval_log_list = []\n",
    "\n",
    "%time customized_mlp.fit(\\\n",
    "  train_iter,\\\n",
    "  eval_data=valid_iter,\\\n",
    "  optimizer='adam',\\\n",
    "  optimizer_params={'learning_rate': 0.001, 'wd': 1e-3},\\\n",
    "  eval_metric='ce',\\\n",
    "  batch_end_callback=log_to_list(customized_mlp_train_log_list),\\\n",
    "  eval_batch_end_callback=log_to_list(customized_mlp_eval_log_list, data_type='Valid'),\\\n",
    "  num_epoch=50)"
   ]
  },
  {
   "cell_type": "code",
   "execution_count": 36,
   "metadata": {},
   "outputs": [],
   "source": [
    "customized_mlp_train_loss = [msg[1][4] for msg in customized_mlp_train_log_list]\n",
    "customized_mlp_eval_loss = [msg[1][4] for msg in customized_mlp_eval_log_list]"
   ]
  },
  {
   "cell_type": "code",
   "execution_count": 37,
   "metadata": {},
   "outputs": [
    {
     "data": {
      "image/png": "[encoded data removed]",
      "text/plain": [
       "<matplotlib.figure.Figure at 0x7f65c05c1828>"
      ]
     },
     "metadata": {},
     "output_type": "display_data"
    },
    {
     "name": "stdout",
     "output_type": "stream",
     "text": [
      "accuracy on train set:\n",
      "0.996\n",
      "accuracy on validation set:\n",
      "0.976\n",
      "accuracy on test set:\n",
      "0.972\n"
     ]
    }
   ],
   "source": [
    "plot_train_vs_validation_loss(customized_mlp_train_loss, customized_mlp_eval_loss)\n",
    "evaluate_classifier(customized_mlp)"
   ]
  }
 ],
 "metadata": {
  "hide_input": false,
  "kernelspec": {
   "display_name": "Python 3",
   "language": "python",
   "name": "python3"
  },
  "language_info": {
   "codemirror_mode": {
    "name": "ipython",
    "version": 3
   },
   "file_extension": ".py",
   "mimetype": "text/x-python",
   "name": "python",
   "nbconvert_exporter": "python",
   "pygments_lexer": "ipython3",
   "version": "3.5.2"
  }
 },
 "nbformat": 4,
 "nbformat_minor": 2
}
