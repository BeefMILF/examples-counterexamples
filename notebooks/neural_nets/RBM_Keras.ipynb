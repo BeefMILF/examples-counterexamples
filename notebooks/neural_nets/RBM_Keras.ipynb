{
  "nbformat": 4,
  "nbformat_minor": 0,
  "metadata": {
    "colab": {
      "name": "RBM Keras.ipynb",
      "version": "0.3.2",
      "views": {},
      "default_view": {},
      "provenance": [],
      "collapsed_sections": []
    },
    "kernelspec": {
      "name": "python3",
      "display_name": "Python 3"
    },
    "accelerator": "GPU"
  },
  "cells": [
    {
      "metadata": {
        "id": "SArBVNsbbNmY",
        "colab_type": "code",
        "colab": {
          "autoexec": {
            "startup": false,
            "wait_interval": 0
          },
          "output_extras": [
            {
              "item_id": 1
            }
          ],
          "base_uri": "https://localhost:8080/",
          "height": 173
        },
        "outputId": "919dc2ee-e72f-4488-8053-954c7c11385c",
        "executionInfo": {
          "status": "ok",
          "timestamp": 1520156838270,
          "user_tz": -60,
          "elapsed": 2634,
          "user": {
            "displayName": "Jakub Bartczuk",
            "photoUrl": "//lh6.googleusercontent.com/-sjx_GV6EJq0/AAAAAAAAAAI/AAAAAAAAAOI/7RdwrdXKVSA/s50-c-k-no/photo.jpg",
            "userId": "112982680208866012419"
          }
        }
      },
      "cell_type": "code",
      "source": [
        "!pip install keras"
      ],
      "execution_count": 1,
      "outputs": [
        {
          "output_type": "stream",
          "text": [
            "Collecting keras\n",
            "  Downloading Keras-2.1.4-py2.py3-none-any.whl (322kB)\n",
            "\u001b[K    100% |████████████████████████████████| 327kB 2.2MB/s \n",
            "\u001b[?25hRequirement already satisfied: six>=1.9.0 in /usr/local/lib/python3.6/dist-packages (from keras)\n",
            "Requirement already satisfied: scipy>=0.14 in /usr/local/lib/python3.6/dist-packages (from keras)\n",
            "Requirement already satisfied: pyyaml in /usr/local/lib/python3.6/dist-packages (from keras)\n",
            "Requirement already satisfied: numpy>=1.9.1 in /usr/local/lib/python3.6/dist-packages (from keras)\n",
            "Installing collected packages: keras\n",
            "Successfully installed keras-2.1.4\n"
          ],
          "name": "stdout"
        }
      ]
    },
    {
      "metadata": {
        "id": "E1qQ5AtObX-O",
        "colab_type": "code",
        "colab": {
          "autoexec": {
            "startup": false,
            "wait_interval": 0
          },
          "output_extras": [
            {
              "item_id": 1
            }
          ],
          "base_uri": "https://localhost:8080/",
          "height": 34
        },
        "outputId": "76dc7c8a-a140-46aa-b460-75e09aa9b401",
        "executionInfo": {
          "status": "ok",
          "timestamp": 1520156846816,
          "user_tz": -60,
          "elapsed": 7262,
          "user": {
            "displayName": "Jakub Bartczuk",
            "photoUrl": "//lh6.googleusercontent.com/-sjx_GV6EJq0/AAAAAAAAAAI/AAAAAAAAAOI/7RdwrdXKVSA/s50-c-k-no/photo.jpg",
            "userId": "112982680208866012419"
          }
        }
      },
      "cell_type": "code",
      "source": [
        "import numpy as np\n",
        "\n",
        "from sklearn.datasets import fetch_olivetti_faces\n",
        "from sklearn.model_selection import train_test_split\n",
        "\n",
        "import keras.backend as K\n",
        "from keras.layers import Activation, Input\n",
        "\n",
        "import matplotlib.pyplot as plt\n",
        "%matplotlib inline\n",
        "\n",
        "plt.style.use('classic')\n"
      ],
      "execution_count": 2,
      "outputs": [
        {
          "output_type": "stream",
          "text": [
            "Using TensorFlow backend.\n"
          ],
          "name": "stderr"
        }
      ]
    },
    {
      "metadata": {
        "id": "Sn9NA2iFA3aD",
        "colab_type": "text"
      },
      "cell_type": "markdown",
      "source": [
        "### Loading data (Olivetti faces)"
      ]
    },
    {
      "metadata": {
        "id": "O_CKmnkfbgvz",
        "colab_type": "code",
        "colab": {
          "autoexec": {
            "startup": false,
            "wait_interval": 0
          },
          "output_extras": [
            {
              "item_id": 1
            }
          ],
          "base_uri": "https://localhost:8080/",
          "height": 34
        },
        "outputId": "4c458faa-955c-4708-fbc5-6fb6c6a78a00",
        "executionInfo": {
          "status": "ok",
          "timestamp": 1520156854134,
          "user_tz": -60,
          "elapsed": 6966,
          "user": {
            "displayName": "Jakub Bartczuk",
            "photoUrl": "//lh6.googleusercontent.com/-sjx_GV6EJq0/AAAAAAAAAAI/AAAAAAAAAOI/7RdwrdXKVSA/s50-c-k-no/photo.jpg",
            "userId": "112982680208866012419"
          }
        }
      },
      "cell_type": "code",
      "source": [
        "data_obj = fetch_olivetti_faces()\n",
        "\n",
        "X = data_obj['data']\n",
        "X = 1.0 * (X > 0.5)\n",
        "\n",
        "y = data_obj['target']\n",
        "\n",
        "X_train, X_test, y_train, y_test = train_test_split(X, y, stratify=y, test_size=0.1, random_state=0)\n"
      ],
      "execution_count": 3,
      "outputs": [
        {
          "output_type": "stream",
          "text": [
            "downloading Olivetti faces from https://ndownloader.figshare.com/files/5976027 to /content/scikit_learn_data\n"
          ],
          "name": "stdout"
        }
      ]
    },
    {
      "metadata": {
        "id": "Ox-CJngybksb",
        "colab_type": "text"
      },
      "cell_type": "markdown",
      "source": [
        "### RBM definitions\n",
        "\n",
        "RBMs are undirected graphical models with the following structure ($h_i, v_j$ are binary):\n",
        "\n",
        "<p align=\"center\"><img src=\"http://40.media.tumblr.com/5e4a23b85f61e2aaeeb1188c2e35536a/tumblr_inline_npz2ev1m5Y1rnd3q0_540.png\" /></p>\n",
        "\n",
        "The joint probability is given by:\n",
        "$$E(v, h) = vWh$$\n",
        "\n",
        "$$P(v, h) = \\frac{e^{-E(v, h)}}{\\sum_{u, g}e^{-E(u, g)}}$$\n",
        "\n",
        "That means that $$P(h|v) = \\prod_{i}P(h_i|v)$$, and consequently from the definition $$P(h_i = 1|v) = \\frac{1}{1 + exp(vW_{:, i})}$$"
      ]
    },
    {
      "metadata": {
        "id": "E3mFQWv0biYy",
        "colab_type": "code",
        "colab": {
          "autoexec": {
            "startup": false,
            "wait_interval": 0
          }
        }
      },
      "cell_type": "code",
      "source": [
        "def probabilities_from_other(W, other):\n",
        "  \"\"\"\n",
        "  Get probabilities from hidden given visible or the other way around\n",
        "  \"\"\"\n",
        "  energy = K.dot(other, W)\n",
        "  return Activation('sigmoid')(energy)\n",
        "\n",
        "\n",
        "def sample_bernoulli(probas):\n",
        "  uniform_samples = K.random_uniform(shape=K.shape(probas))\n",
        "  bernoulli_samples = K.greater(\n",
        "    1 - probas,\n",
        "    uniform_samples\n",
        "  )\n",
        "  return K.cast(bernoulli_samples, K.floatx())\n",
        "\n",
        "\n",
        "def sample_from_other(W, other):\n",
        "  \"\"\"\n",
        "  Sample hidden given visible or the other way around\n",
        "  \"\"\"\n",
        "  proba = probabilities_from_other(W, other)\n",
        "  return sample_bernoulli(proba)\n",
        "\n",
        "\n",
        "\n",
        "def configuration_goodness_gradient(visible, hidden):\n",
        "  \"\"\"\n",
        "  Gradient of (negative) energy \n",
        "  \"\"\"\n",
        "  n_samples_norm = K.cast(1 / K.shape(visible)[0], K.floatx())\n",
        "  return - n_samples_norm * K.dot(\n",
        "      K.transpose(visible),\n",
        "      hidden,\n",
        "  )\n",
        "\n",
        "\n",
        "def cd1_variables(W, visible):\n",
        "  hidden0 = K.identity(sample_from_other(W, visible), name='hidden0')\n",
        "  \n",
        "  visible_proba1 = probabilities_from_other(K.transpose(W), hidden0)\n",
        "  visible1 = K.identity(sample_bernoulli(visible_proba1), name='visible1')\n",
        "  \n",
        "  hidden1 = K.identity(sample_from_other(W, visible1), name='hidden1')\n",
        "\n",
        "  return hidden0, visible1, hidden1\n",
        "\n",
        "\n",
        "def cd1(W, visible):\n",
        "  hidden0, visible1, hidden1 = cd1_variables(W, visible)\n",
        "  goodness_gradient0 = configuration_goodness_gradient(visible, hidden0)\n",
        "  goodness_gradient1 = configuration_goodness_gradient(visible1, hidden1)\n",
        "  \n",
        "  return - goodness_gradient0 + goodness_gradient1"
      ],
      "execution_count": 0,
      "outputs": []
    },
    {
      "metadata": {
        "id": "qIxWJvq_A-Jy",
        "colab_type": "text"
      },
      "cell_type": "markdown",
      "source": [
        "### RBM setup"
      ]
    },
    {
      "metadata": {
        "id": "69ys3UcYuKwj",
        "colab_type": "code",
        "colab": {
          "autoexec": {
            "startup": false,
            "wait_interval": 0
          }
        }
      },
      "cell_type": "code",
      "source": [
        "n_visible = X_train.shape[1]\n",
        "n_hidden = 1000\n",
        "\n",
        "W_in = K.variable(np.random.randn(n_visible, n_hidden) / 100)\n",
        "visible_shape = (n_visible,)\n",
        "visible_in = Input(shape=visible_shape)\n",
        "\n",
        "cd = cd1(W_in, visible_in)"
      ],
      "execution_count": 0,
      "outputs": []
    },
    {
      "metadata": {
        "id": "RN_DAVimrhwF",
        "colab_type": "code",
        "colab": {
          "autoexec": {
            "startup": false,
            "wait_interval": 0
          }
        }
      },
      "cell_type": "code",
      "source": [
        "lr = 0.02\n",
        "\n",
        "train_op = K.function(\n",
        "    inputs=[visible_in],\n",
        "    outputs=[cd],\n",
        "    updates=[K.update(W_in, W_in - lr *cd)])"
      ],
      "execution_count": 0,
      "outputs": []
    },
    {
      "metadata": {
        "id": "GNOYRp3-x6tY",
        "colab_type": "code",
        "colab": {
          "autoexec": {
            "startup": false,
            "wait_interval": 0
          },
          "output_extras": [
            {
              "item_id": 1
            }
          ],
          "base_uri": "https://localhost:8080/",
          "height": 243
        },
        "outputId": "cab43e49-c848-47de-b4b2-ee79fe6bf911",
        "executionInfo": {
          "status": "ok",
          "timestamp": 1520156872010,
          "user_tz": -60,
          "elapsed": 1199,
          "user": {
            "displayName": "Jakub Bartczuk",
            "photoUrl": "//lh6.googleusercontent.com/-sjx_GV6EJq0/AAAAAAAAAAI/AAAAAAAAAOI/7RdwrdXKVSA/s50-c-k-no/photo.jpg",
            "userId": "112982680208866012419"
          }
        }
      },
      "cell_type": "code",
      "source": [
        "print(K.eval(W_in))"
      ],
      "execution_count": 8,
      "outputs": [
        {
          "output_type": "stream",
          "text": [
            "[[-8.5334172e-03  1.3319059e-02  6.6813435e-03 ... -8.8554844e-03\n",
            "  -2.2853990e-03  6.7339796e-03]\n",
            " [-1.1239128e-02  2.0993915e-03 -1.0803039e-02 ... -1.3950084e-03\n",
            "  -6.0649561e-03 -5.5662766e-03]\n",
            " [ 1.5914880e-03  1.0836151e-02 -2.1256831e-02 ... -2.2135966e-03\n",
            "  -1.4866214e-02 -6.8296548e-03]\n",
            " ...\n",
            " [-3.0861363e-02 -8.9680078e-03  1.3327737e-02 ...  7.9539679e-03\n",
            "   6.4351503e-03 -5.7511283e-03]\n",
            " [-1.7461579e-03  2.4845542e-03 -8.9698944e-05 ... -2.6246998e-03\n",
            "  -4.2409580e-03  3.4833674e-03]\n",
            " [-8.8593848e-03 -2.6292037e-03  1.1961174e-03 ... -1.0144725e-02\n",
            "  -1.8348671e-02  1.9815441e-03]]\n"
          ],
          "name": "stdout"
        }
      ]
    },
    {
      "metadata": {
        "id": "SRCnSNiGdyn4",
        "colab_type": "code",
        "colab": {
          "autoexec": {
            "startup": false,
            "wait_interval": 0
          },
          "output_extras": [
            {
              "item_id": 1
            }
          ],
          "base_uri": "https://localhost:8080/",
          "height": 52
        },
        "outputId": "c074b0a5-6902-4334-e723-24a3e40dfc3e",
        "executionInfo": {
          "status": "ok",
          "timestamp": 1520156907887,
          "user_tz": -60,
          "elapsed": 35279,
          "user": {
            "displayName": "Jakub Bartczuk",
            "photoUrl": "//lh6.googleusercontent.com/-sjx_GV6EJq0/AAAAAAAAAAI/AAAAAAAAAOI/7RdwrdXKVSA/s50-c-k-no/photo.jpg",
            "userId": "112982680208866012419"
          }
        }
      },
      "cell_type": "code",
      "source": [
        "%%time\n",
        "\n",
        "minibatch_size = 64\n",
        "n_epochs = 1000\n",
        "\n",
        "for __ in range(n_epochs):\n",
        "  for i in range(X_train.shape[0] // minibatch_size):\n",
        "    minibatch = X_train[i * minibatch_size:(i+1) * minibatch_size]\n",
        "    train_op([minibatch])"
      ],
      "execution_count": 9,
      "outputs": [
        {
          "output_type": "stream",
          "text": [
            "CPU times: user 21.9 s, sys: 9.24 s, total: 31.1 s\n",
            "Wall time: 34.5 s\n"
          ],
          "name": "stdout"
        }
      ]
    },
    {
      "metadata": {
        "id": "vDhH8qjJs6Kc",
        "colab_type": "code",
        "colab": {
          "autoexec": {
            "startup": false,
            "wait_interval": 0
          },
          "output_extras": [
            {
              "item_id": 1
            }
          ],
          "base_uri": "https://localhost:8080/",
          "height": 243
        },
        "outputId": "e0f902b0-e4c4-46c6-d0eb-4737177192f8",
        "executionInfo": {
          "status": "ok",
          "timestamp": 1520156908882,
          "user_tz": -60,
          "elapsed": 583,
          "user": {
            "displayName": "Jakub Bartczuk",
            "photoUrl": "//lh6.googleusercontent.com/-sjx_GV6EJq0/AAAAAAAAAAI/AAAAAAAAAOI/7RdwrdXKVSA/s50-c-k-no/photo.jpg",
            "userId": "112982680208866012419"
          }
        }
      },
      "cell_type": "code",
      "source": [
        "print(K.eval(W_in))"
      ],
      "execution_count": 10,
      "outputs": [
        {
          "output_type": "stream",
          "text": [
            "[[ 1.23341456e-01 -4.18094452e-03  1.09806299e-01 ...  4.77069803e-02\n",
            "  -1.91604123e-02 -1.07660461e-02]\n",
            " [ 1.18760780e-01 -1.35255819e-02 -3.89279909e-02 ...  3.82924676e-02\n",
            "  -2.23149117e-02 -2.15037167e-02]\n",
            " [ 2.99092710e-01 -5.10133989e-03 -9.21942517e-02 ...  8.49738419e-02\n",
            "  -3.08037326e-02 -2.24546324e-02]\n",
            " ...\n",
            " [ 2.82577574e-01 -1.89680085e-02  7.73902014e-02 ... -3.76710147e-02\n",
            "  -4.18984657e-03 -1.60636157e-02]\n",
            " [ 3.54818821e-01 -3.27940856e-04  5.17852679e-02 ...  5.50027005e-03\n",
            "  -5.49095636e-03  1.29587529e-03]\n",
            " [ 2.75517583e-01 -4.19171900e-03  7.55710676e-02 ...  2.95427591e-02\n",
            "  -1.92860737e-02  4.19049815e-04]]\n"
          ],
          "name": "stdout"
        }
      ]
    },
    {
      "metadata": {
        "id": "4msNNOq7y3Jp",
        "colab_type": "code",
        "colab": {
          "autoexec": {
            "startup": false,
            "wait_interval": 0
          }
        }
      },
      "cell_type": "code",
      "source": [
        "sample_hidden_from_visible = K.function(\n",
        "  inputs=[visible_in],\n",
        "  outputs=[sample_from_other(W_in, visible_in)]\n",
        ")\n",
        "\n",
        "hidden_input = Input(shape=(n_hidden,))\n",
        "sample_visible_from_hidden = K.function(\n",
        "  inputs=[hidden_input],\n",
        "  outputs=[sample_from_other(K.transpose(W_in), hidden_input)]\n",
        ")"
      ],
      "execution_count": 0,
      "outputs": []
    },
    {
      "metadata": {
        "id": "QLr0oIbPzrI_",
        "colab_type": "code",
        "colab": {
          "autoexec": {
            "startup": false,
            "wait_interval": 0
          }
        }
      },
      "cell_type": "code",
      "source": [
        "[sampled_hidden] = sample_hidden_from_visible([X_test])\n",
        "[sampled_visible] = sample_visible_from_hidden([sampled_hidden])"
      ],
      "execution_count": 0,
      "outputs": []
    },
    {
      "metadata": {
        "id": "8vp0-jmvBOTU",
        "colab_type": "text"
      },
      "cell_type": "markdown",
      "source": [
        "### Show reconstructed face"
      ]
    },
    {
      "metadata": {
        "id": "2JxA9e7r5F1x",
        "colab_type": "code",
        "colab": {
          "autoexec": {
            "startup": false,
            "wait_interval": 0
          },
          "output_extras": [
            {
              "item_id": 1
            },
            {
              "item_id": 2
            }
          ],
          "base_uri": "https://localhost:8080/",
          "height": 857
        },
        "outputId": "7f981c02-b9e6-4c85-91dd-1ed6cc013194",
        "executionInfo": {
          "status": "ok",
          "timestamp": 1520156913645,
          "user_tz": -60,
          "elapsed": 1253,
          "user": {
            "displayName": "Jakub Bartczuk",
            "photoUrl": "//lh6.googleusercontent.com/-sjx_GV6EJq0/AAAAAAAAAAI/AAAAAAAAAOI/7RdwrdXKVSA/s50-c-k-no/photo.jpg",
            "userId": "112982680208866012419"
          }
        }
      },
      "cell_type": "code",
      "source": [
        "i = 1\n",
        "\n",
        "plt.imshow(X_test[i].reshape(64, 64), cmap='gray')\n",
        "plt.title('original')\n",
        "plt.show()\n",
        "plt.imshow(sampled_visible[i].reshape(64, 64), cmap='gray')\n",
        "plt.title('reconstructed')\n",
        "plt.show()"
      ],
      "execution_count": 13,
      "outputs": [
        {
          "output_type": "display_data",
          "data": {
            "image/png": "[encoded data removed]",
            "text/plain": [
              "<matplotlib.figure.Figure at 0x7fd88a5d9ba8>"
            ]
          },
          "metadata": {
            "tags": []
          }
        },
        {
          "output_type": "display_data",
          "data": {
            "image/png": "[encoded data removed]",
            "text/plain": [
              "<matplotlib.figure.Figure at 0x7fd88a56b7f0>"
            ]
          },
          "metadata": {
            "tags": []
          }
        }
      ]
    },
    {
      "metadata": {
        "id": "G8VuXpp-D08z",
        "colab_type": "code",
        "colab": {
          "autoexec": {
            "startup": false,
            "wait_interval": 0
          }
        }
      },
      "cell_type": "code",
      "source": [
        ""
      ],
      "execution_count": 0,
      "outputs": []
    }
  ]
}