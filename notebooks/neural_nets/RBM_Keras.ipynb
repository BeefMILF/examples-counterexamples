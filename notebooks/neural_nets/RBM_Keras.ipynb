{
  "nbformat": 4,
  "nbformat_minor": 0,
  "metadata": {
    "colab": {
      "name": "RBM Keras.ipynb",
      "version": "0.3.2",
      "views": {},
      "default_view": {},
      "provenance": [],
      "collapsed_sections": []
    },
    "kernelspec": {
      "name": "python3",
      "display_name": "Python 3"
    },
    "accelerator": "GPU"
  },
  "cells": [
    {
      "metadata": {
        "id": "SArBVNsbbNmY",
        "colab_type": "code",
        "colab": {
          "autoexec": {
            "startup": false,
            "wait_interval": 0
          },
          "output_extras": [
            {
              "item_id": 2
            }
          ],
          "base_uri": "https://localhost:8080/",
          "height": 104
        },
        "outputId": "f6c3fed2-e66c-4c72-d8a9-48d85584f923",
        "executionInfo": {
          "status": "ok",
          "timestamp": 1520117066585,
          "user_tz": -60,
          "elapsed": 3554,
          "user": {
            "displayName": "Jakub Bartczuk",
            "photoUrl": "//lh6.googleusercontent.com/-sjx_GV6EJq0/AAAAAAAAAAI/AAAAAAAAAOI/7RdwrdXKVSA/s50-c-k-no/photo.jpg",
            "userId": "112982680208866012419"
          }
        }
      },
      "cell_type": "code",
      "source": [
        "!pip install keras"
      ],
      "execution_count": 1,
      "outputs": [
        {
          "output_type": "stream",
          "text": [
            "Requirement already satisfied: keras in /usr/local/lib/python3.6/dist-packages\n",
            "Requirement already satisfied: pyyaml in /usr/local/lib/python3.6/dist-packages (from keras)\n",
            "Requirement already satisfied: numpy>=1.9.1 in /usr/local/lib/python3.6/dist-packages (from keras)\n",
            "Requirement already satisfied: six>=1.9.0 in /usr/local/lib/python3.6/dist-packages (from keras)\n",
            "Requirement already satisfied: scipy>=0.14 in /usr/local/lib/python3.6/dist-packages (from keras)\n"
          ],
          "name": "stdout"
        }
      ]
    },
    {
      "metadata": {
        "id": "E1qQ5AtObX-O",
        "colab_type": "code",
        "colab": {
          "autoexec": {
            "startup": false,
            "wait_interval": 0
          },
          "output_extras": [
            {
              "item_id": 1
            }
          ],
          "base_uri": "https://localhost:8080/",
          "height": 34
        },
        "outputId": "e5f9b5b2-ed33-4977-fb33-a62e10ecf428",
        "executionInfo": {
          "status": "ok",
          "timestamp": 1520117069255,
          "user_tz": -60,
          "elapsed": 1350,
          "user": {
            "displayName": "Jakub Bartczuk",
            "photoUrl": "//lh6.googleusercontent.com/-sjx_GV6EJq0/AAAAAAAAAAI/AAAAAAAAAOI/7RdwrdXKVSA/s50-c-k-no/photo.jpg",
            "userId": "112982680208866012419"
          }
        }
      },
      "cell_type": "code",
      "source": [
        "import numpy as np\n",
        "\n",
        "from sklearn.datasets import fetch_olivetti_faces\n",
        "from sklearn.model_selection import train_test_split\n",
        "\n",
        "import keras.backend as K\n",
        "from keras.layers import Activation, Input\n",
        "\n",
        "import matplotlib.pyplot as plt\n",
        "%matplotlib inline\n",
        "\n",
        "plt.style.use('classic')\n"
      ],
      "execution_count": 2,
      "outputs": [
        {
          "output_type": "stream",
          "text": [
            "Using TensorFlow backend.\n"
          ],
          "name": "stderr"
        }
      ]
    },
    {
      "metadata": {
        "id": "Sn9NA2iFA3aD",
        "colab_type": "text"
      },
      "cell_type": "markdown",
      "source": [
        "### Loading data (Olivetti faces)"
      ]
    },
    {
      "metadata": {
        "id": "O_CKmnkfbgvz",
        "colab_type": "code",
        "colab": {
          "autoexec": {
            "startup": false,
            "wait_interval": 0
          }
        }
      },
      "cell_type": "code",
      "source": [
        "data_obj = fetch_olivetti_faces()\n",
        "\n",
        "X = data_obj['data']\n",
        "X = 1.0 * (X > 0.5)\n",
        "\n",
        "y = data_obj['target']\n",
        "\n",
        "X_train, X_test, y_train, y_test = train_test_split(X, y, stratify=y, test_size=0.1, random_state=0)\n"
      ],
      "execution_count": 0,
      "outputs": []
    },
    {
      "metadata": {
        "id": "Ox-CJngybksb",
        "colab_type": "text"
      },
      "cell_type": "markdown",
      "source": [
        "### RBM definitions"
      ]
    },
    {
      "metadata": {
        "id": "0RxMaJFofh4i",
        "colab_type": "text"
      },
      "cell_type": "markdown",
      "source": [
        "$$E(v, h) = vWh$$\n",
        "\n",
        "$$P(v, h) = \\frac{e^{-E(v, h)}}{\\sum_{u, g}e^{-E(u, g)}}$$"
      ]
    },
    {
      "metadata": {
        "id": "E3mFQWv0biYy",
        "colab_type": "code",
        "colab": {
          "autoexec": {
            "startup": false,
            "wait_interval": 0
          }
        }
      },
      "cell_type": "code",
      "source": [
        "def across_layer_probabilities(W, input_layer):\n",
        "  energy = K.dot(input_layer, W)\n",
        "  return Activation('sigmoid')(energy)\n",
        "\n",
        "\n",
        "def configuration_goodness_gradient(visible, hidden):\n",
        "  \"\"\"\n",
        "  Gradient of (negative) energy \n",
        "  \"\"\"\n",
        "  n_samples_norm = K.cast(1 / K.shape(visible)[0], K.floatx())\n",
        "  return - n_samples_norm * K.dot(\n",
        "      K.transpose(visible),\n",
        "      hidden,\n",
        "  )\n",
        "\n",
        "\n",
        "def sample_bernoulli(probas):\n",
        "  uniform_samples = probas * K.random_uniform(shape=K.shape(probas))\n",
        "  bernoulli_samples = K.greater(\n",
        "    1 - probas,\n",
        "    uniform_samples\n",
        "  )\n",
        "  return K.cast(bernoulli_samples, K.floatx())\n",
        "\n",
        "\n",
        "def sample_from_other(W, other):\n",
        "  \"\"\"\n",
        "  Sample hidden given visible or the other way around\n",
        "  \"\"\"\n",
        "  proba = across_layer_probabilities(W, other)\n",
        "  return sample_bernoulli(proba)\n",
        "\n",
        "\n",
        "def cd1_variables(W, visible):\n",
        "  hidden0 = K.identity(sample_from_other(W, visible), name='hidden0')\n",
        "  \n",
        "  visible_proba1 = across_layer_probabilities(K.transpose(W), hidden0)\n",
        "  visible1 = K.identity(sample_bernoulli(visible_proba1), name='visible1')\n",
        "  \n",
        "  hidden1 = K.identity(sample_from_other(W, visible1), name='hidden1')\n",
        "\n",
        "  return hidden0, visible1, hidden1\n",
        "\n",
        "\n",
        "def cd1(W, visible):\n",
        "  hidden0, visible1, hidden1 = cd1_variables(W, visible)\n",
        "  goodness_gradient0 = configuration_goodness_gradient(visible, hidden0)\n",
        "  goodness_gradient1 = configuration_goodness_gradient(visible1, hidden1)\n",
        "  \n",
        "  return - goodness_gradient0 + goodness_gradient1\n",
        "\n",
        "\n",
        "def update_weights(W, delta):\n",
        "  K.set_weights(W, delta)"
      ],
      "execution_count": 0,
      "outputs": []
    },
    {
      "metadata": {
        "id": "qIxWJvq_A-Jy",
        "colab_type": "text"
      },
      "cell_type": "markdown",
      "source": [
        "### RBM setup"
      ]
    },
    {
      "metadata": {
        "id": "69ys3UcYuKwj",
        "colab_type": "code",
        "colab": {
          "autoexec": {
            "startup": false,
            "wait_interval": 0
          }
        }
      },
      "cell_type": "code",
      "source": [
        "n_visible = X_train.shape[1]\n",
        "n_hidden = 1000\n",
        "\n",
        "W_in = K.variable(np.random.randn(n_visible, n_hidden) / 100)\n",
        "visible_shape = (n_visible,)\n",
        "visible_in = Input(shape=visible_shape)\n",
        "\n",
        "cd = cd1(W_in, visible_in)"
      ],
      "execution_count": 0,
      "outputs": []
    },
    {
      "metadata": {
        "id": "RN_DAVimrhwF",
        "colab_type": "code",
        "colab": {
          "autoexec": {
            "startup": false,
            "wait_interval": 0
          }
        }
      },
      "cell_type": "code",
      "source": [
        "lr = 0.02\n",
        "\n",
        "train_op = K.function(\n",
        "    inputs=[visible_in],\n",
        "    outputs=[],\n",
        "    updates=[K.update(W_in, W_in - lr *cd)])"
      ],
      "execution_count": 0,
      "outputs": []
    },
    {
      "metadata": {
        "id": "GNOYRp3-x6tY",
        "colab_type": "code",
        "colab": {
          "autoexec": {
            "startup": false,
            "wait_interval": 0
          },
          "output_extras": [
            {
              "item_id": 1
            }
          ],
          "base_uri": "https://localhost:8080/",
          "height": 243
        },
        "outputId": "80bccc8d-767f-4443-9e55-5234212782b8",
        "executionInfo": {
          "status": "ok",
          "timestamp": 1520117077655,
          "user_tz": -60,
          "elapsed": 1406,
          "user": {
            "displayName": "Jakub Bartczuk",
            "photoUrl": "//lh6.googleusercontent.com/-sjx_GV6EJq0/AAAAAAAAAAI/AAAAAAAAAOI/7RdwrdXKVSA/s50-c-k-no/photo.jpg",
            "userId": "112982680208866012419"
          }
        }
      },
      "cell_type": "code",
      "source": [
        "print(K.eval(W_in))"
      ],
      "execution_count": 7,
      "outputs": [
        {
          "output_type": "stream",
          "text": [
            "[[-0.01386624  0.00601599 -0.00943544 ..., -0.00412699 -0.01679478\n",
            "  -0.00237199]\n",
            " [ 0.00979466 -0.01246592  0.00286995 ..., -0.01607858  0.00234078\n",
            "   0.00759136]\n",
            " [ 0.00062093 -0.00443075 -0.01385287 ..., -0.00199012  0.00144474\n",
            "  -0.01050046]\n",
            " ..., \n",
            " [-0.016054   -0.00393365  0.0035759  ...,  0.0177048   0.00383936\n",
            "  -0.0017164 ]\n",
            " [-0.00179664 -0.00161328 -0.00375551 ...,  0.01067746 -0.00776447\n",
            "   0.00585591]\n",
            " [-0.00776149 -0.00172588 -0.0025685  ...,  0.003182    0.00837587\n",
            "  -0.00462865]]\n"
          ],
          "name": "stdout"
        }
      ]
    },
    {
      "metadata": {
        "id": "SRCnSNiGdyn4",
        "colab_type": "code",
        "colab": {
          "autoexec": {
            "startup": false,
            "wait_interval": 0
          },
          "output_extras": [
            {
              "item_id": 1
            }
          ],
          "base_uri": "https://localhost:8080/",
          "height": 52
        },
        "outputId": "9a460617-cbab-498d-aa57-4edf83b3e547",
        "executionInfo": {
          "status": "ok",
          "timestamp": 1520117107088,
          "user_tz": -60,
          "elapsed": 28916,
          "user": {
            "displayName": "Jakub Bartczuk",
            "photoUrl": "//lh6.googleusercontent.com/-sjx_GV6EJq0/AAAAAAAAAAI/AAAAAAAAAOI/7RdwrdXKVSA/s50-c-k-no/photo.jpg",
            "userId": "112982680208866012419"
          }
        }
      },
      "cell_type": "code",
      "source": [
        "%%time\n",
        "\n",
        "minibatch_size = 64\n",
        "n_epochs = 1000\n",
        "\n",
        "for __ in range(n_epochs):\n",
        "  for i in range(X_train.shape[0] // minibatch_size):\n",
        "    minibatch = X_train[i * minibatch_size:(i+1) * minibatch_size]\n",
        "    train_op([minibatch])"
      ],
      "execution_count": 8,
      "outputs": [
        {
          "output_type": "stream",
          "text": [
            "CPU times: user 18.7 s, sys: 6.32 s, total: 25.1 s\n",
            "Wall time: 28.2 s\n"
          ],
          "name": "stdout"
        }
      ]
    },
    {
      "metadata": {
        "id": "vDhH8qjJs6Kc",
        "colab_type": "code",
        "colab": {
          "autoexec": {
            "startup": false,
            "wait_interval": 0
          },
          "output_extras": [
            {
              "item_id": 1
            }
          ],
          "base_uri": "https://localhost:8080/",
          "height": 243
        },
        "outputId": "8aec6eb9-2821-44ea-91d2-54e82ca89379",
        "executionInfo": {
          "status": "ok",
          "timestamp": 1520117108374,
          "user_tz": -60,
          "elapsed": 694,
          "user": {
            "displayName": "Jakub Bartczuk",
            "photoUrl": "//lh6.googleusercontent.com/-sjx_GV6EJq0/AAAAAAAAAAI/AAAAAAAAAOI/7RdwrdXKVSA/s50-c-k-no/photo.jpg",
            "userId": "112982680208866012419"
          }
        }
      },
      "cell_type": "code",
      "source": [
        "print(K.eval(W_in))"
      ],
      "execution_count": 9,
      "outputs": [
        {
          "output_type": "stream",
          "text": [
            "[[ 0.03144624 -0.24179778 -0.03693542 ...,  0.02993549  0.00164271\n",
            "   0.05512797]\n",
            " [ 0.04479463 -0.29902995  0.10255738 ...,  0.01485891  0.02640327\n",
            "   0.03665384]\n",
            " [ 0.0403084  -0.25068212 -0.07979031 ...,  0.03394736  0.03050722\n",
            "   0.0644995 ]\n",
            " ..., \n",
            " [-0.0013665  -0.16955754 -0.11236151 ...,  0.03207979  0.02352685\n",
            "  -0.0029664 ]\n",
            " [ 0.01539086 -0.11505076 -0.05938046 ...,  0.03911495  0.01817301\n",
            "   0.03866838]\n",
            " [-0.00151149  0.16796198 -0.010381   ...,  0.02443199  0.03462585\n",
            "   0.03162133]]\n"
          ],
          "name": "stdout"
        }
      ]
    },
    {
      "metadata": {
        "id": "4msNNOq7y3Jp",
        "colab_type": "code",
        "colab": {
          "autoexec": {
            "startup": false,
            "wait_interval": 0
          }
        }
      },
      "cell_type": "code",
      "source": [
        "sample_hidden_from_visible = K.function(\n",
        "  inputs=[visible_in],\n",
        "  outputs=[sample_from_other(W_in, visible_in)]\n",
        ")\n",
        "\n",
        "hidden_input = Input(shape=(n_hidden,))\n",
        "sample_visible_from_hidden = K.function(\n",
        "  inputs=[hidden_input],\n",
        "  outputs=[sample_from_other(K.transpose(W_in), hidden_input)]\n",
        ")"
      ],
      "execution_count": 0,
      "outputs": []
    },
    {
      "metadata": {
        "id": "QLr0oIbPzrI_",
        "colab_type": "code",
        "colab": {
          "autoexec": {
            "startup": false,
            "wait_interval": 0
          }
        }
      },
      "cell_type": "code",
      "source": [
        "[sampled_hidden] = sample_hidden_from_visible([X_test])\n",
        "[sampled_visible] = sample_visible_from_hidden([sampled_hidden])"
      ],
      "execution_count": 0,
      "outputs": []
    },
    {
      "metadata": {
        "id": "8vp0-jmvBOTU",
        "colab_type": "text"
      },
      "cell_type": "markdown",
      "source": [
        "### Show reconstructed face"
      ]
    },
    {
      "metadata": {
        "id": "2JxA9e7r5F1x",
        "colab_type": "code",
        "colab": {
          "autoexec": {
            "startup": false,
            "wait_interval": 0
          },
          "output_extras": [
            {
              "item_id": 1
            },
            {
              "item_id": 2
            }
          ],
          "base_uri": "https://localhost:8080/",
          "height": 857
        },
        "outputId": "91b284af-400f-4dc4-cc33-2c26f53eb05c",
        "executionInfo": {
          "status": "ok",
          "timestamp": 1520117113093,
          "user_tz": -60,
          "elapsed": 1098,
          "user": {
            "displayName": "Jakub Bartczuk",
            "photoUrl": "//lh6.googleusercontent.com/-sjx_GV6EJq0/AAAAAAAAAAI/AAAAAAAAAOI/7RdwrdXKVSA/s50-c-k-no/photo.jpg",
            "userId": "112982680208866012419"
          }
        }
      },
      "cell_type": "code",
      "source": [
        "plt.imshow(X_test[1].reshape(64, 64), cmap='gray')\n",
        "plt.show()\n",
        "plt.imshow(sampled_visible[1].reshape(64, 64), cmap='gray')\n",
        "plt.show()"
      ],
      "execution_count": 12,
      "outputs": [
        {
          "output_type": "display_data",
          "data": {
            "image/png": "[encoded data removed]",
            "text/plain": [
              "<matplotlib.figure.Figure at 0x7efe77325438>"
            ]
          },
          "metadata": {
            "tags": []
          }
        },
        {
          "output_type": "display_data",
          "data": {
            "image/png": "[encoded data removed]",
            "text/plain": [
              "<matplotlib.figure.Figure at 0x7efe772ad3c8>"
            ]
          },
          "metadata": {
            "tags": []
          }
        }
      ]
    }
  ]
}