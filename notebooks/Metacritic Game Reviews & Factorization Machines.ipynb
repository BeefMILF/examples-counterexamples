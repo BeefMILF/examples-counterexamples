{
 "cells": [
  {
   "cell_type": "code",
   "execution_count": 1,
   "metadata": {
    "colab": {
     "base_uri": "https://localhost:8080/",
     "height": 258
    },
    "colab_type": "code",
    "id": "uAJeu6laX1sC",
    "outputId": "848a51b1-0f6f-43c8-a2cd-efa190bc2990"
   },
   "outputs": [
    {
     "name": "stdout",
     "output_type": "stream",
     "text": [
      "Requirement already satisfied: fastFM in /home/kuba/anaconda3/lib/python3.6/site-packages\n",
      "Requirement already satisfied: numpy in /home/kuba/anaconda3/lib/python3.6/site-packages (from fastFM)\n",
      "Requirement already satisfied: scipy in /home/kuba/anaconda3/lib/python3.6/site-packages (from fastFM)\n",
      "Requirement already satisfied: cython in /home/kuba/anaconda3/lib/python3.6/site-packages (from fastFM)\n",
      "Requirement already satisfied: scikit-learn in /home/kuba/anaconda3/lib/python3.6/site-packages (from fastFM)\n",
      "Requirement already satisfied: joblib>=0.11 in /home/kuba/anaconda3/lib/python3.6/site-packages (from scikit-learn->fastFM)\n",
      "\u001b[33mYou are using pip version 9.0.1, however version 19.1.1 is available.\n",
      "You should consider upgrading via the 'pip install --upgrade pip' command.\u001b[0m\n"
     ]
    }
   ],
   "source": [
    "!pip install fastFM"
   ]
  },
  {
   "cell_type": "markdown",
   "metadata": {
    "colab_type": "text",
    "id": "qjUNlaaj1n-U"
   },
   "source": [
    "Upload kaggle.json and run this if you run the notebook on colab"
   ]
  },
  {
   "cell_type": "code",
   "execution_count": 2,
   "metadata": {
    "colab": {},
    "colab_type": "code",
    "id": "lQKyB6L3G6Tq"
   },
   "outputs": [
    {
     "name": "stdout",
     "output_type": "stream",
     "text": [
      "mkdir: cannot create directory ‘/root/.kaggle’: Permission denied\n",
      "cp: failed to access '/root/.kaggle': Permission denied\n"
     ]
    }
   ],
   "source": [
    "!mkdir /root/.kaggle\n",
    "!cp kaggle.json /root/.kaggle"
   ]
  },
  {
   "cell_type": "code",
   "execution_count": 3,
   "metadata": {
    "colab": {
     "base_uri": "https://localhost:8080/",
     "height": 34
    },
    "colab_type": "code",
    "id": "D7OE8g3KBdzQ",
    "outputId": "52b22c27-1e08-4f30-e42c-a21ed5afd7b4"
   },
   "outputs": [],
   "source": [
    "import os\n",
    "import numpy as np\n",
    "import shutil\n",
    "import seaborn as sns\n",
    "import scipy\n",
    "\n",
    "import pandas as pd\n",
    "\n",
    "from livelossplot import PlotLosses\n",
    "import matplotlib.pyplot as plt\n",
    "\n",
    "import sklearn\n",
    "import sklearn.compose\n",
    "from sklearn.feature_extraction.text import CountVectorizer\n",
    "from sklearn.model_selection import train_test_split\n",
    "from sklearn.metrics import mean_squared_error, mean_absolute_error\n",
    "from sklearn.preprocessing import OneHotEncoder, FunctionTransformer, StandardScaler\n",
    "from sklearn.metrics import mean_squared_error, mean_absolute_error\n",
    "from sklearn.model_selection import GridSearchCV, RandomizedSearchCV, StratifiedKFold\n",
    "\n",
    "import fastFM.als\n",
    "import fastFM.sgd\n",
    "import fastFM.mcmc\n",
    "\n",
    "\n",
    "import tqdm\n",
    "\n",
    "from kaggle.api.kaggle_api_extended import KaggleApi\n",
    "from kaggle.api_client import ApiClient"
   ]
  },
  {
   "cell_type": "code",
   "execution_count": 4,
   "metadata": {},
   "outputs": [],
   "source": [
    "plt.style.use('dark_background')"
   ]
  },
  {
   "cell_type": "code",
   "execution_count": 5,
   "metadata": {
    "colab": {},
    "colab_type": "code",
    "id": "vXcvRnkHWoGZ"
   },
   "outputs": [],
   "source": [
    "def preprocess_game_info_df(game_info_df):\n",
    "  game_info_df['Genre'] = game_info_df['Genre'].str.replace(' ', '-').str.replace(';', ' ')\n",
    "  # game_info_df = game_info_df[game_info_df['Platform'] == 'PC']\n",
    "  game_info_df['Metascore'][game_info_df['Metascore'] == 'not specified'] = 'nan'\n",
    "  game_info_df['Metascore'] = game_info_df['Metascore'].astype('float') / 100\n",
    "  game_info_df['Metascore'] = game_info_df['Metascore'].fillna(game_info_df['Metascore'].mean(skipna=True))\n",
    "  game_info_df['Avg_Userscore'][game_info_df['Avg_Userscore'] == 'tbd'] = 8\n",
    "  game_info_df['Avg_Userscore'][game_info_df['Avg_Userscore'] == 'not specified'] = 'nan'\n",
    "  game_info_df['Avg_Userscore'] = game_info_df['Avg_Userscore'].astype('float') / 10\n",
    "  game_info_df['Avg_Userscore'] = game_info_df['Avg_Userscore'].fillna(game_info_df['Avg_Userscore'].mean(skipna=True))\n",
    "  return game_info_df\n",
    "\n",
    "\n",
    "def preprocess_game_comments_df(game_comments_df):\n",
    "  game_comments_df = pd.read_csv('metacritic_game_user_comments.csv', index_col=0)\n",
    "  # game_comments_df = game_comments_df[game_comments_df['Platform'] == 'PC']\n",
    "  return game_comments_df[~game_comments_df['Username'].isna()]"
   ]
  },
  {
   "cell_type": "code",
   "execution_count": 6,
   "metadata": {},
   "outputs": [],
   "source": [
    "def get_column_inverse_norms(X, tol=1e-5):\n",
    "    features_matrix_maxes = X.max(axis=0).toarray()\n",
    "    features_matrix_maxes[np.abs(features_matrix_maxes) < tol] = 1\n",
    "    return scipy.sparse.spdiags(1.0 / features_matrix_maxes, 0, features_matrix_maxes.shape[1], features_matrix_maxes.shape[1])\n",
    "\n",
    "\n",
    "def column_normalize_csr_matrix(X, inverse_norms):\n",
    "    return scipy.sparse.csr_matrix(X @ inverse_norms)"
   ]
  },
  {
   "cell_type": "code",
   "execution_count": 7,
   "metadata": {
    "colab": {},
    "colab_type": "code",
    "id": "BuI6UVcuc1sW"
   },
   "outputs": [],
   "source": [
    "def add_label_encoded_column(df, colname, col_le=None):\n",
    "  if col_le is None:\n",
    "    col_le = LabelEncoder().fit(df[colname])\n",
    "  df[colname + '_label_ID'] = col_le.transform(df[colname])\n",
    "  return df, col_le\n",
    "\n",
    "\n",
    "def get_rating_matrix(df, n_items):\n",
    "  n_users = df['Username_label_ID'].max() + 1\n",
    "  return scipy.sparse.csr_matrix((df['Userscore'], (df['Username_label_ID'], df['Title_label_ID'])), shape=(n_users, n_items))"
   ]
  },
  {
   "cell_type": "code",
   "execution_count": 8,
   "metadata": {
    "colab": {},
    "colab_type": "code",
    "id": "XZXil4HSvBmY"
   },
   "outputs": [],
   "source": [
    "def map_dict(rating_dict, username='me'):\n",
    "  title_ids = title_le.transform(list(rating_dict.keys()))\n",
    "  raw_df = pd.DataFrame.from_records([{'Username': username, 'Title': title, 'Title_label_ID': title_id, 'Userscore': score} for (title_id, (title, score)) in zip(title_ids, rating_dict.items())])\n",
    "  return raw_df\n",
    "\n",
    "\n",
    "def get_ratings_matrix_from_ratings_dict(ratings_df, comments_df, title_le):\n",
    "  ratings_df['Username_label_ID'] = 0\n",
    "  return get_rating_matrix(ratings_df, comments_df['Title_label_ID'].max() + 1)"
   ]
  },
  {
   "cell_type": "markdown",
   "metadata": {
    "colab_type": "text",
    "id": "r16FXV-Zu8oX"
   },
   "source": [
    "### Genre features for users\n",
    "\n"
   ]
  },
  {
   "cell_type": "code",
   "execution_count": 9,
   "metadata": {},
   "outputs": [],
   "source": [
    "def make_user_game_vectorizer(primary_columns=['Title_label_ID', 'Username_label_ID', 'Platform'], selected_columns=['Metascore', 'Avg_Userscore'], bow_columns=['Genre']):\n",
    "    column_encoders = [(col, OneHotEncoder(categories='auto'), [col]) for col in primary_columns]\n",
    "    column_selectors = [(col, StandardScaler(), [col]) for col in selected_columns]\n",
    "    bow_column_encoders = [(col, CountVectorizer(binary=True), col) for col in bow_columns]\n",
    "    return sklearn.compose.ColumnTransformer(column_encoders + column_selectors + bow_column_encoders)"
   ]
  },
  {
   "cell_type": "code",
   "execution_count": 10,
   "metadata": {},
   "outputs": [],
   "source": [
    "default_fm_hyperparams = dict(init_stdev=0.01, rank=50, l2_reg_w=5.0, l2_reg_V=8.0)\n",
    "\n",
    "\n",
    "def setup_fm(fm_hyperparams):\n",
    "    return fastFM.als.FMRegression(n_iter=1, **fm_hyperparams)\n",
    "\n",
    "\n",
    "def train_fm(\n",
    "        X_train,\n",
    "        y_train,\n",
    "        X_test,\n",
    "        y_test,\n",
    "        n_iter=25,\n",
    "        step_size=1,\n",
    "        fm_hyperparams=default_fm_hyperparams,\n",
    "        early_stopping=True):\n",
    "    fm = setup_fm(default_fm_hyperparams)\n",
    "    fm.fit(X_train, y_train)\n",
    "    \n",
    "    liveplot = PlotLosses()\n",
    "\n",
    "    for i in tqdm.tqdm(range(1, n_iter)):\n",
    "        fm.fit(X_train, y_train, n_more_iter=1)\n",
    "        y_pred = fm.predict(X_test)\n",
    "\n",
    "        liveplot.update({\n",
    "            'rmse': np.sqrt(mean_squared_error(fm.predict(X_train), y_train)),\n",
    "            'val_rmse': np.sqrt(mean_squared_error(fm.predict(X_test), y_test)),\n",
    "            'mae': mean_absolute_error(fm.predict(X_train), y_train),\n",
    "            'val_mae': mean_absolute_error(fm.predict(X_test), y_test)\n",
    "        })\n",
    "        liveplot.draw()\n",
    "        \n",
    "    return fm\n",
    "\n",
    "\n",
    "def did_error_improve(errors, steps):\n",
    "    if len(errors) <= steps:\n",
    "        return True\n",
    "    else:\n",
    "        return min(errors[:-steps]) >= min(errors[-steps:])\n",
    "\n",
    "\n",
    "def train_mcmc_fm(\n",
    "        X_train_val,\n",
    "        y_train_val,\n",
    "        val_size=0.1,\n",
    "        n_iter=25,\n",
    "        step_size=1,\n",
    "        init_stdev=0.1,\n",
    "        rank=50,\n",
    "        early_stopping=True,\n",
    "        early_stopping_patience=5):\n",
    "    fm = fastFM.mcmc.FMRegression(n_iter=1, rank=rank, init_stdev=init_stdev)\n",
    "    \n",
    "    \n",
    "    X_train, X_val, y_train, y_val = train_test_split(X_train_val, y_train_val, test_size=val_size, random_state=0)\n",
    "    fm.fit_predict(X_train, y_train, X_val)\n",
    "    \n",
    "    liveplot = PlotLosses()\n",
    "    plt.style.use('dark_background')\n",
    "\n",
    "    tqdm_iter = tqdm.tqdm(range(1, n_iter))\n",
    "    for i in tqdm_iter:\n",
    "        y_pred = fm.fit_predict(X_train, y_train, X_val, n_more_iter=1)\n",
    "\n",
    "        current_val_metric = np.sqrt(mean_squared_error(fm.predict(X_val), y_val))\n",
    "        liveplot.update({\n",
    "            'rmse': np.sqrt(mean_squared_error(fm.predict(X_train), y_train)),\n",
    "            'val_rmse': current_val_metric,\n",
    "            'mae': mean_absolute_error(fm.predict(X_train), y_train),\n",
    "            'val_mae': mean_absolute_error(fm.predict(X_val), y_val)\n",
    "        })\n",
    "        liveplot.draw()\n",
    "        checked_steps = [item['val_rmse'] for item in liveplot.logs]\n",
    "        if not did_error_improve(checked_steps, early_stopping_patience):\n",
    "            tqdm_iter.close()\n",
    "            break\n",
    "        \n",
    "    return fm, liveplot"
   ]
  },
  {
   "cell_type": "code",
   "execution_count": 11,
   "metadata": {},
   "outputs": [],
   "source": [
    "fm = fastFM.mcmc.FMRegression(n_iter=1, rank=10, init_stdev=0.1)"
   ]
  },
  {
   "cell_type": "code",
   "execution_count": 12,
   "metadata": {
    "colab": {
     "base_uri": "https://localhost:8080/",
     "height": 34
    },
    "colab_type": "code",
    "id": "ApFM-imfHGAV",
    "outputId": "32b1c6ff-33e3-4ae5-8e91-a84726a666e8"
   },
   "outputs": [],
   "source": [
    "api = KaggleApi(ApiClient())\n",
    "api.authenticate()\n",
    "if not os.path.exists('metacritic-video-game-comments.zip'):\n",
    "    api.dataset_download_files(dataset='dahlia25/metacritic-video-game-comments', unzip=True)"
   ]
  },
  {
   "cell_type": "code",
   "execution_count": 13,
   "metadata": {
    "colab": {
     "base_uri": "https://localhost:8080/",
     "height": 187
    },
    "colab_type": "code",
    "id": "Da2YkAcSHkPj",
    "outputId": "06ce50e8-e051-491c-98b4-1a54d4e9f521"
   },
   "outputs": [
    {
     "name": "stdout",
     "output_type": "stream",
     "text": [
      ",Title,Year,Publisher,Genre,Platform,Metascore,Avg_Userscore,No_Players\n",
      "0,The Legend of Zelda: Ocarina of Time,1998,Nintendo,Action Adventure;Fantasy,Nintendo64,99,9.1,1 Player\n",
      "1,Tony Hawk's Pro Skater 2,2000,NeversoftEntertainment,Sports;Alternative;Skateboarding,PlayStation,98,7.4,1-2 \n",
      "2,Grand Theft Auto IV,2008,RockstarNorth,Action Adventure;Modern;Modern;Open-World,PlayStation3,98,7.5,1 Player\n",
      "3,SoulCalibur,1999,Namco,Action;Fighting;3D,Dreamcast,98,8.6,1-2 \n",
      "4,Grand Theft Auto IV,2008,RockstarNorth,Action Adventure;Modern;Modern;Open-World,Xbox360,98,7.9,1 Player\n",
      "5,Super Mario Galaxy,2007,Nintendo,Action;Platformer;Platformer;3D;3D,Wii,97,9.0,No Online Multiplayer\n",
      "6,Super Mario Galaxy 2,2010,NintendoEADTokyo,Action;Platformer;Platformer;3D;3D,Wii,97,9.1,No Online Multiplayer\n",
      "7,Grand Theft Auto V,2014,RockstarNorth,Action Adventure;Modern;Open-World,XboxOne,97,7.8,Up to 30 \n",
      "8,Grand Theft Auto V,2013,RockstarNorth,Modern;Action Adventure;Modern;Open-World,PlayStation3,97,8.3,Up to 16 \n"
     ]
    }
   ],
   "source": [
    "!head metacritic_game_info.csv"
   ]
  },
  {
   "cell_type": "code",
   "execution_count": 14,
   "metadata": {
    "colab": {},
    "colab_type": "code",
    "id": "TyRPC0WnITmt"
   },
   "outputs": [],
   "source": [
    "game_comments_df = pd.read_csv('metacritic_game_user_comments.csv', index_col=0)\n",
    "game_comments_df = preprocess_game_comments_df(game_comments_df)"
   ]
  },
  {
   "cell_type": "code",
   "execution_count": 15,
   "metadata": {},
   "outputs": [
    {
     "name": "stdout",
     "output_type": "stream",
     "text": [
      "<class 'pandas.core.frame.DataFrame'>\n",
      "Int64Index: 5000 entries, 0 to 4999\n",
      "Data columns (total 8 columns):\n",
      "Title            5000 non-null object\n",
      "Year             5000 non-null object\n",
      "Publisher        5000 non-null object\n",
      "Genre            5000 non-null object\n",
      "Platform         5000 non-null object\n",
      "Metascore        5000 non-null float64\n",
      "Avg_Userscore    5000 non-null float64\n",
      "No_Players       4993 non-null object\n",
      "dtypes: float64(2), object(6)\n",
      "memory usage: 351.6+ KB\n"
     ]
    },
    {
     "name": "stderr",
     "output_type": "stream",
     "text": [
      "/home/kuba/anaconda3/lib/python3.6/site-packages/ipykernel_launcher.py:7: SettingWithCopyWarning: \n",
      "A value is trying to be set on a copy of a slice from a DataFrame\n",
      "\n",
      "See the caveats in the documentation: http://pandas.pydata.org/pandas-docs/stable/indexing.html#indexing-view-versus-copy\n",
      "  import sys\n",
      "/home/kuba/anaconda3/lib/python3.6/site-packages/ipykernel_launcher.py:8: SettingWithCopyWarning: \n",
      "A value is trying to be set on a copy of a slice from a DataFrame\n",
      "\n",
      "See the caveats in the documentation: http://pandas.pydata.org/pandas-docs/stable/indexing.html#indexing-view-versus-copy\n",
      "  \n"
     ]
    }
   ],
   "source": [
    "game_info_df = pd.read_csv('metacritic_game_info.csv', index_col=0)\n",
    "game_info_df = preprocess_game_info_df(game_info_df)\n",
    "game_info_df.info()"
   ]
  },
  {
   "cell_type": "code",
   "execution_count": 16,
   "metadata": {
    "colab": {},
    "colab_type": "code",
    "id": "yiA7PHbnXjq5"
   },
   "outputs": [],
   "source": [
    "users_index = game_comments_df['Username'].unique()\n",
    "titles_index = game_info_df['Title'].values\n",
    "\n",
    "from sklearn.preprocessing import LabelEncoder\n",
    "users_le = LabelEncoder().fit(users_index)\n",
    "titles_le = LabelEncoder().fit(titles_index)"
   ]
  },
  {
   "cell_type": "code",
   "execution_count": 17,
   "metadata": {
    "colab": {
     "base_uri": "https://localhost:8080/",
     "height": 187
    },
    "colab_type": "code",
    "id": "F9yb2TafIb23",
    "outputId": "b8e9b20d-a5c7-4fd9-b124-e4bf72608b17"
   },
   "outputs": [
    {
     "name": "stdout",
     "output_type": "stream",
     "text": [
      "<class 'pandas.core.frame.DataFrame'>\n",
      "Int64Index: 283980 entries, 0 to 283982\n",
      "Data columns (total 5 columns):\n",
      "Title        283980 non-null object\n",
      "Platform     283980 non-null object\n",
      "Userscore    283980 non-null int64\n",
      "Comment      283957 non-null object\n",
      "Username     283980 non-null object\n",
      "dtypes: int64(1), object(4)\n",
      "memory usage: 13.0+ MB\n"
     ]
    }
   ],
   "source": [
    "game_comments_df.info()"
   ]
  },
  {
   "cell_type": "code",
   "execution_count": 18,
   "metadata": {
    "colab": {
     "base_uri": "https://localhost:8080/",
     "height": 297
    },
    "colab_type": "code",
    "id": "O583rtKMIk3Z",
    "outputId": "b8f42135-95a4-451b-9a28-9d2e9d3993be"
   },
   "outputs": [
    {
     "data": {
      "text/html": [
       "<div>\n",
       "<style scoped>\n",
       "    .dataframe tbody tr th:only-of-type {\n",
       "        vertical-align: middle;\n",
       "    }\n",
       "\n",
       "    .dataframe tbody tr th {\n",
       "        vertical-align: top;\n",
       "    }\n",
       "\n",
       "    .dataframe thead th {\n",
       "        text-align: right;\n",
       "    }\n",
       "</style>\n",
       "<table border=\"1\" class=\"dataframe\">\n",
       "  <thead>\n",
       "    <tr style=\"text-align: right;\">\n",
       "      <th></th>\n",
       "      <th>Userscore</th>\n",
       "    </tr>\n",
       "  </thead>\n",
       "  <tbody>\n",
       "    <tr>\n",
       "      <th>count</th>\n",
       "      <td>283980.000000</td>\n",
       "    </tr>\n",
       "    <tr>\n",
       "      <th>mean</th>\n",
       "      <td>7.618329</td>\n",
       "    </tr>\n",
       "    <tr>\n",
       "      <th>std</th>\n",
       "      <td>3.131772</td>\n",
       "    </tr>\n",
       "    <tr>\n",
       "      <th>min</th>\n",
       "      <td>0.000000</td>\n",
       "    </tr>\n",
       "    <tr>\n",
       "      <th>25%</th>\n",
       "      <td>7.000000</td>\n",
       "    </tr>\n",
       "    <tr>\n",
       "      <th>50%</th>\n",
       "      <td>9.000000</td>\n",
       "    </tr>\n",
       "    <tr>\n",
       "      <th>75%</th>\n",
       "      <td>10.000000</td>\n",
       "    </tr>\n",
       "    <tr>\n",
       "      <th>max</th>\n",
       "      <td>10.000000</td>\n",
       "    </tr>\n",
       "  </tbody>\n",
       "</table>\n",
       "</div>"
      ],
      "text/plain": [
       "           Userscore\n",
       "count  283980.000000\n",
       "mean        7.618329\n",
       "std         3.131772\n",
       "min         0.000000\n",
       "25%         7.000000\n",
       "50%         9.000000\n",
       "75%        10.000000\n",
       "max        10.000000"
      ]
     },
     "execution_count": 18,
     "metadata": {},
     "output_type": "execute_result"
    }
   ],
   "source": [
    "game_comments_df.describe()"
   ]
  },
  {
   "cell_type": "code",
   "execution_count": 19,
   "metadata": {
    "colab": {
     "base_uri": "https://localhost:8080/",
     "height": 269
    },
    "colab_type": "code",
    "id": "giXnlH3iIqsc",
    "outputId": "d18c3757-9c2e-48b1-fac1-85cf5f87ec5d"
   },
   "outputs": [
    {
     "data": {
      "image/png": "[encoded data removed]",
      "text/plain": [
       "<matplotlib.figure.Figure at 0x7f3faf56a470>"
      ]
     },
     "metadata": {},
     "output_type": "display_data"
    }
   ],
   "source": [
    "game_comments_df['Userscore'].plot.hist();"
   ]
  },
  {
   "cell_type": "markdown",
   "metadata": {
    "colab_type": "text",
    "id": "ZYIsFfjHRkvt"
   },
   "source": [
    "## Restrict titles to these that have reviews"
   ]
  },
  {
   "cell_type": "code",
   "execution_count": 20,
   "metadata": {},
   "outputs": [],
   "source": [
    "def get_column_values_with_min_occurrences(df, col, min_occurrences=5):\n",
    "    col_value_counts = df[col].value_counts()\n",
    "    return col_value_counts[col_value_counts >= min_occurrences].index"
   ]
  },
  {
   "cell_type": "code",
   "execution_count": 21,
   "metadata": {
    "colab": {},
    "colab_type": "code",
    "id": "zZ9BuBOVg9DZ"
   },
   "outputs": [],
   "source": [
    "user_comment_counts = game_comments_df['Username'].value_counts()\n",
    "title_counts = game_comments_df['Title'].value_counts()\n",
    "\n",
    "more_than_one_comment_game_comments_df = game_comments_df[\n",
    "    game_comments_df['Title'].isin(get_column_values_with_min_occurrences(game_comments_df, 'Title')) &\n",
    "    game_comments_df['Username'].isin(get_column_values_with_min_occurrences(game_comments_df, 'Username'))\n",
    "]"
   ]
  },
  {
   "cell_type": "code",
   "execution_count": 22,
   "metadata": {},
   "outputs": [
    {
     "data": {
      "text/plain": [
       "(113670, 5)"
      ]
     },
     "execution_count": 22,
     "metadata": {},
     "output_type": "execute_result"
    }
   ],
   "source": [
    "more_than_one_comment_game_comments_df.shape"
   ]
  },
  {
   "cell_type": "code",
   "execution_count": 23,
   "metadata": {},
   "outputs": [],
   "source": [
    "game_info_df = game_info_df[game_info_df['Title'].isin(more_than_one_comment_game_comments_df['Title'])]\n",
    "game_info_df, title_le = add_label_encoded_column(game_info_df, 'Title')\n",
    "\n",
    "game_info_df = game_info_df.sort_values(by='Title_label_ID')"
   ]
  },
  {
   "cell_type": "code",
   "execution_count": 24,
   "metadata": {
    "colab": {
     "base_uri": "https://localhost:8080/",
     "height": 119
    },
    "colab_type": "code",
    "id": "9y7h84fKUr-f",
    "outputId": "45eeeb05-de3b-44c4-a2d9-76ce413fec55"
   },
   "outputs": [
    {
     "name": "stderr",
     "output_type": "stream",
     "text": [
      "/home/kuba/anaconda3/lib/python3.6/site-packages/ipykernel_launcher.py:4: SettingWithCopyWarning: \n",
      "A value is trying to be set on a copy of a slice from a DataFrame.\n",
      "Try using .loc[row_indexer,col_indexer] = value instead\n",
      "\n",
      "See the caveats in the documentation: http://pandas.pydata.org/pandas-docs/stable/indexing.html#indexing-view-versus-copy\n",
      "  after removing the cwd from sys.path.\n"
     ]
    }
   ],
   "source": [
    "used_comments_df, username_le = add_label_encoded_column(more_than_one_comment_game_comments_df, 'Username')\n",
    "used_comments_df, title_le = add_label_encoded_column(used_comments_df, 'Title', title_le)"
   ]
  },
  {
   "cell_type": "code",
   "execution_count": 25,
   "metadata": {},
   "outputs": [],
   "source": [
    "used_comments_df = used_comments_df.merge(game_info_df[['Title', 'Avg_Userscore', 'Metascore', 'Publisher', 'Platform', 'Genre']], on=['Title', 'Platform'])"
   ]
  },
  {
   "cell_type": "code",
   "execution_count": 26,
   "metadata": {},
   "outputs": [
    {
     "data": {
      "text/plain": [
       "Index(['Title', 'Platform', 'Userscore', 'Comment', 'Username',\n",
       "       'Username_label_ID', 'Title_label_ID', 'Avg_Userscore', 'Metascore',\n",
       "       'Publisher', 'Genre'],\n",
       "      dtype='object')"
      ]
     },
     "execution_count": 26,
     "metadata": {},
     "output_type": "execute_result"
    }
   ],
   "source": [
    "used_comments_df.columns"
   ]
  },
  {
   "cell_type": "code",
   "execution_count": 27,
   "metadata": {},
   "outputs": [],
   "source": [
    "#used_comments_df['Userscore'] = used_comments_df['Userscore'] - used_comments_df['Userscore'].median()"
   ]
  },
  {
   "cell_type": "code",
   "execution_count": 28,
   "metadata": {},
   "outputs": [],
   "source": [
    "vectorizer = make_user_game_vectorizer()"
   ]
  },
  {
   "cell_type": "code",
   "execution_count": 29,
   "metadata": {},
   "outputs": [],
   "source": [
    "X = vectorizer.fit_transform(used_comments_df)"
   ]
  },
  {
   "cell_type": "code",
   "execution_count": 30,
   "metadata": {},
   "outputs": [
    {
     "data": {
      "text/plain": [
       "(113868, 12509)"
      ]
     },
     "execution_count": 30,
     "metadata": {},
     "output_type": "execute_result"
    }
   ],
   "source": [
    "X.shape"
   ]
  },
  {
   "cell_type": "code",
   "execution_count": 31,
   "metadata": {},
   "outputs": [],
   "source": [
    "X_train, X_test, y_train, y_test = train_test_split(X, used_comments_df['Userscore'], test_size=0.1, random_state=0)"
   ]
  },
  {
   "cell_type": "markdown",
   "metadata": {},
   "source": [
    "## Machine learning for predicting Userscore\n",
    "\n",
    "\n",
    "### SGD Linear Regression"
   ]
  },
  {
   "cell_type": "code",
   "execution_count": 32,
   "metadata": {},
   "outputs": [],
   "source": [
    "from sklearn.linear_model import SGDRegressor\n",
    "\n",
    "lin_reg = SGDRegressor(alpha=1, l1_ratio=0.5, random_state=0)"
   ]
  },
  {
   "cell_type": "code",
   "execution_count": 33,
   "metadata": {},
   "outputs": [
    {
     "name": "stdout",
     "output_type": "stream",
     "text": [
      "CPU times: user 1.68 s, sys: 120 ms, total: 1.8 s\n",
      "Wall time: 1.59 s\n"
     ]
    },
    {
     "data": {
      "text/plain": [
       "SGDRegressor(alpha=1, average=False, early_stopping=False, epsilon=0.1,\n",
       "             eta0=0.01, fit_intercept=True, l1_ratio=0.5,\n",
       "             learning_rate='invscaling', loss='squared_loss', max_iter=1000,\n",
       "             n_iter_no_change=5, penalty='l2', power_t=0.25, random_state=0,\n",
       "             shuffle=True, tol=0.001, validation_fraction=0.1, verbose=0,\n",
       "             warm_start=False)"
      ]
     },
     "execution_count": 33,
     "metadata": {},
     "output_type": "execute_result"
    }
   ],
   "source": [
    "%%time\n",
    "lin_reg.fit(X_train, y_train)"
   ]
  },
  {
   "cell_type": "code",
   "execution_count": 34,
   "metadata": {},
   "outputs": [],
   "source": [
    "y_pred_lin_reg = lin_reg.predict(X_test)"
   ]
  },
  {
   "cell_type": "code",
   "execution_count": 35,
   "metadata": {},
   "outputs": [
    {
     "data": {
      "text/plain": [
       "2.3737659586240536"
      ]
     },
     "execution_count": 35,
     "metadata": {},
     "output_type": "execute_result"
    }
   ],
   "source": [
    "np.sqrt(mean_squared_error(y_pred_lin_reg , y_test))"
   ]
  },
  {
   "cell_type": "markdown",
   "metadata": {},
   "source": [
    "### Factorization Machines"
   ]
  },
  {
   "cell_type": "code",
   "execution_count": 36,
   "metadata": {},
   "outputs": [
    {
     "data": {
      "image/png": "[encoded data removed]",
      "text/plain": [
       "<matplotlib.figure.Figure at 0x7f3ff01cca20>"
      ]
     },
     "metadata": {},
     "output_type": "display_data"
    },
    {
     "name": "stdout",
     "output_type": "stream",
     "text": [
      "rmse:\n",
      "training   (min:    2.005, max:    2.381, cur:    2.009)\n",
      "validation (min:    2.282, max:    2.394, cur:    2.301)\n",
      "\n",
      "mae:\n",
      "training   (min:    1.458, max:    1.756, cur:    1.461)\n",
      "validation (min:    1.646, max:    1.757, cur:    1.659)\n",
      "CPU times: user 2min 49s, sys: 40 s, total: 3min 29s\n",
      "Wall time: 2min 13s\n"
     ]
    },
    {
     "name": "stderr",
     "output_type": "stream",
     "text": [
      "\n"
     ]
    }
   ],
   "source": [
    "%%time\n",
    "fm, liveplot = train_mcmc_fm(X_train, y_train, n_iter=500, rank=10, init_stdev=1e-3, early_stopping_patience=8)"
   ]
  },
  {
   "cell_type": "code",
   "execution_count": 37,
   "metadata": {},
   "outputs": [
    {
     "data": {
      "image/png": "[encoded data removed]",
      "text/plain": [
       "<matplotlib.figure.Figure at 0x7f3fafce1940>"
      ]
     },
     "metadata": {},
     "output_type": "display_data"
    }
   ],
   "source": [
    "y_pred = fm.predict(X_test)\n",
    "\n",
    "sns.distplot(y_test);\n",
    "sns.distplot(y_pred);"
   ]
  },
  {
   "cell_type": "code",
   "execution_count": 38,
   "metadata": {},
   "outputs": [
    {
     "data": {
      "image/png": "[encoded data removed]",
      "text/plain": [
       "<matplotlib.figure.Figure at 0x7f3fd004feb8>"
      ]
     },
     "metadata": {},
     "output_type": "display_data"
    }
   ],
   "source": [
    "sns.distplot(y_test - y_pred);"
   ]
  },
  {
   "cell_type": "code",
   "execution_count": 39,
   "metadata": {},
   "outputs": [
    {
     "data": {
      "text/plain": [
       "2.280464703668659"
      ]
     },
     "execution_count": 39,
     "metadata": {},
     "output_type": "execute_result"
    }
   ],
   "source": [
    "np.sqrt(mean_squared_error(fm.predict(X_test) , y_test))"
   ]
  },
  {
   "cell_type": "markdown",
   "metadata": {
    "colab_type": "text",
    "id": "-z1W_bmqfg3o"
   },
   "source": [
    "## Preparing data for recommendations"
   ]
  },
  {
   "cell_type": "code",
   "execution_count": 40,
   "metadata": {},
   "outputs": [
    {
     "data": {
      "text/plain": [
       "(10233, 2081)"
      ]
     },
     "execution_count": 40,
     "metadata": {},
     "output_type": "execute_result"
    }
   ],
   "source": [
    "matrix_data = (used_comments_df['Userscore'], (used_comments_df['Username_label_ID'], used_comments_df['Title_label_ID']))\n",
    "n_rows = matrix_data[1][0].max() + 1\n",
    "n_cols = matrix_data[1][1].max() + 1\n",
    "n_rows, n_cols"
   ]
  },
  {
   "cell_type": "code",
   "execution_count": 41,
   "metadata": {},
   "outputs": [
    {
     "data": {
      "text/plain": [
       "12314"
      ]
     },
     "execution_count": 41,
     "metadata": {},
     "output_type": "execute_result"
    }
   ],
   "source": [
    "n_rows + n_cols"
   ]
  },
  {
   "cell_type": "code",
   "execution_count": 42,
   "metadata": {},
   "outputs": [],
   "source": [
    "ratings_matrix = scipy.sparse.csr_matrix(matrix_data, shape=(n_rows, n_cols))"
   ]
  },
  {
   "cell_type": "markdown",
   "metadata": {},
   "source": [
    "## Mine ratings"
   ]
  },
  {
   "cell_type": "code",
   "execution_count": 43,
   "metadata": {},
   "outputs": [],
   "source": [
    "ratings_dict = {\n",
    "  'The Witcher 3: Wild Hunt': 10,\n",
    "  'Grand Theft Auto: Vice City': 10,\n",
    "  'Diablo II: Lord of Destruction': 6,\n",
    "  'Medieval II: Total War': 8,\n",
    "  'Gothic': 7,\n",
    "  'Age of Empires II: The Conquerors Expansion': 9,\n",
    "  'Age of Mythology': 9,\n",
    "  'Planescape: Torment': 10,\n",
    "  'Deus Ex': 9,\n",
    "  'Fallout' : 10,\n",
    "  'Fallout 2': 10,\n",
    "  'Fallout 3': 5,\n",
    "  \"Sid Meier's Civilization II\": 9,\n",
    "  'Antichamber': 9,\n",
    "  'FIFA Soccer 11': 2,\n",
    "  'The Sims': 1,\n",
    "  \"Baldur's Gate II: Shadows of Amn\": 8,\n",
    "  'Call of Duty 2': 7,\n",
    "  'Darwinia': 9,\n",
    "  'Starcraft': 9,\n",
    "  'Tiger Woods PGA Tour 2004': 1,\n",
    "  'Madden NFL 2004': 1,\n",
    "  'Colin McRae Rally 2.0': 2\n",
    "}"
   ]
  },
  {
   "cell_type": "code",
   "execution_count": 44,
   "metadata": {},
   "outputs": [],
   "source": [
    "rated_titles = pd.Series(list(ratings_dict.keys()))"
   ]
  },
  {
   "cell_type": "code",
   "execution_count": 46,
   "metadata": {},
   "outputs": [],
   "source": [
    "title_ids = title_le.transform(rated_titles)"
   ]
  },
  {
   "cell_type": "code",
   "execution_count": 47,
   "metadata": {},
   "outputs": [],
   "source": [
    "ratings = list(ratings_dict.values())"
   ]
  },
  {
   "cell_type": "code",
   "execution_count": 48,
   "metadata": {},
   "outputs": [],
   "source": [
    "my_ratings = scipy.sparse.csr_matrix((ratings, (np.zeros_like(ratings), title_ids)), shape=(1, ratings_matrix.shape[1]))"
   ]
  },
  {
   "cell_type": "code",
   "execution_count": 49,
   "metadata": {},
   "outputs": [],
   "source": [
    "from sklearn.metrics.pairwise import cosine_similarity"
   ]
  },
  {
   "cell_type": "markdown",
   "metadata": {},
   "source": [
    "### Getting users similar to me"
   ]
  },
  {
   "cell_type": "code",
   "execution_count": 50,
   "metadata": {},
   "outputs": [],
   "source": [
    "user_similarities = cosine_similarity(ratings_matrix, my_ratings)"
   ]
  },
  {
   "cell_type": "code",
   "execution_count": 51,
   "metadata": {
    "colab": {},
    "colab_type": "code",
    "id": "3HHUVrCP3brb"
   },
   "outputs": [],
   "source": [
    "n_similar = 10\n",
    "similar_user_indices = user_similarities.argsort(axis=0)[::-1][:n_similar,0]"
   ]
  },
  {
   "cell_type": "code",
   "execution_count": 52,
   "metadata": {},
   "outputs": [],
   "source": [
    "similar_user_matrix_data = (user_similarities[similar_user_indices][:,0], (np.zeros((n_similar,)), similar_user_indices))\n",
    "similar_user_encoding = scipy.sparse.csr_matrix(similar_user_matrix_data, shape=(1, n_rows))"
   ]
  },
  {
   "cell_type": "code",
   "execution_count": 53,
   "metadata": {},
   "outputs": [
    {
     "data": {
      "text/plain": [
       "<1x10233 sparse matrix of type '<class 'numpy.float64'>'\n",
       "\twith 10 stored elements in Compressed Sparse Row format>"
      ]
     },
     "execution_count": 53,
     "metadata": {},
     "output_type": "execute_result"
    }
   ],
   "source": [
    "similar_user_encoding"
   ]
  },
  {
   "cell_type": "code",
   "execution_count": 54,
   "metadata": {
    "colab": {
     "base_uri": "https://localhost:8080/",
     "height": 68
    },
    "colab_type": "code",
    "id": "d64T1Uat32Zf",
    "outputId": "2528750d-de68-4a0c-d5f4-915832b51c5a"
   },
   "outputs": [],
   "source": [
    "game_encoding_matrix = scipy.sparse.spdiags(np.ones((n_cols,)), diags=0, m=n_cols, n=n_cols)"
   ]
  },
  {
   "cell_type": "code",
   "execution_count": 55,
   "metadata": {},
   "outputs": [
    {
     "data": {
      "text/plain": [
       "<1x10233 sparse matrix of type '<class 'numpy.float64'>'\n",
       "\twith 10 stored elements in Compressed Sparse Row format>"
      ]
     },
     "execution_count": 55,
     "metadata": {},
     "output_type": "execute_result"
    }
   ],
   "source": [
    "similar_user_encoding"
   ]
  },
  {
   "cell_type": "code",
   "execution_count": 56,
   "metadata": {},
   "outputs": [],
   "source": [
    "X_user_encoding = scipy.sparse.vstack([similar_user_encoding for __ in range(n_cols)])"
   ]
  },
  {
   "cell_type": "code",
   "execution_count": 57,
   "metadata": {},
   "outputs": [],
   "source": [
    "X_mine = scipy.sparse.hstack([X_user_encoding, game_encoding_matrix])"
   ]
  },
  {
   "cell_type": "code",
   "execution_count": 58,
   "metadata": {},
   "outputs": [
    {
     "data": {
      "text/plain": [
       "(2081, 12314)"
      ]
     },
     "execution_count": 58,
     "metadata": {},
     "output_type": "execute_result"
    }
   ],
   "source": [
    "X_mine.shape"
   ]
  },
  {
   "cell_type": "code",
   "execution_count": 59,
   "metadata": {},
   "outputs": [],
   "source": [
    "copied_game_info_df = game_info_df.copy()\n",
    "copied_game_info_df['Username_label_ID'] = 0\n",
    "copied_game_info_df = pd.concat([copied_game_info_df[copied_game_info_df['Platform'] == 'PC'], copied_game_info_df[copied_game_info_df['Platform'] != 'PC']])\n",
    "copied_game_info_df = copied_game_info_df.drop_duplicates(subset=['Title'])"
   ]
  },
  {
   "cell_type": "code",
   "execution_count": 60,
   "metadata": {},
   "outputs": [],
   "source": [
    "X_mine_features = vectorizer.transform(copied_game_info_df)"
   ]
  },
  {
   "cell_type": "code",
   "execution_count": 61,
   "metadata": {},
   "outputs": [
    {
     "data": {
      "text/plain": [
       "(2081, 12509)"
      ]
     },
     "execution_count": 61,
     "metadata": {},
     "output_type": "execute_result"
    }
   ],
   "source": [
    "X_mine_features.shape"
   ]
  },
  {
   "cell_type": "code",
   "execution_count": 62,
   "metadata": {},
   "outputs": [
    {
     "data": {
      "text/plain": [
       "(2081, 10233)"
      ]
     },
     "execution_count": 62,
     "metadata": {},
     "output_type": "execute_result"
    }
   ],
   "source": [
    "X_user_encoding.shape"
   ]
  },
  {
   "cell_type": "code",
   "execution_count": 63,
   "metadata": {},
   "outputs": [
    {
     "data": {
      "text/plain": [
       "<2081x10233 sparse matrix of type '<class 'numpy.float64'>'\n",
       "\twith 20810 stored elements in Compressed Sparse Row format>"
      ]
     },
     "execution_count": 63,
     "metadata": {},
     "output_type": "execute_result"
    }
   ],
   "source": [
    "X_user_encoding"
   ]
  },
  {
   "cell_type": "code",
   "execution_count": 64,
   "metadata": {},
   "outputs": [
    {
     "name": "stderr",
     "output_type": "stream",
     "text": [
      "/home/kuba/anaconda3/lib/python3.6/site-packages/scipy/sparse/_index.py:103: SparseEfficiencyWarning: Changing the sparsity structure of a csr_matrix is expensive. lil_matrix is more efficient.\n",
      "  self._set_arrayXarray_sparse(i, j, x)\n"
     ]
    }
   ],
   "source": [
    "X_mine_features[:, :X_user_encoding.shape[1]] = X_user_encoding"
   ]
  },
  {
   "cell_type": "code",
   "execution_count": 65,
   "metadata": {},
   "outputs": [],
   "source": [
    "fm_predicted_ratings = fm.predict(X_mine_features)\n",
    "fm_predicted_ratings = fm_predicted_ratings / fm_predicted_ratings.max() * 10"
   ]
  },
  {
   "cell_type": "code",
   "execution_count": 66,
   "metadata": {},
   "outputs": [],
   "source": [
    "lin_reg_predicted_ratings = lin_reg.predict(X_mine_features)\n",
    "lin_reg_predicted_ratings = lin_reg_predicted_ratings / lin_reg_predicted_ratings.max() * 10"
   ]
  },
  {
   "cell_type": "code",
   "execution_count": 67,
   "metadata": {},
   "outputs": [],
   "source": [
    "predicted_ratings_df = pd.DataFrame({'LinScore': lin_reg_predicted_ratings, 'FMScore': fm_predicted_ratings, 'Title': copied_game_info_df['Title'], 'Platform': copied_game_info_df['Platform']}).sort_values(by='FMScore', ascending=False)"
   ]
  },
  {
   "cell_type": "code",
   "execution_count": 69,
   "metadata": {},
   "outputs": [],
   "source": [
    "mine_ratings_df = predicted_ratings_df[predicted_ratings_df['Title'].isin(ratings_dict.keys())].sort_values(by='Title')"
   ]
  },
  {
   "cell_type": "code",
   "execution_count": 70,
   "metadata": {},
   "outputs": [],
   "source": [
    "from  operator import itemgetter\n",
    "mine_ratings_df['MyScore'] = list(map(itemgetter(1), sorted(ratings_dict.items(), key=itemgetter(0))))"
   ]
  },
  {
   "cell_type": "markdown",
   "metadata": {},
   "source": [
    "### Best PC Games for me according to Factorization Machines"
   ]
  },
  {
   "cell_type": "code",
   "execution_count": 79,
   "metadata": {},
   "outputs": [
    {
     "data": {
      "text/html": [
       "<div>\n",
       "<style scoped>\n",
       "    .dataframe tbody tr th:only-of-type {\n",
       "        vertical-align: middle;\n",
       "    }\n",
       "\n",
       "    .dataframe tbody tr th {\n",
       "        vertical-align: top;\n",
       "    }\n",
       "\n",
       "    .dataframe thead th {\n",
       "        text-align: right;\n",
       "    }\n",
       "</style>\n",
       "<table border=\"1\" class=\"dataframe\">\n",
       "  <thead>\n",
       "    <tr style=\"text-align: right;\">\n",
       "      <th></th>\n",
       "      <th>LinScore</th>\n",
       "      <th>FMScore</th>\n",
       "      <th>Title</th>\n",
       "      <th>Platform</th>\n",
       "    </tr>\n",
       "  </thead>\n",
       "  <tbody>\n",
       "    <tr>\n",
       "      <th>326</th>\n",
       "      <td>9.509883</td>\n",
       "      <td>9.501208</td>\n",
       "      <td>Planescape: Torment</td>\n",
       "      <td>PC</td>\n",
       "    </tr>\n",
       "    <tr>\n",
       "      <th>41</th>\n",
       "      <td>9.670362</td>\n",
       "      <td>9.213977</td>\n",
       "      <td>Baldur's Gate II: Shadows of Amn</td>\n",
       "      <td>PC</td>\n",
       "    </tr>\n",
       "    <tr>\n",
       "      <th>1346</th>\n",
       "      <td>9.176589</td>\n",
       "      <td>9.009155</td>\n",
       "      <td>Cities: Skylines</td>\n",
       "      <td>PC</td>\n",
       "    </tr>\n",
       "    <tr>\n",
       "      <th>2399</th>\n",
       "      <td>9.138296</td>\n",
       "      <td>8.956470</td>\n",
       "      <td>MechWarrior 4: Mercenaries</td>\n",
       "      <td>PC</td>\n",
       "    </tr>\n",
       "    <tr>\n",
       "      <th>853</th>\n",
       "      <td>9.288401</td>\n",
       "      <td>8.919299</td>\n",
       "      <td>Plants vs. Zombies</td>\n",
       "      <td>PC</td>\n",
       "    </tr>\n",
       "    <tr>\n",
       "      <th>28</th>\n",
       "      <td>9.825853</td>\n",
       "      <td>8.855726</td>\n",
       "      <td>The Orange Box</td>\n",
       "      <td>PC</td>\n",
       "    </tr>\n",
       "    <tr>\n",
       "      <th>1852</th>\n",
       "      <td>9.035024</td>\n",
       "      <td>8.737630</td>\n",
       "      <td>SimCity 4</td>\n",
       "      <td>PC</td>\n",
       "    </tr>\n",
       "    <tr>\n",
       "      <th>727</th>\n",
       "      <td>9.458058</td>\n",
       "      <td>8.717052</td>\n",
       "      <td>Starcraft</td>\n",
       "      <td>PC</td>\n",
       "    </tr>\n",
       "    <tr>\n",
       "      <th>267</th>\n",
       "      <td>9.358664</td>\n",
       "      <td>8.679474</td>\n",
       "      <td>Baldur's Gate</td>\n",
       "      <td>PC</td>\n",
       "    </tr>\n",
       "    <tr>\n",
       "      <th>2896</th>\n",
       "      <td>9.076533</td>\n",
       "      <td>8.673268</td>\n",
       "      <td>Supreme Commander: Forged Alliance</td>\n",
       "      <td>PC</td>\n",
       "    </tr>\n",
       "    <tr>\n",
       "      <th>3283</th>\n",
       "      <td>8.982230</td>\n",
       "      <td>8.646970</td>\n",
       "      <td>Defense Grid: The Awakening</td>\n",
       "      <td>PC</td>\n",
       "    </tr>\n",
       "    <tr>\n",
       "      <th>1073</th>\n",
       "      <td>9.221347</td>\n",
       "      <td>8.597933</td>\n",
       "      <td>Commandos 2: Men of Courage</td>\n",
       "      <td>PC</td>\n",
       "    </tr>\n",
       "    <tr>\n",
       "      <th>217</th>\n",
       "      <td>9.519905</td>\n",
       "      <td>8.580860</td>\n",
       "      <td>Age of Empires II: The Age of Kings</td>\n",
       "      <td>PC</td>\n",
       "    </tr>\n",
       "    <tr>\n",
       "      <th>830</th>\n",
       "      <td>9.466651</td>\n",
       "      <td>8.569518</td>\n",
       "      <td>Counter-Strike</td>\n",
       "      <td>PC</td>\n",
       "    </tr>\n",
       "    <tr>\n",
       "      <th>2505</th>\n",
       "      <td>9.007701</td>\n",
       "      <td>8.555671</td>\n",
       "      <td>Dangerous Waters</td>\n",
       "      <td>PC</td>\n",
       "    </tr>\n",
       "    <tr>\n",
       "      <th>195</th>\n",
       "      <td>9.574699</td>\n",
       "      <td>8.543521</td>\n",
       "      <td>Team Fortress 2</td>\n",
       "      <td>PC</td>\n",
       "    </tr>\n",
       "    <tr>\n",
       "      <th>1100</th>\n",
       "      <td>9.238831</td>\n",
       "      <td>8.506496</td>\n",
       "      <td>Fallout 2</td>\n",
       "      <td>PC</td>\n",
       "    </tr>\n",
       "    <tr>\n",
       "      <th>1017</th>\n",
       "      <td>9.170435</td>\n",
       "      <td>8.458269</td>\n",
       "      <td>Company of Heroes: Opposing Fronts</td>\n",
       "      <td>PC</td>\n",
       "    </tr>\n",
       "    <tr>\n",
       "      <th>181</th>\n",
       "      <td>9.588791</td>\n",
       "      <td>8.456208</td>\n",
       "      <td>Warcraft III: Reign of Chaos</td>\n",
       "      <td>PC</td>\n",
       "    </tr>\n",
       "    <tr>\n",
       "      <th>829</th>\n",
       "      <td>9.188531</td>\n",
       "      <td>8.453601</td>\n",
       "      <td>Baldur's Gate II: Throne of Bhaal</td>\n",
       "      <td>PC</td>\n",
       "    </tr>\n",
       "    <tr>\n",
       "      <th>1281</th>\n",
       "      <td>9.276752</td>\n",
       "      <td>8.443562</td>\n",
       "      <td>Command &amp; Conquer: Red Alert 2 - Yuri's Revenge</td>\n",
       "      <td>PC</td>\n",
       "    </tr>\n",
       "    <tr>\n",
       "      <th>20</th>\n",
       "      <td>9.744945</td>\n",
       "      <td>8.441161</td>\n",
       "      <td>Half-Life 2</td>\n",
       "      <td>PC</td>\n",
       "    </tr>\n",
       "    <tr>\n",
       "      <th>34</th>\n",
       "      <td>9.744945</td>\n",
       "      <td>8.441161</td>\n",
       "      <td>Half-Life</td>\n",
       "      <td>PC</td>\n",
       "    </tr>\n",
       "    <tr>\n",
       "      <th>706</th>\n",
       "      <td>9.360945</td>\n",
       "      <td>8.435176</td>\n",
       "      <td>Age of Empires II: The Conquerors Expansion</td>\n",
       "      <td>PC</td>\n",
       "    </tr>\n",
       "    <tr>\n",
       "      <th>2352</th>\n",
       "      <td>8.888431</td>\n",
       "      <td>8.433301</td>\n",
       "      <td>Independence War 2: Edge of Chaos</td>\n",
       "      <td>PC</td>\n",
       "    </tr>\n",
       "    <tr>\n",
       "      <th>336</th>\n",
       "      <td>9.256839</td>\n",
       "      <td>8.427617</td>\n",
       "      <td>Dragon Age: Origins</td>\n",
       "      <td>PC</td>\n",
       "    </tr>\n",
       "    <tr>\n",
       "      <th>107</th>\n",
       "      <td>9.697705</td>\n",
       "      <td>8.406614</td>\n",
       "      <td>The Witcher 3: Wild Hunt</td>\n",
       "      <td>PC</td>\n",
       "    </tr>\n",
       "    <tr>\n",
       "      <th>1753</th>\n",
       "      <td>9.197272</td>\n",
       "      <td>8.406110</td>\n",
       "      <td>Command &amp; Conquer: Red Alert 2</td>\n",
       "      <td>PC</td>\n",
       "    </tr>\n",
       "    <tr>\n",
       "      <th>390</th>\n",
       "      <td>9.557417</td>\n",
       "      <td>8.405586</td>\n",
       "      <td>Portal</td>\n",
       "      <td>PC</td>\n",
       "    </tr>\n",
       "    <tr>\n",
       "      <th>415</th>\n",
       "      <td>9.557417</td>\n",
       "      <td>8.405586</td>\n",
       "      <td>Half-Life 2: Episode Two</td>\n",
       "      <td>PC</td>\n",
       "    </tr>\n",
       "    <tr>\n",
       "      <th>1528</th>\n",
       "      <td>9.169661</td>\n",
       "      <td>8.401727</td>\n",
       "      <td>AudioSurf</td>\n",
       "      <td>PC</td>\n",
       "    </tr>\n",
       "    <tr>\n",
       "      <th>487</th>\n",
       "      <td>9.384800</td>\n",
       "      <td>8.397514</td>\n",
       "      <td>Command &amp; Conquer: Red Alert</td>\n",
       "      <td>PC</td>\n",
       "    </tr>\n",
       "    <tr>\n",
       "      <th>451</th>\n",
       "      <td>9.071129</td>\n",
       "      <td>8.366233</td>\n",
       "      <td>Flight Simulator 2002</td>\n",
       "      <td>PC</td>\n",
       "    </tr>\n",
       "    <tr>\n",
       "      <th>523</th>\n",
       "      <td>9.205313</td>\n",
       "      <td>8.362223</td>\n",
       "      <td>Fallout</td>\n",
       "      <td>PC</td>\n",
       "    </tr>\n",
       "    <tr>\n",
       "      <th>1046</th>\n",
       "      <td>9.260300</td>\n",
       "      <td>8.354610</td>\n",
       "      <td>Zeus: Master of Olympus</td>\n",
       "      <td>PC</td>\n",
       "    </tr>\n",
       "    <tr>\n",
       "      <th>56</th>\n",
       "      <td>9.654292</td>\n",
       "      <td>8.336675</td>\n",
       "      <td>Portal 2</td>\n",
       "      <td>PC</td>\n",
       "    </tr>\n",
       "    <tr>\n",
       "      <th>93</th>\n",
       "      <td>9.695938</td>\n",
       "      <td>8.334903</td>\n",
       "      <td>Grim Fandango</td>\n",
       "      <td>PC</td>\n",
       "    </tr>\n",
       "    <tr>\n",
       "      <th>1734</th>\n",
       "      <td>9.098640</td>\n",
       "      <td>8.322722</td>\n",
       "      <td>Space Rangers 2: Rise of the Dominators</td>\n",
       "      <td>PC</td>\n",
       "    </tr>\n",
       "    <tr>\n",
       "      <th>532</th>\n",
       "      <td>9.466764</td>\n",
       "      <td>8.308431</td>\n",
       "      <td>Left 4 Dead</td>\n",
       "      <td>PC</td>\n",
       "    </tr>\n",
       "    <tr>\n",
       "      <th>761</th>\n",
       "      <td>9.378918</td>\n",
       "      <td>8.303051</td>\n",
       "      <td>Myth II: Soulblighter</td>\n",
       "      <td>PC</td>\n",
       "    </tr>\n",
       "    <tr>\n",
       "      <th>724</th>\n",
       "      <td>9.378918</td>\n",
       "      <td>8.303051</td>\n",
       "      <td>Warcraft III: The Frozen Throne</td>\n",
       "      <td>PC</td>\n",
       "    </tr>\n",
       "    <tr>\n",
       "      <th>206</th>\n",
       "      <td>9.566739</td>\n",
       "      <td>8.299931</td>\n",
       "      <td>Rome: Total War</td>\n",
       "      <td>PC</td>\n",
       "    </tr>\n",
       "    <tr>\n",
       "      <th>133</th>\n",
       "      <td>9.550854</td>\n",
       "      <td>8.295971</td>\n",
       "      <td>Homeworld</td>\n",
       "      <td>PC</td>\n",
       "    </tr>\n",
       "    <tr>\n",
       "      <th>221</th>\n",
       "      <td>9.535072</td>\n",
       "      <td>8.284190</td>\n",
       "      <td>Unreal Tournament (1999)</td>\n",
       "      <td>PC</td>\n",
       "    </tr>\n",
       "    <tr>\n",
       "      <th>660</th>\n",
       "      <td>8.940736</td>\n",
       "      <td>8.283911</td>\n",
       "      <td>Microsoft Flight Simulator 2004: A Century of ...</td>\n",
       "      <td>PC</td>\n",
       "    </tr>\n",
       "    <tr>\n",
       "      <th>245</th>\n",
       "      <td>9.607052</td>\n",
       "      <td>8.281973</td>\n",
       "      <td>The Witcher 3: Wild Hunt - Blood and Wine</td>\n",
       "      <td>PC</td>\n",
       "    </tr>\n",
       "    <tr>\n",
       "      <th>151</th>\n",
       "      <td>9.509216</td>\n",
       "      <td>8.277147</td>\n",
       "      <td>Star Wars: Knights of the Old Republic</td>\n",
       "      <td>PC</td>\n",
       "    </tr>\n",
       "    <tr>\n",
       "      <th>1664</th>\n",
       "      <td>9.026103</td>\n",
       "      <td>8.271633</td>\n",
       "      <td>Two Point Hospital</td>\n",
       "      <td>PC</td>\n",
       "    </tr>\n",
       "    <tr>\n",
       "      <th>796</th>\n",
       "      <td>9.313913</td>\n",
       "      <td>8.268734</td>\n",
       "      <td>Counter-Strike: Source</td>\n",
       "      <td>PC</td>\n",
       "    </tr>\n",
       "    <tr>\n",
       "      <th>3228</th>\n",
       "      <td>8.986898</td>\n",
       "      <td>8.253983</td>\n",
       "      <td>Mortal Kombat Komplete Edition</td>\n",
       "      <td>PC</td>\n",
       "    </tr>\n",
       "  </tbody>\n",
       "</table>\n",
       "</div>"
      ],
      "text/plain": [
       "      LinScore   FMScore                                              Title  \\\n",
       "326   9.509883  9.501208                                Planescape: Torment   \n",
       "41    9.670362  9.213977                   Baldur's Gate II: Shadows of Amn   \n",
       "1346  9.176589  9.009155                                   Cities: Skylines   \n",
       "2399  9.138296  8.956470                         MechWarrior 4: Mercenaries   \n",
       "853   9.288401  8.919299                                 Plants vs. Zombies   \n",
       "28    9.825853  8.855726                                     The Orange Box   \n",
       "1852  9.035024  8.737630                                          SimCity 4   \n",
       "727   9.458058  8.717052                                          Starcraft   \n",
       "267   9.358664  8.679474                                      Baldur's Gate   \n",
       "2896  9.076533  8.673268                 Supreme Commander: Forged Alliance   \n",
       "3283  8.982230  8.646970                        Defense Grid: The Awakening   \n",
       "1073  9.221347  8.597933                        Commandos 2: Men of Courage   \n",
       "217   9.519905  8.580860                Age of Empires II: The Age of Kings   \n",
       "830   9.466651  8.569518                                     Counter-Strike   \n",
       "2505  9.007701  8.555671                                   Dangerous Waters   \n",
       "195   9.574699  8.543521                                    Team Fortress 2   \n",
       "1100  9.238831  8.506496                                          Fallout 2   \n",
       "1017  9.170435  8.458269                 Company of Heroes: Opposing Fronts   \n",
       "181   9.588791  8.456208                       Warcraft III: Reign of Chaos   \n",
       "829   9.188531  8.453601                  Baldur's Gate II: Throne of Bhaal   \n",
       "1281  9.276752  8.443562    Command & Conquer: Red Alert 2 - Yuri's Revenge   \n",
       "20    9.744945  8.441161                                        Half-Life 2   \n",
       "34    9.744945  8.441161                                          Half-Life   \n",
       "706   9.360945  8.435176        Age of Empires II: The Conquerors Expansion   \n",
       "2352  8.888431  8.433301                  Independence War 2: Edge of Chaos   \n",
       "336   9.256839  8.427617                                Dragon Age: Origins   \n",
       "107   9.697705  8.406614                           The Witcher 3: Wild Hunt   \n",
       "1753  9.197272  8.406110                     Command & Conquer: Red Alert 2   \n",
       "390   9.557417  8.405586                                             Portal   \n",
       "415   9.557417  8.405586                           Half-Life 2: Episode Two   \n",
       "1528  9.169661  8.401727                                          AudioSurf   \n",
       "487   9.384800  8.397514                       Command & Conquer: Red Alert   \n",
       "451   9.071129  8.366233                              Flight Simulator 2002   \n",
       "523   9.205313  8.362223                                            Fallout   \n",
       "1046  9.260300  8.354610                            Zeus: Master of Olympus   \n",
       "56    9.654292  8.336675                                           Portal 2   \n",
       "93    9.695938  8.334903                                      Grim Fandango   \n",
       "1734  9.098640  8.322722            Space Rangers 2: Rise of the Dominators   \n",
       "532   9.466764  8.308431                                        Left 4 Dead   \n",
       "761   9.378918  8.303051                              Myth II: Soulblighter   \n",
       "724   9.378918  8.303051                    Warcraft III: The Frozen Throne   \n",
       "206   9.566739  8.299931                                    Rome: Total War   \n",
       "133   9.550854  8.295971                                          Homeworld   \n",
       "221   9.535072  8.284190                           Unreal Tournament (1999)   \n",
       "660   8.940736  8.283911  Microsoft Flight Simulator 2004: A Century of ...   \n",
       "245   9.607052  8.281973          The Witcher 3: Wild Hunt - Blood and Wine   \n",
       "151   9.509216  8.277147             Star Wars: Knights of the Old Republic   \n",
       "1664  9.026103  8.271633                                 Two Point Hospital   \n",
       "796   9.313913  8.268734                             Counter-Strike: Source   \n",
       "3228  8.986898  8.253983                     Mortal Kombat Komplete Edition   \n",
       "\n",
       "     Platform  \n",
       "326        PC  \n",
       "41         PC  \n",
       "1346       PC  \n",
       "2399       PC  \n",
       "853        PC  \n",
       "28         PC  \n",
       "1852       PC  \n",
       "727        PC  \n",
       "267        PC  \n",
       "2896       PC  \n",
       "3283       PC  \n",
       "1073       PC  \n",
       "217        PC  \n",
       "830        PC  \n",
       "2505       PC  \n",
       "195        PC  \n",
       "1100       PC  \n",
       "1017       PC  \n",
       "181        PC  \n",
       "829        PC  \n",
       "1281       PC  \n",
       "20         PC  \n",
       "34         PC  \n",
       "706        PC  \n",
       "2352       PC  \n",
       "336        PC  \n",
       "107        PC  \n",
       "1753       PC  \n",
       "390        PC  \n",
       "415        PC  \n",
       "1528       PC  \n",
       "487        PC  \n",
       "451        PC  \n",
       "523        PC  \n",
       "1046       PC  \n",
       "56         PC  \n",
       "93         PC  \n",
       "1734       PC  \n",
       "532        PC  \n",
       "761        PC  \n",
       "724        PC  \n",
       "206        PC  \n",
       "133        PC  \n",
       "221        PC  \n",
       "660        PC  \n",
       "245        PC  \n",
       "151        PC  \n",
       "1664       PC  \n",
       "796        PC  \n",
       "3228       PC  "
      ]
     },
     "execution_count": 79,
     "metadata": {},
     "output_type": "execute_result"
    }
   ],
   "source": [
    "predicted_ratings_df[predicted_ratings_df['Platform'] == 'PC'].iloc[:50]"
   ]
  },
  {
   "cell_type": "markdown",
   "metadata": {},
   "source": [
    "### Predicted scores for games rated by me"
   ]
  },
  {
   "cell_type": "code",
   "execution_count": 71,
   "metadata": {},
   "outputs": [
    {
     "data": {
      "text/html": [
       "<div>\n",
       "<style scoped>\n",
       "    .dataframe tbody tr th:only-of-type {\n",
       "        vertical-align: middle;\n",
       "    }\n",
       "\n",
       "    .dataframe tbody tr th {\n",
       "        vertical-align: top;\n",
       "    }\n",
       "\n",
       "    .dataframe thead th {\n",
       "        text-align: right;\n",
       "    }\n",
       "</style>\n",
       "<table border=\"1\" class=\"dataframe\">\n",
       "  <thead>\n",
       "    <tr style=\"text-align: right;\">\n",
       "      <th></th>\n",
       "      <th>LinScore</th>\n",
       "      <th>FMScore</th>\n",
       "      <th>Title</th>\n",
       "      <th>Platform</th>\n",
       "      <th>MyScore</th>\n",
       "    </tr>\n",
       "  </thead>\n",
       "  <tbody>\n",
       "    <tr>\n",
       "      <th>326</th>\n",
       "      <td>9.509883</td>\n",
       "      <td>9.501208</td>\n",
       "      <td>Planescape: Torment</td>\n",
       "      <td>PC</td>\n",
       "      <td>10</td>\n",
       "    </tr>\n",
       "    <tr>\n",
       "      <th>41</th>\n",
       "      <td>9.670362</td>\n",
       "      <td>9.213977</td>\n",
       "      <td>Baldur's Gate II: Shadows of Amn</td>\n",
       "      <td>PC</td>\n",
       "      <td>8</td>\n",
       "    </tr>\n",
       "    <tr>\n",
       "      <th>727</th>\n",
       "      <td>9.458058</td>\n",
       "      <td>8.717052</td>\n",
       "      <td>Starcraft</td>\n",
       "      <td>PC</td>\n",
       "      <td>9</td>\n",
       "    </tr>\n",
       "    <tr>\n",
       "      <th>1100</th>\n",
       "      <td>9.238831</td>\n",
       "      <td>8.506496</td>\n",
       "      <td>Fallout 2</td>\n",
       "      <td>PC</td>\n",
       "      <td>10</td>\n",
       "    </tr>\n",
       "    <tr>\n",
       "      <th>706</th>\n",
       "      <td>9.360945</td>\n",
       "      <td>8.435176</td>\n",
       "      <td>Age of Empires II: The Conquerors Expansion</td>\n",
       "      <td>PC</td>\n",
       "      <td>9</td>\n",
       "    </tr>\n",
       "    <tr>\n",
       "      <th>107</th>\n",
       "      <td>9.697705</td>\n",
       "      <td>8.406614</td>\n",
       "      <td>The Witcher 3: Wild Hunt</td>\n",
       "      <td>PC</td>\n",
       "      <td>10</td>\n",
       "    </tr>\n",
       "    <tr>\n",
       "      <th>523</th>\n",
       "      <td>9.205313</td>\n",
       "      <td>8.362223</td>\n",
       "      <td>Fallout</td>\n",
       "      <td>PC</td>\n",
       "      <td>10</td>\n",
       "    </tr>\n",
       "    <tr>\n",
       "      <th>410</th>\n",
       "      <td>9.627581</td>\n",
       "      <td>8.251872</td>\n",
       "      <td>Deus Ex</td>\n",
       "      <td>PC</td>\n",
       "      <td>9</td>\n",
       "    </tr>\n",
       "    <tr>\n",
       "      <th>503</th>\n",
       "      <td>9.367746</td>\n",
       "      <td>8.232074</td>\n",
       "      <td>Age of Mythology</td>\n",
       "      <td>PC</td>\n",
       "      <td>9</td>\n",
       "    </tr>\n",
       "    <tr>\n",
       "      <th>81</th>\n",
       "      <td>9.524105</td>\n",
       "      <td>8.191413</td>\n",
       "      <td>Sid Meier's Civilization II</td>\n",
       "      <td>PC</td>\n",
       "      <td>9</td>\n",
       "    </tr>\n",
       "    <tr>\n",
       "      <th>784</th>\n",
       "      <td>9.305954</td>\n",
       "      <td>8.013018</td>\n",
       "      <td>Medieval II: Total War</td>\n",
       "      <td>PC</td>\n",
       "      <td>8</td>\n",
       "    </tr>\n",
       "    <tr>\n",
       "      <th>3017</th>\n",
       "      <td>8.877594</td>\n",
       "      <td>7.990939</td>\n",
       "      <td>Gothic</td>\n",
       "      <td>PC</td>\n",
       "      <td>7</td>\n",
       "    </tr>\n",
       "    <tr>\n",
       "      <th>917</th>\n",
       "      <td>9.306526</td>\n",
       "      <td>7.959921</td>\n",
       "      <td>Diablo II: Lord of Destruction</td>\n",
       "      <td>PC</td>\n",
       "      <td>6</td>\n",
       "    </tr>\n",
       "    <tr>\n",
       "      <th>77</th>\n",
       "      <td>9.512926</td>\n",
       "      <td>7.953826</td>\n",
       "      <td>Grand Theft Auto: Vice City</td>\n",
       "      <td>PC</td>\n",
       "      <td>10</td>\n",
       "    </tr>\n",
       "    <tr>\n",
       "      <th>723</th>\n",
       "      <td>8.795499</td>\n",
       "      <td>7.912931</td>\n",
       "      <td>Tiger Woods PGA Tour 2004</td>\n",
       "      <td>PC</td>\n",
       "      <td>1</td>\n",
       "    </tr>\n",
       "    <tr>\n",
       "      <th>323</th>\n",
       "      <td>8.834829</td>\n",
       "      <td>7.689072</td>\n",
       "      <td>Fallout 3</td>\n",
       "      <td>PC</td>\n",
       "      <td>5</td>\n",
       "    </tr>\n",
       "    <tr>\n",
       "      <th>2196</th>\n",
       "      <td>8.895668</td>\n",
       "      <td>7.536694</td>\n",
       "      <td>Colin McRae Rally 2.0</td>\n",
       "      <td>PC</td>\n",
       "      <td>2</td>\n",
       "    </tr>\n",
       "    <tr>\n",
       "      <th>1992</th>\n",
       "      <td>8.684068</td>\n",
       "      <td>7.428452</td>\n",
       "      <td>Darwinia</td>\n",
       "      <td>PC</td>\n",
       "      <td>9</td>\n",
       "    </tr>\n",
       "    <tr>\n",
       "      <th>1112</th>\n",
       "      <td>8.944955</td>\n",
       "      <td>7.426347</td>\n",
       "      <td>Call of Duty 2</td>\n",
       "      <td>PC</td>\n",
       "      <td>7</td>\n",
       "    </tr>\n",
       "    <tr>\n",
       "      <th>2520</th>\n",
       "      <td>8.749750</td>\n",
       "      <td>7.384401</td>\n",
       "      <td>Antichamber</td>\n",
       "      <td>PC</td>\n",
       "      <td>9</td>\n",
       "    </tr>\n",
       "    <tr>\n",
       "      <th>352</th>\n",
       "      <td>8.741019</td>\n",
       "      <td>7.102660</td>\n",
       "      <td>Madden NFL 2004</td>\n",
       "      <td>PC</td>\n",
       "      <td>1</td>\n",
       "    </tr>\n",
       "    <tr>\n",
       "      <th>2142</th>\n",
       "      <td>8.409362</td>\n",
       "      <td>6.650763</td>\n",
       "      <td>FIFA Soccer 11</td>\n",
       "      <td>PC</td>\n",
       "      <td>2</td>\n",
       "    </tr>\n",
       "    <tr>\n",
       "      <th>183</th>\n",
       "      <td>8.950519</td>\n",
       "      <td>6.627686</td>\n",
       "      <td>The Sims</td>\n",
       "      <td>PC</td>\n",
       "      <td>1</td>\n",
       "    </tr>\n",
       "  </tbody>\n",
       "</table>\n",
       "</div>"
      ],
      "text/plain": [
       "      LinScore   FMScore                                        Title  \\\n",
       "326   9.509883  9.501208                          Planescape: Torment   \n",
       "41    9.670362  9.213977             Baldur's Gate II: Shadows of Amn   \n",
       "727   9.458058  8.717052                                    Starcraft   \n",
       "1100  9.238831  8.506496                                    Fallout 2   \n",
       "706   9.360945  8.435176  Age of Empires II: The Conquerors Expansion   \n",
       "107   9.697705  8.406614                     The Witcher 3: Wild Hunt   \n",
       "523   9.205313  8.362223                                      Fallout   \n",
       "410   9.627581  8.251872                                      Deus Ex   \n",
       "503   9.367746  8.232074                             Age of Mythology   \n",
       "81    9.524105  8.191413                  Sid Meier's Civilization II   \n",
       "784   9.305954  8.013018                       Medieval II: Total War   \n",
       "3017  8.877594  7.990939                                       Gothic   \n",
       "917   9.306526  7.959921               Diablo II: Lord of Destruction   \n",
       "77    9.512926  7.953826                  Grand Theft Auto: Vice City   \n",
       "723   8.795499  7.912931                    Tiger Woods PGA Tour 2004   \n",
       "323   8.834829  7.689072                                    Fallout 3   \n",
       "2196  8.895668  7.536694                        Colin McRae Rally 2.0   \n",
       "1992  8.684068  7.428452                                     Darwinia   \n",
       "1112  8.944955  7.426347                               Call of Duty 2   \n",
       "2520  8.749750  7.384401                                  Antichamber   \n",
       "352   8.741019  7.102660                              Madden NFL 2004   \n",
       "2142  8.409362  6.650763                               FIFA Soccer 11   \n",
       "183   8.950519  6.627686                                     The Sims   \n",
       "\n",
       "     Platform  MyScore  \n",
       "326        PC       10  \n",
       "41         PC        8  \n",
       "727        PC        9  \n",
       "1100       PC       10  \n",
       "706        PC        9  \n",
       "107        PC       10  \n",
       "523        PC       10  \n",
       "410        PC        9  \n",
       "503        PC        9  \n",
       "81         PC        9  \n",
       "784        PC        8  \n",
       "3017       PC        7  \n",
       "917        PC        6  \n",
       "77         PC       10  \n",
       "723        PC        1  \n",
       "323        PC        5  \n",
       "2196       PC        2  \n",
       "1992       PC        9  \n",
       "1112       PC        7  \n",
       "2520       PC        9  \n",
       "352        PC        1  \n",
       "2142       PC        2  \n",
       "183        PC        1  "
      ]
     },
     "execution_count": 71,
     "metadata": {},
     "output_type": "execute_result"
    }
   ],
   "source": [
    "mine_ratings_df.sort_values('FMScore', ascending=False)"
   ]
  },
  {
   "cell_type": "markdown",
   "metadata": {},
   "source": [
    "## Ranking metrics for predictions\n",
    "\n",
    "Since I'm interested more in the order of predictions than it's numerical accuracy, I'll use ranking metric for final evaluation (Spearman's rank correlation coefficient)."
   ]
  },
  {
   "cell_type": "code",
   "execution_count": 72,
   "metadata": {},
   "outputs": [
    {
     "data": {
      "text/plain": [
       "SpearmanrResult(correlation=0.6705126244172019, pvalue=0.0004630979662472489)"
      ]
     },
     "execution_count": 72,
     "metadata": {},
     "output_type": "execute_result"
    }
   ],
   "source": [
    "scipy.stats.spearmanr(mine_ratings_df['FMScore'], mine_ratings_df['MyScore'])"
   ]
  },
  {
   "cell_type": "code",
   "execution_count": 73,
   "metadata": {},
   "outputs": [
    {
     "data": {
      "text/plain": [
       "SpearmanrResult(correlation=0.5751575559334916, pvalue=0.004089553322443607)"
      ]
     },
     "execution_count": 73,
     "metadata": {},
     "output_type": "execute_result"
    }
   ],
   "source": [
    "scipy.stats.spearmanr(mine_ratings_df['LinScore'], mine_ratings_df['MyScore'])"
   ]
  }
 ],
 "metadata": {
  "colab": {
   "collapsed_sections": [],
   "name": "Content Based Recommendations and Factorization Machines.ipynb",
   "provenance": [],
   "toc_visible": true,
   "version": "0.3.2"
  },
  "kernelspec": {
   "display_name": "text_mining",
   "language": "python",
   "name": "text_mining"
  },
  "language_info": {
   "codemirror_mode": {
    "name": "ipython",
    "version": 3
   },
   "file_extension": ".py",
   "mimetype": "text/x-python",
   "name": "python",
   "nbconvert_exporter": "python",
   "pygments_lexer": "ipython3",
   "version": "3.6.4"
  }
 },
 "nbformat": 4,
 "nbformat_minor": 2
}
