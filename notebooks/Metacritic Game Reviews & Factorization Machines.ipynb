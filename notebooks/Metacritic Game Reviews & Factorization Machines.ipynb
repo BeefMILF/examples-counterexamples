{
 "cells": [
  {
   "cell_type": "code",
   "execution_count": 1,
   "metadata": {
    "colab": {
     "base_uri": "https://localhost:8080/",
     "height": 258
    },
    "colab_type": "code",
    "id": "uAJeu6laX1sC",
    "outputId": "848a51b1-0f6f-43c8-a2cd-efa190bc2990"
   },
   "outputs": [
    {
     "name": "stdout",
     "output_type": "stream",
     "text": [
      "Requirement already satisfied: fastFM in /home/kuba/anaconda3/lib/python3.6/site-packages\n",
      "Requirement already satisfied: implicit in /home/kuba/anaconda3/lib/python3.6/site-packages\n",
      "Requirement already satisfied: cython in /home/kuba/anaconda3/lib/python3.6/site-packages (from fastFM)\n",
      "Requirement already satisfied: scikit-learn in /home/kuba/anaconda3/lib/python3.6/site-packages (from fastFM)\n",
      "Requirement already satisfied: scipy in /home/kuba/anaconda3/lib/python3.6/site-packages (from fastFM)\n",
      "Requirement already satisfied: numpy in /home/kuba/anaconda3/lib/python3.6/site-packages (from fastFM)\n",
      "Requirement already satisfied: h5py in /home/kuba/anaconda3/lib/python3.6/site-packages (from implicit)\n",
      "Requirement already satisfied: tqdm in /home/kuba/anaconda3/lib/python3.6/site-packages (from implicit)\n",
      "Requirement already satisfied: joblib>=0.11 in /home/kuba/anaconda3/lib/python3.6/site-packages (from scikit-learn->fastFM)\n",
      "Requirement already satisfied: six in /home/kuba/anaconda3/lib/python3.6/site-packages (from h5py->implicit)\n",
      "\u001b[33mYou are using pip version 9.0.1, however version 19.1.1 is available.\n",
      "You should consider upgrading via the 'pip install --upgrade pip' command.\u001b[0m\n"
     ]
    }
   ],
   "source": [
    "!pip install fastFM"
   ]
  },
  {
   "cell_type": "markdown",
   "metadata": {
    "colab_type": "text",
    "id": "qjUNlaaj1n-U"
   },
   "source": [
    "Upload kaggle.json and run this if you run the notebook on colab"
   ]
  },
  {
   "cell_type": "code",
   "execution_count": 2,
   "metadata": {
    "colab": {},
    "colab_type": "code",
    "id": "lQKyB6L3G6Tq"
   },
   "outputs": [
    {
     "name": "stdout",
     "output_type": "stream",
     "text": [
      "mkdir: cannot create directory ‘/root/.kaggle’: Permission denied\n",
      "cp: failed to access '/root/.kaggle': Permission denied\n"
     ]
    }
   ],
   "source": [
    "!mkdir /root/.kaggle\n",
    "!cp kaggle.json /root/.kaggle"
   ]
  },
  {
   "cell_type": "code",
   "execution_count": 3,
   "metadata": {
    "colab": {
     "base_uri": "https://localhost:8080/",
     "height": 34
    },
    "colab_type": "code",
    "id": "D7OE8g3KBdzQ",
    "outputId": "52b22c27-1e08-4f30-e42c-a21ed5afd7b4"
   },
   "outputs": [],
   "source": [
    "import os\n",
    "import numpy as np\n",
    "import shutil\n",
    "import seaborn as sns\n",
    "import scipy\n",
    "\n",
    "import pandas as pd\n",
    "\n",
    "from livelossplot import PlotLosses\n",
    "import matplotlib.pyplot as plt\n",
    "\n",
    "import sklearn\n",
    "import sklearn.compose\n",
    "from sklearn.feature_extraction.text import CountVectorizer\n",
    "from sklearn.model_selection import train_test_split\n",
    "from sklearn.metrics import mean_squared_error, mean_absolute_error\n",
    "from sklearn.preprocessing import OneHotEncoder, FunctionTransformer, StandardScaler\n",
    "from sklearn.metrics import mean_squared_error, mean_absolute_error\n",
    "from sklearn.model_selection import GridSearchCV, RandomizedSearchCV, StratifiedKFold\n",
    "\n",
    "import fastFM.als\n",
    "import fastFM.sgd\n",
    "import fastFM.mcmc\n",
    "\n",
    "\n",
    "import tqdm\n",
    "\n",
    "from kaggle.api.kaggle_api_extended import KaggleApi\n",
    "from kaggle.api_client import ApiClient"
   ]
  },
  {
   "cell_type": "code",
   "execution_count": 4,
   "metadata": {},
   "outputs": [],
   "source": [
    "plt.style.use('dark_background')"
   ]
  },
  {
   "cell_type": "code",
   "execution_count": 5,
   "metadata": {
    "colab": {},
    "colab_type": "code",
    "id": "vXcvRnkHWoGZ"
   },
   "outputs": [],
   "source": [
    "def preprocess_game_info_df(game_info_df):\n",
    "  game_info_df['Genre'] = game_info_df['Genre'].str.replace(' ', '-').str.replace(';', ' ')\n",
    "  # game_info_df = game_info_df[game_info_df['Platform'] == 'PC']\n",
    "  game_info_df['Metascore'][game_info_df['Metascore'] == 'not specified'] = 'nan'\n",
    "  game_info_df['Metascore'] = game_info_df['Metascore'].astype('float') / 100\n",
    "  game_info_df['Metascore'] = game_info_df['Metascore'].fillna(game_info_df['Metascore'].mean(skipna=True))\n",
    "  game_info_df['Avg_Userscore'][game_info_df['Avg_Userscore'] == 'tbd'] = 8\n",
    "  game_info_df['Avg_Userscore'][game_info_df['Avg_Userscore'] == 'not specified'] = 'nan'\n",
    "  game_info_df['Avg_Userscore'] = game_info_df['Avg_Userscore'].astype('float') / 10\n",
    "  game_info_df['Avg_Userscore'] = game_info_df['Avg_Userscore'].fillna(game_info_df['Avg_Userscore'].mean(skipna=True))\n",
    "  return game_info_df\n",
    "\n",
    "\n",
    "def preprocess_game_comments_df(game_comments_df):\n",
    "  game_comments_df = pd.read_csv('metacritic_game_user_comments.csv', index_col=0)\n",
    "  # game_comments_df = game_comments_df[game_comments_df['Platform'] == 'PC']\n",
    "  return game_comments_df[~game_comments_df['Username'].isna()]"
   ]
  },
  {
   "cell_type": "code",
   "execution_count": 6,
   "metadata": {},
   "outputs": [],
   "source": [
    "def get_column_inverse_norms(X, tol=1e-5):\n",
    "    features_matrix_maxes = X.max(axis=0).toarray()\n",
    "    features_matrix_maxes[np.abs(features_matrix_maxes) < tol] = 1\n",
    "    return scipy.sparse.spdiags(1.0 / features_matrix_maxes, 0, features_matrix_maxes.shape[1], features_matrix_maxes.shape[1])\n",
    "\n",
    "\n",
    "def column_normalize_csr_matrix(X, inverse_norms):\n",
    "    return scipy.sparse.csr_matrix(X @ inverse_norms)"
   ]
  },
  {
   "cell_type": "code",
   "execution_count": 7,
   "metadata": {
    "colab": {},
    "colab_type": "code",
    "id": "BuI6UVcuc1sW"
   },
   "outputs": [],
   "source": [
    "def add_label_encoded_column(df, colname, col_le=None):\n",
    "  if col_le is None:\n",
    "    col_le = LabelEncoder().fit(df[colname])\n",
    "  df[colname + '_label_ID'] = col_le.transform(df[colname])\n",
    "  return df, col_le\n",
    "\n",
    "\n",
    "def get_rating_matrix(df, n_items):\n",
    "  n_users = df['Username_label_ID'].max() + 1\n",
    "  return scipy.sparse.csr_matrix((df['Userscore'], (df['Username_label_ID'], df['Title_label_ID'])), shape=(n_users, n_items))"
   ]
  },
  {
   "cell_type": "code",
   "execution_count": 8,
   "metadata": {
    "colab": {},
    "colab_type": "code",
    "id": "XZXil4HSvBmY"
   },
   "outputs": [],
   "source": [
    "def map_dict(rating_dict, username='me'):\n",
    "  title_ids = title_le.transform(list(rating_dict.keys()))\n",
    "  raw_df = pd.DataFrame.from_records([{'Username': username, 'Title': title, 'Title_label_ID': title_id, 'Userscore': score} for (title_id, (title, score)) in zip(title_ids, rating_dict.items())])\n",
    "  return raw_df\n",
    "\n",
    "\n",
    "def get_ratings_matrix_from_ratings_dict(ratings_df, comments_df, title_le):\n",
    "  ratings_df['Username_label_ID'] = 0\n",
    "  return get_rating_matrix(ratings_df, comments_df['Title_label_ID'].max() + 1)"
   ]
  },
  {
   "cell_type": "markdown",
   "metadata": {
    "colab_type": "text",
    "id": "r16FXV-Zu8oX"
   },
   "source": [
    "### Genre features for users\n",
    "\n"
   ]
  },
  {
   "cell_type": "code",
   "execution_count": 9,
   "metadata": {},
   "outputs": [],
   "source": [
    "def make_user_game_vectorizer(primary_columns=['Title_label_ID', 'Username_label_ID', 'Platform'], selected_columns=['Metascore', 'Avg_Userscore']):\n",
    "    column_encoders = [(col, OneHotEncoder(categories='auto'), [col]) for col in primary_columns]\n",
    "    column_selectors = [(col, StandardScaler(), [col]) for col in selected_columns]\n",
    "    return sklearn.compose.ColumnTransformer(column_encoders + column_selectors)"
   ]
  },
  {
   "cell_type": "code",
   "execution_count": 10,
   "metadata": {},
   "outputs": [],
   "source": [
    "default_fm_hyperparams = dict(init_stdev=0.01, rank=50, l2_reg_w=5.0, l2_reg_V=8.0)\n",
    "\n",
    "\n",
    "def setup_fm(fm_hyperparams):\n",
    "    return fastFM.als.FMRegression(n_iter=1, **fm_hyperparams)\n",
    "\n",
    "\n",
    "def train_fm(\n",
    "        X_train,\n",
    "        y_train,\n",
    "        X_test,\n",
    "        y_test,\n",
    "        n_iter=25,\n",
    "        step_size=1,\n",
    "        fm_hyperparams=default_fm_hyperparams,\n",
    "        early_stopping=True):\n",
    "    fm = setup_fm(default_fm_hyperparams)\n",
    "    fm.fit(X_train, y_train)\n",
    "    \n",
    "    liveplot = PlotLosses()\n",
    "\n",
    "    for i in tqdm.tqdm(range(1, n_iter)):\n",
    "        fm.fit(X_train, y_train, n_more_iter=1)\n",
    "        y_pred = fm.predict(X_test)\n",
    "\n",
    "        liveplot.update({\n",
    "            'rmse': np.sqrt(mean_squared_error(fm.predict(X_train), y_train)),\n",
    "            'val_rmse': np.sqrt(mean_squared_error(fm.predict(X_test), y_test)),\n",
    "            'mae': mean_absolute_error(fm.predict(X_train), y_train),\n",
    "            'val_mae': mean_absolute_error(fm.predict(X_test), y_test)\n",
    "        })\n",
    "        liveplot.draw()\n",
    "        \n",
    "    return fm\n",
    "\n",
    "\n",
    "def train_mcmc_fm(\n",
    "        X_train,\n",
    "        y_train,\n",
    "        X_test,\n",
    "        y_test,\n",
    "        n_iter=25,\n",
    "        step_size=1,\n",
    "        init_stdev=0.1,\n",
    "        rank=50,\n",
    "        early_stopping=True,\n",
    "        early_stopping_rounds=10):\n",
    "    fm = fastFM.mcmc.FMRegression(n_iter=1, rank=rank, init_stdev=init_stdev)\n",
    "    fm.fit_predict(X_train, y_train, X_test)\n",
    "    \n",
    "    liveplot = PlotLosses()\n",
    "    plt.style.use('dark_background')\n",
    "\n",
    "    tqdm_iter = tqdm.tqdm(range(1, n_iter))\n",
    "    for i in tqdm_iter:\n",
    "        y_pred = fm.fit_predict(X_train, y_train, X_test, n_more_iter=1)\n",
    "\n",
    "        current_val_metric = np.sqrt(mean_squared_error(fm.predict(X_test), y_test))\n",
    "        liveplot.update({\n",
    "            'rmse': np.sqrt(mean_squared_error(fm.predict(X_train), y_train)),\n",
    "            'val_rmse': current_val_metric,\n",
    "            'mae': mean_absolute_error(fm.predict(X_train), y_train),\n",
    "            'val_mae': mean_absolute_error(fm.predict(X_test), y_test)\n",
    "        })\n",
    "        liveplot.draw()\n",
    "        checked_last_steps = [item['rmse'] for item in liveplot.logs[:-early_stopping_rounds]]\n",
    "        if len(checked_last_steps) > 0 and min(checked_last_steps) < current_val_metric:\n",
    "            tqdm_iter.close()\n",
    "            break\n",
    "        \n",
    "    return fm"
   ]
  },
  {
   "cell_type": "code",
   "execution_count": 11,
   "metadata": {
    "colab": {
     "base_uri": "https://localhost:8080/",
     "height": 34
    },
    "colab_type": "code",
    "id": "ApFM-imfHGAV",
    "outputId": "32b1c6ff-33e3-4ae5-8e91-a84726a666e8"
   },
   "outputs": [],
   "source": [
    "api = KaggleApi(ApiClient())\n",
    "api.authenticate()\n",
    "if not os.path.exists('metacritic-video-game-comments.zip'):\n",
    "    api.dataset_download_files(dataset='dahlia25/metacritic-video-game-comments', unzip=True)"
   ]
  },
  {
   "cell_type": "code",
   "execution_count": 12,
   "metadata": {
    "colab": {
     "base_uri": "https://localhost:8080/",
     "height": 187
    },
    "colab_type": "code",
    "id": "Da2YkAcSHkPj",
    "outputId": "06ce50e8-e051-491c-98b4-1a54d4e9f521"
   },
   "outputs": [
    {
     "name": "stdout",
     "output_type": "stream",
     "text": [
      ",Title,Year,Publisher,Genre,Platform,Metascore,Avg_Userscore,No_Players\n",
      "0,The Legend of Zelda: Ocarina of Time,1998,Nintendo,Action Adventure;Fantasy,Nintendo64,99,9.1,1 Player\n",
      "1,Tony Hawk's Pro Skater 2,2000,NeversoftEntertainment,Sports;Alternative;Skateboarding,PlayStation,98,7.4,1-2 \n",
      "2,Grand Theft Auto IV,2008,RockstarNorth,Action Adventure;Modern;Modern;Open-World,PlayStation3,98,7.5,1 Player\n",
      "3,SoulCalibur,1999,Namco,Action;Fighting;3D,Dreamcast,98,8.6,1-2 \n",
      "4,Grand Theft Auto IV,2008,RockstarNorth,Action Adventure;Modern;Modern;Open-World,Xbox360,98,7.9,1 Player\n",
      "5,Super Mario Galaxy,2007,Nintendo,Action;Platformer;Platformer;3D;3D,Wii,97,9.0,No Online Multiplayer\n",
      "6,Super Mario Galaxy 2,2010,NintendoEADTokyo,Action;Platformer;Platformer;3D;3D,Wii,97,9.1,No Online Multiplayer\n",
      "7,Grand Theft Auto V,2014,RockstarNorth,Action Adventure;Modern;Open-World,XboxOne,97,7.8,Up to 30 \n",
      "8,Grand Theft Auto V,2013,RockstarNorth,Modern;Action Adventure;Modern;Open-World,PlayStation3,97,8.3,Up to 16 \n"
     ]
    }
   ],
   "source": [
    "!head metacritic_game_info.csv"
   ]
  },
  {
   "cell_type": "code",
   "execution_count": 13,
   "metadata": {
    "colab": {},
    "colab_type": "code",
    "id": "TyRPC0WnITmt"
   },
   "outputs": [],
   "source": [
    "game_comments_df = pd.read_csv('metacritic_game_user_comments.csv', index_col=0)\n",
    "game_comments_df = preprocess_game_comments_df(game_comments_df)"
   ]
  },
  {
   "cell_type": "code",
   "execution_count": 14,
   "metadata": {},
   "outputs": [
    {
     "name": "stdout",
     "output_type": "stream",
     "text": [
      "<class 'pandas.core.frame.DataFrame'>\n",
      "Int64Index: 5000 entries, 0 to 4999\n",
      "Data columns (total 8 columns):\n",
      "Title            5000 non-null object\n",
      "Year             5000 non-null object\n",
      "Publisher        5000 non-null object\n",
      "Genre            5000 non-null object\n",
      "Platform         5000 non-null object\n",
      "Metascore        5000 non-null float64\n",
      "Avg_Userscore    5000 non-null float64\n",
      "No_Players       4993 non-null object\n",
      "dtypes: float64(2), object(6)\n",
      "memory usage: 351.6+ KB\n"
     ]
    },
    {
     "name": "stderr",
     "output_type": "stream",
     "text": [
      "/home/kuba/anaconda3/lib/python3.6/site-packages/ipykernel_launcher.py:7: SettingWithCopyWarning: \n",
      "A value is trying to be set on a copy of a slice from a DataFrame\n",
      "\n",
      "See the caveats in the documentation: http://pandas.pydata.org/pandas-docs/stable/indexing.html#indexing-view-versus-copy\n",
      "  import sys\n",
      "/home/kuba/anaconda3/lib/python3.6/site-packages/ipykernel_launcher.py:8: SettingWithCopyWarning: \n",
      "A value is trying to be set on a copy of a slice from a DataFrame\n",
      "\n",
      "See the caveats in the documentation: http://pandas.pydata.org/pandas-docs/stable/indexing.html#indexing-view-versus-copy\n",
      "  \n"
     ]
    }
   ],
   "source": [
    "game_info_df = pd.read_csv('metacritic_game_info.csv', index_col=0)\n",
    "game_info_df = preprocess_game_info_df(game_info_df)\n",
    "game_info_df.info()"
   ]
  },
  {
   "cell_type": "code",
   "execution_count": 15,
   "metadata": {
    "colab": {},
    "colab_type": "code",
    "id": "yiA7PHbnXjq5"
   },
   "outputs": [],
   "source": [
    "users_index = game_comments_df['Username'].unique()\n",
    "titles_index = game_info_df['Title'].values\n",
    "\n",
    "from sklearn.preprocessing import LabelEncoder\n",
    "users_le = LabelEncoder().fit(users_index)\n",
    "titles_le = LabelEncoder().fit(titles_index)"
   ]
  },
  {
   "cell_type": "code",
   "execution_count": 16,
   "metadata": {
    "colab": {
     "base_uri": "https://localhost:8080/",
     "height": 187
    },
    "colab_type": "code",
    "id": "F9yb2TafIb23",
    "outputId": "b8e9b20d-a5c7-4fd9-b124-e4bf72608b17"
   },
   "outputs": [
    {
     "name": "stdout",
     "output_type": "stream",
     "text": [
      "<class 'pandas.core.frame.DataFrame'>\n",
      "Int64Index: 283980 entries, 0 to 283982\n",
      "Data columns (total 5 columns):\n",
      "Title        283980 non-null object\n",
      "Platform     283980 non-null object\n",
      "Userscore    283980 non-null int64\n",
      "Comment      283957 non-null object\n",
      "Username     283980 non-null object\n",
      "dtypes: int64(1), object(4)\n",
      "memory usage: 13.0+ MB\n"
     ]
    }
   ],
   "source": [
    "game_comments_df.info()"
   ]
  },
  {
   "cell_type": "code",
   "execution_count": 17,
   "metadata": {
    "colab": {
     "base_uri": "https://localhost:8080/",
     "height": 297
    },
    "colab_type": "code",
    "id": "O583rtKMIk3Z",
    "outputId": "b8f42135-95a4-451b-9a28-9d2e9d3993be"
   },
   "outputs": [
    {
     "data": {
      "text/html": [
       "<div>\n",
       "<style scoped>\n",
       "    .dataframe tbody tr th:only-of-type {\n",
       "        vertical-align: middle;\n",
       "    }\n",
       "\n",
       "    .dataframe tbody tr th {\n",
       "        vertical-align: top;\n",
       "    }\n",
       "\n",
       "    .dataframe thead th {\n",
       "        text-align: right;\n",
       "    }\n",
       "</style>\n",
       "<table border=\"1\" class=\"dataframe\">\n",
       "  <thead>\n",
       "    <tr style=\"text-align: right;\">\n",
       "      <th></th>\n",
       "      <th>Userscore</th>\n",
       "    </tr>\n",
       "  </thead>\n",
       "  <tbody>\n",
       "    <tr>\n",
       "      <th>count</th>\n",
       "      <td>283980.000000</td>\n",
       "    </tr>\n",
       "    <tr>\n",
       "      <th>mean</th>\n",
       "      <td>7.618329</td>\n",
       "    </tr>\n",
       "    <tr>\n",
       "      <th>std</th>\n",
       "      <td>3.131772</td>\n",
       "    </tr>\n",
       "    <tr>\n",
       "      <th>min</th>\n",
       "      <td>0.000000</td>\n",
       "    </tr>\n",
       "    <tr>\n",
       "      <th>25%</th>\n",
       "      <td>7.000000</td>\n",
       "    </tr>\n",
       "    <tr>\n",
       "      <th>50%</th>\n",
       "      <td>9.000000</td>\n",
       "    </tr>\n",
       "    <tr>\n",
       "      <th>75%</th>\n",
       "      <td>10.000000</td>\n",
       "    </tr>\n",
       "    <tr>\n",
       "      <th>max</th>\n",
       "      <td>10.000000</td>\n",
       "    </tr>\n",
       "  </tbody>\n",
       "</table>\n",
       "</div>"
      ],
      "text/plain": [
       "           Userscore\n",
       "count  283980.000000\n",
       "mean        7.618329\n",
       "std         3.131772\n",
       "min         0.000000\n",
       "25%         7.000000\n",
       "50%         9.000000\n",
       "75%        10.000000\n",
       "max        10.000000"
      ]
     },
     "execution_count": 17,
     "metadata": {},
     "output_type": "execute_result"
    }
   ],
   "source": [
    "game_comments_df.describe()"
   ]
  },
  {
   "cell_type": "code",
   "execution_count": 18,
   "metadata": {
    "colab": {
     "base_uri": "https://localhost:8080/",
     "height": 269
    },
    "colab_type": "code",
    "id": "giXnlH3iIqsc",
    "outputId": "d18c3757-9c2e-48b1-fac1-85cf5f87ec5d"
   },
   "outputs": [
    {
     "data": {
      "image/png": "[encoded data removed]",
      "text/plain": [
       "<matplotlib.figure.Figure at 0x7fbe220bd940>"
      ]
     },
     "metadata": {},
     "output_type": "display_data"
    }
   ],
   "source": [
    "game_comments_df['Userscore'].plot.hist();"
   ]
  },
  {
   "cell_type": "code",
   "execution_count": 19,
   "metadata": {
    "colab": {},
    "colab_type": "code",
    "id": "EeeWWArGG2HP"
   },
   "outputs": [],
   "source": [
    "game_genre = game_info_df['Genre'].str.replace(';', ' ')"
   ]
  },
  {
   "cell_type": "code",
   "execution_count": 20,
   "metadata": {
    "colab": {
     "base_uri": "https://localhost:8080/",
     "height": 34
    },
    "colab_type": "code",
    "id": "HMkJP8pAOOLR",
    "outputId": "b86757e8-7884-4e4b-b491-dba30504a224"
   },
   "outputs": [
    {
     "data": {
      "text/plain": [
       "3438"
      ]
     },
     "execution_count": 20,
     "metadata": {},
     "output_type": "execute_result"
    }
   ],
   "source": [
    "len(game_info_df['Title'].unique())"
   ]
  },
  {
   "cell_type": "code",
   "execution_count": 21,
   "metadata": {
    "colab": {
     "base_uri": "https://localhost:8080/",
     "height": 119
    },
    "colab_type": "code",
    "id": "PQQCKEyvOS6t",
    "outputId": "3979d9ec-9248-40e4-ecf1-1224733f1589"
   },
   "outputs": [
    {
     "data": {
      "text/plain": [
       "0    The Legend of Zelda: Ocarina of Time\n",
       "1                Tony Hawk's Pro Skater 2\n",
       "2                     Grand Theft Auto IV\n",
       "3                             SoulCalibur\n",
       "4                     Grand Theft Auto IV\n",
       "Name: Title, dtype: object"
      ]
     },
     "execution_count": 21,
     "metadata": {},
     "output_type": "execute_result"
    }
   ],
   "source": [
    "game_info_df['Title'].head()"
   ]
  },
  {
   "cell_type": "code",
   "execution_count": 22,
   "metadata": {
    "colab": {},
    "colab_type": "code",
    "id": "QRQ6cuYJNYJz"
   },
   "outputs": [],
   "source": [
    "titles_index = pd.Index(game_info_df['Title'].values)"
   ]
  },
  {
   "cell_type": "code",
   "execution_count": 23,
   "metadata": {},
   "outputs": [
    {
     "data": {
      "text/plain": [
       "(283980, 5)"
      ]
     },
     "execution_count": 23,
     "metadata": {},
     "output_type": "execute_result"
    }
   ],
   "source": [
    "game_comments_df.shape"
   ]
  },
  {
   "cell_type": "markdown",
   "metadata": {
    "colab_type": "text",
    "id": "ZYIsFfjHRkvt"
   },
   "source": [
    "## Restrict titles to these that have reviews"
   ]
  },
  {
   "cell_type": "code",
   "execution_count": 24,
   "metadata": {},
   "outputs": [],
   "source": [
    "def get_column_values_with_min_occurrences(df, col, min_occurrences=4):\n",
    "    col_value_counts = df[col].value_counts()\n",
    "    return col_value_counts[col_value_counts >= min_occurrences].index"
   ]
  },
  {
   "cell_type": "code",
   "execution_count": 25,
   "metadata": {
    "colab": {},
    "colab_type": "code",
    "id": "zZ9BuBOVg9DZ"
   },
   "outputs": [],
   "source": [
    "user_comment_counts = game_comments_df['Username'].value_counts()\n",
    "title_counts = game_comments_df['Title'].value_counts()\n",
    "\n",
    "more_than_one_comment_game_comments_df = game_comments_df[\n",
    "    game_comments_df['Title'].isin(get_column_values_with_min_occurrences(game_comments_df, 'Title')) &\n",
    "    game_comments_df['Username'].isin(get_column_values_with_min_occurrences(game_comments_df, 'Username'))\n",
    "]"
   ]
  },
  {
   "cell_type": "code",
   "execution_count": 26,
   "metadata": {},
   "outputs": [],
   "source": [
    "game_info_df = game_info_df[game_info_df['Title'].isin(more_than_one_comment_game_comments_df['Title'])]\n",
    "game_info_df, title_le = add_label_encoded_column(game_info_df, 'Title')\n",
    "\n",
    "game_info_df = game_info_df.sort_values(by='Title_label_ID')"
   ]
  },
  {
   "cell_type": "code",
   "execution_count": 27,
   "metadata": {
    "colab": {
     "base_uri": "https://localhost:8080/",
     "height": 119
    },
    "colab_type": "code",
    "id": "9y7h84fKUr-f",
    "outputId": "45eeeb05-de3b-44c4-a2d9-76ce413fec55"
   },
   "outputs": [
    {
     "name": "stderr",
     "output_type": "stream",
     "text": [
      "/home/kuba/anaconda3/lib/python3.6/site-packages/ipykernel_launcher.py:4: SettingWithCopyWarning: \n",
      "A value is trying to be set on a copy of a slice from a DataFrame.\n",
      "Try using .loc[row_indexer,col_indexer] = value instead\n",
      "\n",
      "See the caveats in the documentation: http://pandas.pydata.org/pandas-docs/stable/indexing.html#indexing-view-versus-copy\n",
      "  after removing the cwd from sys.path.\n"
     ]
    }
   ],
   "source": [
    "used_comments_df, username_le = add_label_encoded_column(more_than_one_comment_game_comments_df, 'Username')\n",
    "used_comments_df, title_le = add_label_encoded_column(used_comments_df, 'Title', title_le)"
   ]
  },
  {
   "cell_type": "code",
   "execution_count": 28,
   "metadata": {},
   "outputs": [],
   "source": [
    "used_comments_df = used_comments_df.merge(game_info_df[['Title', 'Avg_Userscore', 'Metascore', 'Publisher']], on='Title')"
   ]
  },
  {
   "cell_type": "code",
   "execution_count": 29,
   "metadata": {},
   "outputs": [
    {
     "data": {
      "text/plain": [
       "(279238, 10)"
      ]
     },
     "execution_count": 29,
     "metadata": {},
     "output_type": "execute_result"
    }
   ],
   "source": [
    "used_comments_df.shape"
   ]
  },
  {
   "cell_type": "code",
   "execution_count": 30,
   "metadata": {},
   "outputs": [],
   "source": [
    "#used_comments_df['Userscore'] = used_comments_df['Userscore'] - used_comments_df['Userscore'].median()"
   ]
  },
  {
   "cell_type": "code",
   "execution_count": 31,
   "metadata": {},
   "outputs": [
    {
     "data": {
      "text/plain": [
       "2269"
      ]
     },
     "execution_count": 31,
     "metadata": {},
     "output_type": "execute_result"
    }
   ],
   "source": [
    "title_counts[title_counts >= 2].index.size"
   ]
  },
  {
   "cell_type": "code",
   "execution_count": 32,
   "metadata": {},
   "outputs": [
    {
     "data": {
      "text/plain": [
       "2269"
      ]
     },
     "execution_count": 32,
     "metadata": {},
     "output_type": "execute_result"
    }
   ],
   "source": [
    "(title_counts >= 2).sum()"
   ]
  },
  {
   "cell_type": "code",
   "execution_count": 33,
   "metadata": {},
   "outputs": [
    {
     "data": {
      "text/plain": [
       "2107"
      ]
     },
     "execution_count": 33,
     "metadata": {},
     "output_type": "execute_result"
    }
   ],
   "source": [
    "(more_than_one_comment_game_comments_df['Title'].value_counts() >= 2).sum()"
   ]
  },
  {
   "cell_type": "code",
   "execution_count": 34,
   "metadata": {},
   "outputs": [],
   "source": [
    "vectorizer = make_user_game_vectorizer()"
   ]
  },
  {
   "cell_type": "code",
   "execution_count": 35,
   "metadata": {},
   "outputs": [],
   "source": [
    "X = vectorizer.fit_transform(used_comments_df)"
   ]
  },
  {
   "cell_type": "code",
   "execution_count": 36,
   "metadata": {},
   "outputs": [],
   "source": [
    "X_train, X_test, y_train, y_test = train_test_split(X, used_comments_df['Userscore'], test_size=0.2, random_state=0)"
   ]
  },
  {
   "cell_type": "code",
   "execution_count": 37,
   "metadata": {},
   "outputs": [],
   "source": [
    "from sklearn.linear_model import SGDRegressor\n",
    "\n",
    "lin_reg = SGDRegressor(alpha=1, l1_ratio=0.5)"
   ]
  },
  {
   "cell_type": "code",
   "execution_count": 38,
   "metadata": {},
   "outputs": [
    {
     "name": "stdout",
     "output_type": "stream",
     "text": [
      "CPU times: user 1.43 s, sys: 142 ms, total: 1.57 s\n",
      "Wall time: 1.32 s\n"
     ]
    },
    {
     "data": {
      "text/plain": [
       "SGDRegressor(alpha=1, average=False, early_stopping=False, epsilon=0.1,\n",
       "             eta0=0.01, fit_intercept=True, l1_ratio=0.5,\n",
       "             learning_rate='invscaling', loss='squared_loss', max_iter=1000,\n",
       "             n_iter_no_change=5, penalty='l2', power_t=0.25, random_state=None,\n",
       "             shuffle=True, tol=0.001, validation_fraction=0.1, verbose=0,\n",
       "             warm_start=False)"
      ]
     },
     "execution_count": 38,
     "metadata": {},
     "output_type": "execute_result"
    }
   ],
   "source": [
    "%%time\n",
    "lin_reg.fit(X_train, y_train)"
   ]
  },
  {
   "cell_type": "code",
   "execution_count": 39,
   "metadata": {},
   "outputs": [],
   "source": [
    "y_pred_lin_reg = lin_reg.predict(X_test)"
   ]
  },
  {
   "cell_type": "code",
   "execution_count": 40,
   "metadata": {},
   "outputs": [
    {
     "data": {
      "text/plain": [
       "2.5739259634099585"
      ]
     },
     "execution_count": 40,
     "metadata": {},
     "output_type": "execute_result"
    }
   ],
   "source": [
    "np.sqrt(mean_squared_error(y_pred_lin_reg , y_test))"
   ]
  },
  {
   "cell_type": "code",
   "execution_count": 41,
   "metadata": {},
   "outputs": [],
   "source": [
    "# smaller rank"
   ]
  },
  {
   "cell_type": "code",
   "execution_count": 42,
   "metadata": {},
   "outputs": [
    {
     "data": {
      "image/png": "[encoded data removed]",
      "text/plain": [
       "<matplotlib.figure.Figure at 0x7fbe28b3ac50>"
      ]
     },
     "metadata": {},
     "output_type": "display_data"
    },
    {
     "name": "stdout",
     "output_type": "stream",
     "text": [
      "rmse:\n",
      "training   (min:    1.889, max:    2.519, cur:    1.889)\n",
      "validation (min:    2.093, max:    2.529, cur:    2.093)\n",
      "\n",
      "mae:\n",
      "training   (min:    1.363, max:    1.901, cur:    1.363)\n",
      "validation (min:    1.501, max:    1.907, cur:    1.501)\n",
      "CPU times: user 1min 50s, sys: 21.1 s, total: 2min 11s\n",
      "Wall time: 1min 37s\n"
     ]
    },
    {
     "name": "stderr",
     "output_type": "stream",
     "text": [
      "\n"
     ]
    }
   ],
   "source": [
    "%%time\n",
    "fm = train_mcmc_fm(X_train, y_train, X_test, y_test, n_iter=500, rank=10, init_stdev=1e-3)"
   ]
  },
  {
   "cell_type": "code",
   "execution_count": 43,
   "metadata": {},
   "outputs": [
    {
     "data": {
      "image/png": "[encoded data removed]",
      "text/plain": [
       "<matplotlib.figure.Figure at 0x7fbe28ad01d0>"
      ]
     },
     "metadata": {},
     "output_type": "display_data"
    }
   ],
   "source": [
    "y_pred = fm.predict(X_test)\n",
    "\n",
    "sns.distplot(y_test);\n",
    "sns.distplot(y_pred);"
   ]
  },
  {
   "cell_type": "code",
   "execution_count": 44,
   "metadata": {},
   "outputs": [
    {
     "data": {
      "image/png": "[encoded data removed]",
      "text/plain": [
       "<matplotlib.figure.Figure at 0x7fbe22136eb8>"
      ]
     },
     "metadata": {},
     "output_type": "display_data"
    }
   ],
   "source": [
    "sns.distplot(y_test - y_pred);"
   ]
  },
  {
   "cell_type": "code",
   "execution_count": 45,
   "metadata": {},
   "outputs": [
    {
     "data": {
      "text/plain": [
       "2.093210660305973"
      ]
     },
     "execution_count": 45,
     "metadata": {},
     "output_type": "execute_result"
    }
   ],
   "source": [
    "np.sqrt(mean_squared_error(fm.predict(X_test) , y_test))"
   ]
  },
  {
   "cell_type": "markdown",
   "metadata": {
    "colab_type": "text",
    "id": "-z1W_bmqfg3o"
   },
   "source": [
    "## Preparing data"
   ]
  },
  {
   "cell_type": "code",
   "execution_count": 46,
   "metadata": {},
   "outputs": [
    {
     "data": {
      "text/plain": [
       "16390"
      ]
     },
     "execution_count": 46,
     "metadata": {},
     "output_type": "execute_result"
    }
   ],
   "source": [
    "X_train.shape[1]"
   ]
  },
  {
   "cell_type": "code",
   "execution_count": 47,
   "metadata": {},
   "outputs": [
    {
     "data": {
      "text/plain": [
       "2142"
      ]
     },
     "execution_count": 47,
     "metadata": {},
     "output_type": "execute_result"
    }
   ],
   "source": [
    "used_comments_df['Title_label_ID'].unique().size"
   ]
  },
  {
   "cell_type": "code",
   "execution_count": 48,
   "metadata": {},
   "outputs": [
    {
     "data": {
      "text/plain": [
       "(14226, 2142)"
      ]
     },
     "execution_count": 48,
     "metadata": {},
     "output_type": "execute_result"
    }
   ],
   "source": [
    "matrix_data = (used_comments_df['Userscore'], (used_comments_df['Username_label_ID'], used_comments_df['Title_label_ID']))\n",
    "n_rows = matrix_data[1][0].max() + 1\n",
    "n_cols = matrix_data[1][1].max() + 1\n",
    "n_rows, n_cols"
   ]
  },
  {
   "cell_type": "code",
   "execution_count": 49,
   "metadata": {},
   "outputs": [
    {
     "data": {
      "text/plain": [
       "16368"
      ]
     },
     "execution_count": 49,
     "metadata": {},
     "output_type": "execute_result"
    }
   ],
   "source": [
    "n_rows + n_cols"
   ]
  },
  {
   "cell_type": "code",
   "execution_count": 50,
   "metadata": {},
   "outputs": [],
   "source": [
    "ratings_matrix = scipy.sparse.csr_matrix(matrix_data, shape=(n_rows, n_cols))"
   ]
  },
  {
   "cell_type": "code",
   "execution_count": 51,
   "metadata": {},
   "outputs": [],
   "source": [
    "ratings_dict = {\n",
    "  'The Witcher 3: Wild Hunt': 10,\n",
    "  'Grand Theft Auto: Vice City': 10,\n",
    "  'Diablo II: Lord of Destruction': 6,\n",
    "  'Medieval II: Total War': 8,\n",
    "  'Gothic': 7,\n",
    "  'Age of Empires II: The Conquerors Expansion': 9,\n",
    "  'Age of Mythology': 9,\n",
    "  'Planescape: Torment': 10,\n",
    "  'Deus Ex': 9,\n",
    "  'Fallout' : 10,\n",
    "  'Fallout 2': 10,\n",
    "  'Fallout 3': 5,\n",
    "  \"Sid Meier's Civilization II\": 9,\n",
    "  'Antichamber': 9,\n",
    "  'FIFA Soccer 11': 2,\n",
    "  'The Sims': 1,\n",
    "  \"Baldur's Gate II: Shadows of Amn\": 8,\n",
    "  'Call of Duty 2': 7,\n",
    "  'Darwinia': 9,\n",
    "  'Starcraft': 9,\n",
    "  'Tiger Woods PGA Tour 2004': 1,\n",
    "  'Madden NFL 2004': 1,\n",
    "  'Colin McRae Rally 2.0': 2\n",
    "}"
   ]
  },
  {
   "cell_type": "code",
   "execution_count": 52,
   "metadata": {},
   "outputs": [],
   "source": [
    "rated_titles = pd.Series(list(ratings_dict.keys()))"
   ]
  },
  {
   "cell_type": "code",
   "execution_count": 53,
   "metadata": {},
   "outputs": [
    {
     "data": {
      "text/plain": [
       "0                        The Witcher 3: Wild Hunt\n",
       "1                     Grand Theft Auto: Vice City\n",
       "2                  Diablo II: Lord of Destruction\n",
       "3                          Medieval II: Total War\n",
       "4                                          Gothic\n",
       "5     Age of Empires II: The Conquerors Expansion\n",
       "6                                Age of Mythology\n",
       "7                             Planescape: Torment\n",
       "8                                         Deus Ex\n",
       "9                                         Fallout\n",
       "10                                      Fallout 2\n",
       "11                                      Fallout 3\n",
       "12                    Sid Meier's Civilization II\n",
       "13                                    Antichamber\n",
       "14                                 FIFA Soccer 11\n",
       "15                                       The Sims\n",
       "16               Baldur's Gate II: Shadows of Amn\n",
       "17                                 Call of Duty 2\n",
       "18                                       Darwinia\n",
       "19                                      Starcraft\n",
       "20                      Tiger Woods PGA Tour 2004\n",
       "21                                Madden NFL 2004\n",
       "22                          Colin McRae Rally 2.0\n",
       "dtype: object"
      ]
     },
     "execution_count": 53,
     "metadata": {},
     "output_type": "execute_result"
    }
   ],
   "source": [
    "rated_titles"
   ]
  },
  {
   "cell_type": "code",
   "execution_count": 54,
   "metadata": {},
   "outputs": [],
   "source": [
    "title_ids = title_le.transform(rated_titles)"
   ]
  },
  {
   "cell_type": "code",
   "execution_count": 55,
   "metadata": {},
   "outputs": [],
   "source": [
    "ratings = list(ratings_dict.values())"
   ]
  },
  {
   "cell_type": "code",
   "execution_count": 56,
   "metadata": {},
   "outputs": [],
   "source": [
    "my_ratings = scipy.sparse.csr_matrix((ratings, (np.zeros_like(ratings), title_ids)), shape=(1, ratings_matrix.shape[1]))"
   ]
  },
  {
   "cell_type": "code",
   "execution_count": 57,
   "metadata": {},
   "outputs": [],
   "source": [
    "from sklearn.metrics.pairwise import cosine_similarity"
   ]
  },
  {
   "cell_type": "code",
   "execution_count": 58,
   "metadata": {},
   "outputs": [],
   "source": [
    "user_similarities = cosine_similarity(ratings_matrix, my_ratings)"
   ]
  },
  {
   "cell_type": "code",
   "execution_count": 59,
   "metadata": {
    "colab": {},
    "colab_type": "code",
    "id": "3HHUVrCP3brb"
   },
   "outputs": [],
   "source": [
    "n_similar = 10\n",
    "similar_user_indices = user_similarities.argsort(axis=0)[::-1][:n_similar,0]"
   ]
  },
  {
   "cell_type": "code",
   "execution_count": 60,
   "metadata": {},
   "outputs": [],
   "source": [
    "similar_user_matrix_data = (user_similarities[similar_user_indices][:,0], (np.zeros((n_similar,)), similar_user_indices))\n",
    "similar_user_encoding = scipy.sparse.csr_matrix(similar_user_matrix_data, shape=(1, n_rows))"
   ]
  },
  {
   "cell_type": "code",
   "execution_count": 61,
   "metadata": {},
   "outputs": [
    {
     "data": {
      "text/plain": [
       "<1x14226 sparse matrix of type '<class 'numpy.float64'>'\n",
       "\twith 10 stored elements in Compressed Sparse Row format>"
      ]
     },
     "execution_count": 61,
     "metadata": {},
     "output_type": "execute_result"
    }
   ],
   "source": [
    "similar_user_encoding"
   ]
  },
  {
   "cell_type": "code",
   "execution_count": 62,
   "metadata": {
    "colab": {
     "base_uri": "https://localhost:8080/",
     "height": 68
    },
    "colab_type": "code",
    "id": "d64T1Uat32Zf",
    "outputId": "2528750d-de68-4a0c-d5f4-915832b51c5a"
   },
   "outputs": [],
   "source": [
    "game_encoding_matrix = scipy.sparse.spdiags(np.ones((n_cols,)), diags=0, m=n_cols, n=n_cols)"
   ]
  },
  {
   "cell_type": "code",
   "execution_count": 63,
   "metadata": {},
   "outputs": [
    {
     "data": {
      "text/plain": [
       "<1x14226 sparse matrix of type '<class 'numpy.float64'>'\n",
       "\twith 10 stored elements in Compressed Sparse Row format>"
      ]
     },
     "execution_count": 63,
     "metadata": {},
     "output_type": "execute_result"
    }
   ],
   "source": [
    "similar_user_encoding"
   ]
  },
  {
   "cell_type": "code",
   "execution_count": 64,
   "metadata": {},
   "outputs": [],
   "source": [
    "X_user_encoding = scipy.sparse.vstack([similar_user_encoding for __ in range(n_cols)])"
   ]
  },
  {
   "cell_type": "code",
   "execution_count": 65,
   "metadata": {},
   "outputs": [],
   "source": [
    "X_mine = scipy.sparse.hstack([X_user_encoding, game_encoding_matrix])"
   ]
  },
  {
   "cell_type": "code",
   "execution_count": 66,
   "metadata": {},
   "outputs": [
    {
     "data": {
      "text/plain": [
       "(2142, 16368)"
      ]
     },
     "execution_count": 66,
     "metadata": {},
     "output_type": "execute_result"
    }
   ],
   "source": [
    "X_mine.shape"
   ]
  },
  {
   "cell_type": "code",
   "execution_count": 67,
   "metadata": {},
   "outputs": [],
   "source": [
    "copied_game_info_df = game_info_df.copy()\n",
    "copied_game_info_df['Username_label_ID'] = 0\n",
    "copied_game_info_df = copied_game_info_df.drop_duplicates(subset=['Title'])"
   ]
  },
  {
   "cell_type": "code",
   "execution_count": 68,
   "metadata": {},
   "outputs": [
    {
     "data": {
      "text/plain": [
       "(2142, 10)"
      ]
     },
     "execution_count": 68,
     "metadata": {},
     "output_type": "execute_result"
    }
   ],
   "source": [
    "copied_game_info_df.shape"
   ]
  },
  {
   "cell_type": "code",
   "execution_count": 69,
   "metadata": {},
   "outputs": [],
   "source": [
    "X_mine_features = vectorizer.transform(copied_game_info_df)"
   ]
  },
  {
   "cell_type": "code",
   "execution_count": 70,
   "metadata": {},
   "outputs": [
    {
     "data": {
      "text/plain": [
       "(2142, 16390)"
      ]
     },
     "execution_count": 70,
     "metadata": {},
     "output_type": "execute_result"
    }
   ],
   "source": [
    "X_mine_features.shape"
   ]
  },
  {
   "cell_type": "code",
   "execution_count": 71,
   "metadata": {},
   "outputs": [
    {
     "data": {
      "text/plain": [
       "(2142, 14226)"
      ]
     },
     "execution_count": 71,
     "metadata": {},
     "output_type": "execute_result"
    }
   ],
   "source": [
    "X_user_encoding.shape"
   ]
  },
  {
   "cell_type": "code",
   "execution_count": 72,
   "metadata": {},
   "outputs": [
    {
     "data": {
      "text/plain": [
       "<2142x14226 sparse matrix of type '<class 'numpy.float64'>'\n",
       "\twith 21420 stored elements in Compressed Sparse Row format>"
      ]
     },
     "execution_count": 72,
     "metadata": {},
     "output_type": "execute_result"
    }
   ],
   "source": [
    "X_user_encoding"
   ]
  },
  {
   "cell_type": "code",
   "execution_count": 73,
   "metadata": {},
   "outputs": [
    {
     "name": "stderr",
     "output_type": "stream",
     "text": [
      "/home/kuba/anaconda3/lib/python3.6/site-packages/scipy/sparse/_index.py:103: SparseEfficiencyWarning: Changing the sparsity structure of a csr_matrix is expensive. lil_matrix is more efficient.\n",
      "  self._set_arrayXarray_sparse(i, j, x)\n"
     ]
    }
   ],
   "source": [
    "X_mine_features[:, :X_user_encoding.shape[1]] = X_user_encoding"
   ]
  },
  {
   "cell_type": "code",
   "execution_count": 74,
   "metadata": {},
   "outputs": [],
   "source": [
    "fm_predicted_ratings = fm.predict(X_mine_features)\n",
    "fm_predicted_ratings = fm_predicted_ratings / fm_predicted_ratings.max() * 10"
   ]
  },
  {
   "cell_type": "code",
   "execution_count": 75,
   "metadata": {},
   "outputs": [],
   "source": [
    "lin_reg_predicted_ratings = lin_reg.predict(X_mine_features)\n",
    "lin_reg_predicted_ratings = lin_reg_predicted_ratings / lin_reg_predicted_ratings.max() * 10"
   ]
  },
  {
   "cell_type": "code",
   "execution_count": 76,
   "metadata": {},
   "outputs": [],
   "source": [
    "predicted_ratings_df = pd.DataFrame({'LinScore': lin_reg_predicted_ratings, 'FMScore': fm_predicted_ratings, 'Title': copied_game_info_df['Title']}).sort_values(by='FMScore', ascending=False)"
   ]
  },
  {
   "cell_type": "markdown",
   "metadata": {},
   "source": [
    "from sklearn.ensemble import RandomForestRegressor, ExtraTreesRegressor\n",
    "\n",
    "extra_trees = ExtraTreesRegressor(n_estimators=25, n_jobs=-1)"
   ]
  },
  {
   "cell_type": "code",
   "execution_count": 77,
   "metadata": {},
   "outputs": [],
   "source": [
    "mine_ratings_df = predicted_ratings_df[predicted_ratings_df['Title'].isin(ratings_dict.keys())].sort_values(by='Title')"
   ]
  },
  {
   "cell_type": "code",
   "execution_count": 78,
   "metadata": {},
   "outputs": [],
   "source": [
    "from  operator import itemgetter\n",
    "mine_ratings_df['MyScore'] = list(map(itemgetter(1), sorted(ratings_dict.items(), key=itemgetter(0))))"
   ]
  },
  {
   "cell_type": "code",
   "execution_count": 79,
   "metadata": {},
   "outputs": [
    {
     "data": {
      "text/html": [
       "<div>\n",
       "<style scoped>\n",
       "    .dataframe tbody tr th:only-of-type {\n",
       "        vertical-align: middle;\n",
       "    }\n",
       "\n",
       "    .dataframe tbody tr th {\n",
       "        vertical-align: top;\n",
       "    }\n",
       "\n",
       "    .dataframe thead th {\n",
       "        text-align: right;\n",
       "    }\n",
       "</style>\n",
       "<table border=\"1\" class=\"dataframe\">\n",
       "  <thead>\n",
       "    <tr style=\"text-align: right;\">\n",
       "      <th></th>\n",
       "      <th>LinScore</th>\n",
       "      <th>FMScore</th>\n",
       "      <th>Title</th>\n",
       "      <th>MyScore</th>\n",
       "    </tr>\n",
       "  </thead>\n",
       "  <tbody>\n",
       "    <tr>\n",
       "      <th>43</th>\n",
       "      <td>9.748689</td>\n",
       "      <td>9.340681</td>\n",
       "      <td>Grand Theft Auto: Vice City</td>\n",
       "      <td>10</td>\n",
       "    </tr>\n",
       "    <tr>\n",
       "      <th>107</th>\n",
       "      <td>9.785000</td>\n",
       "      <td>9.307673</td>\n",
       "      <td>The Witcher 3: Wild Hunt</td>\n",
       "      <td>10</td>\n",
       "    </tr>\n",
       "    <tr>\n",
       "      <th>1100</th>\n",
       "      <td>9.461384</td>\n",
       "      <td>9.301281</td>\n",
       "      <td>Fallout 2</td>\n",
       "      <td>10</td>\n",
       "    </tr>\n",
       "    <tr>\n",
       "      <th>410</th>\n",
       "      <td>9.639870</td>\n",
       "      <td>9.295630</td>\n",
       "      <td>Deus Ex</td>\n",
       "      <td>9</td>\n",
       "    </tr>\n",
       "    <tr>\n",
       "      <th>326</th>\n",
       "      <td>9.673225</td>\n",
       "      <td>9.282001</td>\n",
       "      <td>Planescape: Torment</td>\n",
       "      <td>10</td>\n",
       "    </tr>\n",
       "    <tr>\n",
       "      <th>727</th>\n",
       "      <td>9.528094</td>\n",
       "      <td>9.272861</td>\n",
       "      <td>Starcraft</td>\n",
       "      <td>9</td>\n",
       "    </tr>\n",
       "    <tr>\n",
       "      <th>917</th>\n",
       "      <td>9.449675</td>\n",
       "      <td>9.237623</td>\n",
       "      <td>Diablo II: Lord of Destruction</td>\n",
       "      <td>6</td>\n",
       "    </tr>\n",
       "    <tr>\n",
       "      <th>78</th>\n",
       "      <td>9.535076</td>\n",
       "      <td>9.234668</td>\n",
       "      <td>Madden NFL 2004</td>\n",
       "      <td>1</td>\n",
       "    </tr>\n",
       "    <tr>\n",
       "      <th>41</th>\n",
       "      <td>9.806646</td>\n",
       "      <td>9.227482</td>\n",
       "      <td>Baldur's Gate II: Shadows of Amn</td>\n",
       "      <td>8</td>\n",
       "    </tr>\n",
       "    <tr>\n",
       "      <th>706</th>\n",
       "      <td>9.483030</td>\n",
       "      <td>9.222832</td>\n",
       "      <td>Age of Empires II: The Conquerors Expansion</td>\n",
       "      <td>9</td>\n",
       "    </tr>\n",
       "    <tr>\n",
       "      <th>136</th>\n",
       "      <td>9.529678</td>\n",
       "      <td>9.220215</td>\n",
       "      <td>Fallout 3</td>\n",
       "      <td>5</td>\n",
       "    </tr>\n",
       "    <tr>\n",
       "      <th>3017</th>\n",
       "      <td>9.114349</td>\n",
       "      <td>9.188472</td>\n",
       "      <td>Gothic</td>\n",
       "      <td>7</td>\n",
       "    </tr>\n",
       "    <tr>\n",
       "      <th>784</th>\n",
       "      <td>9.437965</td>\n",
       "      <td>9.172803</td>\n",
       "      <td>Medieval II: Total War</td>\n",
       "      <td>8</td>\n",
       "    </tr>\n",
       "    <tr>\n",
       "      <th>503</th>\n",
       "      <td>9.471321</td>\n",
       "      <td>9.157432</td>\n",
       "      <td>Age of Mythology</td>\n",
       "      <td>9</td>\n",
       "    </tr>\n",
       "    <tr>\n",
       "      <th>523</th>\n",
       "      <td>9.426256</td>\n",
       "      <td>9.106822</td>\n",
       "      <td>Fallout</td>\n",
       "      <td>10</td>\n",
       "    </tr>\n",
       "    <tr>\n",
       "      <th>81</th>\n",
       "      <td>9.638097</td>\n",
       "      <td>9.080575</td>\n",
       "      <td>Sid Meier's Civilization II</td>\n",
       "      <td>9</td>\n",
       "    </tr>\n",
       "    <tr>\n",
       "      <th>495</th>\n",
       "      <td>9.261063</td>\n",
       "      <td>9.074914</td>\n",
       "      <td>Call of Duty 2</td>\n",
       "      <td>7</td>\n",
       "    </tr>\n",
       "    <tr>\n",
       "      <th>2196</th>\n",
       "      <td>9.090930</td>\n",
       "      <td>9.061154</td>\n",
       "      <td>Colin McRae Rally 2.0</td>\n",
       "      <td>2</td>\n",
       "    </tr>\n",
       "    <tr>\n",
       "      <th>2520</th>\n",
       "      <td>8.967446</td>\n",
       "      <td>8.985756</td>\n",
       "      <td>Antichamber</td>\n",
       "      <td>9</td>\n",
       "    </tr>\n",
       "    <tr>\n",
       "      <th>2009</th>\n",
       "      <td>8.466812</td>\n",
       "      <td>8.979945</td>\n",
       "      <td>The Sims</td>\n",
       "      <td>1</td>\n",
       "    </tr>\n",
       "    <tr>\n",
       "      <th>1992</th>\n",
       "      <td>8.853899</td>\n",
       "      <td>8.757220</td>\n",
       "      <td>Darwinia</td>\n",
       "      <td>9</td>\n",
       "    </tr>\n",
       "    <tr>\n",
       "      <th>723</th>\n",
       "      <td>9.032384</td>\n",
       "      <td>8.722543</td>\n",
       "      <td>Tiger Woods PGA Tour 2004</td>\n",
       "      <td>1</td>\n",
       "    </tr>\n",
       "    <tr>\n",
       "      <th>2142</th>\n",
       "      <td>8.730414</td>\n",
       "      <td>8.684144</td>\n",
       "      <td>FIFA Soccer 11</td>\n",
       "      <td>2</td>\n",
       "    </tr>\n",
       "  </tbody>\n",
       "</table>\n",
       "</div>"
      ],
      "text/plain": [
       "      LinScore   FMScore                                        Title  MyScore\n",
       "43    9.748689  9.340681                  Grand Theft Auto: Vice City       10\n",
       "107   9.785000  9.307673                     The Witcher 3: Wild Hunt       10\n",
       "1100  9.461384  9.301281                                    Fallout 2       10\n",
       "410   9.639870  9.295630                                      Deus Ex        9\n",
       "326   9.673225  9.282001                          Planescape: Torment       10\n",
       "727   9.528094  9.272861                                    Starcraft        9\n",
       "917   9.449675  9.237623               Diablo II: Lord of Destruction        6\n",
       "78    9.535076  9.234668                              Madden NFL 2004        1\n",
       "41    9.806646  9.227482             Baldur's Gate II: Shadows of Amn        8\n",
       "706   9.483030  9.222832  Age of Empires II: The Conquerors Expansion        9\n",
       "136   9.529678  9.220215                                    Fallout 3        5\n",
       "3017  9.114349  9.188472                                       Gothic        7\n",
       "784   9.437965  9.172803                       Medieval II: Total War        8\n",
       "503   9.471321  9.157432                             Age of Mythology        9\n",
       "523   9.426256  9.106822                                      Fallout       10\n",
       "81    9.638097  9.080575                  Sid Meier's Civilization II        9\n",
       "495   9.261063  9.074914                               Call of Duty 2        7\n",
       "2196  9.090930  9.061154                        Colin McRae Rally 2.0        2\n",
       "2520  8.967446  8.985756                                  Antichamber        9\n",
       "2009  8.466812  8.979945                                     The Sims        1\n",
       "1992  8.853899  8.757220                                     Darwinia        9\n",
       "723   9.032384  8.722543                    Tiger Woods PGA Tour 2004        1\n",
       "2142  8.730414  8.684144                               FIFA Soccer 11        2"
      ]
     },
     "execution_count": 79,
     "metadata": {},
     "output_type": "execute_result"
    }
   ],
   "source": [
    "mine_ratings_df.sort_values('FMScore', ascending=False)"
   ]
  },
  {
   "cell_type": "code",
   "execution_count": 80,
   "metadata": {},
   "outputs": [
    {
     "data": {
      "text/plain": [
       "SpearmanrResult(correlation=0.5438770572774595, pvalue=0.007304533999486648)"
      ]
     },
     "execution_count": 80,
     "metadata": {},
     "output_type": "execute_result"
    }
   ],
   "source": [
    "scipy.stats.spearmanr(mine_ratings_df['FMScore'], mine_ratings_df['MyScore'])"
   ]
  },
  {
   "cell_type": "code",
   "execution_count": 81,
   "metadata": {},
   "outputs": [
    {
     "data": {
      "text/plain": [
       "SpearmanrResult(correlation=0.4752617699029377, pvalue=0.021912743000655214)"
      ]
     },
     "execution_count": 81,
     "metadata": {},
     "output_type": "execute_result"
    }
   ],
   "source": [
    "scipy.stats.spearmanr(mine_ratings_df['LinScore'], mine_ratings_df['MyScore'])"
   ]
  },
  {
   "cell_type": "markdown",
   "metadata": {},
   "source": [
    "%%time\n",
    "extra_trees.fit(X_train.toarray(), y_train)"
   ]
  },
  {
   "cell_type": "markdown",
   "metadata": {},
   "source": [
    "y_pred_et= extra_trees.predict(X_test.toarray())\n",
    "print(np.sqrt(mean_squared_error(y_pred_et , y_test)))"
   ]
  }
 ],
 "metadata": {
  "colab": {
   "collapsed_sections": [],
   "name": "Content Based Recommendations and Factorization Machines.ipynb",
   "provenance": [],
   "toc_visible": true,
   "version": "0.3.2"
  },
  "kernelspec": {
   "display_name": "text_mining",
   "language": "python",
   "name": "text_mining"
  },
  "language_info": {
   "codemirror_mode": {
    "name": "ipython",
    "version": 3
   },
   "file_extension": ".py",
   "mimetype": "text/x-python",
   "name": "python",
   "nbconvert_exporter": "python",
   "pygments_lexer": "ipython3",
   "version": "3.6.4"
  }
 },
 "nbformat": 4,
 "nbformat_minor": 2
}
