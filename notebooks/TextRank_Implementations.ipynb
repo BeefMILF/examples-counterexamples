{
  "nbformat": 4,
  "nbformat_minor": 0,
  "metadata": {
    "colab": {
      "name": "TextRank Implementations.ipynb",
      "version": "0.3.2",
      "provenance": []
    },
    "kernelspec": {
      "name": "python3",
      "display_name": "Python 3"
    }
  },
  "cells": [
    {
      "metadata": {
        "id": "KJMgCTHkCglB",
        "colab_type": "text"
      },
      "cell_type": "markdown",
      "source": [
        "## Notes\n",
        "\n",
        "* **PyTextRank** - weird arcane API, doesn't expose simple function call as gensim/summa\n",
        "* **sumy** - requires pipeline (doesn't just work on raw strings)\n",
        "* **pyteaser** - only Python 2"
      ]
    },
    {
      "metadata": {
        "id": "Bdsh-yRzD89T",
        "colab_type": "code",
        "colab": {}
      },
      "cell_type": "code",
      "source": [
        "!pip install gensim\n",
        "!pip install summa"
      ],
      "execution_count": 0,
      "outputs": []
    },
    {
      "metadata": {
        "id": "Bv92-Pmh34It",
        "colab_type": "code",
        "colab": {}
      },
      "cell_type": "code",
      "source": [
        "import pandas as pd\n",
        "\n",
        "import gensim\n",
        "import summa\n",
        "from sumy.summarizers.text_rank import TextRankSummarizer as SumyTextRankSummarizer\n",
        "import pytextrank\n",
        "\n",
        "from sklearn.datasets import fetch_20newsgroups"
      ],
      "execution_count": 0,
      "outputs": []
    },
    {
      "metadata": {
        "id": "zqLjTv373-Q0",
        "colab_type": "code",
        "colab": {}
      },
      "cell_type": "code",
      "source": [
        "articles = fetch_20newsgroups()['data']"
      ],
      "execution_count": 0,
      "outputs": []
    },
    {
      "metadata": {
        "id": "tSxPS8Le4O6O",
        "colab_type": "code",
        "colab": {}
      },
      "cell_type": "code",
      "source": [
        "article_texts = [article.split('\\n', maxsplit=5)[5].replace('\\n', ' ') for article in articles]\n",
        "\n",
        "article_texts = [article for article in article_texts if article.count('. ') > 2]\n",
        "\n",
        "article_texts = pd.Series(article_texts)[:5000]"
      ],
      "execution_count": 0,
      "outputs": []
    },
    {
      "metadata": {
        "id": "2H7Y1Zav6ctF",
        "colab_type": "code",
        "colab": {
          "base_uri": "https://localhost:8080/",
          "height": 35
        },
        "outputId": "f0ed031c-5e99-49d8-cb0a-8449a2baaa30"
      },
      "cell_type": "code",
      "source": [
        "len(article_texts)"
      ],
      "execution_count": 4,
      "outputs": [
        {
          "output_type": "execute_result",
          "data": {
            "text/plain": [
              "5000"
            ]
          },
          "metadata": {
            "tags": []
          },
          "execution_count": 4
        }
      ]
    },
    {
      "metadata": {
        "id": "Rly1cf1V457D",
        "colab_type": "code",
        "colab": {
          "base_uri": "https://localhost:8080/",
          "height": 55
        },
        "outputId": "84885f8b-b67b-49f2-df52-623b6c4f098d"
      },
      "cell_type": "code",
      "source": [
        "article_texts[0]"
      ],
      "execution_count": 5,
      "outputs": [
        {
          "output_type": "execute_result",
          "data": {
            "text/plain": [
              "'  I was wondering if anyone out there could enlighten me on this car I saw the other day. It was a 2-door sports car, looked to be from the late 60s/ early 70s. It was called a Bricklin. The doors were really small. In addition, the front bumper was separate from the rest of the body. This is  all I know. If anyone can tellme a model name, engine specs, years of production, where this car is made, history, or whatever info you have on this funky looking car, please e-mail.  Thanks, - IL    ---- brought to you by your neighborhood Lerxst ----     '"
            ]
          },
          "metadata": {
            "tags": []
          },
          "execution_count": 5
        }
      ]
    },
    {
      "metadata": {
        "id": "s1VxoGdc9GIt",
        "colab_type": "code",
        "colab": {
          "base_uri": "https://localhost:8080/",
          "height": 53
        },
        "outputId": "52d254ef-7da4-4c5a-81fd-cfda3261c6a8"
      },
      "cell_type": "code",
      "source": [
        "%%time\n",
        "\n",
        "summa_summaries = article_texts.apply(summa.summarizer.summarize)"
      ],
      "execution_count": 6,
      "outputs": [
        {
          "output_type": "stream",
          "text": [
            "CPU times: user 1min 12s, sys: 13.9 s, total: 1min 26s\n",
            "Wall time: 1min 8s\n"
          ],
          "name": "stdout"
        }
      ]
    },
    {
      "metadata": {
        "id": "FC4KuglB51Wz",
        "colab_type": "code",
        "colab": {
          "base_uri": "https://localhost:8080/",
          "height": 53
        },
        "outputId": "b6472c14-01c3-49a9-8c9d-c556ec5100ab"
      },
      "cell_type": "code",
      "source": [
        "%%time\n",
        "\n",
        "gensim_summaries = article_texts.apply(gensim.summarization.summarize)"
      ],
      "execution_count": 7,
      "outputs": [
        {
          "output_type": "stream",
          "text": [
            "CPU times: user 51.8 s, sys: 6.17 s, total: 58 s\n",
            "Wall time: 50.8 s\n"
          ],
          "name": "stdout"
        }
      ]
    }
  ]
}