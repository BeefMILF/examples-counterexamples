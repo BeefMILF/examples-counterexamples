{
 "cells": [
  {
   "cell_type": "code",
   "execution_count": 5,
   "metadata": {},
   "outputs": [
    {
     "data": {
      "text/plain": [
       "\u001b[32mimport \u001b[39m\u001b[36mammonite.ops.Path\n",
       "\u001b[39m\n",
       "\u001b[32mimport \u001b[39m\u001b[36m$ivy.$                          \n",
       "\u001b[39m\n",
       "\u001b[32mimport \u001b[39m\u001b[36m$ivy.$                                        \n",
       "\u001b[39m\n",
       "\u001b[32mimport \u001b[39m\u001b[36m$ivy.$                          \n",
       "// import $ivy.`de.jollyday:jollyday:0.5.1`\n",
       "\n",
       "\u001b[39m\n",
       "\u001b[36mcoreNLPVersion\u001b[39m: \u001b[32mString\u001b[39m = \u001b[32m\"3.8.0\"\u001b[39m\n",
       "\u001b[36mmyHome\u001b[39m: \u001b[32mString\u001b[39m = \u001b[32m\"/home/kuba/\"\u001b[39m\n",
       "\u001b[36mpathPrefix\u001b[39m: \u001b[32mString\u001b[39m = \u001b[32m\"/home/kuba/.m2/repository\"\u001b[39m\n",
       "\u001b[36mstanfordPrefix\u001b[39m: \u001b[32mString\u001b[39m = \u001b[32m\"/home/kuba/.m2/repository/edu/stanford/nlp/stanford-corenlp/3.8.0\"\u001b[39m"
      ]
     },
     "execution_count": 5,
     "metadata": {},
     "output_type": "execute_result"
    }
   ],
   "source": [
    "import ammonite.ops.Path\n",
    "import $ivy.`org.slf4j:slf4j-api:1.7.6`\n",
    "import $ivy.`com.google.protobuf:protobuf-java:3.0.0`\n",
    "import $ivy.`joda-time:joda-time:2.9.4`\n",
    "// import $ivy.`de.jollyday:jollyday:0.5.1`\n",
    "\n",
    "val coreNLPVersion = \"3.8.0\"\n",
    "val myHome = \"/home/kuba/\"\n",
    "val pathPrefix = s\"$myHome.m2/repository\"\n",
    "val stanfordPrefix = s\"${pathPrefix}/edu/stanford/nlp/stanford-corenlp/$coreNLPVersion\"\n",
    "\n",
    "interp.load.cp(\n",
    "  Seq(\n",
    "    Path(s\"${stanfordPrefix}/stanford-corenlp-$coreNLPVersion.jar\"),\n",
    "    Path(s\"${stanfordPrefix}/stanford-corenlp-$coreNLPVersion-models.jar\")\n",
    "  ))"
   ]
  },
  {
   "cell_type": "code",
   "execution_count": 2,
   "metadata": {},
   "outputs": [
    {
     "data": {
      "text/plain": [
       "\u001b[32mimport \u001b[39m\u001b[36medu.stanford.nlp.simple._\u001b[39m"
      ]
     },
     "execution_count": 2,
     "metadata": {},
     "output_type": "execute_result"
    }
   ],
   "source": [
    "import edu.stanford.nlp.simple._"
   ]
  },
  {
   "cell_type": "code",
   "execution_count": 3,
   "metadata": {},
   "outputs": [
    {
     "data": {
      "text/plain": [
       "\u001b[36msentenceText\u001b[39m: \u001b[32mString\u001b[39m = \u001b[32m\"Chomsky's colorless green ideas sleep furiously.\"\u001b[39m\n",
       "\u001b[36msentence\u001b[39m: \u001b[32mSentence\u001b[39m = Chomsky's colorless green ideas sleep furiously."
      ]
     },
     "execution_count": 3,
     "metadata": {},
     "output_type": "execute_result"
    }
   ],
   "source": [
    "val sentenceText = \"Chomsky's colorless green ideas sleep furiously.\"\n",
    "val sentence = new Sentence(sentenceText)"
   ]
  },
  {
   "cell_type": "code",
   "execution_count": 4,
   "metadata": {},
   "outputs": [
    {
     "name": "stderr",
     "output_type": "stream",
     "text": [
      "SLF4J: Failed to load class \"org.slf4j.impl.StaticLoggerBinder\".\n",
      "SLF4J: Defaulting to no-operation (NOP) logger implementation\n",
      "SLF4J: See http://www.slf4j.org/codes.html#StaticLoggerBinder for further details.\n"
     ]
    },
    {
     "data": {
      "text/plain": [
       "\u001b[36mres3_0\u001b[39m: \u001b[32mjava\u001b[39m.\u001b[32mutil\u001b[39m.\u001b[32mList\u001b[39m[\u001b[32mString\u001b[39m] = [PERSON, O, O, O, O, O, O, O]\n",
       "\u001b[36mres3_1\u001b[39m: \u001b[32mjava\u001b[39m.\u001b[32mutil\u001b[39m.\u001b[32mList\u001b[39m[\u001b[32mString\u001b[39m] = [NNP, POS, JJ, JJ, NNS, VBP, RB, .]"
      ]
     },
     "execution_count": 4,
     "metadata": {},
     "output_type": "execute_result"
    }
   ],
   "source": [
    "sentence.nerTags\n",
    "sentence.posTags"
   ]
  }
 ],
 "metadata": {
  "hide_input": false,
  "kernelspec": {
   "display_name": "Scala",
   "language": "scala",
   "name": "scala"
  },
  "language_info": {
   "codemirror_mode": "text/x-scala",
   "file_extension": ".scala",
   "mimetype": "text/x-scala",
   "name": "scala211",
   "nbconvert_exporter": "script",
   "pygments_lexer": "scala",
   "version": "2.11.11"
  }
 },
 "nbformat": 4,
 "nbformat_minor": 2
}
