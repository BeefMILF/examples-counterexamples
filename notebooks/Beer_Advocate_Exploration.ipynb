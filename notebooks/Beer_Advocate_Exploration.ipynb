{
  "nbformat": 4,
  "nbformat_minor": 0,
  "metadata": {
    "colab": {
      "name": "Beer Advocate Exploration.ipynb",
      "version": "0.3.2",
      "provenance": [],
      "collapsed_sections": []
    },
    "kernelspec": {
      "name": "python3",
      "display_name": "Python 3"
    }
  },
  "cells": [
    {
      "metadata": {
        "id": "Jj0gyf5-1nbd",
        "colab_type": "text"
      },
      "cell_type": "markdown",
      "source": [
        "# Exploring Beer through reviews\n",
        "\n",
        "[Beer Advocate](https://data.world/petergensler/beer-advocate-reviews) is a dataset containing ~500k reviews of beers."
      ]
    },
    {
      "metadata": {
        "id": "TBtUDl5c1M_f",
        "colab_type": "code",
        "colab": {}
      },
      "cell_type": "code",
      "source": [
        "from operator import itemgetter\n",
        "from concurrent.futures import ProcessPoolExecutor \n",
        "\n",
        "import gensim\n",
        "import pandas as pd\n",
        "\n",
        "import itertools\n",
        "\n",
        "import numpy as np\n",
        "\n",
        "import matplotlib.pyplot as plt\n",
        "%matplotlib inline\n",
        "\n",
        "\n",
        "from nltk.stem import WordNetLemmatizer\n",
        "\n",
        "from sklearn.feature_extraction.text import CountVectorizer\n",
        "from sklearn.preprocessing import OneHotEncoder, MultiLabelBinarizer, LabelEncoder"
      ],
      "execution_count": 0,
      "outputs": []
    },
    {
      "metadata": {
        "id": "gKg_x3TExs92",
        "colab_type": "code",
        "colab": {}
      },
      "cell_type": "code",
      "source": [
        "lemmatizer = WordNetLemmatizer()\n",
        "\n",
        "\n",
        "def stem(text):\n",
        "    return lemmatizer.lemmatize(text)\n",
        "\n",
        "\n",
        "def map_parallel(f, iterable, **kwargs):\n",
        "    with ProcessPoolExecutor() as pool:\n",
        "        result = pool.map(f, iterable, **kwargs)\n",
        "    return result\n",
        "\n",
        "\n",
        "def retrieve_articles(start, chunksize=1000):\n",
        "    return arxiv.query(\n",
        "        search_query=search_query,\n",
        "        start=start,\n",
        "        max_results=chunksize\n",
        "    )"
      ],
      "execution_count": 0,
      "outputs": []
    },
    {
      "metadata": {
        "id": "f8xQFVWExzS0",
        "colab_type": "code",
        "colab": {}
      },
      "cell_type": "code",
      "source": [
        "def vectorize_text(examples_df):\n",
        "\n",
        "    vectorizer = CountVectorizer(min_df=2)\n",
        "    vectorized_data = vectorizer.fit_transform(examples_df['summary'])\n",
        "\n",
        "    le = LabelEncoder()\n",
        "    ohe = OneHotEncoder()\n",
        "    categories_labels = le.fit_transform(valid_example_categories).reshape(-1, 1)\n",
        "    categories_ohe = ohe.fit_transform(categories_labels).todense()\n",
        "    return (vectorized_data, categories_labels, categories_ohe), (ohe, le)\n",
        "\n",
        "\n",
        "def extract_keywords(text):\n",
        "    \"\"\"\n",
        "    Use gensim's textrank-based approach\n",
        "    \"\"\"\n",
        "    return gensim.summarization.keywords(\n",
        "        text=text,\n",
        "        lemmatize=True,\n",
        "        split=True\n",
        "    )\n",
        "\n",
        "\n",
        "def extract_mz_keywords(text):\n",
        "    \"\"\"\n",
        "    Use gensim's Montemurro-Zanette method implementation\n",
        "    \"\"\"\n",
        "    return gensim.summarization.mz_keywords(\n",
        "        text=stem(text),\n",
        "        blocksize=32,\n",
        "        split=True\n",
        "    )"
      ],
      "execution_count": 0,
      "outputs": []
    },
    {
      "metadata": {
        "id": "6mY0ypkevT5i",
        "colab_type": "code",
        "colab": {
          "base_uri": "https://localhost:8080/",
          "height": 53
        },
        "outputId": "74e39526-42c0-47b1-e3f4-b8bfce6fe23e"
      },
      "cell_type": "code",
      "source": [
        "%%time\n",
        "\n",
        "beer_df = pd.read_csv('https://query.data.world/s/ybcjhzas3vxtitpe6lxkxpdrthxc7t')"
      ],
      "execution_count": 4,
      "outputs": [
        {
          "output_type": "stream",
          "text": [
            "CPU times: user 6.05 s, sys: 1.4 s, total: 7.45 s\n",
            "Wall time: 15.1 s\n"
          ],
          "name": "stdout"
        }
      ]
    },
    {
      "metadata": {
        "id": "YUiPvQJ70MWf",
        "colab_type": "text"
      },
      "cell_type": "markdown",
      "source": [
        "## Basic info"
      ]
    },
    {
      "metadata": {
        "id": "bQhWxrvuw1Lx",
        "colab_type": "code",
        "colab": {
          "base_uri": "https://localhost:8080/",
          "height": 35
        },
        "outputId": "6223ac80-4c16-41a5-d9d8-3cfc6f5b125a"
      },
      "cell_type": "code",
      "source": [
        "beer_df.shape"
      ],
      "execution_count": 5,
      "outputs": [
        {
          "output_type": "execute_result",
          "data": {
            "text/plain": [
              "(528870, 13)"
            ]
          },
          "metadata": {
            "tags": []
          },
          "execution_count": 5
        }
      ]
    },
    {
      "metadata": {
        "id": "0dxEO-ZQvcMw",
        "colab_type": "code",
        "colab": {
          "base_uri": "https://localhost:8080/",
          "height": 89
        },
        "outputId": "b83e6b24-38fe-4aa5-e9fb-8b16959ecd5a"
      },
      "cell_type": "code",
      "source": [
        "beer_df.columns"
      ],
      "execution_count": 6,
      "outputs": [
        {
          "output_type": "execute_result",
          "data": {
            "text/plain": [
              "Index(['beer_ABV', 'beer_beerId', 'beer_brewerId', 'beer_name', 'beer_style',\n",
              "       'review_appearance', 'review_aroma', 'review_overall', 'review_palate',\n",
              "       'review_profileName', 'review_taste', 'review_text', 'review_time'],\n",
              "      dtype='object')"
            ]
          },
          "metadata": {
            "tags": []
          },
          "execution_count": 6
        }
      ]
    },
    {
      "metadata": {
        "id": "92A20md_0QDP",
        "colab_type": "text"
      },
      "cell_type": "markdown",
      "source": [
        "### Unique revievers"
      ]
    },
    {
      "metadata": {
        "id": "CGOEswjpvuBH",
        "colab_type": "code",
        "colab": {
          "base_uri": "https://localhost:8080/",
          "height": 35
        },
        "outputId": "196ea1dc-64d8-4dd7-bf28-f5e1662c7294"
      },
      "cell_type": "code",
      "source": [
        "len(beer_df['review_profileName'].unique())"
      ],
      "execution_count": 7,
      "outputs": [
        {
          "output_type": "execute_result",
          "data": {
            "text/plain": [
              "22801"
            ]
          },
          "metadata": {
            "tags": []
          },
          "execution_count": 7
        }
      ]
    },
    {
      "metadata": {
        "id": "gHN5NKv60SS_",
        "colab_type": "text"
      },
      "cell_type": "markdown",
      "source": [
        "### Styles\n",
        "\n",
        "Number of styles"
      ]
    },
    {
      "metadata": {
        "id": "7kMmFxhyvwPT",
        "colab_type": "code",
        "colab": {
          "base_uri": "https://localhost:8080/",
          "height": 35
        },
        "outputId": "51a89e03-8be1-41cf-841c-9921da29f524"
      },
      "cell_type": "code",
      "source": [
        "styles = beer_df['beer_style'].unique()\n",
        "len(styles)"
      ],
      "execution_count": 8,
      "outputs": [
        {
          "output_type": "execute_result",
          "data": {
            "text/plain": [
              "104"
            ]
          },
          "metadata": {
            "tags": []
          },
          "execution_count": 8
        }
      ]
    },
    {
      "metadata": {
        "id": "xxtGHsxO0WW3",
        "colab_type": "code",
        "colab": {
          "base_uri": "https://localhost:8080/",
          "height": 1133
        },
        "outputId": "2acb32a2-9857-46bb-ef15-a003d091e86e"
      },
      "cell_type": "code",
      "source": [
        "beer_df['beer_style'].value_counts()"
      ],
      "execution_count": 9,
      "outputs": [
        {
          "output_type": "execute_result",
          "data": {
            "text/plain": [
              "American IPA                           43369\n",
              "American Double / Imperial IPA         26106\n",
              "American Double / Imperial Stout       23354\n",
              "American Pale Ale (APA)                20520\n",
              "American Amber / Red Ale               18731\n",
              "Russian Imperial Stout                 17192\n",
              "American Porter                        16601\n",
              "Belgian Strong Dark Ale                15407\n",
              "Fruit / Vegetable Beer                 15148\n",
              "Witbier                                13535\n",
              "Tripel                                 11637\n",
              "American Barleywine                    10108\n",
              "American Adjunct Lager                  9613\n",
              "Belgian Strong Pale Ale                 8796\n",
              "Hefeweizen                              8553\n",
              "English Pale Ale                        7953\n",
              "American Stout                          7868\n",
              "Saison / Farmhouse Ale                  7835\n",
              "American Pale Wheat Ale                 7771\n",
              "American Strong Ale                     7458\n",
              "Dubbel                                  7270\n",
              "Märzen / Oktoberfest                    7012\n",
              "American Brown Ale                      6942\n",
              "Belgian Pale Ale                        6897\n",
              "Oatmeal Stout                           6723\n",
              "English Brown Ale                       6614\n",
              "Scotch Ale / Wee Heavy                  6558\n",
              "Maibock / Helles Bock                   6080\n",
              "Euro Pale Lager                         6028\n",
              "Winter Warmer                           5995\n",
              "                                       ...  \n",
              "California Common / Steam Beer          1507\n",
              "American Malt Liquor                    1411\n",
              "Smoked Beer                             1323\n",
              "Euro Dark Lager                         1232\n",
              "Munich Dunkel Lager                     1183\n",
              "English Strong Ale                      1183\n",
              "Berliner Weissbier                       933\n",
              "Wheatwine                                891\n",
              "Keller Bier / Zwickel Bier               870\n",
              "Chile Beer                               802\n",
              "Euro Strong Lager                        728\n",
              "English Stout                            727\n",
              "Lambic - Unblended                       705\n",
              "English Dark Mild Ale                    608\n",
              "Japanese Rice Lager                      496\n",
              "Bière de Champagne / Bière Brut          433\n",
              "American Dark Wheat Ale                  286\n",
              "Black & Tan                              278\n",
              "English Pale Mild Ale                    222\n",
              "Low Alcohol Beer                         219\n",
              "Scottish Gruit / Ancient Herbed Ale      211\n",
              "Braggot                                  199\n",
              "Kristalweizen                            198\n",
              "Eisbock                                  195\n",
              "Roggenbier                               153\n",
              "Sahti                                    139\n",
              "Kvass                                    118\n",
              "Gose                                      90\n",
              "Happoshu                                  55\n",
              "Faro                                      53\n",
              "Name: beer_style, Length: 104, dtype: int64"
            ]
          },
          "metadata": {
            "tags": []
          },
          "execution_count": 9
        }
      ]
    },
    {
      "metadata": {
        "id": "xGcRMPQGw3PP",
        "colab_type": "code",
        "colab": {
          "base_uri": "https://localhost:8080/",
          "height": 53
        },
        "outputId": "3beb4478-63dd-40f2-cdee-d37da5afeadb"
      },
      "cell_type": "code",
      "source": [
        "%%time\n",
        "\n",
        "example_review_keywords = pd.Series(list(map_parallel(extract_keywords, beer_df['review_text'].loc[:100])))"
      ],
      "execution_count": 10,
      "outputs": [
        {
          "output_type": "stream",
          "text": [
            "CPU times: user 50.8 ms, sys: 49.5 ms, total: 100 ms\n",
            "Wall time: 1.01 s\n"
          ],
          "name": "stdout"
        }
      ]
    },
    {
      "metadata": {
        "id": "6QSikiOAyPJR",
        "colab_type": "code",
        "colab": {
          "base_uri": "https://localhost:8080/",
          "height": 1133
        },
        "outputId": "13ab43f5-ddda-4f9c-dc10-00e7778e3705"
      },
      "cell_type": "code",
      "source": [
        "example_review_keywords"
      ],
      "execution_count": 11,
      "outputs": [
        {
          "output_type": "execute_result",
          "data": {
            "text/plain": [
              "0                                               [orange]\n",
              "1                                [light, red, drinkable]\n",
              "2                                  [light, roast, beige]\n",
              "3                                    [good, note, fresh]\n",
              "4      [beer, goodness, bitter, fairly, brass, pretty...\n",
              "5             [liked, finish, head, white, cloudy, pour]\n",
              "6           [ginger, nice, simple, white, beer, caramel]\n",
              "7      [light, malt beverage, beers, summer, white, s...\n",
              "8             [cheap, head, golden, good, lager, normal]\n",
              "9      [lagers, bodied, session, hop, mysterious, sof...\n",
              "10     [beer, ginger, astringent, throat, folks, thin...\n",
              "11     [beer, white, aroma sharply, pretty, clear, ta...\n",
              "12              [light, honey, ginger, good, fruitiness]\n",
              "13     [beer, ginger, golden, trade, review, white, b...\n",
              "14                         [lacking, flavors, chocolate]\n",
              "15     [quality, bacterial, taps, ashland, control, m...\n",
              "16     [light, taste, orange, bitter, summer, aggress...\n",
              "17     [smoke, light, slowly, mouthfeel, rauchbiers, ...\n",
              "18         [slightly, vinegar, faint sudsy, fine, ruddy]\n",
              "19     [sweetness, good, hard, upfront, bacon, smoked...\n",
              "20                           [scent, smoked, head, like]\n",
              "21                   [goodness, meat, smoked, rauchbier]\n",
              "22     [smoke, bready, hoppy, light, clear, ruby, malts]\n",
              "23                     [rich, bacon, smoke cured, feels]\n",
              "24     [caramel, character, white, medium, strong, ma...\n",
              "25                       [smoked pork, nice, great, big]\n",
              "26              [smoked bacon, big, savory, considering]\n",
              "27     [smoked, house, flavor, brown, caramel, head, ...\n",
              "28     [solid, malt, bodied, caramel, head, smoked, a...\n",
              "29             [smoked, sweetness, peppery, amber, rich]\n",
              "                             ...                        \n",
              "71     [nicely, malt, presence, slight, golden, head,...\n",
              "72     [grassy, pale, orange, caramel, toast, spice, ...\n",
              "73     [taste, hop profile, citrus, pale, malty, come...\n",
              "74         [beer, good, new, blast pretty, apa, fingers]\n",
              "75       [light, bitterness, straw, carbonation, citrus]\n",
              "76                     [smooth, bitter, clear pale gold]\n",
              "77      [malt, light orange, sharp, great, come camping]\n",
              "78                [golden, bodied, lighter, decent pale]\n",
              "79     [dry, hop, citrus, ipa, bit, pale, balanced, h...\n",
              "80     [hop, light, clean, spicy, citrus, grapefruit,...\n",
              "81     [malt, citrus, brew, skiing, clear golden, lem...\n",
              "82     [beers, like, brew, ipa, abbey, night, bumper,...\n",
              "83     [malt, grain, pulpy, hop, gourmet, virginia, h...\n",
              "84     [hops, beer, fairly, average, summertime, bmc,...\n",
              "85     [straw like, finger, head, session, bodied, tr...\n",
              "86     [tight, pale, overall, glass, looking, spotty,...\n",
              "87     [slightly spicy malt, notes cracker, hops, lik...\n",
              "88         [flavor, golden, fluffy, floral, sweet spicy]\n",
              "89     [pale, light, beer, flavor, hop, head slowly, ...\n",
              "90     [like, little, sweet, citrusy, fruit, surprisi...\n",
              "91              [head, fruity, hazy golden, wet, citrus]\n",
              "92                       [light, hop, pale, good, white]\n",
              "93     [sour, citrus, lacing, lif, football, simple p...\n",
              "94         [pretty, toasty, finger, golden, spicy, mild]\n",
              "95                   [flavor, like, whatsoever, ashland]\n",
              "96     [flavors, pale, head, fruity, gold, unremarkab...\n",
              "97     [sweetness, caramel, citrus, craft, rich, sale...\n",
              "98                                  [cascade, hop, nice]\n",
              "99     [dry, golden, pale, head, smell, nevada, casca...\n",
              "100      [ale, pale, hop, orange, hopiness, foam, malty]\n",
              "Length: 101, dtype: object"
            ]
          },
          "metadata": {
            "tags": []
          },
          "execution_count": 11
        }
      ]
    }
  ]
}