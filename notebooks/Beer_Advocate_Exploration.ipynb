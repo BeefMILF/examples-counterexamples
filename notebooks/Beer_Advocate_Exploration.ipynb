{
  "nbformat": 4,
  "nbformat_minor": 0,
  "metadata": {
    "colab": {
      "name": "Beer Advocate Exploration.ipynb",
      "version": "0.3.2",
      "provenance": [],
      "collapsed_sections": []
    },
    "kernelspec": {
      "name": "python3",
      "display_name": "Python 3"
    }
  },
  "cells": [
    {
      "metadata": {
        "id": "Jj0gyf5-1nbd",
        "colab_type": "text"
      },
      "cell_type": "markdown",
      "source": [
        "# Exploring Beer through reviews\n",
        "\n",
        "[Beer Advocate](https://data.world/petergensler/beer-advocate-reviews) is a dataset containing ~500k reviews of beers."
      ]
    },
    {
      "metadata": {
        "id": "TBtUDl5c1M_f",
        "colab_type": "code",
        "colab": {}
      },
      "cell_type": "code",
      "source": [
        "from operator import itemgetter\n",
        "from concurrent.futures import ProcessPoolExecutor \n",
        "\n",
        "import gensim\n",
        "import pandas as pd\n",
        "\n",
        "import itertools\n",
        "\n",
        "import numpy as np\n",
        "\n",
        "import matplotlib.pyplot as plt\n",
        "%matplotlib inline\n",
        "\n",
        "\n",
        "from nltk.stem import WordNetLemmatizer\n",
        "\n",
        "from sklearn.feature_extraction.text import CountVectorizer\n",
        "from sklearn.preprocessing import OneHotEncoder, MultiLabelBinarizer, LabelEncoder"
      ],
      "execution_count": 0,
      "outputs": []
    },
    {
      "metadata": {
        "id": "gKg_x3TExs92",
        "colab_type": "code",
        "colab": {}
      },
      "cell_type": "code",
      "source": [
        "lemmatizer = WordNetLemmatizer()\n",
        "\n",
        "\n",
        "def stem(text):\n",
        "    return lemmatizer.lemmatize(text)\n",
        "\n",
        "\n",
        "def map_parallel(f, iterable, **kwargs):\n",
        "    with ProcessPoolExecutor() as pool:\n",
        "        result = pool.map(f, iterable, **kwargs)\n",
        "    return result\n",
        "\n",
        "\n",
        "def retrieve_articles(start, chunksize=1000):\n",
        "    return arxiv.query(\n",
        "        search_query=search_query,\n",
        "        start=start,\n",
        "        max_results=chunksize\n",
        "    )"
      ],
      "execution_count": 0,
      "outputs": []
    },
    {
      "metadata": {
        "id": "f8xQFVWExzS0",
        "colab_type": "code",
        "colab": {}
      },
      "cell_type": "code",
      "source": [
        "def vectorize_text(examples_df):\n",
        "\n",
        "    vectorizer = CountVectorizer(min_df=2)\n",
        "    vectorized_data = vectorizer.fit_transform(examples_df['summary'])\n",
        "\n",
        "    le = LabelEncoder()\n",
        "    ohe = OneHotEncoder()\n",
        "    categories_labels = le.fit_transform(valid_example_categories).reshape(-1, 1)\n",
        "    categories_ohe = ohe.fit_transform(categories_labels).todense()\n",
        "    return (vectorized_data, categories_labels, categories_ohe), (ohe, le)\n",
        "\n",
        "\n",
        "def extract_keywords(text):\n",
        "    \"\"\"\n",
        "    Use gensim's textrank-based approach\n",
        "    \"\"\"\n",
        "    return gensim.summarization.keywords(\n",
        "        text=text,\n",
        "        lemmatize=True,\n",
        "        split=True\n",
        "    )\n",
        "\n",
        "\n",
        "def extract_mz_keywords(text):\n",
        "    \"\"\"\n",
        "    Use gensim's Montemurro-Zanette method implementation\n",
        "    \"\"\"\n",
        "    return gensim.summarization.mz_keywords(\n",
        "        text=stem(text),\n",
        "        blocksize=32,\n",
        "        split=True\n",
        "    )"
      ],
      "execution_count": 0,
      "outputs": []
    },
    {
      "metadata": {
        "id": "6mY0ypkevT5i",
        "colab_type": "code",
        "colab": {
          "base_uri": "https://localhost:8080/",
          "height": 53
        },
        "outputId": "4c72f2b8-9cf8-466e-f9b6-16add71591fe"
      },
      "cell_type": "code",
      "source": [
        "%%time\n",
        "\n",
        "beer_df = pd.read_csv('https://query.data.world/s/ybcjhzas3vxtitpe6lxkxpdrthxc7t')"
      ],
      "execution_count": 4,
      "outputs": [
        {
          "output_type": "stream",
          "text": [
            "CPU times: user 7.7 s, sys: 3.48 s, total: 11.2 s\n",
            "Wall time: 22.8 s\n"
          ],
          "name": "stdout"
        }
      ]
    },
    {
      "metadata": {
        "id": "YUiPvQJ70MWf",
        "colab_type": "text"
      },
      "cell_type": "markdown",
      "source": [
        "## Basic info"
      ]
    },
    {
      "metadata": {
        "id": "bQhWxrvuw1Lx",
        "colab_type": "code",
        "colab": {
          "base_uri": "https://localhost:8080/",
          "height": 35
        },
        "outputId": "7bb08d1b-fd28-4e44-8e73-4a0f169d9ec5"
      },
      "cell_type": "code",
      "source": [
        "beer_df.shape"
      ],
      "execution_count": 5,
      "outputs": [
        {
          "output_type": "execute_result",
          "data": {
            "text/plain": [
              "(528870, 13)"
            ]
          },
          "metadata": {
            "tags": []
          },
          "execution_count": 5
        }
      ]
    },
    {
      "metadata": {
        "id": "0dxEO-ZQvcMw",
        "colab_type": "code",
        "colab": {
          "base_uri": "https://localhost:8080/",
          "height": 89
        },
        "outputId": "df7becab-7ee6-4a07-d2bd-4c74fa925271"
      },
      "cell_type": "code",
      "source": [
        "beer_df.columns"
      ],
      "execution_count": 6,
      "outputs": [
        {
          "output_type": "execute_result",
          "data": {
            "text/plain": [
              "Index(['beer_ABV', 'beer_beerId', 'beer_brewerId', 'beer_name', 'beer_style',\n",
              "       'review_appearance', 'review_aroma', 'review_overall', 'review_palate',\n",
              "       'review_profileName', 'review_taste', 'review_text', 'review_time'],\n",
              "      dtype='object')"
            ]
          },
          "metadata": {
            "tags": []
          },
          "execution_count": 6
        }
      ]
    },
    {
      "metadata": {
        "id": "92A20md_0QDP",
        "colab_type": "text"
      },
      "cell_type": "markdown",
      "source": [
        "### Unique revievers"
      ]
    },
    {
      "metadata": {
        "id": "CGOEswjpvuBH",
        "colab_type": "code",
        "colab": {
          "base_uri": "https://localhost:8080/",
          "height": 35
        },
        "outputId": "8d449bee-9660-41ec-b11e-40ff65a38131"
      },
      "cell_type": "code",
      "source": [
        "len(beer_df['review_profileName'].unique())"
      ],
      "execution_count": 7,
      "outputs": [
        {
          "output_type": "execute_result",
          "data": {
            "text/plain": [
              "22801"
            ]
          },
          "metadata": {
            "tags": []
          },
          "execution_count": 7
        }
      ]
    },
    {
      "metadata": {
        "id": "gHN5NKv60SS_",
        "colab_type": "text"
      },
      "cell_type": "markdown",
      "source": [
        "### Styles\n",
        "\n",
        "Number of styles"
      ]
    },
    {
      "metadata": {
        "id": "7kMmFxhyvwPT",
        "colab_type": "code",
        "colab": {
          "base_uri": "https://localhost:8080/",
          "height": 35
        },
        "outputId": "ff145198-ffd3-476f-8375-ee9d30a493c2"
      },
      "cell_type": "code",
      "source": [
        "styles = beer_df['beer_style'].unique()\n",
        "len(styles)"
      ],
      "execution_count": 8,
      "outputs": [
        {
          "output_type": "execute_result",
          "data": {
            "text/plain": [
              "104"
            ]
          },
          "metadata": {
            "tags": []
          },
          "execution_count": 8
        }
      ]
    },
    {
      "metadata": {
        "id": "xxtGHsxO0WW3",
        "colab_type": "code",
        "colab": {
          "base_uri": "https://localhost:8080/",
          "height": 1133
        },
        "outputId": "4b2d1714-55f1-43e6-80d6-40849de5b0c0"
      },
      "cell_type": "code",
      "source": [
        "beer_df['beer_style'].value_counts()"
      ],
      "execution_count": 9,
      "outputs": [
        {
          "output_type": "execute_result",
          "data": {
            "text/plain": [
              "American IPA                           43369\n",
              "American Double / Imperial IPA         26106\n",
              "American Double / Imperial Stout       23354\n",
              "American Pale Ale (APA)                20520\n",
              "American Amber / Red Ale               18731\n",
              "Russian Imperial Stout                 17192\n",
              "American Porter                        16601\n",
              "Belgian Strong Dark Ale                15407\n",
              "Fruit / Vegetable Beer                 15148\n",
              "Witbier                                13535\n",
              "Tripel                                 11637\n",
              "American Barleywine                    10108\n",
              "American Adjunct Lager                  9613\n",
              "Belgian Strong Pale Ale                 8796\n",
              "Hefeweizen                              8553\n",
              "English Pale Ale                        7953\n",
              "American Stout                          7868\n",
              "Saison / Farmhouse Ale                  7835\n",
              "American Pale Wheat Ale                 7771\n",
              "American Strong Ale                     7458\n",
              "Dubbel                                  7270\n",
              "Märzen / Oktoberfest                    7012\n",
              "American Brown Ale                      6942\n",
              "Belgian Pale Ale                        6897\n",
              "Oatmeal Stout                           6723\n",
              "English Brown Ale                       6614\n",
              "Scotch Ale / Wee Heavy                  6558\n",
              "Maibock / Helles Bock                   6080\n",
              "Euro Pale Lager                         6028\n",
              "Winter Warmer                           5995\n",
              "                                       ...  \n",
              "California Common / Steam Beer          1507\n",
              "American Malt Liquor                    1411\n",
              "Smoked Beer                             1323\n",
              "Euro Dark Lager                         1232\n",
              "Munich Dunkel Lager                     1183\n",
              "English Strong Ale                      1183\n",
              "Berliner Weissbier                       933\n",
              "Wheatwine                                891\n",
              "Keller Bier / Zwickel Bier               870\n",
              "Chile Beer                               802\n",
              "Euro Strong Lager                        728\n",
              "English Stout                            727\n",
              "Lambic - Unblended                       705\n",
              "English Dark Mild Ale                    608\n",
              "Japanese Rice Lager                      496\n",
              "Bière de Champagne / Bière Brut          433\n",
              "American Dark Wheat Ale                  286\n",
              "Black & Tan                              278\n",
              "English Pale Mild Ale                    222\n",
              "Low Alcohol Beer                         219\n",
              "Scottish Gruit / Ancient Herbed Ale      211\n",
              "Braggot                                  199\n",
              "Kristalweizen                            198\n",
              "Eisbock                                  195\n",
              "Roggenbier                               153\n",
              "Sahti                                    139\n",
              "Kvass                                    118\n",
              "Gose                                      90\n",
              "Happoshu                                  55\n",
              "Faro                                      53\n",
              "Name: beer_style, Length: 104, dtype: int64"
            ]
          },
          "metadata": {
            "tags": []
          },
          "execution_count": 9
        }
      ]
    },
    {
      "metadata": {
        "id": "daXri5497HbK",
        "colab_type": "text"
      },
      "cell_type": "markdown",
      "source": [
        "## Reviews"
      ]
    },
    {
      "metadata": {
        "id": "rGtv4HdX7vYi",
        "colab_type": "code",
        "colab": {}
      },
      "cell_type": "code",
      "source": [
        "review_texts = beer_df['review_text'].dropna()"
      ],
      "execution_count": 0,
      "outputs": []
    },
    {
      "metadata": {
        "id": "HqUnZ4qF8p6w",
        "colab_type": "code",
        "colab": {
          "base_uri": "https://localhost:8080/",
          "height": 53
        },
        "outputId": "78edbfba-efc4-49f7-be7a-31192a29bbc5"
      },
      "cell_type": "code",
      "source": [
        "%%time\n",
        "text_lengths = review_texts.str.split().apply(len)"
      ],
      "execution_count": 11,
      "outputs": [
        {
          "output_type": "stream",
          "text": [
            "CPU times: user 13.3 s, sys: 2.14 s, total: 15.4 s\n",
            "Wall time: 15.4 s\n"
          ],
          "name": "stdout"
        }
      ]
    },
    {
      "metadata": {
        "id": "Y_DftydQ9LY3",
        "colab_type": "code",
        "colab": {
          "base_uri": "https://localhost:8080/",
          "height": 265
        },
        "outputId": "eee255ac-d7f6-47ae-9785-b5ccda6b20b2"
      },
      "cell_type": "code",
      "source": [
        "text_lengths.plot.hist(bins=50);"
      ],
      "execution_count": 12,
      "outputs": [
        {
          "output_type": "display_data",
          "data": {
            "image/png": "[encoded data removed]",
            "text/plain": [
              "<matplotlib.figure.Figure at 0x7f41b8078cc0>"
            ]
          },
          "metadata": {
            "tags": []
          }
        }
      ]
    },
    {
      "metadata": {
        "id": "PXa1_USJ9lux",
        "colab_type": "text"
      },
      "cell_type": "markdown",
      "source": [
        "## Keywords"
      ]
    },
    {
      "metadata": {
        "id": "xGcRMPQGw3PP",
        "colab_type": "code",
        "colab": {
          "base_uri": "https://localhost:8080/",
          "height": 53
        },
        "outputId": "5ee15d70-aa76-4cb4-9653-865427795ce2"
      },
      "cell_type": "code",
      "source": [
        "%%time\n",
        "\n",
        "example_review_keywords = pd.Series(list(map_parallel(extract_keywords, review_texts.loc[:10000])))"
      ],
      "execution_count": 14,
      "outputs": [
        {
          "output_type": "stream",
          "text": [
            "CPU times: user 6.06 s, sys: 872 ms, total: 6.93 s\n",
            "Wall time: 2min 1s\n"
          ],
          "name": "stdout"
        }
      ]
    },
    {
      "metadata": {
        "id": "6QSikiOAyPJR",
        "colab_type": "code",
        "colab": {
          "base_uri": "https://localhost:8080/",
          "height": 1133
        },
        "outputId": "1dbb1225-fad8-4184-9a4e-706d84a370aa"
      },
      "cell_type": "code",
      "source": [
        "example_review_keywords"
      ],
      "execution_count": 15,
      "outputs": [
        {
          "output_type": "execute_result",
          "data": {
            "text/plain": [
              "0                                                [orange]\n",
              "1                                 [light, red, drinkable]\n",
              "2                                   [light, roast, beige]\n",
              "3                                     [good, note, fresh]\n",
              "4       [beer, goodness, bitter, like, brass, glass, c...\n",
              "5       [finish, liked, white, head, goblet, pour, clo...\n",
              "6            [ginger, nice, simple, white, beer, caramel]\n",
              "7       [light, malt beverage, beers, white, summer, o...\n",
              "8              [golden, head, cheap, good, normal, lager]\n",
              "9       [lagers, bodied, soft, session, mysterious, de...\n",
              "10      [beer, ginger, throat, astringent, straw, spic...\n",
              "11      [beer, white, aroma sharply, taste, clear, pre...\n",
              "12                           [light, honey, ginger, good]\n",
              "13      [beer, ginger, golden, white, review, belgium,...\n",
              "14                          [lacking, flavors, chocolate]\n",
              "15      [quality, taps, bacterial, ashland, control, m...\n",
              "16      [light, taste, orange, bitter, summer, aggress...\n",
              "17      [smoke, mouthfeel, slowly, light, rauchbiers, ...\n",
              "18          [slightly, vinegar, faint sudsy, ruddy, fine]\n",
              "19      [sweetness, good, hard, bacon, upfront, run, s...\n",
              "20                            [smoked, scent, like, head]\n",
              "21                    [goodness, meat, smoked, rauchbier]\n",
              "22      [smoke, bready, hoppy, light, ruby, clear, malts]\n",
              "23                      [rich, bacon, smoke cured, feels]\n",
              "24      [caramel, character, medium, white, sweetness,...\n",
              "25                        [smoked pork, nice, great, big]\n",
              "26                     [smoked bacon, big, savory, wants]\n",
              "27      [smoked, house, flavor, brown, white, light, h...\n",
              "28      [solid, malt, bodied, caramel, head, smoked, b...\n",
              "29              [smoked, sweetness, peppery, rich, amber]\n",
              "                              ...                        \n",
              "9969            [pint, malty, copper, adding, bitterness]\n",
              "9970    [light, traces, beers, strong biscuity, juicy,...\n",
              "9971                     [nice, smooth, mouthfeel medium]\n",
              "9972                  [nutty, actually, definitely, deep]\n",
              "9973    [beers, bitter, losses, gem, crystal, lovely, ...\n",
              "9974       [moderate, flavor, rusty, brown bottle, tacky]\n",
              "9975    [sweet, bitter, sourness, comes, foamy, flavou...\n",
              "9976            [biitter, white, like maple, traits, esb]\n",
              "9977                                                   []\n",
              "9978    [malt, cask, white, brown, notes, condition, t...\n",
              "9979     [sweet, bottle, bitterness, looked, glass, bath]\n",
              "9980                  [english, truely, cask, incredibly]\n",
              "9981    [beers, tithe, town, strong, british, gem, pou...\n",
              "9982    [caramel malt, bittersweet finish, medium ambe...\n",
              "9983    [bitter, beer, bath, ale, water, aroma, abv, p...\n",
              "9984    [include, bitter hop, sweetness, abv, boutique...\n",
              "9985                 [sweetness, orange, amber, american]\n",
              "9986                        [session, absolutely, bottle]\n",
              "9987    [feeling, like, head, conditioned, mark, worth...\n",
              "9988                     [toast, dark, bit, little, wood]\n",
              "9989    [toasty, beer, flavor, aroma, nice, carbonatio...\n",
              "9990          [sweet, headed, hops, better, craft, spent]\n",
              "9991                   [good, hops, longish, brown, beer]\n",
              "9992    [soft, sweet, hazel, fine, center, brit, evide...\n",
              "9993                                 [cake pretty, stuff]\n",
              "9994       [apple, orange, bitter, juice, changing hints]\n",
              "9995                          [light, hazy amber, bottle]\n",
              "9996            [ordinary, slight metallic, light, amber]\n",
              "9997    [conditioned, pour, subtle, malt, diacetyl, ap...\n",
              "9998    [best, whatsoever, sulphur, bready, add, incre...\n",
              "Length: 9999, dtype: object"
            ]
          },
          "metadata": {
            "tags": []
          },
          "execution_count": 15
        }
      ]
    },
    {
      "metadata": {
        "id": "pjxubX6g-PSZ",
        "colab_type": "code",
        "colab": {
          "base_uri": "https://localhost:8080/",
          "height": 265
        },
        "outputId": "c5c4f04e-1bc8-4633-d4e4-faa3fe91074d"
      },
      "cell_type": "code",
      "source": [
        "example_keyword_lengths = example_review_keywords.apply(len)\n",
        "max_keywords_length = example_keyword_lengths.max()\n",
        "example_keyword_lengths.plot.hist(bins=max_keywords_length);"
      ],
      "execution_count": 21,
      "outputs": [
        {
          "output_type": "display_data",
          "data": {
            "image/png": "[encoded data removed]",
            "text/plain": [
              "<matplotlib.figure.Figure at 0x7f41b34700f0>"
            ]
          },
          "metadata": {
            "tags": []
          }
        }
      ]
    }
  ]
}