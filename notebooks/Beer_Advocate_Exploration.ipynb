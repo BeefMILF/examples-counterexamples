{
  "nbformat": 4,
  "nbformat_minor": 0,
  "metadata": {
    "colab": {
      "name": "Beer Advocate Exploration.ipynb",
      "version": "0.3.2",
      "provenance": [],
      "collapsed_sections": []
    },
    "kernelspec": {
      "name": "python3",
      "display_name": "Python 3"
    }
  },
  "cells": [
    {
      "metadata": {
        "id": "Jj0gyf5-1nbd",
        "colab_type": "text"
      },
      "cell_type": "markdown",
      "source": [
        "# Exploring Beer through reviews\n",
        "\n",
        "[Beer Advocate](https://data.world/petergensler/beer-advocate-reviews) is a dataset containing ~500k reviews of beers."
      ]
    },
    {
      "metadata": {
        "id": "uBdLz_eJwuDa",
        "colab_type": "code",
        "colab": {
          "base_uri": "https://localhost:8080/",
          "height": 361
        },
        "outputId": "b3cf45d6-85d4-4c8b-f154-ebc451e86192"
      },
      "cell_type": "code",
      "source": [
        "!pip install git+https://github.com/lambdaofgod/textrank\n",
        "!pip install python-igraph"
      ],
      "execution_count": 8,
      "outputs": [
        {
          "output_type": "stream",
          "text": [
            "Collecting git+https://github.com/lambdaofgod/textrank\n",
            "  Cloning https://github.com/lambdaofgod/textrank to /tmp/pip-req-build-9ccxddjf\n",
            "Requirement already satisfied (use --upgrade to upgrade): summa==1.1.0 from git+https://github.com/lambdaofgod/textrank in /usr/local/lib/python3.6/dist-packages\n",
            "Requirement already satisfied: scipy>=0.19 in /usr/local/lib/python3.6/dist-packages (from summa==1.1.0) (0.19.1)\n",
            "Requirement already satisfied: numpy>=1.8.2 in /usr/local/lib/python3.6/dist-packages (from scipy>=0.19->summa==1.1.0) (1.14.6)\n",
            "Building wheels for collected packages: summa\n",
            "  Running setup.py bdist_wheel for summa ... \u001b[?25l-\b \bdone\n",
            "\u001b[?25h  Stored in directory: /tmp/pip-ephem-wheel-cache-i8byeo3u/wheels/a2/a7/6c/30b35a30a820a7c1e939b4aef4db882923377c0e56ca24e338\n",
            "Successfully built summa\n",
            "Collecting python-igraph\n",
            "\u001b[?25l  Downloading https://files.pythonhosted.org/packages/0f/a0/4e7134f803737aa6eebb4e5250565ace0e2599659e22be7f7eba520ff017/python-igraph-0.7.1.post6.tar.gz (377kB)\n",
            "\u001b[K    100% |████████████████████████████████| 378kB 7.5MB/s \n",
            "\u001b[?25hBuilding wheels for collected packages: python-igraph\n",
            "  Running setup.py bdist_wheel for python-igraph ... \u001b[?25l-\b \b\\\b \b|\b \b/\b \b-\b \b\\\b \b|\b \b/\b \b-\b \b\\\b \b|\b \b/\b \b-\b \b\\\b \b|\b \b/\b \b-\b \b\\\b \b|\b \b/\b \b-\b \b\\\b \b|\b \b/\b \b-\b \b\\\b \b|\b \b/\b \b-\b \b\\\b \b|\b \b/\b \b-\b \b\\\b \b|\b \b/\b \b-\b \b\\\b \b|\b \b/\b \b-\b \b\\\b \b|\b \b/\b \b-\b \b\\\b \b|\b \b/\b \b-\b \b\\\b \b|\b \b/\b \b-\b \b\\\b \b|\b \b/\b \b-\b \b\\\b \b|\b \b/\b \b-\b \b\\\b \b|\b \b/\b \b-\b \b\\\b \b|\b \b/\b \b-\b \b\\\b \b|\b \b/\b \b-\b \b\\\b \b|\b \b/\b \b-\b \b\\\b \b|\b \b/\b \b-\b \b\\\b \b|\b \b/\b \b-\b \b\\\b \b|\b \b/\b \b-\b \b\\\b \b|\b \b/\b \b-\b \b\\\b \b|\b \b/\b \b-\b \b\\\b \b|\b \b/\b \b-\b \b\\\b \b|\b \b/\b \b-\b \b\\\b \b|\b \b/\b \b-\b \b\\\b \b|\b \b/\b \b-\b \b\\\b \b|\b \b/\b \b-\b \b\\\b \b|\b \b/\b \b-\b \b\\\b \b|\b \b/\b \b-\b \b\\\b \b|\b \b/\b \b-\b \b\\\b \b|\b \b/\b \b-\b \b\\\b \b|\b \b/\b \b-\b \b\\\b \b|\b \b/\b \b-\b \b\\\b \b|\b \b/\b \b-\b \b\\\b \b|\b \b/\b \b-\b \b\\\b \b|\b \b/\b \b-\b \b\\\b \b|\b \b/\b \b-\b \b\\\b \b|\b \b/\b \b-\b \b\\\b \b|\b \b/\b \b-\b \b\\\b \b|\b \b/\b \b-\b \b\\\b \b|\b \b/\b \b-\b \b\\\b \b|\b \b/\b \b-\b \b\\\b \b|\b \b/\b \b-\b \b\\\b \b|\b \b/\b \b-\b \b\\\b \b|\b \b/\b \b-\b \b\\\b \b|\b \b/\b \b-\b \b\\\b \b|\b \b/\b \b-\b \b\\\b \b|\b \b/\b \b-\b \b\\\b \b|\b \b/\b \b-\b \b\\\b \b|\b \b/\b \b-\b \b\\\b \b|\b \b/\b \b-\b \b\\\b \b|\b \b/\b \b-\b \b\\\b \b|\b \b/\b \b-\b \b\\\b \b|\b \b/\b \b-\b \b\\\b \b|\b \b/\b \b-\b \b\\\b \b|\b \b/\b \b-\b \b\\\b \b|\b \b/\b \b-\b \b\\\b \b|\b \b/\b \b-\b \b\\\b \b|\b \b/\b \b-\b \b\\\b \b|\b \b/\b \b-\b \b\\\b \b|\b \b/\b \b-\b \b\\\b \b|\b \b/\b \b-\b \b\\\b \b|\b \b/\b \b-\b \b\\\b \b|\b \b/\b \b-\b \b\\\b \b|\b \b/\b \b-\b \b\\\b \b|\b \b/\b \b-\b \b\\\b \b|\b \b/\b \b-\b \b\\\b \b|\b \b/\b \b-\b \b\\\b \b|\b \b/\b \b-\b \b\\\b \b|\b \b/\b \b-\b \b\\\b \b|\b \b/\b \b-\b \b\\\b \b|\b \b/\b \b-\b \b\\\b \b|\b \b/\b \b-\b \b\\\b \b|\b \b/\b \b-\b \b\\\b \b|\b \b/\b \b-\b \b\\\b \b|\b \b/\b \b-\b \b\\\b \b|\b \b/\b \b-\b \b\\\b \b|\b \b/\b \b-\b \b\\\b \b|\b \b/\b \b-\b \b\\\b \b|\b \b/\b \b-\b \b\\\b \b|\b \b/\b \b-\b \b\\\b \b|\b \b/\b \b-\b \b\\\b \b|\b \b/\b \b-\b \b\\\b \b|\b \b/\b \b-\b \b\\\b \b|\b \b/\b \b-\b \b\\\b \b|\b \b/\b \b-\b \b\\\b \b|\b \b/\b \b-\b \b\\\b \b|\b \b/\b \b-\b \b\\\b \b|\b \b/\b \b-\b \b\\\b \b|\b \b/\b \b-\b \b\\\b \b|\b \b/\b \b-\b \b\\\b \b|\b \b/\b \b-\b \b\\\b \b|\b \b/\b \b-\b \b\\\b \b|\b \b/\b \b-\b \b\\\b \b|\b \b/\b \b-\b \b\\\b \b|\b \b/\b \b-\b \b\\\b \b|\b \b/\b \b-\b \b\\\b \b|\b \b/\b \b-\b \b\\\b \b|\b \b/\b \b-\b \b\\\b \b|\b \b/\b \b-\b \b\\\b \b|\b \b/\b \b-\b \b\\\b \b|\b \b/\b \b-\b \b\\\b \b|\b \b/\b \b-\b \b\\\b \b|\b \b/\b \b-\b \b\\\b \b|\b \b/\b \b-\b \b\\\b \b|\b \b/\b \b-\b \b\\\b \b|\b \b/\b \b-\b \b\\\b \b|\b \b/\b \b-\b \b\\\b \b|\b \b/\b \b-\b \b\\\b \b|\b \b/\b \b-\b \b\\\b \b|\b \b/\b \b-\b \b\\\b \b|\b \b/\b \b-\b \b\\\b \b|\b \b/\b \b-\b \b\\\b \b|\b \b/\b \b-\b \b\\\b \b|\b \b/\b \b-\b \b\\\b \b|\b \b/\b \b-\b \b\\\b \b|\b \b/\b \b-\b \b\\\b \b|\b \b/\b \b-\b \b\\\b \b|\b \b/\b \b-\b \b\\\b \b|\b \b/\b \b-\b \b\\\b \b|\b \b/\b \b-\b \b\\\b \b|\b \b/\b \b-\b \b\\\b \b|\b \b/\b \b-\b \b\\\b \b|\b \b/\b \b-\b \b\\\b \b|\b \b/\b \b-\b \b\\\b \b|\b \b/\b \b-\b \b\\\b \b|\b \b/\b \b-\b \b\\\b \b|\b \b/\b \b-\b \b\\\b \b|\b \b/\b \b-\b \b\\\b \b|\b \b/\b \b-\b \b\\\b \b|\b \b/\b \b-\b \b\\\b \b|\b \b/\b \b-\b \b\\\b \b|\b \b/\b \b-\b \b\\\b \b|\b \b/\b \b-\b \b\\\b \b|\b \b/\b \b-\b \b\\\b \b|\b \b/\b \b-\b \b\\\b \b|\b \b/\b \b-\b \b\\\b \b|\b \b/\b \b-\b \b\\\b \b|\b \b/\b \b-\b \b\\\b \b|\b \b/\b \b-\b \b\\\b \b|\b \b/\b \b-\b \b\\\b \b|\b \b/\b \b-\b \b\\\b \b|\b \b/\b \b-\b \b\\\b \b|\b \b/\b \b-\b \b\\\b \b|\b \b/\b \b-\b \b\\\b \b|\b \b/\b \b-\b \b\\\b \b|\b \b/\b \b-\b \b\\\b \b|\b \b/\b \b-\b \b\\\b \b|\b \b/\b \b-\b \b\\\b \b|\b \b/\b \b-\b \b\\\b \b|\b \b/\b \b-\b \b\\\b \b|\b \b/\b \b-\b \b\\\b \b|\b \b/\b \b-\b \b\\\b \b|\b \b/\b \b-\b \b\\\b \b|\b \b/\b \b-\b \b\\\b \b|\b \b/\b \b-\b \b\\\b \b|\b \b/\b \b-\b \b\\\b \b|\b \b/\b \b-\b \b\\\b \b|\b \b/\b \b-\b \b\\\b \b|\b \b/\b \b-\b \b\\\b \b|\b \b/\b \b-\b \b\\\b \b|\b \b/\b \b-\b \b\\\b \b|\b \b/\b \b-\b \b\\\b \b|\b \b/\b \b-\b \b\\\b \b|\b \b/\b \b-\b \b\\\b \b|\b \b/\b \b-\b \b\\\b \b|\b \b/\b \b-\b \b\\\b \b|\b \b/\b \b-\b \b\\\b \b|\b \b/\b \b-\b \b\\\b \b|\b \b/\b \b-\b \b\\\b \b|\b \b/\b \b-\b \b\\\b \b|\b \b/\b \b-\b \b\\\b \b|\b \b/\b \b-\b \b\\\b \b|\b \b/\b \b-\b \b\\\b \b|\b \b/\b \b-\b \b\\\b \b|\b \b/\b \b-\b \b\\\b \b|\b \b/\b \b-\b \b\\\b \b|\b \b/\b \b-\b \b\\\b \b|\b \b/\b \b-\b \b\\\b \b|\b \b/\b \b-\b \b\\\b \b|\b \b/\b \b-\b \b\\\b \b|\b \b/\b \b-\b \b\\\b \b|\b \b/\b \b-\b \b\\\b \b|\b \b/\b \b-\b \b\\\b \b|\b \b/\b \b-\b \b\\\b \b|\b \b/\b \b-\b \b\\\b \b|\b \b/\b \b-\b \b\\\b \b|\b \b/\b \b-\b \b\\\b \b|\b \b/\b \b-\b \b\\\b \b|\b \b/\b \b-\b \b\\\b \b|\b \b/\b \b-\b \b\\\b \b|\b \b/\b \b-\b \b\\\b \b|\b \b/\b \b-\b \b\\\b \b|\b \b/\b \b-\b \b\\\b \b|\b \b/\b \b-\b \b\\\b \b|\b \b/\b \b-\b \b\\\b \b|\b \b/\b \b-\b \b\\\b \b|\b \b/\b \b-\b \b\\\b \b|\b \b/\b \b-\b \b\\\b \b|\b \b/\b \b-\b \b\\\b \b|\b \b/\b \b-\b \b\\\b \b|\b \b/\b \b-\b \b\\\b \b|\b \b/\b \b-\b \b\\\b \b|\b \b/\b \b-\b \b\\\b \b|\b \b/\b \b-\b \b\\\b \b|\b \b/\b \b-\b \b\\\b \b|\b \b/\b \b-\b \b\\\b \b|\b \b/\b \b-\b \b\\\b \b|\b \b/\b \b-\b \b\\\b \b|\b \b/\b \b-\b \b\\\b \b|\b \b/\b \b-\b \b\\\b \b|\b \b/\b \b-\b \b\\\b \b|\b \b/\b \b-\b \b\\\b \b|\b \b/\b \b-\b \b\\\b \b|\b \b/\b \b-\b \b\\\b \b|\b \b/\b \b-\b \b\\\b \b|\b \b/\b \b-\b \b\\\b \b|\b \b/\b \b-\b \b\\\b \b|\b \b/\b \b-\b \b\\\b \b|\b \b/\b \b-\b \b\\\b \b|\b \b/\b \b-\b \b\\\b \b|\b \b/\b \b-\b \b\\\b \b|\b \b/\b \b-\b \b\\\b \b|\b \b/\b \b-\b \b\\\b \bdone\n",
            "\u001b[?25h  Stored in directory: /root/.cache/pip/wheels/41/d6/02/34eebae97e25f5b87d60f4c0687e00523e3f244fa41bc3f4a7\n",
            "Successfully built python-igraph\n",
            "Installing collected packages: python-igraph\n",
            "Successfully installed python-igraph-0.7.1.post6\n"
          ],
          "name": "stdout"
        }
      ]
    },
    {
      "metadata": {
        "id": "TBtUDl5c1M_f",
        "colab_type": "code",
        "colab": {}
      },
      "cell_type": "code",
      "source": [
        "from operator import itemgetter\n",
        "from concurrent.futures import ProcessPoolExecutor \n",
        "\n",
        "import igraph\n",
        "import summa\n",
        "import pandas as pd\n",
        "\n",
        "import itertools\n",
        "\n",
        "import numpy as np\n",
        "\n",
        "import matplotlib.pyplot as plt\n",
        "%matplotlib inline\n",
        "\n",
        "\n",
        "from nltk.stem import WordNetLemmatizer\n",
        "\n",
        "from sklearn.feature_extraction.text import CountVectorizer\n",
        "from sklearn.preprocessing import OneHotEncoder, MultiLabelBinarizer, LabelEncoder"
      ],
      "execution_count": 0,
      "outputs": []
    },
    {
      "metadata": {
        "id": "gKg_x3TExs92",
        "colab_type": "code",
        "colab": {}
      },
      "cell_type": "code",
      "source": [
        "lemmatizer = WordNetLemmatizer()\n",
        "\n",
        "\n",
        "def stem(text):\n",
        "    return lemmatizer.lemmatize(text)\n",
        "\n",
        "\n",
        "def map_parallel(f, iterable, **kwargs):\n",
        "    with ProcessPoolExecutor() as pool:\n",
        "        result = pool.map(f, iterable, **kwargs)\n",
        "    return result\n",
        "\n",
        "\n",
        "def retrieve_articles(start, chunksize=1000):\n",
        "    return arxiv.query(\n",
        "        search_query=search_query,\n",
        "        start=start,\n",
        "        max_results=chunksize\n",
        "    )"
      ],
      "execution_count": 0,
      "outputs": []
    },
    {
      "metadata": {
        "id": "f8xQFVWExzS0",
        "colab_type": "code",
        "colab": {}
      },
      "cell_type": "code",
      "source": [
        "def vectorize_text(examples_df):\n",
        "\n",
        "    vectorizer = CountVectorizer(min_df=2)\n",
        "    vectorized_data = vectorizer.fit_transform(examples_df['summary'])\n",
        "\n",
        "    le = LabelEncoder()\n",
        "    ohe = OneHotEncoder()\n",
        "    categories_labels = le.fit_transform(valid_example_categories).reshape(-1, 1)\n",
        "    categories_ohe = ohe.fit_transform(categories_labels).todense()\n",
        "    return (vectorized_data, categories_labels, categories_ohe), (ohe, le)\n",
        "\n",
        "\n",
        "def extract_keywords(text):\n",
        "    \"\"\"\n",
        "    Use gensim's textrank-based approach\n",
        "    \"\"\"\n",
        "    return summa.keywords.keywords(\n",
        "        text=text,\n",
        "        split=True\n",
        "    )"
      ],
      "execution_count": 0,
      "outputs": []
    },
    {
      "metadata": {
        "id": "6mY0ypkevT5i",
        "colab_type": "code",
        "colab": {
          "base_uri": "https://localhost:8080/",
          "height": 53
        },
        "outputId": "f85c21be-6758-48a0-de60-19aa2207c859"
      },
      "cell_type": "code",
      "source": [
        "%%time\n",
        "\n",
        "beer_df = pd.read_csv('https://query.data.world/s/ybcjhzas3vxtitpe6lxkxpdrthxc7t')"
      ],
      "execution_count": 12,
      "outputs": [
        {
          "output_type": "stream",
          "text": [
            "CPU times: user 6.98 s, sys: 1.84 s, total: 8.82 s\n",
            "Wall time: 17.5 s\n"
          ],
          "name": "stdout"
        }
      ]
    },
    {
      "metadata": {
        "id": "YUiPvQJ70MWf",
        "colab_type": "text"
      },
      "cell_type": "markdown",
      "source": [
        "## Basic info"
      ]
    },
    {
      "metadata": {
        "id": "bQhWxrvuw1Lx",
        "colab_type": "code",
        "colab": {
          "base_uri": "https://localhost:8080/",
          "height": 35
        },
        "outputId": "71dc6cee-9090-450f-bf02-5644a9e599c3"
      },
      "cell_type": "code",
      "source": [
        "beer_df.shape"
      ],
      "execution_count": 13,
      "outputs": [
        {
          "output_type": "execute_result",
          "data": {
            "text/plain": [
              "(528870, 13)"
            ]
          },
          "metadata": {
            "tags": []
          },
          "execution_count": 13
        }
      ]
    },
    {
      "metadata": {
        "id": "0dxEO-ZQvcMw",
        "colab_type": "code",
        "colab": {
          "base_uri": "https://localhost:8080/",
          "height": 89
        },
        "outputId": "698bbd94-75d9-43be-efef-9be7c0853835"
      },
      "cell_type": "code",
      "source": [
        "beer_df.columns"
      ],
      "execution_count": 14,
      "outputs": [
        {
          "output_type": "execute_result",
          "data": {
            "text/plain": [
              "Index(['beer_ABV', 'beer_beerId', 'beer_brewerId', 'beer_name', 'beer_style',\n",
              "       'review_appearance', 'review_aroma', 'review_overall', 'review_palate',\n",
              "       'review_profileName', 'review_taste', 'review_text', 'review_time'],\n",
              "      dtype='object')"
            ]
          },
          "metadata": {
            "tags": []
          },
          "execution_count": 14
        }
      ]
    },
    {
      "metadata": {
        "id": "92A20md_0QDP",
        "colab_type": "text"
      },
      "cell_type": "markdown",
      "source": [
        "### Unique revievers"
      ]
    },
    {
      "metadata": {
        "id": "CGOEswjpvuBH",
        "colab_type": "code",
        "colab": {
          "base_uri": "https://localhost:8080/",
          "height": 35
        },
        "outputId": "0a951c5c-5826-491f-956c-545e980d19db"
      },
      "cell_type": "code",
      "source": [
        "len(beer_df['review_profileName'].unique())"
      ],
      "execution_count": 15,
      "outputs": [
        {
          "output_type": "execute_result",
          "data": {
            "text/plain": [
              "22801"
            ]
          },
          "metadata": {
            "tags": []
          },
          "execution_count": 15
        }
      ]
    },
    {
      "metadata": {
        "id": "gHN5NKv60SS_",
        "colab_type": "text"
      },
      "cell_type": "markdown",
      "source": [
        "### Styles\n",
        "\n",
        "Number of styles"
      ]
    },
    {
      "metadata": {
        "id": "7kMmFxhyvwPT",
        "colab_type": "code",
        "colab": {
          "base_uri": "https://localhost:8080/",
          "height": 35
        },
        "outputId": "0338c604-64f8-4212-e799-1eb00e48ac53"
      },
      "cell_type": "code",
      "source": [
        "styles = beer_df['beer_style'].unique()\n",
        "len(styles)"
      ],
      "execution_count": 16,
      "outputs": [
        {
          "output_type": "execute_result",
          "data": {
            "text/plain": [
              "104"
            ]
          },
          "metadata": {
            "tags": []
          },
          "execution_count": 16
        }
      ]
    },
    {
      "metadata": {
        "id": "xxtGHsxO0WW3",
        "colab_type": "code",
        "colab": {
          "base_uri": "https://localhost:8080/",
          "height": 1133
        },
        "outputId": "646cd96e-bff1-4fa3-e09d-aac76fc1b958"
      },
      "cell_type": "code",
      "source": [
        "beer_df['beer_style'].value_counts()"
      ],
      "execution_count": 17,
      "outputs": [
        {
          "output_type": "execute_result",
          "data": {
            "text/plain": [
              "American IPA                           43369\n",
              "American Double / Imperial IPA         26106\n",
              "American Double / Imperial Stout       23354\n",
              "American Pale Ale (APA)                20520\n",
              "American Amber / Red Ale               18731\n",
              "Russian Imperial Stout                 17192\n",
              "American Porter                        16601\n",
              "Belgian Strong Dark Ale                15407\n",
              "Fruit / Vegetable Beer                 15148\n",
              "Witbier                                13535\n",
              "Tripel                                 11637\n",
              "American Barleywine                    10108\n",
              "American Adjunct Lager                  9613\n",
              "Belgian Strong Pale Ale                 8796\n",
              "Hefeweizen                              8553\n",
              "English Pale Ale                        7953\n",
              "American Stout                          7868\n",
              "Saison / Farmhouse Ale                  7835\n",
              "American Pale Wheat Ale                 7771\n",
              "American Strong Ale                     7458\n",
              "Dubbel                                  7270\n",
              "Märzen / Oktoberfest                    7012\n",
              "American Brown Ale                      6942\n",
              "Belgian Pale Ale                        6897\n",
              "Oatmeal Stout                           6723\n",
              "English Brown Ale                       6614\n",
              "Scotch Ale / Wee Heavy                  6558\n",
              "Maibock / Helles Bock                   6080\n",
              "Euro Pale Lager                         6028\n",
              "Winter Warmer                           5995\n",
              "                                       ...  \n",
              "California Common / Steam Beer          1507\n",
              "American Malt Liquor                    1411\n",
              "Smoked Beer                             1323\n",
              "Euro Dark Lager                         1232\n",
              "English Strong Ale                      1183\n",
              "Munich Dunkel Lager                     1183\n",
              "Berliner Weissbier                       933\n",
              "Wheatwine                                891\n",
              "Keller Bier / Zwickel Bier               870\n",
              "Chile Beer                               802\n",
              "Euro Strong Lager                        728\n",
              "English Stout                            727\n",
              "Lambic - Unblended                       705\n",
              "English Dark Mild Ale                    608\n",
              "Japanese Rice Lager                      496\n",
              "Bière de Champagne / Bière Brut          433\n",
              "American Dark Wheat Ale                  286\n",
              "Black & Tan                              278\n",
              "English Pale Mild Ale                    222\n",
              "Low Alcohol Beer                         219\n",
              "Scottish Gruit / Ancient Herbed Ale      211\n",
              "Braggot                                  199\n",
              "Kristalweizen                            198\n",
              "Eisbock                                  195\n",
              "Roggenbier                               153\n",
              "Sahti                                    139\n",
              "Kvass                                    118\n",
              "Gose                                      90\n",
              "Happoshu                                  55\n",
              "Faro                                      53\n",
              "Name: beer_style, Length: 104, dtype: int64"
            ]
          },
          "metadata": {
            "tags": []
          },
          "execution_count": 17
        }
      ]
    },
    {
      "metadata": {
        "id": "daXri5497HbK",
        "colab_type": "text"
      },
      "cell_type": "markdown",
      "source": [
        "## Reviews"
      ]
    },
    {
      "metadata": {
        "id": "rGtv4HdX7vYi",
        "colab_type": "code",
        "colab": {}
      },
      "cell_type": "code",
      "source": [
        "review_texts = beer_df['review_text'].dropna()"
      ],
      "execution_count": 0,
      "outputs": []
    },
    {
      "metadata": {
        "id": "HqUnZ4qF8p6w",
        "colab_type": "code",
        "colab": {
          "base_uri": "https://localhost:8080/",
          "height": 53
        },
        "outputId": "9b0cb449-f67d-40c2-f258-94d9ccdff4d9"
      },
      "cell_type": "code",
      "source": [
        "%%time\n",
        "text_lengths = review_texts.str.split().apply(len)"
      ],
      "execution_count": 19,
      "outputs": [
        {
          "output_type": "stream",
          "text": [
            "CPU times: user 13.2 s, sys: 3.53 s, total: 16.7 s\n",
            "Wall time: 16.7 s\n"
          ],
          "name": "stdout"
        }
      ]
    },
    {
      "metadata": {
        "id": "Y_DftydQ9LY3",
        "colab_type": "code",
        "colab": {
          "base_uri": "https://localhost:8080/",
          "height": 265
        },
        "outputId": "61864968-5c2a-407a-8bf2-ed4d3930e90f"
      },
      "cell_type": "code",
      "source": [
        "text_lengths.plot.hist(bins=50);"
      ],
      "execution_count": 20,
      "outputs": [
        {
          "output_type": "display_data",
          "data": {
            "image/png": "[encoded data removed]",
            "text/plain": [
              "<matplotlib.figure.Figure at 0x7f9f9524aef0>"
            ]
          },
          "metadata": {
            "tags": []
          }
        }
      ]
    },
    {
      "metadata": {
        "id": "PXa1_USJ9lux",
        "colab_type": "text"
      },
      "cell_type": "markdown",
      "source": [
        "## Keywords"
      ]
    },
    {
      "metadata": {
        "id": "xGcRMPQGw3PP",
        "colab_type": "code",
        "colab": {
          "base_uri": "https://localhost:8080/",
          "height": 53
        },
        "outputId": "6d638ff4-850c-4979-ca0a-a04d580635b1"
      },
      "cell_type": "code",
      "source": [
        "%%time\n",
        "\n",
        "example_review_keywords = pd.Series(list(map_parallel(extract_keywords, review_texts.loc[:10000])))"
      ],
      "execution_count": 23,
      "outputs": [
        {
          "output_type": "stream",
          "text": [
            "CPU times: user 3.86 s, sys: 526 ms, total: 4.38 s\n",
            "Wall time: 48.6 s\n"
          ],
          "name": "stdout"
        }
      ]
    },
    {
      "metadata": {
        "id": "6QSikiOAyPJR",
        "colab_type": "code",
        "colab": {
          "base_uri": "https://localhost:8080/",
          "height": 1133
        },
        "outputId": "5aa12fd9-405e-49a7-c56c-5f5a91207a4f"
      },
      "cell_type": "code",
      "source": [
        "example_review_keywords"
      ],
      "execution_count": 24,
      "outputs": [
        {
          "output_type": "execute_result",
          "data": {
            "text/plain": [
              "0                                                [lactic]\n",
              "1                                 [light, red, drinkable]\n",
              "2                                   [light, roast, black]\n",
              "3                                     [good, fresh, note]\n",
              "4       [beer, cauldron, brass, copper, citrus, profil...\n",
              "5       [definitely, finish, like, liked, white, head,...\n",
              "6       [ginger, nice, simple, aromas, beer, caramel, ...\n",
              "7       [light, malt, beer, beers, white, summer, soun...\n",
              "8              [cheap, golden, head, good, normal, lager]\n",
              "9       [lager, lagers, mysterious, dense, hop, soft, ...\n",
              "10      [beer, taste, tasting, macro, straw, thing, as...\n",
              "11      [white, ale, beer, aroma sharply, clear, taste...\n",
              "12               [light, honey, good, ginger, fruitiness]\n",
              "13      [good, beer, belgium, golden, white, trade, re...\n",
              "14                  [lacking, flavor, flavors, chocolate]\n",
              "15      [quality, bacterial, tap, taps, ashland, doesn...\n",
              "16      [light, tasted, taste, orange, bitter, aggress...\n",
              "17      [smoked, smoke, light, slowly, mouthfeel, rauc...\n",
              "18         [slightly, sudsy, vinegar, fine, ruddy, smoke]\n",
              "19      [sweet, sweetness, good, hard, tn, area, upfro...\n",
              "20                            [scent, smoked, head, like]\n",
              "21                   [good, goodness, meat, smoked, beef]\n",
              "22      [smoked, smoke, bready, light, creamy, hoppy, ...\n",
              "23        [smokes, rich, bacon, smoke cured, feel, feels]\n",
              "24      [caramel, smoked, character, white, medium, me...\n",
              "25                [nicely, nice, great, smoked pork, big]\n",
              "26      [smoke, smoked, big, savory, wants, poured, pour]\n",
              "27      [smoke, smoked, house, flavor, brown, white, h...\n",
              "28      [solid, body, bodied, malt, head, caramel, smo...\n",
              "29      [smoke, smoked, sweetness, sweet, peppery, ric...\n",
              "                              ...                        \n",
              "9969            [pint, copper, malty, adding, bitterness]\n",
              "9970    [lightly, light orange, traces, beer, beers, j...\n",
              "9971                  [malts, malt, nice, smooth, medium]\n",
              "9972                [nutty, slight, actually, definitely]\n",
              "9973    [beer, beers, bitters, losses, balanced bitter...\n",
              "9974    [moderate, flavor moderately, brown bottle, ex...\n",
              "9975    [sweet, coming, comes, bitter, served, foamy, ...\n",
              "9976    [white, lurvely, caramel, oxfordshire, like ma...\n",
              "9977                                                   []\n",
              "9978    [malt, cask, brown, white, note, condition, no...\n",
              "9979    [sweet, looked, glass, bitter, bitterness, bro...\n",
              "9980                [bottle, truely, english, incredibly]\n",
              "9981    [beer, beers, town, british, strong, poured, g...\n",
              "9982    [caramel malt, medium amber, bittersweet finis...\n",
              "9983    [bitter, beer, bath, pours, pour, aroma, malts...\n",
              "9984    [hops, sweet, sweetness, include, bitter hop, ...\n",
              "9985                 [orange, sweetness, american, amber]\n",
              "9986                        [bottle, absolutely, session]\n",
              "9987    [like, feel, feeling, head, conditioned, drink...\n",
              "9988                [toast, dark, little, wood, hazlenut]\n",
              "9989    [toasty, beer, nice, flavor, carbonation, arom...\n",
              "9990    [sweet, head, headed, hops, craft, better, spe...\n",
              "9991              [good, hop, hops, longish, beer, brown]\n",
              "9992    [soft, sweet, hazel, fine, center, brit, cloud...\n",
              "9993                              [pretty, stuff, abrupt]\n",
              "9994    [bitter, like apple, orange, hint, changing hi...\n",
              "9995                          [bottle, light, hazy amber]\n",
              "9996    [slightly, slight metallic, ordinary, light, a...\n",
              "9997    [conditioned, pour, maybe, diacetyl, apricots,...\n",
              "9998    [bottle, whatsoever, bready, add, incredibly, ...\n",
              "Length: 9999, dtype: object"
            ]
          },
          "metadata": {
            "tags": []
          },
          "execution_count": 24
        }
      ]
    },
    {
      "metadata": {
        "id": "pjxubX6g-PSZ",
        "colab_type": "code",
        "colab": {
          "base_uri": "https://localhost:8080/",
          "height": 265
        },
        "outputId": "1ecad125-1d1a-4545-ac41-1ec081b9f62f"
      },
      "cell_type": "code",
      "source": [
        "example_keyword_lengths = example_review_keywords.apply(len)\n",
        "max_keywords_length = example_keyword_lengths.max()\n",
        "example_keyword_lengths.plot.hist(bins=max_keywords_length);"
      ],
      "execution_count": 25,
      "outputs": [
        {
          "output_type": "display_data",
          "data": {
            "image/png": "[encoded data removed]",
            "text/plain": [
              "<matplotlib.figure.Figure at 0x7f9f5a5196a0>"
            ]
          },
          "metadata": {
            "tags": []
          }
        }
      ]
    }
  ]
}